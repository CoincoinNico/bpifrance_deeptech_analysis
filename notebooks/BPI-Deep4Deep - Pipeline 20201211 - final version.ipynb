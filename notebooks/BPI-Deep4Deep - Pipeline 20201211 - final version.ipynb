{
 "cells": [
  {
   "cell_type": "code",
   "execution_count": 45,
   "metadata": {
    "ExecuteTime": {
     "end_time": "2020-12-15T17:32:45.438315Z",
     "start_time": "2020-12-15T17:32:45.399483Z"
    }
   },
   "outputs": [
    {
     "name": "stdout",
     "output_type": "stream",
     "text": [
      "The autoreload extension is already loaded. To reload it, use:\n",
      "  %reload_ext autoreload\n"
     ]
    }
   ],
   "source": [
    "%load_ext autoreload\n",
    "%autoreload 2"
   ]
  },
  {
   "cell_type": "code",
   "execution_count": 2,
   "metadata": {
    "ExecuteTime": {
     "end_time": "2020-12-15T17:21:44.958176Z",
     "start_time": "2020-12-15T17:21:38.484766Z"
    }
   },
   "outputs": [],
   "source": [
    "import pandas as pd\n",
    "import numpy as np\n",
    "import json\n",
    "import re\n",
    "from sklearn.impute import SimpleImputer\n",
    "from sklearn.preprocessing import OneHotEncoder, RobustScaler\n",
    "import matplotlib.pyplot as plt"
   ]
  },
  {
   "cell_type": "markdown",
   "metadata": {
    "heading_collapsed": true
   },
   "source": [
    "# Convert the json data in string (transformed by the pd.read_csv) to dict"
   ]
  },
  {
   "cell_type": "code",
   "execution_count": 3,
   "metadata": {
    "ExecuteTime": {
     "end_time": "2020-12-15T17:21:45.133285Z",
     "start_time": "2020-12-15T17:21:44.977940Z"
    },
    "hidden": true
   },
   "outputs": [],
   "source": [
    "def load_json_field(bad_json):\n",
    "    regex = r\"\\w\\'\\w\"\n",
    "    subst = \"\"\n",
    "    bad_json = re.sub(regex, subst, bad_json)\n",
    "    bad_json = bad_json.replace(\"d' Arrouzat\", \"darrouzat\")\n",
    "    good_json = bad_json.replace(\"\\'\", \"\\\"\").replace(\"None\", \"null\").replace(\"True\", \"true\").replace(\"False\", \"false\")\n",
    "    \n",
    "    return json.loads(good_json)"
   ]
  },
  {
   "cell_type": "code",
   "execution_count": 4,
   "metadata": {
    "ExecuteTime": {
     "end_time": "2020-12-15T17:21:47.791835Z",
     "start_time": "2020-12-15T17:21:45.139180Z"
    },
    "hidden": true
   },
   "outputs": [],
   "source": [
    "data = pd.read_csv(\"../bpideep/rawdata/data2020-12-03.csv\")\n",
    "\n",
    "#these are the columns for which load_json_field is needed\n",
    "data[\"team\"] = data[\"team\"].apply(load_json_field)\n",
    "data[\"industries\"] = data[\"industries\"].apply(load_json_field)\n",
    "data[\"investors\"] = data[\"investors\"].apply(load_json_field)\n",
    "data[\"fundings\"] = data[\"fundings\"].apply(load_json_field)"
   ]
  },
  {
   "cell_type": "markdown",
   "metadata": {},
   "source": [
    "# Import data + data cleaning (imputing missing values with info retrieved from Linkedin or with our own method)"
   ]
  },
  {
   "cell_type": "markdown",
   "metadata": {
    "heading_collapsed": true
   },
   "source": [
    "## DATA CLEANING"
   ]
  },
  {
   "cell_type": "code",
   "execution_count": 5,
   "metadata": {
    "ExecuteTime": {
     "end_time": "2020-12-15T17:21:47.912759Z",
     "start_time": "2020-12-15T17:21:47.797952Z"
    },
    "hidden": true
   },
   "outputs": [],
   "source": [
    "def impute_missing_launch_year(data):\n",
    "    \"\"\" \n",
    "    function that replaces the missing launch year value\n",
    "    for 33 companies which do not have growth_stage either\n",
    "    \"\"\"\n",
    "\n",
    "    names = ['Amypore',\n",
    "             'Kinnov Therapeutics',\n",
    "             'Lipofabrik',\n",
    "             'Step pharma',\n",
    "             'LiMM Therapeutics',\n",
    "             'Ilek',\n",
    "             'LysPackaging',\n",
    "             'TexiSense',\n",
    "             \"Institut de Prise en Charge de l'Obésité\",\n",
    "             'Izi Family',\n",
    "             'Arthur Dupuy',\n",
    "             'Gen.Orph',\n",
    "             'Uniris',\n",
    "             'NANOZ',\n",
    "             'Akwatyx',\n",
    "             'Black-line',\n",
    "             'Eyye',\n",
    "             \"O'Sol\",\n",
    "             'Treenox',\n",
    "             'Aqualeg',\n",
    "             'Co-assit',\n",
    "             'Wind my roof',\n",
    "             'APPARTOO',\n",
    "             'BimBamJob',\n",
    "             'Buddytherobot.com',\n",
    "             'Bcm',\n",
    "             'CCI Paris Ile de France',\n",
    "             'Datarocks',\n",
    "             'EFFICIENCIA',\n",
    "             'EONEF',\n",
    "             'FEALINX',\n",
    "             'INERIS',\n",
    "             'Marguerite',\n",
    "             'TokTokDoc',\n",
    "             'Novaquark',\n",
    "             'Peopeo',\n",
    "             'Sloclap',\n",
    "             'Swift',\n",
    "             'Sword',\n",
    "             'XT-VISION',\n",
    "             'Ryax',\n",
    "             'Sylha',\n",
    "             'Opta LP']\n",
    "\n",
    "    launch_years = [2018, 2015, 2012, 2014, 2018, 2016, 2015, 2010, 2011, 2016, 2015, \n",
    "                   2012, 2017, 2012, 2015, 2017, 2016, 2016, 2018, 2011, 2016, 2018, 2015, 2015, 2014, 2014, 2013,\n",
    "                   2014, 2012, 2016, 1997, 1990, 2012, 2016, 2014, 2017, 2015, 1973, 2000, 2011, 2017, 2019, 2013]\n",
    "\n",
    "    zipbObj = zip(names, launch_years)\n",
    "    launch_year_dict = dict(zipbObj)\n",
    "\n",
    "    data[\"launch_year_clean\"] = data['launch_year']\n",
    "    \n",
    "    for name, year in launch_year_dict.items() : \n",
    "        data.loc[data.name == name, \"launch_year_clean\"] = year\n",
    "    return data\n",
    "\n",
    "def get_growth_dict(df):\n",
    "    \"\"\" \n",
    "    function that creates a dictionary \n",
    "    giving the mode of the growth_stage\n",
    "    according to the launch_year of all companies in the dataset\n",
    "    \"\"\"\n",
    "    \n",
    "    table = df[[\"growth_stage\", \"launch_year_clean\", \"id\"]].groupby(by=[\"launch_year_clean\", \"growth_stage\"]).count()\n",
    "    column = list(table.unstack(level = -1).columns)\n",
    "    growth_dict = table.unstack(level = -1).fillna(0).apply(lambda x: column[x.argmax()][1], axis = 1).to_dict()\n",
    "    \n",
    "    return growth_dict\n",
    "    \n",
    "\n",
    "def fill_missing_growth(growth_dict, growth_stage, launch_year_clean):\n",
    "    \"\"\" \n",
    "    function that fills all the missing growth stage\n",
    "    according to the company's launch year\n",
    "    based on the dictionary created thanks to the function get_growth_dict() \n",
    "    \"\"\"\n",
    "\n",
    "    if type(growth_stage) == str:\n",
    "        return growth_stage    \n",
    "    elif launch_year_clean in growth_dict:\n",
    "        return growth_dict[launch_year_clean]\n",
    "    else:\n",
    "        return growth_stage\n",
    "    \n",
    "    \n",
    "def load_json_field(bad_json):\n",
    "    \"\"\" \n",
    "    function that transforms the type of the cells \n",
    "    from string to dictionary as the pd.read_csv converts\n",
    "    the dictionary to string (use it only in notebooks)\n",
    "    \"\"\"\n",
    "    \n",
    "    regex = r\"\\w\\'\\w\"\n",
    "    subst = \"\"\n",
    "    bad_json = re.sub(regex, subst, bad_json)\n",
    "    bad_json = bad_json.replace(\"d' Arrouzat\", \"darrouzat\")\n",
    "    good_json = bad_json.replace(\"\\'\", \"\\\"\").replace(\"None\", \"null\").replace(\"True\", \"true\").replace(\"False\", \"false\")\n",
    "    \n",
    "    return json.loads(good_json)\n",
    "\n",
    "\n",
    "def get_industries(x):\n",
    "    '''\n",
    "    function that extracts info from 'industries' column through mapping\n",
    "    data['industries_list'] = data['industries'].map(lambda x: industries(x))\n",
    "    '''\n",
    "    industries_list = []\n",
    "    \n",
    "    industries = x.apply(load_json_field)\n",
    "\n",
    "    for u in range(len(industries)):\n",
    "        if len(industries[u]) > 0:\n",
    "            industries_list.append(industries[u][0]['name'])\n",
    "        else:\n",
    "            industries_list.append(\"\")\n",
    "    return industries_list\n",
    "\n",
    "def get_health(x):\n",
    "    '''\n",
    "    function that encodes :\n",
    "    - 0 if \"health\" is not part of the industry list created by the function \"get_industries\"\n",
    "    - 1 if \"health\" is part of the industry list \n",
    "    '''\n",
    "    industries = get_industries(x) # list of industries\n",
    "\n",
    "    health_industry = []\n",
    "    \n",
    "    for element in industries:\n",
    "        if element == 'health':\n",
    "            health_industry.append(1)\n",
    "        else:\n",
    "            health_industry.append(0)\n",
    "    return health_industry\n",
    "\n",
    "def investors_type(x) :\n",
    "    '''\n",
    "    function that extracts info from 'investors' column \n",
    "    '''\n",
    "    investors_list = []\n",
    "    investors = x\n",
    "    if investors['total'] > 0 :\n",
    "        for y in range(len(investors['items'])):\n",
    "                investors_list.append(investors['items'][y]['type'])\n",
    "    return investors_list\n",
    "\n",
    "\n",
    "def fund_investors(x):\n",
    "    \"\"\"\n",
    "    function that encodes :\n",
    "    - 1 if the selected investors are part of the list created by the function investors_type()\n",
    "    - 0 if not\n",
    "    \n",
    "    If needed, the selected investors can be modified. You can choose among the following :\n",
    "        list_investor_type = ['fund',\n",
    "                             'investor',\n",
    "                             'corporate',\n",
    "                             'government_nonprofit',\n",
    "                             'service_provider',\n",
    "                             'company',\n",
    "                             'crowdfunding',\n",
    "                             'workspace']\n",
    "    \"\"\"\n",
    "    \n",
    "    \n",
    "    for row in range(len(x)):\n",
    "        if \"fund\" in x[\"investors_type\"][row] or \"investors\" in x[\"investors_type\"][row] :\n",
    "            x[\"investors_type\"][row] = 1\n",
    "\n",
    "        else :\n",
    "            x[\"investors_type\"][row] = 0\n",
    "    return x\n",
    "\n",
    "\n"
   ]
  },
  {
   "cell_type": "markdown",
   "metadata": {},
   "source": [
    "## GET_CLEAN_DATA"
   ]
  },
  {
   "cell_type": "markdown",
   "metadata": {},
   "source": [
    "save the data accordingly :\n",
    "\n",
    "- folder \"rawdata\" : dataset extracted from Dealroom\n",
    "- folder \"data\" : missing_employee_count and technical profile info scraped from LinkedIn, patents dataset "
   ]
  },
  {
   "cell_type": "code",
   "execution_count": 6,
   "metadata": {
    "ExecuteTime": {
     "end_time": "2020-12-15T17:21:47.992441Z",
     "start_time": "2020-12-15T17:21:47.917974Z"
    }
   },
   "outputs": [],
   "source": [
    "class GetCleanData():\n",
    "\n",
    "    \"\"\"\n",
    "    GetData.get_data() is a function that returns a clean dataset which is already saved in the folder 'rawdata'\n",
    "    (imputing missing values thanks to manual imputing, LinkedIn, and creating new features)\n",
    "    \"\"\"\n",
    "    \n",
    "    def get_clean_data():\n",
    "        \n",
    "        #1. Use the function Getfulldata to get an updated dataset from Dealroom \n",
    "        #2. Save the updated dataset in the folder 'rawdata'\n",
    "        #3. Load the dataset (please rename the csv file below)\n",
    "        data = pd.read_csv(\"../bpideep/rawdata/data2020-12-03_with_corrections.csv\")\n",
    "        \n",
    "        #4. Select only the firms labeled 'deeptech' or 'non_deeptech'\n",
    "        data = data[data.deep_or_not != \"almost_deeptech\"]\n",
    "\n",
    "        \n",
    "        #5. Select the needed columns\n",
    "        data = data[[\"id\", \"name\", \"target\", \"deep_or_not\", \"total_funding_source\", \"employees\",\n",
    "                     \"employees_latest\", \"launch_year\", \"growth_stage\", \"linkedin_url\", \"industries\", \"investors\"]]\n",
    "\n",
    "\n",
    "        #6. Drop 2 duplicated companies Lalilo and Pixyl (cf. the explanation below)\n",
    "        data.drop(data[(data.id == 1787891) | (data.id == 1893232)].index, inplace = True)\n",
    "        \n",
    "        #7. Harmonizing the growth stage : change the \"not meaningful\" growth stage status of 15789 Insoft to mature\n",
    "        data.loc[data.id == 15789, \"growth_stage\"] = \"mature\"\n",
    "        \n",
    "        #8. Imputing the missing launch year (only 33 done manually -> to be automatized if a new source displays it)\n",
    "        impute_missing_launch_year(data)\n",
    "        \n",
    "        #9. Imputing missing growth_stage (with the mode of the launch year)\n",
    "        growth_table = get_growth_dict(data)\n",
    "        data['growth_stage_imputed'] = data.apply(lambda row: fill_missing_growth(\n",
    "                growth_table,\n",
    "                row['growth_stage'], \n",
    "                row['launch_year_clean']), \n",
    "            axis=1\n",
    "        )\n",
    "        \n",
    "        #10. Imputing missing employees values from LinkedIn scraping\n",
    "        missing = pd.read_csv(\"../bpideep/data/missing_employee_count.csv\")\n",
    "        data[\"employees_clean\"] = data.employees_latest\n",
    "        data.loc[data.name == \"CCI Paris Ile de France\", \"employees_clean\"] = 1793\n",
    "\n",
    "        for url in missing.linkedin_url:\n",
    "            replace_value = missing[missing.linkedin_url == url][\"check\"].iloc[0]\n",
    "            data.loc[data.linkedin_url == url, \"employees_clean\"] = replace_value\n",
    "        \n",
    "        #11. Computing the age of companies\n",
    "        data[\"age\"] = 2020 - data.launch_year_clean\n",
    "        \n",
    "        \n",
    "        #12. Get the number of patents (from Google Patents)\n",
    "        patent = pd.read_csv(\"../bpideep/data/patents.csv\")\n",
    "        data = pd.merge(data, patent, on=\"id\", how = \"left\")\n",
    "        \n",
    "        #13. Create a new feature \"investors_type\"\n",
    "        data[\"investors\"] = data[\"investors\"].apply(load_json_field)\n",
    "        data[\"investors_type\"] = pd.DataFrame(data[\"investors\"].apply(lambda row: investors_type(row)))\n",
    "        data[\"investors_type\"] = fund_investors(data[[\"investors_type\"]])\n",
    "        \n",
    "        #14. Create a new feature \"health_industry\"  \n",
    "        data[\"health_industry\"] = pd.DataFrame(get_health(data[\"industries\"]))\n",
    "        \n",
    "        #15. Get if the compagny has a doctor or no + proportion of technical among the employees (from Linkedin)\n",
    "        #the column \"No_people_input\" tells the model whether the info was present on LinkedIn\n",
    "        doctors = pd.read_csv(\"../bpideep/data/extra_features.csv\").drop(columns = \"Unnamed: 0\")[[\"id\", \"company_has_phd\"]]\n",
    "        doctors2 = pd.read_csv(\"../bpideep/data/extra_features_v2.csv\").drop(columns = \"Unnamed: 0\")[[\"id\",\n",
    "                                                                                                      \"proportion_technical\", \n",
    "                                                                                                      \"founder_from_institute\",\n",
    "                                                                                                      \"founder_has_phd\"]]\n",
    "        \n",
    "        data = data.merge(doctors, on = \"id\", how = \"left\")\n",
    "        data = data.merge(doctors2, on = \"id\", how = \"left\")\n",
    "        \n",
    "        data[\"No_people_input\"] = 0\n",
    "        data.loc[data.proportion_technical.isna(), \"No_people_input\"] = 1\n",
    "        \n",
    "        \n",
    "        data[[\"proportion_technical\", \"founder_from_institute\",\"founder_has_phd\"]] = data[[\n",
    "            \"proportion_technical\", \"founder_from_institute\",\"founder_has_phd\"]].fillna(0)\n",
    "        \n",
    "        return data\n",
    "\n",
    "#         *    \n",
    "#                 + 3 duplicated names but with different id : \n",
    "#                     1/ Lalilo : 926521 (http://www.lalilo.com/) vs. 1787891 (http://lalilo.fr) \n",
    "#             -> same launch date, french website no longer exists + observation  almost filled by NAN + same obs as the .com \n",
    "#             -> drop the french Lalilo (1787891)\n",
    "#                     2/ Pixyl : 892048 vs 1893232 (different websites mentioned but same website page when launched) \n",
    "#             -> kept  892048 because more info + the Dealroom profile was verified by Dealroom team on Sept, 1st 2020 vs. pending verification\n",
    "#                     3/ NANOZ : 1836121 vs 1660543 -> kept both as different companies but the second one is German "
   ]
  },
  {
   "cell_type": "code",
   "execution_count": 7,
   "metadata": {
    "ExecuteTime": {
     "end_time": "2020-12-15T17:21:49.606584Z",
     "start_time": "2020-12-15T17:21:47.998395Z"
    }
   },
   "outputs": [
    {
     "name": "stderr",
     "output_type": "stream",
     "text": [
      "<ipython-input-6-a7615c61554e>:62: SettingWithCopyWarning: \n",
      "A value is trying to be set on a copy of a slice from a DataFrame\n",
      "\n",
      "See the caveats in the documentation: https://pandas.pydata.org/pandas-docs/stable/user_guide/indexing.html#returning-a-view-versus-a-copy\n",
      "  data[\"investors_type\"] = fund_investors(data[[\"investors_type\"]])\n"
     ]
    }
   ],
   "source": [
    "data = GetCleanData.get_clean_data()\n",
    "X = data.drop(columns = [\"target\", \"deep_or_not\"])\n",
    "y = data.target"
   ]
  },
  {
   "cell_type": "markdown",
   "metadata": {},
   "source": [
    "# PIPELINE"
   ]
  },
  {
   "cell_type": "markdown",
   "metadata": {},
   "source": [
    "##### employees imputing  : age"
   ]
  },
  {
   "cell_type": "code",
   "execution_count": 8,
   "metadata": {
    "ExecuteTime": {
     "end_time": "2020-12-15T17:21:49.647044Z",
     "start_time": "2020-12-15T17:21:49.611320Z"
    }
   },
   "outputs": [],
   "source": [
    "import re\n",
    "import math\n",
    "from sklearn.base import BaseEstimator, TransformerMixin\n",
    "\n",
    "\n",
    "def average_list(range_list):\n",
    "    \"\"\"\n",
    "    function that returns the mean of employees \n",
    "    it is used to compute the value of the dictionary with the range as a key (column \"employees\")\n",
    "    \"\"\"\n",
    "    return sum(range_list)/len(range_list)\n",
    "\n",
    "def compute_employees_mean(data):\n",
    "    \"\"\"\n",
    "    function that creates a dictionary \n",
    "    which is used for imputing missing employees number \n",
    "    according the employees range of the company if it is mentioned\n",
    "    column \"employees\"\n",
    "    \"\"\"\n",
    "    \n",
    "    range_list = list(data.employees.unique())\n",
    "    try:\n",
    "        range_list.remove(\"n.a.\")\n",
    "    except:\n",
    "        pass\n",
    "    keys_list = []\n",
    "    means_list = []\n",
    "\n",
    "    for i in range(len(range_list)) :\n",
    "        if type(range_list[i]) == str :\n",
    "            temp = re.findall(r'\\d+', range_list[i]) \n",
    "            res = list(map(int, temp)) \n",
    "            mean = average_list(res)\n",
    "            means_list.append(mean)\n",
    "            keys_list.append(range_list[i])\n",
    "        else:\n",
    "            pass\n",
    "\n",
    "    zip_iterator = zip(keys_list, means_list)\n",
    "    range_dict = dict(zip_iterator)\n",
    "    \n",
    "    return range_dict\n",
    "\n",
    "def replace_employees(df):\n",
    "    \"\"\"\n",
    "    function that replaces the missing employees value\n",
    "    by the mean of the range indicated in the column \"employees\"\n",
    "    \"\"\"\n",
    "\n",
    "    dictionary = compute_employees_mean(df)\n",
    "    for key, value in dictionary.items():\n",
    "        df.loc[(df.employees == key) & (df.employees_latest.isna()), \"employees_clean\"] = value\n",
    "    return df\n",
    "            \n",
    "            \n",
    "class EmployeeImputer(BaseEstimator, TransformerMixin):\n",
    "    \n",
    "    \"\"\"\n",
    "    Customized imputer : impute the missing values in the column \"employees_latest\" in 3 steps \n",
    "        1. impute the missing employees number by the mean of the range if the range is indicated (column \"employees\")\n",
    "        2. for the companies launched after 2010 \n",
    "            -> impute according to the median of the companies launched after 2010\n",
    "        3. for the companies launched before 2010 or which do not have a launch year\n",
    "            -> impute according to the median of the dataset \n",
    "    \"\"\"\n",
    "    \n",
    "    def fit(self, X, y=None):\n",
    "        \n",
    "        # create the dictionary to impute the missing employees number according to the range mean\n",
    "        data = X.copy()\n",
    "        data = replace_employees(data)\n",
    "        \n",
    "        self.yg_median = data[[\"employees_clean\", \"launch_year_clean\"]].groupby(by=[\"launch_year_clean\"]).median()\n",
    "        self.years = data.launch_year_clean.unique()\n",
    "        self.years = [nb for nb in self.years if nb >= 2010]\n",
    "\n",
    "        return self\n",
    "    \n",
    "    def transform(self, X, y=None):\n",
    "        # 1. impute the missing employees number by the mean of the range if the range is indicated (column \"employees\")\n",
    "        X = replace_employees(X)\n",
    "        \n",
    "        # 2. for the companies launched after 2010 : impute according to the median of the companies launched after 2010\n",
    "        for year in self.years:\n",
    "            replace_value = self.yg_median.loc[(year)][0]\n",
    "            boolean_condition = ((X.launch_year_clean == year) & (X.employees_clean.isna()))\n",
    "            X.loc[boolean_condition, \"employees_clean\"] = replace_value\n",
    "        \n",
    "        # 3. for the companies launched before 2010 or the company that has no launch year : impute according to the median of the dataset \n",
    "        median_all_dataset = X[X.launch_year_clean.notna()][[\"employees_clean\"]].median()\n",
    "        X.loc[X.employees_clean.isna(), \"employees_clean\"] = replace_value\n",
    "\n",
    "        return X"
   ]
  },
  {
   "cell_type": "markdown",
   "metadata": {},
   "source": [
    "##### Patent_transformer"
   ]
  },
  {
   "cell_type": "code",
   "execution_count": 9,
   "metadata": {
    "ExecuteTime": {
     "end_time": "2020-12-15T17:21:49.682545Z",
     "start_time": "2020-12-15T17:21:49.650825Z"
    }
   },
   "outputs": [],
   "source": [
    "from sklearn.pipeline import make_pipeline\n",
    "\n",
    "patent_transformer = make_pipeline(\n",
    "                                SimpleImputer(missing_values=np.nan, strategy='constant', fill_value = 0),\n",
    "                                RobustScaler())"
   ]
  },
  {
   "cell_type": "markdown",
   "metadata": {},
   "source": [
    "##### Ratio_transformer  : funding / employees ratio"
   ]
  },
  {
   "cell_type": "code",
   "execution_count": 10,
   "metadata": {
    "ExecuteTime": {
     "end_time": "2020-12-15T17:21:49.720035Z",
     "start_time": "2020-12-15T17:21:49.686367Z"
    }
   },
   "outputs": [],
   "source": [
    "from sklearn.preprocessing import FunctionTransformer\n",
    "\n",
    "funding_employees_ratio_constructor = FunctionTransformer(\n",
    "    lambda df: pd.DataFrame(df[\"total_funding_source\"] / df[\"employees_clean\"]))\n"
   ]
  },
  {
   "cell_type": "code",
   "execution_count": 11,
   "metadata": {
    "ExecuteTime": {
     "end_time": "2020-12-15T17:21:49.756574Z",
     "start_time": "2020-12-15T17:21:49.722429Z"
    }
   },
   "outputs": [],
   "source": [
    "from sklearn.pipeline import Pipeline\n",
    "\n",
    "ratio_transformer = Pipeline([\n",
    "    (\"imputer1\", EmployeeImputer()),\n",
    "    (\"ratio\", funding_employees_ratio_constructor),\n",
    "    (\"scaler\",  RobustScaler())\n",
    "])"
   ]
  },
  {
   "cell_type": "markdown",
   "metadata": {},
   "source": [
    "##### Growth_transformer"
   ]
  },
  {
   "cell_type": "markdown",
   "metadata": {},
   "source": [
    "###### Age imputer"
   ]
  },
  {
   "cell_type": "code",
   "execution_count": 12,
   "metadata": {
    "ExecuteTime": {
     "end_time": "2020-12-15T17:21:49.794414Z",
     "start_time": "2020-12-15T17:21:49.759161Z"
    }
   },
   "outputs": [],
   "source": [
    "age_imputer = make_pipeline(SimpleImputer(missing_values=np.nan, strategy='mean'))"
   ]
  },
  {
   "cell_type": "markdown",
   "metadata": {},
   "source": [
    "###### Growth stage Transformer (1-4)"
   ]
  },
  {
   "cell_type": "code",
   "execution_count": 13,
   "metadata": {
    "ExecuteTime": {
     "end_time": "2020-12-15T17:21:49.830071Z",
     "start_time": "2020-12-15T17:21:49.797044Z"
    }
   },
   "outputs": [],
   "source": [
    "dictionary = {'mature' : 4, 'late growth' : 3,'early growth' : 2, 'seed' : 1}\n",
    "\n",
    "\n",
    "growth_stage_transformer = FunctionTransformer(\n",
    "    lambda df: df[['growth_stage_imputed']].applymap(lambda x: dictionary[x]))\n"
   ]
  },
  {
   "cell_type": "code",
   "execution_count": 14,
   "metadata": {
    "ExecuteTime": {
     "end_time": "2020-12-15T17:21:49.882151Z",
     "start_time": "2020-12-15T17:21:49.833497Z"
    }
   },
   "outputs": [],
   "source": [
    "from sklearn.compose import ColumnTransformer\n",
    "\n",
    "growth_stage_age_preparator = ColumnTransformer([\n",
    "    [\"age_imputer\", age_imputer, [\"age\"]],\n",
    "    [\"growth_stage_transformer\", growth_stage_transformer, [\"growth_stage_imputed\"]],\n",
    "])"
   ]
  },
  {
   "cell_type": "markdown",
   "metadata": {},
   "source": [
    "###### Growth_stage_age_ratio"
   ]
  },
  {
   "cell_type": "code",
   "execution_count": 15,
   "metadata": {
    "ExecuteTime": {
     "end_time": "2020-12-15T17:21:49.924176Z",
     "start_time": "2020-12-15T17:21:49.885067Z"
    }
   },
   "outputs": [],
   "source": [
    "def compute_growth_age_ratio(arr):\n",
    "    arr[arr[:,0]== 0, 0] = 1\n",
    "    return np.expand_dims(arr[:,1]/arr[:,0], -1)\n",
    "\n",
    "growth_stage_age_ratio_constructor = FunctionTransformer(compute_growth_age_ratio)\n"
   ]
  },
  {
   "cell_type": "code",
   "execution_count": 16,
   "metadata": {
    "ExecuteTime": {
     "end_time": "2020-12-15T17:21:49.963208Z",
     "start_time": "2020-12-15T17:21:49.928884Z"
    }
   },
   "outputs": [],
   "source": [
    "growth_transformer = Pipeline([\n",
    "    [\"growth_stage_age_preparator\", growth_stage_age_preparator], \n",
    "    [\"growth_stage_age_ratio_constructor\", growth_stage_age_ratio_constructor],\n",
    "])"
   ]
  },
  {
   "cell_type": "markdown",
   "metadata": {},
   "source": [
    "##### Health industry, investors_type, company_has_phd, proportion_technical, No_people_input, founder_from_institute, founder_has_phd"
   ]
  },
  {
   "cell_type": "code",
   "execution_count": 17,
   "metadata": {
    "ExecuteTime": {
     "end_time": "2020-12-15T17:21:49.999642Z",
     "start_time": "2020-12-15T17:21:49.967414Z"
    }
   },
   "outputs": [],
   "source": [
    "class NoTransformer(BaseEstimator, TransformerMixin):\n",
    "    \"\"\"\n",
    "    Customized identity transformer\n",
    "    \"\"\"\n",
    "    def fit(self, X, y=None):\n",
    "        return self\n",
    "\n",
    "    def transform(self, X):\n",
    "        return X\n",
    "\n",
    "    \n",
    "No_Transformer = ColumnTransformer([\n",
    "    [\"health_notransformer\", NoTransformer(), [\"health_industry\"]],\n",
    "    [\"fund_investor_notransformer\", NoTransformer(), [\"investors_type\"]],\n",
    "    [\"doctor_notransformer\", NoTransformer(), [\"company_has_phd\"]],\n",
    "    [\"technical_notransformer\", NoTransformer(), [\"proportion_technical\"]],\n",
    "    [\"no_people_input_notransformer\", NoTransformer(), [\"No_people_input\"]],\n",
    "    [\"founder_from_institute_notransformer\", NoTransformer(), [\"founder_from_institute\"]],\n",
    "    [\"founder_has_phd_notransformer\", NoTransformer(), [\"founder_has_phd\"]],\n",
    "])\n"
   ]
  },
  {
   "cell_type": "markdown",
   "metadata": {},
   "source": [
    "##### Preprocessor"
   ]
  },
  {
   "cell_type": "code",
   "execution_count": 18,
   "metadata": {
    "ExecuteTime": {
     "end_time": "2020-12-15T17:21:50.043909Z",
     "start_time": "2020-12-15T17:21:50.002757Z"
    }
   },
   "outputs": [],
   "source": [
    "from sklearn import set_config; set_config(display='diagram')\n",
    "from sklearn.compose import ColumnTransformer\n",
    "\n",
    "preprocessor = ColumnTransformer([\n",
    "    (\"growth_transformer\", growth_transformer, [\"growth_stage_imputed\", \"age\"]),\n",
    "    (\"ratio_transformer\", ratio_transformer, [\"employees_clean\", \"employees\", \"launch_year_clean\", \"employees_latest\", \"total_funding_source\"]),\n",
    "    (\"patent_transformer\", patent_transformer, [\"nb_patents\"]),\n",
    "    (\"identity\", No_Transformer, [\"health_industry\", \n",
    "                                 \"investors_type\", \n",
    "                                 \"company_has_phd\", \n",
    "                                 \"proportion_technical\", \n",
    "                                 \"No_people_input\",\n",
    "                                \"founder_from_institute\",\n",
    "                                \"founder_has_phd\",\n",
    "                                ]),\n",
    "    ])"
   ]
  },
  {
   "cell_type": "markdown",
   "metadata": {
    "ExecuteTime": {
     "end_time": "2020-12-09T14:53:55.780855Z",
     "start_time": "2020-12-09T14:53:55.752962Z"
    }
   },
   "source": [
    "##### Pipeline"
   ]
  },
  {
   "cell_type": "code",
   "execution_count": 19,
   "metadata": {
    "ExecuteTime": {
     "end_time": "2020-12-15T17:21:57.336946Z",
     "start_time": "2020-12-15T17:21:50.046794Z"
    }
   },
   "outputs": [
    {
     "data": {
      "text/html": [
       "<style>div.sk-top-container {color: black;background-color: white;}div.sk-toggleable {background-color: white;}label.sk-toggleable__label {cursor: pointer;display: block;width: 100%;margin-bottom: 0;padding: 0.2em 0.3em;box-sizing: border-box;text-align: center;}div.sk-toggleable__content {max-height: 0;max-width: 0;overflow: hidden;text-align: left;background-color: #f0f8ff;}div.sk-toggleable__content pre {margin: 0.2em;color: black;border-radius: 0.25em;background-color: #f0f8ff;}input.sk-toggleable__control:checked~div.sk-toggleable__content {max-height: 200px;max-width: 100%;overflow: auto;}div.sk-estimator input.sk-toggleable__control:checked~label.sk-toggleable__label {background-color: #d4ebff;}div.sk-label input.sk-toggleable__control:checked~label.sk-toggleable__label {background-color: #d4ebff;}input.sk-hidden--visually {border: 0;clip: rect(1px 1px 1px 1px);clip: rect(1px, 1px, 1px, 1px);height: 1px;margin: -1px;overflow: hidden;padding: 0;position: absolute;width: 1px;}div.sk-estimator {font-family: monospace;background-color: #f0f8ff;margin: 0.25em 0.25em;border: 1px dotted black;border-radius: 0.25em;box-sizing: border-box;}div.sk-estimator:hover {background-color: #d4ebff;}div.sk-parallel-item::after {content: \"\";width: 100%;border-bottom: 1px solid gray;flex-grow: 1;}div.sk-label:hover label.sk-toggleable__label {background-color: #d4ebff;}div.sk-serial::before {content: \"\";position: absolute;border-left: 1px solid gray;box-sizing: border-box;top: 2em;bottom: 0;left: 50%;}div.sk-serial {display: flex;flex-direction: column;align-items: center;background-color: white;}div.sk-item {z-index: 1;}div.sk-parallel {display: flex;align-items: stretch;justify-content: center;background-color: white;}div.sk-parallel-item {display: flex;flex-direction: column;position: relative;background-color: white;}div.sk-parallel-item:first-child::after {align-self: flex-end;width: 50%;}div.sk-parallel-item:last-child::after {align-self: flex-start;width: 50%;}div.sk-parallel-item:only-child::after {width: 0;}div.sk-dashed-wrapped {border: 1px dashed gray;margin: 0.2em;box-sizing: border-box;padding-bottom: 0.1em;background-color: white;position: relative;}div.sk-label label {font-family: monospace;font-weight: bold;background-color: white;display: inline-block;line-height: 1.2em;}div.sk-label-container {position: relative;z-index: 2;text-align: center;}div.sk-container {display: inline-block;position: relative;}</style><div class=\"sk-top-container\"><div class=\"sk-container\"><div class=\"sk-item sk-dashed-wrapped\"><div class=\"sk-label-container\"><div class=\"sk-label sk-toggleable\"><input class=\"sk-toggleable__control sk-hidden--visually\" id=\"020c4c77-f22c-4c5d-88a2-a13cb941722b\" type=\"checkbox\" ><label class=\"sk-toggleable__label\" for=\"020c4c77-f22c-4c5d-88a2-a13cb941722b\">Pipeline</label><div class=\"sk-toggleable__content\"><pre>Pipeline(steps=[('features',\n",
       "                 ColumnTransformer(transformers=[('growth_transformer',\n",
       "                                                  Pipeline(steps=[['growth_stage_age_preparator',\n",
       "                                                                   ColumnTransformer(transformers=[['age_imputer',\n",
       "                                                                                                    Pipeline(steps=[('simpleimputer',\n",
       "                                                                                                                     SimpleImputer())]),\n",
       "                                                                                                    ['age']],\n",
       "                                                                                                   ['growth_stage_transformer',\n",
       "                                                                                                    FunctionTransformer(func=<function <lambda> at 0x11bd46e50>),\n",
       "                                                                                                    ['growth_stage_imputed']]])...\n",
       "                                                                                   ['No_people_input']],\n",
       "                                                                                  ['founder_from_institute_notransformer',\n",
       "                                                                                   NoTransformer(),\n",
       "                                                                                   ['founder_from_institute']],\n",
       "                                                                                  ['founder_has_phd_notransformer',\n",
       "                                                                                   NoTransformer(),\n",
       "                                                                                   ['founder_has_phd']]]),\n",
       "                                                  ['health_industry',\n",
       "                                                   'investors_type',\n",
       "                                                   'company_has_phd',\n",
       "                                                   'proportion_technical',\n",
       "                                                   'No_people_input',\n",
       "                                                   'founder_from_institute',\n",
       "                                                   'founder_has_phd'])])),\n",
       "                ('model', RandomForestClassifier(n_jobs=-1))])</pre></div></div></div><div class=\"sk-serial\"><div class=\"sk-item sk-dashed-wrapped\"><div class=\"sk-label-container\"><div class=\"sk-label sk-toggleable\"><input class=\"sk-toggleable__control sk-hidden--visually\" id=\"81ee5860-4349-4d0a-aac5-e9a1baed9212\" type=\"checkbox\" ><label class=\"sk-toggleable__label\" for=\"81ee5860-4349-4d0a-aac5-e9a1baed9212\">features: ColumnTransformer</label><div class=\"sk-toggleable__content\"><pre>ColumnTransformer(transformers=[('growth_transformer',\n",
       "                                 Pipeline(steps=[['growth_stage_age_preparator',\n",
       "                                                  ColumnTransformer(transformers=[['age_imputer',\n",
       "                                                                                   Pipeline(steps=[('simpleimputer',\n",
       "                                                                                                    SimpleImputer())]),\n",
       "                                                                                   ['age']],\n",
       "                                                                                  ['growth_stage_transformer',\n",
       "                                                                                   FunctionTransformer(func=<function <lambda> at 0x11bd46e50>),\n",
       "                                                                                   ['growth_stage_imputed']]])],\n",
       "                                                 ['growth_stage_age_ratio_c...\n",
       "                                                                 ['no_people_input_notransformer',\n",
       "                                                                  NoTransformer(),\n",
       "                                                                  ['No_people_input']],\n",
       "                                                                 ['founder_from_institute_notransformer',\n",
       "                                                                  NoTransformer(),\n",
       "                                                                  ['founder_from_institute']],\n",
       "                                                                 ['founder_has_phd_notransformer',\n",
       "                                                                  NoTransformer(),\n",
       "                                                                  ['founder_has_phd']]]),\n",
       "                                 ['health_industry', 'investors_type',\n",
       "                                  'company_has_phd', 'proportion_technical',\n",
       "                                  'No_people_input', 'founder_from_institute',\n",
       "                                  'founder_has_phd'])])</pre></div></div></div><div class=\"sk-parallel\"><div class=\"sk-parallel-item\"><div class=\"sk-item\"><div class=\"sk-label-container\"><div class=\"sk-label sk-toggleable\"><input class=\"sk-toggleable__control sk-hidden--visually\" id=\"f553175f-6352-4db2-91b0-bcef039d2d33\" type=\"checkbox\" ><label class=\"sk-toggleable__label\" for=\"f553175f-6352-4db2-91b0-bcef039d2d33\">growth_transformer</label><div class=\"sk-toggleable__content\"><pre>['growth_stage_imputed', 'age']</pre></div></div></div><div class=\"sk-serial\"><div class=\"sk-item\"><div class=\"sk-serial\"><div class=\"sk-item sk-dashed-wrapped\"><div class=\"sk-label-container\"><div class=\"sk-label sk-toggleable\"><input class=\"sk-toggleable__control sk-hidden--visually\" id=\"a292f133-e7b1-4f08-9367-33842dfdb5a2\" type=\"checkbox\" ><label class=\"sk-toggleable__label\" for=\"a292f133-e7b1-4f08-9367-33842dfdb5a2\">growth_stage_age_preparator: ColumnTransformer</label><div class=\"sk-toggleable__content\"><pre>ColumnTransformer(transformers=[['age_imputer',\n",
       "                                 Pipeline(steps=[('simpleimputer',\n",
       "                                                  SimpleImputer())]),\n",
       "                                 ['age']],\n",
       "                                ['growth_stage_transformer',\n",
       "                                 FunctionTransformer(func=<function <lambda> at 0x11bd46e50>),\n",
       "                                 ['growth_stage_imputed']]])</pre></div></div></div><div class=\"sk-parallel\"><div class=\"sk-parallel-item\"><div class=\"sk-item\"><div class=\"sk-label-container\"><div class=\"sk-label sk-toggleable\"><input class=\"sk-toggleable__control sk-hidden--visually\" id=\"1e9c0922-5cd2-4cf2-a5b0-89b2b12fb617\" type=\"checkbox\" ><label class=\"sk-toggleable__label\" for=\"1e9c0922-5cd2-4cf2-a5b0-89b2b12fb617\">age_imputer</label><div class=\"sk-toggleable__content\"><pre>['age']</pre></div></div></div><div class=\"sk-serial\"><div class=\"sk-item\"><div class=\"sk-serial\"><div class=\"sk-item\"><div class=\"sk-estimator sk-toggleable\"><input class=\"sk-toggleable__control sk-hidden--visually\" id=\"5af23181-63f8-42c2-9339-b7679934fd1e\" type=\"checkbox\" ><label class=\"sk-toggleable__label\" for=\"5af23181-63f8-42c2-9339-b7679934fd1e\">SimpleImputer</label><div class=\"sk-toggleable__content\"><pre>SimpleImputer()</pre></div></div></div></div></div></div></div></div><div class=\"sk-parallel-item\"><div class=\"sk-item\"><div class=\"sk-label-container\"><div class=\"sk-label sk-toggleable\"><input class=\"sk-toggleable__control sk-hidden--visually\" id=\"0502dd9f-2c46-467e-9a41-0685af60ccf4\" type=\"checkbox\" ><label class=\"sk-toggleable__label\" for=\"0502dd9f-2c46-467e-9a41-0685af60ccf4\">growth_stage_transformer</label><div class=\"sk-toggleable__content\"><pre>['growth_stage_imputed']</pre></div></div></div><div class=\"sk-serial\"><div class=\"sk-item\"><div class=\"sk-estimator sk-toggleable\"><input class=\"sk-toggleable__control sk-hidden--visually\" id=\"20745acd-27a8-4f34-b23e-edfd43934d45\" type=\"checkbox\" ><label class=\"sk-toggleable__label\" for=\"20745acd-27a8-4f34-b23e-edfd43934d45\">FunctionTransformer</label><div class=\"sk-toggleable__content\"><pre>FunctionTransformer(func=<function <lambda> at 0x11bd46e50>)</pre></div></div></div></div></div></div></div></div><div class=\"sk-item\"><div class=\"sk-estimator sk-toggleable\"><input class=\"sk-toggleable__control sk-hidden--visually\" id=\"f199c04c-b0b6-400b-a523-a309376a4ce9\" type=\"checkbox\" ><label class=\"sk-toggleable__label\" for=\"f199c04c-b0b6-400b-a523-a309376a4ce9\">FunctionTransformer</label><div class=\"sk-toggleable__content\"><pre>FunctionTransformer(func=<function compute_growth_age_ratio at 0x11891df70>)</pre></div></div></div></div></div></div></div></div><div class=\"sk-parallel-item\"><div class=\"sk-item\"><div class=\"sk-label-container\"><div class=\"sk-label sk-toggleable\"><input class=\"sk-toggleable__control sk-hidden--visually\" id=\"fa901186-dc0c-422d-9814-fbdfebb4df04\" type=\"checkbox\" ><label class=\"sk-toggleable__label\" for=\"fa901186-dc0c-422d-9814-fbdfebb4df04\">ratio_transformer</label><div class=\"sk-toggleable__content\"><pre>['employees_clean', 'employees', 'launch_year_clean', 'employees_latest', 'total_funding_source']</pre></div></div></div><div class=\"sk-serial\"><div class=\"sk-item\"><div class=\"sk-serial\"><div class=\"sk-item\"><div class=\"sk-estimator sk-toggleable\"><input class=\"sk-toggleable__control sk-hidden--visually\" id=\"050aea44-b347-45ab-ac37-bd6a8b5637b9\" type=\"checkbox\" ><label class=\"sk-toggleable__label\" for=\"050aea44-b347-45ab-ac37-bd6a8b5637b9\">EmployeeImputer</label><div class=\"sk-toggleable__content\"><pre>EmployeeImputer()</pre></div></div></div><div class=\"sk-item\"><div class=\"sk-estimator sk-toggleable\"><input class=\"sk-toggleable__control sk-hidden--visually\" id=\"12f7658e-a4a4-4f39-a43b-81953771ba03\" type=\"checkbox\" ><label class=\"sk-toggleable__label\" for=\"12f7658e-a4a4-4f39-a43b-81953771ba03\">FunctionTransformer</label><div class=\"sk-toggleable__content\"><pre>FunctionTransformer(func=<function <lambda> at 0x11bd46280>)</pre></div></div></div><div class=\"sk-item\"><div class=\"sk-estimator sk-toggleable\"><input class=\"sk-toggleable__control sk-hidden--visually\" id=\"c5431143-c895-4d69-a992-a2c5512770fd\" type=\"checkbox\" ><label class=\"sk-toggleable__label\" for=\"c5431143-c895-4d69-a992-a2c5512770fd\">RobustScaler</label><div class=\"sk-toggleable__content\"><pre>RobustScaler()</pre></div></div></div></div></div></div></div></div><div class=\"sk-parallel-item\"><div class=\"sk-item\"><div class=\"sk-label-container\"><div class=\"sk-label sk-toggleable\"><input class=\"sk-toggleable__control sk-hidden--visually\" id=\"c4e3d59b-e8c5-4496-832b-3b535746e227\" type=\"checkbox\" ><label class=\"sk-toggleable__label\" for=\"c4e3d59b-e8c5-4496-832b-3b535746e227\">patent_transformer</label><div class=\"sk-toggleable__content\"><pre>['nb_patents']</pre></div></div></div><div class=\"sk-serial\"><div class=\"sk-item\"><div class=\"sk-serial\"><div class=\"sk-item\"><div class=\"sk-estimator sk-toggleable\"><input class=\"sk-toggleable__control sk-hidden--visually\" id=\"0f11fdf1-3382-4ed5-b1ad-78bdaab528c8\" type=\"checkbox\" ><label class=\"sk-toggleable__label\" for=\"0f11fdf1-3382-4ed5-b1ad-78bdaab528c8\">SimpleImputer</label><div class=\"sk-toggleable__content\"><pre>SimpleImputer(fill_value=0, strategy='constant')</pre></div></div></div><div class=\"sk-item\"><div class=\"sk-estimator sk-toggleable\"><input class=\"sk-toggleable__control sk-hidden--visually\" id=\"61b02816-5fb4-4f69-bcac-ea0c352833c4\" type=\"checkbox\" ><label class=\"sk-toggleable__label\" for=\"61b02816-5fb4-4f69-bcac-ea0c352833c4\">RobustScaler</label><div class=\"sk-toggleable__content\"><pre>RobustScaler()</pre></div></div></div></div></div></div></div></div><div class=\"sk-parallel-item\"><div class=\"sk-item\"><div class=\"sk-label-container\"><div class=\"sk-label sk-toggleable\"><input class=\"sk-toggleable__control sk-hidden--visually\" id=\"afe0eef2-e2dc-4f3c-a3a4-f72fe68ccfcc\" type=\"checkbox\" ><label class=\"sk-toggleable__label\" for=\"afe0eef2-e2dc-4f3c-a3a4-f72fe68ccfcc\">identity</label><div class=\"sk-toggleable__content\"><pre>['health_industry', 'investors_type', 'company_has_phd', 'proportion_technical', 'No_people_input', 'founder_from_institute', 'founder_has_phd']</pre></div></div></div><div class=\"sk-serial\"><div class=\"sk-item sk-dashed-wrapped\"><div class=\"sk-parallel\"><div class=\"sk-parallel-item\"><div class=\"sk-item\"><div class=\"sk-label-container\"><div class=\"sk-label sk-toggleable\"><input class=\"sk-toggleable__control sk-hidden--visually\" id=\"ee3f8f4a-b57e-479e-bd32-a82c0c15187b\" type=\"checkbox\" ><label class=\"sk-toggleable__label\" for=\"ee3f8f4a-b57e-479e-bd32-a82c0c15187b\">health_notransformer</label><div class=\"sk-toggleable__content\"><pre>['health_industry']</pre></div></div></div><div class=\"sk-serial\"><div class=\"sk-item\"><div class=\"sk-estimator sk-toggleable\"><input class=\"sk-toggleable__control sk-hidden--visually\" id=\"b93bac79-42a7-4195-a25f-e6bdd8256f13\" type=\"checkbox\" ><label class=\"sk-toggleable__label\" for=\"b93bac79-42a7-4195-a25f-e6bdd8256f13\">NoTransformer</label><div class=\"sk-toggleable__content\"><pre>NoTransformer()</pre></div></div></div></div></div></div><div class=\"sk-parallel-item\"><div class=\"sk-item\"><div class=\"sk-label-container\"><div class=\"sk-label sk-toggleable\"><input class=\"sk-toggleable__control sk-hidden--visually\" id=\"48b3c311-6a6a-4e6f-8e06-7ac04ccf285d\" type=\"checkbox\" ><label class=\"sk-toggleable__label\" for=\"48b3c311-6a6a-4e6f-8e06-7ac04ccf285d\">fund_investor_notransformer</label><div class=\"sk-toggleable__content\"><pre>['investors_type']</pre></div></div></div><div class=\"sk-serial\"><div class=\"sk-item\"><div class=\"sk-estimator sk-toggleable\"><input class=\"sk-toggleable__control sk-hidden--visually\" id=\"e619bd29-137a-4795-bc04-e90d6129618b\" type=\"checkbox\" ><label class=\"sk-toggleable__label\" for=\"e619bd29-137a-4795-bc04-e90d6129618b\">NoTransformer</label><div class=\"sk-toggleable__content\"><pre>NoTransformer()</pre></div></div></div></div></div></div><div class=\"sk-parallel-item\"><div class=\"sk-item\"><div class=\"sk-label-container\"><div class=\"sk-label sk-toggleable\"><input class=\"sk-toggleable__control sk-hidden--visually\" id=\"52de3dc9-b33a-4236-9704-36974502e886\" type=\"checkbox\" ><label class=\"sk-toggleable__label\" for=\"52de3dc9-b33a-4236-9704-36974502e886\">doctor_notransformer</label><div class=\"sk-toggleable__content\"><pre>['company_has_phd']</pre></div></div></div><div class=\"sk-serial\"><div class=\"sk-item\"><div class=\"sk-estimator sk-toggleable\"><input class=\"sk-toggleable__control sk-hidden--visually\" id=\"0a827902-e15f-4a36-b8d5-a891e0421a7f\" type=\"checkbox\" ><label class=\"sk-toggleable__label\" for=\"0a827902-e15f-4a36-b8d5-a891e0421a7f\">NoTransformer</label><div class=\"sk-toggleable__content\"><pre>NoTransformer()</pre></div></div></div></div></div></div><div class=\"sk-parallel-item\"><div class=\"sk-item\"><div class=\"sk-label-container\"><div class=\"sk-label sk-toggleable\"><input class=\"sk-toggleable__control sk-hidden--visually\" id=\"0f3f3db3-10fc-4452-ade7-d5ea7405ae3b\" type=\"checkbox\" ><label class=\"sk-toggleable__label\" for=\"0f3f3db3-10fc-4452-ade7-d5ea7405ae3b\">technical_notransformer</label><div class=\"sk-toggleable__content\"><pre>['proportion_technical']</pre></div></div></div><div class=\"sk-serial\"><div class=\"sk-item\"><div class=\"sk-estimator sk-toggleable\"><input class=\"sk-toggleable__control sk-hidden--visually\" id=\"fa8f63f9-aab9-4bb2-9a9d-633ed779bf50\" type=\"checkbox\" ><label class=\"sk-toggleable__label\" for=\"fa8f63f9-aab9-4bb2-9a9d-633ed779bf50\">NoTransformer</label><div class=\"sk-toggleable__content\"><pre>NoTransformer()</pre></div></div></div></div></div></div><div class=\"sk-parallel-item\"><div class=\"sk-item\"><div class=\"sk-label-container\"><div class=\"sk-label sk-toggleable\"><input class=\"sk-toggleable__control sk-hidden--visually\" id=\"3fcb99f0-c20f-418c-86ca-5f0c03c245be\" type=\"checkbox\" ><label class=\"sk-toggleable__label\" for=\"3fcb99f0-c20f-418c-86ca-5f0c03c245be\">no_people_input_notransformer</label><div class=\"sk-toggleable__content\"><pre>['No_people_input']</pre></div></div></div><div class=\"sk-serial\"><div class=\"sk-item\"><div class=\"sk-estimator sk-toggleable\"><input class=\"sk-toggleable__control sk-hidden--visually\" id=\"26914e70-881c-4658-8ba6-607ee1c20411\" type=\"checkbox\" ><label class=\"sk-toggleable__label\" for=\"26914e70-881c-4658-8ba6-607ee1c20411\">NoTransformer</label><div class=\"sk-toggleable__content\"><pre>NoTransformer()</pre></div></div></div></div></div></div><div class=\"sk-parallel-item\"><div class=\"sk-item\"><div class=\"sk-label-container\"><div class=\"sk-label sk-toggleable\"><input class=\"sk-toggleable__control sk-hidden--visually\" id=\"38e8b47c-d676-41b8-9ce6-8b3b34da4f71\" type=\"checkbox\" ><label class=\"sk-toggleable__label\" for=\"38e8b47c-d676-41b8-9ce6-8b3b34da4f71\">founder_from_institute_notransformer</label><div class=\"sk-toggleable__content\"><pre>['founder_from_institute']</pre></div></div></div><div class=\"sk-serial\"><div class=\"sk-item\"><div class=\"sk-estimator sk-toggleable\"><input class=\"sk-toggleable__control sk-hidden--visually\" id=\"10520e07-b818-49d0-9097-81f731ac5178\" type=\"checkbox\" ><label class=\"sk-toggleable__label\" for=\"10520e07-b818-49d0-9097-81f731ac5178\">NoTransformer</label><div class=\"sk-toggleable__content\"><pre>NoTransformer()</pre></div></div></div></div></div></div><div class=\"sk-parallel-item\"><div class=\"sk-item\"><div class=\"sk-label-container\"><div class=\"sk-label sk-toggleable\"><input class=\"sk-toggleable__control sk-hidden--visually\" id=\"8e7148cb-22d5-4a28-8866-76311f6b4f2c\" type=\"checkbox\" ><label class=\"sk-toggleable__label\" for=\"8e7148cb-22d5-4a28-8866-76311f6b4f2c\">founder_has_phd_notransformer</label><div class=\"sk-toggleable__content\"><pre>['founder_has_phd']</pre></div></div></div><div class=\"sk-serial\"><div class=\"sk-item\"><div class=\"sk-estimator sk-toggleable\"><input class=\"sk-toggleable__control sk-hidden--visually\" id=\"925ebdcf-2795-4839-a0c6-9fef6e7aa214\" type=\"checkbox\" ><label class=\"sk-toggleable__label\" for=\"925ebdcf-2795-4839-a0c6-9fef6e7aa214\">NoTransformer</label><div class=\"sk-toggleable__content\"><pre>NoTransformer()</pre></div></div></div></div></div></div></div></div></div></div></div></div></div><div class=\"sk-item\"><div class=\"sk-estimator sk-toggleable\"><input class=\"sk-toggleable__control sk-hidden--visually\" id=\"f02d6d6d-3eaf-4dd0-8f8a-b3ae5c3d2974\" type=\"checkbox\" ><label class=\"sk-toggleable__label\" for=\"f02d6d6d-3eaf-4dd0-8f8a-b3ae5c3d2974\">RandomForestClassifier</label><div class=\"sk-toggleable__content\"><pre>RandomForestClassifier(n_jobs=-1)</pre></div></div></div></div></div></div></div>"
      ],
      "text/plain": [
       "Pipeline(steps=[('features',\n",
       "                 ColumnTransformer(transformers=[('growth_transformer',\n",
       "                                                  Pipeline(steps=[['growth_stage_age_preparator',\n",
       "                                                                   ColumnTransformer(transformers=[['age_imputer',\n",
       "                                                                                                    Pipeline(steps=[('simpleimputer',\n",
       "                                                                                                                     SimpleImputer())]),\n",
       "                                                                                                    ['age']],\n",
       "                                                                                                   ['growth_stage_transformer',\n",
       "                                                                                                    FunctionTransformer(func=<function <lambda> at 0x11bd46e50>),\n",
       "                                                                                                    ['growth_stage_imputed']]])...\n",
       "                                                                                   ['No_people_input']],\n",
       "                                                                                  ['founder_from_institute_notransformer',\n",
       "                                                                                   NoTransformer(),\n",
       "                                                                                   ['founder_from_institute']],\n",
       "                                                                                  ['founder_has_phd_notransformer',\n",
       "                                                                                   NoTransformer(),\n",
       "                                                                                   ['founder_has_phd']]]),\n",
       "                                                  ['health_industry',\n",
       "                                                   'investors_type',\n",
       "                                                   'company_has_phd',\n",
       "                                                   'proportion_technical',\n",
       "                                                   'No_people_input',\n",
       "                                                   'founder_from_institute',\n",
       "                                                   'founder_has_phd'])])),\n",
       "                ('model', RandomForestClassifier(n_jobs=-1))])"
      ]
     },
     "execution_count": 19,
     "metadata": {},
     "output_type": "execute_result"
    }
   ],
   "source": [
    "from sklearn.pipeline import Pipeline\n",
    "from sklearn.linear_model import LogisticRegression\n",
    "from  sklearn.ensemble import RandomForestClassifier\n",
    "\n",
    "pipemodel = Pipeline(steps=[\n",
    "                            ('features', preprocessor),\n",
    "                            ('model', RandomForestClassifier(n_jobs = -1))\n",
    "                             ])\n",
    "pipemodel"
   ]
  },
  {
   "cell_type": "markdown",
   "metadata": {
    "ExecuteTime": {
     "end_time": "2020-12-09T14:55:57.928507Z",
     "start_time": "2020-12-09T14:55:57.896635Z"
    }
   },
   "source": [
    "# RUN MODEL"
   ]
  },
  {
   "cell_type": "code",
   "execution_count": 20,
   "metadata": {
    "ExecuteTime": {
     "end_time": "2020-12-15T17:21:58.042567Z",
     "start_time": "2020-12-15T17:21:57.339307Z"
    }
   },
   "outputs": [
    {
     "name": "stderr",
     "output_type": "stream",
     "text": [
      "<ipython-input-6-a7615c61554e>:62: SettingWithCopyWarning: \n",
      "A value is trying to be set on a copy of a slice from a DataFrame\n",
      "\n",
      "See the caveats in the documentation: https://pandas.pydata.org/pandas-docs/stable/user_guide/indexing.html#returning-a-view-versus-a-copy\n",
      "  data[\"investors_type\"] = fund_investors(data[[\"investors_type\"]])\n"
     ]
    }
   ],
   "source": [
    "data = GetCleanData.get_clean_data()\n",
    "X = data.drop(columns = [\"target\", \"deep_or_not\"])\n",
    "y = data.target"
   ]
  },
  {
   "cell_type": "code",
   "execution_count": 21,
   "metadata": {
    "ExecuteTime": {
     "end_time": "2020-12-15T17:22:02.385181Z",
     "start_time": "2020-12-15T17:21:58.045247Z"
    }
   },
   "outputs": [
    {
     "data": {
      "text/html": [
       "<style>div.sk-top-container {color: black;background-color: white;}div.sk-toggleable {background-color: white;}label.sk-toggleable__label {cursor: pointer;display: block;width: 100%;margin-bottom: 0;padding: 0.2em 0.3em;box-sizing: border-box;text-align: center;}div.sk-toggleable__content {max-height: 0;max-width: 0;overflow: hidden;text-align: left;background-color: #f0f8ff;}div.sk-toggleable__content pre {margin: 0.2em;color: black;border-radius: 0.25em;background-color: #f0f8ff;}input.sk-toggleable__control:checked~div.sk-toggleable__content {max-height: 200px;max-width: 100%;overflow: auto;}div.sk-estimator input.sk-toggleable__control:checked~label.sk-toggleable__label {background-color: #d4ebff;}div.sk-label input.sk-toggleable__control:checked~label.sk-toggleable__label {background-color: #d4ebff;}input.sk-hidden--visually {border: 0;clip: rect(1px 1px 1px 1px);clip: rect(1px, 1px, 1px, 1px);height: 1px;margin: -1px;overflow: hidden;padding: 0;position: absolute;width: 1px;}div.sk-estimator {font-family: monospace;background-color: #f0f8ff;margin: 0.25em 0.25em;border: 1px dotted black;border-radius: 0.25em;box-sizing: border-box;}div.sk-estimator:hover {background-color: #d4ebff;}div.sk-parallel-item::after {content: \"\";width: 100%;border-bottom: 1px solid gray;flex-grow: 1;}div.sk-label:hover label.sk-toggleable__label {background-color: #d4ebff;}div.sk-serial::before {content: \"\";position: absolute;border-left: 1px solid gray;box-sizing: border-box;top: 2em;bottom: 0;left: 50%;}div.sk-serial {display: flex;flex-direction: column;align-items: center;background-color: white;}div.sk-item {z-index: 1;}div.sk-parallel {display: flex;align-items: stretch;justify-content: center;background-color: white;}div.sk-parallel-item {display: flex;flex-direction: column;position: relative;background-color: white;}div.sk-parallel-item:first-child::after {align-self: flex-end;width: 50%;}div.sk-parallel-item:last-child::after {align-self: flex-start;width: 50%;}div.sk-parallel-item:only-child::after {width: 0;}div.sk-dashed-wrapped {border: 1px dashed gray;margin: 0.2em;box-sizing: border-box;padding-bottom: 0.1em;background-color: white;position: relative;}div.sk-label label {font-family: monospace;font-weight: bold;background-color: white;display: inline-block;line-height: 1.2em;}div.sk-label-container {position: relative;z-index: 2;text-align: center;}div.sk-container {display: inline-block;position: relative;}</style><div class=\"sk-top-container\"><div class=\"sk-container\"><div class=\"sk-item sk-dashed-wrapped\"><div class=\"sk-label-container\"><div class=\"sk-label sk-toggleable\"><input class=\"sk-toggleable__control sk-hidden--visually\" id=\"4007199a-1e7f-4c5f-9276-dab6502521c1\" type=\"checkbox\" ><label class=\"sk-toggleable__label\" for=\"4007199a-1e7f-4c5f-9276-dab6502521c1\">Pipeline</label><div class=\"sk-toggleable__content\"><pre>Pipeline(steps=[('features',\n",
       "                 ColumnTransformer(transformers=[('growth_transformer',\n",
       "                                                  Pipeline(steps=[['growth_stage_age_preparator',\n",
       "                                                                   ColumnTransformer(transformers=[['age_imputer',\n",
       "                                                                                                    Pipeline(steps=[('simpleimputer',\n",
       "                                                                                                                     SimpleImputer())]),\n",
       "                                                                                                    ['age']],\n",
       "                                                                                                   ['growth_stage_transformer',\n",
       "                                                                                                    FunctionTransformer(func=<function <lambda> at 0x11bd46e50>),\n",
       "                                                                                                    ['growth_stage_imputed']]])...\n",
       "                                                                                   ['No_people_input']],\n",
       "                                                                                  ['founder_from_institute_notransformer',\n",
       "                                                                                   NoTransformer(),\n",
       "                                                                                   ['founder_from_institute']],\n",
       "                                                                                  ['founder_has_phd_notransformer',\n",
       "                                                                                   NoTransformer(),\n",
       "                                                                                   ['founder_has_phd']]]),\n",
       "                                                  ['health_industry',\n",
       "                                                   'investors_type',\n",
       "                                                   'company_has_phd',\n",
       "                                                   'proportion_technical',\n",
       "                                                   'No_people_input',\n",
       "                                                   'founder_from_institute',\n",
       "                                                   'founder_has_phd'])])),\n",
       "                ('model', RandomForestClassifier(n_jobs=-1))])</pre></div></div></div><div class=\"sk-serial\"><div class=\"sk-item sk-dashed-wrapped\"><div class=\"sk-label-container\"><div class=\"sk-label sk-toggleable\"><input class=\"sk-toggleable__control sk-hidden--visually\" id=\"6bf222c4-dc9c-49ba-8fe1-6bc7198e3c97\" type=\"checkbox\" ><label class=\"sk-toggleable__label\" for=\"6bf222c4-dc9c-49ba-8fe1-6bc7198e3c97\">features: ColumnTransformer</label><div class=\"sk-toggleable__content\"><pre>ColumnTransformer(transformers=[('growth_transformer',\n",
       "                                 Pipeline(steps=[['growth_stage_age_preparator',\n",
       "                                                  ColumnTransformer(transformers=[['age_imputer',\n",
       "                                                                                   Pipeline(steps=[('simpleimputer',\n",
       "                                                                                                    SimpleImputer())]),\n",
       "                                                                                   ['age']],\n",
       "                                                                                  ['growth_stage_transformer',\n",
       "                                                                                   FunctionTransformer(func=<function <lambda> at 0x11bd46e50>),\n",
       "                                                                                   ['growth_stage_imputed']]])],\n",
       "                                                 ['growth_stage_age_ratio_c...\n",
       "                                                                 ['no_people_input_notransformer',\n",
       "                                                                  NoTransformer(),\n",
       "                                                                  ['No_people_input']],\n",
       "                                                                 ['founder_from_institute_notransformer',\n",
       "                                                                  NoTransformer(),\n",
       "                                                                  ['founder_from_institute']],\n",
       "                                                                 ['founder_has_phd_notransformer',\n",
       "                                                                  NoTransformer(),\n",
       "                                                                  ['founder_has_phd']]]),\n",
       "                                 ['health_industry', 'investors_type',\n",
       "                                  'company_has_phd', 'proportion_technical',\n",
       "                                  'No_people_input', 'founder_from_institute',\n",
       "                                  'founder_has_phd'])])</pre></div></div></div><div class=\"sk-parallel\"><div class=\"sk-parallel-item\"><div class=\"sk-item\"><div class=\"sk-label-container\"><div class=\"sk-label sk-toggleable\"><input class=\"sk-toggleable__control sk-hidden--visually\" id=\"79cb168c-795c-48b9-9a29-81ec26f56f88\" type=\"checkbox\" ><label class=\"sk-toggleable__label\" for=\"79cb168c-795c-48b9-9a29-81ec26f56f88\">growth_transformer</label><div class=\"sk-toggleable__content\"><pre>['growth_stage_imputed', 'age']</pre></div></div></div><div class=\"sk-serial\"><div class=\"sk-item\"><div class=\"sk-serial\"><div class=\"sk-item sk-dashed-wrapped\"><div class=\"sk-label-container\"><div class=\"sk-label sk-toggleable\"><input class=\"sk-toggleable__control sk-hidden--visually\" id=\"8f58fa24-ed9e-4d1d-ae09-c972e27e5f75\" type=\"checkbox\" ><label class=\"sk-toggleable__label\" for=\"8f58fa24-ed9e-4d1d-ae09-c972e27e5f75\">growth_stage_age_preparator: ColumnTransformer</label><div class=\"sk-toggleable__content\"><pre>ColumnTransformer(transformers=[['age_imputer',\n",
       "                                 Pipeline(steps=[('simpleimputer',\n",
       "                                                  SimpleImputer())]),\n",
       "                                 ['age']],\n",
       "                                ['growth_stage_transformer',\n",
       "                                 FunctionTransformer(func=<function <lambda> at 0x11bd46e50>),\n",
       "                                 ['growth_stage_imputed']]])</pre></div></div></div><div class=\"sk-parallel\"><div class=\"sk-parallel-item\"><div class=\"sk-item\"><div class=\"sk-label-container\"><div class=\"sk-label sk-toggleable\"><input class=\"sk-toggleable__control sk-hidden--visually\" id=\"a915ebed-718c-4071-92ee-cd64dfb382dc\" type=\"checkbox\" ><label class=\"sk-toggleable__label\" for=\"a915ebed-718c-4071-92ee-cd64dfb382dc\">age_imputer</label><div class=\"sk-toggleable__content\"><pre>['age']</pre></div></div></div><div class=\"sk-serial\"><div class=\"sk-item\"><div class=\"sk-serial\"><div class=\"sk-item\"><div class=\"sk-estimator sk-toggleable\"><input class=\"sk-toggleable__control sk-hidden--visually\" id=\"9411e714-f7e5-4927-bc98-62e940e7a9b7\" type=\"checkbox\" ><label class=\"sk-toggleable__label\" for=\"9411e714-f7e5-4927-bc98-62e940e7a9b7\">SimpleImputer</label><div class=\"sk-toggleable__content\"><pre>SimpleImputer()</pre></div></div></div></div></div></div></div></div><div class=\"sk-parallel-item\"><div class=\"sk-item\"><div class=\"sk-label-container\"><div class=\"sk-label sk-toggleable\"><input class=\"sk-toggleable__control sk-hidden--visually\" id=\"678aa5dc-6657-4c59-8730-f946b021ec6d\" type=\"checkbox\" ><label class=\"sk-toggleable__label\" for=\"678aa5dc-6657-4c59-8730-f946b021ec6d\">growth_stage_transformer</label><div class=\"sk-toggleable__content\"><pre>['growth_stage_imputed']</pre></div></div></div><div class=\"sk-serial\"><div class=\"sk-item\"><div class=\"sk-estimator sk-toggleable\"><input class=\"sk-toggleable__control sk-hidden--visually\" id=\"52ad0ebc-c5a7-4c39-aa7c-9e62d408778c\" type=\"checkbox\" ><label class=\"sk-toggleable__label\" for=\"52ad0ebc-c5a7-4c39-aa7c-9e62d408778c\">FunctionTransformer</label><div class=\"sk-toggleable__content\"><pre>FunctionTransformer(func=<function <lambda> at 0x11bd46e50>)</pre></div></div></div></div></div></div></div></div><div class=\"sk-item\"><div class=\"sk-estimator sk-toggleable\"><input class=\"sk-toggleable__control sk-hidden--visually\" id=\"79a9f778-1a06-45ed-a8b7-445e8f94cdac\" type=\"checkbox\" ><label class=\"sk-toggleable__label\" for=\"79a9f778-1a06-45ed-a8b7-445e8f94cdac\">FunctionTransformer</label><div class=\"sk-toggleable__content\"><pre>FunctionTransformer(func=<function compute_growth_age_ratio at 0x11891df70>)</pre></div></div></div></div></div></div></div></div><div class=\"sk-parallel-item\"><div class=\"sk-item\"><div class=\"sk-label-container\"><div class=\"sk-label sk-toggleable\"><input class=\"sk-toggleable__control sk-hidden--visually\" id=\"5fd0b435-ea4d-4266-ae9e-4f5d76d93b50\" type=\"checkbox\" ><label class=\"sk-toggleable__label\" for=\"5fd0b435-ea4d-4266-ae9e-4f5d76d93b50\">ratio_transformer</label><div class=\"sk-toggleable__content\"><pre>['employees_clean', 'employees', 'launch_year_clean', 'employees_latest', 'total_funding_source']</pre></div></div></div><div class=\"sk-serial\"><div class=\"sk-item\"><div class=\"sk-serial\"><div class=\"sk-item\"><div class=\"sk-estimator sk-toggleable\"><input class=\"sk-toggleable__control sk-hidden--visually\" id=\"73b55c86-5cc9-464a-afd1-454bed900ba0\" type=\"checkbox\" ><label class=\"sk-toggleable__label\" for=\"73b55c86-5cc9-464a-afd1-454bed900ba0\">EmployeeImputer</label><div class=\"sk-toggleable__content\"><pre>EmployeeImputer()</pre></div></div></div><div class=\"sk-item\"><div class=\"sk-estimator sk-toggleable\"><input class=\"sk-toggleable__control sk-hidden--visually\" id=\"0f7ddea8-6a08-4c4d-9b09-dffba9eac102\" type=\"checkbox\" ><label class=\"sk-toggleable__label\" for=\"0f7ddea8-6a08-4c4d-9b09-dffba9eac102\">FunctionTransformer</label><div class=\"sk-toggleable__content\"><pre>FunctionTransformer(func=<function <lambda> at 0x11bd46280>)</pre></div></div></div><div class=\"sk-item\"><div class=\"sk-estimator sk-toggleable\"><input class=\"sk-toggleable__control sk-hidden--visually\" id=\"bb1d37d0-28b3-44d4-8c61-733a8c15e3a9\" type=\"checkbox\" ><label class=\"sk-toggleable__label\" for=\"bb1d37d0-28b3-44d4-8c61-733a8c15e3a9\">RobustScaler</label><div class=\"sk-toggleable__content\"><pre>RobustScaler()</pre></div></div></div></div></div></div></div></div><div class=\"sk-parallel-item\"><div class=\"sk-item\"><div class=\"sk-label-container\"><div class=\"sk-label sk-toggleable\"><input class=\"sk-toggleable__control sk-hidden--visually\" id=\"4211a902-85ac-4c9c-8f7f-7bf932ed92fa\" type=\"checkbox\" ><label class=\"sk-toggleable__label\" for=\"4211a902-85ac-4c9c-8f7f-7bf932ed92fa\">patent_transformer</label><div class=\"sk-toggleable__content\"><pre>['nb_patents']</pre></div></div></div><div class=\"sk-serial\"><div class=\"sk-item\"><div class=\"sk-serial\"><div class=\"sk-item\"><div class=\"sk-estimator sk-toggleable\"><input class=\"sk-toggleable__control sk-hidden--visually\" id=\"38312efc-c6a4-4b29-b062-0414d1cb8053\" type=\"checkbox\" ><label class=\"sk-toggleable__label\" for=\"38312efc-c6a4-4b29-b062-0414d1cb8053\">SimpleImputer</label><div class=\"sk-toggleable__content\"><pre>SimpleImputer(fill_value=0, strategy='constant')</pre></div></div></div><div class=\"sk-item\"><div class=\"sk-estimator sk-toggleable\"><input class=\"sk-toggleable__control sk-hidden--visually\" id=\"66988db2-e1f3-4e53-91eb-032fb7e00e7d\" type=\"checkbox\" ><label class=\"sk-toggleable__label\" for=\"66988db2-e1f3-4e53-91eb-032fb7e00e7d\">RobustScaler</label><div class=\"sk-toggleable__content\"><pre>RobustScaler()</pre></div></div></div></div></div></div></div></div><div class=\"sk-parallel-item\"><div class=\"sk-item\"><div class=\"sk-label-container\"><div class=\"sk-label sk-toggleable\"><input class=\"sk-toggleable__control sk-hidden--visually\" id=\"bb23a393-8ba0-4024-bb85-ff0e03da35e6\" type=\"checkbox\" ><label class=\"sk-toggleable__label\" for=\"bb23a393-8ba0-4024-bb85-ff0e03da35e6\">identity</label><div class=\"sk-toggleable__content\"><pre>['health_industry', 'investors_type', 'company_has_phd', 'proportion_technical', 'No_people_input', 'founder_from_institute', 'founder_has_phd']</pre></div></div></div><div class=\"sk-serial\"><div class=\"sk-item sk-dashed-wrapped\"><div class=\"sk-parallel\"><div class=\"sk-parallel-item\"><div class=\"sk-item\"><div class=\"sk-label-container\"><div class=\"sk-label sk-toggleable\"><input class=\"sk-toggleable__control sk-hidden--visually\" id=\"b760a8df-4a1d-407b-b9c8-dce1dc276fea\" type=\"checkbox\" ><label class=\"sk-toggleable__label\" for=\"b760a8df-4a1d-407b-b9c8-dce1dc276fea\">health_notransformer</label><div class=\"sk-toggleable__content\"><pre>['health_industry']</pre></div></div></div><div class=\"sk-serial\"><div class=\"sk-item\"><div class=\"sk-estimator sk-toggleable\"><input class=\"sk-toggleable__control sk-hidden--visually\" id=\"57abdb8d-1c8f-4fde-9d4e-c4ba48366ce8\" type=\"checkbox\" ><label class=\"sk-toggleable__label\" for=\"57abdb8d-1c8f-4fde-9d4e-c4ba48366ce8\">NoTransformer</label><div class=\"sk-toggleable__content\"><pre>NoTransformer()</pre></div></div></div></div></div></div><div class=\"sk-parallel-item\"><div class=\"sk-item\"><div class=\"sk-label-container\"><div class=\"sk-label sk-toggleable\"><input class=\"sk-toggleable__control sk-hidden--visually\" id=\"2a333646-f929-4bfc-af4b-d8a0cac457e9\" type=\"checkbox\" ><label class=\"sk-toggleable__label\" for=\"2a333646-f929-4bfc-af4b-d8a0cac457e9\">fund_investor_notransformer</label><div class=\"sk-toggleable__content\"><pre>['investors_type']</pre></div></div></div><div class=\"sk-serial\"><div class=\"sk-item\"><div class=\"sk-estimator sk-toggleable\"><input class=\"sk-toggleable__control sk-hidden--visually\" id=\"711fa185-fa79-4b12-81de-35c978806481\" type=\"checkbox\" ><label class=\"sk-toggleable__label\" for=\"711fa185-fa79-4b12-81de-35c978806481\">NoTransformer</label><div class=\"sk-toggleable__content\"><pre>NoTransformer()</pre></div></div></div></div></div></div><div class=\"sk-parallel-item\"><div class=\"sk-item\"><div class=\"sk-label-container\"><div class=\"sk-label sk-toggleable\"><input class=\"sk-toggleable__control sk-hidden--visually\" id=\"89901d9e-1db7-4131-b445-4fc20385fff3\" type=\"checkbox\" ><label class=\"sk-toggleable__label\" for=\"89901d9e-1db7-4131-b445-4fc20385fff3\">doctor_notransformer</label><div class=\"sk-toggleable__content\"><pre>['company_has_phd']</pre></div></div></div><div class=\"sk-serial\"><div class=\"sk-item\"><div class=\"sk-estimator sk-toggleable\"><input class=\"sk-toggleable__control sk-hidden--visually\" id=\"946adb2a-a7e4-48db-bf32-30bd49b9b1ad\" type=\"checkbox\" ><label class=\"sk-toggleable__label\" for=\"946adb2a-a7e4-48db-bf32-30bd49b9b1ad\">NoTransformer</label><div class=\"sk-toggleable__content\"><pre>NoTransformer()</pre></div></div></div></div></div></div><div class=\"sk-parallel-item\"><div class=\"sk-item\"><div class=\"sk-label-container\"><div class=\"sk-label sk-toggleable\"><input class=\"sk-toggleable__control sk-hidden--visually\" id=\"e1b17ea1-6d22-4ba9-858b-75095134a2e5\" type=\"checkbox\" ><label class=\"sk-toggleable__label\" for=\"e1b17ea1-6d22-4ba9-858b-75095134a2e5\">technical_notransformer</label><div class=\"sk-toggleable__content\"><pre>['proportion_technical']</pre></div></div></div><div class=\"sk-serial\"><div class=\"sk-item\"><div class=\"sk-estimator sk-toggleable\"><input class=\"sk-toggleable__control sk-hidden--visually\" id=\"c98bd444-7e5e-40b7-a467-9767df15b5da\" type=\"checkbox\" ><label class=\"sk-toggleable__label\" for=\"c98bd444-7e5e-40b7-a467-9767df15b5da\">NoTransformer</label><div class=\"sk-toggleable__content\"><pre>NoTransformer()</pre></div></div></div></div></div></div><div class=\"sk-parallel-item\"><div class=\"sk-item\"><div class=\"sk-label-container\"><div class=\"sk-label sk-toggleable\"><input class=\"sk-toggleable__control sk-hidden--visually\" id=\"33148da6-24d7-4320-be26-c52b2ee0b24e\" type=\"checkbox\" ><label class=\"sk-toggleable__label\" for=\"33148da6-24d7-4320-be26-c52b2ee0b24e\">no_people_input_notransformer</label><div class=\"sk-toggleable__content\"><pre>['No_people_input']</pre></div></div></div><div class=\"sk-serial\"><div class=\"sk-item\"><div class=\"sk-estimator sk-toggleable\"><input class=\"sk-toggleable__control sk-hidden--visually\" id=\"1f6e72b0-94cb-4400-bfee-5d6f8ffc71bc\" type=\"checkbox\" ><label class=\"sk-toggleable__label\" for=\"1f6e72b0-94cb-4400-bfee-5d6f8ffc71bc\">NoTransformer</label><div class=\"sk-toggleable__content\"><pre>NoTransformer()</pre></div></div></div></div></div></div><div class=\"sk-parallel-item\"><div class=\"sk-item\"><div class=\"sk-label-container\"><div class=\"sk-label sk-toggleable\"><input class=\"sk-toggleable__control sk-hidden--visually\" id=\"3573548a-c00a-4a24-8040-fd6f05d033f1\" type=\"checkbox\" ><label class=\"sk-toggleable__label\" for=\"3573548a-c00a-4a24-8040-fd6f05d033f1\">founder_from_institute_notransformer</label><div class=\"sk-toggleable__content\"><pre>['founder_from_institute']</pre></div></div></div><div class=\"sk-serial\"><div class=\"sk-item\"><div class=\"sk-estimator sk-toggleable\"><input class=\"sk-toggleable__control sk-hidden--visually\" id=\"a60fa30b-1782-4beb-93f9-5acd12523bcf\" type=\"checkbox\" ><label class=\"sk-toggleable__label\" for=\"a60fa30b-1782-4beb-93f9-5acd12523bcf\">NoTransformer</label><div class=\"sk-toggleable__content\"><pre>NoTransformer()</pre></div></div></div></div></div></div><div class=\"sk-parallel-item\"><div class=\"sk-item\"><div class=\"sk-label-container\"><div class=\"sk-label sk-toggleable\"><input class=\"sk-toggleable__control sk-hidden--visually\" id=\"2b20478d-7a48-438b-888e-785ad71a6233\" type=\"checkbox\" ><label class=\"sk-toggleable__label\" for=\"2b20478d-7a48-438b-888e-785ad71a6233\">founder_has_phd_notransformer</label><div class=\"sk-toggleable__content\"><pre>['founder_has_phd']</pre></div></div></div><div class=\"sk-serial\"><div class=\"sk-item\"><div class=\"sk-estimator sk-toggleable\"><input class=\"sk-toggleable__control sk-hidden--visually\" id=\"9424b780-9e41-4a77-8298-6ac663fff0ae\" type=\"checkbox\" ><label class=\"sk-toggleable__label\" for=\"9424b780-9e41-4a77-8298-6ac663fff0ae\">NoTransformer</label><div class=\"sk-toggleable__content\"><pre>NoTransformer()</pre></div></div></div></div></div></div></div></div></div></div></div></div></div><div class=\"sk-item\"><div class=\"sk-estimator sk-toggleable\"><input class=\"sk-toggleable__control sk-hidden--visually\" id=\"afc605b4-34b5-49f0-85c9-d78c6b8f63b0\" type=\"checkbox\" ><label class=\"sk-toggleable__label\" for=\"afc605b4-34b5-49f0-85c9-d78c6b8f63b0\">RandomForestClassifier</label><div class=\"sk-toggleable__content\"><pre>RandomForestClassifier(n_jobs=-1)</pre></div></div></div></div></div></div></div>"
      ],
      "text/plain": [
       "Pipeline(steps=[('features',\n",
       "                 ColumnTransformer(transformers=[('growth_transformer',\n",
       "                                                  Pipeline(steps=[['growth_stage_age_preparator',\n",
       "                                                                   ColumnTransformer(transformers=[['age_imputer',\n",
       "                                                                                                    Pipeline(steps=[('simpleimputer',\n",
       "                                                                                                                     SimpleImputer())]),\n",
       "                                                                                                    ['age']],\n",
       "                                                                                                   ['growth_stage_transformer',\n",
       "                                                                                                    FunctionTransformer(func=<function <lambda> at 0x11bd46e50>),\n",
       "                                                                                                    ['growth_stage_imputed']]])...\n",
       "                                                                                   ['No_people_input']],\n",
       "                                                                                  ['founder_from_institute_notransformer',\n",
       "                                                                                   NoTransformer(),\n",
       "                                                                                   ['founder_from_institute']],\n",
       "                                                                                  ['founder_has_phd_notransformer',\n",
       "                                                                                   NoTransformer(),\n",
       "                                                                                   ['founder_has_phd']]]),\n",
       "                                                  ['health_industry',\n",
       "                                                   'investors_type',\n",
       "                                                   'company_has_phd',\n",
       "                                                   'proportion_technical',\n",
       "                                                   'No_people_input',\n",
       "                                                   'founder_from_institute',\n",
       "                                                   'founder_has_phd'])])),\n",
       "                ('model', RandomForestClassifier(n_jobs=-1))])"
      ]
     },
     "execution_count": 21,
     "metadata": {},
     "output_type": "execute_result"
    }
   ],
   "source": [
    "pipemodel.fit(X, y)"
   ]
  },
  {
   "cell_type": "code",
   "execution_count": 22,
   "metadata": {
    "ExecuteTime": {
     "end_time": "2020-12-15T17:22:07.537317Z",
     "start_time": "2020-12-15T17:22:02.387912Z"
    }
   },
   "outputs": [],
   "source": [
    "from sklearn.model_selection import cross_validate\n",
    "\n",
    "# Cross validate pipeline\n",
    "cv_result = cross_validate(pipemodel, X, y, cv=10, scoring=[\"accuracy\", \"recall\", \"f1\", \"precision\"])"
   ]
  },
  {
   "cell_type": "code",
   "execution_count": 23,
   "metadata": {
    "ExecuteTime": {
     "end_time": "2020-12-15T17:22:07.588370Z",
     "start_time": "2020-12-15T17:22:07.544905Z"
    }
   },
   "outputs": [
    {
     "name": "stdout",
     "output_type": "stream",
     "text": [
      "test_accuracy :  74.17%\n",
      "test_recall :  71.59%\n",
      "test_f1 :  72.76%\n",
      "test_precision :  74.46%\n"
     ]
    }
   ],
   "source": [
    "scoring=[\"test_accuracy\", \"test_recall\", \"test_f1\", \"test_precision\"]\n",
    "\n",
    "for metric in scoring:\n",
    "    print(f\"{metric} : {cv_result[metric].mean() * 100 : .2f}%\")"
   ]
  },
  {
   "cell_type": "markdown",
   "metadata": {
    "heading_collapsed": true
   },
   "source": [
    "## CROSS VAL"
   ]
  },
  {
   "cell_type": "markdown",
   "metadata": {
    "hidden": true
   },
   "source": [
    "##### y_pred1"
   ]
  },
  {
   "cell_type": "code",
   "execution_count": 28,
   "metadata": {
    "ExecuteTime": {
     "end_time": "2020-12-15T17:24:36.766902Z",
     "start_time": "2020-12-15T17:24:36.028792Z"
    },
    "hidden": true
   },
   "outputs": [
    {
     "name": "stderr",
     "output_type": "stream",
     "text": [
      "<ipython-input-6-a7615c61554e>:62: SettingWithCopyWarning: \n",
      "A value is trying to be set on a copy of a slice from a DataFrame\n",
      "\n",
      "See the caveats in the documentation: https://pandas.pydata.org/pandas-docs/stable/user_guide/indexing.html#returning-a-view-versus-a-copy\n",
      "  data[\"investors_type\"] = fund_investors(data[[\"investors_type\"]])\n"
     ]
    }
   ],
   "source": [
    "data = GetCleanData.get_clean_data()"
   ]
  },
  {
   "cell_type": "code",
   "execution_count": 29,
   "metadata": {
    "ExecuteTime": {
     "end_time": "2020-12-15T17:24:47.585960Z",
     "start_time": "2020-12-15T17:24:47.552616Z"
    },
    "hidden": true
   },
   "outputs": [
    {
     "data": {
      "text/plain": [
       "(1332, 24)"
      ]
     },
     "execution_count": 29,
     "metadata": {},
     "output_type": "execute_result"
    }
   ],
   "source": [
    "data.shape"
   ]
  },
  {
   "cell_type": "code",
   "execution_count": 30,
   "metadata": {
    "ExecuteTime": {
     "end_time": "2020-12-15T17:24:59.737511Z",
     "start_time": "2020-12-15T17:24:59.686656Z"
    },
    "hidden": true
   },
   "outputs": [
    {
     "data": {
      "text/plain": [
       "0"
      ]
     },
     "execution_count": 30,
     "metadata": {},
     "output_type": "execute_result"
    }
   ],
   "source": [
    "data.growth_stage_imputed.isnull().sum()"
   ]
  },
  {
   "cell_type": "code",
   "execution_count": 31,
   "metadata": {
    "ExecuteTime": {
     "end_time": "2020-12-15T17:25:10.906131Z",
     "start_time": "2020-12-15T17:25:10.680914Z"
    },
    "hidden": true
   },
   "outputs": [],
   "source": [
    "X_train = pd.read_csv(\"../bpideep/data/X_train.csv\")\n",
    "y_train = pd.read_csv(\"../bpideep/data/y_train.csv\")\n",
    "\n",
    "X_test = pd.read_csv(\"../bpideep/data/X_test.csv\")\n",
    "y_test = pd.read_csv(\"../bpideep/data/y_test.csv\")\n",
    "\n",
    "\n",
    "X_train = X_train[['id']]\n",
    "X_test = X_test[[\"id\"]]"
   ]
  },
  {
   "cell_type": "code",
   "execution_count": 32,
   "metadata": {
    "ExecuteTime": {
     "end_time": "2020-12-15T17:25:22.427405Z",
     "start_time": "2020-12-15T17:25:22.376516Z"
    },
    "hidden": true
   },
   "outputs": [
    {
     "name": "stdout",
     "output_type": "stream",
     "text": [
      "(892, 1) (440, 1)\n"
     ]
    }
   ],
   "source": [
    "print(X_train.shape, X_test.shape)"
   ]
  },
  {
   "cell_type": "code",
   "execution_count": 33,
   "metadata": {
    "ExecuteTime": {
     "end_time": "2020-12-15T17:27:09.144818Z",
     "start_time": "2020-12-15T17:27:09.096947Z"
    },
    "hidden": true
   },
   "outputs": [],
   "source": [
    "train_data = X_train.merge(data, on= \"id\", how = \"left\")\n",
    "X_train = train_data.drop(columns = [\"target\", \"deep_or_not\"])\n",
    "y_train = train_data[\"target\"]\n",
    "\n",
    "\n",
    "test_data = X_test.merge(data, on= \"id\", how = \"left\")\n",
    "X_test = test_data.drop(columns = [\"target\", \"deep_or_not\"])\n",
    "y_test = test_data[\"target\"]"
   ]
  },
  {
   "cell_type": "code",
   "execution_count": 34,
   "metadata": {
    "ExecuteTime": {
     "end_time": "2020-12-15T17:27:28.587262Z",
     "start_time": "2020-12-15T17:27:24.455194Z"
    },
    "hidden": true
   },
   "outputs": [
    {
     "data": {
      "text/html": [
       "<style>div.sk-top-container {color: black;background-color: white;}div.sk-toggleable {background-color: white;}label.sk-toggleable__label {cursor: pointer;display: block;width: 100%;margin-bottom: 0;padding: 0.2em 0.3em;box-sizing: border-box;text-align: center;}div.sk-toggleable__content {max-height: 0;max-width: 0;overflow: hidden;text-align: left;background-color: #f0f8ff;}div.sk-toggleable__content pre {margin: 0.2em;color: black;border-radius: 0.25em;background-color: #f0f8ff;}input.sk-toggleable__control:checked~div.sk-toggleable__content {max-height: 200px;max-width: 100%;overflow: auto;}div.sk-estimator input.sk-toggleable__control:checked~label.sk-toggleable__label {background-color: #d4ebff;}div.sk-label input.sk-toggleable__control:checked~label.sk-toggleable__label {background-color: #d4ebff;}input.sk-hidden--visually {border: 0;clip: rect(1px 1px 1px 1px);clip: rect(1px, 1px, 1px, 1px);height: 1px;margin: -1px;overflow: hidden;padding: 0;position: absolute;width: 1px;}div.sk-estimator {font-family: monospace;background-color: #f0f8ff;margin: 0.25em 0.25em;border: 1px dotted black;border-radius: 0.25em;box-sizing: border-box;}div.sk-estimator:hover {background-color: #d4ebff;}div.sk-parallel-item::after {content: \"\";width: 100%;border-bottom: 1px solid gray;flex-grow: 1;}div.sk-label:hover label.sk-toggleable__label {background-color: #d4ebff;}div.sk-serial::before {content: \"\";position: absolute;border-left: 1px solid gray;box-sizing: border-box;top: 2em;bottom: 0;left: 50%;}div.sk-serial {display: flex;flex-direction: column;align-items: center;background-color: white;}div.sk-item {z-index: 1;}div.sk-parallel {display: flex;align-items: stretch;justify-content: center;background-color: white;}div.sk-parallel-item {display: flex;flex-direction: column;position: relative;background-color: white;}div.sk-parallel-item:first-child::after {align-self: flex-end;width: 50%;}div.sk-parallel-item:last-child::after {align-self: flex-start;width: 50%;}div.sk-parallel-item:only-child::after {width: 0;}div.sk-dashed-wrapped {border: 1px dashed gray;margin: 0.2em;box-sizing: border-box;padding-bottom: 0.1em;background-color: white;position: relative;}div.sk-label label {font-family: monospace;font-weight: bold;background-color: white;display: inline-block;line-height: 1.2em;}div.sk-label-container {position: relative;z-index: 2;text-align: center;}div.sk-container {display: inline-block;position: relative;}</style><div class=\"sk-top-container\"><div class=\"sk-container\"><div class=\"sk-item sk-dashed-wrapped\"><div class=\"sk-label-container\"><div class=\"sk-label sk-toggleable\"><input class=\"sk-toggleable__control sk-hidden--visually\" id=\"28b43744-1ab0-4842-b369-ce9b3e3fbc1e\" type=\"checkbox\" ><label class=\"sk-toggleable__label\" for=\"28b43744-1ab0-4842-b369-ce9b3e3fbc1e\">Pipeline</label><div class=\"sk-toggleable__content\"><pre>Pipeline(steps=[('features',\n",
       "                 ColumnTransformer(transformers=[('growth_transformer',\n",
       "                                                  Pipeline(steps=[['growth_stage_age_preparator',\n",
       "                                                                   ColumnTransformer(transformers=[['age_imputer',\n",
       "                                                                                                    Pipeline(steps=[('simpleimputer',\n",
       "                                                                                                                     SimpleImputer())]),\n",
       "                                                                                                    ['age']],\n",
       "                                                                                                   ['growth_stage_transformer',\n",
       "                                                                                                    FunctionTransformer(func=<function <lambda> at 0x11bd46e50>),\n",
       "                                                                                                    ['growth_stage_imputed']]])...\n",
       "                                                                                   ['No_people_input']],\n",
       "                                                                                  ['founder_from_institute_notransformer',\n",
       "                                                                                   NoTransformer(),\n",
       "                                                                                   ['founder_from_institute']],\n",
       "                                                                                  ['founder_has_phd_notransformer',\n",
       "                                                                                   NoTransformer(),\n",
       "                                                                                   ['founder_has_phd']]]),\n",
       "                                                  ['health_industry',\n",
       "                                                   'investors_type',\n",
       "                                                   'company_has_phd',\n",
       "                                                   'proportion_technical',\n",
       "                                                   'No_people_input',\n",
       "                                                   'founder_from_institute',\n",
       "                                                   'founder_has_phd'])])),\n",
       "                ('model', RandomForestClassifier(n_jobs=-1))])</pre></div></div></div><div class=\"sk-serial\"><div class=\"sk-item sk-dashed-wrapped\"><div class=\"sk-label-container\"><div class=\"sk-label sk-toggleable\"><input class=\"sk-toggleable__control sk-hidden--visually\" id=\"f7fd798e-ad91-4d09-afdc-caad4d44d0ae\" type=\"checkbox\" ><label class=\"sk-toggleable__label\" for=\"f7fd798e-ad91-4d09-afdc-caad4d44d0ae\">features: ColumnTransformer</label><div class=\"sk-toggleable__content\"><pre>ColumnTransformer(transformers=[('growth_transformer',\n",
       "                                 Pipeline(steps=[['growth_stage_age_preparator',\n",
       "                                                  ColumnTransformer(transformers=[['age_imputer',\n",
       "                                                                                   Pipeline(steps=[('simpleimputer',\n",
       "                                                                                                    SimpleImputer())]),\n",
       "                                                                                   ['age']],\n",
       "                                                                                  ['growth_stage_transformer',\n",
       "                                                                                   FunctionTransformer(func=<function <lambda> at 0x11bd46e50>),\n",
       "                                                                                   ['growth_stage_imputed']]])],\n",
       "                                                 ['growth_stage_age_ratio_c...\n",
       "                                                                 ['no_people_input_notransformer',\n",
       "                                                                  NoTransformer(),\n",
       "                                                                  ['No_people_input']],\n",
       "                                                                 ['founder_from_institute_notransformer',\n",
       "                                                                  NoTransformer(),\n",
       "                                                                  ['founder_from_institute']],\n",
       "                                                                 ['founder_has_phd_notransformer',\n",
       "                                                                  NoTransformer(),\n",
       "                                                                  ['founder_has_phd']]]),\n",
       "                                 ['health_industry', 'investors_type',\n",
       "                                  'company_has_phd', 'proportion_technical',\n",
       "                                  'No_people_input', 'founder_from_institute',\n",
       "                                  'founder_has_phd'])])</pre></div></div></div><div class=\"sk-parallel\"><div class=\"sk-parallel-item\"><div class=\"sk-item\"><div class=\"sk-label-container\"><div class=\"sk-label sk-toggleable\"><input class=\"sk-toggleable__control sk-hidden--visually\" id=\"fb67f91e-d54e-445e-a83d-024a71926867\" type=\"checkbox\" ><label class=\"sk-toggleable__label\" for=\"fb67f91e-d54e-445e-a83d-024a71926867\">growth_transformer</label><div class=\"sk-toggleable__content\"><pre>['growth_stage_imputed', 'age']</pre></div></div></div><div class=\"sk-serial\"><div class=\"sk-item\"><div class=\"sk-serial\"><div class=\"sk-item sk-dashed-wrapped\"><div class=\"sk-label-container\"><div class=\"sk-label sk-toggleable\"><input class=\"sk-toggleable__control sk-hidden--visually\" id=\"8ed01965-6da5-4165-82bd-b3ddded86716\" type=\"checkbox\" ><label class=\"sk-toggleable__label\" for=\"8ed01965-6da5-4165-82bd-b3ddded86716\">growth_stage_age_preparator: ColumnTransformer</label><div class=\"sk-toggleable__content\"><pre>ColumnTransformer(transformers=[['age_imputer',\n",
       "                                 Pipeline(steps=[('simpleimputer',\n",
       "                                                  SimpleImputer())]),\n",
       "                                 ['age']],\n",
       "                                ['growth_stage_transformer',\n",
       "                                 FunctionTransformer(func=<function <lambda> at 0x11bd46e50>),\n",
       "                                 ['growth_stage_imputed']]])</pre></div></div></div><div class=\"sk-parallel\"><div class=\"sk-parallel-item\"><div class=\"sk-item\"><div class=\"sk-label-container\"><div class=\"sk-label sk-toggleable\"><input class=\"sk-toggleable__control sk-hidden--visually\" id=\"63953c15-8b30-4ac4-bc14-d080566e0c71\" type=\"checkbox\" ><label class=\"sk-toggleable__label\" for=\"63953c15-8b30-4ac4-bc14-d080566e0c71\">age_imputer</label><div class=\"sk-toggleable__content\"><pre>['age']</pre></div></div></div><div class=\"sk-serial\"><div class=\"sk-item\"><div class=\"sk-serial\"><div class=\"sk-item\"><div class=\"sk-estimator sk-toggleable\"><input class=\"sk-toggleable__control sk-hidden--visually\" id=\"247a7478-1e62-44af-bcf7-5a380dd3527e\" type=\"checkbox\" ><label class=\"sk-toggleable__label\" for=\"247a7478-1e62-44af-bcf7-5a380dd3527e\">SimpleImputer</label><div class=\"sk-toggleable__content\"><pre>SimpleImputer()</pre></div></div></div></div></div></div></div></div><div class=\"sk-parallel-item\"><div class=\"sk-item\"><div class=\"sk-label-container\"><div class=\"sk-label sk-toggleable\"><input class=\"sk-toggleable__control sk-hidden--visually\" id=\"81b0e4ce-67e5-4ec1-890a-514ee38eb527\" type=\"checkbox\" ><label class=\"sk-toggleable__label\" for=\"81b0e4ce-67e5-4ec1-890a-514ee38eb527\">growth_stage_transformer</label><div class=\"sk-toggleable__content\"><pre>['growth_stage_imputed']</pre></div></div></div><div class=\"sk-serial\"><div class=\"sk-item\"><div class=\"sk-estimator sk-toggleable\"><input class=\"sk-toggleable__control sk-hidden--visually\" id=\"474ff3e8-a403-447e-98e6-0975b7b791fa\" type=\"checkbox\" ><label class=\"sk-toggleable__label\" for=\"474ff3e8-a403-447e-98e6-0975b7b791fa\">FunctionTransformer</label><div class=\"sk-toggleable__content\"><pre>FunctionTransformer(func=<function <lambda> at 0x11bd46e50>)</pre></div></div></div></div></div></div></div></div><div class=\"sk-item\"><div class=\"sk-estimator sk-toggleable\"><input class=\"sk-toggleable__control sk-hidden--visually\" id=\"e7d2e21b-2523-4f73-b9b2-3771f0d00e82\" type=\"checkbox\" ><label class=\"sk-toggleable__label\" for=\"e7d2e21b-2523-4f73-b9b2-3771f0d00e82\">FunctionTransformer</label><div class=\"sk-toggleable__content\"><pre>FunctionTransformer(func=<function compute_growth_age_ratio at 0x11891df70>)</pre></div></div></div></div></div></div></div></div><div class=\"sk-parallel-item\"><div class=\"sk-item\"><div class=\"sk-label-container\"><div class=\"sk-label sk-toggleable\"><input class=\"sk-toggleable__control sk-hidden--visually\" id=\"679b9a37-ec4e-40c7-9549-c29b1c31387f\" type=\"checkbox\" ><label class=\"sk-toggleable__label\" for=\"679b9a37-ec4e-40c7-9549-c29b1c31387f\">ratio_transformer</label><div class=\"sk-toggleable__content\"><pre>['employees_clean', 'employees', 'launch_year_clean', 'employees_latest', 'total_funding_source']</pre></div></div></div><div class=\"sk-serial\"><div class=\"sk-item\"><div class=\"sk-serial\"><div class=\"sk-item\"><div class=\"sk-estimator sk-toggleable\"><input class=\"sk-toggleable__control sk-hidden--visually\" id=\"61d39650-ea69-456d-80bb-4b5ab87f36b7\" type=\"checkbox\" ><label class=\"sk-toggleable__label\" for=\"61d39650-ea69-456d-80bb-4b5ab87f36b7\">EmployeeImputer</label><div class=\"sk-toggleable__content\"><pre>EmployeeImputer()</pre></div></div></div><div class=\"sk-item\"><div class=\"sk-estimator sk-toggleable\"><input class=\"sk-toggleable__control sk-hidden--visually\" id=\"f0e467f4-1b30-41ed-891d-466b20597c4b\" type=\"checkbox\" ><label class=\"sk-toggleable__label\" for=\"f0e467f4-1b30-41ed-891d-466b20597c4b\">FunctionTransformer</label><div class=\"sk-toggleable__content\"><pre>FunctionTransformer(func=<function <lambda> at 0x11bd46280>)</pre></div></div></div><div class=\"sk-item\"><div class=\"sk-estimator sk-toggleable\"><input class=\"sk-toggleable__control sk-hidden--visually\" id=\"06706601-0983-4d7d-82d8-96e3ed14dbb3\" type=\"checkbox\" ><label class=\"sk-toggleable__label\" for=\"06706601-0983-4d7d-82d8-96e3ed14dbb3\">RobustScaler</label><div class=\"sk-toggleable__content\"><pre>RobustScaler()</pre></div></div></div></div></div></div></div></div><div class=\"sk-parallel-item\"><div class=\"sk-item\"><div class=\"sk-label-container\"><div class=\"sk-label sk-toggleable\"><input class=\"sk-toggleable__control sk-hidden--visually\" id=\"b771b78c-a3d6-4740-b732-17b569a85084\" type=\"checkbox\" ><label class=\"sk-toggleable__label\" for=\"b771b78c-a3d6-4740-b732-17b569a85084\">patent_transformer</label><div class=\"sk-toggleable__content\"><pre>['nb_patents']</pre></div></div></div><div class=\"sk-serial\"><div class=\"sk-item\"><div class=\"sk-serial\"><div class=\"sk-item\"><div class=\"sk-estimator sk-toggleable\"><input class=\"sk-toggleable__control sk-hidden--visually\" id=\"17263f89-f60d-49a9-92b6-812d36d482f3\" type=\"checkbox\" ><label class=\"sk-toggleable__label\" for=\"17263f89-f60d-49a9-92b6-812d36d482f3\">SimpleImputer</label><div class=\"sk-toggleable__content\"><pre>SimpleImputer(fill_value=0, strategy='constant')</pre></div></div></div><div class=\"sk-item\"><div class=\"sk-estimator sk-toggleable\"><input class=\"sk-toggleable__control sk-hidden--visually\" id=\"b23d21fc-bb1b-4c6a-8d9e-9fa9d19e8ca4\" type=\"checkbox\" ><label class=\"sk-toggleable__label\" for=\"b23d21fc-bb1b-4c6a-8d9e-9fa9d19e8ca4\">RobustScaler</label><div class=\"sk-toggleable__content\"><pre>RobustScaler()</pre></div></div></div></div></div></div></div></div><div class=\"sk-parallel-item\"><div class=\"sk-item\"><div class=\"sk-label-container\"><div class=\"sk-label sk-toggleable\"><input class=\"sk-toggleable__control sk-hidden--visually\" id=\"ddb657e6-56eb-44c6-ab7b-2a058f54f7ae\" type=\"checkbox\" ><label class=\"sk-toggleable__label\" for=\"ddb657e6-56eb-44c6-ab7b-2a058f54f7ae\">identity</label><div class=\"sk-toggleable__content\"><pre>['health_industry', 'investors_type', 'company_has_phd', 'proportion_technical', 'No_people_input', 'founder_from_institute', 'founder_has_phd']</pre></div></div></div><div class=\"sk-serial\"><div class=\"sk-item sk-dashed-wrapped\"><div class=\"sk-parallel\"><div class=\"sk-parallel-item\"><div class=\"sk-item\"><div class=\"sk-label-container\"><div class=\"sk-label sk-toggleable\"><input class=\"sk-toggleable__control sk-hidden--visually\" id=\"c70e10fa-6a0e-431c-8877-d312dddaf3bd\" type=\"checkbox\" ><label class=\"sk-toggleable__label\" for=\"c70e10fa-6a0e-431c-8877-d312dddaf3bd\">health_notransformer</label><div class=\"sk-toggleable__content\"><pre>['health_industry']</pre></div></div></div><div class=\"sk-serial\"><div class=\"sk-item\"><div class=\"sk-estimator sk-toggleable\"><input class=\"sk-toggleable__control sk-hidden--visually\" id=\"f29488f5-a32d-4a1c-886c-0ebd6dfe5c54\" type=\"checkbox\" ><label class=\"sk-toggleable__label\" for=\"f29488f5-a32d-4a1c-886c-0ebd6dfe5c54\">NoTransformer</label><div class=\"sk-toggleable__content\"><pre>NoTransformer()</pre></div></div></div></div></div></div><div class=\"sk-parallel-item\"><div class=\"sk-item\"><div class=\"sk-label-container\"><div class=\"sk-label sk-toggleable\"><input class=\"sk-toggleable__control sk-hidden--visually\" id=\"32628166-73a2-42ad-be8f-5ecbe109f6b9\" type=\"checkbox\" ><label class=\"sk-toggleable__label\" for=\"32628166-73a2-42ad-be8f-5ecbe109f6b9\">fund_investor_notransformer</label><div class=\"sk-toggleable__content\"><pre>['investors_type']</pre></div></div></div><div class=\"sk-serial\"><div class=\"sk-item\"><div class=\"sk-estimator sk-toggleable\"><input class=\"sk-toggleable__control sk-hidden--visually\" id=\"6cba5339-4ca4-4ea3-8e29-574457f9fc06\" type=\"checkbox\" ><label class=\"sk-toggleable__label\" for=\"6cba5339-4ca4-4ea3-8e29-574457f9fc06\">NoTransformer</label><div class=\"sk-toggleable__content\"><pre>NoTransformer()</pre></div></div></div></div></div></div><div class=\"sk-parallel-item\"><div class=\"sk-item\"><div class=\"sk-label-container\"><div class=\"sk-label sk-toggleable\"><input class=\"sk-toggleable__control sk-hidden--visually\" id=\"1dcd0687-f0af-4b5d-b099-871c38f777e7\" type=\"checkbox\" ><label class=\"sk-toggleable__label\" for=\"1dcd0687-f0af-4b5d-b099-871c38f777e7\">doctor_notransformer</label><div class=\"sk-toggleable__content\"><pre>['company_has_phd']</pre></div></div></div><div class=\"sk-serial\"><div class=\"sk-item\"><div class=\"sk-estimator sk-toggleable\"><input class=\"sk-toggleable__control sk-hidden--visually\" id=\"1c9e2234-de74-4fb0-9784-356fb72dde1b\" type=\"checkbox\" ><label class=\"sk-toggleable__label\" for=\"1c9e2234-de74-4fb0-9784-356fb72dde1b\">NoTransformer</label><div class=\"sk-toggleable__content\"><pre>NoTransformer()</pre></div></div></div></div></div></div><div class=\"sk-parallel-item\"><div class=\"sk-item\"><div class=\"sk-label-container\"><div class=\"sk-label sk-toggleable\"><input class=\"sk-toggleable__control sk-hidden--visually\" id=\"17c988ab-276c-4b6b-8275-e1573026445d\" type=\"checkbox\" ><label class=\"sk-toggleable__label\" for=\"17c988ab-276c-4b6b-8275-e1573026445d\">technical_notransformer</label><div class=\"sk-toggleable__content\"><pre>['proportion_technical']</pre></div></div></div><div class=\"sk-serial\"><div class=\"sk-item\"><div class=\"sk-estimator sk-toggleable\"><input class=\"sk-toggleable__control sk-hidden--visually\" id=\"8ff1a896-09e0-41f3-b36b-434248fe7607\" type=\"checkbox\" ><label class=\"sk-toggleable__label\" for=\"8ff1a896-09e0-41f3-b36b-434248fe7607\">NoTransformer</label><div class=\"sk-toggleable__content\"><pre>NoTransformer()</pre></div></div></div></div></div></div><div class=\"sk-parallel-item\"><div class=\"sk-item\"><div class=\"sk-label-container\"><div class=\"sk-label sk-toggleable\"><input class=\"sk-toggleable__control sk-hidden--visually\" id=\"57511ee3-5401-44dd-9db5-2223900c66a7\" type=\"checkbox\" ><label class=\"sk-toggleable__label\" for=\"57511ee3-5401-44dd-9db5-2223900c66a7\">no_people_input_notransformer</label><div class=\"sk-toggleable__content\"><pre>['No_people_input']</pre></div></div></div><div class=\"sk-serial\"><div class=\"sk-item\"><div class=\"sk-estimator sk-toggleable\"><input class=\"sk-toggleable__control sk-hidden--visually\" id=\"461f9b36-25f4-40c9-9e04-1cebcee01930\" type=\"checkbox\" ><label class=\"sk-toggleable__label\" for=\"461f9b36-25f4-40c9-9e04-1cebcee01930\">NoTransformer</label><div class=\"sk-toggleable__content\"><pre>NoTransformer()</pre></div></div></div></div></div></div><div class=\"sk-parallel-item\"><div class=\"sk-item\"><div class=\"sk-label-container\"><div class=\"sk-label sk-toggleable\"><input class=\"sk-toggleable__control sk-hidden--visually\" id=\"386a8819-a53d-4bed-929b-c4a011b3dcf4\" type=\"checkbox\" ><label class=\"sk-toggleable__label\" for=\"386a8819-a53d-4bed-929b-c4a011b3dcf4\">founder_from_institute_notransformer</label><div class=\"sk-toggleable__content\"><pre>['founder_from_institute']</pre></div></div></div><div class=\"sk-serial\"><div class=\"sk-item\"><div class=\"sk-estimator sk-toggleable\"><input class=\"sk-toggleable__control sk-hidden--visually\" id=\"07e617e9-a97a-4b17-bd99-fd0a122f4237\" type=\"checkbox\" ><label class=\"sk-toggleable__label\" for=\"07e617e9-a97a-4b17-bd99-fd0a122f4237\">NoTransformer</label><div class=\"sk-toggleable__content\"><pre>NoTransformer()</pre></div></div></div></div></div></div><div class=\"sk-parallel-item\"><div class=\"sk-item\"><div class=\"sk-label-container\"><div class=\"sk-label sk-toggleable\"><input class=\"sk-toggleable__control sk-hidden--visually\" id=\"307023ce-e5b5-4fd5-8411-3bdf702e2bf9\" type=\"checkbox\" ><label class=\"sk-toggleable__label\" for=\"307023ce-e5b5-4fd5-8411-3bdf702e2bf9\">founder_has_phd_notransformer</label><div class=\"sk-toggleable__content\"><pre>['founder_has_phd']</pre></div></div></div><div class=\"sk-serial\"><div class=\"sk-item\"><div class=\"sk-estimator sk-toggleable\"><input class=\"sk-toggleable__control sk-hidden--visually\" id=\"ef81b104-54f7-44d7-b00d-0e834ef1a15c\" type=\"checkbox\" ><label class=\"sk-toggleable__label\" for=\"ef81b104-54f7-44d7-b00d-0e834ef1a15c\">NoTransformer</label><div class=\"sk-toggleable__content\"><pre>NoTransformer()</pre></div></div></div></div></div></div></div></div></div></div></div></div></div><div class=\"sk-item\"><div class=\"sk-estimator sk-toggleable\"><input class=\"sk-toggleable__control sk-hidden--visually\" id=\"c149fdeb-6073-4caf-aacf-6972e1f9bc0b\" type=\"checkbox\" ><label class=\"sk-toggleable__label\" for=\"c149fdeb-6073-4caf-aacf-6972e1f9bc0b\">RandomForestClassifier</label><div class=\"sk-toggleable__content\"><pre>RandomForestClassifier(n_jobs=-1)</pre></div></div></div></div></div></div></div>"
      ],
      "text/plain": [
       "Pipeline(steps=[('features',\n",
       "                 ColumnTransformer(transformers=[('growth_transformer',\n",
       "                                                  Pipeline(steps=[['growth_stage_age_preparator',\n",
       "                                                                   ColumnTransformer(transformers=[['age_imputer',\n",
       "                                                                                                    Pipeline(steps=[('simpleimputer',\n",
       "                                                                                                                     SimpleImputer())]),\n",
       "                                                                                                    ['age']],\n",
       "                                                                                                   ['growth_stage_transformer',\n",
       "                                                                                                    FunctionTransformer(func=<function <lambda> at 0x11bd46e50>),\n",
       "                                                                                                    ['growth_stage_imputed']]])...\n",
       "                                                                                   ['No_people_input']],\n",
       "                                                                                  ['founder_from_institute_notransformer',\n",
       "                                                                                   NoTransformer(),\n",
       "                                                                                   ['founder_from_institute']],\n",
       "                                                                                  ['founder_has_phd_notransformer',\n",
       "                                                                                   NoTransformer(),\n",
       "                                                                                   ['founder_has_phd']]]),\n",
       "                                                  ['health_industry',\n",
       "                                                   'investors_type',\n",
       "                                                   'company_has_phd',\n",
       "                                                   'proportion_technical',\n",
       "                                                   'No_people_input',\n",
       "                                                   'founder_from_institute',\n",
       "                                                   'founder_has_phd'])])),\n",
       "                ('model', RandomForestClassifier(n_jobs=-1))])"
      ]
     },
     "execution_count": 34,
     "metadata": {},
     "output_type": "execute_result"
    }
   ],
   "source": [
    "pipemodel.fit(X_train, y_train)"
   ]
  },
  {
   "cell_type": "code",
   "execution_count": 35,
   "metadata": {
    "ExecuteTime": {
     "end_time": "2020-12-15T17:27:46.944156Z",
     "start_time": "2020-12-15T17:27:46.729261Z"
    },
    "hidden": true
   },
   "outputs": [
    {
     "data": {
      "text/plain": [
       "array([[0.67      , 0.33      ],\n",
       "       [0.09      , 0.91      ],\n",
       "       [0.28      , 0.72      ],\n",
       "       [0.45      , 0.55      ],\n",
       "       [0.685     , 0.315     ],\n",
       "       [0.66133333, 0.33866667],\n",
       "       [0.64      , 0.36      ],\n",
       "       [0.74583333, 0.25416667],\n",
       "       [0.82      , 0.18      ],\n",
       "       [0.88      , 0.12      ],\n",
       "       [0.4       , 0.6       ],\n",
       "       [0.09      , 0.91      ],\n",
       "       [0.26      , 0.74      ],\n",
       "       [0.96366667, 0.03633333],\n",
       "       [0.98      , 0.02      ],\n",
       "       [0.1525    , 0.8475    ],\n",
       "       [0.08      , 0.92      ],\n",
       "       [0.964     , 0.036     ],\n",
       "       [0.43448665, 0.56551335],\n",
       "       [0.22      , 0.78      ],\n",
       "       [0.42      , 0.58      ],\n",
       "       [0.06      , 0.94      ],\n",
       "       [0.45      , 0.55      ],\n",
       "       [0.86      , 0.14      ],\n",
       "       [0.87      , 0.13      ],\n",
       "       [0.48      , 0.52      ],\n",
       "       [0.45      , 0.55      ],\n",
       "       [0.85      , 0.15      ],\n",
       "       [0.505     , 0.495     ],\n",
       "       [0.63933333, 0.36066667],\n",
       "       [0.84898413, 0.15101587],\n",
       "       [0.01      , 0.99      ],\n",
       "       [0.38      , 0.62      ],\n",
       "       [0.46      , 0.54      ],\n",
       "       [0.97      , 0.03      ],\n",
       "       [0.28      , 0.72      ],\n",
       "       [0.58      , 0.42      ],\n",
       "       [0.7675    , 0.2325    ],\n",
       "       [0.99      , 0.01      ],\n",
       "       [0.70661905, 0.29338095],\n",
       "       [0.66353571, 0.33646429],\n",
       "       [0.88      , 0.12      ],\n",
       "       [0.93      , 0.07      ],\n",
       "       [0.28      , 0.72      ],\n",
       "       [0.61      , 0.39      ],\n",
       "       [0.84815801, 0.15184199],\n",
       "       [0.46      , 0.54      ],\n",
       "       [0.48      , 0.52      ],\n",
       "       [0.4       , 0.6       ],\n",
       "       [0.41      , 0.59      ],\n",
       "       [0.73      , 0.27      ],\n",
       "       [0.91      , 0.09      ],\n",
       "       [0.7       , 0.3       ],\n",
       "       [0.85      , 0.15      ],\n",
       "       [0.89      , 0.11      ],\n",
       "       [0.1       , 0.9       ],\n",
       "       [0.1       , 0.9       ],\n",
       "       [0.25      , 0.75      ],\n",
       "       [0.01      , 0.99      ],\n",
       "       [0.90783333, 0.09216667],\n",
       "       [0.2       , 0.8       ],\n",
       "       [0.94      , 0.06      ],\n",
       "       [0.16      , 0.84      ],\n",
       "       [0.33      , 0.67      ],\n",
       "       [0.01      , 0.99      ],\n",
       "       [0.82      , 0.18      ],\n",
       "       [0.63      , 0.37      ],\n",
       "       [0.79416667, 0.20583333],\n",
       "       [0.01      , 0.99      ],\n",
       "       [0.05      , 0.95      ],\n",
       "       [0.891401  , 0.108599  ],\n",
       "       [0.994     , 0.006     ],\n",
       "       [0.49      , 0.51      ],\n",
       "       [0.97      , 0.03      ],\n",
       "       [0.69      , 0.31      ],\n",
       "       [0.88666667, 0.11333333],\n",
       "       [0.53      , 0.47      ],\n",
       "       [0.96666667, 0.03333333],\n",
       "       [0.19      , 0.81      ],\n",
       "       [0.01      , 0.99      ],\n",
       "       [0.61      , 0.39      ],\n",
       "       [0.15      , 0.85      ],\n",
       "       [0.92116667, 0.07883333],\n",
       "       [0.96      , 0.04      ],\n",
       "       [0.51      , 0.49      ],\n",
       "       [1.        , 0.        ],\n",
       "       [0.57      , 0.43      ],\n",
       "       [0.59555808, 0.40444192],\n",
       "       [0.50617208, 0.49382792],\n",
       "       [0.1       , 0.9       ],\n",
       "       [0.93      , 0.07      ],\n",
       "       [0.04      , 0.96      ],\n",
       "       [0.38      , 0.62      ],\n",
       "       [0.37      , 0.63      ],\n",
       "       [0.74      , 0.26      ],\n",
       "       [0.88      , 0.12      ],\n",
       "       [0.66353571, 0.33646429],\n",
       "       [0.84      , 0.16      ],\n",
       "       [0.22      , 0.78      ],\n",
       "       [0.76      , 0.24      ],\n",
       "       [0.92      , 0.08      ],\n",
       "       [0.02      , 0.98      ],\n",
       "       [0.994     , 0.006     ],\n",
       "       [0.6       , 0.4       ],\n",
       "       [0.        , 1.        ],\n",
       "       [0.77      , 0.23      ],\n",
       "       [0.04      , 0.96      ],\n",
       "       [0.09      , 0.91      ],\n",
       "       [0.04      , 0.96      ],\n",
       "       [0.04      , 0.96      ],\n",
       "       [0.90738889, 0.09261111],\n",
       "       [0.79333333, 0.20666667],\n",
       "       [0.635     , 0.365     ],\n",
       "       [0.50617208, 0.49382792],\n",
       "       [0.01      , 0.99      ],\n",
       "       [0.23      , 0.77      ],\n",
       "       [0.51      , 0.49      ],\n",
       "       [0.32      , 0.68      ],\n",
       "       [0.66      , 0.34      ],\n",
       "       [0.75      , 0.25      ],\n",
       "       [0.31017857, 0.68982143],\n",
       "       [0.11      , 0.89      ],\n",
       "       [0.12      , 0.88      ],\n",
       "       [0.79      , 0.21      ],\n",
       "       [0.06      , 0.94      ],\n",
       "       [0.505     , 0.495     ],\n",
       "       [0.05      , 0.95      ],\n",
       "       [0.01      , 0.99      ],\n",
       "       [1.        , 0.        ],\n",
       "       [0.        , 1.        ],\n",
       "       [0.54      , 0.46      ],\n",
       "       [0.22      , 0.78      ],\n",
       "       [0.84898413, 0.15101587],\n",
       "       [0.67      , 0.33      ],\n",
       "       [0.03      , 0.97      ],\n",
       "       [0.03      , 0.97      ],\n",
       "       [0.72      , 0.28      ],\n",
       "       [1.        , 0.        ],\n",
       "       [0.15      , 0.85      ],\n",
       "       [0.52      , 0.48      ],\n",
       "       [0.56      , 0.44      ],\n",
       "       [0.05      , 0.95      ],\n",
       "       [0.8       , 0.2       ],\n",
       "       [0.75      , 0.25      ],\n",
       "       [1.        , 0.        ],\n",
       "       [0.16      , 0.84      ],\n",
       "       [0.39      , 0.61      ],\n",
       "       [0.79      , 0.21      ],\n",
       "       [0.37      , 0.63      ],\n",
       "       [0.08      , 0.92      ],\n",
       "       [0.28      , 0.72      ],\n",
       "       [1.        , 0.        ],\n",
       "       [0.845     , 0.155     ],\n",
       "       [0.24      , 0.76      ],\n",
       "       [0.01      , 0.99      ],\n",
       "       [0.73      , 0.27      ],\n",
       "       [0.35      , 0.65      ],\n",
       "       [0.04      , 0.96      ],\n",
       "       [0.98      , 0.02      ],\n",
       "       [0.81      , 0.19      ],\n",
       "       [0.31      , 0.69      ],\n",
       "       [0.17      , 0.83      ],\n",
       "       [0.65      , 0.35      ],\n",
       "       [0.35      , 0.65      ],\n",
       "       [0.7       , 0.3       ],\n",
       "       [0.81      , 0.19      ],\n",
       "       [0.03      , 0.97      ],\n",
       "       [0.71      , 0.29      ],\n",
       "       [0.79      , 0.21      ],\n",
       "       [0.83      , 0.17      ],\n",
       "       [0.25      , 0.75      ],\n",
       "       [0.38      , 0.62      ],\n",
       "       [0.994     , 0.006     ],\n",
       "       [0.31      , 0.69      ],\n",
       "       [0.83      , 0.17      ],\n",
       "       [0.994     , 0.006     ],\n",
       "       [0.44      , 0.56      ],\n",
       "       [0.83      , 0.17      ],\n",
       "       [0.53      , 0.47      ],\n",
       "       [0.7419026 , 0.2580974 ],\n",
       "       [0.48333333, 0.51666667],\n",
       "       [0.68      , 0.32      ],\n",
       "       [0.09      , 0.91      ],\n",
       "       [0.97      , 0.03      ],\n",
       "       [0.68      , 0.32      ],\n",
       "       [0.        , 1.        ],\n",
       "       [0.04      , 0.96      ],\n",
       "       [0.57      , 0.43      ],\n",
       "       [0.4       , 0.6       ],\n",
       "       [0.795     , 0.205     ],\n",
       "       [0.67      , 0.33      ],\n",
       "       [0.8       , 0.2       ],\n",
       "       [0.99      , 0.01      ],\n",
       "       [0.87      , 0.13      ],\n",
       "       [0.64      , 0.36      ],\n",
       "       [0.951     , 0.049     ],\n",
       "       [0.74      , 0.26      ],\n",
       "       [0.7       , 0.3       ],\n",
       "       [0.5       , 0.5       ],\n",
       "       [0.1       , 0.9       ],\n",
       "       [0.84      , 0.16      ],\n",
       "       [0.94      , 0.06      ],\n",
       "       [0.44      , 0.56      ],\n",
       "       [0.94      , 0.06      ],\n",
       "       [0.56      , 0.44      ],\n",
       "       [0.29      , 0.71      ],\n",
       "       [0.08      , 0.92      ],\n",
       "       [0.        , 1.        ],\n",
       "       [0.65      , 0.35      ],\n",
       "       [0.61      , 0.39      ],\n",
       "       [0.88      , 0.12      ],\n",
       "       [0.86      , 0.14      ],\n",
       "       [0.56      , 0.44      ],\n",
       "       [0.50666667, 0.49333333],\n",
       "       [0.17      , 0.83      ],\n",
       "       [0.05      , 0.95      ],\n",
       "       [0.64416667, 0.35583333],\n",
       "       [0.90340485, 0.09659515],\n",
       "       [0.88      , 0.12      ],\n",
       "       [1.        , 0.        ],\n",
       "       [0.86      , 0.14      ],\n",
       "       [0.50617208, 0.49382792],\n",
       "       [0.905     , 0.095     ],\n",
       "       [0.97      , 0.03      ],\n",
       "       [0.79634055, 0.20365945],\n",
       "       [0.95      , 0.05      ],\n",
       "       [0.31      , 0.69      ],\n",
       "       [0.12      , 0.88      ],\n",
       "       [0.975     , 0.025     ],\n",
       "       [0.99      , 0.01      ],\n",
       "       [0.82      , 0.18      ],\n",
       "       [0.04      , 0.96      ],\n",
       "       [0.1       , 0.9       ],\n",
       "       [0.45      , 0.55      ],\n",
       "       [0.33311905, 0.66688095],\n",
       "       [0.91      , 0.09      ],\n",
       "       [0.5       , 0.5       ],\n",
       "       [0.42      , 0.58      ],\n",
       "       [0.        , 1.        ],\n",
       "       [0.28759524, 0.71240476],\n",
       "       [0.78      , 0.22      ],\n",
       "       [0.62333333, 0.37666667],\n",
       "       [0.56      , 0.44      ],\n",
       "       [0.895     , 0.105     ],\n",
       "       [0.82      , 0.18      ],\n",
       "       [0.11      , 0.89      ],\n",
       "       [0.03      , 0.97      ],\n",
       "       [0.96366667, 0.03633333],\n",
       "       [0.5       , 0.5       ],\n",
       "       [0.91      , 0.09      ],\n",
       "       [0.1565    , 0.8435    ],\n",
       "       [0.34      , 0.66      ],\n",
       "       [0.4       , 0.6       ],\n",
       "       [0.16304762, 0.83695238],\n",
       "       [0.81      , 0.19      ],\n",
       "       [0.94416667, 0.05583333],\n",
       "       [0.50617208, 0.49382792],\n",
       "       [0.51833333, 0.48166667],\n",
       "       [0.79766667, 0.20233333],\n",
       "       [0.04      , 0.96      ],\n",
       "       [0.945     , 0.055     ],\n",
       "       [0.14      , 0.86      ],\n",
       "       [0.24      , 0.76      ],\n",
       "       [0.77166667, 0.22833333],\n",
       "       [0.845     , 0.155     ],\n",
       "       [0.34      , 0.66      ],\n",
       "       [0.35      , 0.65      ],\n",
       "       [0.06      , 0.94      ],\n",
       "       [0.93666667, 0.06333333],\n",
       "       [0.61      , 0.39      ],\n",
       "       [0.42      , 0.58      ],\n",
       "       [0.34      , 0.66      ],\n",
       "       [0.57833333, 0.42166667],\n",
       "       [0.26      , 0.74      ],\n",
       "       [0.09      , 0.91      ],\n",
       "       [0.1       , 0.9       ],\n",
       "       [0.03      , 0.97      ],\n",
       "       [0.994     , 0.006     ],\n",
       "       [0.68      , 0.32      ],\n",
       "       [0.45      , 0.55      ],\n",
       "       [0.98533333, 0.01466667],\n",
       "       [0.50617208, 0.49382792],\n",
       "       [0.22238095, 0.77761905],\n",
       "       [0.92      , 0.08      ],\n",
       "       [0.5       , 0.5       ],\n",
       "       [0.04      , 0.96      ],\n",
       "       [0.11      , 0.89      ],\n",
       "       [0.37      , 0.63      ],\n",
       "       [0.8       , 0.2       ],\n",
       "       [0.945     , 0.055     ],\n",
       "       [0.58      , 0.42      ],\n",
       "       [0.11      , 0.89      ],\n",
       "       [0.7419026 , 0.2580974 ],\n",
       "       [0.50617208, 0.49382792],\n",
       "       [0.05      , 0.95      ],\n",
       "       [0.81      , 0.19      ],\n",
       "       [0.92      , 0.08      ],\n",
       "       [0.70033333, 0.29966667],\n",
       "       [0.9225    , 0.0775    ],\n",
       "       [0.26      , 0.74      ],\n",
       "       [0.49      , 0.51      ],\n",
       "       [0.33311905, 0.66688095],\n",
       "       [0.92      , 0.08      ],\n",
       "       [0.25      , 0.75      ],\n",
       "       [0.98      , 0.02      ],\n",
       "       [0.54      , 0.46      ],\n",
       "       [0.64      , 0.36      ],\n",
       "       [0.06      , 0.94      ],\n",
       "       [0.99666667, 0.00333333],\n",
       "       [0.94      , 0.06      ],\n",
       "       [0.38      , 0.62      ],\n",
       "       [0.22      , 0.78      ],\n",
       "       [0.21      , 0.79      ],\n",
       "       [0.67      , 0.33      ],\n",
       "       [0.06      , 0.94      ],\n",
       "       [0.99      , 0.01      ],\n",
       "       [0.02      , 0.98      ],\n",
       "       [0.52      , 0.48      ],\n",
       "       [0.90340485, 0.09659515],\n",
       "       [0.14      , 0.86      ],\n",
       "       [0.79634055, 0.20365945],\n",
       "       [0.63133333, 0.36866667],\n",
       "       [0.86      , 0.14      ],\n",
       "       [0.03      , 0.97      ],\n",
       "       [0.54      , 0.46      ],\n",
       "       [0.29      , 0.71      ],\n",
       "       [0.48      , 0.52      ],\n",
       "       [0.13      , 0.87      ],\n",
       "       [0.56      , 0.44      ],\n",
       "       [0.08      , 0.92      ],\n",
       "       [0.89      , 0.11      ],\n",
       "       [0.42      , 0.58      ],\n",
       "       [0.64      , 0.36      ],\n",
       "       [0.45      , 0.55      ],\n",
       "       [0.73      , 0.27      ],\n",
       "       [0.88      , 0.12      ],\n",
       "       [0.66      , 0.34      ],\n",
       "       [0.28      , 0.72      ],\n",
       "       [0.68      , 0.32      ],\n",
       "       [0.59583333, 0.40416667],\n",
       "       [0.98      , 0.02      ],\n",
       "       [0.75      , 0.25      ],\n",
       "       [0.94      , 0.06      ],\n",
       "       [0.92666667, 0.07333333],\n",
       "       [0.66      , 0.34      ],\n",
       "       [1.        , 0.        ],\n",
       "       [0.73      , 0.27      ],\n",
       "       [0.9       , 0.1       ],\n",
       "       [0.44      , 0.56      ],\n",
       "       [0.68      , 0.32      ],\n",
       "       [0.53      , 0.47      ],\n",
       "       [0.9       , 0.1       ],\n",
       "       [0.35      , 0.65      ],\n",
       "       [0.956     , 0.044     ],\n",
       "       [0.6       , 0.4       ],\n",
       "       [0.2       , 0.8       ],\n",
       "       [0.81      , 0.19      ],\n",
       "       [0.395     , 0.605     ],\n",
       "       [0.50617208, 0.49382792],\n",
       "       [0.45845238, 0.54154762],\n",
       "       [0.19      , 0.81      ],\n",
       "       [0.94      , 0.06      ],\n",
       "       [1.        , 0.        ],\n",
       "       [0.23      , 0.77      ],\n",
       "       [0.64      , 0.36      ],\n",
       "       [0.07      , 0.93      ],\n",
       "       [0.7       , 0.3       ],\n",
       "       [0.43928571, 0.56071429],\n",
       "       [0.4725    , 0.5275    ],\n",
       "       [0.6855    , 0.3145    ],\n",
       "       [0.97      , 0.03      ],\n",
       "       [0.32      , 0.68      ],\n",
       "       [0.96366667, 0.03633333],\n",
       "       [0.93666667, 0.06333333],\n",
       "       [0.81633333, 0.18366667],\n",
       "       [0.06      , 0.94      ],\n",
       "       [0.17      , 0.83      ],\n",
       "       [0.95      , 0.05      ],\n",
       "       [0.56033333, 0.43966667],\n",
       "       [0.77      , 0.23      ],\n",
       "       [0.05      , 0.95      ],\n",
       "       [0.12      , 0.88      ],\n",
       "       [0.19      , 0.81      ],\n",
       "       [0.1       , 0.9       ],\n",
       "       [0.61      , 0.39      ],\n",
       "       [0.69      , 0.31      ],\n",
       "       [0.32      , 0.68      ],\n",
       "       [0.64645238, 0.35354762],\n",
       "       [0.02      , 0.98      ],\n",
       "       [0.65      , 0.35      ],\n",
       "       [0.18      , 0.82      ],\n",
       "       [0.61967713, 0.38032287],\n",
       "       [0.44      , 0.56      ],\n",
       "       [0.77      , 0.23      ],\n",
       "       [0.95      , 0.05      ],\n",
       "       [0.07      , 0.93      ],\n",
       "       [1.        , 0.        ],\n",
       "       [0.895     , 0.105     ],\n",
       "       [0.71      , 0.29      ],\n",
       "       [0.83      , 0.17      ],\n",
       "       [0.02      , 0.98      ],\n",
       "       [0.99      , 0.01      ],\n",
       "       [0.97      , 0.03      ],\n",
       "       [0.68646825, 0.31353175],\n",
       "       [0.86      , 0.14      ],\n",
       "       [0.73      , 0.27      ],\n",
       "       [0.58      , 0.42      ],\n",
       "       [0.79      , 0.21      ],\n",
       "       [0.13      , 0.87      ],\n",
       "       [0.7       , 0.3       ],\n",
       "       [0.77      , 0.23      ],\n",
       "       [0.88      , 0.12      ],\n",
       "       [1.        , 0.        ],\n",
       "       [0.44      , 0.56      ],\n",
       "       [0.37      , 0.63      ],\n",
       "       [0.67      , 0.33      ],\n",
       "       [0.38333333, 0.61666667],\n",
       "       [0.93      , 0.07      ],\n",
       "       [0.07      , 0.93      ],\n",
       "       [0.95      , 0.05      ],\n",
       "       [0.81      , 0.19      ],\n",
       "       [0.22      , 0.78      ],\n",
       "       [0.03      , 0.97      ],\n",
       "       [0.03      , 0.97      ],\n",
       "       [0.42      , 0.58      ],\n",
       "       [0.48      , 0.52      ],\n",
       "       [0.8       , 0.2       ],\n",
       "       [0.99809091, 0.00190909],\n",
       "       [0.11      , 0.89      ],\n",
       "       [0.75      , 0.25      ],\n",
       "       [0.1       , 0.9       ],\n",
       "       [0.16      , 0.84      ],\n",
       "       [0.78      , 0.22      ],\n",
       "       [0.56      , 0.44      ],\n",
       "       [0.813     , 0.187     ],\n",
       "       [0.8235    , 0.1765    ],\n",
       "       [0.24      , 0.76      ],\n",
       "       [0.8       , 0.2       ],\n",
       "       [0.14      , 0.86      ],\n",
       "       [0.7419026 , 0.2580974 ]])"
      ]
     },
     "execution_count": 35,
     "metadata": {},
     "output_type": "execute_result"
    }
   ],
   "source": [
    "y_pred1 = pipemodel.predict_proba(X_test)\n",
    "y_pred1"
   ]
  },
  {
   "cell_type": "code",
   "execution_count": 36,
   "metadata": {
    "ExecuteTime": {
     "end_time": "2020-12-15T17:28:13.928740Z",
     "start_time": "2020-12-15T17:28:13.891696Z"
    },
    "hidden": true
   },
   "outputs": [
    {
     "data": {
      "text/plain": [
       "(440, 2)"
      ]
     },
     "execution_count": 36,
     "metadata": {},
     "output_type": "execute_result"
    }
   ],
   "source": [
    "y_pred1.shape"
   ]
  },
  {
   "cell_type": "code",
   "execution_count": 37,
   "metadata": {
    "ExecuteTime": {
     "end_time": "2020-12-15T17:28:33.275415Z",
     "start_time": "2020-12-15T17:28:33.239650Z"
    },
    "hidden": true
   },
   "outputs": [
    {
     "data": {
      "text/plain": [
       "(440,)"
      ]
     },
     "execution_count": 37,
     "metadata": {},
     "output_type": "execute_result"
    }
   ],
   "source": [
    "y_test.shape"
   ]
  },
  {
   "cell_type": "code",
   "execution_count": null,
   "metadata": {
    "ExecuteTime": {
     "end_time": "2020-12-15T17:22:08.205336Z",
     "start_time": "2020-12-15T17:21:38.747Z"
    },
    "hidden": true
   },
   "outputs": [],
   "source": [
    "pd.DataFrame(y_pred1).to_csv(\"y_pred1.csv\")"
   ]
  },
  {
   "cell_type": "markdown",
   "metadata": {
    "heading_collapsed": true,
    "hidden": true
   },
   "source": [
    "##### y_pred2"
   ]
  },
  {
   "cell_type": "code",
   "execution_count": null,
   "metadata": {
    "ExecuteTime": {
     "end_time": "2020-12-15T17:22:08.207163Z",
     "start_time": "2020-12-15T17:21:38.753Z"
    },
    "hidden": true
   },
   "outputs": [],
   "source": [
    "data2 = GetCleanData.get_clean_data()"
   ]
  },
  {
   "cell_type": "code",
   "execution_count": null,
   "metadata": {
    "ExecuteTime": {
     "end_time": "2020-12-15T17:22:08.209244Z",
     "start_time": "2020-12-15T17:21:38.758Z"
    },
    "hidden": true
   },
   "outputs": [],
   "source": [
    "X_train2 = pd.read_csv(\"../bpideep/data/X_train2.csv\")\n",
    "y_train2 = pd.read_csv(\"../bpideep/data/y_train2.csv\")\n",
    "\n",
    "X_test2 = pd.read_csv(\"../bpideep/data/X_test2.csv\")\n",
    "y_test2 = pd.read_csv(\"../bpideep/data/y_test2.csv\")\n",
    "\n",
    "\n",
    "X_train2 = X_train2[['id']]\n",
    "X_test2 = X_test2[[\"id\"]]"
   ]
  },
  {
   "cell_type": "code",
   "execution_count": null,
   "metadata": {
    "ExecuteTime": {
     "end_time": "2020-12-15T17:22:08.211329Z",
     "start_time": "2020-12-15T17:21:38.762Z"
    },
    "hidden": true
   },
   "outputs": [],
   "source": [
    "train_data2 = X_train2.merge(data2, on= \"id\", how = \"left\")\n",
    "X_train2 = train_data2.drop(columns = [\"target\", \"deep_or_not\"])\n",
    "y_train2 = train_data2[\"target\"]\n",
    "\n",
    "\n",
    "test_data2 = X_test2.merge(data2, on= \"id\", how = \"left\")\n",
    "X_test2 = test_data2.drop(columns = [\"target\", \"deep_or_not\"])\n",
    "y_test2 = test_data2[\"target\"]"
   ]
  },
  {
   "cell_type": "code",
   "execution_count": null,
   "metadata": {
    "ExecuteTime": {
     "end_time": "2020-12-15T17:22:08.213145Z",
     "start_time": "2020-12-15T17:21:38.766Z"
    },
    "hidden": true
   },
   "outputs": [],
   "source": [
    "pipemodel.fit(X_train2, y_train2)\n",
    "y_pred2 = pipemodel.predict_proba(X_test2)\n",
    "y_pred2 = pd.DataFrame(y_pred2)\n",
    "y_pred2.to_csv(\"y_pred2.csv\")"
   ]
  },
  {
   "cell_type": "code",
   "execution_count": null,
   "metadata": {
    "ExecuteTime": {
     "end_time": "2020-12-15T17:22:08.214557Z",
     "start_time": "2020-12-15T17:21:38.774Z"
    },
    "hidden": true
   },
   "outputs": [],
   "source": [
    "y_pred2.shape"
   ]
  },
  {
   "cell_type": "markdown",
   "metadata": {
    "hidden": true
   },
   "source": [
    "##### y_pred3"
   ]
  },
  {
   "cell_type": "code",
   "execution_count": null,
   "metadata": {
    "ExecuteTime": {
     "end_time": "2020-12-15T17:22:08.216616Z",
     "start_time": "2020-12-15T17:21:38.788Z"
    },
    "hidden": true
   },
   "outputs": [],
   "source": [
    "data3 = GetCleanData.get_clean_data()"
   ]
  },
  {
   "cell_type": "code",
   "execution_count": null,
   "metadata": {
    "ExecuteTime": {
     "end_time": "2020-12-15T17:22:08.218703Z",
     "start_time": "2020-12-15T17:21:38.795Z"
    },
    "hidden": true
   },
   "outputs": [],
   "source": [
    "X_train3 = pd.read_csv(\"../bpideep/data/X_train3.csv\")\n",
    "y_train3 = pd.read_csv(\"../bpideep/data/y_train3.csv\")\n",
    "\n",
    "X_test3 = pd.read_csv(\"../bpideep/data/X_test3.csv\")\n",
    "y_test3 = pd.read_csv(\"../bpideep/data/y_test3.csv\")\n",
    "\n",
    "\n",
    "X_train3 = X_train3[['id']]\n",
    "X_test3 = X_test3[[\"id\"]]"
   ]
  },
  {
   "cell_type": "code",
   "execution_count": null,
   "metadata": {
    "ExecuteTime": {
     "end_time": "2020-12-15T17:22:08.220107Z",
     "start_time": "2020-12-15T17:21:38.802Z"
    },
    "hidden": true
   },
   "outputs": [],
   "source": [
    "train_data3 = X_train3.merge(data3, on= \"id\", how = \"left\")\n",
    "X_train3 = train_data3.drop(columns = [\"target\", \"deep_or_not\"])\n",
    "y_train3 = train_data3[\"target\"]\n",
    "\n",
    "\n",
    "test_data3 = X_test3.merge(data3, on= \"id\", how = \"left\")\n",
    "X_test3 = test_data3.drop(columns = [\"target\", \"deep_or_not\"])\n",
    "y_test3 = test_data3[\"target\"]"
   ]
  },
  {
   "cell_type": "code",
   "execution_count": null,
   "metadata": {
    "ExecuteTime": {
     "end_time": "2020-12-15T17:22:08.222237Z",
     "start_time": "2020-12-15T17:21:38.811Z"
    },
    "hidden": true
   },
   "outputs": [],
   "source": [
    "pipemodel.fit(X_train3, y_train3)\n",
    "y_pred3 = pipemodel.predict_proba(X_test3)\n",
    "y_pred3 = pd.DataFrame(y_pred3)\n",
    "y_pred3.to_csv(\"y_pred3.csv\")\n",
    "y_pred3.shape"
   ]
  },
  {
   "cell_type": "markdown",
   "metadata": {
    "heading_collapsed": true
   },
   "source": [
    "# Test import stt"
   ]
  },
  {
   "cell_type": "code",
   "execution_count": 38,
   "metadata": {
    "ExecuteTime": {
     "end_time": "2020-12-15T17:29:02.339490Z",
     "start_time": "2020-12-15T17:28:54.554983Z"
    },
    "hidden": true
   },
   "outputs": [
    {
     "name": "stdout",
     "output_type": "stream",
     "text": [
      "Obtaining file:///Users/catherinechen/code/bpifrance_deeptech_analysis\n",
      "Requirement already satisfied: setuptools in /Users/catherinechen/.pyenv/versions/3.8.6/envs/deep4deep2/lib/python3.8/site-packages (from bpideep==1.0) (49.2.1)\n",
      "Requirement already satisfied: pandas in /Users/catherinechen/.pyenv/versions/3.8.6/envs/deep4deep2/lib/python3.8/site-packages (from bpideep==1.0) (1.1.4)\n",
      "Requirement already satisfied: Flask in /Users/catherinechen/.pyenv/versions/3.8.6/envs/deep4deep2/lib/python3.8/site-packages (from bpideep==1.0) (1.1.1)\n",
      "Requirement already satisfied: Flask-Cors in /Users/catherinechen/.pyenv/versions/3.8.6/envs/deep4deep2/lib/python3.8/site-packages (from bpideep==1.0) (3.0.8)\n",
      "Requirement already satisfied: gunicorn in /Users/catherinechen/.pyenv/versions/3.8.6/envs/deep4deep2/lib/python3.8/site-packages (from bpideep==1.0) (20.0.4)\n",
      "Requirement already satisfied: numpy in /Users/catherinechen/.pyenv/versions/3.8.6/envs/deep4deep2/lib/python3.8/site-packages (from bpideep==1.0) (1.19.4)\n",
      "Requirement already satisfied: matplotlib in /Users/catherinechen/.pyenv/versions/3.8.6/envs/deep4deep2/lib/python3.8/site-packages (from bpideep==1.0) (3.3.3)\n",
      "Requirement already satisfied: requests in /Users/catherinechen/.pyenv/versions/3.8.6/envs/deep4deep2/lib/python3.8/site-packages (from bpideep==1.0) (2.25.0)\n",
      "Requirement already satisfied: google-cloud-bigquery in /Users/catherinechen/.pyenv/versions/3.8.6/envs/deep4deep2/lib/python3.8/site-packages (from bpideep==1.0) (2.4.0)\n",
      "Requirement already satisfied: datetime in /Users/catherinechen/.pyenv/versions/3.8.6/envs/deep4deep2/lib/python3.8/site-packages (from bpideep==1.0) (4.3)\n",
      "Requirement already satisfied: scikit-learn in /Users/catherinechen/.pyenv/versions/3.8.6/envs/deep4deep2/lib/python3.8/site-packages (from bpideep==1.0) (0.23.2)\n",
      "Requirement already satisfied: joblib in /Users/catherinechen/.pyenv/versions/3.8.6/envs/deep4deep2/lib/python3.8/site-packages (from bpideep==1.0) (0.17.0)\n",
      "Requirement already satisfied: python-dotenv in /Users/catherinechen/.pyenv/versions/3.8.6/envs/deep4deep2/lib/python3.8/site-packages (from bpideep==1.0) (0.15.0)\n",
      "Requirement already satisfied: typed-ast in /Users/catherinechen/.pyenv/versions/3.8.6/envs/deep4deep2/lib/python3.8/site-packages (from bpideep==1.0) (1.4.1)\n",
      "Requirement already satisfied: ipdb in /Users/catherinechen/.pyenv/versions/3.8.6/envs/deep4deep2/lib/python3.8/site-packages (from bpideep==1.0) (0.13.4)\n",
      "Requirement already satisfied: pytz in /Users/catherinechen/.pyenv/versions/3.8.6/envs/deep4deep2/lib/python3.8/site-packages (from datetime->bpideep==1.0) (2020.4)\n",
      "Requirement already satisfied: zope.interface in /Users/catherinechen/.pyenv/versions/3.8.6/envs/deep4deep2/lib/python3.8/site-packages (from datetime->bpideep==1.0) (5.2.0)\n",
      "Requirement already satisfied: Werkzeug>=0.15 in /Users/catherinechen/.pyenv/versions/3.8.6/envs/deep4deep2/lib/python3.8/site-packages (from Flask->bpideep==1.0) (1.0.1)\n",
      "Requirement already satisfied: itsdangerous>=0.24 in /Users/catherinechen/.pyenv/versions/3.8.6/envs/deep4deep2/lib/python3.8/site-packages (from Flask->bpideep==1.0) (1.1.0)\n",
      "Requirement already satisfied: click>=5.1 in /Users/catherinechen/.pyenv/versions/3.8.6/envs/deep4deep2/lib/python3.8/site-packages (from Flask->bpideep==1.0) (7.1.2)\n",
      "Requirement already satisfied: Jinja2>=2.10.1 in /Users/catherinechen/.pyenv/versions/3.8.6/envs/deep4deep2/lib/python3.8/site-packages (from Flask->bpideep==1.0) (2.11.2)\n",
      "Requirement already satisfied: Flask in /Users/catherinechen/.pyenv/versions/3.8.6/envs/deep4deep2/lib/python3.8/site-packages (from bpideep==1.0) (1.1.1)\n",
      "Requirement already satisfied: Six in /Users/catherinechen/.pyenv/versions/3.8.6/envs/deep4deep2/lib/python3.8/site-packages (from Flask-Cors->bpideep==1.0) (1.15.0)\n",
      "Requirement already satisfied: google-api-core[grpc]<2.0.0dev,>=1.23.0 in /Users/catherinechen/.pyenv/versions/3.8.6/envs/deep4deep2/lib/python3.8/site-packages (from google-cloud-bigquery->bpideep==1.0) (1.23.0)\n",
      "Requirement already satisfied: protobuf>=3.12.0 in /Users/catherinechen/.pyenv/versions/3.8.6/envs/deep4deep2/lib/python3.8/site-packages (from google-cloud-bigquery->bpideep==1.0) (3.14.0)\n",
      "Requirement already satisfied: google-cloud-core<2.0dev,>=1.4.1 in /Users/catherinechen/.pyenv/versions/3.8.6/envs/deep4deep2/lib/python3.8/site-packages (from google-cloud-bigquery->bpideep==1.0) (1.4.3)\n",
      "Requirement already satisfied: proto-plus>=1.10.0 in /Users/catherinechen/.pyenv/versions/3.8.6/envs/deep4deep2/lib/python3.8/site-packages (from google-cloud-bigquery->bpideep==1.0) (1.11.0)\n",
      "Requirement already satisfied: Six in /Users/catherinechen/.pyenv/versions/3.8.6/envs/deep4deep2/lib/python3.8/site-packages (from Flask-Cors->bpideep==1.0) (1.15.0)\n",
      "Requirement already satisfied: google-resumable-media<2.0dev,>=0.6.0 in /Users/catherinechen/.pyenv/versions/3.8.6/envs/deep4deep2/lib/python3.8/site-packages (from google-cloud-bigquery->bpideep==1.0) (1.1.0)\n",
      "Requirement already satisfied: requests in /Users/catherinechen/.pyenv/versions/3.8.6/envs/deep4deep2/lib/python3.8/site-packages (from bpideep==1.0) (2.25.0)\n",
      "Requirement already satisfied: google-auth<2.0dev,>=1.21.1 in /Users/catherinechen/.pyenv/versions/3.8.6/envs/deep4deep2/lib/python3.8/site-packages (from google-api-core[grpc]<2.0.0dev,>=1.23.0->google-cloud-bigquery->bpideep==1.0) (1.23.0)\n",
      "Requirement already satisfied: pytz in /Users/catherinechen/.pyenv/versions/3.8.6/envs/deep4deep2/lib/python3.8/site-packages (from datetime->bpideep==1.0) (2020.4)\n",
      "Requirement already satisfied: googleapis-common-protos<2.0dev,>=1.6.0 in /Users/catherinechen/.pyenv/versions/3.8.6/envs/deep4deep2/lib/python3.8/site-packages (from google-api-core[grpc]<2.0.0dev,>=1.23.0->google-cloud-bigquery->bpideep==1.0) (1.52.0)\n",
      "Requirement already satisfied: protobuf>=3.12.0 in /Users/catherinechen/.pyenv/versions/3.8.6/envs/deep4deep2/lib/python3.8/site-packages (from google-cloud-bigquery->bpideep==1.0) (3.14.0)\n",
      "Requirement already satisfied: setuptools in /Users/catherinechen/.pyenv/versions/3.8.6/envs/deep4deep2/lib/python3.8/site-packages (from bpideep==1.0) (49.2.1)\n",
      "Requirement already satisfied: Six in /Users/catherinechen/.pyenv/versions/3.8.6/envs/deep4deep2/lib/python3.8/site-packages (from Flask-Cors->bpideep==1.0) (1.15.0)\n",
      "Requirement already satisfied: grpcio<2.0dev,>=1.29.0 in /Users/catherinechen/.pyenv/versions/3.8.6/envs/deep4deep2/lib/python3.8/site-packages (from google-api-core[grpc]<2.0.0dev,>=1.23.0->google-cloud-bigquery->bpideep==1.0) (1.33.2)\n",
      "Requirement already satisfied: requests in /Users/catherinechen/.pyenv/versions/3.8.6/envs/deep4deep2/lib/python3.8/site-packages (from bpideep==1.0) (2.25.0)\n",
      "Requirement already satisfied: google-auth<2.0dev,>=1.21.1 in /Users/catherinechen/.pyenv/versions/3.8.6/envs/deep4deep2/lib/python3.8/site-packages (from google-api-core[grpc]<2.0.0dev,>=1.23.0->google-cloud-bigquery->bpideep==1.0) (1.23.0)\n",
      "Requirement already satisfied: pytz in /Users/catherinechen/.pyenv/versions/3.8.6/envs/deep4deep2/lib/python3.8/site-packages (from datetime->bpideep==1.0) (2020.4)\n",
      "Requirement already satisfied: googleapis-common-protos<2.0dev,>=1.6.0 in /Users/catherinechen/.pyenv/versions/3.8.6/envs/deep4deep2/lib/python3.8/site-packages (from google-api-core[grpc]<2.0.0dev,>=1.23.0->google-cloud-bigquery->bpideep==1.0) (1.52.0)\n",
      "Requirement already satisfied: protobuf>=3.12.0 in /Users/catherinechen/.pyenv/versions/3.8.6/envs/deep4deep2/lib/python3.8/site-packages (from google-cloud-bigquery->bpideep==1.0) (3.14.0)\n",
      "Requirement already satisfied: setuptools in /Users/catherinechen/.pyenv/versions/3.8.6/envs/deep4deep2/lib/python3.8/site-packages (from bpideep==1.0) (49.2.1)\n",
      "Requirement already satisfied: Six in /Users/catherinechen/.pyenv/versions/3.8.6/envs/deep4deep2/lib/python3.8/site-packages (from Flask-Cors->bpideep==1.0) (1.15.0)\n",
      "Requirement already satisfied: Six in /Users/catherinechen/.pyenv/versions/3.8.6/envs/deep4deep2/lib/python3.8/site-packages (from Flask-Cors->bpideep==1.0) (1.15.0)\n",
      "Requirement already satisfied: cachetools<5.0,>=2.0.0 in /Users/catherinechen/.pyenv/versions/3.8.6/envs/deep4deep2/lib/python3.8/site-packages (from google-auth<2.0dev,>=1.21.1->google-api-core[grpc]<2.0.0dev,>=1.23.0->google-cloud-bigquery->bpideep==1.0) (4.1.1)\n"
     ]
    },
    {
     "name": "stdout",
     "output_type": "stream",
     "text": [
      "Requirement already satisfied: pyasn1-modules>=0.2.1 in /Users/catherinechen/.pyenv/versions/3.8.6/envs/deep4deep2/lib/python3.8/site-packages (from google-auth<2.0dev,>=1.21.1->google-api-core[grpc]<2.0.0dev,>=1.23.0->google-cloud-bigquery->bpideep==1.0) (0.2.8)\n",
      "Requirement already satisfied: rsa<5,>=3.1.4 in /Users/catherinechen/.pyenv/versions/3.8.6/envs/deep4deep2/lib/python3.8/site-packages (from google-auth<2.0dev,>=1.21.1->google-api-core[grpc]<2.0.0dev,>=1.23.0->google-cloud-bigquery->bpideep==1.0) (4.6)\n",
      "Requirement already satisfied: setuptools in /Users/catherinechen/.pyenv/versions/3.8.6/envs/deep4deep2/lib/python3.8/site-packages (from bpideep==1.0) (49.2.1)\n",
      "Requirement already satisfied: google-crc32c<2.0dev,>=1.0 in /Users/catherinechen/.pyenv/versions/3.8.6/envs/deep4deep2/lib/python3.8/site-packages (from google-resumable-media<2.0dev,>=0.6.0->google-cloud-bigquery->bpideep==1.0) (1.0.0)\n",
      "Requirement already satisfied: Six in /Users/catherinechen/.pyenv/versions/3.8.6/envs/deep4deep2/lib/python3.8/site-packages (from Flask-Cors->bpideep==1.0) (1.15.0)\n",
      "Requirement already satisfied: protobuf>=3.12.0 in /Users/catherinechen/.pyenv/versions/3.8.6/envs/deep4deep2/lib/python3.8/site-packages (from google-cloud-bigquery->bpideep==1.0) (3.14.0)\n",
      "Requirement already satisfied: Six in /Users/catherinechen/.pyenv/versions/3.8.6/envs/deep4deep2/lib/python3.8/site-packages (from Flask-Cors->bpideep==1.0) (1.15.0)\n",
      "Requirement already satisfied: setuptools in /Users/catherinechen/.pyenv/versions/3.8.6/envs/deep4deep2/lib/python3.8/site-packages (from bpideep==1.0) (49.2.1)\n",
      "Requirement already satisfied: setuptools in /Users/catherinechen/.pyenv/versions/3.8.6/envs/deep4deep2/lib/python3.8/site-packages (from bpideep==1.0) (49.2.1)\n",
      "Requirement already satisfied: ipython>=5.1.0 in /Users/catherinechen/.pyenv/versions/3.8.6/envs/deep4deep2/lib/python3.8/site-packages (from ipdb->bpideep==1.0) (7.19.0)\n",
      "Requirement already satisfied: appnope in /Users/catherinechen/.pyenv/versions/3.8.6/envs/deep4deep2/lib/python3.8/site-packages (from ipython>=5.1.0->ipdb->bpideep==1.0) (0.1.2)\n",
      "Requirement already satisfied: traitlets>=4.2 in /Users/catherinechen/.pyenv/versions/3.8.6/envs/deep4deep2/lib/python3.8/site-packages (from ipython>=5.1.0->ipdb->bpideep==1.0) (5.0.5)\n",
      "Requirement already satisfied: prompt-toolkit!=3.0.0,!=3.0.1,<3.1.0,>=2.0.0 in /Users/catherinechen/.pyenv/versions/3.8.6/envs/deep4deep2/lib/python3.8/site-packages (from ipython>=5.1.0->ipdb->bpideep==1.0) (3.0.8)\n",
      "Requirement already satisfied: jedi>=0.10 in /Users/catherinechen/.pyenv/versions/3.8.6/envs/deep4deep2/lib/python3.8/site-packages (from ipython>=5.1.0->ipdb->bpideep==1.0) (0.17.2)\n",
      "Requirement already satisfied: pickleshare in /Users/catherinechen/.pyenv/versions/3.8.6/envs/deep4deep2/lib/python3.8/site-packages (from ipython>=5.1.0->ipdb->bpideep==1.0) (0.7.5)\n",
      "Requirement already satisfied: setuptools in /Users/catherinechen/.pyenv/versions/3.8.6/envs/deep4deep2/lib/python3.8/site-packages (from bpideep==1.0) (49.2.1)\n",
      "Requirement already satisfied: decorator in /Users/catherinechen/.pyenv/versions/3.8.6/envs/deep4deep2/lib/python3.8/site-packages (from ipython>=5.1.0->ipdb->bpideep==1.0) (4.4.2)\n",
      "Requirement already satisfied: pexpect>4.3 in /Users/catherinechen/.pyenv/versions/3.8.6/envs/deep4deep2/lib/python3.8/site-packages (from ipython>=5.1.0->ipdb->bpideep==1.0) (4.8.0)\n",
      "Requirement already satisfied: pygments in /Users/catherinechen/.pyenv/versions/3.8.6/envs/deep4deep2/lib/python3.8/site-packages (from ipython>=5.1.0->ipdb->bpideep==1.0) (2.7.2)\n",
      "Requirement already satisfied: backcall in /Users/catherinechen/.pyenv/versions/3.8.6/envs/deep4deep2/lib/python3.8/site-packages (from ipython>=5.1.0->ipdb->bpideep==1.0) (0.2.0)\n",
      "Requirement already satisfied: parso<0.8.0,>=0.7.0 in /Users/catherinechen/.pyenv/versions/3.8.6/envs/deep4deep2/lib/python3.8/site-packages (from jedi>=0.10->ipython>=5.1.0->ipdb->bpideep==1.0) (0.7.1)\n",
      "Requirement already satisfied: MarkupSafe>=0.23 in /Users/catherinechen/.pyenv/versions/3.8.6/envs/deep4deep2/lib/python3.8/site-packages (from Jinja2>=2.10.1->Flask->bpideep==1.0) (1.1.1)\n",
      "Requirement already satisfied: pyparsing!=2.0.4,!=2.1.2,!=2.1.6,>=2.0.3 in /Users/catherinechen/.pyenv/versions/3.8.6/envs/deep4deep2/lib/python3.8/site-packages (from matplotlib->bpideep==1.0) (2.4.7)\n",
      "Requirement already satisfied: kiwisolver>=1.0.1 in /Users/catherinechen/.pyenv/versions/3.8.6/envs/deep4deep2/lib/python3.8/site-packages (from matplotlib->bpideep==1.0) (1.3.1)\n",
      "Requirement already satisfied: python-dateutil>=2.1 in /Users/catherinechen/.pyenv/versions/3.8.6/envs/deep4deep2/lib/python3.8/site-packages (from matplotlib->bpideep==1.0) (2.8.1)\n",
      "Requirement already satisfied: numpy in /Users/catherinechen/.pyenv/versions/3.8.6/envs/deep4deep2/lib/python3.8/site-packages (from bpideep==1.0) (1.19.4)\n",
      "Requirement already satisfied: pillow>=6.2.0 in /Users/catherinechen/.pyenv/versions/3.8.6/envs/deep4deep2/lib/python3.8/site-packages (from matplotlib->bpideep==1.0) (8.0.1)\n",
      "Requirement already satisfied: cycler>=0.10 in /Users/catherinechen/.pyenv/versions/3.8.6/envs/deep4deep2/lib/python3.8/site-packages (from matplotlib->bpideep==1.0) (0.10.0)\n",
      "Requirement already satisfied: Six in /Users/catherinechen/.pyenv/versions/3.8.6/envs/deep4deep2/lib/python3.8/site-packages (from Flask-Cors->bpideep==1.0) (1.15.0)\n",
      "Requirement already satisfied: pytz in /Users/catherinechen/.pyenv/versions/3.8.6/envs/deep4deep2/lib/python3.8/site-packages (from datetime->bpideep==1.0) (2020.4)\n",
      "Requirement already satisfied: numpy in /Users/catherinechen/.pyenv/versions/3.8.6/envs/deep4deep2/lib/python3.8/site-packages (from bpideep==1.0) (1.19.4)\n",
      "Requirement already satisfied: python-dateutil>=2.1 in /Users/catherinechen/.pyenv/versions/3.8.6/envs/deep4deep2/lib/python3.8/site-packages (from matplotlib->bpideep==1.0) (2.8.1)\n",
      "Requirement already satisfied: ptyprocess>=0.5 in /Users/catherinechen/.pyenv/versions/3.8.6/envs/deep4deep2/lib/python3.8/site-packages (from pexpect>4.3->ipython>=5.1.0->ipdb->bpideep==1.0) (0.6.0)\n",
      "Requirement already satisfied: wcwidth in /Users/catherinechen/.pyenv/versions/3.8.6/envs/deep4deep2/lib/python3.8/site-packages (from prompt-toolkit!=3.0.0,!=3.0.1,<3.1.0,>=2.0.0->ipython>=5.1.0->ipdb->bpideep==1.0) (0.2.5)\n",
      "Requirement already satisfied: protobuf>=3.12.0 in /Users/catherinechen/.pyenv/versions/3.8.6/envs/deep4deep2/lib/python3.8/site-packages (from google-cloud-bigquery->bpideep==1.0) (3.14.0)\n",
      "Requirement already satisfied: Six in /Users/catherinechen/.pyenv/versions/3.8.6/envs/deep4deep2/lib/python3.8/site-packages (from Flask-Cors->bpideep==1.0) (1.15.0)\n",
      "Requirement already satisfied: pyasn1<0.5.0,>=0.4.6 in /Users/catherinechen/.pyenv/versions/3.8.6/envs/deep4deep2/lib/python3.8/site-packages (from pyasn1-modules>=0.2.1->google-auth<2.0dev,>=1.21.1->google-api-core[grpc]<2.0.0dev,>=1.23.0->google-cloud-bigquery->bpideep==1.0) (0.4.8)\n",
      "Requirement already satisfied: Six in /Users/catherinechen/.pyenv/versions/3.8.6/envs/deep4deep2/lib/python3.8/site-packages (from Flask-Cors->bpideep==1.0) (1.15.0)\n",
      "Requirement already satisfied: idna<3,>=2.5 in /Users/catherinechen/.pyenv/versions/3.8.6/envs/deep4deep2/lib/python3.8/site-packages (from requests->bpideep==1.0) (2.10)\n",
      "Requirement already satisfied: certifi>=2017.4.17 in /Users/catherinechen/.pyenv/versions/3.8.6/envs/deep4deep2/lib/python3.8/site-packages (from requests->bpideep==1.0) (2020.11.8)\n",
      "Requirement already satisfied: chardet<4,>=3.0.2 in /Users/catherinechen/.pyenv/versions/3.8.6/envs/deep4deep2/lib/python3.8/site-packages (from requests->bpideep==1.0) (3.0.4)\n",
      "Requirement already satisfied: urllib3<1.27,>=1.21.1 in /Users/catherinechen/.pyenv/versions/3.8.6/envs/deep4deep2/lib/python3.8/site-packages (from requests->bpideep==1.0) (1.26.2)\n",
      "Requirement already satisfied: pyasn1<0.5.0,>=0.4.6 in /Users/catherinechen/.pyenv/versions/3.8.6/envs/deep4deep2/lib/python3.8/site-packages (from pyasn1-modules>=0.2.1->google-auth<2.0dev,>=1.21.1->google-api-core[grpc]<2.0.0dev,>=1.23.0->google-cloud-bigquery->bpideep==1.0) (0.4.8)\n",
      "Requirement already satisfied: numpy in /Users/catherinechen/.pyenv/versions/3.8.6/envs/deep4deep2/lib/python3.8/site-packages (from bpideep==1.0) (1.19.4)\n",
      "Requirement already satisfied: joblib in /Users/catherinechen/.pyenv/versions/3.8.6/envs/deep4deep2/lib/python3.8/site-packages (from bpideep==1.0) (0.17.0)\n",
      "Requirement already satisfied: scipy>=0.19.1 in /Users/catherinechen/.pyenv/versions/3.8.6/envs/deep4deep2/lib/python3.8/site-packages (from scikit-learn->bpideep==1.0) (1.5.4)\n"
     ]
    },
    {
     "name": "stdout",
     "output_type": "stream",
     "text": [
      "Requirement already satisfied: threadpoolctl>=2.0.0 in /Users/catherinechen/.pyenv/versions/3.8.6/envs/deep4deep2/lib/python3.8/site-packages (from scikit-learn->bpideep==1.0) (2.1.0)\n",
      "Requirement already satisfied: numpy in /Users/catherinechen/.pyenv/versions/3.8.6/envs/deep4deep2/lib/python3.8/site-packages (from bpideep==1.0) (1.19.4)\n",
      "Requirement already satisfied: ipython-genutils in /Users/catherinechen/.pyenv/versions/3.8.6/envs/deep4deep2/lib/python3.8/site-packages (from traitlets>=4.2->ipython>=5.1.0->ipdb->bpideep==1.0) (0.2.0)\n",
      "Requirement already satisfied: setuptools in /Users/catherinechen/.pyenv/versions/3.8.6/envs/deep4deep2/lib/python3.8/site-packages (from bpideep==1.0) (49.2.1)\n",
      "Installing collected packages: bpideep\n",
      "  Attempting uninstall: bpideep\n",
      "    Found existing installation: bpideep 1.0\n",
      "    Uninstalling bpideep-1.0:\n",
      "      Successfully uninstalled bpideep-1.0\n",
      "  Running setup.py develop for bpideep\n",
      "Successfully installed bpideep\n"
     ]
    }
   ],
   "source": [
    "! pip install -e .."
   ]
  },
  {
   "cell_type": "code",
   "execution_count": 56,
   "metadata": {
    "ExecuteTime": {
     "end_time": "2020-12-15T17:43:30.905551Z",
     "start_time": "2020-12-15T17:43:30.248953Z"
    },
    "hidden": true
   },
   "outputs": [
    {
     "name": "stderr",
     "output_type": "stream",
     "text": [
      "/Users/catherinechen/code/bpifrance_deeptech_analysis/bpideep/GetCleanData.py:252: SettingWithCopyWarning: \n",
      "A value is trying to be set on a copy of a slice from a DataFrame\n",
      "\n",
      "See the caveats in the documentation: https://pandas.pydata.org/pandas-docs/stable/user_guide/indexing.html#returning-a-view-versus-a-copy\n",
      "  data[\"investors_type\"] = pd.DataFrame(data[\"investors\"].apply(lambda row: investors_type(row)))\n"
     ]
    }
   ],
   "source": [
    "from bpideep import GetCleanData\n",
    "data = GetCleanData.get_clean_data()"
   ]
  },
  {
   "cell_type": "code",
   "execution_count": 61,
   "metadata": {
    "ExecuteTime": {
     "end_time": "2020-12-15T17:46:38.389025Z",
     "start_time": "2020-12-15T17:46:38.290616Z"
    },
    "hidden": true
   },
   "outputs": [
    {
     "data": {
      "text/html": [
       "<div>\n",
       "<style scoped>\n",
       "    .dataframe tbody tr th:only-of-type {\n",
       "        vertical-align: middle;\n",
       "    }\n",
       "\n",
       "    .dataframe tbody tr th {\n",
       "        vertical-align: top;\n",
       "    }\n",
       "\n",
       "    .dataframe thead th {\n",
       "        text-align: right;\n",
       "    }\n",
       "</style>\n",
       "<table border=\"1\" class=\"dataframe\">\n",
       "  <thead>\n",
       "    <tr style=\"text-align: right;\">\n",
       "      <th></th>\n",
       "      <th>id</th>\n",
       "      <th>name</th>\n",
       "      <th>target</th>\n",
       "      <th>deep_or_not</th>\n",
       "      <th>total_funding_source</th>\n",
       "      <th>employees</th>\n",
       "      <th>employees_latest</th>\n",
       "      <th>launch_year</th>\n",
       "      <th>growth_stage</th>\n",
       "      <th>linkedin_url</th>\n",
       "      <th>...</th>\n",
       "      <th>employees_clean</th>\n",
       "      <th>age</th>\n",
       "      <th>nb_patents</th>\n",
       "      <th>investors_type</th>\n",
       "      <th>health_industry</th>\n",
       "      <th>company_has_phd</th>\n",
       "      <th>proportion_technical</th>\n",
       "      <th>founder_from_institute</th>\n",
       "      <th>founder_has_phd</th>\n",
       "      <th>No_people_input</th>\n",
       "    </tr>\n",
       "  </thead>\n",
       "  <tbody>\n",
       "    <tr>\n",
       "      <th>0</th>\n",
       "      <td>1742681</td>\n",
       "      <td>Healthcardionexion.com</td>\n",
       "      <td>1.0</td>\n",
       "      <td>deeptech</td>\n",
       "      <td>0</td>\n",
       "      <td>2-10</td>\n",
       "      <td>8.0</td>\n",
       "      <td>2015.0</td>\n",
       "      <td>seed</td>\n",
       "      <td>https://www.linkedin.com/company/--health</td>\n",
       "      <td>...</td>\n",
       "      <td>8.0</td>\n",
       "      <td>5.0</td>\n",
       "      <td>NaN</td>\n",
       "      <td>0</td>\n",
       "      <td>1</td>\n",
       "      <td>0</td>\n",
       "      <td>0.000000</td>\n",
       "      <td>0.0</td>\n",
       "      <td>0.0</td>\n",
       "      <td>1</td>\n",
       "    </tr>\n",
       "    <tr>\n",
       "      <th>1</th>\n",
       "      <td>1743314</td>\n",
       "      <td>4P Pharma</td>\n",
       "      <td>1.0</td>\n",
       "      <td>deeptech</td>\n",
       "      <td>0</td>\n",
       "      <td>11-50</td>\n",
       "      <td>12.0</td>\n",
       "      <td>2014.0</td>\n",
       "      <td>early growth</td>\n",
       "      <td>https://www.linkedin.com/company/4p-pharma</td>\n",
       "      <td>...</td>\n",
       "      <td>12.0</td>\n",
       "      <td>6.0</td>\n",
       "      <td>7.0</td>\n",
       "      <td>0</td>\n",
       "      <td>1</td>\n",
       "      <td>1</td>\n",
       "      <td>0.700000</td>\n",
       "      <td>0.0</td>\n",
       "      <td>1.0</td>\n",
       "      <td>0</td>\n",
       "    </tr>\n",
       "    <tr>\n",
       "      <th>2</th>\n",
       "      <td>1598607</td>\n",
       "      <td>AFYREN</td>\n",
       "      <td>1.0</td>\n",
       "      <td>deeptech</td>\n",
       "      <td>21000000</td>\n",
       "      <td>11-50</td>\n",
       "      <td>31.0</td>\n",
       "      <td>2012.0</td>\n",
       "      <td>early growth</td>\n",
       "      <td>https://www.linkedin.com/company/9419299</td>\n",
       "      <td>...</td>\n",
       "      <td>31.0</td>\n",
       "      <td>8.0</td>\n",
       "      <td>84.0</td>\n",
       "      <td>1</td>\n",
       "      <td>0</td>\n",
       "      <td>1</td>\n",
       "      <td>0.300000</td>\n",
       "      <td>1.0</td>\n",
       "      <td>2.0</td>\n",
       "      <td>0</td>\n",
       "    </tr>\n",
       "    <tr>\n",
       "      <th>3</th>\n",
       "      <td>894817</td>\n",
       "      <td>Abbelight</td>\n",
       "      <td>1.0</td>\n",
       "      <td>deeptech</td>\n",
       "      <td>3250000</td>\n",
       "      <td>11-50</td>\n",
       "      <td>20.0</td>\n",
       "      <td>2016.0</td>\n",
       "      <td>early growth</td>\n",
       "      <td>https://www.linkedin.com/company/abbelight</td>\n",
       "      <td>...</td>\n",
       "      <td>20.0</td>\n",
       "      <td>4.0</td>\n",
       "      <td>NaN</td>\n",
       "      <td>1</td>\n",
       "      <td>1</td>\n",
       "      <td>1</td>\n",
       "      <td>0.764706</td>\n",
       "      <td>2.0</td>\n",
       "      <td>2.0</td>\n",
       "      <td>0</td>\n",
       "    </tr>\n",
       "    <tr>\n",
       "      <th>4</th>\n",
       "      <td>1683057</td>\n",
       "      <td>AblaCare</td>\n",
       "      <td>1.0</td>\n",
       "      <td>deeptech</td>\n",
       "      <td>10000000</td>\n",
       "      <td>2-10</td>\n",
       "      <td>4.0</td>\n",
       "      <td>2017.0</td>\n",
       "      <td>seed</td>\n",
       "      <td>https://www.linkedin.com/company/ablacare</td>\n",
       "      <td>...</td>\n",
       "      <td>4.0</td>\n",
       "      <td>3.0</td>\n",
       "      <td>NaN</td>\n",
       "      <td>1</td>\n",
       "      <td>1</td>\n",
       "      <td>0</td>\n",
       "      <td>0.000000</td>\n",
       "      <td>0.0</td>\n",
       "      <td>0.0</td>\n",
       "      <td>0</td>\n",
       "    </tr>\n",
       "  </tbody>\n",
       "</table>\n",
       "<p>5 rows × 24 columns</p>\n",
       "</div>"
      ],
      "text/plain": [
       "        id                    name  target deep_or_not  total_funding_source  \\\n",
       "0  1742681  Healthcardionexion.com     1.0    deeptech                     0   \n",
       "1  1743314               4P Pharma     1.0    deeptech                     0   \n",
       "2  1598607                  AFYREN     1.0    deeptech              21000000   \n",
       "3   894817               Abbelight     1.0    deeptech               3250000   \n",
       "4  1683057                AblaCare     1.0    deeptech              10000000   \n",
       "\n",
       "  employees  employees_latest  launch_year  growth_stage  \\\n",
       "0      2-10               8.0       2015.0          seed   \n",
       "1     11-50              12.0       2014.0  early growth   \n",
       "2     11-50              31.0       2012.0  early growth   \n",
       "3     11-50              20.0       2016.0  early growth   \n",
       "4      2-10               4.0       2017.0          seed   \n",
       "\n",
       "                                 linkedin_url  ... employees_clean  age  \\\n",
       "0   https://www.linkedin.com/company/--health  ...             8.0  5.0   \n",
       "1  https://www.linkedin.com/company/4p-pharma  ...            12.0  6.0   \n",
       "2    https://www.linkedin.com/company/9419299  ...            31.0  8.0   \n",
       "3  https://www.linkedin.com/company/abbelight  ...            20.0  4.0   \n",
       "4   https://www.linkedin.com/company/ablacare  ...             4.0  3.0   \n",
       "\n",
       "   nb_patents investors_type  health_industry  company_has_phd  \\\n",
       "0         NaN              0                1                0   \n",
       "1         7.0              0                1                1   \n",
       "2        84.0              1                0                1   \n",
       "3         NaN              1                1                1   \n",
       "4         NaN              1                1                0   \n",
       "\n",
       "   proportion_technical founder_from_institute  founder_has_phd  \\\n",
       "0              0.000000                    0.0              0.0   \n",
       "1              0.700000                    0.0              1.0   \n",
       "2              0.300000                    1.0              2.0   \n",
       "3              0.764706                    2.0              2.0   \n",
       "4              0.000000                    0.0              0.0   \n",
       "\n",
       "   No_people_input  \n",
       "0                1  \n",
       "1                0  \n",
       "2                0  \n",
       "3                0  \n",
       "4                0  \n",
       "\n",
       "[5 rows x 24 columns]"
      ]
     },
     "execution_count": 61,
     "metadata": {},
     "output_type": "execute_result"
    }
   ],
   "source": [
    "data.head()"
   ]
  },
  {
   "cell_type": "code",
   "execution_count": 67,
   "metadata": {
    "ExecuteTime": {
     "end_time": "2020-12-15T17:49:30.680433Z",
     "start_time": "2020-12-15T17:49:30.645769Z"
    },
    "hidden": true
   },
   "outputs": [],
   "source": [
    "X = data.drop(columns = [\"target\", \"deep_or_not\"])"
   ]
  },
  {
   "cell_type": "code",
   "execution_count": 70,
   "metadata": {
    "ExecuteTime": {
     "end_time": "2020-12-15T17:51:03.564775Z",
     "start_time": "2020-12-15T17:51:03.495941Z"
    },
    "hidden": true
   },
   "outputs": [],
   "source": [
    "from bpideep.EmployeeImputer import EmployeeImputer\n",
    "\n",
    "e = EmployeeImputer()"
   ]
  },
  {
   "cell_type": "code",
   "execution_count": 74,
   "metadata": {
    "ExecuteTime": {
     "end_time": "2020-12-15T17:53:41.711580Z",
     "start_time": "2020-12-15T17:53:41.523909Z"
    },
    "hidden": true
   },
   "outputs": [
    {
     "name": "stdout",
     "output_type": "stream",
     "text": [
      "(1332, 22)\n"
     ]
    },
    {
     "data": {
      "text/html": [
       "<div>\n",
       "<style scoped>\n",
       "    .dataframe tbody tr th:only-of-type {\n",
       "        vertical-align: middle;\n",
       "    }\n",
       "\n",
       "    .dataframe tbody tr th {\n",
       "        vertical-align: top;\n",
       "    }\n",
       "\n",
       "    .dataframe thead th {\n",
       "        text-align: right;\n",
       "    }\n",
       "</style>\n",
       "<table border=\"1\" class=\"dataframe\">\n",
       "  <thead>\n",
       "    <tr style=\"text-align: right;\">\n",
       "      <th></th>\n",
       "      <th>id</th>\n",
       "      <th>name</th>\n",
       "      <th>total_funding_source</th>\n",
       "      <th>employees</th>\n",
       "      <th>employees_latest</th>\n",
       "      <th>launch_year</th>\n",
       "      <th>growth_stage</th>\n",
       "      <th>linkedin_url</th>\n",
       "      <th>industries</th>\n",
       "      <th>investors</th>\n",
       "      <th>...</th>\n",
       "      <th>employees_clean</th>\n",
       "      <th>age</th>\n",
       "      <th>nb_patents</th>\n",
       "      <th>investors_type</th>\n",
       "      <th>health_industry</th>\n",
       "      <th>company_has_phd</th>\n",
       "      <th>proportion_technical</th>\n",
       "      <th>founder_from_institute</th>\n",
       "      <th>founder_has_phd</th>\n",
       "      <th>No_people_input</th>\n",
       "    </tr>\n",
       "  </thead>\n",
       "  <tbody>\n",
       "    <tr>\n",
       "      <th>0</th>\n",
       "      <td>1742681</td>\n",
       "      <td>Healthcardionexion.com</td>\n",
       "      <td>0</td>\n",
       "      <td>2-10</td>\n",
       "      <td>8.0</td>\n",
       "      <td>2015.0</td>\n",
       "      <td>seed</td>\n",
       "      <td>https://www.linkedin.com/company/--health</td>\n",
       "      <td>[{'id': 1254, 'name': 'health'}]</td>\n",
       "      <td>{'items': [], 'total': 0}</td>\n",
       "      <td>...</td>\n",
       "      <td>8.0</td>\n",
       "      <td>5.0</td>\n",
       "      <td>NaN</td>\n",
       "      <td>0</td>\n",
       "      <td>1</td>\n",
       "      <td>0</td>\n",
       "      <td>0.000000</td>\n",
       "      <td>0.0</td>\n",
       "      <td>0.0</td>\n",
       "      <td>1</td>\n",
       "    </tr>\n",
       "    <tr>\n",
       "      <th>1</th>\n",
       "      <td>1743314</td>\n",
       "      <td>4P Pharma</td>\n",
       "      <td>0</td>\n",
       "      <td>11-50</td>\n",
       "      <td>12.0</td>\n",
       "      <td>2014.0</td>\n",
       "      <td>early growth</td>\n",
       "      <td>https://www.linkedin.com/company/4p-pharma</td>\n",
       "      <td>[{'id': 1254, 'name': 'health'}, {'id': 1264, ...</td>\n",
       "      <td>{'items': [], 'total': 0}</td>\n",
       "      <td>...</td>\n",
       "      <td>12.0</td>\n",
       "      <td>6.0</td>\n",
       "      <td>7.0</td>\n",
       "      <td>0</td>\n",
       "      <td>1</td>\n",
       "      <td>1</td>\n",
       "      <td>0.700000</td>\n",
       "      <td>0.0</td>\n",
       "      <td>1.0</td>\n",
       "      <td>0</td>\n",
       "    </tr>\n",
       "    <tr>\n",
       "      <th>2</th>\n",
       "      <td>1598607</td>\n",
       "      <td>AFYREN</td>\n",
       "      <td>21000000</td>\n",
       "      <td>11-50</td>\n",
       "      <td>31.0</td>\n",
       "      <td>2012.0</td>\n",
       "      <td>early growth</td>\n",
       "      <td>https://www.linkedin.com/company/9419299</td>\n",
       "      <td>[{'id': 100023, 'name': 'energy'}]</td>\n",
       "      <td>{'items': [{'id': 17581, 'name': 'Sofinnova Pa...</td>\n",
       "      <td>...</td>\n",
       "      <td>31.0</td>\n",
       "      <td>8.0</td>\n",
       "      <td>84.0</td>\n",
       "      <td>1</td>\n",
       "      <td>0</td>\n",
       "      <td>1</td>\n",
       "      <td>0.300000</td>\n",
       "      <td>1.0</td>\n",
       "      <td>2.0</td>\n",
       "      <td>0</td>\n",
       "    </tr>\n",
       "    <tr>\n",
       "      <th>3</th>\n",
       "      <td>894817</td>\n",
       "      <td>Abbelight</td>\n",
       "      <td>3250000</td>\n",
       "      <td>11-50</td>\n",
       "      <td>20.0</td>\n",
       "      <td>2016.0</td>\n",
       "      <td>early growth</td>\n",
       "      <td>https://www.linkedin.com/company/abbelight</td>\n",
       "      <td>[{'id': 1254, 'name': 'health'}]</td>\n",
       "      <td>{'items': [{'id': 885471, 'name': 'Agoranov', ...</td>\n",
       "      <td>...</td>\n",
       "      <td>20.0</td>\n",
       "      <td>4.0</td>\n",
       "      <td>NaN</td>\n",
       "      <td>1</td>\n",
       "      <td>1</td>\n",
       "      <td>1</td>\n",
       "      <td>0.764706</td>\n",
       "      <td>2.0</td>\n",
       "      <td>2.0</td>\n",
       "      <td>0</td>\n",
       "    </tr>\n",
       "    <tr>\n",
       "      <th>4</th>\n",
       "      <td>1683057</td>\n",
       "      <td>AblaCare</td>\n",
       "      <td>10000000</td>\n",
       "      <td>2-10</td>\n",
       "      <td>4.0</td>\n",
       "      <td>2017.0</td>\n",
       "      <td>seed</td>\n",
       "      <td>https://www.linkedin.com/company/ablacare</td>\n",
       "      <td>[{'id': 1254, 'name': 'health'}]</td>\n",
       "      <td>{'items': [{'id': 1237998, 'name': 'Sofinnova ...</td>\n",
       "      <td>...</td>\n",
       "      <td>4.0</td>\n",
       "      <td>3.0</td>\n",
       "      <td>NaN</td>\n",
       "      <td>1</td>\n",
       "      <td>1</td>\n",
       "      <td>0</td>\n",
       "      <td>0.000000</td>\n",
       "      <td>0.0</td>\n",
       "      <td>0.0</td>\n",
       "      <td>0</td>\n",
       "    </tr>\n",
       "    <tr>\n",
       "      <th>...</th>\n",
       "      <td>...</td>\n",
       "      <td>...</td>\n",
       "      <td>...</td>\n",
       "      <td>...</td>\n",
       "      <td>...</td>\n",
       "      <td>...</td>\n",
       "      <td>...</td>\n",
       "      <td>...</td>\n",
       "      <td>...</td>\n",
       "      <td>...</td>\n",
       "      <td>...</td>\n",
       "      <td>...</td>\n",
       "      <td>...</td>\n",
       "      <td>...</td>\n",
       "      <td>...</td>\n",
       "      <td>...</td>\n",
       "      <td>...</td>\n",
       "      <td>...</td>\n",
       "      <td>...</td>\n",
       "      <td>...</td>\n",
       "      <td>...</td>\n",
       "    </tr>\n",
       "    <tr>\n",
       "      <th>1327</th>\n",
       "      <td>1448492</td>\n",
       "      <td>Zaack</td>\n",
       "      <td>1000000</td>\n",
       "      <td>2-10</td>\n",
       "      <td>10.0</td>\n",
       "      <td>2017.0</td>\n",
       "      <td>seed</td>\n",
       "      <td>https://www.linkedin.com/company/zaack</td>\n",
       "      <td>[]</td>\n",
       "      <td>{'items': [{'id': 1448490, 'name': 'IGIENAIR',...</td>\n",
       "      <td>...</td>\n",
       "      <td>10.0</td>\n",
       "      <td>3.0</td>\n",
       "      <td>NaN</td>\n",
       "      <td>0</td>\n",
       "      <td>0</td>\n",
       "      <td>0</td>\n",
       "      <td>0.200000</td>\n",
       "      <td>0.0</td>\n",
       "      <td>0.0</td>\n",
       "      <td>0</td>\n",
       "    </tr>\n",
       "    <tr>\n",
       "      <th>1328</th>\n",
       "      <td>869196</td>\n",
       "      <td>Zelup</td>\n",
       "      <td>1000000</td>\n",
       "      <td>2-10</td>\n",
       "      <td>4.0</td>\n",
       "      <td>2012.0</td>\n",
       "      <td>seed</td>\n",
       "      <td>https://www.linkedin.com/company/zelup-sas/</td>\n",
       "      <td>[{'id': 100023, 'name': 'energy'}]</td>\n",
       "      <td>{'items': [], 'total': 0}</td>\n",
       "      <td>...</td>\n",
       "      <td>4.0</td>\n",
       "      <td>8.0</td>\n",
       "      <td>5.0</td>\n",
       "      <td>0</td>\n",
       "      <td>0</td>\n",
       "      <td>0</td>\n",
       "      <td>0.000000</td>\n",
       "      <td>0.0</td>\n",
       "      <td>0.0</td>\n",
       "      <td>0</td>\n",
       "    </tr>\n",
       "    <tr>\n",
       "      <th>1329</th>\n",
       "      <td>1528826</td>\n",
       "      <td>Zenpark</td>\n",
       "      <td>16400000</td>\n",
       "      <td>51-200</td>\n",
       "      <td>62.0</td>\n",
       "      <td>2011.0</td>\n",
       "      <td>late growth</td>\n",
       "      <td>https://www.linkedin.com/company/zenpark</td>\n",
       "      <td>[{'id': 100111, 'name': 'transportation'}]</td>\n",
       "      <td>{'items': [{'id': 20628, 'name': 'Demeter Part...</td>\n",
       "      <td>...</td>\n",
       "      <td>62.0</td>\n",
       "      <td>9.0</td>\n",
       "      <td>3.0</td>\n",
       "      <td>1</td>\n",
       "      <td>0</td>\n",
       "      <td>1</td>\n",
       "      <td>0.176471</td>\n",
       "      <td>0.0</td>\n",
       "      <td>1.0</td>\n",
       "      <td>0</td>\n",
       "    </tr>\n",
       "    <tr>\n",
       "      <th>1330</th>\n",
       "      <td>1483225</td>\n",
       "      <td>ZestMeUp</td>\n",
       "      <td>800000</td>\n",
       "      <td>11-50</td>\n",
       "      <td>36.0</td>\n",
       "      <td>2015.0</td>\n",
       "      <td>early growth</td>\n",
       "      <td>https://www.linkedin.com/company/zestmeup</td>\n",
       "      <td>[]</td>\n",
       "      <td>{'items': [], 'total': 0}</td>\n",
       "      <td>...</td>\n",
       "      <td>36.0</td>\n",
       "      <td>5.0</td>\n",
       "      <td>NaN</td>\n",
       "      <td>0</td>\n",
       "      <td>0</td>\n",
       "      <td>1</td>\n",
       "      <td>0.096774</td>\n",
       "      <td>0.0</td>\n",
       "      <td>0.0</td>\n",
       "      <td>0</td>\n",
       "    </tr>\n",
       "    <tr>\n",
       "      <th>1331</th>\n",
       "      <td>1483629</td>\n",
       "      <td>Zhor Tech</td>\n",
       "      <td>0</td>\n",
       "      <td>11-50</td>\n",
       "      <td>29.0</td>\n",
       "      <td>2014.0</td>\n",
       "      <td>early growth</td>\n",
       "      <td>https://www.linkedin.com/company/zhortech</td>\n",
       "      <td>[{'id': 1272, 'name': 'fashion'}]</td>\n",
       "      <td>{'items': [], 'total': 0}</td>\n",
       "      <td>...</td>\n",
       "      <td>29.0</td>\n",
       "      <td>6.0</td>\n",
       "      <td>11.0</td>\n",
       "      <td>0</td>\n",
       "      <td>0</td>\n",
       "      <td>0</td>\n",
       "      <td>0.571429</td>\n",
       "      <td>0.0</td>\n",
       "      <td>0.0</td>\n",
       "      <td>0</td>\n",
       "    </tr>\n",
       "  </tbody>\n",
       "</table>\n",
       "<p>1332 rows × 22 columns</p>\n",
       "</div>"
      ],
      "text/plain": [
       "           id                    name  total_funding_source employees  \\\n",
       "0     1742681  Healthcardionexion.com                     0      2-10   \n",
       "1     1743314               4P Pharma                     0     11-50   \n",
       "2     1598607                  AFYREN              21000000     11-50   \n",
       "3      894817               Abbelight               3250000     11-50   \n",
       "4     1683057                AblaCare              10000000      2-10   \n",
       "...       ...                     ...                   ...       ...   \n",
       "1327  1448492                   Zaack               1000000      2-10   \n",
       "1328   869196                   Zelup               1000000      2-10   \n",
       "1329  1528826                 Zenpark              16400000    51-200   \n",
       "1330  1483225                ZestMeUp                800000     11-50   \n",
       "1331  1483629               Zhor Tech                     0     11-50   \n",
       "\n",
       "      employees_latest  launch_year  growth_stage  \\\n",
       "0                  8.0       2015.0          seed   \n",
       "1                 12.0       2014.0  early growth   \n",
       "2                 31.0       2012.0  early growth   \n",
       "3                 20.0       2016.0  early growth   \n",
       "4                  4.0       2017.0          seed   \n",
       "...                ...          ...           ...   \n",
       "1327              10.0       2017.0          seed   \n",
       "1328               4.0       2012.0          seed   \n",
       "1329              62.0       2011.0   late growth   \n",
       "1330              36.0       2015.0  early growth   \n",
       "1331              29.0       2014.0  early growth   \n",
       "\n",
       "                                     linkedin_url  \\\n",
       "0       https://www.linkedin.com/company/--health   \n",
       "1      https://www.linkedin.com/company/4p-pharma   \n",
       "2        https://www.linkedin.com/company/9419299   \n",
       "3      https://www.linkedin.com/company/abbelight   \n",
       "4       https://www.linkedin.com/company/ablacare   \n",
       "...                                           ...   \n",
       "1327       https://www.linkedin.com/company/zaack   \n",
       "1328  https://www.linkedin.com/company/zelup-sas/   \n",
       "1329     https://www.linkedin.com/company/zenpark   \n",
       "1330    https://www.linkedin.com/company/zestmeup   \n",
       "1331    https://www.linkedin.com/company/zhortech   \n",
       "\n",
       "                                             industries  \\\n",
       "0                      [{'id': 1254, 'name': 'health'}]   \n",
       "1     [{'id': 1254, 'name': 'health'}, {'id': 1264, ...   \n",
       "2                    [{'id': 100023, 'name': 'energy'}]   \n",
       "3                      [{'id': 1254, 'name': 'health'}]   \n",
       "4                      [{'id': 1254, 'name': 'health'}]   \n",
       "...                                                 ...   \n",
       "1327                                                 []   \n",
       "1328                 [{'id': 100023, 'name': 'energy'}]   \n",
       "1329         [{'id': 100111, 'name': 'transportation'}]   \n",
       "1330                                                 []   \n",
       "1331                  [{'id': 1272, 'name': 'fashion'}]   \n",
       "\n",
       "                                              investors  ...  employees_clean  \\\n",
       "0                             {'items': [], 'total': 0}  ...              8.0   \n",
       "1                             {'items': [], 'total': 0}  ...             12.0   \n",
       "2     {'items': [{'id': 17581, 'name': 'Sofinnova Pa...  ...             31.0   \n",
       "3     {'items': [{'id': 885471, 'name': 'Agoranov', ...  ...             20.0   \n",
       "4     {'items': [{'id': 1237998, 'name': 'Sofinnova ...  ...              4.0   \n",
       "...                                                 ...  ...              ...   \n",
       "1327  {'items': [{'id': 1448490, 'name': 'IGIENAIR',...  ...             10.0   \n",
       "1328                          {'items': [], 'total': 0}  ...              4.0   \n",
       "1329  {'items': [{'id': 20628, 'name': 'Demeter Part...  ...             62.0   \n",
       "1330                          {'items': [], 'total': 0}  ...             36.0   \n",
       "1331                          {'items': [], 'total': 0}  ...             29.0   \n",
       "\n",
       "      age  nb_patents  investors_type  health_industry company_has_phd  \\\n",
       "0     5.0         NaN               0                1               0   \n",
       "1     6.0         7.0               0                1               1   \n",
       "2     8.0        84.0               1                0               1   \n",
       "3     4.0         NaN               1                1               1   \n",
       "4     3.0         NaN               1                1               0   \n",
       "...   ...         ...             ...              ...             ...   \n",
       "1327  3.0         NaN               0                0               0   \n",
       "1328  8.0         5.0               0                0               0   \n",
       "1329  9.0         3.0               1                0               1   \n",
       "1330  5.0         NaN               0                0               1   \n",
       "1331  6.0        11.0               0                0               0   \n",
       "\n",
       "      proportion_technical  founder_from_institute  founder_has_phd  \\\n",
       "0                 0.000000                     0.0              0.0   \n",
       "1                 0.700000                     0.0              1.0   \n",
       "2                 0.300000                     1.0              2.0   \n",
       "3                 0.764706                     2.0              2.0   \n",
       "4                 0.000000                     0.0              0.0   \n",
       "...                    ...                     ...              ...   \n",
       "1327              0.200000                     0.0              0.0   \n",
       "1328              0.000000                     0.0              0.0   \n",
       "1329              0.176471                     0.0              1.0   \n",
       "1330              0.096774                     0.0              0.0   \n",
       "1331              0.571429                     0.0              0.0   \n",
       "\n",
       "      No_people_input  \n",
       "0                   1  \n",
       "1                   0  \n",
       "2                   0  \n",
       "3                   0  \n",
       "4                   0  \n",
       "...               ...  \n",
       "1327                0  \n",
       "1328                0  \n",
       "1329                0  \n",
       "1330                0  \n",
       "1331                0  \n",
       "\n",
       "[1332 rows x 22 columns]"
      ]
     },
     "execution_count": 74,
     "metadata": {},
     "output_type": "execute_result"
    }
   ],
   "source": [
    "e.fit_transform(X)"
   ]
  },
  {
   "cell_type": "code",
   "execution_count": 82,
   "metadata": {
    "ExecuteTime": {
     "end_time": "2020-12-15T18:43:56.909902Z",
     "start_time": "2020-12-15T18:43:56.257644Z"
    },
    "hidden": true
   },
   "outputs": [
    {
     "name": "stdout",
     "output_type": "stream",
     "text": [
      "(1332, 5)\n"
     ]
    }
   ],
   "source": [
    "from bpideep.New_Trainer import NewTrainer\n",
    "\n",
    "X = data.drop(columns = [\"target\", \"deep_or_not\"])\n",
    "y = data[\"target\"]\n",
    "\n",
    "t = NewTrainer(X, y)\n",
    "t.train()"
   ]
  },
  {
   "cell_type": "code",
   "execution_count": 85,
   "metadata": {
    "ExecuteTime": {
     "end_time": "2020-12-15T18:47:26.755618Z",
     "start_time": "2020-12-15T18:47:26.504787Z"
    },
    "hidden": true
   },
   "outputs": [
    {
     "data": {
      "text/plain": [
       "array([1., 1., 1., ..., 0., 0., 1.])"
      ]
     },
     "execution_count": 85,
     "metadata": {},
     "output_type": "execute_result"
    }
   ],
   "source": [
    "t.pipeline.predict(X)"
   ]
  },
  {
   "cell_type": "code",
   "execution_count": null,
   "metadata": {
    "hidden": true
   },
   "outputs": [],
   "source": []
  }
 ],
 "metadata": {
  "kernelspec": {
   "display_name": "Python 3",
   "language": "python",
   "name": "python3"
  },
  "language_info": {
   "codemirror_mode": {
    "name": "ipython",
    "version": 3
   },
   "file_extension": ".py",
   "mimetype": "text/x-python",
   "name": "python",
   "nbconvert_exporter": "python",
   "pygments_lexer": "ipython3",
   "version": "3.8.6"
  },
  "toc": {
   "base_numbering": 1,
   "nav_menu": {},
   "number_sections": true,
   "sideBar": true,
   "skip_h1_title": false,
   "title_cell": "Table of Contents",
   "title_sidebar": "Contents",
   "toc_cell": false,
   "toc_position": {},
   "toc_section_display": true,
   "toc_window_display": false
  },
  "varInspector": {
   "cols": {
    "lenName": 16,
    "lenType": 16,
    "lenVar": 40
   },
   "kernels_config": {
    "python": {
     "delete_cmd_postfix": "",
     "delete_cmd_prefix": "del ",
     "library": "var_list.py",
     "varRefreshCmd": "print(var_dic_list())"
    },
    "r": {
     "delete_cmd_postfix": ") ",
     "delete_cmd_prefix": "rm(",
     "library": "var_list.r",
     "varRefreshCmd": "cat(var_dic_list()) "
    }
   },
   "types_to_exclude": [
    "module",
    "function",
    "builtin_function_or_method",
    "instance",
    "_Feature"
   ],
   "window_display": false
  }
 },
 "nbformat": 4,
 "nbformat_minor": 4
}
