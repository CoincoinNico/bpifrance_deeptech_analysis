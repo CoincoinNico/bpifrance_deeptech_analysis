{
 "cells": [
  {
   "cell_type": "code",
   "execution_count": 1,
   "metadata": {
    "ExecuteTime": {
     "end_time": "2020-12-08T13:50:09.154566Z",
     "start_time": "2020-12-08T13:50:09.105977Z"
    }
   },
   "outputs": [],
   "source": [
    "%load_ext autoreload\n",
    "%autoreload 2"
   ]
  },
  {
   "cell_type": "code",
   "execution_count": 2,
   "metadata": {
    "ExecuteTime": {
     "end_time": "2020-12-08T13:50:11.969515Z",
     "start_time": "2020-12-08T13:50:09.722216Z"
    }
   },
   "outputs": [],
   "source": [
    "import pandas as pd\n",
    "import numpy as np\n",
    "import json\n",
    "import re\n",
    "from sklearn.impute import SimpleImputer\n",
    "from sklearn.preprocessing import OneHotEncoder, RobustScaler\n",
    "import matplotlib.pyplot as plt"
   ]
  },
  {
   "cell_type": "markdown",
   "metadata": {},
   "source": [
    "# Convert the json data in string (transformed by the pd.read_csv) to string "
   ]
  },
  {
   "cell_type": "code",
   "execution_count": 82,
   "metadata": {
    "ExecuteTime": {
     "end_time": "2020-12-08T15:32:48.042509Z",
     "start_time": "2020-12-08T15:32:47.626180Z"
    }
   },
   "outputs": [],
   "source": [
    "data = pd.read_csv(\"../bpideep/rawdata/data2020-12-03.csv\")"
   ]
  },
  {
   "cell_type": "code",
   "execution_count": 83,
   "metadata": {
    "ExecuteTime": {
     "end_time": "2020-12-08T15:32:49.091605Z",
     "start_time": "2020-12-08T15:32:49.059204Z"
    }
   },
   "outputs": [],
   "source": [
    "def load_json_field(bad_json):\n",
    "    regex = r\"\\w\\'\\w\"\n",
    "    subst = \"\"\n",
    "    bad_json = re.sub(regex, subst, bad_json)\n",
    "    bad_json = bad_json.replace(\"d' Arrouzat\", \"darrouzat\")\n",
    "    good_json = bad_json.replace(\"\\'\", \"\\\"\").replace(\"None\", \"null\").replace(\"True\", \"true\").replace(\"False\", \"false\")\n",
    "    \n",
    "    return json.loads(good_json)"
   ]
  },
  {
   "cell_type": "code",
   "execution_count": 84,
   "metadata": {
    "ExecuteTime": {
     "end_time": "2020-12-08T15:32:51.921544Z",
     "start_time": "2020-12-08T15:32:50.644888Z"
    }
   },
   "outputs": [],
   "source": [
    "data[\"team\"] = data[\"team\"].apply(load_json_field)\n",
    "data[\"industries\"] = data[\"industries\"].apply(load_json_field)\n",
    "data[\"investors\"] = data[\"investors\"].apply(load_json_field)\n",
    "data[\"fundings\"] = data[\"fundings\"].apply(load_json_field)"
   ]
  },
  {
   "cell_type": "markdown",
   "metadata": {},
   "source": [
    "---\n",
    "En attente du retour de Florent"
   ]
  },
  {
   "cell_type": "code",
   "execution_count": 39,
   "metadata": {
    "ExecuteTime": {
     "end_time": "2020-12-08T14:54:11.582588Z",
     "start_time": "2020-12-08T14:54:11.465997Z"
    }
   },
   "outputs": [
    {
     "data": {
      "text/html": [
       "<div>\n",
       "<style scoped>\n",
       "    .dataframe tbody tr th:only-of-type {\n",
       "        vertical-align: middle;\n",
       "    }\n",
       "\n",
       "    .dataframe tbody tr th {\n",
       "        vertical-align: top;\n",
       "    }\n",
       "\n",
       "    .dataframe thead th {\n",
       "        text-align: right;\n",
       "    }\n",
       "</style>\n",
       "<table border=\"1\" class=\"dataframe\">\n",
       "  <thead>\n",
       "    <tr style=\"text-align: right;\">\n",
       "      <th></th>\n",
       "      <th>Unnamed: 0</th>\n",
       "      <th>name</th>\n",
       "      <th>employees_latest</th>\n",
       "      <th>employees</th>\n",
       "      <th>linkedin_url</th>\n",
       "      <th>launch_year</th>\n",
       "      <th>target</th>\n",
       "      <th>company_status</th>\n",
       "      <th>check</th>\n",
       "    </tr>\n",
       "  </thead>\n",
       "  <tbody>\n",
       "    <tr>\n",
       "      <th>0</th>\n",
       "      <td>50</td>\n",
       "      <td>Avril</td>\n",
       "      <td>NaN</td>\n",
       "      <td>5001-10000</td>\n",
       "      <td>https://www.linkedin.com/company/1238517</td>\n",
       "      <td>1983.0</td>\n",
       "      <td>1.0</td>\n",
       "      <td>operational</td>\n",
       "      <td>3108.0</td>\n",
       "    </tr>\n",
       "    <tr>\n",
       "      <th>1</th>\n",
       "      <td>141</td>\n",
       "      <td>Enancio</td>\n",
       "      <td>NaN</td>\n",
       "      <td>2-10</td>\n",
       "      <td>https://www.linkedin.com/company/enancio</td>\n",
       "      <td>2017.0</td>\n",
       "      <td>1.0</td>\n",
       "      <td>operational</td>\n",
       "      <td>1.0</td>\n",
       "    </tr>\n",
       "    <tr>\n",
       "      <th>2</th>\n",
       "      <td>520</td>\n",
       "      <td>Uniris</td>\n",
       "      <td>NaN</td>\n",
       "      <td>NaN</td>\n",
       "      <td>https://www.linkedin.com/company/uniris/</td>\n",
       "      <td>NaN</td>\n",
       "      <td>1.0</td>\n",
       "      <td>operational</td>\n",
       "      <td>11.0</td>\n",
       "    </tr>\n",
       "    <tr>\n",
       "      <th>3</th>\n",
       "      <td>590</td>\n",
       "      <td>AUM BIOSYNC</td>\n",
       "      <td>NaN</td>\n",
       "      <td>11-50</td>\n",
       "      <td>https://www.linkedin.com/company/aumbiosync/</td>\n",
       "      <td>2016.0</td>\n",
       "      <td>1.0</td>\n",
       "      <td>operational</td>\n",
       "      <td>17.0</td>\n",
       "    </tr>\n",
       "    <tr>\n",
       "      <th>4</th>\n",
       "      <td>627</td>\n",
       "      <td>Medetia Pharmaceuticals</td>\n",
       "      <td>NaN</td>\n",
       "      <td>2-10</td>\n",
       "      <td>https://www.linkedin.com/company/medetia-pharm...</td>\n",
       "      <td>2019.0</td>\n",
       "      <td>1.0</td>\n",
       "      <td>operational</td>\n",
       "      <td>4.0</td>\n",
       "    </tr>\n",
       "    <tr>\n",
       "      <th>5</th>\n",
       "      <td>631</td>\n",
       "      <td>NANOZ</td>\n",
       "      <td>NaN</td>\n",
       "      <td>NaN</td>\n",
       "      <td>https://www.linkedin.com/company/nanozentrum-k...</td>\n",
       "      <td>NaN</td>\n",
       "      <td>1.0</td>\n",
       "      <td>operational</td>\n",
       "      <td>9.0</td>\n",
       "    </tr>\n",
       "    <tr>\n",
       "      <th>6</th>\n",
       "      <td>741</td>\n",
       "      <td>Noova</td>\n",
       "      <td>NaN</td>\n",
       "      <td>NaN</td>\n",
       "      <td>https://www.linkedin.com/company/9419891</td>\n",
       "      <td>NaN</td>\n",
       "      <td>0.0</td>\n",
       "      <td>acquired</td>\n",
       "      <td>4.0</td>\n",
       "    </tr>\n",
       "    <tr>\n",
       "      <th>7</th>\n",
       "      <td>1001</td>\n",
       "      <td>Archos</td>\n",
       "      <td>NaN</td>\n",
       "      <td>51-200</td>\n",
       "      <td>https://www.linkedin.com/company/archos</td>\n",
       "      <td>1988.0</td>\n",
       "      <td>0.0</td>\n",
       "      <td>operational</td>\n",
       "      <td>147.0</td>\n",
       "    </tr>\n",
       "    <tr>\n",
       "      <th>8</th>\n",
       "      <td>1019</td>\n",
       "      <td>BimBamJob</td>\n",
       "      <td>NaN</td>\n",
       "      <td>NaN</td>\n",
       "      <td>https://www.linkedin.com/company/bimbamjob</td>\n",
       "      <td>NaN</td>\n",
       "      <td>0.0</td>\n",
       "      <td>operational</td>\n",
       "      <td>29.0</td>\n",
       "    </tr>\n",
       "    <tr>\n",
       "      <th>9</th>\n",
       "      <td>1049</td>\n",
       "      <td>Clean Cells</td>\n",
       "      <td>NaN</td>\n",
       "      <td>NaN</td>\n",
       "      <td>https://www.linkedin.com/company/clean-cells</td>\n",
       "      <td>2000.0</td>\n",
       "      <td>0.0</td>\n",
       "      <td>operational</td>\n",
       "      <td>96.0</td>\n",
       "    </tr>\n",
       "    <tr>\n",
       "      <th>10</th>\n",
       "      <td>1081</td>\n",
       "      <td>EFFICIENCIA</td>\n",
       "      <td>NaN</td>\n",
       "      <td>NaN</td>\n",
       "      <td>https://www.linkedin.com/company/efficiencia</td>\n",
       "      <td>NaN</td>\n",
       "      <td>0.0</td>\n",
       "      <td>closed</td>\n",
       "      <td>1.0</td>\n",
       "    </tr>\n",
       "    <tr>\n",
       "      <th>11</th>\n",
       "      <td>1089</td>\n",
       "      <td>Esi Group</td>\n",
       "      <td>NaN</td>\n",
       "      <td>1001-5000</td>\n",
       "      <td>https://www.linkedin.com/company/esi-group</td>\n",
       "      <td>1973.0</td>\n",
       "      <td>0.0</td>\n",
       "      <td>operational</td>\n",
       "      <td>1721.0</td>\n",
       "    </tr>\n",
       "    <tr>\n",
       "      <th>12</th>\n",
       "      <td>1182</td>\n",
       "      <td>Marguerite</td>\n",
       "      <td>NaN</td>\n",
       "      <td>NaN</td>\n",
       "      <td>https://www.linkedin.com/company/9403709</td>\n",
       "      <td>NaN</td>\n",
       "      <td>0.0</td>\n",
       "      <td>operational</td>\n",
       "      <td>7.0</td>\n",
       "    </tr>\n",
       "    <tr>\n",
       "      <th>13</th>\n",
       "      <td>1184</td>\n",
       "      <td>MDB Texinov</td>\n",
       "      <td>NaN</td>\n",
       "      <td>51-200</td>\n",
       "      <td>https://www.linkedin.com/company/1452560</td>\n",
       "      <td>1972.0</td>\n",
       "      <td>0.0</td>\n",
       "      <td>operational</td>\n",
       "      <td>31.0</td>\n",
       "    </tr>\n",
       "    <tr>\n",
       "      <th>14</th>\n",
       "      <td>1227</td>\n",
       "      <td>Peopeo</td>\n",
       "      <td>NaN</td>\n",
       "      <td>NaN</td>\n",
       "      <td>https://www.linkedin.com/company/peopeoboombox/</td>\n",
       "      <td>NaN</td>\n",
       "      <td>0.0</td>\n",
       "      <td>operational</td>\n",
       "      <td>2.0</td>\n",
       "    </tr>\n",
       "    <tr>\n",
       "      <th>15</th>\n",
       "      <td>1506</td>\n",
       "      <td>Le Closet</td>\n",
       "      <td>NaN</td>\n",
       "      <td>11-50</td>\n",
       "      <td>https://www.linkedin.com/company/5208845</td>\n",
       "      <td>2014.0</td>\n",
       "      <td>0.5</td>\n",
       "      <td>operational</td>\n",
       "      <td>31.0</td>\n",
       "    </tr>\n",
       "  </tbody>\n",
       "</table>\n",
       "</div>"
      ],
      "text/plain": [
       "    Unnamed: 0                     name  employees_latest   employees  \\\n",
       "0           50                    Avril               NaN  5001-10000   \n",
       "1          141                  Enancio               NaN        2-10   \n",
       "2          520                   Uniris               NaN         NaN   \n",
       "3          590              AUM BIOSYNC               NaN       11-50   \n",
       "4          627  Medetia Pharmaceuticals               NaN        2-10   \n",
       "5          631                    NANOZ               NaN         NaN   \n",
       "6          741                    Noova               NaN         NaN   \n",
       "7         1001                   Archos               NaN      51-200   \n",
       "8         1019                BimBamJob               NaN         NaN   \n",
       "9         1049              Clean Cells               NaN         NaN   \n",
       "10        1081              EFFICIENCIA               NaN         NaN   \n",
       "11        1089                Esi Group               NaN   1001-5000   \n",
       "12        1182               Marguerite               NaN         NaN   \n",
       "13        1184              MDB Texinov               NaN      51-200   \n",
       "14        1227                   Peopeo               NaN         NaN   \n",
       "15        1506                Le Closet               NaN       11-50   \n",
       "\n",
       "                                         linkedin_url  launch_year  target  \\\n",
       "0            https://www.linkedin.com/company/1238517       1983.0     1.0   \n",
       "1            https://www.linkedin.com/company/enancio       2017.0     1.0   \n",
       "2            https://www.linkedin.com/company/uniris/          NaN     1.0   \n",
       "3        https://www.linkedin.com/company/aumbiosync/       2016.0     1.0   \n",
       "4   https://www.linkedin.com/company/medetia-pharm...       2019.0     1.0   \n",
       "5   https://www.linkedin.com/company/nanozentrum-k...          NaN     1.0   \n",
       "6            https://www.linkedin.com/company/9419891          NaN     0.0   \n",
       "7             https://www.linkedin.com/company/archos       1988.0     0.0   \n",
       "8          https://www.linkedin.com/company/bimbamjob          NaN     0.0   \n",
       "9        https://www.linkedin.com/company/clean-cells       2000.0     0.0   \n",
       "10       https://www.linkedin.com/company/efficiencia          NaN     0.0   \n",
       "11         https://www.linkedin.com/company/esi-group       1973.0     0.0   \n",
       "12           https://www.linkedin.com/company/9403709          NaN     0.0   \n",
       "13           https://www.linkedin.com/company/1452560       1972.0     0.0   \n",
       "14    https://www.linkedin.com/company/peopeoboombox/          NaN     0.0   \n",
       "15           https://www.linkedin.com/company/5208845       2014.0     0.5   \n",
       "\n",
       "   company_status   check  \n",
       "0     operational  3108.0  \n",
       "1     operational     1.0  \n",
       "2     operational    11.0  \n",
       "3     operational    17.0  \n",
       "4     operational     4.0  \n",
       "5     operational     9.0  \n",
       "6        acquired     4.0  \n",
       "7     operational   147.0  \n",
       "8     operational    29.0  \n",
       "9     operational    96.0  \n",
       "10         closed     1.0  \n",
       "11    operational  1721.0  \n",
       "12    operational     7.0  \n",
       "13    operational    31.0  \n",
       "14    operational     2.0  \n",
       "15    operational    31.0  "
      ]
     },
     "execution_count": 39,
     "metadata": {},
     "output_type": "execute_result"
    }
   ],
   "source": [
    "missing = pd.read_csv(\"../bpideep/data/missing_employee_count.csv\")\n",
    "\n",
    "missing"
   ]
  },
  {
   "cell_type": "markdown",
   "metadata": {},
   "source": [
    "CCI Paris Ile de France (9,1793)"
   ]
  },
  {
   "cell_type": "code",
   "execution_count": 40,
   "metadata": {
    "ExecuteTime": {
     "end_time": "2020-12-08T14:54:14.750639Z",
     "start_time": "2020-12-08T14:54:14.640016Z"
    },
    "scrolled": true
   },
   "outputs": [
    {
     "data": {
      "text/html": [
       "<div>\n",
       "<style scoped>\n",
       "    .dataframe tbody tr th:only-of-type {\n",
       "        vertical-align: middle;\n",
       "    }\n",
       "\n",
       "    .dataframe tbody tr th {\n",
       "        vertical-align: top;\n",
       "    }\n",
       "\n",
       "    .dataframe thead th {\n",
       "        text-align: right;\n",
       "    }\n",
       "</style>\n",
       "<table border=\"1\" class=\"dataframe\">\n",
       "  <thead>\n",
       "    <tr style=\"text-align: right;\">\n",
       "      <th></th>\n",
       "      <th>id</th>\n",
       "      <th>name</th>\n",
       "      <th>path</th>\n",
       "      <th>tagline</th>\n",
       "      <th>about</th>\n",
       "      <th>url</th>\n",
       "      <th>website_url</th>\n",
       "      <th>twitter_url</th>\n",
       "      <th>facebook_url</th>\n",
       "      <th>linkedin_url</th>\n",
       "      <th>...</th>\n",
       "      <th>employee_12_months_growth_delta</th>\n",
       "      <th>kpi_summary</th>\n",
       "      <th>team</th>\n",
       "      <th>investors</th>\n",
       "      <th>fundings</th>\n",
       "      <th>traffic</th>\n",
       "      <th>similarweb_chart</th>\n",
       "      <th>job_openings</th>\n",
       "      <th>deep_or_not</th>\n",
       "      <th>target</th>\n",
       "    </tr>\n",
       "  </thead>\n",
       "  <tbody>\n",
       "    <tr>\n",
       "      <th>15</th>\n",
       "      <td>1478165</td>\n",
       "      <td>APSI 3D</td>\n",
       "      <td>apsi_3d</td>\n",
       "      <td>APSI 3D is electric power conversion from 10kW...</td>\n",
       "      <td>aPSI 3D is electric power conversion from 10kW...</td>\n",
       "      <td>https://app.dealroom.co/companies/apsi_3d</td>\n",
       "      <td>http://apsi3d.com</td>\n",
       "      <td>NaN</td>\n",
       "      <td>NaN</td>\n",
       "      <td>https://www.linkedin.com/company/agile-power-s...</td>\n",
       "      <td>...</td>\n",
       "      <td>NaN</td>\n",
       "      <td>{'id': 117946, 'last_update_date': '2020-09-30...</td>\n",
       "      <td>{'items': [{'id': 1989708, 'name': 'Jacques Fa...</td>\n",
       "      <td>{'items': [{'id': 868190, 'name': 'IRDInov', '...</td>\n",
       "      <td>{'items': [{'id': 206924, 'year': 2015, 'month...</td>\n",
       "      <td>{'visitors': '0', 'annual_growth': None, 'sour...</td>\n",
       "      <td>[{'date': '2017-11-01', 'value': 0}, {'date': ...</td>\n",
       "      <td>0</td>\n",
       "      <td>deeptech</td>\n",
       "      <td>1.0</td>\n",
       "    </tr>\n",
       "    <tr>\n",
       "      <th>32</th>\n",
       "      <td>1682182</td>\n",
       "      <td>Amypore</td>\n",
       "      <td>amypore</td>\n",
       "      <td>Develops AmyP53, a chimeric peptide capable of...</td>\n",
       "      <td>NaN</td>\n",
       "      <td>https://app.dealroom.co/companies/amypore</td>\n",
       "      <td>https://www.amypore.com</td>\n",
       "      <td>NaN</td>\n",
       "      <td>NaN</td>\n",
       "      <td>NaN</td>\n",
       "      <td>...</td>\n",
       "      <td>NaN</td>\n",
       "      <td>{'id': 1747672, 'last_update_date': '2019-08-1...</td>\n",
       "      <td>{'items': [{'id': 1685338, 'name': 'Driss Fant...</td>\n",
       "      <td>{'items': [{'id': 871041, 'name': 'European In...</td>\n",
       "      <td>{'items': [{'id': 277325, 'year': 2019, 'month...</td>\n",
       "      <td>{'visitors': '0', 'annual_growth': None, 'sour...</td>\n",
       "      <td>[{'date': '2018-12-01', 'value': 0}, {'date': ...</td>\n",
       "      <td>0</td>\n",
       "      <td>deeptech</td>\n",
       "      <td>1.0</td>\n",
       "    </tr>\n",
       "    <tr>\n",
       "      <th>50</th>\n",
       "      <td>1249456</td>\n",
       "      <td>Avril</td>\n",
       "      <td>avril</td>\n",
       "      <td>Avril Group, French industrial and financial p...</td>\n",
       "      <td>NaN</td>\n",
       "      <td>https://app.dealroom.co/companies/avril</td>\n",
       "      <td>http://www.groupeavril.com/en</td>\n",
       "      <td>https://twitter.com/avril</td>\n",
       "      <td>NaN</td>\n",
       "      <td>https://www.linkedin.com/company/1238517</td>\n",
       "      <td>...</td>\n",
       "      <td>NaN</td>\n",
       "      <td>{'id': 36778, 'last_update_date': '2019-05-17T...</td>\n",
       "      <td>{'items': [{'id': 1243307, 'name': 'Jean-Phili...</td>\n",
       "      <td>{'items': [], 'total': 0}</td>\n",
       "      <td>{'items': [], 'total': 0}</td>\n",
       "      <td>{'visitors': '10966', 'annual_growth': -36.667...</td>\n",
       "      <td>[{'date': '2017-10-01', 'value': 17315}, {'dat...</td>\n",
       "      <td>0</td>\n",
       "      <td>deeptech</td>\n",
       "      <td>1.0</td>\n",
       "    </tr>\n",
       "    <tr>\n",
       "      <th>86</th>\n",
       "      <td>969382</td>\n",
       "      <td>Ciloa SAS</td>\n",
       "      <td>ciloa_sas</td>\n",
       "      <td>Dedicated to the production of fully native me...</td>\n",
       "      <td>NaN</td>\n",
       "      <td>https://app.dealroom.co/companies/ciloa_sas</td>\n",
       "      <td>https://www.ciloa.fr/</td>\n",
       "      <td>https://twitter.com/ciloabiotech</td>\n",
       "      <td>NaN</td>\n",
       "      <td>NaN</td>\n",
       "      <td>...</td>\n",
       "      <td>NaN</td>\n",
       "      <td>{'id': 1588010, 'last_update_date': '2019-08-1...</td>\n",
       "      <td>{'items': [{'id': 1990025, 'name': 'Robert Zaï...</td>\n",
       "      <td>{'items': [{'id': 869003, 'name': 'Eurostars S...</td>\n",
       "      <td>{'items': [{'id': 69838, 'year': 2018, 'month'...</td>\n",
       "      <td>{'visitors': '205', 'annual_growth': 19.186046...</td>\n",
       "      <td>[{'date': '2017-07-01', 'value': 172}, {'date'...</td>\n",
       "      <td>0</td>\n",
       "      <td>deeptech</td>\n",
       "      <td>1.0</td>\n",
       "    </tr>\n",
       "    <tr>\n",
       "      <th>87</th>\n",
       "      <td>5741</td>\n",
       "      <td>Cinequant</td>\n",
       "      <td>cinequant</td>\n",
       "      <td>Building statistical models and deploying them...</td>\n",
       "      <td>cinequant.com - cinequant.com Συνιστώμενες Συν...</td>\n",
       "      <td>https://app.dealroom.co/companies/cinequant</td>\n",
       "      <td>http://www.cinequant.com</td>\n",
       "      <td>https://twitter.com/cinequant</td>\n",
       "      <td>https://www.facebook.com/pages/cinequant/21436...</td>\n",
       "      <td>https://www.linkedin.com/company/cinequant</td>\n",
       "      <td>...</td>\n",
       "      <td>NaN</td>\n",
       "      <td>{'id': 246106, 'last_update_date': '2019-05-18...</td>\n",
       "      <td>{'items': [{'id': 36761, 'name': 'Vincent Lepa...</td>\n",
       "      <td>{'items': [], 'total': 0}</td>\n",
       "      <td>{'items': [], 'total': 0}</td>\n",
       "      <td>{'visitors': '0', 'annual_growth': None, 'sour...</td>\n",
       "      <td>[{'date': '2015-06-01', 'value': 0}, {'date': ...</td>\n",
       "      <td>0</td>\n",
       "      <td>deeptech</td>\n",
       "      <td>1.0</td>\n",
       "    </tr>\n",
       "    <tr>\n",
       "      <th>...</th>\n",
       "      <td>...</td>\n",
       "      <td>...</td>\n",
       "      <td>...</td>\n",
       "      <td>...</td>\n",
       "      <td>...</td>\n",
       "      <td>...</td>\n",
       "      <td>...</td>\n",
       "      <td>...</td>\n",
       "      <td>...</td>\n",
       "      <td>...</td>\n",
       "      <td>...</td>\n",
       "      <td>...</td>\n",
       "      <td>...</td>\n",
       "      <td>...</td>\n",
       "      <td>...</td>\n",
       "      <td>...</td>\n",
       "      <td>...</td>\n",
       "      <td>...</td>\n",
       "      <td>...</td>\n",
       "      <td>...</td>\n",
       "      <td>...</td>\n",
       "    </tr>\n",
       "    <tr>\n",
       "      <th>1491</th>\n",
       "      <td>1743149</td>\n",
       "      <td>BeamPulse</td>\n",
       "      <td>beampulse</td>\n",
       "      <td>Helps web-marketing teams analysing online beh...</td>\n",
       "      <td>NaN</td>\n",
       "      <td>https://app.dealroom.co/companies/beampulse</td>\n",
       "      <td>http://fr.beampulse.com</td>\n",
       "      <td>https://twitter.com/beampulse</td>\n",
       "      <td>NaN</td>\n",
       "      <td>https://www.linkedin.com/company/beampulse</td>\n",
       "      <td>...</td>\n",
       "      <td>NaN</td>\n",
       "      <td>{'id': 1782040, 'last_update_date': '2019-09-1...</td>\n",
       "      <td>{'items': [{'id': 1989805, 'name': 'Malika Mul...</td>\n",
       "      <td>{'items': [], 'total': 0}</td>\n",
       "      <td>{'items': [], 'total': 0}</td>\n",
       "      <td>{'visitors': '175', 'annual_growth': -96.24866...</td>\n",
       "      <td>[{'date': '2018-12-01', 'value': 4665}, {'date...</td>\n",
       "      <td>0</td>\n",
       "      <td>almost_deeptech</td>\n",
       "      <td>0.5</td>\n",
       "    </tr>\n",
       "    <tr>\n",
       "      <th>1492</th>\n",
       "      <td>1730162</td>\n",
       "      <td>Biin</td>\n",
       "      <td>biin</td>\n",
       "      <td>A mobile wallet application to pay for transpo...</td>\n",
       "      <td>Financial Services;FinTech;Information Technol...</td>\n",
       "      <td>https://app.dealroom.co/companies/biin</td>\n",
       "      <td>http://biin.mx</td>\n",
       "      <td>https://twitter.com/biinmex</td>\n",
       "      <td>NaN</td>\n",
       "      <td>https://www.linkedin.com/company/biinmx</td>\n",
       "      <td>...</td>\n",
       "      <td>NaN</td>\n",
       "      <td>{'id': 1773630, 'last_update_date': '2019-08-1...</td>\n",
       "      <td>{'items': [], 'total': 0}</td>\n",
       "      <td>{'items': [], 'total': 0}</td>\n",
       "      <td>{'items': [], 'total': 0}</td>\n",
       "      <td>{'visitors': '0', 'annual_growth': None, 'sour...</td>\n",
       "      <td>[{'date': '2018-12-01', 'value': 0}, {'date': ...</td>\n",
       "      <td>0</td>\n",
       "      <td>almost_deeptech</td>\n",
       "      <td>0.5</td>\n",
       "    </tr>\n",
       "    <tr>\n",
       "      <th>1500</th>\n",
       "      <td>1835082</td>\n",
       "      <td>Ekyno company</td>\n",
       "      <td>ekyno_company</td>\n",
       "      <td>Centralizes all the resources needed to provid...</td>\n",
       "      <td>NaN</td>\n",
       "      <td>https://app.dealroom.co/companies/ekyno_company</td>\n",
       "      <td>https://www.ekyno.com/</td>\n",
       "      <td>https://twitter.com/ekynocompany</td>\n",
       "      <td>NaN</td>\n",
       "      <td>https://www.linkedin.com/company/ekyno</td>\n",
       "      <td>...</td>\n",
       "      <td>NaN</td>\n",
       "      <td>{'id': 1826359, 'last_update_date': '2020-05-1...</td>\n",
       "      <td>{'items': [], 'total': 0}</td>\n",
       "      <td>{'items': [], 'total': 0}</td>\n",
       "      <td>{'items': [], 'total': 0}</td>\n",
       "      <td>{'visitors': '0', 'annual_growth': None, 'sour...</td>\n",
       "      <td>[{'date': '2020-06-01', 'value': 0}, {'date': ...</td>\n",
       "      <td>0</td>\n",
       "      <td>almost_deeptech</td>\n",
       "      <td>0.5</td>\n",
       "    </tr>\n",
       "    <tr>\n",
       "      <th>1506</th>\n",
       "      <td>217428</td>\n",
       "      <td>Le Closet</td>\n",
       "      <td>le_closet</td>\n",
       "      <td>Découvrez l'univers Le Closet - Une sélection ...</td>\n",
       "      <td>NaN</td>\n",
       "      <td>https://app.dealroom.co/companies/le_closet</td>\n",
       "      <td>http://lecloset.fr</td>\n",
       "      <td>https://twitter.com/lecloset</td>\n",
       "      <td>https://www.facebook.com/lecloset.fr</td>\n",
       "      <td>https://www.linkedin.com/company/5208845</td>\n",
       "      <td>...</td>\n",
       "      <td>NaN</td>\n",
       "      <td>{'id': 25097, 'last_update_date': '2019-08-12T...</td>\n",
       "      <td>{'items': [{'id': 1074526, 'name': 'Quentin Ha...</td>\n",
       "      <td>{'items': [{'id': 31604, 'name': '50 Partners'...</td>\n",
       "      <td>{'items': [{'id': 32950, 'year': 2015, 'month'...</td>\n",
       "      <td>{'visitors': '71452', 'annual_growth': 76.4856...</td>\n",
       "      <td>[{'date': '2017-01-01', 'value': 40486}, {'dat...</td>\n",
       "      <td>3</td>\n",
       "      <td>almost_deeptech</td>\n",
       "      <td>0.5</td>\n",
       "    </tr>\n",
       "    <tr>\n",
       "      <th>1508</th>\n",
       "      <td>1660577</td>\n",
       "      <td>Opta LP</td>\n",
       "      <td>opta_lp</td>\n",
       "      <td>Opta LP | Optimization softwares to improve yo...</td>\n",
       "      <td>NaN</td>\n",
       "      <td>https://app.dealroom.co/companies/opta_lp</td>\n",
       "      <td>http://opta-lp.com</td>\n",
       "      <td>https://twitter.com/opta_lp</td>\n",
       "      <td>NaN</td>\n",
       "      <td>https://fr.linkedin.com/in/opta-lp-9ba2b881</td>\n",
       "      <td>...</td>\n",
       "      <td>NaN</td>\n",
       "      <td>{'id': 1725821, 'last_update_date': '2019-05-2...</td>\n",
       "      <td>{'items': [], 'total': 0}</td>\n",
       "      <td>{'items': [], 'total': 0}</td>\n",
       "      <td>{'items': [], 'total': 0}</td>\n",
       "      <td>{'visitors': '1403', 'annual_growth': -47.4728...</td>\n",
       "      <td>[{'date': '2018-12-01', 'value': 2671}, {'date...</td>\n",
       "      <td>0</td>\n",
       "      <td>almost_deeptech</td>\n",
       "      <td>0.5</td>\n",
       "    </tr>\n",
       "  </tbody>\n",
       "</table>\n",
       "<p>139 rows × 94 columns</p>\n",
       "</div>"
      ],
      "text/plain": [
       "           id           name           path  \\\n",
       "15    1478165        APSI 3D        apsi_3d   \n",
       "32    1682182        Amypore        amypore   \n",
       "50    1249456          Avril          avril   \n",
       "86     969382      Ciloa SAS      ciloa_sas   \n",
       "87       5741      Cinequant      cinequant   \n",
       "...       ...            ...            ...   \n",
       "1491  1743149      BeamPulse      beampulse   \n",
       "1492  1730162           Biin           biin   \n",
       "1500  1835082  Ekyno company  ekyno_company   \n",
       "1506   217428      Le Closet      le_closet   \n",
       "1508  1660577        Opta LP        opta_lp   \n",
       "\n",
       "                                                tagline  \\\n",
       "15    APSI 3D is electric power conversion from 10kW...   \n",
       "32    Develops AmyP53, a chimeric peptide capable of...   \n",
       "50    Avril Group, French industrial and financial p...   \n",
       "86    Dedicated to the production of fully native me...   \n",
       "87    Building statistical models and deploying them...   \n",
       "...                                                 ...   \n",
       "1491  Helps web-marketing teams analysing online beh...   \n",
       "1492  A mobile wallet application to pay for transpo...   \n",
       "1500  Centralizes all the resources needed to provid...   \n",
       "1506  Découvrez l'univers Le Closet - Une sélection ...   \n",
       "1508  Opta LP | Optimization softwares to improve yo...   \n",
       "\n",
       "                                                  about  \\\n",
       "15    aPSI 3D is electric power conversion from 10kW...   \n",
       "32                                                  NaN   \n",
       "50                                                  NaN   \n",
       "86                                                  NaN   \n",
       "87    cinequant.com - cinequant.com Συνιστώμενες Συν...   \n",
       "...                                                 ...   \n",
       "1491                                                NaN   \n",
       "1492  Financial Services;FinTech;Information Technol...   \n",
       "1500                                                NaN   \n",
       "1506                                                NaN   \n",
       "1508                                                NaN   \n",
       "\n",
       "                                                  url  \\\n",
       "15          https://app.dealroom.co/companies/apsi_3d   \n",
       "32          https://app.dealroom.co/companies/amypore   \n",
       "50            https://app.dealroom.co/companies/avril   \n",
       "86        https://app.dealroom.co/companies/ciloa_sas   \n",
       "87        https://app.dealroom.co/companies/cinequant   \n",
       "...                                               ...   \n",
       "1491      https://app.dealroom.co/companies/beampulse   \n",
       "1492           https://app.dealroom.co/companies/biin   \n",
       "1500  https://app.dealroom.co/companies/ekyno_company   \n",
       "1506      https://app.dealroom.co/companies/le_closet   \n",
       "1508        https://app.dealroom.co/companies/opta_lp   \n",
       "\n",
       "                        website_url                       twitter_url  \\\n",
       "15                http://apsi3d.com                               NaN   \n",
       "32          https://www.amypore.com                               NaN   \n",
       "50    http://www.groupeavril.com/en         https://twitter.com/avril   \n",
       "86            https://www.ciloa.fr/  https://twitter.com/ciloabiotech   \n",
       "87         http://www.cinequant.com     https://twitter.com/cinequant   \n",
       "...                             ...                               ...   \n",
       "1491        http://fr.beampulse.com     https://twitter.com/beampulse   \n",
       "1492                 http://biin.mx       https://twitter.com/biinmex   \n",
       "1500         https://www.ekyno.com/  https://twitter.com/ekynocompany   \n",
       "1506             http://lecloset.fr      https://twitter.com/lecloset   \n",
       "1508             http://opta-lp.com       https://twitter.com/opta_lp   \n",
       "\n",
       "                                           facebook_url  \\\n",
       "15                                                  NaN   \n",
       "32                                                  NaN   \n",
       "50                                                  NaN   \n",
       "86                                                  NaN   \n",
       "87    https://www.facebook.com/pages/cinequant/21436...   \n",
       "...                                                 ...   \n",
       "1491                                                NaN   \n",
       "1492                                                NaN   \n",
       "1500                                                NaN   \n",
       "1506               https://www.facebook.com/lecloset.fr   \n",
       "1508                                                NaN   \n",
       "\n",
       "                                           linkedin_url  ...  \\\n",
       "15    https://www.linkedin.com/company/agile-power-s...  ...   \n",
       "32                                                  NaN  ...   \n",
       "50             https://www.linkedin.com/company/1238517  ...   \n",
       "86                                                  NaN  ...   \n",
       "87           https://www.linkedin.com/company/cinequant  ...   \n",
       "...                                                 ...  ...   \n",
       "1491         https://www.linkedin.com/company/beampulse  ...   \n",
       "1492            https://www.linkedin.com/company/biinmx  ...   \n",
       "1500             https://www.linkedin.com/company/ekyno  ...   \n",
       "1506           https://www.linkedin.com/company/5208845  ...   \n",
       "1508        https://fr.linkedin.com/in/opta-lp-9ba2b881  ...   \n",
       "\n",
       "     employee_12_months_growth_delta  \\\n",
       "15                               NaN   \n",
       "32                               NaN   \n",
       "50                               NaN   \n",
       "86                               NaN   \n",
       "87                               NaN   \n",
       "...                              ...   \n",
       "1491                             NaN   \n",
       "1492                             NaN   \n",
       "1500                             NaN   \n",
       "1506                             NaN   \n",
       "1508                             NaN   \n",
       "\n",
       "                                            kpi_summary  \\\n",
       "15    {'id': 117946, 'last_update_date': '2020-09-30...   \n",
       "32    {'id': 1747672, 'last_update_date': '2019-08-1...   \n",
       "50    {'id': 36778, 'last_update_date': '2019-05-17T...   \n",
       "86    {'id': 1588010, 'last_update_date': '2019-08-1...   \n",
       "87    {'id': 246106, 'last_update_date': '2019-05-18...   \n",
       "...                                                 ...   \n",
       "1491  {'id': 1782040, 'last_update_date': '2019-09-1...   \n",
       "1492  {'id': 1773630, 'last_update_date': '2019-08-1...   \n",
       "1500  {'id': 1826359, 'last_update_date': '2020-05-1...   \n",
       "1506  {'id': 25097, 'last_update_date': '2019-08-12T...   \n",
       "1508  {'id': 1725821, 'last_update_date': '2019-05-2...   \n",
       "\n",
       "                                                   team  \\\n",
       "15    {'items': [{'id': 1989708, 'name': 'Jacques Fa...   \n",
       "32    {'items': [{'id': 1685338, 'name': 'Driss Fant...   \n",
       "50    {'items': [{'id': 1243307, 'name': 'Jean-Phili...   \n",
       "86    {'items': [{'id': 1990025, 'name': 'Robert Zaï...   \n",
       "87    {'items': [{'id': 36761, 'name': 'Vincent Lepa...   \n",
       "...                                                 ...   \n",
       "1491  {'items': [{'id': 1989805, 'name': 'Malika Mul...   \n",
       "1492                          {'items': [], 'total': 0}   \n",
       "1500                          {'items': [], 'total': 0}   \n",
       "1506  {'items': [{'id': 1074526, 'name': 'Quentin Ha...   \n",
       "1508                          {'items': [], 'total': 0}   \n",
       "\n",
       "                                              investors  \\\n",
       "15    {'items': [{'id': 868190, 'name': 'IRDInov', '...   \n",
       "32    {'items': [{'id': 871041, 'name': 'European In...   \n",
       "50                            {'items': [], 'total': 0}   \n",
       "86    {'items': [{'id': 869003, 'name': 'Eurostars S...   \n",
       "87                            {'items': [], 'total': 0}   \n",
       "...                                                 ...   \n",
       "1491                          {'items': [], 'total': 0}   \n",
       "1492                          {'items': [], 'total': 0}   \n",
       "1500                          {'items': [], 'total': 0}   \n",
       "1506  {'items': [{'id': 31604, 'name': '50 Partners'...   \n",
       "1508                          {'items': [], 'total': 0}   \n",
       "\n",
       "                                               fundings  \\\n",
       "15    {'items': [{'id': 206924, 'year': 2015, 'month...   \n",
       "32    {'items': [{'id': 277325, 'year': 2019, 'month...   \n",
       "50                            {'items': [], 'total': 0}   \n",
       "86    {'items': [{'id': 69838, 'year': 2018, 'month'...   \n",
       "87                            {'items': [], 'total': 0}   \n",
       "...                                                 ...   \n",
       "1491                          {'items': [], 'total': 0}   \n",
       "1492                          {'items': [], 'total': 0}   \n",
       "1500                          {'items': [], 'total': 0}   \n",
       "1506  {'items': [{'id': 32950, 'year': 2015, 'month'...   \n",
       "1508                          {'items': [], 'total': 0}   \n",
       "\n",
       "                                                traffic  \\\n",
       "15    {'visitors': '0', 'annual_growth': None, 'sour...   \n",
       "32    {'visitors': '0', 'annual_growth': None, 'sour...   \n",
       "50    {'visitors': '10966', 'annual_growth': -36.667...   \n",
       "86    {'visitors': '205', 'annual_growth': 19.186046...   \n",
       "87    {'visitors': '0', 'annual_growth': None, 'sour...   \n",
       "...                                                 ...   \n",
       "1491  {'visitors': '175', 'annual_growth': -96.24866...   \n",
       "1492  {'visitors': '0', 'annual_growth': None, 'sour...   \n",
       "1500  {'visitors': '0', 'annual_growth': None, 'sour...   \n",
       "1506  {'visitors': '71452', 'annual_growth': 76.4856...   \n",
       "1508  {'visitors': '1403', 'annual_growth': -47.4728...   \n",
       "\n",
       "                                       similarweb_chart  job_openings  \\\n",
       "15    [{'date': '2017-11-01', 'value': 0}, {'date': ...             0   \n",
       "32    [{'date': '2018-12-01', 'value': 0}, {'date': ...             0   \n",
       "50    [{'date': '2017-10-01', 'value': 17315}, {'dat...             0   \n",
       "86    [{'date': '2017-07-01', 'value': 172}, {'date'...             0   \n",
       "87    [{'date': '2015-06-01', 'value': 0}, {'date': ...             0   \n",
       "...                                                 ...           ...   \n",
       "1491  [{'date': '2018-12-01', 'value': 4665}, {'date...             0   \n",
       "1492  [{'date': '2018-12-01', 'value': 0}, {'date': ...             0   \n",
       "1500  [{'date': '2020-06-01', 'value': 0}, {'date': ...             0   \n",
       "1506  [{'date': '2017-01-01', 'value': 40486}, {'dat...             3   \n",
       "1508  [{'date': '2018-12-01', 'value': 2671}, {'date...             0   \n",
       "\n",
       "          deep_or_not target  \n",
       "15           deeptech    1.0  \n",
       "32           deeptech    1.0  \n",
       "50           deeptech    1.0  \n",
       "86           deeptech    1.0  \n",
       "87           deeptech    1.0  \n",
       "...               ...    ...  \n",
       "1491  almost_deeptech    0.5  \n",
       "1492  almost_deeptech    0.5  \n",
       "1500  almost_deeptech    0.5  \n",
       "1506  almost_deeptech    0.5  \n",
       "1508  almost_deeptech    0.5  \n",
       "\n",
       "[139 rows x 94 columns]"
      ]
     },
     "execution_count": 40,
     "metadata": {},
     "output_type": "execute_result"
    }
   ],
   "source": [
    "data[data.employees_latest.isna()]"
   ]
  },
  {
   "cell_type": "code",
   "execution_count": 26,
   "metadata": {
    "ExecuteTime": {
     "end_time": "2020-12-08T14:16:57.894626Z",
     "start_time": "2020-12-08T14:16:57.761602Z"
    },
    "collapsed": true
   },
   "outputs": [
    {
     "name": "stdout",
     "output_type": "stream",
     "text": [
      "3108.0\n",
      "    update\n",
      "50  3108.0\n",
      "--------\n",
      "1.0\n",
      "     update\n",
      "141     1.0\n",
      "--------\n",
      "11.0\n",
      "     update\n",
      "520    11.0\n",
      "--------\n",
      "17.0\n",
      "     update\n",
      "590    17.0\n",
      "--------\n",
      "4.0\n",
      "     update\n",
      "627     4.0\n",
      "--------\n",
      "9.0\n",
      "     update\n",
      "631     9.0\n",
      "--------\n",
      "4.0\n",
      "     update\n",
      "741     4.0\n",
      "--------\n",
      "147.0\n",
      "      update\n",
      "1001   147.0\n",
      "--------\n",
      "29.0\n",
      "      update\n",
      "1019    29.0\n",
      "--------\n",
      "96.0\n",
      "      update\n",
      "1049    96.0\n",
      "--------\n",
      "1.0\n",
      "      update\n",
      "1081     1.0\n",
      "--------\n",
      "1721.0\n",
      "      update\n",
      "1089  1721.0\n",
      "--------\n",
      "7.0\n",
      "      update\n",
      "1182     7.0\n",
      "--------\n",
      "31.0\n",
      "      update\n",
      "1184    31.0\n",
      "--------\n",
      "2.0\n",
      "      update\n",
      "1227     2.0\n",
      "--------\n",
      "31.0\n",
      "      update\n",
      "1506    31.0\n",
      "--------\n"
     ]
    }
   ],
   "source": [
    "tmp = data\n",
    "tmp[\"update\"] = tmp.employees_latest\n",
    "\n",
    "for url in missing.linkedin_url:\n",
    "#     print(tmp[tmp.linkedin_url == url][\"name\"])\n",
    "    replace_value = missing[missing.linkedin_url == url][\"check\"].iloc[0]\n",
    "    print(replace_value)\n",
    "    tmp.loc[(tmp.linkedin_url == url), \"update\"] = replace_value\n",
    "    print(tmp[tmp.linkedin_url == url][[\"update\"]])\n",
    "    print(\"--------\")"
   ]
  },
  {
   "cell_type": "code",
   "execution_count": 33,
   "metadata": {
    "ExecuteTime": {
     "end_time": "2020-12-08T14:32:09.772007Z",
     "start_time": "2020-12-08T14:32:09.679292Z"
    }
   },
   "outputs": [
    {
     "data": {
      "text/html": [
       "<div>\n",
       "<style scoped>\n",
       "    .dataframe tbody tr th:only-of-type {\n",
       "        vertical-align: middle;\n",
       "    }\n",
       "\n",
       "    .dataframe tbody tr th {\n",
       "        vertical-align: top;\n",
       "    }\n",
       "\n",
       "    .dataframe thead th {\n",
       "        text-align: right;\n",
       "    }\n",
       "</style>\n",
       "<table border=\"1\" class=\"dataframe\">\n",
       "  <thead>\n",
       "    <tr style=\"text-align: right;\">\n",
       "      <th></th>\n",
       "      <th>id</th>\n",
       "      <th>name</th>\n",
       "      <th>path</th>\n",
       "      <th>tagline</th>\n",
       "      <th>about</th>\n",
       "      <th>url</th>\n",
       "      <th>website_url</th>\n",
       "      <th>twitter_url</th>\n",
       "      <th>facebook_url</th>\n",
       "      <th>linkedin_url</th>\n",
       "      <th>...</th>\n",
       "      <th>investors</th>\n",
       "      <th>fundings</th>\n",
       "      <th>traffic</th>\n",
       "      <th>similarweb_chart</th>\n",
       "      <th>job_openings</th>\n",
       "      <th>deep_or_not</th>\n",
       "      <th>target</th>\n",
       "      <th>check</th>\n",
       "      <th>update</th>\n",
       "      <th>employees_imputed</th>\n",
       "    </tr>\n",
       "  </thead>\n",
       "  <tbody>\n",
       "    <tr>\n",
       "      <th>50</th>\n",
       "      <td>1249456</td>\n",
       "      <td>Avril</td>\n",
       "      <td>avril</td>\n",
       "      <td>Avril Group, French industrial and financial p...</td>\n",
       "      <td>NaN</td>\n",
       "      <td>https://app.dealroom.co/companies/avril</td>\n",
       "      <td>http://www.groupeavril.com/en</td>\n",
       "      <td>https://twitter.com/avril</td>\n",
       "      <td>NaN</td>\n",
       "      <td>https://www.linkedin.com/company/1238517</td>\n",
       "      <td>...</td>\n",
       "      <td>{'items': [], 'total': 0}</td>\n",
       "      <td>{'items': [], 'total': 0}</td>\n",
       "      <td>{'visitors': '10966', 'annual_growth': -36.667...</td>\n",
       "      <td>[{'date': '2017-10-01', 'value': 17315}, {'dat...</td>\n",
       "      <td>0</td>\n",
       "      <td>deeptech</td>\n",
       "      <td>1.0</td>\n",
       "      <td>NaN</td>\n",
       "      <td>3108.0</td>\n",
       "      <td>3108.0</td>\n",
       "    </tr>\n",
       "  </tbody>\n",
       "</table>\n",
       "<p>1 rows × 97 columns</p>\n",
       "</div>"
      ],
      "text/plain": [
       "         id   name   path                                            tagline  \\\n",
       "50  1249456  Avril  avril  Avril Group, French industrial and financial p...   \n",
       "\n",
       "   about                                      url  \\\n",
       "50   NaN  https://app.dealroom.co/companies/avril   \n",
       "\n",
       "                      website_url                twitter_url facebook_url  \\\n",
       "50  http://www.groupeavril.com/en  https://twitter.com/avril          NaN   \n",
       "\n",
       "                                linkedin_url  ...                  investors  \\\n",
       "50  https://www.linkedin.com/company/1238517  ...  {'items': [], 'total': 0}   \n",
       "\n",
       "                     fundings  \\\n",
       "50  {'items': [], 'total': 0}   \n",
       "\n",
       "                                              traffic  \\\n",
       "50  {'visitors': '10966', 'annual_growth': -36.667...   \n",
       "\n",
       "                                     similarweb_chart job_openings  \\\n",
       "50  [{'date': '2017-10-01', 'value': 17315}, {'dat...            0   \n",
       "\n",
       "   deep_or_not target  check  update employees_imputed  \n",
       "50    deeptech    1.0    NaN  3108.0            3108.0  \n",
       "\n",
       "[1 rows x 97 columns]"
      ]
     },
     "execution_count": 33,
     "metadata": {},
     "output_type": "execute_result"
    }
   ],
   "source": [
    "tmp2 = impute_missing_employees(tmp)\n",
    "tmp2[tmp2.name == \"Avril\"]"
   ]
  },
  {
   "cell_type": "code",
   "execution_count": 43,
   "metadata": {
    "ExecuteTime": {
     "end_time": "2020-12-08T14:55:18.769021Z",
     "start_time": "2020-12-08T14:55:18.734655Z"
    }
   },
   "outputs": [],
   "source": [
    "import re\n",
    "import math\n",
    "\n",
    "def average_list(range_list):\n",
    "    return sum(range_list)/len(range_list)\n",
    "\n",
    "def compute_employees_mean(data):\n",
    "    range_list = list(data.employees.unique())\n",
    "    range_list.remove(\"n.a.\")\n",
    "    keys_list = []\n",
    "    means_list = []\n",
    "\n",
    "    for i in range(len(range_list)) :\n",
    "        if type(range_list[i]) == str :\n",
    "            temp = re.findall(r'\\d+', range_list[i]) \n",
    "            res = list(map(int, temp)) \n",
    "            mean = average_list(res)\n",
    "            means_list.append(mean)\n",
    "            keys_list.append(range_list[i])\n",
    "        else:\n",
    "            pass\n",
    "\n",
    "    zip_iterator = zip(keys_list, means_list)\n",
    "    range_dict = dict(zip_iterator)\n",
    "    \n",
    "    return range_dict\n",
    "\n",
    "def impute_missing_employees(data):\n",
    "    \n",
    "    data = data.copy()\n",
    "    data[\"employees_imputed\"] = data.employees_latest\n",
    "    \n",
    "\n",
    "    #imputing according to the range given by Dealroom in the column \"employees\" \n",
    "    #thanks to the function \"compute_employees_mean\" \n",
    "    range_dict = compute_employees_mean(data)\n",
    "    data.loc[data.employees_imputed.isna(), \"employees_imputed\"] = range_dict[data.employees]\n",
    "    \n",
    "    return data\n",
    "    \n"
   ]
  },
  {
   "cell_type": "code",
   "execution_count": 85,
   "metadata": {
    "ExecuteTime": {
     "end_time": "2020-12-08T15:32:56.452028Z",
     "start_time": "2020-12-08T15:32:56.414619Z"
    }
   },
   "outputs": [],
   "source": [
    "tmp = data"
   ]
  },
  {
   "cell_type": "code",
   "execution_count": 88,
   "metadata": {
    "ExecuteTime": {
     "end_time": "2020-12-08T15:34:12.883213Z",
     "start_time": "2020-12-08T15:34:12.851754Z"
    }
   },
   "outputs": [
    {
     "data": {
      "text/plain": [
       "{'2-10': 6.0,\n",
       " '11-50': 30.5,\n",
       " '51-200': 125.5,\n",
       " '5001-10000': 7500.5,\n",
       " '1': 1.0,\n",
       " '201-500': 350.5,\n",
       " '1001-5000': 3000.5,\n",
       " '501-1000': 750.5,\n",
       " '10001+': 10001.0}"
      ]
     },
     "execution_count": 88,
     "metadata": {},
     "output_type": "execute_result"
    }
   ],
   "source": [
    "dictionary = compute_employees_mean(tmp)\n",
    "dictionary"
   ]
  },
  {
   "cell_type": "code",
   "execution_count": 90,
   "metadata": {
    "ExecuteTime": {
     "end_time": "2020-12-08T15:40:05.354244Z",
     "start_time": "2020-12-08T15:40:05.310498Z"
    }
   },
   "outputs": [],
   "source": [
    "#hf['w'] = hf.apply(lambda x: gf.loc[(x.a, x.b)], axis=1)\n",
    "\n",
    "\n",
    "def replace_employees(df):\n",
    "    df[\"employees_imputed\"] = df.employees_latest\n",
    "    for key, value in dictionary.items():\n",
    "        df.loc[(df.employees == key) & (df.employees_latest.isna()), \"employees_imputed\"] = value\n",
    "        \n",
    "replace_employees(tmp)"
   ]
  },
  {
   "cell_type": "code",
   "execution_count": 108,
   "metadata": {
    "ExecuteTime": {
     "end_time": "2020-12-08T15:45:26.559941Z",
     "start_time": "2020-12-08T15:45:26.528309Z"
    }
   },
   "outputs": [
    {
     "data": {
      "text/plain": [
       "employees_latest     139\n",
       "employees_imputed     81\n",
       "dtype: int64"
      ]
     },
     "execution_count": 108,
     "metadata": {},
     "output_type": "execute_result"
    }
   ],
   "source": [
    "tmp[[\"employees_latest\",\"employees_imputed\"]].isnull().sum()"
   ]
  },
  {
   "cell_type": "code",
   "execution_count": 115,
   "metadata": {
    "ExecuteTime": {
     "end_time": "2020-12-08T15:47:48.572204Z",
     "start_time": "2020-12-08T15:47:48.529854Z"
    }
   },
   "outputs": [
    {
     "data": {
      "text/plain": [
       "employees    80\n",
       "dtype: int64"
      ]
     },
     "execution_count": 115,
     "metadata": {},
     "output_type": "execute_result"
    }
   ],
   "source": [
    "tmp[tmp.employees.isnull()][[\"employees\"]].isna().sum()"
   ]
  },
  {
   "cell_type": "code",
   "execution_count": 106,
   "metadata": {
    "ExecuteTime": {
     "end_time": "2020-12-08T15:43:43.193929Z",
     "start_time": "2020-12-08T15:43:43.161211Z"
    },
    "scrolled": true
   },
   "outputs": [
    {
     "data": {
      "text/plain": [
       "array(['2-10', '11-50', '51-200', nan, '5001-10000', '1', '201-500',\n",
       "       '1001-5000', '501-1000', '10001+', 'n.a.'], dtype=object)"
      ]
     },
     "execution_count": 106,
     "metadata": {},
     "output_type": "execute_result"
    }
   ],
   "source": [
    "data.employees.unique()"
   ]
  },
  {
   "cell_type": "code",
   "execution_count": 100,
   "metadata": {
    "ExecuteTime": {
     "end_time": "2020-12-08T15:41:39.779810Z",
     "start_time": "2020-12-08T15:41:39.749547Z"
    }
   },
   "outputs": [
    {
     "data": {
      "text/plain": [
       "81"
      ]
     },
     "execution_count": 100,
     "metadata": {},
     "output_type": "execute_result"
    }
   ],
   "source": [
    "tmp.employees_imputed.isna().sum()"
   ]
  },
  {
   "cell_type": "code",
   "execution_count": 104,
   "metadata": {
    "ExecuteTime": {
     "end_time": "2020-12-08T15:42:17.767174Z",
     "start_time": "2020-12-08T15:42:17.735272Z"
    }
   },
   "outputs": [
    {
     "data": {
      "text/plain": [
       "139"
      ]
     },
     "execution_count": 104,
     "metadata": {},
     "output_type": "execute_result"
    }
   ],
   "source": [
    "tmp.employees_latest.isnull().sum()"
   ]
  },
  {
   "cell_type": "code",
   "execution_count": 65,
   "metadata": {
    "ExecuteTime": {
     "end_time": "2020-12-08T15:08:29.607076Z",
     "start_time": "2020-12-08T15:08:29.563014Z"
    },
    "scrolled": true
   },
   "outputs": [
    {
     "data": {
      "text/plain": [
       "15            2-10\n",
       "32             NaN\n",
       "50      5001-10000\n",
       "86             NaN\n",
       "87               1\n",
       "           ...    \n",
       "1491          2-10\n",
       "1492          2-10\n",
       "1500          2-10\n",
       "1506         11-50\n",
       "1508           NaN\n",
       "Name: employees, Length: 139, dtype: object"
      ]
     },
     "execution_count": 65,
     "metadata": {},
     "output_type": "execute_result"
    }
   ],
   "source": [
    "tmp.loc[tmp.employees_latest.isna(), \"employees\"]"
   ]
  },
  {
   "cell_type": "code",
   "execution_count": 68,
   "metadata": {
    "ExecuteTime": {
     "end_time": "2020-12-08T15:10:57.442381Z",
     "start_time": "2020-12-08T15:10:57.413816Z"
    }
   },
   "outputs": [],
   "source": [
    "tmp[\"employees_imputed\"] = tmp.employees_latest"
   ]
  },
  {
   "cell_type": "code",
   "execution_count": 81,
   "metadata": {
    "ExecuteTime": {
     "end_time": "2020-12-08T15:30:23.985295Z",
     "start_time": "2020-12-08T15:30:23.898538Z"
    }
   },
   "outputs": [
    {
     "data": {
      "text/plain": [
       "{'2-10': 6.0,\n",
       " '11-50': 30.5,\n",
       " '51-200': 125.5,\n",
       " '5001-10000': 7500.5,\n",
       " '1': 1.0,\n",
       " '201-500': 350.5,\n",
       " '1001-5000': 3000.5,\n",
       " '501-1000': 750.5,\n",
       " '10001+': 10001.0}"
      ]
     },
     "execution_count": 81,
     "metadata": {},
     "output_type": "execute_result"
    }
   ],
   "source": [
    "dictionary"
   ]
  },
  {
   "cell_type": "code",
   "execution_count": 70,
   "metadata": {
    "ExecuteTime": {
     "end_time": "2020-12-08T15:11:32.724128Z",
     "start_time": "2020-12-08T15:11:32.692948Z"
    }
   },
   "outputs": [
    {
     "name": "stderr",
     "output_type": "stream",
     "text": [
      "<ipython-input-70-1fbad3b9d590>:1: SettingWithCopyWarning: \n",
      "A value is trying to be set on a copy of a slice from a DataFrame.\n",
      "Try using .loc[row_indexer,col_indexer] = value instead\n",
      "\n",
      "See the caveats in the documentation: https://pandas.pydata.org/pandas-docs/stable/user_guide/indexing.html#returning-a-view-versus-a-copy\n",
      "  tmp[tmp.employees_latest.isna()][\"employees_imputed\"] = tmp[\"employees\"].apply(lambda x: dictionary.get(x))\n"
     ]
    }
   ],
   "source": [
    "tmp[tmp.employees_latest.isna()][\"employees_imputed\"] = tmp[\"employees\"].apply(lambda x: dictionary.get(x))\n"
   ]
  },
  {
   "cell_type": "code",
   "execution_count": 80,
   "metadata": {
    "ExecuteTime": {
     "end_time": "2020-12-08T15:13:45.413861Z",
     "start_time": "2020-12-08T15:13:45.378341Z"
    }
   },
   "outputs": [
    {
     "data": {
      "text/html": [
       "<div>\n",
       "<style scoped>\n",
       "    .dataframe tbody tr th:only-of-type {\n",
       "        vertical-align: middle;\n",
       "    }\n",
       "\n",
       "    .dataframe tbody tr th {\n",
       "        vertical-align: top;\n",
       "    }\n",
       "\n",
       "    .dataframe thead th {\n",
       "        text-align: right;\n",
       "    }\n",
       "</style>\n",
       "<table border=\"1\" class=\"dataframe\">\n",
       "  <thead>\n",
       "    <tr style=\"text-align: right;\">\n",
       "      <th></th>\n",
       "      <th>name</th>\n",
       "      <th>employees</th>\n",
       "      <th>employees_latest</th>\n",
       "      <th>employees_imputed</th>\n",
       "    </tr>\n",
       "  </thead>\n",
       "  <tbody>\n",
       "    <tr>\n",
       "      <th>1492</th>\n",
       "      <td>Biin</td>\n",
       "      <td>2-10</td>\n",
       "      <td>NaN</td>\n",
       "      <td>NaN</td>\n",
       "    </tr>\n",
       "  </tbody>\n",
       "</table>\n",
       "</div>"
      ],
      "text/plain": [
       "      name employees  employees_latest  employees_imputed\n",
       "1492  Biin      2-10               NaN                NaN"
      ]
     },
     "execution_count": 80,
     "metadata": {},
     "output_type": "execute_result"
    }
   ],
   "source": [
    "tmp[tmp.name == \"Biin\"][[\"name\", \"employees\", \"employees_latest\", \"employees_imputed\"]]"
   ]
  },
  {
   "cell_type": "markdown",
   "metadata": {},
   "source": [
    "# Import data + data cleaning thanks to info retrieved from Linkedin"
   ]
  },
  {
   "cell_type": "code",
   "execution_count": null,
   "metadata": {
    "ExecuteTime": {
     "end_time": "2020-12-08T11:06:06.875311Z",
     "start_time": "2020-12-08T11:06:06.822066Z"
    }
   },
   "outputs": [],
   "source": [
    "def impute_missing_launch_year(data):\n",
    "\n",
    "    names = ['Amypore',\n",
    "     'Kinnov Therapeutics',\n",
    "     'Lipofabrik',\n",
    "     'Step pharma',\n",
    "     'LiMM Therapeutics',\n",
    "     'Ilek',\n",
    "     'LysPackaging',\n",
    "     'TexiSense',\n",
    "     \"Institut de Prise en Charge de l'Obésité\",\n",
    "     'Izi Family',\n",
    "     'Arthur Dupuy']\n",
    "\n",
    "    # inserting missing launch year and month for the 11 companies with fundraising\n",
    "    launch_years = [2018, 2015, 2012, 2014, 2018, 2016, 2015, 2010, 2011, 2016, 2015]\n",
    "\n",
    "    zipbObj = zip(names, launch_years)\n",
    "    launch_year_dict = dict(zipbObj)\n",
    "\n",
    "    data[\"launch_year_imputed\"] = data['launch_year']\n",
    "    \n",
    "    for name, year in launch_year_dict.items() : \n",
    "        data.loc[data.name == name, \"launch_year_imputed\"] = year\n",
    "    return data\n"
   ]
  },
  {
   "cell_type": "code",
   "execution_count": null,
   "metadata": {
    "ExecuteTime": {
     "end_time": "2020-12-08T11:11:03.157048Z",
     "start_time": "2020-12-08T11:11:03.094520Z"
    }
   },
   "outputs": [],
   "source": [
    "class GetData():\n",
    "\n",
    "    def get_data():\n",
    "        data = pd.read_csv(\"../bpideep/rawdata/data2020-12-03.csv\")\n",
    "        \n",
    "        #selection of need columns\n",
    "        data = data[[\"id\", \"name\", \"target\", \"deep_or_not\", \"total_funding_source\", \"employees\",\n",
    "                     \"employees_latest\", \"launch_year\", \"growth_stage\", \"linkedin_url\"]]\n",
    "        \n",
    "        #imputing the missing launch year (only 11 done manually -> to be automatized if a new source displays it)\n",
    "        impute_missing_launch_year(data)\n",
    "        \n",
    "        # drop 2 duplicated companies Lalilo and Pixyl*\n",
    "        data.drop(data[(data.id == 1787891) | (data.id == 1893232)].index, inplace = True)\n",
    "\n",
    "        data['growth_stage_imputed'] = data.apply(lambda row: fill_missing_growth(\n",
    "                row['growth_stage'], \n",
    "                row['launch_year_imputed']), \n",
    "            axis=1\n",
    "        )\n",
    "        \n",
    "        #imputing missing values from LinkedIn scraping\n",
    "        missing = pd.read_csv(\"../bpideep/data/missing_employee_count.csv\")\n",
    "        data[\"employees_clean\"] = data.employees_latest\n",
    "        data.loc[data.name == \"CCI Paris Ile de France\", \"employees_clean\"] = 1793\n",
    "\n",
    "        for url in missing.linkedin_url:\n",
    "            replace_value = missing[missing.linkedin_url == url][\"check\"].iloc[0]\n",
    "            data.loc[data.linkedin_url == url, \"employees_clean\"] = replace_value\n",
    "\n",
    "        return data\n",
    "\n",
    "#         *    \n",
    "#                 + 3 duplicated names but with different id : \n",
    "#                     1/ Lalilo : 926521 (http://www.lalilo.com/) vs. 1787891 (http://lalilo.fr) \n",
    "#             -> same launch date, french website no longer exists + observation  almost filled by NAN + same obs as the .com \n",
    "#             -> drop the french Lalilo (1787891)\n",
    "#                     2/ Pixyl : 892048 vs 1893232 (different websites mentioned but same website page when launched) \n",
    "#             -> kept  892048 because more info + the Dealroom profile was verified by Dealroom team on Sept, 1st 2020 vs. pending verification\n",
    "#                     3/ NANOZ : 1836121 vs 1660543 -> kept both as different companies but the second one is German "
   ]
  },
  {
   "cell_type": "markdown",
   "metadata": {},
   "source": [
    "# Create outputs"
   ]
  },
  {
   "cell_type": "markdown",
   "metadata": {},
   "source": [
    "## funding_employees_ratio"
   ]
  },
  {
   "cell_type": "markdown",
   "metadata": {},
   "source": [
    "### age"
   ]
  },
  {
   "cell_type": "code",
   "execution_count": null,
   "metadata": {
    "ExecuteTime": {
     "end_time": "2020-12-07T20:16:18.497686Z",
     "start_time": "2020-12-07T20:16:18.464174Z"
    }
   },
   "outputs": [],
   "source": [
    "def age(x):\n",
    "    return 2020 - x"
   ]
  },
  {
   "cell_type": "code",
   "execution_count": null,
   "metadata": {
    "ExecuteTime": {
     "end_time": "2020-12-07T20:16:18.544960Z",
     "start_time": "2020-12-07T20:16:18.500314Z"
    },
    "scrolled": true
   },
   "outputs": [],
   "source": [
    "df[\"age\"] = df[\"launch_year\"].map(lambda x: age(x))"
   ]
  },
  {
   "cell_type": "code",
   "execution_count": null,
   "metadata": {
    "ExecuteTime": {
     "end_time": "2020-12-07T20:16:18.586093Z",
     "start_time": "2020-12-07T20:16:18.550314Z"
    }
   },
   "outputs": [],
   "source": [
    "df.target.value_counts()"
   ]
  },
  {
   "cell_type": "markdown",
   "metadata": {},
   "source": [
    "### employees"
   ]
  },
  {
   "cell_type": "markdown",
   "metadata": {},
   "source": [
    "Imputing the 75 missing employees values according to the growth stage and the launch year"
   ]
  },
  {
   "cell_type": "code",
   "execution_count": null,
   "metadata": {
    "ExecuteTime": {
     "end_time": "2020-12-07T20:16:18.623621Z",
     "start_time": "2020-12-07T20:16:18.588640Z"
    }
   },
   "outputs": [],
   "source": [
    "df.employees_latest.isna().sum()"
   ]
  },
  {
   "cell_type": "markdown",
   "metadata": {},
   "source": [
    "#### imputing 3 missing growth stage values with the mode of the launch year"
   ]
  },
  {
   "cell_type": "code",
   "execution_count": null,
   "metadata": {
    "ExecuteTime": {
     "end_time": "2020-12-07T20:16:18.678071Z",
     "start_time": "2020-12-07T20:16:18.626937Z"
    },
    "scrolled": true
   },
   "outputs": [],
   "source": [
    "df[df.growth_stage.isna()]"
   ]
  },
  {
   "cell_type": "code",
   "execution_count": null,
   "metadata": {
    "ExecuteTime": {
     "end_time": "2020-12-07T20:16:18.730265Z",
     "start_time": "2020-12-07T20:16:18.680440Z"
    }
   },
   "outputs": [],
   "source": [
    "growth_imputer = selected_data[[\"growth_stage\", \"launch_year\", \"id\"]].groupby(by=[\"launch_year\", \"growth_stage\"]).count()\n",
    "growth_imputer"
   ]
  },
  {
   "cell_type": "markdown",
   "metadata": {
    "ExecuteTime": {
     "end_time": "2020-12-07T12:44:18.207184Z",
     "start_time": "2020-12-07T12:44:18.179594Z"
    }
   },
   "source": [
    "A AUTOMATISER"
   ]
  },
  {
   "cell_type": "code",
   "execution_count": null,
   "metadata": {
    "ExecuteTime": {
     "end_time": "2020-12-07T20:16:18.769240Z",
     "start_time": "2020-12-07T20:16:18.733182Z"
    }
   },
   "outputs": [],
   "source": [
    "year = [2010, 2011, 2012, 2013, 2014, 2015, 2016, 2017, 2018, 2019, 2020]\n",
    "stage_mode = [\"early growth\", \"early growth\", \"seed\", \"early growth\", \"early growth\", \n",
    "             \"early growth\", \"early growth\", \"early growth\", \"seed\", \"seed\", \"seed\"]\n",
    "\n",
    "zipbObj = zip(year, stage_mode)\n",
    "growth_dict = dict(zipbObj)\n",
    "growth_dict"
   ]
  },
  {
   "cell_type": "code",
   "execution_count": null,
   "metadata": {
    "ExecuteTime": {
     "end_time": "2020-12-07T20:16:18.803760Z",
     "start_time": "2020-12-07T20:16:18.771963Z"
    }
   },
   "outputs": [],
   "source": [
    "import math\n",
    "def fill_missing_growth(growth_stage, launch_year, growth_dict):\n",
    "    if type(growth_stage) == str:\n",
    "        return growth_stage    \n",
    "    else:\n",
    "        return growth_dict[launch_year]"
   ]
  },
  {
   "cell_type": "code",
   "execution_count": null,
   "metadata": {
    "ExecuteTime": {
     "end_time": "2020-12-07T20:16:18.872043Z",
     "start_time": "2020-12-07T20:16:18.806419Z"
    }
   },
   "outputs": [],
   "source": [
    "df['growth_stage_imputed'] = df.apply(\n",
    "    lambda row: fill_missing_growth(\n",
    "        row['growth_stage'], \n",
    "        row['launch_year'], \n",
    "        growth_dict), \n",
    "    axis=1\n",
    ")"
   ]
  },
  {
   "cell_type": "markdown",
   "metadata": {},
   "source": [
    "#### Impute the 79 missing employees values according to the growth stage and the age"
   ]
  },
  {
   "cell_type": "code",
   "execution_count": null,
   "metadata": {
    "ExecuteTime": {
     "end_time": "2020-12-07T20:16:18.923367Z",
     "start_time": "2020-12-07T20:16:18.876597Z"
    }
   },
   "outputs": [],
   "source": [
    "df.head()"
   ]
  },
  {
   "cell_type": "markdown",
   "metadata": {},
   "source": [
    "##### according to launch year and growth stage imputed : employees_1"
   ]
  },
  {
   "cell_type": "code",
   "execution_count": null,
   "metadata": {
    "ExecuteTime": {
     "end_time": "2020-12-07T20:16:18.984538Z",
     "start_time": "2020-12-07T20:16:18.933847Z"
    }
   },
   "outputs": [],
   "source": [
    "employees_imputer = df[[\"employees_latest\", \"launch_year\", \"growth_stage_imputed\"]].groupby(by=[\"launch_year\", \"growth_stage_imputed\"]).median()\n",
    "employees_imputer"
   ]
  },
  {
   "cell_type": "code",
   "execution_count": null,
   "metadata": {
    "ExecuteTime": {
     "end_time": "2020-12-07T20:16:19.024225Z",
     "start_time": "2020-12-07T20:16:18.988875Z"
    }
   },
   "outputs": [],
   "source": [
    "employees_imputer1 = employees_imputer.to_dict(orient=\"index\")"
   ]
  },
  {
   "cell_type": "code",
   "execution_count": null,
   "metadata": {
    "ExecuteTime": {
     "end_time": "2020-12-07T20:16:19.090104Z",
     "start_time": "2020-12-07T20:16:19.027487Z"
    }
   },
   "outputs": [],
   "source": [
    "df[df.employees_latest.isna()]"
   ]
  },
  {
   "cell_type": "code",
   "execution_count": null,
   "metadata": {
    "ExecuteTime": {
     "end_time": "2020-12-07T20:16:19.126983Z",
     "start_time": "2020-12-07T20:16:19.093532Z"
    }
   },
   "outputs": [],
   "source": [
    "np.mean(df[(df.launch_year== 2011) & (df.employees_latest < 200)][\"employees_latest\"])"
   ]
  },
  {
   "cell_type": "code",
   "execution_count": null,
   "metadata": {
    "ExecuteTime": {
     "end_time": "2020-12-07T20:16:19.159560Z",
     "start_time": "2020-12-07T20:16:19.130016Z"
    }
   },
   "outputs": [],
   "source": [
    "def fill_missing_employees(n_employees, launch_year, growth, imputer_dict):\n",
    "    if np.isnan(n_employees):\n",
    "        return imputer_dict[(launch_year, growth)]['employees_latest']\n",
    "    else:\n",
    "        return n_employees"
   ]
  },
  {
   "cell_type": "code",
   "execution_count": null,
   "metadata": {
    "ExecuteTime": {
     "end_time": "2020-12-07T20:16:19.229610Z",
     "start_time": "2020-12-07T20:16:19.162543Z"
    }
   },
   "outputs": [],
   "source": [
    "df['employees_1'] = df.apply(\n",
    "    lambda row: fill_missing_employees(\n",
    "        row['employees_latest'], \n",
    "        row['launch_year'], \n",
    "        row['growth_stage_imputed'],\n",
    "        employees_imputer1), \n",
    "    axis=1\n",
    ")"
   ]
  },
  {
   "cell_type": "markdown",
   "metadata": {
    "ExecuteTime": {
     "end_time": "2020-12-07T13:20:09.366999Z",
     "start_time": "2020-12-07T13:20:09.346166Z"
    }
   },
   "source": [
    "##### according to launch year only : employees_2"
   ]
  },
  {
   "cell_type": "code",
   "execution_count": null,
   "metadata": {
    "ExecuteTime": {
     "end_time": "2020-12-07T20:16:19.288676Z",
     "start_time": "2020-12-07T20:16:19.233888Z"
    },
    "scrolled": true
   },
   "outputs": [],
   "source": [
    "employees_imputer2 = df[[\"employees_latest\", \"launch_year\"]].groupby(by=[\"launch_year\"]).median()\n",
    "employees_imputer2"
   ]
  },
  {
   "cell_type": "code",
   "execution_count": null,
   "metadata": {
    "ExecuteTime": {
     "end_time": "2020-12-07T20:16:19.354294Z",
     "start_time": "2020-12-07T20:16:19.291569Z"
    }
   },
   "outputs": [],
   "source": [
    "df[(df.employees_latest > 200)]"
   ]
  },
  {
   "cell_type": "code",
   "execution_count": null,
   "metadata": {
    "ExecuteTime": {
     "end_time": "2020-12-07T20:16:19.388492Z",
     "start_time": "2020-12-07T20:16:19.357042Z"
    }
   },
   "outputs": [],
   "source": [
    "employees_imputer2 = employees_imputer2.to_dict(orient=\"index\")"
   ]
  },
  {
   "cell_type": "code",
   "execution_count": null,
   "metadata": {
    "ExecuteTime": {
     "end_time": "2020-12-07T20:16:19.422186Z",
     "start_time": "2020-12-07T20:16:19.390821Z"
    }
   },
   "outputs": [],
   "source": [
    "def fill_missing_employees2(n_employees, launch_year, imputer_dict):\n",
    "    if np.isnan(n_employees):\n",
    "        return imputer_dict[launch_year]['employees_latest']\n",
    "    else:\n",
    "        return n_employees"
   ]
  },
  {
   "cell_type": "code",
   "execution_count": null,
   "metadata": {
    "ExecuteTime": {
     "end_time": "2020-12-07T20:16:19.484639Z",
     "start_time": "2020-12-07T20:16:19.424627Z"
    }
   },
   "outputs": [],
   "source": [
    "df['employees_2'] = df.apply(\n",
    "    lambda row: fill_missing_employees2(\n",
    "        row['employees_latest'], \n",
    "        row['launch_year'], \n",
    "        employees_imputer2), \n",
    "    axis=1\n",
    ")"
   ]
  },
  {
   "cell_type": "markdown",
   "metadata": {},
   "source": [
    "##### according to growth stage only : employees_3"
   ]
  },
  {
   "cell_type": "code",
   "execution_count": null,
   "metadata": {
    "ExecuteTime": {
     "end_time": "2020-12-07T20:16:19.533560Z",
     "start_time": "2020-12-07T20:16:19.488237Z"
    }
   },
   "outputs": [],
   "source": [
    "employees_imputer3 = df[[\"employees_latest\", \"growth_stage_imputed\"]].groupby(by=[\"growth_stage_imputed\"]).median()\n",
    "employees_imputer3"
   ]
  },
  {
   "cell_type": "code",
   "execution_count": null,
   "metadata": {
    "ExecuteTime": {
     "end_time": "2020-12-07T20:16:19.605763Z",
     "start_time": "2020-12-07T20:16:19.537162Z"
    }
   },
   "outputs": [],
   "source": [
    "df[(df.growth_stage_imputed == \"late growth\") & (df.employees_latest > 500)]"
   ]
  },
  {
   "cell_type": "code",
   "execution_count": null,
   "metadata": {
    "ExecuteTime": {
     "end_time": "2020-12-07T20:16:19.638477Z",
     "start_time": "2020-12-07T20:16:19.608571Z"
    }
   },
   "outputs": [],
   "source": [
    "employees_imputer3 = employees_imputer3.to_dict(orient=\"index\")"
   ]
  },
  {
   "cell_type": "code",
   "execution_count": null,
   "metadata": {
    "ExecuteTime": {
     "end_time": "2020-12-07T20:16:19.673560Z",
     "start_time": "2020-12-07T20:16:19.641008Z"
    }
   },
   "outputs": [],
   "source": [
    "def fill_missing_employees3(n_employees, growth, imputer_dict):\n",
    "    if np.isnan(n_employees):\n",
    "        return imputer_dict[growth]['employees_latest']\n",
    "    else:\n",
    "        return n_employees"
   ]
  },
  {
   "cell_type": "code",
   "execution_count": null,
   "metadata": {
    "ExecuteTime": {
     "end_time": "2020-12-07T20:16:19.743584Z",
     "start_time": "2020-12-07T20:16:19.676480Z"
    }
   },
   "outputs": [],
   "source": [
    "df['employees_3'] = df.apply(\n",
    "    lambda row: fill_missing_employees3(\n",
    "        row['employees_latest'], \n",
    "        row['growth_stage_imputed'], \n",
    "        employees_imputer3), \n",
    "    axis=1\n",
    ")"
   ]
  },
  {
   "cell_type": "markdown",
   "metadata": {},
   "source": [
    "### Funding_employees ratio : 3 methods according to employees_1, employees_2, and employees_3"
   ]
  },
  {
   "cell_type": "code",
   "execution_count": null,
   "metadata": {
    "ExecuteTime": {
     "end_time": "2020-12-07T20:16:19.783513Z",
     "start_time": "2020-12-07T20:16:19.746869Z"
    }
   },
   "outputs": [],
   "source": [
    "list = list(df[df.employees_latest.isna()][\"id\"])"
   ]
  },
  {
   "cell_type": "code",
   "execution_count": null,
   "metadata": {
    "ExecuteTime": {
     "end_time": "2020-12-07T20:16:19.822173Z",
     "start_time": "2020-12-07T20:16:19.786189Z"
    }
   },
   "outputs": [],
   "source": [
    "def funding_amounts_employees(data, nb):\n",
    "    '''\n",
    "    function that performs the ratio between funding and employees\n",
    "    '''\n",
    "\n",
    "    funding = data['total_funding_source']\n",
    "    employees = data[f\"employees_{nb}\"]\n",
    "\n",
    "    return funding/employees"
   ]
  },
  {
   "cell_type": "code",
   "execution_count": null,
   "metadata": {
    "ExecuteTime": {
     "end_time": "2020-12-07T20:16:19.879932Z",
     "start_time": "2020-12-07T20:16:19.825286Z"
    }
   },
   "outputs": [],
   "source": [
    "for i in range(1,4):\n",
    "    df[f\"funding_employees_ratio{i}\"] = funding_amounts_employees(df, i)"
   ]
  },
  {
   "cell_type": "code",
   "execution_count": null,
   "metadata": {
    "ExecuteTime": {
     "end_time": "2020-12-07T20:16:19.955711Z",
     "start_time": "2020-12-07T20:16:19.883300Z"
    }
   },
   "outputs": [],
   "source": [
    "df[df.id == list[4]][[\"funding_employees_ratio1\", \"funding_employees_ratio2\", \"funding_employees_ratio3\"]]"
   ]
  },
  {
   "cell_type": "markdown",
   "metadata": {},
   "source": [
    "##### festures distribution"
   ]
  },
  {
   "cell_type": "code",
   "execution_count": null,
   "metadata": {
    "ExecuteTime": {
     "end_time": "2020-12-07T20:16:21.721188Z",
     "start_time": "2020-12-07T20:16:19.959763Z"
    },
    "scrolled": true
   },
   "outputs": [],
   "source": [
    "import plotly.express as px\n",
    "\n",
    "X = df[[\"funding_employees_ratio1\", \"funding_employees_ratio2\", \"funding_employees_ratio3\"]]\n",
    "\n",
    "fig = px.box(X.melt(), y=\"value\", facet_col=\"variable\", boxmode=\"overlay\", color=\"variable\")\n",
    "fig.update_yaxes(matches=None)\n",
    "\n",
    "for i in range(len(X.columns.tolist())):\n",
    "    yaxis_name = 'yaxis' if i == 0 else f'yaxis{i + 1}'\n",
    "    fig.layout[yaxis_name].showticklabels = True\n",
    "\n",
    "fig.update_layout(legend = dict(bgcolor = 'white'))\n",
    "fig.update_layout(plot_bgcolor='white')\n",
    "\n",
    "fig.update_xaxes(showline=True, linewidth=2, linecolor='black')#, mirror=True)\n",
    "fig.update_yaxes(showline=True, linewidth=2, linecolor='black')#, mirror=True)\n",
    "\n",
    "fig.update_xaxes(showgrid=True, gridwidth=1, gridcolor='gray')\n",
    "fig.update_yaxes(showgrid=True, gridwidth=1, gridcolor='gray')\n",
    "\n",
    "fig.show()"
   ]
  },
  {
   "cell_type": "code",
   "execution_count": null,
   "metadata": {
    "ExecuteTime": {
     "end_time": "2020-12-07T20:16:21.811940Z",
     "start_time": "2020-12-07T20:16:21.724060Z"
    }
   },
   "outputs": [],
   "source": [
    "import math \n",
    "\n",
    "def log(x):\n",
    "    return math.log(1+x)\n",
    "\n",
    "for i in range(1,4):\n",
    "    df[f\"funding_employees_logratio{i}\"] = df[f\"funding_employees_ratio{i}\"].apply(lambda x: log(x))"
   ]
  },
  {
   "cell_type": "code",
   "execution_count": null,
   "metadata": {
    "ExecuteTime": {
     "end_time": "2020-12-07T20:16:22.161227Z",
     "start_time": "2020-12-07T20:16:21.814760Z"
    }
   },
   "outputs": [],
   "source": [
    "logcheck = df[[\"funding_employees_logratio1\", \"funding_employees_logratio2\", \"funding_employees_logratio3\"]]\n",
    "\n",
    "fig = px.box(logcheck.melt(), y=\"value\", facet_col=\"variable\", boxmode=\"overlay\", color=\"variable\")\n",
    "fig.update_yaxes(matches=None)\n",
    "\n",
    "for i in range(len(logcheck.columns.tolist())):\n",
    "    yaxis_name = 'yaxis' if i == 0 else f'yaxis{i + 1}'\n",
    "    fig.layout[yaxis_name].showticklabels = True\n",
    "\n",
    "fig.update_layout(legend = dict(bgcolor = 'white'))\n",
    "fig.update_layout(plot_bgcolor='white')\n",
    "\n",
    "fig.update_xaxes(showline=True, linewidth=2, linecolor='black')#, mirror=True)\n",
    "fig.update_yaxes(showline=True, linewidth=2, linecolor='black')#, mirror=True)\n",
    "\n",
    "fig.update_xaxes(showgrid=True, gridwidth=1, gridcolor='gray')\n",
    "fig.update_yaxes(showgrid=True, gridwidth=1, gridcolor='gray')\n",
    "\n",
    "fig.show()"
   ]
  },
  {
   "cell_type": "code",
   "execution_count": null,
   "metadata": {
    "ExecuteTime": {
     "end_time": "2020-12-07T20:16:22.218768Z",
     "start_time": "2020-12-07T20:16:22.164085Z"
    }
   },
   "outputs": [],
   "source": [
    "df.shape"
   ]
  },
  {
   "cell_type": "markdown",
   "metadata": {},
   "source": [
    "## nb_patents"
   ]
  },
  {
   "cell_type": "markdown",
   "metadata": {},
   "source": [
    "BPI is working on getting better data for the patents -> keeps the actual patents csv and impute with 0 when value is missing"
   ]
  },
  {
   "cell_type": "code",
   "execution_count": null,
   "metadata": {
    "ExecuteTime": {
     "end_time": "2020-12-07T20:16:22.296658Z",
     "start_time": "2020-12-07T20:16:22.234904Z"
    }
   },
   "outputs": [],
   "source": [
    "patent = pd.read_csv(\"../bpideep/data/patents.csv\")"
   ]
  },
  {
   "cell_type": "code",
   "execution_count": null,
   "metadata": {
    "ExecuteTime": {
     "end_time": "2020-12-07T20:16:22.358126Z",
     "start_time": "2020-12-07T20:16:22.299857Z"
    }
   },
   "outputs": [],
   "source": [
    "df = pd.merge(df, patent, on= [\"id\", \"id\"], how = \"left\")"
   ]
  },
  {
   "cell_type": "code",
   "execution_count": null,
   "metadata": {
    "ExecuteTime": {
     "end_time": "2020-12-07T20:16:22.450079Z",
     "start_time": "2020-12-07T20:16:22.360495Z"
    },
    "scrolled": true
   },
   "outputs": [],
   "source": [
    "df"
   ]
  },
  {
   "cell_type": "code",
   "execution_count": null,
   "metadata": {
    "ExecuteTime": {
     "end_time": "2020-12-07T20:16:22.503797Z",
     "start_time": "2020-12-07T20:16:22.452980Z"
    }
   },
   "outputs": [],
   "source": [
    "patent_imputer = SimpleImputer(missing_values=np.nan, strategy='constant', fill_value = 0)\n",
    "patent_imputer.fit(df[[\"nb_patents\"]])\n",
    "df[\"nb_patents_imputed\"] = patent_imputer.transform(df[[\"nb_patents\"]])"
   ]
  },
  {
   "cell_type": "code",
   "execution_count": null,
   "metadata": {
    "ExecuteTime": {
     "end_time": "2020-12-07T20:16:22.771748Z",
     "start_time": "2020-12-07T20:16:22.506159Z"
    },
    "scrolled": true
   },
   "outputs": [],
   "source": [
    "plt.boxplot(df.nb_patents_imputed);"
   ]
  },
  {
   "cell_type": "markdown",
   "metadata": {},
   "source": [
    "RobustScaler -> outliers"
   ]
  },
  {
   "cell_type": "code",
   "execution_count": null,
   "metadata": {
    "ExecuteTime": {
     "end_time": "2020-12-07T20:16:22.857436Z",
     "start_time": "2020-12-07T20:16:22.780623Z"
    }
   },
   "outputs": [],
   "source": [
    "r_scaler = RobustScaler()\n",
    "df[\"nb_patents_imputed_scaled\"] = r_scaler.fit_transform(df[[\"nb_patents_imputed\"]])"
   ]
  },
  {
   "cell_type": "code",
   "execution_count": null,
   "metadata": {
    "ExecuteTime": {
     "end_time": "2020-12-07T21:14:16.334074Z",
     "start_time": "2020-12-07T21:14:16.293727Z"
    }
   },
   "outputs": [],
   "source": [
    "df[\"nb_patents_imputed_log\"] = df[\"nb_patents_imputed\"].apply(lambda x: log(x))"
   ]
  },
  {
   "cell_type": "markdown",
   "metadata": {},
   "source": [
    "# PIPELINE"
   ]
  },
  {
   "cell_type": "markdown",
   "metadata": {},
   "source": [
    "##### /!\\ AUTOMATISER IMPUTING MODE OF THE GROWTH STAGE"
   ]
  },
  {
   "cell_type": "markdown",
   "metadata": {},
   "source": []
  },
  {
   "cell_type": "markdown",
   "metadata": {},
   "source": [
    "##### employees imputing 1 : age and growth stage"
   ]
  },
  {
   "cell_type": "code",
   "execution_count": null,
   "metadata": {
    "ExecuteTime": {
     "end_time": "2020-12-07T20:27:38.400568Z",
     "start_time": "2020-12-07T20:27:38.357841Z"
    }
   },
   "outputs": [],
   "source": [
    "from sklearn.base import BaseEstimator, TransformerMixin\n",
    "\n",
    "class EmployeeImputer1(BaseEstimator, TransformerMixin):\n",
    "    \n",
    "    def fit(self, X, y=None):\n",
    "        \n",
    "        self.yg_median = X[[\"employees_latest\", \"launch_year\", \"growth_stage_imputed\"]].groupby(by=[\"launch_year\", \"growth_stage_imputed\"]).median()\n",
    "        self.years = X.launch_year.unique()\n",
    "        self.growths = X.growth_stage_imputed.unique()\n",
    "            \n",
    "        print(self.yg_median)\n",
    "        return self\n",
    "    \n",
    "    def transform(self, X, y=None):\n",
    "        \n",
    "        X = X.copy()\n",
    "        \n",
    "        X[\"employees_latest1\"] = X.employees_latest\n",
    "        \n",
    "        for year in self.years:\n",
    "            for growth in self.growths:\n",
    "                if sum(self.yg_median.index.isin([(year, growth)])) > 0:\n",
    "                    replace_value = self.yg_median.loc[(year, growth)][0]\n",
    "                else:\n",
    "                    replace_value = self.yg_median.loc[(year)].reset_index(level=0)[\"employees_latest\"].mean()\n",
    "                \n",
    "                boolean_condition = ((X.launch_year == year) & (X.growth_stage_imputed == growth) & (X.employees_latest1.isna()))\n",
    "                X.loc[boolean_condition, \"employees_latest1\"] = replace_value\n",
    "\n",
    "        return X[[\"employees_latest1\"]]"
   ]
  },
  {
   "cell_type": "markdown",
   "metadata": {},
   "source": [
    "##### employees imputing 2 : age"
   ]
  },
  {
   "cell_type": "code",
   "execution_count": null,
   "metadata": {
    "ExecuteTime": {
     "end_time": "2020-12-07T20:27:43.992186Z",
     "start_time": "2020-12-07T20:27:43.950438Z"
    }
   },
   "outputs": [],
   "source": [
    "class EmployeeImputer2(BaseEstimator, TransformerMixin):\n",
    "    \n",
    "    def fit(self, X, y=None):\n",
    "        \n",
    "        self.yg_median = X[[\"employees_latest\", \"launch_year\"]].groupby(by=[\"launch_year\"]).median()\n",
    "        self.years = X.launch_year.unique()\n",
    "        \n",
    "        print(self.yg_median)\n",
    "        return self\n",
    "    \n",
    "    def transform(self, X, y=None):\n",
    "        \n",
    "        X = X.copy()\n",
    "        \n",
    "        X[\"employees_latest2\"] = X.employees_latest\n",
    "        \n",
    "        for year in self.years:\n",
    "            replace_value = self.yg_median.loc[(year)][0]\n",
    "            boolean_condition = ((X.launch_year == year) & (X.employees_latest.isna()))\n",
    "            X.loc[boolean_condition, \"employees_latest2\"] = replace_value\n",
    "\n",
    "        return X[[\"employees_latest2\"]]"
   ]
  },
  {
   "cell_type": "markdown",
   "metadata": {},
   "source": [
    "##### employees imputing 3 : growth stage"
   ]
  },
  {
   "cell_type": "code",
   "execution_count": null,
   "metadata": {
    "ExecuteTime": {
     "end_time": "2020-12-07T20:27:49.059194Z",
     "start_time": "2020-12-07T20:27:49.015934Z"
    }
   },
   "outputs": [],
   "source": [
    "class EmployeeImputer3(BaseEstimator, TransformerMixin):\n",
    "    \n",
    "    def fit(self, X, y=None):\n",
    "        \n",
    "        self.yg_median = X[[\"employees_latest\", \"growth_stage_imputed\"]].groupby(by=[\"growth_stage_imputed\"]).median()\n",
    "        self.growths = X.growth_stage_imputed.unique()\n",
    "        \n",
    "        print(self.yg_median)\n",
    "        return self\n",
    "    \n",
    "    def transform(self, X, y=None):\n",
    "        \n",
    "        X = X.copy()\n",
    "        \n",
    "        X[\"employees_latest3\"] = X.employees_latest\n",
    "        \n",
    "        for growth in self.growths:\n",
    "            replace_value = self.yg_median.loc[(growth)][0]\n",
    "            boolean_condition = ((X.growth_stage_imputed == growth) & (X.employees_latest.isna()))\n",
    "            X.loc[boolean_condition, \"employees_latest3\"] = replace_value\n",
    "\n",
    "        return X[[\"employees_latest3\"]]"
   ]
  },
  {
   "cell_type": "markdown",
   "metadata": {},
   "source": [
    "\n",
    "\n",
    "\n",
    "\n",
    "\n"
   ]
  },
  {
   "cell_type": "markdown",
   "metadata": {},
   "source": [
    "##### Patent imputing"
   ]
  },
  {
   "cell_type": "code",
   "execution_count": null,
   "metadata": {
    "ExecuteTime": {
     "end_time": "2020-12-07T21:17:47.474731Z",
     "start_time": "2020-12-07T21:17:47.357107Z"
    }
   },
   "outputs": [],
   "source": [
    "from sklearn.pipeline import make_pipeline\n",
    "\n",
    "patent_transformer = make_pipeline(\n",
    "                                SimpleImputer(missing_values=np.nan, strategy='constant', fill_value = 0),\n",
    "                                RobustScaler())\n",
    "    \n",
    "### ROBUSTSCALER or log(1+x) ??"
   ]
  },
  {
   "cell_type": "markdown",
   "metadata": {},
   "source": [
    "##### Feature  : funding / employees ratio"
   ]
  },
  {
   "cell_type": "code",
   "execution_count": null,
   "metadata": {
    "ExecuteTime": {
     "end_time": "2020-12-07T20:36:33.518267Z",
     "start_time": "2020-12-07T20:36:33.477583Z"
    }
   },
   "outputs": [],
   "source": [
    "from sklearn.pipeline import FeatureUnion\n",
    "from sklearn.preprocessing import FunctionTransformer\n",
    "\n",
    "funding_employees_ratio_constructor1 = FunctionTransformer(\n",
    "    lambda df: pd.DataFrame(df[\"total_funding_source\"] / df[\"employees_latest1\"]))\n",
    "\n",
    "funding_employees_ratio_constructor2 = FunctionTransformer(\n",
    "    lambda df: pd.DataFrame(df[\"total_funding_source\"] / df[\"employees_latest2\"]))\n",
    "\n",
    "funding_employees_ratio_constructor3 = FunctionTransformer(\n",
    "    lambda df: pd.DataFrame(df[\"total_funding_source\"] / df[\"employees_latest3\"]))\n"
   ]
  },
  {
   "cell_type": "code",
   "execution_count": null,
   "metadata": {},
   "outputs": [],
   "source": []
  },
  {
   "cell_type": "code",
   "execution_count": null,
   "metadata": {
    "ExecuteTime": {
     "end_time": "2020-12-07T21:44:30.082736Z",
     "start_time": "2020-12-07T21:44:30.044899Z"
    }
   },
   "outputs": [],
   "source": [
    "ratio_transformer = Pipeline([\n",
    "    (\"imputer1\", EmployeeImputer1()),\n",
    "    (\"ratio\", funding_employees_ratio_constructor1),\n",
    "    (\"scaler\",  RobustScaler())\n",
    "])"
   ]
  },
  {
   "cell_type": "markdown",
   "metadata": {},
   "source": [
    "##### Growth stage OneHotEncoding"
   ]
  },
  {
   "cell_type": "code",
   "execution_count": null,
   "metadata": {
    "ExecuteTime": {
     "end_time": "2020-12-07T21:44:36.055569Z",
     "start_time": "2020-12-07T21:44:36.012973Z"
    }
   },
   "outputs": [],
   "source": [
    "from sklearn.preprocessing import OneHotEncoder\n",
    "\n",
    "cat_growth_stage = OneHotEncoder(handle_unknown='ignore')"
   ]
  },
  {
   "cell_type": "code",
   "execution_count": null,
   "metadata": {
    "ExecuteTime": {
     "end_time": "2020-12-07T21:44:41.931415Z",
     "start_time": "2020-12-07T21:44:41.889594Z"
    }
   },
   "outputs": [],
   "source": [
    "from sklearn.compose import ColumnTransformer\n",
    "\n",
    "preprocessor = ColumnTransformer([\n",
    "    (\"cat_growth_transformer\", cat_growth_stage, [\"growth_stage_imputed\"]),\n",
    "    (\"ratio_transformer\", ratio_transformer, [\"employees_latest\", \"total_funding_source\"]),\n",
    "    (\"patent_transformer\", patent_transformer, [\"nb_patents\"])\n",
    "    ])"
   ]
  },
  {
   "cell_type": "code",
   "execution_count": null,
   "metadata": {
    "ExecuteTime": {
     "end_time": "2020-12-07T21:45:51.380424Z",
     "start_time": "2020-12-07T21:45:51.207338Z"
    }
   },
   "outputs": [],
   "source": [
    "from sklearn import set_config; set_config(display='diagram')\n",
    "preprocessor"
   ]
  },
  {
   "cell_type": "code",
   "execution_count": null,
   "metadata": {
    "ExecuteTime": {
     "end_time": "2020-12-07T21:48:01.290985Z",
     "start_time": "2020-12-07T21:48:01.249760Z"
    }
   },
   "outputs": [],
   "source": [
    "from sklearn.pipeline import Pipeline\n",
    "from sklearn.linear_model import LogisticRegression\n",
    "\n",
    "pipemodel = Pipeline(steps=[\n",
    "                            ('features', preprocessor),\n",
    "                            ('model', LogisticRegression(C = 1.52, penalty = 'l1', solver= 'liblinear'))\n",
    "                             ])"
   ]
  },
  {
   "cell_type": "code",
   "execution_count": null,
   "metadata": {
    "ExecuteTime": {
     "end_time": "2020-12-07T21:48:16.313820Z",
     "start_time": "2020-12-07T21:48:15.718418Z"
    }
   },
   "outputs": [],
   "source": [
    "pipemodel"
   ]
  },
  {
   "cell_type": "code",
   "execution_count": null,
   "metadata": {
    "ExecuteTime": {
     "end_time": "2020-12-07T21:52:18.942315Z",
     "start_time": "2020-12-07T21:52:18.898125Z"
    }
   },
   "outputs": [],
   "source": [
    "df.columns"
   ]
  },
  {
   "cell_type": "code",
   "execution_count": null,
   "metadata": {
    "ExecuteTime": {
     "end_time": "2020-12-07T21:58:50.063114Z",
     "start_time": "2020-12-07T21:58:50.005754Z"
    }
   },
   "outputs": [],
   "source": [
    "X_tmp = df.drop(columns = [\"target\", \"deep_or_not\"])\n",
    "y_tmp = df.target"
   ]
  },
  {
   "cell_type": "code",
   "execution_count": null,
   "metadata": {
    "ExecuteTime": {
     "end_time": "2020-12-07T22:08:40.250845Z",
     "start_time": "2020-12-07T22:08:40.111361Z"
    }
   },
   "outputs": [],
   "source": [
    "X_tmp.columns"
   ]
  },
  {
   "cell_type": "code",
   "execution_count": null,
   "metadata": {
    "ExecuteTime": {
     "end_time": "2020-12-07T21:59:05.023223Z",
     "start_time": "2020-12-07T21:59:04.917441Z"
    }
   },
   "outputs": [],
   "source": [
    "pipemodel.fit(X_tmp, y_tmp)"
   ]
  },
  {
   "cell_type": "code",
   "execution_count": null,
   "metadata": {
    "ExecuteTime": {
     "end_time": "2020-12-07T21:55:05.318528Z",
     "start_time": "2020-12-07T21:55:04.725850Z"
    }
   },
   "outputs": [],
   "source": [
    "pipemodel"
   ]
  },
  {
   "cell_type": "code",
   "execution_count": null,
   "metadata": {},
   "outputs": [],
   "source": []
  },
  {
   "cell_type": "code",
   "execution_count": null,
   "metadata": {},
   "outputs": [],
   "source": []
  },
  {
   "cell_type": "code",
   "execution_count": null,
   "metadata": {},
   "outputs": [],
   "source": []
  },
  {
   "cell_type": "code",
   "execution_count": null,
   "metadata": {},
   "outputs": [],
   "source": []
  },
  {
   "cell_type": "code",
   "execution_count": null,
   "metadata": {},
   "outputs": [],
   "source": []
  },
  {
   "cell_type": "code",
   "execution_count": null,
   "metadata": {
    "ExecuteTime": {
     "end_time": "2020-12-08T11:11:03.913002Z",
     "start_time": "2020-12-08T11:11:03.883204Z"
    }
   },
   "outputs": [],
   "source": [
    "# pd.set_option('display.max_rows', 500)\n",
    "# check = tmp.growth_stage == tmp.growth_stage_imputed\n",
    "# tmp[\"check\"] = check\n",
    "# tmp[(tmp.check == False) & (tmp.growth_stage_imputed.notna())][[\"name\", \"growth_stage\", \"growth_stage_imputed\", \"check\"]]"
   ]
  },
  {
   "cell_type": "code",
   "execution_count": 116,
   "metadata": {
    "ExecuteTime": {
     "end_time": "2020-12-08T16:00:08.717927Z",
     "start_time": "2020-12-08T16:00:08.635172Z"
    }
   },
   "outputs": [],
   "source": [
    "def fill_missing_growth(growth_stage, launch_year):\n",
    "\n",
    "    year = [2010, 2011, 2012, 2013, 2014, 2015, 2016, 2017, 2018, 2019, 2020]\n",
    "    stage_mode = [\"early growth\", \"early growth\", \"seed\", \"early growth\", \"early growth\", \n",
    "                 \"early growth\", \"early growth\", \"early growth\", \"seed\", \"seed\", \"seed\"]\n",
    "\n",
    "    zipbObj = zip(year, stage_mode)\n",
    "    growth_dict = dict(zipbObj)\n",
    "\n",
    "    if type(growth_stage) == str:\n",
    "        return growth_stage    \n",
    "    elif launch_year in year:\n",
    "        return growth_dict[launch_year]\n",
    "    else:\n",
    "        return growth_stage"
   ]
  }
 ],
 "metadata": {
  "kernelspec": {
   "display_name": "Python 3",
   "language": "python",
   "name": "python3"
  },
  "language_info": {
   "codemirror_mode": {
    "name": "ipython",
    "version": 3
   },
   "file_extension": ".py",
   "mimetype": "text/x-python",
   "name": "python",
   "nbconvert_exporter": "python",
   "pygments_lexer": "ipython3",
   "version": "3.8.6"
  },
  "toc": {
   "base_numbering": 1,
   "nav_menu": {},
   "number_sections": true,
   "sideBar": true,
   "skip_h1_title": false,
   "title_cell": "Table of Contents",
   "title_sidebar": "Contents",
   "toc_cell": false,
   "toc_position": {},
   "toc_section_display": true,
   "toc_window_display": false
  },
  "varInspector": {
   "cols": {
    "lenName": 16,
    "lenType": 16,
    "lenVar": 40
   },
   "kernels_config": {
    "python": {
     "delete_cmd_postfix": "",
     "delete_cmd_prefix": "del ",
     "library": "var_list.py",
     "varRefreshCmd": "print(var_dic_list())"
    },
    "r": {
     "delete_cmd_postfix": ") ",
     "delete_cmd_prefix": "rm(",
     "library": "var_list.r",
     "varRefreshCmd": "cat(var_dic_list()) "
    }
   },
   "types_to_exclude": [
    "module",
    "function",
    "builtin_function_or_method",
    "instance",
    "_Feature"
   ],
   "window_display": false
  }
 },
 "nbformat": 4,
 "nbformat_minor": 4
}
