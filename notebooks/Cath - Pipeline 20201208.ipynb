{
 "cells": [
  {
   "cell_type": "code",
   "execution_count": null,
   "metadata": {
    "ExecuteTime": {
     "end_time": "2020-12-09T09:06:24.626559Z",
     "start_time": "2020-12-09T09:06:24.599121Z"
    }
   },
   "outputs": [],
   "source": [
    "%load_ext autoreload\n",
    "%autoreload 2"
   ]
  },
  {
   "cell_type": "code",
   "execution_count": 1,
   "metadata": {
    "ExecuteTime": {
     "end_time": "2020-12-09T09:25:59.696766Z",
     "start_time": "2020-12-09T09:25:57.526086Z"
    }
   },
   "outputs": [],
   "source": [
    "import pandas as pd\n",
    "import numpy as np\n",
    "import json\n",
    "import re\n",
    "from sklearn.impute import SimpleImputer\n",
    "from sklearn.preprocessing import OneHotEncoder, RobustScaler\n",
    "import matplotlib.pyplot as plt"
   ]
  },
  {
   "cell_type": "markdown",
   "metadata": {},
   "source": [
    "# Convert the json data in string (transformed by the pd.read_csv) to string "
   ]
  },
  {
   "cell_type": "code",
   "execution_count": null,
   "metadata": {
    "ExecuteTime": {
     "end_time": "2020-12-09T08:02:13.698039Z",
     "start_time": "2020-12-09T08:02:12.972628Z"
    }
   },
   "outputs": [],
   "source": [
    "data = pd.read_csv(\"../bpideep/rawdata/data2020-12-03.csv\")"
   ]
  },
  {
   "cell_type": "code",
   "execution_count": null,
   "metadata": {
    "ExecuteTime": {
     "end_time": "2020-12-09T08:02:16.151840Z",
     "start_time": "2020-12-09T08:02:16.070416Z"
    }
   },
   "outputs": [],
   "source": [
    "def load_json_field(bad_json):\n",
    "    regex = r\"\\w\\'\\w\"\n",
    "    subst = \"\"\n",
    "    bad_json = re.sub(regex, subst, bad_json)\n",
    "    bad_json = bad_json.replace(\"d' Arrouzat\", \"darrouzat\")\n",
    "    good_json = bad_json.replace(\"\\'\", \"\\\"\").replace(\"None\", \"null\").replace(\"True\", \"true\").replace(\"False\", \"false\")\n",
    "    \n",
    "    return json.loads(good_json)"
   ]
  },
  {
   "cell_type": "code",
   "execution_count": null,
   "metadata": {
    "ExecuteTime": {
     "end_time": "2020-12-09T08:02:20.102353Z",
     "start_time": "2020-12-09T08:02:17.818634Z"
    }
   },
   "outputs": [],
   "source": [
    "data[\"team\"] = data[\"team\"].apply(load_json_field)\n",
    "data[\"industries\"] = data[\"industries\"].apply(load_json_field)\n",
    "data[\"investors\"] = data[\"investors\"].apply(load_json_field)\n",
    "data[\"fundings\"] = data[\"fundings\"].apply(load_json_field)"
   ]
  },
  {
   "cell_type": "markdown",
   "metadata": {
    "ExecuteTime": {
     "end_time": "2020-12-09T08:02:47.204235Z",
     "start_time": "2020-12-09T08:02:47.130653Z"
    },
    "heading_collapsed": true
   },
   "source": [
    "# TEST "
   ]
  },
  {
   "cell_type": "code",
   "execution_count": null,
   "metadata": {
    "ExecuteTime": {
     "end_time": "2020-12-09T08:02:21.171665Z",
     "start_time": "2020-12-09T08:02:21.034122Z"
    },
    "hidden": true
   },
   "outputs": [],
   "source": [
    "import re\n",
    "import math\n",
    "\n",
    "def average_list(range_list):\n",
    "    return sum(range_list)/len(range_list)\n",
    "\n",
    "def compute_employees_mean(data):\n",
    "    range_list = list(data.employees.unique())\n",
    "    range_list.remove(\"n.a.\")\n",
    "    keys_list = []\n",
    "    means_list = []\n",
    "\n",
    "    for i in range(len(range_list)) :\n",
    "        if type(range_list[i]) == str :\n",
    "            temp = re.findall(r'\\d+', range_list[i]) \n",
    "            res = list(map(int, temp)) \n",
    "            mean = average_list(res)\n",
    "            means_list.append(mean)\n",
    "            keys_list.append(range_list[i])\n",
    "        else:\n",
    "            pass\n",
    "\n",
    "    zip_iterator = zip(keys_list, means_list)\n",
    "    range_dict = dict(zip_iterator)\n",
    "    \n",
    "    return range_dict\n",
    "\n",
    "def impute_missing_employees(data):\n",
    "    \n",
    "    data = data.copy()\n",
    "    data[\"employees_imputed\"] = data.employees_clean\n",
    "    \n",
    "\n",
    "    #imputing according to the range given by Dealroom in the column \"employees\" \n",
    "    #thanks to the function \"compute_employees_mean\" \n",
    "    range_dict = compute_employees_mean(data)\n",
    "    data.loc[data.employees_clean.isna(), \"employees_imputed\"] = range_dict[data.employees]\n",
    "    \n",
    "    return data\n",
    "    \n"
   ]
  },
  {
   "cell_type": "code",
   "execution_count": null,
   "metadata": {
    "ExecuteTime": {
     "end_time": "2020-12-09T08:02:22.526209Z",
     "start_time": "2020-12-09T08:02:22.352574Z"
    },
    "hidden": true
   },
   "outputs": [],
   "source": [
    "#hf['w'] = hf.apply(lambda x: gf.loc[(x.a, x.b)], axis=1)\n",
    "\n",
    "\n",
    "def replace_employees(df):\n",
    "    df[\"employees_imputed\"] = df.employees_latest\n",
    "    dictionary = compute_employees_mean(df)\n",
    "    for key, value in dictionary.items():\n",
    "        df.loc[(df.employees == key) & (df.employees_latest.isna()), \"employees_imputed\"] = value\n",
    "    return df"
   ]
  },
  {
   "cell_type": "code",
   "execution_count": null,
   "metadata": {
    "ExecuteTime": {
     "end_time": "2020-12-09T08:03:22.936396Z",
     "start_time": "2020-12-09T08:03:22.883626Z"
    },
    "hidden": true
   },
   "outputs": [],
   "source": [
    "tmp = data"
   ]
  },
  {
   "cell_type": "code",
   "execution_count": null,
   "metadata": {
    "ExecuteTime": {
     "end_time": "2020-12-09T08:03:26.299968Z",
     "start_time": "2020-12-09T08:03:26.199774Z"
    },
    "hidden": true
   },
   "outputs": [],
   "source": [
    "tmp[[\"employees_latest\",\"employees_imputed\"]].isnull().sum()"
   ]
  },
  {
   "cell_type": "code",
   "execution_count": null,
   "metadata": {
    "ExecuteTime": {
     "end_time": "2020-12-08T15:47:48.572204Z",
     "start_time": "2020-12-08T15:47:48.529854Z"
    },
    "hidden": true
   },
   "outputs": [],
   "source": [
    "tmp[tmp.employees.isnull()][[\"employees\"]].isna().sum()"
   ]
  },
  {
   "cell_type": "code",
   "execution_count": null,
   "metadata": {
    "ExecuteTime": {
     "end_time": "2020-12-08T15:43:43.193929Z",
     "start_time": "2020-12-08T15:43:43.161211Z"
    },
    "hidden": true,
    "scrolled": true
   },
   "outputs": [],
   "source": [
    "data.employees.unique()"
   ]
  },
  {
   "cell_type": "code",
   "execution_count": null,
   "metadata": {
    "ExecuteTime": {
     "end_time": "2020-12-08T15:41:39.779810Z",
     "start_time": "2020-12-08T15:41:39.749547Z"
    },
    "hidden": true
   },
   "outputs": [],
   "source": [
    "tmp.employees_imputed.isna().sum()"
   ]
  },
  {
   "cell_type": "code",
   "execution_count": null,
   "metadata": {
    "ExecuteTime": {
     "end_time": "2020-12-08T15:42:17.767174Z",
     "start_time": "2020-12-08T15:42:17.735272Z"
    },
    "hidden": true
   },
   "outputs": [],
   "source": [
    "tmp.employees_latest.isnull().sum()"
   ]
  },
  {
   "cell_type": "code",
   "execution_count": null,
   "metadata": {
    "ExecuteTime": {
     "end_time": "2020-12-08T15:08:29.607076Z",
     "start_time": "2020-12-08T15:08:29.563014Z"
    },
    "hidden": true,
    "scrolled": true
   },
   "outputs": [],
   "source": [
    "tmp.loc[tmp.employees_latest.isna(), \"employees\"]"
   ]
  },
  {
   "cell_type": "code",
   "execution_count": null,
   "metadata": {
    "ExecuteTime": {
     "end_time": "2020-12-08T15:10:57.442381Z",
     "start_time": "2020-12-08T15:10:57.413816Z"
    },
    "hidden": true
   },
   "outputs": [],
   "source": [
    "tmp[\"employees_imputed\"] = tmp.employees_latest"
   ]
  },
  {
   "cell_type": "code",
   "execution_count": null,
   "metadata": {
    "ExecuteTime": {
     "end_time": "2020-12-08T15:30:23.985295Z",
     "start_time": "2020-12-08T15:30:23.898538Z"
    },
    "hidden": true
   },
   "outputs": [],
   "source": [
    "dictionary"
   ]
  },
  {
   "cell_type": "code",
   "execution_count": null,
   "metadata": {
    "ExecuteTime": {
     "end_time": "2020-12-08T15:11:32.724128Z",
     "start_time": "2020-12-08T15:11:32.692948Z"
    },
    "hidden": true
   },
   "outputs": [],
   "source": [
    "tmp[tmp.employees_latest.isna()][\"employees_imputed\"] = tmp[\"employees\"].apply(lambda x: dictionary.get(x))\n"
   ]
  },
  {
   "cell_type": "code",
   "execution_count": null,
   "metadata": {
    "ExecuteTime": {
     "end_time": "2020-12-08T15:13:45.413861Z",
     "start_time": "2020-12-08T15:13:45.378341Z"
    },
    "hidden": true
   },
   "outputs": [],
   "source": [
    "tmp[tmp.name == \"Biin\"][[\"name\", \"employees\", \"employees_latest\", \"employees_imputed\"]]"
   ]
  },
  {
   "cell_type": "markdown",
   "metadata": {},
   "source": [
    "# Import data + data cleaning thanks to info retrieved from Linkedin"
   ]
  },
  {
   "cell_type": "markdown",
   "metadata": {},
   "source": [
    "## DATA CLEANING"
   ]
  },
  {
   "cell_type": "code",
   "execution_count": 2,
   "metadata": {
    "ExecuteTime": {
     "end_time": "2020-12-09T09:26:01.730892Z",
     "start_time": "2020-12-09T09:26:01.718954Z"
    }
   },
   "outputs": [],
   "source": [
    "def impute_missing_launch_year(data):\n",
    "\n",
    "    names = ['Amypore',\n",
    "             'Kinnov Therapeutics',\n",
    "             'Lipofabrik',\n",
    "             'Step pharma',\n",
    "             'LiMM Therapeutics',\n",
    "             'Ilek',\n",
    "             'LysPackaging',\n",
    "             'TexiSense',\n",
    "             \"Institut de Prise en Charge de l'Obésité\",\n",
    "             'Izi Family',\n",
    "             'Arthur Dupuy',\n",
    "             'Gen.Orph',\n",
    "             'Uniris',\n",
    "             'NANOZ',\n",
    "             'Akwatyx',\n",
    "             'Black-line',\n",
    "             'Eyye',\n",
    "             \"O'Sol\",\n",
    "             'Treenox',\n",
    "             'Aqualeg',\n",
    "             'Co-assit',\n",
    "             'Wind my roof',\n",
    "             'APPARTOO',\n",
    "             'BimBamJob',\n",
    "             'Buddytherobot.com',\n",
    "             'Bcm',\n",
    "             'CCI Paris Ile de France',\n",
    "             'Datarocks',\n",
    "             'EFFICIENCIA',\n",
    "             'EONEF',\n",
    "             'FEALINX',\n",
    "             'INERIS',\n",
    "             'Marguerite',\n",
    "             'TokTokDoc',\n",
    "             'Novaquark',\n",
    "             'Peopeo',\n",
    "             'Sloclap',\n",
    "             'Swift',\n",
    "             'Sword',\n",
    "             'XT-VISION',\n",
    "             'Ryax',\n",
    "             'Sylha',\n",
    "             'Opta LP']\n",
    "\n",
    "    # inserting missing launch year and month for the 11 companies with fundraising\n",
    "    launch_years = [2018, 2015, 2012, 2014, 2018, 2016, 2015, 2010, 2011, 2016, 2015, \n",
    "                   2012, 2017, 2012, 2015, 2017, 2016, 2016, 2018, 2011, 2016, 2018, 2015, 2015, 2014, 2014, 2013,\n",
    "                   2014, 2012, 2016, 1997, 1990, 2012, 2016, 2014, 2017, 2015, 1973, 2000, 2011, 2017, 2019, 2013]\n",
    "\n",
    "    zipbObj = zip(names, launch_years)\n",
    "    launch_year_dict = dict(zipbObj)\n",
    "\n",
    "    data[\"launch_year_clean\"] = data['launch_year']\n",
    "    \n",
    "    for name, year in launch_year_dict.items() : \n",
    "        data.loc[data.name == name, \"launch_year_clean\"] = year\n",
    "    return data\n",
    "\n",
    "def get_growth_dict(df):\n",
    "    table = df[[\"growth_stage\", \"launch_year_clean\", \"id\"]].groupby(by=[\"launch_year_clean\", \"growth_stage\"]).count()\n",
    "    column = list(table.unstack(level = -1).columns)\n",
    "    growth_dict = table.unstack(level = -1).fillna(0).apply(lambda x: column[x.argmax()][1], axis = 1).to_dict()\n",
    "    \n",
    "    return growth_dict\n",
    "    \n",
    "\n",
    "def fill_missing_growth(growth_dict, growth_stage, launch_year_clean):\n",
    "   \n",
    "    if type(growth_stage) == str:\n",
    "        return growth_stage    \n",
    "    elif launch_year_clean in growth_dict:\n",
    "        return growth_dict[launch_year_clean]\n",
    "    else:\n",
    "        return growth_stage"
   ]
  },
  {
   "cell_type": "markdown",
   "metadata": {
    "heading_collapsed": true
   },
   "source": [
    "## TEST cleaning"
   ]
  },
  {
   "cell_type": "code",
   "execution_count": null,
   "metadata": {
    "ExecuteTime": {
     "end_time": "2020-12-09T08:43:18.537157Z",
     "start_time": "2020-12-09T08:43:18.275249Z"
    },
    "hidden": true
   },
   "outputs": [],
   "source": [
    "\n",
    "tmp = pd.read_csv(\"../bpideep/rawdata/data2020-12-03.csv\")\n",
    "tmp.drop(data[(data.id == 1787891) | (data.id == 1893232)].index, inplace = True)\n",
    "\n",
    "dico = get_growth_dict(tmp)\n"
   ]
  },
  {
   "cell_type": "code",
   "execution_count": null,
   "metadata": {
    "ExecuteTime": {
     "end_time": "2020-12-09T08:43:19.223778Z",
     "start_time": "2020-12-09T08:43:19.110254Z"
    },
    "hidden": true
   },
   "outputs": [],
   "source": [
    "impute_missing_launch_year(tmp)"
   ]
  },
  {
   "cell_type": "code",
   "execution_count": null,
   "metadata": {
    "ExecuteTime": {
     "end_time": "2020-12-09T08:43:21.550976Z",
     "start_time": "2020-12-09T08:43:21.484381Z"
    },
    "hidden": true
   },
   "outputs": [],
   "source": [
    "tmp['growth_stage_imputed'] = tmp.apply(lambda row: fill_missing_growth(dico,\n",
    "                row['growth_stage'], \n",
    "                row['launch_year_clean']), \n",
    "            axis=1\n",
    "        )\n",
    "        \n"
   ]
  },
  {
   "cell_type": "markdown",
   "metadata": {
    "ExecuteTime": {
     "end_time": "2020-12-09T08:09:46.219086Z",
     "start_time": "2020-12-09T08:09:46.172169Z"
    },
    "hidden": true
   },
   "source": [
    "tmp[(tmp.growth_stage_imputed.isna())].to_csv(\"missing_launchyear_growthstage.csv\")"
   ]
  },
  {
   "cell_type": "code",
   "execution_count": null,
   "metadata": {
    "ExecuteTime": {
     "end_time": "2020-12-09T08:43:24.290205Z",
     "start_time": "2020-12-09T08:43:24.257118Z"
    },
    "hidden": true
   },
   "outputs": [],
   "source": [
    "missing_list = list(tmp[(tmp.growth_stage_imputed.isna())][\"name\"])"
   ]
  },
  {
   "cell_type": "code",
   "execution_count": null,
   "metadata": {
    "ExecuteTime": {
     "end_time": "2020-12-09T08:43:25.379392Z",
     "start_time": "2020-12-09T08:43:25.347124Z"
    },
    "hidden": true
   },
   "outputs": [],
   "source": [
    "missing_list"
   ]
  },
  {
   "cell_type": "code",
   "execution_count": null,
   "metadata": {
    "ExecuteTime": {
     "end_time": "2020-12-09T08:43:26.686868Z",
     "start_time": "2020-12-09T08:43:26.658246Z"
    },
    "hidden": true
   },
   "outputs": [],
   "source": [
    "missing_years = [2012, 2017, 2012, 2015, 2017, 2016, 2016, 2018, 2011, 2016, 2018, 2015, 2015, 2014, 2014, 2013]"
   ]
  },
  {
   "cell_type": "code",
   "execution_count": null,
   "metadata": {
    "ExecuteTime": {
     "end_time": "2020-12-09T08:43:29.700942Z",
     "start_time": "2020-12-09T08:43:29.642461Z"
    },
    "hidden": true
   },
   "outputs": [],
   "source": [
    "tmp[(tmp.growth_stage_imputed.isna())]"
   ]
  },
  {
   "cell_type": "code",
   "execution_count": null,
   "metadata": {
    "ExecuteTime": {
     "end_time": "2020-12-09T08:43:40.379571Z",
     "start_time": "2020-12-09T08:43:40.349024Z"
    },
    "hidden": true
   },
   "outputs": [],
   "source": [
    "tmp['growth_stage_imputed']"
   ]
  },
  {
   "cell_type": "markdown",
   "metadata": {},
   "source": [
    "## GET_DATA"
   ]
  },
  {
   "cell_type": "code",
   "execution_count": 3,
   "metadata": {
    "ExecuteTime": {
     "end_time": "2020-12-09T09:26:04.167999Z",
     "start_time": "2020-12-09T09:26:04.159171Z"
    }
   },
   "outputs": [],
   "source": [
    "class GetData():\n",
    "\n",
    "    def get_data():\n",
    "        data = pd.read_csv(\"../bpideep/rawdata/data2020-12-03.csv\")\n",
    "        \n",
    "        #selection of need columns\n",
    "        data = data[[\"id\", \"name\", \"target\", \"deep_or_not\", \"total_funding_source\", \"employees\",\n",
    "                     \"employees_latest\", \"launch_year\", \"growth_stage\", \"linkedin_url\"]]\n",
    "        \n",
    "        \n",
    "    \n",
    "        #imputing the missing launch year (only 33 done manually -> to be automatized if a new source displays it)\n",
    "        #LAUNCH_YEAR_CLEAN\n",
    "        impute_missing_launch_year(data)\n",
    "        \n",
    "        \n",
    "        \n",
    "        # drop 2 duplicated companies Lalilo and Pixyl*\n",
    "        data.drop(data[(data.id == 1787891) | (data.id == 1893232)].index, inplace = True)\n",
    "        \n",
    "        \n",
    "        \n",
    "        \n",
    "        #imputing missing growth_stage (mode of the launch year)\n",
    "        #GROWTH_STAGE_IMPUTED\n",
    "        growth_table = get_growth_dict(data)\n",
    "        \n",
    "#         import ipdb ; ipdb.set_trace()\n",
    "        data['growth_stage_imputed'] = data.apply(lambda row: fill_missing_growth(\n",
    "                growth_table,\n",
    "                row['growth_stage'], \n",
    "                row['launch_year_clean']), \n",
    "            axis=1\n",
    "        )\n",
    "        \n",
    "        \n",
    "        \n",
    "        #imputing missing employees values from LinkedIn scraping\n",
    "        #EMPLOYEES_CLEAN\n",
    "        missing = pd.read_csv(\"../bpideep/data/missing_employee_count.csv\")\n",
    "        data[\"employees_clean\"] = data.employees_latest\n",
    "        data.loc[data.name == \"CCI Paris Ile de France\", \"employees_clean\"] = 1793\n",
    "\n",
    "        for url in missing.linkedin_url:\n",
    "            replace_value = missing[missing.linkedin_url == url][\"check\"].iloc[0]\n",
    "            data.loc[data.linkedin_url == url, \"employees_clean\"] = replace_value\n",
    "        \n",
    "        \n",
    "        \n",
    "        \n",
    "        # get the number of patents\n",
    "        patent = pd.read_csv(\"../bpideep/data/patents.csv\")\n",
    "        data = pd.merge(data, patent, on= [\"id\", \"id\"], how = \"left\")\n",
    "        \n",
    "        return data\n",
    "\n",
    "#         *    \n",
    "#                 + 3 duplicated names but with different id : \n",
    "#                     1/ Lalilo : 926521 (http://www.lalilo.com/) vs. 1787891 (http://lalilo.fr) \n",
    "#             -> same launch date, french website no longer exists + observation  almost filled by NAN + same obs as the .com \n",
    "#             -> drop the french Lalilo (1787891)\n",
    "#                     2/ Pixyl : 892048 vs 1893232 (different websites mentioned but same website page when launched) \n",
    "#             -> kept  892048 because more info + the Dealroom profile was verified by Dealroom team on Sept, 1st 2020 vs. pending verification\n",
    "#                     3/ NANOZ : 1836121 vs 1660543 -> kept both as different companies but the second one is German "
   ]
  },
  {
   "cell_type": "code",
   "execution_count": 4,
   "metadata": {
    "ExecuteTime": {
     "end_time": "2020-12-09T09:26:06.219368Z",
     "start_time": "2020-12-09T09:26:05.855778Z"
    }
   },
   "outputs": [
    {
     "name": "stderr",
     "output_type": "stream",
     "text": [
      "<ipython-input-4-b6be683749e0>:4: SettingWithCopyWarning: \n",
      "A value is trying to be set on a copy of a slice from a DataFrame\n",
      "\n",
      "See the caveats in the documentation: https://pandas.pydata.org/pandas-docs/stable/user_guide/indexing.html#returning-a-view-versus-a-copy\n",
      "  y[y ==0.5] = 0\n"
     ]
    },
    {
     "data": {
      "text/plain": [
       "Index(['id', 'name', 'total_funding_source', 'employees', 'employees_latest',\n",
       "       'launch_year', 'growth_stage', 'linkedin_url', 'launch_year_clean',\n",
       "       'growth_stage_imputed', 'employees_clean', 'nb_patents'],\n",
       "      dtype='object')"
      ]
     },
     "execution_count": 4,
     "metadata": {},
     "output_type": "execute_result"
    }
   ],
   "source": [
    "data = GetData.get_data()\n",
    "X = data.drop(columns = [\"target\", \"deep_or_not\"])\n",
    "y = data.target\n",
    "y[y ==0.5] = 0\n",
    "\n",
    "X.columns"
   ]
  },
  {
   "cell_type": "markdown",
   "metadata": {
    "heading_collapsed": true
   },
   "source": [
    "# TEST"
   ]
  },
  {
   "cell_type": "code",
   "execution_count": null,
   "metadata": {
    "ExecuteTime": {
     "end_time": "2020-12-08T18:09:16.269102Z",
     "start_time": "2020-12-08T18:09:15.990652Z"
    },
    "hidden": true
   },
   "outputs": [],
   "source": [
    "data = GetData.get_data()"
   ]
  },
  {
   "cell_type": "code",
   "execution_count": null,
   "metadata": {
    "ExecuteTime": {
     "end_time": "2020-12-08T18:09:16.396444Z",
     "start_time": "2020-12-08T18:09:16.390994Z"
    },
    "hidden": true
   },
   "outputs": [],
   "source": [
    "data.shape"
   ]
  },
  {
   "cell_type": "code",
   "execution_count": null,
   "metadata": {
    "ExecuteTime": {
     "end_time": "2020-12-08T18:58:49.380948Z",
     "start_time": "2020-12-08T18:58:49.359874Z"
    },
    "hidden": true
   },
   "outputs": [],
   "source": [
    "data.columns"
   ]
  },
  {
   "cell_type": "code",
   "execution_count": null,
   "metadata": {
    "ExecuteTime": {
     "end_time": "2020-12-08T18:09:16.608173Z",
     "start_time": "2020-12-08T18:09:16.597872Z"
    },
    "hidden": true
   },
   "outputs": [],
   "source": [
    "data[(data.employees.notna()) & (data.employees_clean.isna())].shape"
   ]
  },
  {
   "cell_type": "markdown",
   "metadata": {
    "hidden": true
   },
   "source": [
    "présence de math.nan ?"
   ]
  },
  {
   "cell_type": "code",
   "execution_count": null,
   "metadata": {
    "ExecuteTime": {
     "end_time": "2020-12-08T18:09:17.468030Z",
     "start_time": "2020-12-08T18:09:17.431165Z"
    },
    "hidden": true
   },
   "outputs": [],
   "source": [
    "data[(data.employees.isna()) & (data.employees_clean.isna())]"
   ]
  },
  {
   "cell_type": "code",
   "execution_count": null,
   "metadata": {
    "ExecuteTime": {
     "end_time": "2020-12-08T18:09:18.006878Z",
     "start_time": "2020-12-08T18:09:17.989069Z"
    },
    "hidden": true
   },
   "outputs": [],
   "source": [
    "res = replace_employees(data)"
   ]
  },
  {
   "cell_type": "code",
   "execution_count": null,
   "metadata": {
    "ExecuteTime": {
     "end_time": "2020-12-08T18:09:18.695489Z",
     "start_time": "2020-12-08T18:09:18.678151Z"
    },
    "hidden": true,
    "scrolled": false
   },
   "outputs": [],
   "source": [
    "res[res.employees_imputed.isna()][[\"name\", \"employees_latest\", \"employees\", \"employees_clean\", \"employees_imputed\", \"launch_year_clean\"]].groupby(by = \"launch_year_clean\").count()"
   ]
  },
  {
   "cell_type": "code",
   "execution_count": null,
   "metadata": {
    "ExecuteTime": {
     "end_time": "2020-12-08T18:09:19.494865Z",
     "start_time": "2020-12-08T18:09:19.478962Z"
    },
    "hidden": true
   },
   "outputs": [],
   "source": [
    "res[(res.employees_imputed.isna()) & (res.launch_year_clean < 2010)][[\"name\", \"employees_latest\", \"employees\", \"employees_clean\", \"employees_imputed\", \"launch_year_clean\"]].groupby(by = \"launch_year_clean\").count()"
   ]
  },
  {
   "cell_type": "code",
   "execution_count": null,
   "metadata": {
    "ExecuteTime": {
     "end_time": "2020-12-08T18:09:20.371593Z",
     "start_time": "2020-12-08T18:09:20.342568Z"
    },
    "hidden": true
   },
   "outputs": [],
   "source": [
    "yg_median = res[[\"employees_imputed\", \"launch_year_clean\"]].groupby(by=[\"launch_year_clean\"]).median()\n",
    "years = data.launch_year_clean.unique()\n",
    "years = [nb for nb in years if nb >= 2010]\n",
    "\n",
    "print(yg_median)\n",
    "\n",
    "\n",
    "for year in years:\n",
    "    replace_value = yg_median.loc[(year)][0]\n",
    "    boolean_condition = ((res.launch_year_clean == year) & (res.employees_imputed.isna()))\n",
    "    res.loc[boolean_condition, \"employees_imputed\"] = replace_value\n"
   ]
  },
  {
   "cell_type": "code",
   "execution_count": null,
   "metadata": {
    "ExecuteTime": {
     "end_time": "2020-12-08T18:09:33.297797Z",
     "start_time": "2020-12-08T18:09:33.280596Z"
    },
    "hidden": true,
    "scrolled": true
   },
   "outputs": [],
   "source": [
    "res[res.employees_imputed.isna()][[\"name\", \"employees_latest\", \"employees\", \"employees_clean\", \"employees_imputed\", \"launch_year_clean\"]].groupby(by = \"launch_year_clean\").count()"
   ]
  },
  {
   "cell_type": "code",
   "execution_count": null,
   "metadata": {
    "ExecuteTime": {
     "end_time": "2020-12-08T18:11:34.782947Z",
     "start_time": "2020-12-08T18:11:34.772323Z"
    },
    "hidden": true
   },
   "outputs": [],
   "source": [
    "#median_bef_2010 \n",
    "res[res.launch_year_clean < 2010][[\"employees_imputed\"]].median()"
   ]
  },
  {
   "cell_type": "code",
   "execution_count": null,
   "metadata": {
    "ExecuteTime": {
     "end_time": "2020-12-08T18:12:05.390451Z",
     "start_time": "2020-12-08T18:12:05.380200Z"
    },
    "hidden": true
   },
   "outputs": [],
   "source": [
    "res[res.launch_year_clean.notna()][[\"employees_imputed\"]].median()"
   ]
  },
  {
   "cell_type": "markdown",
   "metadata": {},
   "source": [
    "# PIPELINE"
   ]
  },
  {
   "cell_type": "markdown",
   "metadata": {},
   "source": [
    "##### employees imputing  : age"
   ]
  },
  {
   "cell_type": "code",
   "execution_count": 5,
   "metadata": {
    "ExecuteTime": {
     "end_time": "2020-12-09T09:26:09.074824Z",
     "start_time": "2020-12-09T09:26:09.063089Z"
    }
   },
   "outputs": [],
   "source": [
    "import re\n",
    "import math\n",
    "from sklearn.base import BaseEstimator, TransformerMixin\n",
    "\n",
    "\n",
    "def average_list(range_list):\n",
    "    return sum(range_list)/len(range_list)\n",
    "\n",
    "def compute_employees_mean(data):\n",
    "    range_list = list(data.employees.unique())\n",
    "    range_list.remove(\"n.a.\")\n",
    "    keys_list = []\n",
    "    means_list = []\n",
    "\n",
    "    for i in range(len(range_list)) :\n",
    "        if type(range_list[i]) == str :\n",
    "            temp = re.findall(r'\\d+', range_list[i]) \n",
    "            res = list(map(int, temp)) \n",
    "            mean = average_list(res)\n",
    "            means_list.append(mean)\n",
    "            keys_list.append(range_list[i])\n",
    "        else:\n",
    "            pass\n",
    "\n",
    "    zip_iterator = zip(keys_list, means_list)\n",
    "    range_dict = dict(zip_iterator)\n",
    "    \n",
    "    return range_dict\n",
    "\n",
    "def replace_employees(df):\n",
    "    df[\"employees_imputed\"] = df.employees_clean\n",
    "    dictionary = compute_employees_mean(df)\n",
    "    for key, value in dictionary.items():\n",
    "        df.loc[(df.employees == key) & (df.employees_latest.isna()), \"employees_imputed\"] = value\n",
    "    return df\n",
    "            \n",
    "            \n",
    "class EmployeeImputer(BaseEstimator, TransformerMixin):\n",
    "    \n",
    "    def fit(self, X, y=None):\n",
    "        \n",
    "        # impute according to the range mean\n",
    "#         import ipdb ; ipdb.set_trace()\n",
    "        data = X.copy()\n",
    "        data = replace_employees(data)\n",
    "#         print(data)\n",
    "        \n",
    "        \n",
    "        self.yg_median = data[[\"employees_imputed\", \"launch_year_clean\"]].groupby(by=[\"launch_year_clean\"]).median()\n",
    "#         print(self.yg_median)\n",
    "        self.years = data.launch_year_clean.unique()\n",
    "        self.years = [nb for nb in self.years if nb >= 2010]\n",
    "#         print(self.years)\n",
    "        \n",
    "#        print(self.yg_median)\n",
    "        return self\n",
    "    \n",
    "    def transform(self, X, y=None):\n",
    "#         import ipdb ; ipdb.set_trace()\n",
    "        X = replace_employees(X)\n",
    "#         print(X)\n",
    "        \n",
    "        # impute according to the median of the companies launched after 2010\n",
    "        for year in self.years:\n",
    "            replace_value = self.yg_median.loc[(year)][0]\n",
    "            boolean_condition = ((X.launch_year_clean == year) & (X.employees_imputed.isna()))\n",
    "            X.loc[boolean_condition, \"employees_imputed\"] = replace_value\n",
    "        \n",
    "#         print(\"after loop : \", X)\n",
    "        \n",
    "        median_all_dataset = X[X.launch_year_clean.notna()][[\"employees_imputed\"]].median()\n",
    "#         print(X.employees_imputed.isna())\n",
    "        X.loc[X.employees_imputed.isna(), \"employees_imputed\"] = replace_value\n",
    "\n",
    "        return X\n",
    "    \n",
    "    \n",
    "\n"
   ]
  },
  {
   "cell_type": "code",
   "execution_count": 6,
   "metadata": {
    "ExecuteTime": {
     "end_time": "2020-12-09T09:26:10.629986Z",
     "start_time": "2020-12-09T09:26:10.605602Z"
    },
    "scrolled": true
   },
   "outputs": [
    {
     "data": {
      "text/plain": [
       "EmployeeImputer()"
      ]
     },
     "execution_count": 6,
     "metadata": {},
     "output_type": "execute_result"
    }
   ],
   "source": [
    "e = EmployeeImputer()\n",
    "e.fit(X)"
   ]
  },
  {
   "cell_type": "code",
   "execution_count": 7,
   "metadata": {
    "ExecuteTime": {
     "end_time": "2020-12-09T09:26:12.319448Z",
     "start_time": "2020-12-09T09:26:12.230514Z"
    }
   },
   "outputs": [
    {
     "data": {
      "text/html": [
       "<div>\n",
       "<style scoped>\n",
       "    .dataframe tbody tr th:only-of-type {\n",
       "        vertical-align: middle;\n",
       "    }\n",
       "\n",
       "    .dataframe tbody tr th {\n",
       "        vertical-align: top;\n",
       "    }\n",
       "\n",
       "    .dataframe thead th {\n",
       "        text-align: right;\n",
       "    }\n",
       "</style>\n",
       "<table border=\"1\" class=\"dataframe\">\n",
       "  <thead>\n",
       "    <tr style=\"text-align: right;\">\n",
       "      <th></th>\n",
       "      <th>id</th>\n",
       "      <th>name</th>\n",
       "      <th>total_funding_source</th>\n",
       "      <th>employees</th>\n",
       "      <th>employees_latest</th>\n",
       "      <th>launch_year</th>\n",
       "      <th>growth_stage</th>\n",
       "      <th>linkedin_url</th>\n",
       "      <th>launch_year_clean</th>\n",
       "      <th>growth_stage_imputed</th>\n",
       "      <th>employees_clean</th>\n",
       "      <th>nb_patents</th>\n",
       "      <th>employees_imputed</th>\n",
       "    </tr>\n",
       "  </thead>\n",
       "  <tbody>\n",
       "    <tr>\n",
       "      <th>0</th>\n",
       "      <td>1742681</td>\n",
       "      <td>Healthcardionexion.com</td>\n",
       "      <td>0</td>\n",
       "      <td>2-10</td>\n",
       "      <td>8.0</td>\n",
       "      <td>2015.0</td>\n",
       "      <td>seed</td>\n",
       "      <td>https://www.linkedin.com/company/--health</td>\n",
       "      <td>2015.0</td>\n",
       "      <td>seed</td>\n",
       "      <td>8.0</td>\n",
       "      <td>NaN</td>\n",
       "      <td>8.0</td>\n",
       "    </tr>\n",
       "    <tr>\n",
       "      <th>1</th>\n",
       "      <td>1743314</td>\n",
       "      <td>4P Pharma</td>\n",
       "      <td>0</td>\n",
       "      <td>11-50</td>\n",
       "      <td>12.0</td>\n",
       "      <td>2014.0</td>\n",
       "      <td>early growth</td>\n",
       "      <td>https://www.linkedin.com/company/4p-pharma</td>\n",
       "      <td>2014.0</td>\n",
       "      <td>early growth</td>\n",
       "      <td>12.0</td>\n",
       "      <td>7.0</td>\n",
       "      <td>12.0</td>\n",
       "    </tr>\n",
       "    <tr>\n",
       "      <th>2</th>\n",
       "      <td>1598607</td>\n",
       "      <td>AFYREN</td>\n",
       "      <td>21000000</td>\n",
       "      <td>11-50</td>\n",
       "      <td>31.0</td>\n",
       "      <td>2012.0</td>\n",
       "      <td>early growth</td>\n",
       "      <td>https://www.linkedin.com/company/9419299</td>\n",
       "      <td>2012.0</td>\n",
       "      <td>early growth</td>\n",
       "      <td>31.0</td>\n",
       "      <td>84.0</td>\n",
       "      <td>31.0</td>\n",
       "    </tr>\n",
       "    <tr>\n",
       "      <th>3</th>\n",
       "      <td>894817</td>\n",
       "      <td>Abbelight</td>\n",
       "      <td>3250000</td>\n",
       "      <td>11-50</td>\n",
       "      <td>20.0</td>\n",
       "      <td>2016.0</td>\n",
       "      <td>early growth</td>\n",
       "      <td>https://www.linkedin.com/company/abbelight</td>\n",
       "      <td>2016.0</td>\n",
       "      <td>early growth</td>\n",
       "      <td>20.0</td>\n",
       "      <td>NaN</td>\n",
       "      <td>20.0</td>\n",
       "    </tr>\n",
       "    <tr>\n",
       "      <th>4</th>\n",
       "      <td>1683057</td>\n",
       "      <td>AblaCare</td>\n",
       "      <td>10000000</td>\n",
       "      <td>2-10</td>\n",
       "      <td>4.0</td>\n",
       "      <td>2017.0</td>\n",
       "      <td>seed</td>\n",
       "      <td>https://www.linkedin.com/company/ablacare</td>\n",
       "      <td>2017.0</td>\n",
       "      <td>seed</td>\n",
       "      <td>4.0</td>\n",
       "      <td>NaN</td>\n",
       "      <td>4.0</td>\n",
       "    </tr>\n",
       "    <tr>\n",
       "      <th>...</th>\n",
       "      <td>...</td>\n",
       "      <td>...</td>\n",
       "      <td>...</td>\n",
       "      <td>...</td>\n",
       "      <td>...</td>\n",
       "      <td>...</td>\n",
       "      <td>...</td>\n",
       "      <td>...</td>\n",
       "      <td>...</td>\n",
       "      <td>...</td>\n",
       "      <td>...</td>\n",
       "      <td>...</td>\n",
       "      <td>...</td>\n",
       "    </tr>\n",
       "    <tr>\n",
       "      <th>1506</th>\n",
       "      <td>1660577</td>\n",
       "      <td>Opta LP</td>\n",
       "      <td>0</td>\n",
       "      <td>NaN</td>\n",
       "      <td>NaN</td>\n",
       "      <td>NaN</td>\n",
       "      <td>NaN</td>\n",
       "      <td>https://fr.linkedin.com/in/opta-lp-9ba2b881</td>\n",
       "      <td>2013.0</td>\n",
       "      <td>early growth</td>\n",
       "      <td>NaN</td>\n",
       "      <td>NaN</td>\n",
       "      <td>14.0</td>\n",
       "    </tr>\n",
       "    <tr>\n",
       "      <th>1507</th>\n",
       "      <td>132854</td>\n",
       "      <td>Ownpage Technology</td>\n",
       "      <td>800000</td>\n",
       "      <td>2-10</td>\n",
       "      <td>6.0</td>\n",
       "      <td>2012.0</td>\n",
       "      <td>seed</td>\n",
       "      <td>https://www.linkedin.com/company/ownpage-techn...</td>\n",
       "      <td>2012.0</td>\n",
       "      <td>seed</td>\n",
       "      <td>6.0</td>\n",
       "      <td>NaN</td>\n",
       "      <td>6.0</td>\n",
       "    </tr>\n",
       "    <tr>\n",
       "      <th>1508</th>\n",
       "      <td>80695</td>\n",
       "      <td>Per Angusta</td>\n",
       "      <td>4454545</td>\n",
       "      <td>11-50</td>\n",
       "      <td>38.0</td>\n",
       "      <td>2012.0</td>\n",
       "      <td>early growth</td>\n",
       "      <td>https://www.linkedin.com/company/per-angusta</td>\n",
       "      <td>2012.0</td>\n",
       "      <td>early growth</td>\n",
       "      <td>38.0</td>\n",
       "      <td>NaN</td>\n",
       "      <td>38.0</td>\n",
       "    </tr>\n",
       "    <tr>\n",
       "      <th>1509</th>\n",
       "      <td>1836415</td>\n",
       "      <td>PowerUp</td>\n",
       "      <td>5000000</td>\n",
       "      <td>11-50</td>\n",
       "      <td>17.0</td>\n",
       "      <td>2017.0</td>\n",
       "      <td>early growth</td>\n",
       "      <td>https://www.linkedin.com/company/powerup-techn...</td>\n",
       "      <td>2017.0</td>\n",
       "      <td>early growth</td>\n",
       "      <td>17.0</td>\n",
       "      <td>3.0</td>\n",
       "      <td>17.0</td>\n",
       "    </tr>\n",
       "    <tr>\n",
       "      <th>1510</th>\n",
       "      <td>1654107</td>\n",
       "      <td>Transaction Connect</td>\n",
       "      <td>1500000</td>\n",
       "      <td>11-50</td>\n",
       "      <td>31.0</td>\n",
       "      <td>2016.0</td>\n",
       "      <td>early growth</td>\n",
       "      <td>https://www.linkedin.com/company/transaction-c...</td>\n",
       "      <td>2016.0</td>\n",
       "      <td>early growth</td>\n",
       "      <td>31.0</td>\n",
       "      <td>NaN</td>\n",
       "      <td>31.0</td>\n",
       "    </tr>\n",
       "  </tbody>\n",
       "</table>\n",
       "<p>1511 rows × 13 columns</p>\n",
       "</div>"
      ],
      "text/plain": [
       "           id                    name  total_funding_source employees  \\\n",
       "0     1742681  Healthcardionexion.com                     0      2-10   \n",
       "1     1743314               4P Pharma                     0     11-50   \n",
       "2     1598607                  AFYREN              21000000     11-50   \n",
       "3      894817               Abbelight               3250000     11-50   \n",
       "4     1683057                AblaCare              10000000      2-10   \n",
       "...       ...                     ...                   ...       ...   \n",
       "1506  1660577                 Opta LP                     0       NaN   \n",
       "1507   132854      Ownpage Technology                800000      2-10   \n",
       "1508    80695             Per Angusta               4454545     11-50   \n",
       "1509  1836415                 PowerUp               5000000     11-50   \n",
       "1510  1654107     Transaction Connect               1500000     11-50   \n",
       "\n",
       "      employees_latest  launch_year  growth_stage  \\\n",
       "0                  8.0       2015.0          seed   \n",
       "1                 12.0       2014.0  early growth   \n",
       "2                 31.0       2012.0  early growth   \n",
       "3                 20.0       2016.0  early growth   \n",
       "4                  4.0       2017.0          seed   \n",
       "...                ...          ...           ...   \n",
       "1506               NaN          NaN           NaN   \n",
       "1507               6.0       2012.0          seed   \n",
       "1508              38.0       2012.0  early growth   \n",
       "1509              17.0       2017.0  early growth   \n",
       "1510              31.0       2016.0  early growth   \n",
       "\n",
       "                                           linkedin_url  launch_year_clean  \\\n",
       "0             https://www.linkedin.com/company/--health             2015.0   \n",
       "1            https://www.linkedin.com/company/4p-pharma             2014.0   \n",
       "2              https://www.linkedin.com/company/9419299             2012.0   \n",
       "3            https://www.linkedin.com/company/abbelight             2016.0   \n",
       "4             https://www.linkedin.com/company/ablacare             2017.0   \n",
       "...                                                 ...                ...   \n",
       "1506        https://fr.linkedin.com/in/opta-lp-9ba2b881             2013.0   \n",
       "1507  https://www.linkedin.com/company/ownpage-techn...             2012.0   \n",
       "1508       https://www.linkedin.com/company/per-angusta             2012.0   \n",
       "1509  https://www.linkedin.com/company/powerup-techn...             2017.0   \n",
       "1510  https://www.linkedin.com/company/transaction-c...             2016.0   \n",
       "\n",
       "     growth_stage_imputed  employees_clean  nb_patents  employees_imputed  \n",
       "0                    seed              8.0         NaN                8.0  \n",
       "1            early growth             12.0         7.0               12.0  \n",
       "2            early growth             31.0        84.0               31.0  \n",
       "3            early growth             20.0         NaN               20.0  \n",
       "4                    seed              4.0         NaN                4.0  \n",
       "...                   ...              ...         ...                ...  \n",
       "1506         early growth              NaN         NaN               14.0  \n",
       "1507                 seed              6.0         NaN                6.0  \n",
       "1508         early growth             38.0         NaN               38.0  \n",
       "1509         early growth             17.0         3.0               17.0  \n",
       "1510         early growth             31.0         NaN               31.0  \n",
       "\n",
       "[1511 rows x 13 columns]"
      ]
     },
     "execution_count": 7,
     "metadata": {},
     "output_type": "execute_result"
    }
   ],
   "source": [
    "e.transform(X)"
   ]
  },
  {
   "cell_type": "markdown",
   "metadata": {},
   "source": [
    "##### Patent imputing"
   ]
  },
  {
   "cell_type": "code",
   "execution_count": 8,
   "metadata": {
    "ExecuteTime": {
     "end_time": "2020-12-09T09:26:42.188026Z",
     "start_time": "2020-12-09T09:26:42.174907Z"
    }
   },
   "outputs": [],
   "source": [
    "from sklearn.pipeline import make_pipeline\n",
    "\n",
    "patent_transformer = make_pipeline(\n",
    "                                SimpleImputer(missing_values=np.nan, strategy='constant', fill_value = 0),\n",
    "                                RobustScaler())\n",
    "    \n",
    "### ROBUSTSCALER or log(1+x) ??"
   ]
  },
  {
   "cell_type": "markdown",
   "metadata": {},
   "source": [
    "##### Feature  : funding / employees ratio"
   ]
  },
  {
   "cell_type": "code",
   "execution_count": 9,
   "metadata": {
    "ExecuteTime": {
     "end_time": "2020-12-09T09:26:44.714877Z",
     "start_time": "2020-12-09T09:26:44.709919Z"
    }
   },
   "outputs": [],
   "source": [
    "from sklearn.pipeline import FeatureUnion\n",
    "from sklearn.preprocessing import FunctionTransformer\n",
    "\n",
    "funding_employees_ratio_constructor = FunctionTransformer(\n",
    "    lambda df: pd.DataFrame(df[\"total_funding_source\"] / df[\"employees_imputed\"]))\n"
   ]
  },
  {
   "cell_type": "code",
   "execution_count": 10,
   "metadata": {
    "ExecuteTime": {
     "end_time": "2020-12-09T09:26:45.283399Z",
     "start_time": "2020-12-09T09:26:45.278873Z"
    }
   },
   "outputs": [],
   "source": [
    "from sklearn.pipeline import Pipeline\n",
    "\n",
    "ratio_transformer = Pipeline([\n",
    "    (\"imputer1\", EmployeeImputer()),\n",
    "    (\"ratio\", funding_employees_ratio_constructor),\n",
    "    (\"scaler\",  RobustScaler())\n",
    "])"
   ]
  },
  {
   "cell_type": "markdown",
   "metadata": {},
   "source": [
    "##### Growth stage OneHotEncoding"
   ]
  },
  {
   "cell_type": "code",
   "execution_count": 11,
   "metadata": {
    "ExecuteTime": {
     "end_time": "2020-12-09T09:26:47.945654Z",
     "start_time": "2020-12-09T09:26:47.941496Z"
    }
   },
   "outputs": [],
   "source": [
    "from sklearn.preprocessing import OneHotEncoder\n",
    "\n",
    "cat_growth_stage = OneHotEncoder(handle_unknown='ignore')"
   ]
  },
  {
   "cell_type": "code",
   "execution_count": null,
   "metadata": {
    "ExecuteTime": {
     "end_time": "2020-12-09T09:06:53.681849Z",
     "start_time": "2020-12-09T09:06:53.381475Z"
    }
   },
   "outputs": [],
   "source": [
    "X.growth_stage_imputed"
   ]
  },
  {
   "cell_type": "markdown",
   "metadata": {},
   "source": [
    "##### Preprocessor"
   ]
  },
  {
   "cell_type": "code",
   "execution_count": 12,
   "metadata": {
    "ExecuteTime": {
     "end_time": "2020-12-09T09:26:50.989318Z",
     "start_time": "2020-12-09T09:26:50.974425Z"
    }
   },
   "outputs": [],
   "source": [
    "from sklearn.compose import ColumnTransformer\n",
    "\n",
    "preprocessor = ColumnTransformer([\n",
    "    (\"cat_growth_transformer\", cat_growth_stage, [\"growth_stage_imputed\"]),\n",
    "    (\"ratio_transformer\", ratio_transformer, [\"employees_latest\", \"total_funding_source\"]),\n",
    "    (\"patent_transformer\", patent_transformer, [\"nb_patents\"])\n",
    "    ])"
   ]
  },
  {
   "cell_type": "code",
   "execution_count": 13,
   "metadata": {
    "ExecuteTime": {
     "end_time": "2020-12-09T09:26:52.726344Z",
     "start_time": "2020-12-09T09:26:52.614932Z"
    }
   },
   "outputs": [
    {
     "data": {
      "text/html": [
       "<style>div.sk-top-container {color: black;background-color: white;}div.sk-toggleable {background-color: white;}label.sk-toggleable__label {cursor: pointer;display: block;width: 100%;margin-bottom: 0;padding: 0.2em 0.3em;box-sizing: border-box;text-align: center;}div.sk-toggleable__content {max-height: 0;max-width: 0;overflow: hidden;text-align: left;background-color: #f0f8ff;}div.sk-toggleable__content pre {margin: 0.2em;color: black;border-radius: 0.25em;background-color: #f0f8ff;}input.sk-toggleable__control:checked~div.sk-toggleable__content {max-height: 200px;max-width: 100%;overflow: auto;}div.sk-estimator input.sk-toggleable__control:checked~label.sk-toggleable__label {background-color: #d4ebff;}div.sk-label input.sk-toggleable__control:checked~label.sk-toggleable__label {background-color: #d4ebff;}input.sk-hidden--visually {border: 0;clip: rect(1px 1px 1px 1px);clip: rect(1px, 1px, 1px, 1px);height: 1px;margin: -1px;overflow: hidden;padding: 0;position: absolute;width: 1px;}div.sk-estimator {font-family: monospace;background-color: #f0f8ff;margin: 0.25em 0.25em;border: 1px dotted black;border-radius: 0.25em;box-sizing: border-box;}div.sk-estimator:hover {background-color: #d4ebff;}div.sk-parallel-item::after {content: \"\";width: 100%;border-bottom: 1px solid gray;flex-grow: 1;}div.sk-label:hover label.sk-toggleable__label {background-color: #d4ebff;}div.sk-serial::before {content: \"\";position: absolute;border-left: 1px solid gray;box-sizing: border-box;top: 2em;bottom: 0;left: 50%;}div.sk-serial {display: flex;flex-direction: column;align-items: center;background-color: white;}div.sk-item {z-index: 1;}div.sk-parallel {display: flex;align-items: stretch;justify-content: center;background-color: white;}div.sk-parallel-item {display: flex;flex-direction: column;position: relative;background-color: white;}div.sk-parallel-item:first-child::after {align-self: flex-end;width: 50%;}div.sk-parallel-item:last-child::after {align-self: flex-start;width: 50%;}div.sk-parallel-item:only-child::after {width: 0;}div.sk-dashed-wrapped {border: 1px dashed gray;margin: 0.2em;box-sizing: border-box;padding-bottom: 0.1em;background-color: white;position: relative;}div.sk-label label {font-family: monospace;font-weight: bold;background-color: white;display: inline-block;line-height: 1.2em;}div.sk-label-container {position: relative;z-index: 2;text-align: center;}div.sk-container {display: inline-block;position: relative;}</style><div class=\"sk-top-container\"><div class=\"sk-container\"><div class=\"sk-item sk-dashed-wrapped\"><div class=\"sk-label-container\"><div class=\"sk-label sk-toggleable\"><input class=\"sk-toggleable__control sk-hidden--visually\" id=\"e7f0f1a4-2f1e-468b-b18d-da5857bf2c8d\" type=\"checkbox\" ><label class=\"sk-toggleable__label\" for=\"e7f0f1a4-2f1e-468b-b18d-da5857bf2c8d\">ColumnTransformer</label><div class=\"sk-toggleable__content\"><pre>ColumnTransformer(transformers=[('cat_growth_transformer',\n",
       "                                 OneHotEncoder(handle_unknown='ignore'),\n",
       "                                 ['growth_stage_imputed']),\n",
       "                                ('ratio_transformer',\n",
       "                                 Pipeline(steps=[('imputer1',\n",
       "                                                  EmployeeImputer()),\n",
       "                                                 ('ratio',\n",
       "                                                  FunctionTransformer(func=<function <lambda> at 0x126390310>)),\n",
       "                                                 ('scaler', RobustScaler())]),\n",
       "                                 ['employees_latest', 'total_funding_source']),\n",
       "                                ('patent_transformer',\n",
       "                                 Pipeline(steps=[('simpleimputer',\n",
       "                                                  SimpleImputer(fill_value=0,\n",
       "                                                                strategy='constant')),\n",
       "                                                 ('robustscaler',\n",
       "                                                  RobustScaler())]),\n",
       "                                 ['nb_patents'])])</pre></div></div></div><div class=\"sk-parallel\"><div class=\"sk-parallel-item\"><div class=\"sk-item\"><div class=\"sk-label-container\"><div class=\"sk-label sk-toggleable\"><input class=\"sk-toggleable__control sk-hidden--visually\" id=\"9693ccf4-d1dc-4fba-a54a-c4d2b9b924a6\" type=\"checkbox\" ><label class=\"sk-toggleable__label\" for=\"9693ccf4-d1dc-4fba-a54a-c4d2b9b924a6\">cat_growth_transformer</label><div class=\"sk-toggleable__content\"><pre>['growth_stage_imputed']</pre></div></div></div><div class=\"sk-serial\"><div class=\"sk-item\"><div class=\"sk-estimator sk-toggleable\"><input class=\"sk-toggleable__control sk-hidden--visually\" id=\"41d154f1-a370-49d1-8c34-8b0f64c8fd04\" type=\"checkbox\" ><label class=\"sk-toggleable__label\" for=\"41d154f1-a370-49d1-8c34-8b0f64c8fd04\">OneHotEncoder</label><div class=\"sk-toggleable__content\"><pre>OneHotEncoder(handle_unknown='ignore')</pre></div></div></div></div></div></div><div class=\"sk-parallel-item\"><div class=\"sk-item\"><div class=\"sk-label-container\"><div class=\"sk-label sk-toggleable\"><input class=\"sk-toggleable__control sk-hidden--visually\" id=\"e9dbd8d4-2f13-44c3-b2ac-858a3e768861\" type=\"checkbox\" ><label class=\"sk-toggleable__label\" for=\"e9dbd8d4-2f13-44c3-b2ac-858a3e768861\">ratio_transformer</label><div class=\"sk-toggleable__content\"><pre>['employees_latest', 'total_funding_source']</pre></div></div></div><div class=\"sk-serial\"><div class=\"sk-item\"><div class=\"sk-serial\"><div class=\"sk-item\"><div class=\"sk-estimator sk-toggleable\"><input class=\"sk-toggleable__control sk-hidden--visually\" id=\"f397fca6-4c95-4ea8-8a42-97e365a12f35\" type=\"checkbox\" ><label class=\"sk-toggleable__label\" for=\"f397fca6-4c95-4ea8-8a42-97e365a12f35\">EmployeeImputer</label><div class=\"sk-toggleable__content\"><pre>EmployeeImputer()</pre></div></div></div><div class=\"sk-item\"><div class=\"sk-estimator sk-toggleable\"><input class=\"sk-toggleable__control sk-hidden--visually\" id=\"50e0fe00-0e7d-4fe9-822e-034ecbba1df9\" type=\"checkbox\" ><label class=\"sk-toggleable__label\" for=\"50e0fe00-0e7d-4fe9-822e-034ecbba1df9\">FunctionTransformer</label><div class=\"sk-toggleable__content\"><pre>FunctionTransformer(func=<function <lambda> at 0x126390310>)</pre></div></div></div><div class=\"sk-item\"><div class=\"sk-estimator sk-toggleable\"><input class=\"sk-toggleable__control sk-hidden--visually\" id=\"4c76af62-8b06-43b0-a112-5f6bbd2ffbb9\" type=\"checkbox\" ><label class=\"sk-toggleable__label\" for=\"4c76af62-8b06-43b0-a112-5f6bbd2ffbb9\">RobustScaler</label><div class=\"sk-toggleable__content\"><pre>RobustScaler()</pre></div></div></div></div></div></div></div></div><div class=\"sk-parallel-item\"><div class=\"sk-item\"><div class=\"sk-label-container\"><div class=\"sk-label sk-toggleable\"><input class=\"sk-toggleable__control sk-hidden--visually\" id=\"805c26fe-56e4-4da1-a823-b67d55ec4f9a\" type=\"checkbox\" ><label class=\"sk-toggleable__label\" for=\"805c26fe-56e4-4da1-a823-b67d55ec4f9a\">patent_transformer</label><div class=\"sk-toggleable__content\"><pre>['nb_patents']</pre></div></div></div><div class=\"sk-serial\"><div class=\"sk-item\"><div class=\"sk-serial\"><div class=\"sk-item\"><div class=\"sk-estimator sk-toggleable\"><input class=\"sk-toggleable__control sk-hidden--visually\" id=\"3f06b316-d2cb-4d66-ba29-c7c5214109c0\" type=\"checkbox\" ><label class=\"sk-toggleable__label\" for=\"3f06b316-d2cb-4d66-ba29-c7c5214109c0\">SimpleImputer</label><div class=\"sk-toggleable__content\"><pre>SimpleImputer(fill_value=0, strategy='constant')</pre></div></div></div><div class=\"sk-item\"><div class=\"sk-estimator sk-toggleable\"><input class=\"sk-toggleable__control sk-hidden--visually\" id=\"90433c3e-66e5-4289-9229-bc1756205379\" type=\"checkbox\" ><label class=\"sk-toggleable__label\" for=\"90433c3e-66e5-4289-9229-bc1756205379\">RobustScaler</label><div class=\"sk-toggleable__content\"><pre>RobustScaler()</pre></div></div></div></div></div></div></div></div></div></div></div></div>"
      ],
      "text/plain": [
       "ColumnTransformer(transformers=[('cat_growth_transformer',\n",
       "                                 OneHotEncoder(handle_unknown='ignore'),\n",
       "                                 ['growth_stage_imputed']),\n",
       "                                ('ratio_transformer',\n",
       "                                 Pipeline(steps=[('imputer1',\n",
       "                                                  EmployeeImputer()),\n",
       "                                                 ('ratio',\n",
       "                                                  FunctionTransformer(func=<function <lambda> at 0x126390310>)),\n",
       "                                                 ('scaler', RobustScaler())]),\n",
       "                                 ['employees_latest', 'total_funding_source']),\n",
       "                                ('patent_transformer',\n",
       "                                 Pipeline(steps=[('simpleimputer',\n",
       "                                                  SimpleImputer(fill_value=0,\n",
       "                                                                strategy='constant')),\n",
       "                                                 ('robustscaler',\n",
       "                                                  RobustScaler())]),\n",
       "                                 ['nb_patents'])])"
      ]
     },
     "execution_count": 13,
     "metadata": {},
     "output_type": "execute_result"
    }
   ],
   "source": [
    "from sklearn import set_config; set_config(display='diagram')\n",
    "preprocessor"
   ]
  },
  {
   "cell_type": "code",
   "execution_count": 14,
   "metadata": {
    "ExecuteTime": {
     "end_time": "2020-12-09T09:26:53.913751Z",
     "start_time": "2020-12-09T09:26:53.908027Z"
    }
   },
   "outputs": [],
   "source": [
    "from sklearn.pipeline import Pipeline\n",
    "from sklearn.linear_model import LogisticRegression\n",
    "\n",
    "pipemodel = Pipeline(steps=[\n",
    "                            ('features', preprocessor),\n",
    "                            ('model', LogisticRegression(C = 1.52, penalty = 'l1', solver= 'liblinear'))\n",
    "                             ])"
   ]
  },
  {
   "cell_type": "code",
   "execution_count": 15,
   "metadata": {
    "ExecuteTime": {
     "end_time": "2020-12-09T09:26:56.557611Z",
     "start_time": "2020-12-09T09:26:56.051735Z"
    }
   },
   "outputs": [
    {
     "data": {
      "text/html": [
       "<style>div.sk-top-container {color: black;background-color: white;}div.sk-toggleable {background-color: white;}label.sk-toggleable__label {cursor: pointer;display: block;width: 100%;margin-bottom: 0;padding: 0.2em 0.3em;box-sizing: border-box;text-align: center;}div.sk-toggleable__content {max-height: 0;max-width: 0;overflow: hidden;text-align: left;background-color: #f0f8ff;}div.sk-toggleable__content pre {margin: 0.2em;color: black;border-radius: 0.25em;background-color: #f0f8ff;}input.sk-toggleable__control:checked~div.sk-toggleable__content {max-height: 200px;max-width: 100%;overflow: auto;}div.sk-estimator input.sk-toggleable__control:checked~label.sk-toggleable__label {background-color: #d4ebff;}div.sk-label input.sk-toggleable__control:checked~label.sk-toggleable__label {background-color: #d4ebff;}input.sk-hidden--visually {border: 0;clip: rect(1px 1px 1px 1px);clip: rect(1px, 1px, 1px, 1px);height: 1px;margin: -1px;overflow: hidden;padding: 0;position: absolute;width: 1px;}div.sk-estimator {font-family: monospace;background-color: #f0f8ff;margin: 0.25em 0.25em;border: 1px dotted black;border-radius: 0.25em;box-sizing: border-box;}div.sk-estimator:hover {background-color: #d4ebff;}div.sk-parallel-item::after {content: \"\";width: 100%;border-bottom: 1px solid gray;flex-grow: 1;}div.sk-label:hover label.sk-toggleable__label {background-color: #d4ebff;}div.sk-serial::before {content: \"\";position: absolute;border-left: 1px solid gray;box-sizing: border-box;top: 2em;bottom: 0;left: 50%;}div.sk-serial {display: flex;flex-direction: column;align-items: center;background-color: white;}div.sk-item {z-index: 1;}div.sk-parallel {display: flex;align-items: stretch;justify-content: center;background-color: white;}div.sk-parallel-item {display: flex;flex-direction: column;position: relative;background-color: white;}div.sk-parallel-item:first-child::after {align-self: flex-end;width: 50%;}div.sk-parallel-item:last-child::after {align-self: flex-start;width: 50%;}div.sk-parallel-item:only-child::after {width: 0;}div.sk-dashed-wrapped {border: 1px dashed gray;margin: 0.2em;box-sizing: border-box;padding-bottom: 0.1em;background-color: white;position: relative;}div.sk-label label {font-family: monospace;font-weight: bold;background-color: white;display: inline-block;line-height: 1.2em;}div.sk-label-container {position: relative;z-index: 2;text-align: center;}div.sk-container {display: inline-block;position: relative;}</style><div class=\"sk-top-container\"><div class=\"sk-container\"><div class=\"sk-item sk-dashed-wrapped\"><div class=\"sk-label-container\"><div class=\"sk-label sk-toggleable\"><input class=\"sk-toggleable__control sk-hidden--visually\" id=\"ee9cf8b1-47cb-4afa-bd53-396edb487e5b\" type=\"checkbox\" ><label class=\"sk-toggleable__label\" for=\"ee9cf8b1-47cb-4afa-bd53-396edb487e5b\">Pipeline</label><div class=\"sk-toggleable__content\"><pre>Pipeline(steps=[('features',\n",
       "                 ColumnTransformer(transformers=[('cat_growth_transformer',\n",
       "                                                  OneHotEncoder(handle_unknown='ignore'),\n",
       "                                                  ['growth_stage_imputed']),\n",
       "                                                 ('ratio_transformer',\n",
       "                                                  Pipeline(steps=[('imputer1',\n",
       "                                                                   EmployeeImputer()),\n",
       "                                                                  ('ratio',\n",
       "                                                                   FunctionTransformer(func=<function <lambda> at 0x126390310>)),\n",
       "                                                                  ('scaler',\n",
       "                                                                   RobustScaler())]),\n",
       "                                                  ['employees_latest',\n",
       "                                                   'total_funding_source']),\n",
       "                                                 ('patent_transformer',\n",
       "                                                  Pipeline(steps=[('simpleimputer',\n",
       "                                                                   SimpleImputer(fill_value=0,\n",
       "                                                                                 strategy='constant')),\n",
       "                                                                  ('robustscaler',\n",
       "                                                                   RobustScaler())]),\n",
       "                                                  ['nb_patents'])])),\n",
       "                ('model',\n",
       "                 LogisticRegression(C=1.52, penalty='l1', solver='liblinear'))])</pre></div></div></div><div class=\"sk-serial\"><div class=\"sk-item sk-dashed-wrapped\"><div class=\"sk-label-container\"><div class=\"sk-label sk-toggleable\"><input class=\"sk-toggleable__control sk-hidden--visually\" id=\"86e56d60-7478-4499-a360-624bed927923\" type=\"checkbox\" ><label class=\"sk-toggleable__label\" for=\"86e56d60-7478-4499-a360-624bed927923\">features: ColumnTransformer</label><div class=\"sk-toggleable__content\"><pre>ColumnTransformer(transformers=[('cat_growth_transformer',\n",
       "                                 OneHotEncoder(handle_unknown='ignore'),\n",
       "                                 ['growth_stage_imputed']),\n",
       "                                ('ratio_transformer',\n",
       "                                 Pipeline(steps=[('imputer1',\n",
       "                                                  EmployeeImputer()),\n",
       "                                                 ('ratio',\n",
       "                                                  FunctionTransformer(func=<function <lambda> at 0x126390310>)),\n",
       "                                                 ('scaler', RobustScaler())]),\n",
       "                                 ['employees_latest', 'total_funding_source']),\n",
       "                                ('patent_transformer',\n",
       "                                 Pipeline(steps=[('simpleimputer',\n",
       "                                                  SimpleImputer(fill_value=0,\n",
       "                                                                strategy='constant')),\n",
       "                                                 ('robustscaler',\n",
       "                                                  RobustScaler())]),\n",
       "                                 ['nb_patents'])])</pre></div></div></div><div class=\"sk-parallel\"><div class=\"sk-parallel-item\"><div class=\"sk-item\"><div class=\"sk-label-container\"><div class=\"sk-label sk-toggleable\"><input class=\"sk-toggleable__control sk-hidden--visually\" id=\"f8ed0ec0-49eb-43bd-b5da-f19c0477bb4b\" type=\"checkbox\" ><label class=\"sk-toggleable__label\" for=\"f8ed0ec0-49eb-43bd-b5da-f19c0477bb4b\">cat_growth_transformer</label><div class=\"sk-toggleable__content\"><pre>['growth_stage_imputed']</pre></div></div></div><div class=\"sk-serial\"><div class=\"sk-item\"><div class=\"sk-estimator sk-toggleable\"><input class=\"sk-toggleable__control sk-hidden--visually\" id=\"83dd04c4-df8d-4b64-9964-cba708053c8c\" type=\"checkbox\" ><label class=\"sk-toggleable__label\" for=\"83dd04c4-df8d-4b64-9964-cba708053c8c\">OneHotEncoder</label><div class=\"sk-toggleable__content\"><pre>OneHotEncoder(handle_unknown='ignore')</pre></div></div></div></div></div></div><div class=\"sk-parallel-item\"><div class=\"sk-item\"><div class=\"sk-label-container\"><div class=\"sk-label sk-toggleable\"><input class=\"sk-toggleable__control sk-hidden--visually\" id=\"99e49afd-49a2-4d73-9761-01b99965520c\" type=\"checkbox\" ><label class=\"sk-toggleable__label\" for=\"99e49afd-49a2-4d73-9761-01b99965520c\">ratio_transformer</label><div class=\"sk-toggleable__content\"><pre>['employees_latest', 'total_funding_source']</pre></div></div></div><div class=\"sk-serial\"><div class=\"sk-item\"><div class=\"sk-serial\"><div class=\"sk-item\"><div class=\"sk-estimator sk-toggleable\"><input class=\"sk-toggleable__control sk-hidden--visually\" id=\"96822c12-204b-4b95-99f3-78f379ff502f\" type=\"checkbox\" ><label class=\"sk-toggleable__label\" for=\"96822c12-204b-4b95-99f3-78f379ff502f\">EmployeeImputer</label><div class=\"sk-toggleable__content\"><pre>EmployeeImputer()</pre></div></div></div><div class=\"sk-item\"><div class=\"sk-estimator sk-toggleable\"><input class=\"sk-toggleable__control sk-hidden--visually\" id=\"3087802b-c613-4821-880d-d636c7f8364b\" type=\"checkbox\" ><label class=\"sk-toggleable__label\" for=\"3087802b-c613-4821-880d-d636c7f8364b\">FunctionTransformer</label><div class=\"sk-toggleable__content\"><pre>FunctionTransformer(func=<function <lambda> at 0x126390310>)</pre></div></div></div><div class=\"sk-item\"><div class=\"sk-estimator sk-toggleable\"><input class=\"sk-toggleable__control sk-hidden--visually\" id=\"2eeb9a8b-e8b4-47bb-8c63-c3925ea5b367\" type=\"checkbox\" ><label class=\"sk-toggleable__label\" for=\"2eeb9a8b-e8b4-47bb-8c63-c3925ea5b367\">RobustScaler</label><div class=\"sk-toggleable__content\"><pre>RobustScaler()</pre></div></div></div></div></div></div></div></div><div class=\"sk-parallel-item\"><div class=\"sk-item\"><div class=\"sk-label-container\"><div class=\"sk-label sk-toggleable\"><input class=\"sk-toggleable__control sk-hidden--visually\" id=\"694a0a4f-8d17-4d64-bf3a-5b147ef7f129\" type=\"checkbox\" ><label class=\"sk-toggleable__label\" for=\"694a0a4f-8d17-4d64-bf3a-5b147ef7f129\">patent_transformer</label><div class=\"sk-toggleable__content\"><pre>['nb_patents']</pre></div></div></div><div class=\"sk-serial\"><div class=\"sk-item\"><div class=\"sk-serial\"><div class=\"sk-item\"><div class=\"sk-estimator sk-toggleable\"><input class=\"sk-toggleable__control sk-hidden--visually\" id=\"70fb33eb-5a11-4719-89c3-987c1b8c47f0\" type=\"checkbox\" ><label class=\"sk-toggleable__label\" for=\"70fb33eb-5a11-4719-89c3-987c1b8c47f0\">SimpleImputer</label><div class=\"sk-toggleable__content\"><pre>SimpleImputer(fill_value=0, strategy='constant')</pre></div></div></div><div class=\"sk-item\"><div class=\"sk-estimator sk-toggleable\"><input class=\"sk-toggleable__control sk-hidden--visually\" id=\"526dcd9f-5bbc-45b3-9181-fbb4b152b247\" type=\"checkbox\" ><label class=\"sk-toggleable__label\" for=\"526dcd9f-5bbc-45b3-9181-fbb4b152b247\">RobustScaler</label><div class=\"sk-toggleable__content\"><pre>RobustScaler()</pre></div></div></div></div></div></div></div></div></div></div><div class=\"sk-item\"><div class=\"sk-estimator sk-toggleable\"><input class=\"sk-toggleable__control sk-hidden--visually\" id=\"7ede6217-6b1d-43b2-9b11-4a7532f7b44c\" type=\"checkbox\" ><label class=\"sk-toggleable__label\" for=\"7ede6217-6b1d-43b2-9b11-4a7532f7b44c\">LogisticRegression</label><div class=\"sk-toggleable__content\"><pre>LogisticRegression(C=1.52, penalty='l1', solver='liblinear')</pre></div></div></div></div></div></div></div>"
      ],
      "text/plain": [
       "Pipeline(steps=[('features',\n",
       "                 ColumnTransformer(transformers=[('cat_growth_transformer',\n",
       "                                                  OneHotEncoder(handle_unknown='ignore'),\n",
       "                                                  ['growth_stage_imputed']),\n",
       "                                                 ('ratio_transformer',\n",
       "                                                  Pipeline(steps=[('imputer1',\n",
       "                                                                   EmployeeImputer()),\n",
       "                                                                  ('ratio',\n",
       "                                                                   FunctionTransformer(func=<function <lambda> at 0x126390310>)),\n",
       "                                                                  ('scaler',\n",
       "                                                                   RobustScaler())]),\n",
       "                                                  ['employees_latest',\n",
       "                                                   'total_funding_source']),\n",
       "                                                 ('patent_transformer',\n",
       "                                                  Pipeline(steps=[('simpleimputer',\n",
       "                                                                   SimpleImputer(fill_value=0,\n",
       "                                                                                 strategy='constant')),\n",
       "                                                                  ('robustscaler',\n",
       "                                                                   RobustScaler())]),\n",
       "                                                  ['nb_patents'])])),\n",
       "                ('model',\n",
       "                 LogisticRegression(C=1.52, penalty='l1', solver='liblinear'))])"
      ]
     },
     "execution_count": 15,
     "metadata": {},
     "output_type": "execute_result"
    }
   ],
   "source": [
    "pipemodel"
   ]
  },
  {
   "cell_type": "code",
   "execution_count": null,
   "metadata": {},
   "outputs": [],
   "source": []
  },
  {
   "cell_type": "code",
   "execution_count": null,
   "metadata": {
    "ExecuteTime": {
     "end_time": "2020-12-09T09:07:00.192295Z",
     "start_time": "2020-12-09T09:06:59.861393Z"
    }
   },
   "outputs": [],
   "source": []
  },
  {
   "cell_type": "code",
   "execution_count": 16,
   "metadata": {
    "ExecuteTime": {
     "end_time": "2020-12-09T09:26:58.879228Z",
     "start_time": "2020-12-09T09:26:58.527551Z"
    }
   },
   "outputs": [
    {
     "ename": "AttributeError",
     "evalue": "'DataFrame' object has no attribute 'employees_clean'",
     "output_type": "error",
     "traceback": [
      "\u001b[0;31m---------------------------------------------------------------------------\u001b[0m",
      "\u001b[0;31mAttributeError\u001b[0m                            Traceback (most recent call last)",
      "\u001b[0;32m<ipython-input-16-8e7640dad532>\u001b[0m in \u001b[0;36m<module>\u001b[0;34m\u001b[0m\n\u001b[0;32m----> 1\u001b[0;31m \u001b[0mpipemodel\u001b[0m\u001b[0;34m.\u001b[0m\u001b[0mfit\u001b[0m\u001b[0;34m(\u001b[0m\u001b[0mX\u001b[0m\u001b[0;34m,\u001b[0m\u001b[0my\u001b[0m\u001b[0;34m)\u001b[0m\u001b[0;34m\u001b[0m\u001b[0;34m\u001b[0m\u001b[0m\n\u001b[0m",
      "\u001b[0;32m~/.pyenv/versions/3.8.6/envs/deep4deep2/lib/python3.8/site-packages/sklearn/pipeline.py\u001b[0m in \u001b[0;36mfit\u001b[0;34m(self, X, y, **fit_params)\u001b[0m\n\u001b[1;32m    328\u001b[0m         \"\"\"\n\u001b[1;32m    329\u001b[0m         \u001b[0mfit_params_steps\u001b[0m \u001b[0;34m=\u001b[0m \u001b[0mself\u001b[0m\u001b[0;34m.\u001b[0m\u001b[0m_check_fit_params\u001b[0m\u001b[0;34m(\u001b[0m\u001b[0;34m**\u001b[0m\u001b[0mfit_params\u001b[0m\u001b[0;34m)\u001b[0m\u001b[0;34m\u001b[0m\u001b[0;34m\u001b[0m\u001b[0m\n\u001b[0;32m--> 330\u001b[0;31m         \u001b[0mXt\u001b[0m \u001b[0;34m=\u001b[0m \u001b[0mself\u001b[0m\u001b[0;34m.\u001b[0m\u001b[0m_fit\u001b[0m\u001b[0;34m(\u001b[0m\u001b[0mX\u001b[0m\u001b[0;34m,\u001b[0m \u001b[0my\u001b[0m\u001b[0;34m,\u001b[0m \u001b[0;34m**\u001b[0m\u001b[0mfit_params_steps\u001b[0m\u001b[0;34m)\u001b[0m\u001b[0;34m\u001b[0m\u001b[0;34m\u001b[0m\u001b[0m\n\u001b[0m\u001b[1;32m    331\u001b[0m         with _print_elapsed_time('Pipeline',\n\u001b[1;32m    332\u001b[0m                                  self._log_message(len(self.steps) - 1)):\n",
      "\u001b[0;32m~/.pyenv/versions/3.8.6/envs/deep4deep2/lib/python3.8/site-packages/sklearn/pipeline.py\u001b[0m in \u001b[0;36m_fit\u001b[0;34m(self, X, y, **fit_params_steps)\u001b[0m\n\u001b[1;32m    290\u001b[0m                 \u001b[0mcloned_transformer\u001b[0m \u001b[0;34m=\u001b[0m \u001b[0mclone\u001b[0m\u001b[0;34m(\u001b[0m\u001b[0mtransformer\u001b[0m\u001b[0;34m)\u001b[0m\u001b[0;34m\u001b[0m\u001b[0;34m\u001b[0m\u001b[0m\n\u001b[1;32m    291\u001b[0m             \u001b[0;31m# Fit or load from cache the current transformer\u001b[0m\u001b[0;34m\u001b[0m\u001b[0;34m\u001b[0m\u001b[0;34m\u001b[0m\u001b[0m\n\u001b[0;32m--> 292\u001b[0;31m             X, fitted_transformer = fit_transform_one_cached(\n\u001b[0m\u001b[1;32m    293\u001b[0m                 \u001b[0mcloned_transformer\u001b[0m\u001b[0;34m,\u001b[0m \u001b[0mX\u001b[0m\u001b[0;34m,\u001b[0m \u001b[0my\u001b[0m\u001b[0;34m,\u001b[0m \u001b[0;32mNone\u001b[0m\u001b[0;34m,\u001b[0m\u001b[0;34m\u001b[0m\u001b[0;34m\u001b[0m\u001b[0m\n\u001b[1;32m    294\u001b[0m                 \u001b[0mmessage_clsname\u001b[0m\u001b[0;34m=\u001b[0m\u001b[0;34m'Pipeline'\u001b[0m\u001b[0;34m,\u001b[0m\u001b[0;34m\u001b[0m\u001b[0;34m\u001b[0m\u001b[0m\n",
      "\u001b[0;32m~/.pyenv/versions/3.8.6/envs/deep4deep2/lib/python3.8/site-packages/joblib/memory.py\u001b[0m in \u001b[0;36m__call__\u001b[0;34m(self, *args, **kwargs)\u001b[0m\n\u001b[1;32m    350\u001b[0m \u001b[0;34m\u001b[0m\u001b[0m\n\u001b[1;32m    351\u001b[0m     \u001b[0;32mdef\u001b[0m \u001b[0m__call__\u001b[0m\u001b[0;34m(\u001b[0m\u001b[0mself\u001b[0m\u001b[0;34m,\u001b[0m \u001b[0;34m*\u001b[0m\u001b[0margs\u001b[0m\u001b[0;34m,\u001b[0m \u001b[0;34m**\u001b[0m\u001b[0mkwargs\u001b[0m\u001b[0;34m)\u001b[0m\u001b[0;34m:\u001b[0m\u001b[0;34m\u001b[0m\u001b[0;34m\u001b[0m\u001b[0m\n\u001b[0;32m--> 352\u001b[0;31m         \u001b[0;32mreturn\u001b[0m \u001b[0mself\u001b[0m\u001b[0;34m.\u001b[0m\u001b[0mfunc\u001b[0m\u001b[0;34m(\u001b[0m\u001b[0;34m*\u001b[0m\u001b[0margs\u001b[0m\u001b[0;34m,\u001b[0m \u001b[0;34m**\u001b[0m\u001b[0mkwargs\u001b[0m\u001b[0;34m)\u001b[0m\u001b[0;34m\u001b[0m\u001b[0;34m\u001b[0m\u001b[0m\n\u001b[0m\u001b[1;32m    353\u001b[0m \u001b[0;34m\u001b[0m\u001b[0m\n\u001b[1;32m    354\u001b[0m     \u001b[0;32mdef\u001b[0m \u001b[0mcall_and_shelve\u001b[0m\u001b[0;34m(\u001b[0m\u001b[0mself\u001b[0m\u001b[0;34m,\u001b[0m \u001b[0;34m*\u001b[0m\u001b[0margs\u001b[0m\u001b[0;34m,\u001b[0m \u001b[0;34m**\u001b[0m\u001b[0mkwargs\u001b[0m\u001b[0;34m)\u001b[0m\u001b[0;34m:\u001b[0m\u001b[0;34m\u001b[0m\u001b[0;34m\u001b[0m\u001b[0m\n",
      "\u001b[0;32m~/.pyenv/versions/3.8.6/envs/deep4deep2/lib/python3.8/site-packages/sklearn/pipeline.py\u001b[0m in \u001b[0;36m_fit_transform_one\u001b[0;34m(transformer, X, y, weight, message_clsname, message, **fit_params)\u001b[0m\n\u001b[1;32m    738\u001b[0m     \u001b[0;32mwith\u001b[0m \u001b[0m_print_elapsed_time\u001b[0m\u001b[0;34m(\u001b[0m\u001b[0mmessage_clsname\u001b[0m\u001b[0;34m,\u001b[0m \u001b[0mmessage\u001b[0m\u001b[0;34m)\u001b[0m\u001b[0;34m:\u001b[0m\u001b[0;34m\u001b[0m\u001b[0;34m\u001b[0m\u001b[0m\n\u001b[1;32m    739\u001b[0m         \u001b[0;32mif\u001b[0m \u001b[0mhasattr\u001b[0m\u001b[0;34m(\u001b[0m\u001b[0mtransformer\u001b[0m\u001b[0;34m,\u001b[0m \u001b[0;34m'fit_transform'\u001b[0m\u001b[0;34m)\u001b[0m\u001b[0;34m:\u001b[0m\u001b[0;34m\u001b[0m\u001b[0;34m\u001b[0m\u001b[0m\n\u001b[0;32m--> 740\u001b[0;31m             \u001b[0mres\u001b[0m \u001b[0;34m=\u001b[0m \u001b[0mtransformer\u001b[0m\u001b[0;34m.\u001b[0m\u001b[0mfit_transform\u001b[0m\u001b[0;34m(\u001b[0m\u001b[0mX\u001b[0m\u001b[0;34m,\u001b[0m \u001b[0my\u001b[0m\u001b[0;34m,\u001b[0m \u001b[0;34m**\u001b[0m\u001b[0mfit_params\u001b[0m\u001b[0;34m)\u001b[0m\u001b[0;34m\u001b[0m\u001b[0;34m\u001b[0m\u001b[0m\n\u001b[0m\u001b[1;32m    741\u001b[0m         \u001b[0;32melse\u001b[0m\u001b[0;34m:\u001b[0m\u001b[0;34m\u001b[0m\u001b[0;34m\u001b[0m\u001b[0m\n\u001b[1;32m    742\u001b[0m             \u001b[0mres\u001b[0m \u001b[0;34m=\u001b[0m \u001b[0mtransformer\u001b[0m\u001b[0;34m.\u001b[0m\u001b[0mfit\u001b[0m\u001b[0;34m(\u001b[0m\u001b[0mX\u001b[0m\u001b[0;34m,\u001b[0m \u001b[0my\u001b[0m\u001b[0;34m,\u001b[0m \u001b[0;34m**\u001b[0m\u001b[0mfit_params\u001b[0m\u001b[0;34m)\u001b[0m\u001b[0;34m.\u001b[0m\u001b[0mtransform\u001b[0m\u001b[0;34m(\u001b[0m\u001b[0mX\u001b[0m\u001b[0;34m)\u001b[0m\u001b[0;34m\u001b[0m\u001b[0;34m\u001b[0m\u001b[0m\n",
      "\u001b[0;32m~/.pyenv/versions/3.8.6/envs/deep4deep2/lib/python3.8/site-packages/sklearn/compose/_column_transformer.py\u001b[0m in \u001b[0;36mfit_transform\u001b[0;34m(self, X, y)\u001b[0m\n\u001b[1;32m    529\u001b[0m         \u001b[0mself\u001b[0m\u001b[0;34m.\u001b[0m\u001b[0m_validate_remainder\u001b[0m\u001b[0;34m(\u001b[0m\u001b[0mX\u001b[0m\u001b[0;34m)\u001b[0m\u001b[0;34m\u001b[0m\u001b[0;34m\u001b[0m\u001b[0m\n\u001b[1;32m    530\u001b[0m \u001b[0;34m\u001b[0m\u001b[0m\n\u001b[0;32m--> 531\u001b[0;31m         \u001b[0mresult\u001b[0m \u001b[0;34m=\u001b[0m \u001b[0mself\u001b[0m\u001b[0;34m.\u001b[0m\u001b[0m_fit_transform\u001b[0m\u001b[0;34m(\u001b[0m\u001b[0mX\u001b[0m\u001b[0;34m,\u001b[0m \u001b[0my\u001b[0m\u001b[0;34m,\u001b[0m \u001b[0m_fit_transform_one\u001b[0m\u001b[0;34m)\u001b[0m\u001b[0;34m\u001b[0m\u001b[0;34m\u001b[0m\u001b[0m\n\u001b[0m\u001b[1;32m    532\u001b[0m \u001b[0;34m\u001b[0m\u001b[0m\n\u001b[1;32m    533\u001b[0m         \u001b[0;32mif\u001b[0m \u001b[0;32mnot\u001b[0m \u001b[0mresult\u001b[0m\u001b[0;34m:\u001b[0m\u001b[0;34m\u001b[0m\u001b[0;34m\u001b[0m\u001b[0m\n",
      "\u001b[0;32m~/.pyenv/versions/3.8.6/envs/deep4deep2/lib/python3.8/site-packages/sklearn/compose/_column_transformer.py\u001b[0m in \u001b[0;36m_fit_transform\u001b[0;34m(self, X, y, func, fitted)\u001b[0m\n\u001b[1;32m    456\u001b[0m             self._iter(fitted=fitted, replace_strings=True))\n\u001b[1;32m    457\u001b[0m         \u001b[0;32mtry\u001b[0m\u001b[0;34m:\u001b[0m\u001b[0;34m\u001b[0m\u001b[0;34m\u001b[0m\u001b[0m\n\u001b[0;32m--> 458\u001b[0;31m             return Parallel(n_jobs=self.n_jobs)(\n\u001b[0m\u001b[1;32m    459\u001b[0m                 delayed(func)(\n\u001b[1;32m    460\u001b[0m                     \u001b[0mtransformer\u001b[0m\u001b[0;34m=\u001b[0m\u001b[0mclone\u001b[0m\u001b[0;34m(\u001b[0m\u001b[0mtrans\u001b[0m\u001b[0;34m)\u001b[0m \u001b[0;32mif\u001b[0m \u001b[0;32mnot\u001b[0m \u001b[0mfitted\u001b[0m \u001b[0;32melse\u001b[0m \u001b[0mtrans\u001b[0m\u001b[0;34m,\u001b[0m\u001b[0;34m\u001b[0m\u001b[0;34m\u001b[0m\u001b[0m\n",
      "\u001b[0;32m~/.pyenv/versions/3.8.6/envs/deep4deep2/lib/python3.8/site-packages/joblib/parallel.py\u001b[0m in \u001b[0;36m__call__\u001b[0;34m(self, iterable)\u001b[0m\n\u001b[1;32m   1049\u001b[0m                 \u001b[0mself\u001b[0m\u001b[0;34m.\u001b[0m\u001b[0m_iterating\u001b[0m \u001b[0;34m=\u001b[0m \u001b[0mself\u001b[0m\u001b[0;34m.\u001b[0m\u001b[0m_original_iterator\u001b[0m \u001b[0;32mis\u001b[0m \u001b[0;32mnot\u001b[0m \u001b[0;32mNone\u001b[0m\u001b[0;34m\u001b[0m\u001b[0;34m\u001b[0m\u001b[0m\n\u001b[1;32m   1050\u001b[0m \u001b[0;34m\u001b[0m\u001b[0m\n\u001b[0;32m-> 1051\u001b[0;31m             \u001b[0;32mwhile\u001b[0m \u001b[0mself\u001b[0m\u001b[0;34m.\u001b[0m\u001b[0mdispatch_one_batch\u001b[0m\u001b[0;34m(\u001b[0m\u001b[0miterator\u001b[0m\u001b[0;34m)\u001b[0m\u001b[0;34m:\u001b[0m\u001b[0;34m\u001b[0m\u001b[0;34m\u001b[0m\u001b[0m\n\u001b[0m\u001b[1;32m   1052\u001b[0m                 \u001b[0;32mpass\u001b[0m\u001b[0;34m\u001b[0m\u001b[0;34m\u001b[0m\u001b[0m\n\u001b[1;32m   1053\u001b[0m \u001b[0;34m\u001b[0m\u001b[0m\n",
      "\u001b[0;32m~/.pyenv/versions/3.8.6/envs/deep4deep2/lib/python3.8/site-packages/joblib/parallel.py\u001b[0m in \u001b[0;36mdispatch_one_batch\u001b[0;34m(self, iterator)\u001b[0m\n\u001b[1;32m    864\u001b[0m                 \u001b[0;32mreturn\u001b[0m \u001b[0;32mFalse\u001b[0m\u001b[0;34m\u001b[0m\u001b[0;34m\u001b[0m\u001b[0m\n\u001b[1;32m    865\u001b[0m             \u001b[0;32melse\u001b[0m\u001b[0;34m:\u001b[0m\u001b[0;34m\u001b[0m\u001b[0;34m\u001b[0m\u001b[0m\n\u001b[0;32m--> 866\u001b[0;31m                 \u001b[0mself\u001b[0m\u001b[0;34m.\u001b[0m\u001b[0m_dispatch\u001b[0m\u001b[0;34m(\u001b[0m\u001b[0mtasks\u001b[0m\u001b[0;34m)\u001b[0m\u001b[0;34m\u001b[0m\u001b[0;34m\u001b[0m\u001b[0m\n\u001b[0m\u001b[1;32m    867\u001b[0m                 \u001b[0;32mreturn\u001b[0m \u001b[0;32mTrue\u001b[0m\u001b[0;34m\u001b[0m\u001b[0;34m\u001b[0m\u001b[0m\n\u001b[1;32m    868\u001b[0m \u001b[0;34m\u001b[0m\u001b[0m\n",
      "\u001b[0;32m~/.pyenv/versions/3.8.6/envs/deep4deep2/lib/python3.8/site-packages/joblib/parallel.py\u001b[0m in \u001b[0;36m_dispatch\u001b[0;34m(self, batch)\u001b[0m\n\u001b[1;32m    782\u001b[0m         \u001b[0;32mwith\u001b[0m \u001b[0mself\u001b[0m\u001b[0;34m.\u001b[0m\u001b[0m_lock\u001b[0m\u001b[0;34m:\u001b[0m\u001b[0;34m\u001b[0m\u001b[0;34m\u001b[0m\u001b[0m\n\u001b[1;32m    783\u001b[0m             \u001b[0mjob_idx\u001b[0m \u001b[0;34m=\u001b[0m \u001b[0mlen\u001b[0m\u001b[0;34m(\u001b[0m\u001b[0mself\u001b[0m\u001b[0;34m.\u001b[0m\u001b[0m_jobs\u001b[0m\u001b[0;34m)\u001b[0m\u001b[0;34m\u001b[0m\u001b[0;34m\u001b[0m\u001b[0m\n\u001b[0;32m--> 784\u001b[0;31m             \u001b[0mjob\u001b[0m \u001b[0;34m=\u001b[0m \u001b[0mself\u001b[0m\u001b[0;34m.\u001b[0m\u001b[0m_backend\u001b[0m\u001b[0;34m.\u001b[0m\u001b[0mapply_async\u001b[0m\u001b[0;34m(\u001b[0m\u001b[0mbatch\u001b[0m\u001b[0;34m,\u001b[0m \u001b[0mcallback\u001b[0m\u001b[0;34m=\u001b[0m\u001b[0mcb\u001b[0m\u001b[0;34m)\u001b[0m\u001b[0;34m\u001b[0m\u001b[0;34m\u001b[0m\u001b[0m\n\u001b[0m\u001b[1;32m    785\u001b[0m             \u001b[0;31m# A job can complete so quickly than its callback is\u001b[0m\u001b[0;34m\u001b[0m\u001b[0;34m\u001b[0m\u001b[0;34m\u001b[0m\u001b[0m\n\u001b[1;32m    786\u001b[0m             \u001b[0;31m# called before we get here, causing self._jobs to\u001b[0m\u001b[0;34m\u001b[0m\u001b[0;34m\u001b[0m\u001b[0;34m\u001b[0m\u001b[0m\n",
      "\u001b[0;32m~/.pyenv/versions/3.8.6/envs/deep4deep2/lib/python3.8/site-packages/joblib/_parallel_backends.py\u001b[0m in \u001b[0;36mapply_async\u001b[0;34m(self, func, callback)\u001b[0m\n\u001b[1;32m    206\u001b[0m     \u001b[0;32mdef\u001b[0m \u001b[0mapply_async\u001b[0m\u001b[0;34m(\u001b[0m\u001b[0mself\u001b[0m\u001b[0;34m,\u001b[0m \u001b[0mfunc\u001b[0m\u001b[0;34m,\u001b[0m \u001b[0mcallback\u001b[0m\u001b[0;34m=\u001b[0m\u001b[0;32mNone\u001b[0m\u001b[0;34m)\u001b[0m\u001b[0;34m:\u001b[0m\u001b[0;34m\u001b[0m\u001b[0;34m\u001b[0m\u001b[0m\n\u001b[1;32m    207\u001b[0m         \u001b[0;34m\"\"\"Schedule a func to be run\"\"\"\u001b[0m\u001b[0;34m\u001b[0m\u001b[0;34m\u001b[0m\u001b[0m\n\u001b[0;32m--> 208\u001b[0;31m         \u001b[0mresult\u001b[0m \u001b[0;34m=\u001b[0m \u001b[0mImmediateResult\u001b[0m\u001b[0;34m(\u001b[0m\u001b[0mfunc\u001b[0m\u001b[0;34m)\u001b[0m\u001b[0;34m\u001b[0m\u001b[0;34m\u001b[0m\u001b[0m\n\u001b[0m\u001b[1;32m    209\u001b[0m         \u001b[0;32mif\u001b[0m \u001b[0mcallback\u001b[0m\u001b[0;34m:\u001b[0m\u001b[0;34m\u001b[0m\u001b[0;34m\u001b[0m\u001b[0m\n\u001b[1;32m    210\u001b[0m             \u001b[0mcallback\u001b[0m\u001b[0;34m(\u001b[0m\u001b[0mresult\u001b[0m\u001b[0;34m)\u001b[0m\u001b[0;34m\u001b[0m\u001b[0;34m\u001b[0m\u001b[0m\n",
      "\u001b[0;32m~/.pyenv/versions/3.8.6/envs/deep4deep2/lib/python3.8/site-packages/joblib/_parallel_backends.py\u001b[0m in \u001b[0;36m__init__\u001b[0;34m(self, batch)\u001b[0m\n\u001b[1;32m    570\u001b[0m         \u001b[0;31m# Don't delay the application, to avoid keeping the input\u001b[0m\u001b[0;34m\u001b[0m\u001b[0;34m\u001b[0m\u001b[0;34m\u001b[0m\u001b[0m\n\u001b[1;32m    571\u001b[0m         \u001b[0;31m# arguments in memory\u001b[0m\u001b[0;34m\u001b[0m\u001b[0;34m\u001b[0m\u001b[0;34m\u001b[0m\u001b[0m\n\u001b[0;32m--> 572\u001b[0;31m         \u001b[0mself\u001b[0m\u001b[0;34m.\u001b[0m\u001b[0mresults\u001b[0m \u001b[0;34m=\u001b[0m \u001b[0mbatch\u001b[0m\u001b[0;34m(\u001b[0m\u001b[0;34m)\u001b[0m\u001b[0;34m\u001b[0m\u001b[0;34m\u001b[0m\u001b[0m\n\u001b[0m\u001b[1;32m    573\u001b[0m \u001b[0;34m\u001b[0m\u001b[0m\n\u001b[1;32m    574\u001b[0m     \u001b[0;32mdef\u001b[0m \u001b[0mget\u001b[0m\u001b[0;34m(\u001b[0m\u001b[0mself\u001b[0m\u001b[0;34m)\u001b[0m\u001b[0;34m:\u001b[0m\u001b[0;34m\u001b[0m\u001b[0;34m\u001b[0m\u001b[0m\n",
      "\u001b[0;32m~/.pyenv/versions/3.8.6/envs/deep4deep2/lib/python3.8/site-packages/joblib/parallel.py\u001b[0m in \u001b[0;36m__call__\u001b[0;34m(self)\u001b[0m\n\u001b[1;32m    260\u001b[0m         \u001b[0;31m# change the default number of processes to -1\u001b[0m\u001b[0;34m\u001b[0m\u001b[0;34m\u001b[0m\u001b[0;34m\u001b[0m\u001b[0m\n\u001b[1;32m    261\u001b[0m         \u001b[0;32mwith\u001b[0m \u001b[0mparallel_backend\u001b[0m\u001b[0;34m(\u001b[0m\u001b[0mself\u001b[0m\u001b[0;34m.\u001b[0m\u001b[0m_backend\u001b[0m\u001b[0;34m,\u001b[0m \u001b[0mn_jobs\u001b[0m\u001b[0;34m=\u001b[0m\u001b[0mself\u001b[0m\u001b[0;34m.\u001b[0m\u001b[0m_n_jobs\u001b[0m\u001b[0;34m)\u001b[0m\u001b[0;34m:\u001b[0m\u001b[0;34m\u001b[0m\u001b[0;34m\u001b[0m\u001b[0m\n\u001b[0;32m--> 262\u001b[0;31m             return [func(*args, **kwargs)\n\u001b[0m\u001b[1;32m    263\u001b[0m                     for func, args, kwargs in self.items]\n\u001b[1;32m    264\u001b[0m \u001b[0;34m\u001b[0m\u001b[0m\n",
      "\u001b[0;32m~/.pyenv/versions/3.8.6/envs/deep4deep2/lib/python3.8/site-packages/joblib/parallel.py\u001b[0m in \u001b[0;36m<listcomp>\u001b[0;34m(.0)\u001b[0m\n\u001b[1;32m    260\u001b[0m         \u001b[0;31m# change the default number of processes to -1\u001b[0m\u001b[0;34m\u001b[0m\u001b[0;34m\u001b[0m\u001b[0;34m\u001b[0m\u001b[0m\n\u001b[1;32m    261\u001b[0m         \u001b[0;32mwith\u001b[0m \u001b[0mparallel_backend\u001b[0m\u001b[0;34m(\u001b[0m\u001b[0mself\u001b[0m\u001b[0;34m.\u001b[0m\u001b[0m_backend\u001b[0m\u001b[0;34m,\u001b[0m \u001b[0mn_jobs\u001b[0m\u001b[0;34m=\u001b[0m\u001b[0mself\u001b[0m\u001b[0;34m.\u001b[0m\u001b[0m_n_jobs\u001b[0m\u001b[0;34m)\u001b[0m\u001b[0;34m:\u001b[0m\u001b[0;34m\u001b[0m\u001b[0;34m\u001b[0m\u001b[0m\n\u001b[0;32m--> 262\u001b[0;31m             return [func(*args, **kwargs)\n\u001b[0m\u001b[1;32m    263\u001b[0m                     for func, args, kwargs in self.items]\n\u001b[1;32m    264\u001b[0m \u001b[0;34m\u001b[0m\u001b[0m\n",
      "\u001b[0;32m~/.pyenv/versions/3.8.6/envs/deep4deep2/lib/python3.8/site-packages/sklearn/pipeline.py\u001b[0m in \u001b[0;36m_fit_transform_one\u001b[0;34m(transformer, X, y, weight, message_clsname, message, **fit_params)\u001b[0m\n\u001b[1;32m    738\u001b[0m     \u001b[0;32mwith\u001b[0m \u001b[0m_print_elapsed_time\u001b[0m\u001b[0;34m(\u001b[0m\u001b[0mmessage_clsname\u001b[0m\u001b[0;34m,\u001b[0m \u001b[0mmessage\u001b[0m\u001b[0;34m)\u001b[0m\u001b[0;34m:\u001b[0m\u001b[0;34m\u001b[0m\u001b[0;34m\u001b[0m\u001b[0m\n\u001b[1;32m    739\u001b[0m         \u001b[0;32mif\u001b[0m \u001b[0mhasattr\u001b[0m\u001b[0;34m(\u001b[0m\u001b[0mtransformer\u001b[0m\u001b[0;34m,\u001b[0m \u001b[0;34m'fit_transform'\u001b[0m\u001b[0;34m)\u001b[0m\u001b[0;34m:\u001b[0m\u001b[0;34m\u001b[0m\u001b[0;34m\u001b[0m\u001b[0m\n\u001b[0;32m--> 740\u001b[0;31m             \u001b[0mres\u001b[0m \u001b[0;34m=\u001b[0m \u001b[0mtransformer\u001b[0m\u001b[0;34m.\u001b[0m\u001b[0mfit_transform\u001b[0m\u001b[0;34m(\u001b[0m\u001b[0mX\u001b[0m\u001b[0;34m,\u001b[0m \u001b[0my\u001b[0m\u001b[0;34m,\u001b[0m \u001b[0;34m**\u001b[0m\u001b[0mfit_params\u001b[0m\u001b[0;34m)\u001b[0m\u001b[0;34m\u001b[0m\u001b[0;34m\u001b[0m\u001b[0m\n\u001b[0m\u001b[1;32m    741\u001b[0m         \u001b[0;32melse\u001b[0m\u001b[0;34m:\u001b[0m\u001b[0;34m\u001b[0m\u001b[0;34m\u001b[0m\u001b[0m\n\u001b[1;32m    742\u001b[0m             \u001b[0mres\u001b[0m \u001b[0;34m=\u001b[0m \u001b[0mtransformer\u001b[0m\u001b[0;34m.\u001b[0m\u001b[0mfit\u001b[0m\u001b[0;34m(\u001b[0m\u001b[0mX\u001b[0m\u001b[0;34m,\u001b[0m \u001b[0my\u001b[0m\u001b[0;34m,\u001b[0m \u001b[0;34m**\u001b[0m\u001b[0mfit_params\u001b[0m\u001b[0;34m)\u001b[0m\u001b[0;34m.\u001b[0m\u001b[0mtransform\u001b[0m\u001b[0;34m(\u001b[0m\u001b[0mX\u001b[0m\u001b[0;34m)\u001b[0m\u001b[0;34m\u001b[0m\u001b[0;34m\u001b[0m\u001b[0m\n",
      "\u001b[0;32m~/.pyenv/versions/3.8.6/envs/deep4deep2/lib/python3.8/site-packages/sklearn/pipeline.py\u001b[0m in \u001b[0;36mfit_transform\u001b[0;34m(self, X, y, **fit_params)\u001b[0m\n\u001b[1;32m    365\u001b[0m         \"\"\"\n\u001b[1;32m    366\u001b[0m         \u001b[0mfit_params_steps\u001b[0m \u001b[0;34m=\u001b[0m \u001b[0mself\u001b[0m\u001b[0;34m.\u001b[0m\u001b[0m_check_fit_params\u001b[0m\u001b[0;34m(\u001b[0m\u001b[0;34m**\u001b[0m\u001b[0mfit_params\u001b[0m\u001b[0;34m)\u001b[0m\u001b[0;34m\u001b[0m\u001b[0;34m\u001b[0m\u001b[0m\n\u001b[0;32m--> 367\u001b[0;31m         \u001b[0mXt\u001b[0m \u001b[0;34m=\u001b[0m \u001b[0mself\u001b[0m\u001b[0;34m.\u001b[0m\u001b[0m_fit\u001b[0m\u001b[0;34m(\u001b[0m\u001b[0mX\u001b[0m\u001b[0;34m,\u001b[0m \u001b[0my\u001b[0m\u001b[0;34m,\u001b[0m \u001b[0;34m**\u001b[0m\u001b[0mfit_params_steps\u001b[0m\u001b[0;34m)\u001b[0m\u001b[0;34m\u001b[0m\u001b[0;34m\u001b[0m\u001b[0m\n\u001b[0m\u001b[1;32m    368\u001b[0m \u001b[0;34m\u001b[0m\u001b[0m\n\u001b[1;32m    369\u001b[0m         \u001b[0mlast_step\u001b[0m \u001b[0;34m=\u001b[0m \u001b[0mself\u001b[0m\u001b[0;34m.\u001b[0m\u001b[0m_final_estimator\u001b[0m\u001b[0;34m\u001b[0m\u001b[0;34m\u001b[0m\u001b[0m\n",
      "\u001b[0;32m~/.pyenv/versions/3.8.6/envs/deep4deep2/lib/python3.8/site-packages/sklearn/pipeline.py\u001b[0m in \u001b[0;36m_fit\u001b[0;34m(self, X, y, **fit_params_steps)\u001b[0m\n\u001b[1;32m    290\u001b[0m                 \u001b[0mcloned_transformer\u001b[0m \u001b[0;34m=\u001b[0m \u001b[0mclone\u001b[0m\u001b[0;34m(\u001b[0m\u001b[0mtransformer\u001b[0m\u001b[0;34m)\u001b[0m\u001b[0;34m\u001b[0m\u001b[0;34m\u001b[0m\u001b[0m\n\u001b[1;32m    291\u001b[0m             \u001b[0;31m# Fit or load from cache the current transformer\u001b[0m\u001b[0;34m\u001b[0m\u001b[0;34m\u001b[0m\u001b[0;34m\u001b[0m\u001b[0m\n\u001b[0;32m--> 292\u001b[0;31m             X, fitted_transformer = fit_transform_one_cached(\n\u001b[0m\u001b[1;32m    293\u001b[0m                 \u001b[0mcloned_transformer\u001b[0m\u001b[0;34m,\u001b[0m \u001b[0mX\u001b[0m\u001b[0;34m,\u001b[0m \u001b[0my\u001b[0m\u001b[0;34m,\u001b[0m \u001b[0;32mNone\u001b[0m\u001b[0;34m,\u001b[0m\u001b[0;34m\u001b[0m\u001b[0;34m\u001b[0m\u001b[0m\n\u001b[1;32m    294\u001b[0m                 \u001b[0mmessage_clsname\u001b[0m\u001b[0;34m=\u001b[0m\u001b[0;34m'Pipeline'\u001b[0m\u001b[0;34m,\u001b[0m\u001b[0;34m\u001b[0m\u001b[0;34m\u001b[0m\u001b[0m\n",
      "\u001b[0;32m~/.pyenv/versions/3.8.6/envs/deep4deep2/lib/python3.8/site-packages/joblib/memory.py\u001b[0m in \u001b[0;36m__call__\u001b[0;34m(self, *args, **kwargs)\u001b[0m\n\u001b[1;32m    350\u001b[0m \u001b[0;34m\u001b[0m\u001b[0m\n\u001b[1;32m    351\u001b[0m     \u001b[0;32mdef\u001b[0m \u001b[0m__call__\u001b[0m\u001b[0;34m(\u001b[0m\u001b[0mself\u001b[0m\u001b[0;34m,\u001b[0m \u001b[0;34m*\u001b[0m\u001b[0margs\u001b[0m\u001b[0;34m,\u001b[0m \u001b[0;34m**\u001b[0m\u001b[0mkwargs\u001b[0m\u001b[0;34m)\u001b[0m\u001b[0;34m:\u001b[0m\u001b[0;34m\u001b[0m\u001b[0;34m\u001b[0m\u001b[0m\n\u001b[0;32m--> 352\u001b[0;31m         \u001b[0;32mreturn\u001b[0m \u001b[0mself\u001b[0m\u001b[0;34m.\u001b[0m\u001b[0mfunc\u001b[0m\u001b[0;34m(\u001b[0m\u001b[0;34m*\u001b[0m\u001b[0margs\u001b[0m\u001b[0;34m,\u001b[0m \u001b[0;34m**\u001b[0m\u001b[0mkwargs\u001b[0m\u001b[0;34m)\u001b[0m\u001b[0;34m\u001b[0m\u001b[0;34m\u001b[0m\u001b[0m\n\u001b[0m\u001b[1;32m    353\u001b[0m \u001b[0;34m\u001b[0m\u001b[0m\n\u001b[1;32m    354\u001b[0m     \u001b[0;32mdef\u001b[0m \u001b[0mcall_and_shelve\u001b[0m\u001b[0;34m(\u001b[0m\u001b[0mself\u001b[0m\u001b[0;34m,\u001b[0m \u001b[0;34m*\u001b[0m\u001b[0margs\u001b[0m\u001b[0;34m,\u001b[0m \u001b[0;34m**\u001b[0m\u001b[0mkwargs\u001b[0m\u001b[0;34m)\u001b[0m\u001b[0;34m:\u001b[0m\u001b[0;34m\u001b[0m\u001b[0;34m\u001b[0m\u001b[0m\n",
      "\u001b[0;32m~/.pyenv/versions/3.8.6/envs/deep4deep2/lib/python3.8/site-packages/sklearn/pipeline.py\u001b[0m in \u001b[0;36m_fit_transform_one\u001b[0;34m(transformer, X, y, weight, message_clsname, message, **fit_params)\u001b[0m\n\u001b[1;32m    738\u001b[0m     \u001b[0;32mwith\u001b[0m \u001b[0m_print_elapsed_time\u001b[0m\u001b[0;34m(\u001b[0m\u001b[0mmessage_clsname\u001b[0m\u001b[0;34m,\u001b[0m \u001b[0mmessage\u001b[0m\u001b[0;34m)\u001b[0m\u001b[0;34m:\u001b[0m\u001b[0;34m\u001b[0m\u001b[0;34m\u001b[0m\u001b[0m\n\u001b[1;32m    739\u001b[0m         \u001b[0;32mif\u001b[0m \u001b[0mhasattr\u001b[0m\u001b[0;34m(\u001b[0m\u001b[0mtransformer\u001b[0m\u001b[0;34m,\u001b[0m \u001b[0;34m'fit_transform'\u001b[0m\u001b[0;34m)\u001b[0m\u001b[0;34m:\u001b[0m\u001b[0;34m\u001b[0m\u001b[0;34m\u001b[0m\u001b[0m\n\u001b[0;32m--> 740\u001b[0;31m             \u001b[0mres\u001b[0m \u001b[0;34m=\u001b[0m \u001b[0mtransformer\u001b[0m\u001b[0;34m.\u001b[0m\u001b[0mfit_transform\u001b[0m\u001b[0;34m(\u001b[0m\u001b[0mX\u001b[0m\u001b[0;34m,\u001b[0m \u001b[0my\u001b[0m\u001b[0;34m,\u001b[0m \u001b[0;34m**\u001b[0m\u001b[0mfit_params\u001b[0m\u001b[0;34m)\u001b[0m\u001b[0;34m\u001b[0m\u001b[0;34m\u001b[0m\u001b[0m\n\u001b[0m\u001b[1;32m    741\u001b[0m         \u001b[0;32melse\u001b[0m\u001b[0;34m:\u001b[0m\u001b[0;34m\u001b[0m\u001b[0;34m\u001b[0m\u001b[0m\n\u001b[1;32m    742\u001b[0m             \u001b[0mres\u001b[0m \u001b[0;34m=\u001b[0m \u001b[0mtransformer\u001b[0m\u001b[0;34m.\u001b[0m\u001b[0mfit\u001b[0m\u001b[0;34m(\u001b[0m\u001b[0mX\u001b[0m\u001b[0;34m,\u001b[0m \u001b[0my\u001b[0m\u001b[0;34m,\u001b[0m \u001b[0;34m**\u001b[0m\u001b[0mfit_params\u001b[0m\u001b[0;34m)\u001b[0m\u001b[0;34m.\u001b[0m\u001b[0mtransform\u001b[0m\u001b[0;34m(\u001b[0m\u001b[0mX\u001b[0m\u001b[0;34m)\u001b[0m\u001b[0;34m\u001b[0m\u001b[0;34m\u001b[0m\u001b[0m\n",
      "\u001b[0;32m~/.pyenv/versions/3.8.6/envs/deep4deep2/lib/python3.8/site-packages/sklearn/base.py\u001b[0m in \u001b[0;36mfit_transform\u001b[0;34m(self, X, y, **fit_params)\u001b[0m\n\u001b[1;32m    691\u001b[0m         \u001b[0;32melse\u001b[0m\u001b[0;34m:\u001b[0m\u001b[0;34m\u001b[0m\u001b[0;34m\u001b[0m\u001b[0m\n\u001b[1;32m    692\u001b[0m             \u001b[0;31m# fit method of arity 2 (supervised transformation)\u001b[0m\u001b[0;34m\u001b[0m\u001b[0;34m\u001b[0m\u001b[0;34m\u001b[0m\u001b[0m\n\u001b[0;32m--> 693\u001b[0;31m             \u001b[0;32mreturn\u001b[0m \u001b[0mself\u001b[0m\u001b[0;34m.\u001b[0m\u001b[0mfit\u001b[0m\u001b[0;34m(\u001b[0m\u001b[0mX\u001b[0m\u001b[0;34m,\u001b[0m \u001b[0my\u001b[0m\u001b[0;34m,\u001b[0m \u001b[0;34m**\u001b[0m\u001b[0mfit_params\u001b[0m\u001b[0;34m)\u001b[0m\u001b[0;34m.\u001b[0m\u001b[0mtransform\u001b[0m\u001b[0;34m(\u001b[0m\u001b[0mX\u001b[0m\u001b[0;34m)\u001b[0m\u001b[0;34m\u001b[0m\u001b[0;34m\u001b[0m\u001b[0m\n\u001b[0m\u001b[1;32m    694\u001b[0m \u001b[0;34m\u001b[0m\u001b[0m\n\u001b[1;32m    695\u001b[0m \u001b[0;34m\u001b[0m\u001b[0m\n",
      "\u001b[0;32m<ipython-input-5-4727cafdc274>\u001b[0m in \u001b[0;36mfit\u001b[0;34m(self, X, y)\u001b[0m\n\u001b[1;32m     43\u001b[0m \u001b[0;31m#         import ipdb ; ipdb.set_trace()\u001b[0m\u001b[0;34m\u001b[0m\u001b[0;34m\u001b[0m\u001b[0;34m\u001b[0m\u001b[0m\n\u001b[1;32m     44\u001b[0m         \u001b[0mdata\u001b[0m \u001b[0;34m=\u001b[0m \u001b[0mX\u001b[0m\u001b[0;34m.\u001b[0m\u001b[0mcopy\u001b[0m\u001b[0;34m(\u001b[0m\u001b[0;34m)\u001b[0m\u001b[0;34m\u001b[0m\u001b[0;34m\u001b[0m\u001b[0m\n\u001b[0;32m---> 45\u001b[0;31m         \u001b[0mdata\u001b[0m \u001b[0;34m=\u001b[0m \u001b[0mreplace_employees\u001b[0m\u001b[0;34m(\u001b[0m\u001b[0mdata\u001b[0m\u001b[0;34m)\u001b[0m\u001b[0;34m\u001b[0m\u001b[0;34m\u001b[0m\u001b[0m\n\u001b[0m\u001b[1;32m     46\u001b[0m \u001b[0;31m#         print(data)\u001b[0m\u001b[0;34m\u001b[0m\u001b[0;34m\u001b[0m\u001b[0;34m\u001b[0m\u001b[0m\n\u001b[1;32m     47\u001b[0m \u001b[0;34m\u001b[0m\u001b[0m\n",
      "\u001b[0;32m<ipython-input-5-4727cafdc274>\u001b[0m in \u001b[0;36mreplace_employees\u001b[0;34m(df)\u001b[0m\n\u001b[1;32m     29\u001b[0m \u001b[0;34m\u001b[0m\u001b[0m\n\u001b[1;32m     30\u001b[0m \u001b[0;32mdef\u001b[0m \u001b[0mreplace_employees\u001b[0m\u001b[0;34m(\u001b[0m\u001b[0mdf\u001b[0m\u001b[0;34m)\u001b[0m\u001b[0;34m:\u001b[0m\u001b[0;34m\u001b[0m\u001b[0;34m\u001b[0m\u001b[0m\n\u001b[0;32m---> 31\u001b[0;31m     \u001b[0mdf\u001b[0m\u001b[0;34m[\u001b[0m\u001b[0;34m\"employees_imputed\"\u001b[0m\u001b[0;34m]\u001b[0m \u001b[0;34m=\u001b[0m \u001b[0mdf\u001b[0m\u001b[0;34m.\u001b[0m\u001b[0memployees_clean\u001b[0m\u001b[0;34m\u001b[0m\u001b[0;34m\u001b[0m\u001b[0m\n\u001b[0m\u001b[1;32m     32\u001b[0m     \u001b[0mdictionary\u001b[0m \u001b[0;34m=\u001b[0m \u001b[0mcompute_employees_mean\u001b[0m\u001b[0;34m(\u001b[0m\u001b[0mdf\u001b[0m\u001b[0;34m)\u001b[0m\u001b[0;34m\u001b[0m\u001b[0;34m\u001b[0m\u001b[0m\n\u001b[1;32m     33\u001b[0m     \u001b[0;32mfor\u001b[0m \u001b[0mkey\u001b[0m\u001b[0;34m,\u001b[0m \u001b[0mvalue\u001b[0m \u001b[0;32min\u001b[0m \u001b[0mdictionary\u001b[0m\u001b[0;34m.\u001b[0m\u001b[0mitems\u001b[0m\u001b[0;34m(\u001b[0m\u001b[0;34m)\u001b[0m\u001b[0;34m:\u001b[0m\u001b[0;34m\u001b[0m\u001b[0;34m\u001b[0m\u001b[0m\n",
      "\u001b[0;32m~/.pyenv/versions/3.8.6/envs/deep4deep2/lib/python3.8/site-packages/pandas/core/generic.py\u001b[0m in \u001b[0;36m__getattr__\u001b[0;34m(self, name)\u001b[0m\n\u001b[1;32m   5137\u001b[0m             \u001b[0;32mif\u001b[0m \u001b[0mself\u001b[0m\u001b[0;34m.\u001b[0m\u001b[0m_info_axis\u001b[0m\u001b[0;34m.\u001b[0m\u001b[0m_can_hold_identifiers_and_holds_name\u001b[0m\u001b[0;34m(\u001b[0m\u001b[0mname\u001b[0m\u001b[0;34m)\u001b[0m\u001b[0;34m:\u001b[0m\u001b[0;34m\u001b[0m\u001b[0;34m\u001b[0m\u001b[0m\n\u001b[1;32m   5138\u001b[0m                 \u001b[0;32mreturn\u001b[0m \u001b[0mself\u001b[0m\u001b[0;34m[\u001b[0m\u001b[0mname\u001b[0m\u001b[0;34m]\u001b[0m\u001b[0;34m\u001b[0m\u001b[0;34m\u001b[0m\u001b[0m\n\u001b[0;32m-> 5139\u001b[0;31m             \u001b[0;32mreturn\u001b[0m \u001b[0mobject\u001b[0m\u001b[0;34m.\u001b[0m\u001b[0m__getattribute__\u001b[0m\u001b[0;34m(\u001b[0m\u001b[0mself\u001b[0m\u001b[0;34m,\u001b[0m \u001b[0mname\u001b[0m\u001b[0;34m)\u001b[0m\u001b[0;34m\u001b[0m\u001b[0;34m\u001b[0m\u001b[0m\n\u001b[0m\u001b[1;32m   5140\u001b[0m \u001b[0;34m\u001b[0m\u001b[0m\n\u001b[1;32m   5141\u001b[0m     \u001b[0;32mdef\u001b[0m \u001b[0m__setattr__\u001b[0m\u001b[0;34m(\u001b[0m\u001b[0mself\u001b[0m\u001b[0;34m,\u001b[0m \u001b[0mname\u001b[0m\u001b[0;34m:\u001b[0m \u001b[0mstr\u001b[0m\u001b[0;34m,\u001b[0m \u001b[0mvalue\u001b[0m\u001b[0;34m)\u001b[0m \u001b[0;34m->\u001b[0m \u001b[0;32mNone\u001b[0m\u001b[0;34m:\u001b[0m\u001b[0;34m\u001b[0m\u001b[0;34m\u001b[0m\u001b[0m\n",
      "\u001b[0;31mAttributeError\u001b[0m: 'DataFrame' object has no attribute 'employees_clean'"
     ]
    }
   ],
   "source": [
    "pipemodel.fit(X,y)"
   ]
  },
  {
   "cell_type": "code",
   "execution_count": null,
   "metadata": {
    "ExecuteTime": {
     "end_time": "2020-12-08T19:10:15.356566Z",
     "start_time": "2020-12-08T19:10:15.347814Z"
    }
   },
   "outputs": [],
   "source": [
    "X.isnull().sum()"
   ]
  },
  {
   "cell_type": "code",
   "execution_count": null,
   "metadata": {},
   "outputs": [],
   "source": []
  },
  {
   "cell_type": "code",
   "execution_count": null,
   "metadata": {
    "ExecuteTime": {
     "end_time": "2020-12-08T11:11:03.913002Z",
     "start_time": "2020-12-08T11:11:03.883204Z"
    }
   },
   "outputs": [],
   "source": [
    "# pd.set_option('display.max_rows', 500)\n",
    "# check = tmp.growth_stage == tmp.growth_stage_imputed\n",
    "# tmp[\"check\"] = check\n",
    "# tmp[(tmp.check == False) & (tmp.growth_stage_imputed.notna())][[\"name\", \"growth_stage\", \"growth_stage_imputed\", \"check\"]]"
   ]
  },
  {
   "cell_type": "code",
   "execution_count": null,
   "metadata": {
    "ExecuteTime": {
     "end_time": "2020-12-08T16:00:08.717927Z",
     "start_time": "2020-12-08T16:00:08.635172Z"
    }
   },
   "outputs": [],
   "source": []
  }
 ],
 "metadata": {
  "kernelspec": {
   "display_name": "Python 3",
   "language": "python",
   "name": "python3"
  },
  "language_info": {
   "codemirror_mode": {
    "name": "ipython",
    "version": 3
   },
   "file_extension": ".py",
   "mimetype": "text/x-python",
   "name": "python",
   "nbconvert_exporter": "python",
   "pygments_lexer": "ipython3",
   "version": "3.8.6"
  },
  "toc": {
   "base_numbering": 1,
   "nav_menu": {},
   "number_sections": true,
   "sideBar": true,
   "skip_h1_title": false,
   "title_cell": "Table of Contents",
   "title_sidebar": "Contents",
   "toc_cell": false,
   "toc_position": {},
   "toc_section_display": true,
   "toc_window_display": false
  },
  "varInspector": {
   "cols": {
    "lenName": 16,
    "lenType": 16,
    "lenVar": 40
   },
   "kernels_config": {
    "python": {
     "delete_cmd_postfix": "",
     "delete_cmd_prefix": "del ",
     "library": "var_list.py",
     "varRefreshCmd": "print(var_dic_list())"
    },
    "r": {
     "delete_cmd_postfix": ") ",
     "delete_cmd_prefix": "rm(",
     "library": "var_list.r",
     "varRefreshCmd": "cat(var_dic_list()) "
    }
   },
   "types_to_exclude": [
    "module",
    "function",
    "builtin_function_or_method",
    "instance",
    "_Feature"
   ],
   "window_display": false
  }
 },
 "nbformat": 4,
 "nbformat_minor": 4
}
