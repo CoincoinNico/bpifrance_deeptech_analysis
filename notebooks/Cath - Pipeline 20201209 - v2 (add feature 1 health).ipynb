{
 "cells": [
  {
   "cell_type": "code",
   "execution_count": 1,
   "metadata": {
    "ExecuteTime": {
     "end_time": "2020-12-09T13:17:27.360047Z",
     "start_time": "2020-12-09T13:17:27.285775Z"
    }
   },
   "outputs": [],
   "source": [
    "%load_ext autoreload\n",
    "%autoreload 2"
   ]
  },
  {
   "cell_type": "code",
   "execution_count": 2,
   "metadata": {
    "ExecuteTime": {
     "end_time": "2020-12-09T13:17:29.791722Z",
     "start_time": "2020-12-09T13:17:27.806509Z"
    }
   },
   "outputs": [],
   "source": [
    "import pandas as pd\n",
    "import numpy as np\n",
    "import json\n",
    "import re\n",
    "from sklearn.impute import SimpleImputer\n",
    "from sklearn.preprocessing import OneHotEncoder, RobustScaler\n",
    "import matplotlib.pyplot as plt"
   ]
  },
  {
   "cell_type": "markdown",
   "metadata": {},
   "source": [
    "# Convert the json data in string (transformed by the pd.read_csv) to string "
   ]
  },
  {
   "cell_type": "code",
   "execution_count": 265,
   "metadata": {
    "ExecuteTime": {
     "end_time": "2020-12-09T16:39:15.397188Z",
     "start_time": "2020-12-09T16:39:15.369054Z"
    }
   },
   "outputs": [],
   "source": [
    "def load_json_field(bad_json):\n",
    "    regex = r\"\\w\\'\\w\"\n",
    "    subst = \"\"\n",
    "    bad_json = re.sub(regex, subst, bad_json)\n",
    "    bad_json = bad_json.replace(\"d' Arrouzat\", \"darrouzat\")\n",
    "    good_json = bad_json.replace(\"\\'\", \"\\\"\").replace(\"None\", \"null\").replace(\"True\", \"true\").replace(\"False\", \"false\")\n",
    "    \n",
    "    return json.loads(good_json)"
   ]
  },
  {
   "cell_type": "code",
   "execution_count": 266,
   "metadata": {
    "ExecuteTime": {
     "end_time": "2020-12-09T16:39:21.030111Z",
     "start_time": "2020-12-09T16:39:20.273754Z"
    }
   },
   "outputs": [],
   "source": [
    "data = pd.read_csv(\"../bpideep/rawdata/data2020-12-03.csv\")\n",
    "data[\"team\"] = data[\"team\"].apply(load_json_field)\n",
    "data[\"industries\"] = data[\"industries\"].apply(load_json_field)\n",
    "data[\"investors\"] = data[\"investors\"].apply(load_json_field)\n",
    "data[\"fundings\"] = data[\"fundings\"].apply(load_json_field)"
   ]
  },
  {
   "cell_type": "code",
   "execution_count": null,
   "metadata": {},
   "outputs": [],
   "source": []
  },
  {
   "cell_type": "markdown",
   "metadata": {},
   "source": [
    "# Import data + data cleaning thanks to info retrieved from Linkedin"
   ]
  },
  {
   "cell_type": "markdown",
   "metadata": {},
   "source": [
    "## DATA CLEANING"
   ]
  },
  {
   "cell_type": "code",
   "execution_count": 398,
   "metadata": {
    "ExecuteTime": {
     "end_time": "2020-12-09T17:55:26.490391Z",
     "start_time": "2020-12-09T17:55:26.352501Z"
    }
   },
   "outputs": [],
   "source": [
    "def impute_missing_launch_year(data):\n",
    "\n",
    "    names = ['Amypore',\n",
    "             'Kinnov Therapeutics',\n",
    "             'Lipofabrik',\n",
    "             'Step pharma',\n",
    "             'LiMM Therapeutics',\n",
    "             'Ilek',\n",
    "             'LysPackaging',\n",
    "             'TexiSense',\n",
    "             \"Institut de Prise en Charge de l'Obésité\",\n",
    "             'Izi Family',\n",
    "             'Arthur Dupuy',\n",
    "             'Gen.Orph',\n",
    "             'Uniris',\n",
    "             'NANOZ',\n",
    "             'Akwatyx',\n",
    "             'Black-line',\n",
    "             'Eyye',\n",
    "             \"O'Sol\",\n",
    "             'Treenox',\n",
    "             'Aqualeg',\n",
    "             'Co-assit',\n",
    "             'Wind my roof',\n",
    "             'APPARTOO',\n",
    "             'BimBamJob',\n",
    "             'Buddytherobot.com',\n",
    "             'Bcm',\n",
    "             'CCI Paris Ile de France',\n",
    "             'Datarocks',\n",
    "             'EFFICIENCIA',\n",
    "             'EONEF',\n",
    "             'FEALINX',\n",
    "             'INERIS',\n",
    "             'Marguerite',\n",
    "             'TokTokDoc',\n",
    "             'Novaquark',\n",
    "             'Peopeo',\n",
    "             'Sloclap',\n",
    "             'Swift',\n",
    "             'Sword',\n",
    "             'XT-VISION',\n",
    "             'Ryax',\n",
    "             'Sylha',\n",
    "             'Opta LP']\n",
    "\n",
    "    # inserting missing launch year and month for the 33 companies with fundraising\n",
    "    launch_years = [2018, 2015, 2012, 2014, 2018, 2016, 2015, 2010, 2011, 2016, 2015, \n",
    "                   2012, 2017, 2012, 2015, 2017, 2016, 2016, 2018, 2011, 2016, 2018, 2015, 2015, 2014, 2014, 2013,\n",
    "                   2014, 2012, 2016, 1997, 1990, 2012, 2016, 2014, 2017, 2015, 1973, 2000, 2011, 2017, 2019, 2013]\n",
    "\n",
    "    zipbObj = zip(names, launch_years)\n",
    "    launch_year_dict = dict(zipbObj)\n",
    "\n",
    "    data[\"launch_year_clean\"] = data['launch_year']\n",
    "    \n",
    "    for name, year in launch_year_dict.items() : \n",
    "        data.loc[data.name == name, \"launch_year_clean\"] = year\n",
    "    return data\n",
    "\n",
    "def get_growth_dict(df):\n",
    "    table = df[[\"growth_stage\", \"launch_year_clean\", \"id\"]].groupby(by=[\"launch_year_clean\", \"growth_stage\"]).count()\n",
    "    column = list(table.unstack(level = -1).columns)\n",
    "    growth_dict = table.unstack(level = -1).fillna(0).apply(lambda x: column[x.argmax()][1], axis = 1).to_dict()\n",
    "    \n",
    "    return growth_dict\n",
    "    \n",
    "\n",
    "def fill_missing_growth(growth_dict, growth_stage, launch_year_clean):\n",
    "   \n",
    "    if type(growth_stage) == str:\n",
    "        return growth_stage    \n",
    "    elif launch_year_clean in growth_dict:\n",
    "        return growth_dict[launch_year_clean]\n",
    "    else:\n",
    "        return growth_stage\n",
    "    \n",
    "    \n",
    "def load_json_field(bad_json):\n",
    "    regex = r\"\\w\\'\\w\"\n",
    "    subst = \"\"\n",
    "    bad_json = re.sub(regex, subst, bad_json)\n",
    "    bad_json = bad_json.replace(\"d' Arrouzat\", \"darrouzat\")\n",
    "    good_json = bad_json.replace(\"\\'\", \"\\\"\").replace(\"None\", \"null\").replace(\"True\", \"true\").replace(\"False\", \"false\")\n",
    "    \n",
    "    return json.loads(good_json)\n",
    "\n",
    "\n",
    "def get_industries(x):\n",
    "    '''\n",
    "    function that extracts info from 'industries' column through mapping\n",
    "    data['industries_list'] = data['industries'].map(lambda x: industries(x))\n",
    "    '''\n",
    "    industries_list = []\n",
    "    \n",
    "    industries = x.apply(load_json_field)\n",
    "\n",
    "    for u in range(len(industries)):\n",
    "        if len(industries[u]) > 0:\n",
    "            industries_list.append(industries[u][0]['name'])\n",
    "        else:\n",
    "            industries_list.append(\"\")\n",
    "    return industries_list\n",
    "\n",
    "def get_health(x):\n",
    "    \n",
    "    industries = get_industries(x) # list of industries\n",
    "\n",
    "    health_industry = []\n",
    "    \n",
    "    for element in industries:\n",
    "        if element == 'health':\n",
    "            health_industry.append(1)\n",
    "        else:\n",
    "            health_industry.append(0)\n",
    "    return health_industry"
   ]
  },
  {
   "cell_type": "code",
   "execution_count": 399,
   "metadata": {
    "ExecuteTime": {
     "end_time": "2020-12-09T17:55:32.185728Z",
     "start_time": "2020-12-09T17:55:31.928498Z"
    }
   },
   "outputs": [],
   "source": [
    "tmp = pd.read_csv(\"../bpideep/rawdata/data2020-12-03.csv\")"
   ]
  },
  {
   "cell_type": "markdown",
   "metadata": {
    "heading_collapsed": true
   },
   "source": [
    "## TEST cleaning"
   ]
  },
  {
   "cell_type": "code",
   "execution_count": 24,
   "metadata": {
    "ExecuteTime": {
     "end_time": "2020-12-09T13:19:38.825848Z",
     "start_time": "2020-12-09T13:19:38.615577Z"
    },
    "hidden": true
   },
   "outputs": [
    {
     "data": {
      "text/plain": [
       "(36, 94)"
      ]
     },
     "execution_count": 24,
     "metadata": {},
     "output_type": "execute_result"
    }
   ],
   "source": [
    "\n",
    "tmp = pd.read_csv(\"../bpideep/rawdata/data2020-12-03.csv\")\n",
    "tmp.drop(tmp[(tmp.id == 1787891) | (tmp.id == 1893232)].index, inplace = True)\n",
    "\n",
    "tmp[tmp.growth_stage.isna()].shape\n"
   ]
  },
  {
   "cell_type": "code",
   "execution_count": null,
   "metadata": {
    "ExecuteTime": {
     "end_time": "2020-12-09T08:43:19.223778Z",
     "start_time": "2020-12-09T08:43:19.110254Z"
    },
    "hidden": true
   },
   "outputs": [],
   "source": [
    "impute_missing_launch_year(tmp)"
   ]
  },
  {
   "cell_type": "code",
   "execution_count": null,
   "metadata": {
    "ExecuteTime": {
     "end_time": "2020-12-09T08:43:21.550976Z",
     "start_time": "2020-12-09T08:43:21.484381Z"
    },
    "hidden": true
   },
   "outputs": [],
   "source": [
    "tmp['growth_stage_imputed'] = tmp.apply(lambda row: fill_missing_growth(dico,\n",
    "                row['growth_stage'], \n",
    "                row['launch_year_clean']), \n",
    "            axis=1\n",
    "        )\n",
    "        \n"
   ]
  },
  {
   "cell_type": "markdown",
   "metadata": {
    "ExecuteTime": {
     "end_time": "2020-12-09T08:09:46.219086Z",
     "start_time": "2020-12-09T08:09:46.172169Z"
    },
    "hidden": true
   },
   "source": [
    "tmp[(tmp.growth_stage_imputed.isna())].to_csv(\"missing_launchyear_growthstage.csv\")"
   ]
  },
  {
   "cell_type": "code",
   "execution_count": null,
   "metadata": {
    "ExecuteTime": {
     "end_time": "2020-12-09T08:43:24.290205Z",
     "start_time": "2020-12-09T08:43:24.257118Z"
    },
    "hidden": true
   },
   "outputs": [],
   "source": [
    "missing_list = list(tmp[(tmp.growth_stage_imputed.isna())][\"name\"])"
   ]
  },
  {
   "cell_type": "code",
   "execution_count": null,
   "metadata": {
    "ExecuteTime": {
     "end_time": "2020-12-09T08:43:25.379392Z",
     "start_time": "2020-12-09T08:43:25.347124Z"
    },
    "hidden": true
   },
   "outputs": [],
   "source": [
    "missing_list"
   ]
  },
  {
   "cell_type": "code",
   "execution_count": null,
   "metadata": {
    "ExecuteTime": {
     "end_time": "2020-12-09T08:43:26.686868Z",
     "start_time": "2020-12-09T08:43:26.658246Z"
    },
    "hidden": true
   },
   "outputs": [],
   "source": [
    "missing_years = [2012, 2017, 2012, 2015, 2017, 2016, 2016, 2018, 2011, 2016, 2018, 2015, 2015, 2014, 2014, 2013]"
   ]
  },
  {
   "cell_type": "code",
   "execution_count": null,
   "metadata": {
    "ExecuteTime": {
     "end_time": "2020-12-09T08:43:29.700942Z",
     "start_time": "2020-12-09T08:43:29.642461Z"
    },
    "hidden": true
   },
   "outputs": [],
   "source": [
    "tmp[(tmp.growth_stage_imputed.isna())]"
   ]
  },
  {
   "cell_type": "code",
   "execution_count": null,
   "metadata": {
    "ExecuteTime": {
     "end_time": "2020-12-09T08:43:40.379571Z",
     "start_time": "2020-12-09T08:43:40.349024Z"
    },
    "hidden": true
   },
   "outputs": [],
   "source": [
    "tmp['growth_stage_imputed']"
   ]
  },
  {
   "cell_type": "markdown",
   "metadata": {},
   "source": [
    "## GET_DATA"
   ]
  },
  {
   "cell_type": "code",
   "execution_count": 404,
   "metadata": {
    "ExecuteTime": {
     "end_time": "2020-12-09T17:56:46.419061Z",
     "start_time": "2020-12-09T17:56:46.379184Z"
    }
   },
   "outputs": [],
   "source": [
    "class GetData():\n",
    "\n",
    "    def get_data():\n",
    "        data = pd.read_csv(\"../bpideep/rawdata/data2020-12-03.csv\")\n",
    "        \n",
    "#         data[\"industries\"] = data[\"industries\"].apply(load_json_field)\n",
    "        \n",
    "        #selection of need columns\n",
    "        data = data[[\"id\", \"name\", \"target\", \"deep_or_not\", \"total_funding_source\", \"employees\",\n",
    "                     \"employees_latest\", \"launch_year\", \"growth_stage\", \"linkedin_url\", \"industries\"]]\n",
    "        \n",
    "        #Health industry detection \n",
    "        data[\"health_industry\"] = pd.DataFrame(get_health(data[\"industries\"]))\n",
    "    \n",
    "        #imputing the missing launch year (only 33 done manually -> to be automatized if a new source displays it)\n",
    "        #LAUNCH_YEAR_CLEAN\n",
    "        impute_missing_launch_year(data)\n",
    "        \n",
    "        \n",
    "        \n",
    "        # drop 2 duplicated companies Lalilo and Pixyl*\n",
    "        data.drop(data[(data.id == 1787891) | (data.id == 1893232)].index, inplace = True)\n",
    "        \n",
    "        # change the \"not meaningful\" growth stage status of 15789 Insoft to mature\n",
    "        data.loc[data.id == 15789, \"growth_stage\"] = \"mature\"\n",
    "        \n",
    "        \n",
    "        #imputing missing growth_stage (mode of the launch year)\n",
    "        #GROWTH_STAGE_IMPUTED\n",
    "        growth_table = get_growth_dict(data)\n",
    "        \n",
    "#         import ipdb ; ipdb.set_trace()\n",
    "        data['growth_stage_imputed'] = data.apply(lambda row: fill_missing_growth(\n",
    "                growth_table,\n",
    "                row['growth_stage'], \n",
    "                row['launch_year_clean']), \n",
    "            axis=1\n",
    "        )\n",
    "        \n",
    "        \n",
    "        \n",
    "        #imputing missing employees values from LinkedIn scraping\n",
    "        #EMPLOYEES_CLEAN\n",
    "        missing = pd.read_csv(\"../bpideep/data/missing_employee_count.csv\")\n",
    "        data[\"employees_clean\"] = data.employees_latest\n",
    "        data.loc[data.name == \"CCI Paris Ile de France\", \"employees_clean\"] = 1793\n",
    "\n",
    "        for url in missing.linkedin_url:\n",
    "            replace_value = missing[missing.linkedin_url == url][\"check\"].iloc[0]\n",
    "            data.loc[data.linkedin_url == url, \"employees_clean\"] = replace_value\n",
    "        \n",
    "        #computing the age of companies\n",
    "        data[\"age\"] = 2020 - data.launch_year_clean\n",
    "        \n",
    "        \n",
    "        # get the number of patents\n",
    "        patent = pd.read_csv(\"../bpideep/data/patents.csv\")\n",
    "        data = pd.merge(data, patent, on= [\"id\", \"id\"], how = \"left\")\n",
    "        \n",
    "        return data\n",
    "\n",
    "#         *    \n",
    "#                 + 3 duplicated names but with different id : \n",
    "#                     1/ Lalilo : 926521 (http://www.lalilo.com/) vs. 1787891 (http://lalilo.fr) \n",
    "#             -> same launch date, french website no longer exists + observation  almost filled by NAN + same obs as the .com \n",
    "#             -> drop the french Lalilo (1787891)\n",
    "#                     2/ Pixyl : 892048 vs 1893232 (different websites mentioned but same website page when launched) \n",
    "#             -> kept  892048 because more info + the Dealroom profile was verified by Dealroom team on Sept, 1st 2020 vs. pending verification\n",
    "#                     3/ NANOZ : 1836121 vs 1660543 -> kept both as different companies but the second one is German "
   ]
  },
  {
   "cell_type": "code",
   "execution_count": 518,
   "metadata": {
    "ExecuteTime": {
     "end_time": "2020-12-09T19:10:13.422329Z",
     "start_time": "2020-12-09T19:10:12.943093Z"
    }
   },
   "outputs": [
    {
     "name": "stderr",
     "output_type": "stream",
     "text": [
      "<ipython-input-518-7faf0755a962>:4: SettingWithCopyWarning:\n",
      "\n",
      "\n",
      "A value is trying to be set on a copy of a slice from a DataFrame\n",
      "\n",
      "See the caveats in the documentation: https://pandas.pydata.org/pandas-docs/stable/user_guide/indexing.html#returning-a-view-versus-a-copy\n",
      "\n"
     ]
    }
   ],
   "source": [
    "data = GetData.get_data()\n",
    "X = data.drop(columns = [\"target\", \"deep_or_not\"])\n",
    "y = data.target\n",
    "y[y ==0.5] = 0"
   ]
  },
  {
   "cell_type": "markdown",
   "metadata": {
    "heading_collapsed": true
   },
   "source": [
    "## TEST"
   ]
  },
  {
   "cell_type": "code",
   "execution_count": null,
   "metadata": {
    "ExecuteTime": {
     "end_time": "2020-12-08T18:09:16.269102Z",
     "start_time": "2020-12-08T18:09:15.990652Z"
    },
    "hidden": true
   },
   "outputs": [],
   "source": [
    "data = GetData.get_data()"
   ]
  },
  {
   "cell_type": "code",
   "execution_count": null,
   "metadata": {
    "ExecuteTime": {
     "end_time": "2020-12-08T18:09:16.396444Z",
     "start_time": "2020-12-08T18:09:16.390994Z"
    },
    "hidden": true
   },
   "outputs": [],
   "source": [
    "data.shape"
   ]
  },
  {
   "cell_type": "code",
   "execution_count": null,
   "metadata": {
    "ExecuteTime": {
     "end_time": "2020-12-08T18:58:49.380948Z",
     "start_time": "2020-12-08T18:58:49.359874Z"
    },
    "hidden": true
   },
   "outputs": [],
   "source": [
    "data.columns"
   ]
  },
  {
   "cell_type": "code",
   "execution_count": null,
   "metadata": {
    "ExecuteTime": {
     "end_time": "2020-12-08T18:09:16.608173Z",
     "start_time": "2020-12-08T18:09:16.597872Z"
    },
    "hidden": true
   },
   "outputs": [],
   "source": [
    "data[(data.employees.notna()) & (data.employees_clean.isna())].shape"
   ]
  },
  {
   "cell_type": "markdown",
   "metadata": {
    "hidden": true
   },
   "source": [
    "présence de math.nan ?"
   ]
  },
  {
   "cell_type": "code",
   "execution_count": null,
   "metadata": {
    "ExecuteTime": {
     "end_time": "2020-12-08T18:09:17.468030Z",
     "start_time": "2020-12-08T18:09:17.431165Z"
    },
    "hidden": true
   },
   "outputs": [],
   "source": [
    "data[(data.employees.isna()) & (data.employees_clean.isna())]"
   ]
  },
  {
   "cell_type": "code",
   "execution_count": null,
   "metadata": {
    "ExecuteTime": {
     "end_time": "2020-12-08T18:09:18.006878Z",
     "start_time": "2020-12-08T18:09:17.989069Z"
    },
    "hidden": true
   },
   "outputs": [],
   "source": [
    "res = replace_employees(data)"
   ]
  },
  {
   "cell_type": "code",
   "execution_count": null,
   "metadata": {
    "ExecuteTime": {
     "end_time": "2020-12-08T18:09:18.695489Z",
     "start_time": "2020-12-08T18:09:18.678151Z"
    },
    "hidden": true,
    "scrolled": false
   },
   "outputs": [],
   "source": [
    "res[res.employees_imputed.isna()][[\"name\", \"employees_latest\", \"employees\", \"employees_clean\", \"employees_imputed\", \"launch_year_clean\"]].groupby(by = \"launch_year_clean\").count()"
   ]
  },
  {
   "cell_type": "code",
   "execution_count": null,
   "metadata": {
    "ExecuteTime": {
     "end_time": "2020-12-08T18:09:19.494865Z",
     "start_time": "2020-12-08T18:09:19.478962Z"
    },
    "hidden": true
   },
   "outputs": [],
   "source": [
    "res[(res.employees_imputed.isna()) & (res.launch_year_clean < 2010)][[\"name\", \"employees_latest\", \"employees\", \"employees_clean\", \"employees_imputed\", \"launch_year_clean\"]].groupby(by = \"launch_year_clean\").count()"
   ]
  },
  {
   "cell_type": "code",
   "execution_count": null,
   "metadata": {
    "ExecuteTime": {
     "end_time": "2020-12-08T18:09:20.371593Z",
     "start_time": "2020-12-08T18:09:20.342568Z"
    },
    "hidden": true
   },
   "outputs": [],
   "source": [
    "yg_median = res[[\"employees_imputed\", \"launch_year_clean\"]].groupby(by=[\"launch_year_clean\"]).median()\n",
    "years = data.launch_year_clean.unique()\n",
    "years = [nb for nb in years if nb >= 2010]\n",
    "\n",
    "print(yg_median)\n",
    "\n",
    "\n",
    "for year in years:\n",
    "    replace_value = yg_median.loc[(year)][0]\n",
    "    boolean_condition = ((res.launch_year_clean == year) & (res.employees_imputed.isna()))\n",
    "    res.loc[boolean_condition, \"employees_imputed\"] = replace_value\n"
   ]
  },
  {
   "cell_type": "code",
   "execution_count": null,
   "metadata": {
    "ExecuteTime": {
     "end_time": "2020-12-08T18:09:33.297797Z",
     "start_time": "2020-12-08T18:09:33.280596Z"
    },
    "hidden": true,
    "scrolled": true
   },
   "outputs": [],
   "source": [
    "res[res.employees_imputed.isna()][[\"name\", \"employees_latest\", \"employees\", \"employees_clean\", \"employees_imputed\", \"launch_year_clean\"]].groupby(by = \"launch_year_clean\").count()"
   ]
  },
  {
   "cell_type": "code",
   "execution_count": null,
   "metadata": {
    "ExecuteTime": {
     "end_time": "2020-12-08T18:11:34.782947Z",
     "start_time": "2020-12-08T18:11:34.772323Z"
    },
    "hidden": true
   },
   "outputs": [],
   "source": [
    "#median_bef_2010 \n",
    "res[res.launch_year_clean < 2010][[\"employees_imputed\"]].median()"
   ]
  },
  {
   "cell_type": "code",
   "execution_count": null,
   "metadata": {
    "ExecuteTime": {
     "end_time": "2020-12-08T18:12:05.390451Z",
     "start_time": "2020-12-08T18:12:05.380200Z"
    },
    "hidden": true
   },
   "outputs": [],
   "source": [
    "res[res.launch_year_clean.notna()][[\"employees_imputed\"]].median()"
   ]
  },
  {
   "cell_type": "markdown",
   "metadata": {},
   "source": [
    "# PIPELINE"
   ]
  },
  {
   "cell_type": "markdown",
   "metadata": {},
   "source": [
    "##### employees imputing  : age"
   ]
  },
  {
   "cell_type": "code",
   "execution_count": 10,
   "metadata": {
    "ExecuteTime": {
     "end_time": "2020-12-09T13:18:22.062803Z",
     "start_time": "2020-12-09T13:18:22.027839Z"
    }
   },
   "outputs": [],
   "source": [
    "import re\n",
    "import math\n",
    "from sklearn.base import BaseEstimator, TransformerMixin\n",
    "\n",
    "\n",
    "def average_list(range_list):\n",
    "    return sum(range_list)/len(range_list)\n",
    "\n",
    "def compute_employees_mean(data):\n",
    "    range_list = list(data.employees.unique())\n",
    "    try:\n",
    "        range_list.remove(\"n.a.\")\n",
    "    except:\n",
    "        pass\n",
    "    keys_list = []\n",
    "    means_list = []\n",
    "\n",
    "    for i in range(len(range_list)) :\n",
    "        if type(range_list[i]) == str :\n",
    "            temp = re.findall(r'\\d+', range_list[i]) \n",
    "            res = list(map(int, temp)) \n",
    "            mean = average_list(res)\n",
    "            means_list.append(mean)\n",
    "            keys_list.append(range_list[i])\n",
    "        else:\n",
    "            pass\n",
    "\n",
    "    zip_iterator = zip(keys_list, means_list)\n",
    "    range_dict = dict(zip_iterator)\n",
    "    \n",
    "    return range_dict\n",
    "\n",
    "def replace_employees(df):\n",
    "#     import ipdb ; ipdb.set_trace()\n",
    "    dictionary = compute_employees_mean(df)\n",
    "    for key, value in dictionary.items():\n",
    "        df.loc[(df.employees == key) & (df.employees_latest.isna()), \"employees_clean\"] = value\n",
    "    return df\n",
    "            \n",
    "            \n",
    "class EmployeeImputer(BaseEstimator, TransformerMixin):\n",
    "    \n",
    "    def fit(self, X, y=None):\n",
    "        \n",
    "        # impute according to the range mean\n",
    "#         import ipdb ; ipdb.set_trace()\n",
    "        data = X.copy()\n",
    "        data = replace_employees(data)\n",
    "#         print(data)\n",
    "        \n",
    "        \n",
    "        self.yg_median = data[[\"employees_clean\", \"launch_year_clean\"]].groupby(by=[\"launch_year_clean\"]).median()\n",
    "#         print(self.yg_median)\n",
    "        self.years = data.launch_year_clean.unique()\n",
    "        self.years = [nb for nb in self.years if nb >= 2010]\n",
    "#         print(self.years)\n",
    "        \n",
    "#        print(self.yg_median)\n",
    "        return self\n",
    "    \n",
    "    def transform(self, X, y=None):\n",
    "#         import ipdb ; ipdb.set_trace()\n",
    "        X = replace_employees(X)\n",
    "#         print(X)\n",
    "        \n",
    "        # impute according to the median of the companies launched after 2010\n",
    "        for year in self.years:\n",
    "            replace_value = self.yg_median.loc[(year)][0]\n",
    "            boolean_condition = ((X.launch_year_clean == year) & (X.employees_clean.isna()))\n",
    "            X.loc[boolean_condition, \"employees_clean\"] = replace_value\n",
    "        \n",
    "#         print(\"after loop : \", X)\n",
    "        \n",
    "        median_all_dataset = X[X.launch_year_clean.notna()][[\"employees_clean\"]].median()\n",
    "#         print(X.employees_imputed.isna())\n",
    "        X.loc[X.employees_clean.isna(), \"employees_clean\"] = replace_value\n",
    "\n",
    "        return X\n",
    "    \n",
    "    \n",
    "\n"
   ]
  },
  {
   "cell_type": "markdown",
   "metadata": {
    "ExecuteTime": {
     "end_time": "2020-12-09T09:28:59.862488Z",
     "start_time": "2020-12-09T09:28:59.859593Z"
    }
   },
   "source": [
    "##### TEST"
   ]
  },
  {
   "cell_type": "code",
   "execution_count": 521,
   "metadata": {
    "ExecuteTime": {
     "end_time": "2020-12-09T19:11:14.150333Z",
     "start_time": "2020-12-09T19:11:14.111759Z"
    },
    "scrolled": true
   },
   "outputs": [],
   "source": [
    "e = EmployeeImputer()"
   ]
  },
  {
   "cell_type": "markdown",
   "metadata": {
    "heading_collapsed": true
   },
   "source": [
    "##### Patent_transformer"
   ]
  },
  {
   "cell_type": "code",
   "execution_count": 11,
   "metadata": {
    "ExecuteTime": {
     "end_time": "2020-12-09T13:18:24.250500Z",
     "start_time": "2020-12-09T13:18:24.212073Z"
    },
    "hidden": true
   },
   "outputs": [],
   "source": [
    "from sklearn.pipeline import make_pipeline\n",
    "\n",
    "patent_transformer = make_pipeline(\n",
    "                                SimpleImputer(missing_values=np.nan, strategy='constant', fill_value = 0),\n",
    "                                RobustScaler())\n",
    "    \n",
    "### ROBUSTSCALER or log(1+x) ??"
   ]
  },
  {
   "cell_type": "markdown",
   "metadata": {},
   "source": [
    "##### Ratio_transformer  : funding / employees ratio"
   ]
  },
  {
   "cell_type": "code",
   "execution_count": 12,
   "metadata": {
    "ExecuteTime": {
     "end_time": "2020-12-09T13:18:25.589172Z",
     "start_time": "2020-12-09T13:18:25.564053Z"
    }
   },
   "outputs": [],
   "source": [
    "from sklearn.pipeline import FeatureUnion\n",
    "from sklearn.preprocessing import FunctionTransformer\n",
    "\n",
    "funding_employees_ratio_constructor = FunctionTransformer(\n",
    "    lambda df: pd.DataFrame(df[\"total_funding_source\"] / df[\"employees_clean\"]))\n"
   ]
  },
  {
   "cell_type": "code",
   "execution_count": 13,
   "metadata": {
    "ExecuteTime": {
     "end_time": "2020-12-09T13:18:26.814375Z",
     "start_time": "2020-12-09T13:18:26.788124Z"
    }
   },
   "outputs": [],
   "source": [
    "from sklearn.pipeline import Pipeline\n",
    "\n",
    "ratio_transformer = Pipeline([\n",
    "    (\"imputer1\", EmployeeImputer()),\n",
    "    (\"ratio\", funding_employees_ratio_constructor),\n",
    "    (\"scaler\",  RobustScaler())\n",
    "])"
   ]
  },
  {
   "cell_type": "markdown",
   "metadata": {},
   "source": [
    "##### Growth_transformer"
   ]
  },
  {
   "cell_type": "markdown",
   "metadata": {
    "heading_collapsed": true
   },
   "source": [
    "###### Age imputer"
   ]
  },
  {
   "cell_type": "code",
   "execution_count": 156,
   "metadata": {
    "ExecuteTime": {
     "end_time": "2020-12-09T14:49:00.971837Z",
     "start_time": "2020-12-09T14:49:00.923533Z"
    },
    "hidden": true
   },
   "outputs": [],
   "source": [
    "age_imputer = make_pipeline(SimpleImputer(missing_values=np.nan, strategy='mean'))"
   ]
  },
  {
   "cell_type": "markdown",
   "metadata": {},
   "source": [
    "###### Growth stage Transformer (1-4)"
   ]
  },
  {
   "cell_type": "code",
   "execution_count": 178,
   "metadata": {
    "ExecuteTime": {
     "end_time": "2020-12-09T15:07:29.306697Z",
     "start_time": "2020-12-09T15:07:29.278412Z"
    }
   },
   "outputs": [],
   "source": [
    "dictionary = {'mature' : 4, 'late growth' : 3,'early growth' : 2, 'seed' : 1}\n",
    "\n",
    "\n",
    "growth_stage_transformer = FunctionTransformer(\n",
    "    lambda df: df[['growth_stage_imputed']].applymap(lambda x: dictionary[x]))\n"
   ]
  },
  {
   "cell_type": "code",
   "execution_count": 180,
   "metadata": {
    "ExecuteTime": {
     "end_time": "2020-12-09T15:07:43.307720Z",
     "start_time": "2020-12-09T15:07:43.277566Z"
    }
   },
   "outputs": [],
   "source": [
    "growth_stage_age_preparator = ColumnTransformer([\n",
    "    [\"age_imputer\", age_imputer, [\"age\"]],\n",
    "    [\"growth_stage_transformer\", growth_stage_transformer, [\"growth_stage_imputed\"]],\n",
    "])"
   ]
  },
  {
   "cell_type": "markdown",
   "metadata": {},
   "source": [
    "###### Growth_stage_age_ratio"
   ]
  },
  {
   "cell_type": "code",
   "execution_count": 250,
   "metadata": {
    "ExecuteTime": {
     "end_time": "2020-12-09T16:14:19.648833Z",
     "start_time": "2020-12-09T16:14:19.620763Z"
    }
   },
   "outputs": [],
   "source": [
    "def compute_growth_age_ratio(arr):\n",
    "#     import ipdb ; ipdb.set_trace()\n",
    "    arr[arr[:,0]== 0, 0] = 1\n",
    "    return np.expand_dims(arr[:,1]/arr[:,0], -1)\n",
    "\n",
    "growth_stage_age_ratio_constructor = FunctionTransformer(compute_growth_age_ratio)\n"
   ]
  },
  {
   "cell_type": "code",
   "execution_count": 242,
   "metadata": {
    "ExecuteTime": {
     "end_time": "2020-12-09T16:10:01.789321Z",
     "start_time": "2020-12-09T16:10:01.750255Z"
    }
   },
   "outputs": [],
   "source": [
    "growth_transformer = Pipeline([\n",
    "    [\"growth_stage_age_preparator\", growth_stage_age_preparator], \n",
    "    [\"growth_stage_age_ratio_constructor\", growth_stage_age_ratio_constructor],\n",
    "])"
   ]
  },
  {
   "cell_type": "markdown",
   "metadata": {},
   "source": [
    "##### Health industry "
   ]
  },
  {
   "cell_type": "code",
   "execution_count": 444,
   "metadata": {
    "ExecuteTime": {
     "end_time": "2020-12-09T18:15:08.480644Z",
     "start_time": "2020-12-09T18:15:08.448899Z"
    }
   },
   "outputs": [],
   "source": [
    "class NoTransformer(BaseEstimator, TransformerMixin):\n",
    "    def fit(self, X, y=None):\n",
    "        return self\n",
    "\n",
    "    def transform(self, X):\n",
    "        return X\n",
    "\n",
    "NoTransformer = ColumnTransformer([\n",
    "    [\"identity_transformer\", NoTransformer(), [\"health_industry\"]]\n",
    "])"
   ]
  },
  {
   "cell_type": "code",
   "execution_count": null,
   "metadata": {
    "ExecuteTime": {
     "end_time": "2020-12-09T17:25:16.381952Z",
     "start_time": "2020-12-09T17:25:16.305644Z"
    }
   },
   "outputs": [],
   "source": []
  },
  {
   "cell_type": "markdown",
   "metadata": {},
   "source": [
    "##### Preprocessor"
   ]
  },
  {
   "cell_type": "code",
   "execution_count": 445,
   "metadata": {
    "ExecuteTime": {
     "end_time": "2020-12-09T18:15:14.423467Z",
     "start_time": "2020-12-09T18:15:14.387709Z"
    }
   },
   "outputs": [],
   "source": [
    "from sklearn import set_config; set_config(display='diagram')\n",
    "from sklearn.compose import ColumnTransformer\n",
    "\n",
    "preprocessor = ColumnTransformer([\n",
    "    (\"growth_transformer\", growth_transformer, [\"growth_stage_imputed\", \"age\"]),\n",
    "    (\"ratio_transformer\", ratio_transformer, [\"employees_clean\", \"employees\", \"launch_year_clean\", \"employees_latest\", \"total_funding_source\"]),\n",
    "    (\"patent_transformer\", patent_transformer, [\"nb_patents\"]),\n",
    "    (\"identity\", NoTransformer, [\"health_industry\"])\n",
    "    ])"
   ]
  },
  {
   "cell_type": "markdown",
   "metadata": {
    "ExecuteTime": {
     "end_time": "2020-12-09T14:53:55.780855Z",
     "start_time": "2020-12-09T14:53:55.752962Z"
    }
   },
   "source": [
    "##### Pipeline"
   ]
  },
  {
   "cell_type": "code",
   "execution_count": 446,
   "metadata": {
    "ExecuteTime": {
     "end_time": "2020-12-09T18:15:22.502729Z",
     "start_time": "2020-12-09T18:15:19.618346Z"
    }
   },
   "outputs": [
    {
     "data": {
      "text/html": [
       "<style>div.sk-top-container {color: black;background-color: white;}div.sk-toggleable {background-color: white;}label.sk-toggleable__label {cursor: pointer;display: block;width: 100%;margin-bottom: 0;padding: 0.2em 0.3em;box-sizing: border-box;text-align: center;}div.sk-toggleable__content {max-height: 0;max-width: 0;overflow: hidden;text-align: left;background-color: #f0f8ff;}div.sk-toggleable__content pre {margin: 0.2em;color: black;border-radius: 0.25em;background-color: #f0f8ff;}input.sk-toggleable__control:checked~div.sk-toggleable__content {max-height: 200px;max-width: 100%;overflow: auto;}div.sk-estimator input.sk-toggleable__control:checked~label.sk-toggleable__label {background-color: #d4ebff;}div.sk-label input.sk-toggleable__control:checked~label.sk-toggleable__label {background-color: #d4ebff;}input.sk-hidden--visually {border: 0;clip: rect(1px 1px 1px 1px);clip: rect(1px, 1px, 1px, 1px);height: 1px;margin: -1px;overflow: hidden;padding: 0;position: absolute;width: 1px;}div.sk-estimator {font-family: monospace;background-color: #f0f8ff;margin: 0.25em 0.25em;border: 1px dotted black;border-radius: 0.25em;box-sizing: border-box;}div.sk-estimator:hover {background-color: #d4ebff;}div.sk-parallel-item::after {content: \"\";width: 100%;border-bottom: 1px solid gray;flex-grow: 1;}div.sk-label:hover label.sk-toggleable__label {background-color: #d4ebff;}div.sk-serial::before {content: \"\";position: absolute;border-left: 1px solid gray;box-sizing: border-box;top: 2em;bottom: 0;left: 50%;}div.sk-serial {display: flex;flex-direction: column;align-items: center;background-color: white;}div.sk-item {z-index: 1;}div.sk-parallel {display: flex;align-items: stretch;justify-content: center;background-color: white;}div.sk-parallel-item {display: flex;flex-direction: column;position: relative;background-color: white;}div.sk-parallel-item:first-child::after {align-self: flex-end;width: 50%;}div.sk-parallel-item:last-child::after {align-self: flex-start;width: 50%;}div.sk-parallel-item:only-child::after {width: 0;}div.sk-dashed-wrapped {border: 1px dashed gray;margin: 0.2em;box-sizing: border-box;padding-bottom: 0.1em;background-color: white;position: relative;}div.sk-label label {font-family: monospace;font-weight: bold;background-color: white;display: inline-block;line-height: 1.2em;}div.sk-label-container {position: relative;z-index: 2;text-align: center;}div.sk-container {display: inline-block;position: relative;}</style><div class=\"sk-top-container\"><div class=\"sk-container\"><div class=\"sk-item sk-dashed-wrapped\"><div class=\"sk-label-container\"><div class=\"sk-label sk-toggleable\"><input class=\"sk-toggleable__control sk-hidden--visually\" id=\"7b6843cc-249b-4a3f-b152-6ae88ed11673\" type=\"checkbox\" ><label class=\"sk-toggleable__label\" for=\"7b6843cc-249b-4a3f-b152-6ae88ed11673\">Pipeline</label><div class=\"sk-toggleable__content\"><pre>Pipeline(steps=[('features',\n",
       "                 ColumnTransformer(transformers=[('growth_transformer',\n",
       "                                                  Pipeline(steps=[('growth_stage_age_preparator',\n",
       "                                                                   ColumnTransformer(transformers=[['age_imputer',\n",
       "                                                                                                    Pipeline(steps=[('simpleimputer',\n",
       "                                                                                                                     SimpleImputer())]),\n",
       "                                                                                                    ['age']],\n",
       "                                                                                                   ['growth_stage_transformer',\n",
       "                                                                                                    FunctionTransformer(func=<function <lambda> at 0x11d591700>),\n",
       "                                                                                                    ['growth_stage_imputed']]])...\n",
       "                                                 ('patent_transformer',\n",
       "                                                  Pipeline(steps=[('simpleimputer',\n",
       "                                                                   SimpleImputer(fill_value=0,\n",
       "                                                                                 strategy='constant')),\n",
       "                                                                  ('robustscaler',\n",
       "                                                                   RobustScaler())]),\n",
       "                                                  ['nb_patents']),\n",
       "                                                 ('identity',\n",
       "                                                  ColumnTransformer(transformers=[['identity_transformer',\n",
       "                                                                                   NoTransformer(),\n",
       "                                                                                   ['health_industry']]]),\n",
       "                                                  ['health_industry'])])),\n",
       "                ('model',\n",
       "                 LogisticRegression(C=1.52, penalty='l1', solver='liblinear'))])</pre></div></div></div><div class=\"sk-serial\"><div class=\"sk-item sk-dashed-wrapped\"><div class=\"sk-label-container\"><div class=\"sk-label sk-toggleable\"><input class=\"sk-toggleable__control sk-hidden--visually\" id=\"8f31381a-cddb-4174-bc82-c584cf092b5c\" type=\"checkbox\" ><label class=\"sk-toggleable__label\" for=\"8f31381a-cddb-4174-bc82-c584cf092b5c\">features: ColumnTransformer</label><div class=\"sk-toggleable__content\"><pre>ColumnTransformer(transformers=[('growth_transformer',\n",
       "                                 Pipeline(steps=[('growth_stage_age_preparator',\n",
       "                                                  ColumnTransformer(transformers=[['age_imputer',\n",
       "                                                                                   Pipeline(steps=[('simpleimputer',\n",
       "                                                                                                    SimpleImputer())]),\n",
       "                                                                                   ['age']],\n",
       "                                                                                  ['growth_stage_transformer',\n",
       "                                                                                   FunctionTransformer(func=<function <lambda> at 0x11d591700>),\n",
       "                                                                                   ['growth_stage_imputed']]])),\n",
       "                                                 ['growth_stage_age_ratio_c...\n",
       "                                 ['employees_clean', 'employees',\n",
       "                                  'launch_year_clean', 'employees_latest',\n",
       "                                  'total_funding_source']),\n",
       "                                ('patent_transformer',\n",
       "                                 Pipeline(steps=[('simpleimputer',\n",
       "                                                  SimpleImputer(fill_value=0,\n",
       "                                                                strategy='constant')),\n",
       "                                                 ('robustscaler',\n",
       "                                                  RobustScaler())]),\n",
       "                                 ['nb_patents']),\n",
       "                                ('identity',\n",
       "                                 ColumnTransformer(transformers=[['identity_transformer',\n",
       "                                                                  NoTransformer(),\n",
       "                                                                  ['health_industry']]]),\n",
       "                                 ['health_industry'])])</pre></div></div></div><div class=\"sk-parallel\"><div class=\"sk-parallel-item\"><div class=\"sk-item\"><div class=\"sk-label-container\"><div class=\"sk-label sk-toggleable\"><input class=\"sk-toggleable__control sk-hidden--visually\" id=\"72507c8d-b48c-451c-8585-2205553da63a\" type=\"checkbox\" ><label class=\"sk-toggleable__label\" for=\"72507c8d-b48c-451c-8585-2205553da63a\">growth_transformer</label><div class=\"sk-toggleable__content\"><pre>['growth_stage_imputed', 'age']</pre></div></div></div><div class=\"sk-serial\"><div class=\"sk-item\"><div class=\"sk-serial\"><div class=\"sk-item sk-dashed-wrapped\"><div class=\"sk-label-container\"><div class=\"sk-label sk-toggleable\"><input class=\"sk-toggleable__control sk-hidden--visually\" id=\"4d38a554-1375-4626-a080-9b18f22522a5\" type=\"checkbox\" ><label class=\"sk-toggleable__label\" for=\"4d38a554-1375-4626-a080-9b18f22522a5\">growth_stage_age_preparator: ColumnTransformer</label><div class=\"sk-toggleable__content\"><pre>ColumnTransformer(transformers=[['age_imputer',\n",
       "                                 Pipeline(steps=[('simpleimputer',\n",
       "                                                  SimpleImputer())]),\n",
       "                                 ['age']],\n",
       "                                ['growth_stage_transformer',\n",
       "                                 FunctionTransformer(func=<function <lambda> at 0x11d591700>),\n",
       "                                 ['growth_stage_imputed']]])</pre></div></div></div><div class=\"sk-parallel\"><div class=\"sk-parallel-item\"><div class=\"sk-item\"><div class=\"sk-label-container\"><div class=\"sk-label sk-toggleable\"><input class=\"sk-toggleable__control sk-hidden--visually\" id=\"d8bd306b-005d-4149-8c70-07a80f914a6f\" type=\"checkbox\" ><label class=\"sk-toggleable__label\" for=\"d8bd306b-005d-4149-8c70-07a80f914a6f\">age_imputer</label><div class=\"sk-toggleable__content\"><pre>['age']</pre></div></div></div><div class=\"sk-serial\"><div class=\"sk-item\"><div class=\"sk-serial\"><div class=\"sk-item\"><div class=\"sk-estimator sk-toggleable\"><input class=\"sk-toggleable__control sk-hidden--visually\" id=\"ea9abf5f-0e85-468e-b56b-ba7480b5b014\" type=\"checkbox\" ><label class=\"sk-toggleable__label\" for=\"ea9abf5f-0e85-468e-b56b-ba7480b5b014\">SimpleImputer</label><div class=\"sk-toggleable__content\"><pre>SimpleImputer()</pre></div></div></div></div></div></div></div></div><div class=\"sk-parallel-item\"><div class=\"sk-item\"><div class=\"sk-label-container\"><div class=\"sk-label sk-toggleable\"><input class=\"sk-toggleable__control sk-hidden--visually\" id=\"9833aa64-3216-466d-8324-ef45e6805a34\" type=\"checkbox\" ><label class=\"sk-toggleable__label\" for=\"9833aa64-3216-466d-8324-ef45e6805a34\">growth_stage_transformer</label><div class=\"sk-toggleable__content\"><pre>['growth_stage_imputed']</pre></div></div></div><div class=\"sk-serial\"><div class=\"sk-item\"><div class=\"sk-estimator sk-toggleable\"><input class=\"sk-toggleable__control sk-hidden--visually\" id=\"ef56c49f-c153-4dbd-acdf-51bcc658eb55\" type=\"checkbox\" ><label class=\"sk-toggleable__label\" for=\"ef56c49f-c153-4dbd-acdf-51bcc658eb55\">FunctionTransformer</label><div class=\"sk-toggleable__content\"><pre>FunctionTransformer(func=<function <lambda> at 0x11d591700>)</pre></div></div></div></div></div></div></div></div><div class=\"sk-item\"><div class=\"sk-estimator sk-toggleable\"><input class=\"sk-toggleable__control sk-hidden--visually\" id=\"01636a45-937a-4ba3-b5c2-836f69a1b03e\" type=\"checkbox\" ><label class=\"sk-toggleable__label\" for=\"01636a45-937a-4ba3-b5c2-836f69a1b03e\">FunctionTransformer</label><div class=\"sk-toggleable__content\"><pre>FunctionTransformer(func=<function compute_growth_age_ratio at 0x1241aa0d0>)</pre></div></div></div></div></div></div></div></div><div class=\"sk-parallel-item\"><div class=\"sk-item\"><div class=\"sk-label-container\"><div class=\"sk-label sk-toggleable\"><input class=\"sk-toggleable__control sk-hidden--visually\" id=\"16755938-2c76-4ce8-9fca-2db5c40ee379\" type=\"checkbox\" ><label class=\"sk-toggleable__label\" for=\"16755938-2c76-4ce8-9fca-2db5c40ee379\">ratio_transformer</label><div class=\"sk-toggleable__content\"><pre>['employees_clean', 'employees', 'launch_year_clean', 'employees_latest', 'total_funding_source']</pre></div></div></div><div class=\"sk-serial\"><div class=\"sk-item\"><div class=\"sk-serial\"><div class=\"sk-item\"><div class=\"sk-estimator sk-toggleable\"><input class=\"sk-toggleable__control sk-hidden--visually\" id=\"610048c9-886a-4d23-b5d9-6120171ccca4\" type=\"checkbox\" ><label class=\"sk-toggleable__label\" for=\"610048c9-886a-4d23-b5d9-6120171ccca4\">EmployeeImputer</label><div class=\"sk-toggleable__content\"><pre>EmployeeImputer()</pre></div></div></div><div class=\"sk-item\"><div class=\"sk-estimator sk-toggleable\"><input class=\"sk-toggleable__control sk-hidden--visually\" id=\"77261407-c396-473b-a2e7-a4fafe975039\" type=\"checkbox\" ><label class=\"sk-toggleable__label\" for=\"77261407-c396-473b-a2e7-a4fafe975039\">FunctionTransformer</label><div class=\"sk-toggleable__content\"><pre>FunctionTransformer(func=<function <lambda> at 0x11cb88ca0>)</pre></div></div></div><div class=\"sk-item\"><div class=\"sk-estimator sk-toggleable\"><input class=\"sk-toggleable__control sk-hidden--visually\" id=\"49cfe0a0-e019-4872-b808-f8dba67f12a9\" type=\"checkbox\" ><label class=\"sk-toggleable__label\" for=\"49cfe0a0-e019-4872-b808-f8dba67f12a9\">RobustScaler</label><div class=\"sk-toggleable__content\"><pre>RobustScaler()</pre></div></div></div></div></div></div></div></div><div class=\"sk-parallel-item\"><div class=\"sk-item\"><div class=\"sk-label-container\"><div class=\"sk-label sk-toggleable\"><input class=\"sk-toggleable__control sk-hidden--visually\" id=\"5cbee35e-d144-4705-ac18-8a9bdc1f18fc\" type=\"checkbox\" ><label class=\"sk-toggleable__label\" for=\"5cbee35e-d144-4705-ac18-8a9bdc1f18fc\">patent_transformer</label><div class=\"sk-toggleable__content\"><pre>['nb_patents']</pre></div></div></div><div class=\"sk-serial\"><div class=\"sk-item\"><div class=\"sk-serial\"><div class=\"sk-item\"><div class=\"sk-estimator sk-toggleable\"><input class=\"sk-toggleable__control sk-hidden--visually\" id=\"af848c54-4616-4df8-bf8f-c88478e0a4fb\" type=\"checkbox\" ><label class=\"sk-toggleable__label\" for=\"af848c54-4616-4df8-bf8f-c88478e0a4fb\">SimpleImputer</label><div class=\"sk-toggleable__content\"><pre>SimpleImputer(fill_value=0, strategy='constant')</pre></div></div></div><div class=\"sk-item\"><div class=\"sk-estimator sk-toggleable\"><input class=\"sk-toggleable__control sk-hidden--visually\" id=\"ee2e5f37-2c9c-4b77-8c39-b3bac36b5f2e\" type=\"checkbox\" ><label class=\"sk-toggleable__label\" for=\"ee2e5f37-2c9c-4b77-8c39-b3bac36b5f2e\">RobustScaler</label><div class=\"sk-toggleable__content\"><pre>RobustScaler()</pre></div></div></div></div></div></div></div></div><div class=\"sk-parallel-item\"><div class=\"sk-item\"><div class=\"sk-label-container\"><div class=\"sk-label sk-toggleable\"><input class=\"sk-toggleable__control sk-hidden--visually\" id=\"1d6c1921-7b18-48ce-91c7-6cc01dafadba\" type=\"checkbox\" ><label class=\"sk-toggleable__label\" for=\"1d6c1921-7b18-48ce-91c7-6cc01dafadba\">identity</label><div class=\"sk-toggleable__content\"><pre>['health_industry']</pre></div></div></div><div class=\"sk-serial\"><div class=\"sk-item sk-dashed-wrapped\"><div class=\"sk-parallel\"><div class=\"sk-parallel-item\"><div class=\"sk-item\"><div class=\"sk-label-container\"><div class=\"sk-label sk-toggleable\"><input class=\"sk-toggleable__control sk-hidden--visually\" id=\"df55c059-c3ca-4f5e-895a-b50147aa26ff\" type=\"checkbox\" ><label class=\"sk-toggleable__label\" for=\"df55c059-c3ca-4f5e-895a-b50147aa26ff\">identity_transformer</label><div class=\"sk-toggleable__content\"><pre>['health_industry']</pre></div></div></div><div class=\"sk-serial\"><div class=\"sk-item\"><div class=\"sk-estimator sk-toggleable\"><input class=\"sk-toggleable__control sk-hidden--visually\" id=\"8225c3e6-e607-4ee5-9353-93d9ed08bb54\" type=\"checkbox\" ><label class=\"sk-toggleable__label\" for=\"8225c3e6-e607-4ee5-9353-93d9ed08bb54\">NoTransformer</label><div class=\"sk-toggleable__content\"><pre>NoTransformer()</pre></div></div></div></div></div></div></div></div></div></div></div></div></div><div class=\"sk-item\"><div class=\"sk-estimator sk-toggleable\"><input class=\"sk-toggleable__control sk-hidden--visually\" id=\"bc3f4cef-80a4-4b19-979e-82e6026043f8\" type=\"checkbox\" ><label class=\"sk-toggleable__label\" for=\"bc3f4cef-80a4-4b19-979e-82e6026043f8\">LogisticRegression</label><div class=\"sk-toggleable__content\"><pre>LogisticRegression(C=1.52, penalty='l1', solver='liblinear')</pre></div></div></div></div></div></div></div>"
      ],
      "text/plain": [
       "Pipeline(steps=[('features',\n",
       "                 ColumnTransformer(transformers=[('growth_transformer',\n",
       "                                                  Pipeline(steps=[('growth_stage_age_preparator',\n",
       "                                                                   ColumnTransformer(transformers=[['age_imputer',\n",
       "                                                                                                    Pipeline(steps=[('simpleimputer',\n",
       "                                                                                                                     SimpleImputer())]),\n",
       "                                                                                                    ['age']],\n",
       "                                                                                                   ['growth_stage_transformer',\n",
       "                                                                                                    FunctionTransformer(func=<function <lambda> at 0x11d591700>),\n",
       "                                                                                                    ['growth_stage_imputed']]])...\n",
       "                                                 ('patent_transformer',\n",
       "                                                  Pipeline(steps=[('simpleimputer',\n",
       "                                                                   SimpleImputer(fill_value=0,\n",
       "                                                                                 strategy='constant')),\n",
       "                                                                  ('robustscaler',\n",
       "                                                                   RobustScaler())]),\n",
       "                                                  ['nb_patents']),\n",
       "                                                 ('identity',\n",
       "                                                  ColumnTransformer(transformers=[['identity_transformer',\n",
       "                                                                                   NoTransformer(),\n",
       "                                                                                   ['health_industry']]]),\n",
       "                                                  ['health_industry'])])),\n",
       "                ('model',\n",
       "                 LogisticRegression(C=1.52, penalty='l1', solver='liblinear'))])"
      ]
     },
     "execution_count": 446,
     "metadata": {},
     "output_type": "execute_result"
    }
   ],
   "source": [
    "from sklearn.pipeline import Pipeline\n",
    "from sklearn.linear_model import LogisticRegression\n",
    "\n",
    "pipemodel = Pipeline(steps=[\n",
    "                            ('features', preprocessor),\n",
    "                            ('model', LogisticRegression(C = 1.52, penalty = 'l1', solver= 'liblinear'))\n",
    "                             ])\n",
    "pipemodel"
   ]
  },
  {
   "cell_type": "markdown",
   "metadata": {
    "ExecuteTime": {
     "end_time": "2020-12-09T14:55:57.928507Z",
     "start_time": "2020-12-09T14:55:57.896635Z"
    }
   },
   "source": [
    "##### RUN MODEL"
   ]
  },
  {
   "cell_type": "code",
   "execution_count": 447,
   "metadata": {
    "ExecuteTime": {
     "end_time": "2020-12-09T18:15:28.244476Z",
     "start_time": "2020-12-09T18:15:27.851030Z"
    }
   },
   "outputs": [
    {
     "name": "stderr",
     "output_type": "stream",
     "text": [
      "<ipython-input-447-7faf0755a962>:4: SettingWithCopyWarning: \n",
      "A value is trying to be set on a copy of a slice from a DataFrame\n",
      "\n",
      "See the caveats in the documentation: https://pandas.pydata.org/pandas-docs/stable/user_guide/indexing.html#returning-a-view-versus-a-copy\n",
      "  y[y ==0.5] = 0\n"
     ]
    }
   ],
   "source": [
    "data = GetData.get_data()\n",
    "X = data.drop(columns = [\"target\", \"deep_or_not\"])\n",
    "y = data.target\n",
    "y[y ==0.5] = 0"
   ]
  },
  {
   "cell_type": "code",
   "execution_count": 448,
   "metadata": {
    "ExecuteTime": {
     "end_time": "2020-12-09T18:15:37.150945Z",
     "start_time": "2020-12-09T18:15:34.313142Z"
    }
   },
   "outputs": [
    {
     "data": {
      "text/html": [
       "<style>div.sk-top-container {color: black;background-color: white;}div.sk-toggleable {background-color: white;}label.sk-toggleable__label {cursor: pointer;display: block;width: 100%;margin-bottom: 0;padding: 0.2em 0.3em;box-sizing: border-box;text-align: center;}div.sk-toggleable__content {max-height: 0;max-width: 0;overflow: hidden;text-align: left;background-color: #f0f8ff;}div.sk-toggleable__content pre {margin: 0.2em;color: black;border-radius: 0.25em;background-color: #f0f8ff;}input.sk-toggleable__control:checked~div.sk-toggleable__content {max-height: 200px;max-width: 100%;overflow: auto;}div.sk-estimator input.sk-toggleable__control:checked~label.sk-toggleable__label {background-color: #d4ebff;}div.sk-label input.sk-toggleable__control:checked~label.sk-toggleable__label {background-color: #d4ebff;}input.sk-hidden--visually {border: 0;clip: rect(1px 1px 1px 1px);clip: rect(1px, 1px, 1px, 1px);height: 1px;margin: -1px;overflow: hidden;padding: 0;position: absolute;width: 1px;}div.sk-estimator {font-family: monospace;background-color: #f0f8ff;margin: 0.25em 0.25em;border: 1px dotted black;border-radius: 0.25em;box-sizing: border-box;}div.sk-estimator:hover {background-color: #d4ebff;}div.sk-parallel-item::after {content: \"\";width: 100%;border-bottom: 1px solid gray;flex-grow: 1;}div.sk-label:hover label.sk-toggleable__label {background-color: #d4ebff;}div.sk-serial::before {content: \"\";position: absolute;border-left: 1px solid gray;box-sizing: border-box;top: 2em;bottom: 0;left: 50%;}div.sk-serial {display: flex;flex-direction: column;align-items: center;background-color: white;}div.sk-item {z-index: 1;}div.sk-parallel {display: flex;align-items: stretch;justify-content: center;background-color: white;}div.sk-parallel-item {display: flex;flex-direction: column;position: relative;background-color: white;}div.sk-parallel-item:first-child::after {align-self: flex-end;width: 50%;}div.sk-parallel-item:last-child::after {align-self: flex-start;width: 50%;}div.sk-parallel-item:only-child::after {width: 0;}div.sk-dashed-wrapped {border: 1px dashed gray;margin: 0.2em;box-sizing: border-box;padding-bottom: 0.1em;background-color: white;position: relative;}div.sk-label label {font-family: monospace;font-weight: bold;background-color: white;display: inline-block;line-height: 1.2em;}div.sk-label-container {position: relative;z-index: 2;text-align: center;}div.sk-container {display: inline-block;position: relative;}</style><div class=\"sk-top-container\"><div class=\"sk-container\"><div class=\"sk-item sk-dashed-wrapped\"><div class=\"sk-label-container\"><div class=\"sk-label sk-toggleable\"><input class=\"sk-toggleable__control sk-hidden--visually\" id=\"b731d416-aea3-4e7b-9d75-230a3adabaef\" type=\"checkbox\" ><label class=\"sk-toggleable__label\" for=\"b731d416-aea3-4e7b-9d75-230a3adabaef\">Pipeline</label><div class=\"sk-toggleable__content\"><pre>Pipeline(steps=[('features',\n",
       "                 ColumnTransformer(transformers=[('growth_transformer',\n",
       "                                                  Pipeline(steps=[('growth_stage_age_preparator',\n",
       "                                                                   ColumnTransformer(transformers=[['age_imputer',\n",
       "                                                                                                    Pipeline(steps=[('simpleimputer',\n",
       "                                                                                                                     SimpleImputer())]),\n",
       "                                                                                                    ['age']],\n",
       "                                                                                                   ['growth_stage_transformer',\n",
       "                                                                                                    FunctionTransformer(func=<function <lambda> at 0x11d591700>),\n",
       "                                                                                                    ['growth_stage_imputed']]])...\n",
       "                                                 ('patent_transformer',\n",
       "                                                  Pipeline(steps=[('simpleimputer',\n",
       "                                                                   SimpleImputer(fill_value=0,\n",
       "                                                                                 strategy='constant')),\n",
       "                                                                  ('robustscaler',\n",
       "                                                                   RobustScaler())]),\n",
       "                                                  ['nb_patents']),\n",
       "                                                 ('identity',\n",
       "                                                  ColumnTransformer(transformers=[['identity_transformer',\n",
       "                                                                                   NoTransformer(),\n",
       "                                                                                   ['health_industry']]]),\n",
       "                                                  ['health_industry'])])),\n",
       "                ('model',\n",
       "                 LogisticRegression(C=1.52, penalty='l1', solver='liblinear'))])</pre></div></div></div><div class=\"sk-serial\"><div class=\"sk-item sk-dashed-wrapped\"><div class=\"sk-label-container\"><div class=\"sk-label sk-toggleable\"><input class=\"sk-toggleable__control sk-hidden--visually\" id=\"d2f40eb7-beee-43ce-9a38-99c06b0940e8\" type=\"checkbox\" ><label class=\"sk-toggleable__label\" for=\"d2f40eb7-beee-43ce-9a38-99c06b0940e8\">features: ColumnTransformer</label><div class=\"sk-toggleable__content\"><pre>ColumnTransformer(transformers=[('growth_transformer',\n",
       "                                 Pipeline(steps=[('growth_stage_age_preparator',\n",
       "                                                  ColumnTransformer(transformers=[['age_imputer',\n",
       "                                                                                   Pipeline(steps=[('simpleimputer',\n",
       "                                                                                                    SimpleImputer())]),\n",
       "                                                                                   ['age']],\n",
       "                                                                                  ['growth_stage_transformer',\n",
       "                                                                                   FunctionTransformer(func=<function <lambda> at 0x11d591700>),\n",
       "                                                                                   ['growth_stage_imputed']]])),\n",
       "                                                 ['growth_stage_age_ratio_c...\n",
       "                                 ['employees_clean', 'employees',\n",
       "                                  'launch_year_clean', 'employees_latest',\n",
       "                                  'total_funding_source']),\n",
       "                                ('patent_transformer',\n",
       "                                 Pipeline(steps=[('simpleimputer',\n",
       "                                                  SimpleImputer(fill_value=0,\n",
       "                                                                strategy='constant')),\n",
       "                                                 ('robustscaler',\n",
       "                                                  RobustScaler())]),\n",
       "                                 ['nb_patents']),\n",
       "                                ('identity',\n",
       "                                 ColumnTransformer(transformers=[['identity_transformer',\n",
       "                                                                  NoTransformer(),\n",
       "                                                                  ['health_industry']]]),\n",
       "                                 ['health_industry'])])</pre></div></div></div><div class=\"sk-parallel\"><div class=\"sk-parallel-item\"><div class=\"sk-item\"><div class=\"sk-label-container\"><div class=\"sk-label sk-toggleable\"><input class=\"sk-toggleable__control sk-hidden--visually\" id=\"bdff4641-bbed-44df-aeb0-ec28ae190a2f\" type=\"checkbox\" ><label class=\"sk-toggleable__label\" for=\"bdff4641-bbed-44df-aeb0-ec28ae190a2f\">growth_transformer</label><div class=\"sk-toggleable__content\"><pre>['growth_stage_imputed', 'age']</pre></div></div></div><div class=\"sk-serial\"><div class=\"sk-item\"><div class=\"sk-serial\"><div class=\"sk-item sk-dashed-wrapped\"><div class=\"sk-label-container\"><div class=\"sk-label sk-toggleable\"><input class=\"sk-toggleable__control sk-hidden--visually\" id=\"0fcf0f3b-da54-41a9-a408-371fb3e09e72\" type=\"checkbox\" ><label class=\"sk-toggleable__label\" for=\"0fcf0f3b-da54-41a9-a408-371fb3e09e72\">growth_stage_age_preparator: ColumnTransformer</label><div class=\"sk-toggleable__content\"><pre>ColumnTransformer(transformers=[['age_imputer',\n",
       "                                 Pipeline(steps=[('simpleimputer',\n",
       "                                                  SimpleImputer())]),\n",
       "                                 ['age']],\n",
       "                                ['growth_stage_transformer',\n",
       "                                 FunctionTransformer(func=<function <lambda> at 0x11d591700>),\n",
       "                                 ['growth_stage_imputed']]])</pre></div></div></div><div class=\"sk-parallel\"><div class=\"sk-parallel-item\"><div class=\"sk-item\"><div class=\"sk-label-container\"><div class=\"sk-label sk-toggleable\"><input class=\"sk-toggleable__control sk-hidden--visually\" id=\"fecd34d7-2abe-44a8-9057-07c7d633e921\" type=\"checkbox\" ><label class=\"sk-toggleable__label\" for=\"fecd34d7-2abe-44a8-9057-07c7d633e921\">age_imputer</label><div class=\"sk-toggleable__content\"><pre>['age']</pre></div></div></div><div class=\"sk-serial\"><div class=\"sk-item\"><div class=\"sk-serial\"><div class=\"sk-item\"><div class=\"sk-estimator sk-toggleable\"><input class=\"sk-toggleable__control sk-hidden--visually\" id=\"201f1c06-fca4-4bcb-810b-616d0efd7a9a\" type=\"checkbox\" ><label class=\"sk-toggleable__label\" for=\"201f1c06-fca4-4bcb-810b-616d0efd7a9a\">SimpleImputer</label><div class=\"sk-toggleable__content\"><pre>SimpleImputer()</pre></div></div></div></div></div></div></div></div><div class=\"sk-parallel-item\"><div class=\"sk-item\"><div class=\"sk-label-container\"><div class=\"sk-label sk-toggleable\"><input class=\"sk-toggleable__control sk-hidden--visually\" id=\"0cbb0710-fb05-4fba-bddd-b2d7e6e60cd1\" type=\"checkbox\" ><label class=\"sk-toggleable__label\" for=\"0cbb0710-fb05-4fba-bddd-b2d7e6e60cd1\">growth_stage_transformer</label><div class=\"sk-toggleable__content\"><pre>['growth_stage_imputed']</pre></div></div></div><div class=\"sk-serial\"><div class=\"sk-item\"><div class=\"sk-estimator sk-toggleable\"><input class=\"sk-toggleable__control sk-hidden--visually\" id=\"a1042218-df7c-47c8-af04-d1b28544362e\" type=\"checkbox\" ><label class=\"sk-toggleable__label\" for=\"a1042218-df7c-47c8-af04-d1b28544362e\">FunctionTransformer</label><div class=\"sk-toggleable__content\"><pre>FunctionTransformer(func=<function <lambda> at 0x11d591700>)</pre></div></div></div></div></div></div></div></div><div class=\"sk-item\"><div class=\"sk-estimator sk-toggleable\"><input class=\"sk-toggleable__control sk-hidden--visually\" id=\"20565f95-3d1e-48bb-87f3-671d710bd9f8\" type=\"checkbox\" ><label class=\"sk-toggleable__label\" for=\"20565f95-3d1e-48bb-87f3-671d710bd9f8\">FunctionTransformer</label><div class=\"sk-toggleable__content\"><pre>FunctionTransformer(func=<function compute_growth_age_ratio at 0x1241aa0d0>)</pre></div></div></div></div></div></div></div></div><div class=\"sk-parallel-item\"><div class=\"sk-item\"><div class=\"sk-label-container\"><div class=\"sk-label sk-toggleable\"><input class=\"sk-toggleable__control sk-hidden--visually\" id=\"18f947df-a722-425b-a0e8-6f39ddd8ffc9\" type=\"checkbox\" ><label class=\"sk-toggleable__label\" for=\"18f947df-a722-425b-a0e8-6f39ddd8ffc9\">ratio_transformer</label><div class=\"sk-toggleable__content\"><pre>['employees_clean', 'employees', 'launch_year_clean', 'employees_latest', 'total_funding_source']</pre></div></div></div><div class=\"sk-serial\"><div class=\"sk-item\"><div class=\"sk-serial\"><div class=\"sk-item\"><div class=\"sk-estimator sk-toggleable\"><input class=\"sk-toggleable__control sk-hidden--visually\" id=\"caa9ea40-27f6-43fd-9673-3c20c3de635a\" type=\"checkbox\" ><label class=\"sk-toggleable__label\" for=\"caa9ea40-27f6-43fd-9673-3c20c3de635a\">EmployeeImputer</label><div class=\"sk-toggleable__content\"><pre>EmployeeImputer()</pre></div></div></div><div class=\"sk-item\"><div class=\"sk-estimator sk-toggleable\"><input class=\"sk-toggleable__control sk-hidden--visually\" id=\"c31f14c3-a8bc-401c-910a-d2a2c32e77c3\" type=\"checkbox\" ><label class=\"sk-toggleable__label\" for=\"c31f14c3-a8bc-401c-910a-d2a2c32e77c3\">FunctionTransformer</label><div class=\"sk-toggleable__content\"><pre>FunctionTransformer(func=<function <lambda> at 0x11cb88ca0>)</pre></div></div></div><div class=\"sk-item\"><div class=\"sk-estimator sk-toggleable\"><input class=\"sk-toggleable__control sk-hidden--visually\" id=\"84b287b7-f44e-4073-ba97-a351519d6d41\" type=\"checkbox\" ><label class=\"sk-toggleable__label\" for=\"84b287b7-f44e-4073-ba97-a351519d6d41\">RobustScaler</label><div class=\"sk-toggleable__content\"><pre>RobustScaler()</pre></div></div></div></div></div></div></div></div><div class=\"sk-parallel-item\"><div class=\"sk-item\"><div class=\"sk-label-container\"><div class=\"sk-label sk-toggleable\"><input class=\"sk-toggleable__control sk-hidden--visually\" id=\"10fa19a5-9ab6-494e-ad16-9e91cd76c2af\" type=\"checkbox\" ><label class=\"sk-toggleable__label\" for=\"10fa19a5-9ab6-494e-ad16-9e91cd76c2af\">patent_transformer</label><div class=\"sk-toggleable__content\"><pre>['nb_patents']</pre></div></div></div><div class=\"sk-serial\"><div class=\"sk-item\"><div class=\"sk-serial\"><div class=\"sk-item\"><div class=\"sk-estimator sk-toggleable\"><input class=\"sk-toggleable__control sk-hidden--visually\" id=\"27557dc1-4d72-4aad-989a-e5f47d0ff24c\" type=\"checkbox\" ><label class=\"sk-toggleable__label\" for=\"27557dc1-4d72-4aad-989a-e5f47d0ff24c\">SimpleImputer</label><div class=\"sk-toggleable__content\"><pre>SimpleImputer(fill_value=0, strategy='constant')</pre></div></div></div><div class=\"sk-item\"><div class=\"sk-estimator sk-toggleable\"><input class=\"sk-toggleable__control sk-hidden--visually\" id=\"71b7841f-a605-461c-ac37-f5914731cef6\" type=\"checkbox\" ><label class=\"sk-toggleable__label\" for=\"71b7841f-a605-461c-ac37-f5914731cef6\">RobustScaler</label><div class=\"sk-toggleable__content\"><pre>RobustScaler()</pre></div></div></div></div></div></div></div></div><div class=\"sk-parallel-item\"><div class=\"sk-item\"><div class=\"sk-label-container\"><div class=\"sk-label sk-toggleable\"><input class=\"sk-toggleable__control sk-hidden--visually\" id=\"35ac79f6-62d1-4deb-b889-6a88d6b26804\" type=\"checkbox\" ><label class=\"sk-toggleable__label\" for=\"35ac79f6-62d1-4deb-b889-6a88d6b26804\">identity</label><div class=\"sk-toggleable__content\"><pre>['health_industry']</pre></div></div></div><div class=\"sk-serial\"><div class=\"sk-item sk-dashed-wrapped\"><div class=\"sk-parallel\"><div class=\"sk-parallel-item\"><div class=\"sk-item\"><div class=\"sk-label-container\"><div class=\"sk-label sk-toggleable\"><input class=\"sk-toggleable__control sk-hidden--visually\" id=\"e95effc9-6f54-4bea-be4e-ae8ec434e9f1\" type=\"checkbox\" ><label class=\"sk-toggleable__label\" for=\"e95effc9-6f54-4bea-be4e-ae8ec434e9f1\">identity_transformer</label><div class=\"sk-toggleable__content\"><pre>['health_industry']</pre></div></div></div><div class=\"sk-serial\"><div class=\"sk-item\"><div class=\"sk-estimator sk-toggleable\"><input class=\"sk-toggleable__control sk-hidden--visually\" id=\"1ee12d92-2ebf-4963-a4a5-24ca3bb41849\" type=\"checkbox\" ><label class=\"sk-toggleable__label\" for=\"1ee12d92-2ebf-4963-a4a5-24ca3bb41849\">NoTransformer</label><div class=\"sk-toggleable__content\"><pre>NoTransformer()</pre></div></div></div></div></div></div></div></div></div></div></div></div></div><div class=\"sk-item\"><div class=\"sk-estimator sk-toggleable\"><input class=\"sk-toggleable__control sk-hidden--visually\" id=\"2c96dc7d-4b12-41f6-9ff8-18e0f3998e43\" type=\"checkbox\" ><label class=\"sk-toggleable__label\" for=\"2c96dc7d-4b12-41f6-9ff8-18e0f3998e43\">LogisticRegression</label><div class=\"sk-toggleable__content\"><pre>LogisticRegression(C=1.52, penalty='l1', solver='liblinear')</pre></div></div></div></div></div></div></div>"
      ],
      "text/plain": [
       "Pipeline(steps=[('features',\n",
       "                 ColumnTransformer(transformers=[('growth_transformer',\n",
       "                                                  Pipeline(steps=[('growth_stage_age_preparator',\n",
       "                                                                   ColumnTransformer(transformers=[['age_imputer',\n",
       "                                                                                                    Pipeline(steps=[('simpleimputer',\n",
       "                                                                                                                     SimpleImputer())]),\n",
       "                                                                                                    ['age']],\n",
       "                                                                                                   ['growth_stage_transformer',\n",
       "                                                                                                    FunctionTransformer(func=<function <lambda> at 0x11d591700>),\n",
       "                                                                                                    ['growth_stage_imputed']]])...\n",
       "                                                 ('patent_transformer',\n",
       "                                                  Pipeline(steps=[('simpleimputer',\n",
       "                                                                   SimpleImputer(fill_value=0,\n",
       "                                                                                 strategy='constant')),\n",
       "                                                                  ('robustscaler',\n",
       "                                                                   RobustScaler())]),\n",
       "                                                  ['nb_patents']),\n",
       "                                                 ('identity',\n",
       "                                                  ColumnTransformer(transformers=[['identity_transformer',\n",
       "                                                                                   NoTransformer(),\n",
       "                                                                                   ['health_industry']]]),\n",
       "                                                  ['health_industry'])])),\n",
       "                ('model',\n",
       "                 LogisticRegression(C=1.52, penalty='l1', solver='liblinear'))])"
      ]
     },
     "execution_count": 448,
     "metadata": {},
     "output_type": "execute_result"
    }
   ],
   "source": [
    "pipemodel.fit(X, y)"
   ]
  },
  {
   "cell_type": "code",
   "execution_count": 449,
   "metadata": {
    "ExecuteTime": {
     "end_time": "2020-12-09T18:15:44.020845Z",
     "start_time": "2020-12-09T18:15:42.914995Z"
    }
   },
   "outputs": [],
   "source": [
    "from sklearn.model_selection import cross_validate\n",
    "\n",
    "# Cross validate pipeline\n",
    "cv_result = cross_validate(pipemodel, X, y, cv=10, scoring=[\"accuracy\", \"recall\", \"f1\", \"precision\"])"
   ]
  },
  {
   "cell_type": "code",
   "execution_count": 450,
   "metadata": {
    "ExecuteTime": {
     "end_time": "2020-12-09T18:15:50.518734Z",
     "start_time": "2020-12-09T18:15:50.488735Z"
    }
   },
   "outputs": [
    {
     "name": "stdout",
     "output_type": "stream",
     "text": [
      "test_accuracy :  69.82%\n",
      "test_recall :  51.40%\n",
      "test_f1 :  58.98%\n",
      "test_precision :  69.88%\n"
     ]
    }
   ],
   "source": [
    "scoring=[\"test_accuracy\", \"test_recall\", \"test_f1\", \"test_precision\"]\n",
    "\n",
    "for metric in scoring:\n",
    "    print(f\"{metric} : {cv_result[metric].mean() * 100 : .2f}%\")"
   ]
  },
  {
   "cell_type": "markdown",
   "metadata": {},
   "source": [
    "1st run with 3 features only : test_accuracy :  65.12%\n",
    "test_recall :  32.10%\n",
    "test_f1 :  43.24%\n",
    "test_precision :  69.23%\n",
    "\n",
    "\n",
    "2nd run with \"health_industry\" : test_accuracy :  69.82%\n",
    "test_recall :  51.40%\n",
    "test_f1 :  58.98%\n",
    "test_precision :  69.88%"
   ]
  },
  {
   "cell_type": "code",
   "execution_count": 561,
   "metadata": {
    "ExecuteTime": {
     "end_time": "2020-12-09T19:48:50.836671Z",
     "start_time": "2020-12-09T19:48:50.792825Z"
    }
   },
   "outputs": [],
   "source": [
    "pd.set_option('display.max_rows', 500)\n",
    "features = [\"growth_stage_age_ratio\", \"funding_employees_ratio\", \"nb_patents\", \"health_industry\"]"
   ]
  },
  {
   "cell_type": "code",
   "execution_count": 466,
   "metadata": {
    "ExecuteTime": {
     "end_time": "2020-12-09T18:40:57.543896Z",
     "start_time": "2020-12-09T18:40:57.464645Z"
    }
   },
   "outputs": [],
   "source": [
    "y_pred = pipemodel.predict(X)\n",
    "xp = preprocessor.fit_transform(X)\n",
    "y_pred = pd.DataFrame(y_pred, columns = [\"y_pred\"])\n",
    "x_prepro = pd.DataFrame(xp, columns = features)"
   ]
  },
  {
   "cell_type": "code",
   "execution_count": 551,
   "metadata": {
    "ExecuteTime": {
     "end_time": "2020-12-09T19:40:35.820813Z",
     "start_time": "2020-12-09T19:40:35.775944Z"
    }
   },
   "outputs": [],
   "source": [
    "outputs = data[[\"id\", \"name\", \"deep_or_not\", \"target\"]].join(x_prepro).join(y_pred)"
   ]
  },
  {
   "cell_type": "code",
   "execution_count": 556,
   "metadata": {
    "ExecuteTime": {
     "end_time": "2020-12-09T19:44:45.050490Z",
     "start_time": "2020-12-09T19:44:45.005898Z"
    }
   },
   "outputs": [],
   "source": [
    "FN = outputs[(outputs.deep_or_not == \"deeptech\") & (outputs.y_pred == 0)]\n",
    "FP = outputs[(outputs.deep_or_not == \"non_deeptech\") | (outputs.deep_or_not == \"almost_deeptech\") & (outputs.y_pred == 1)]\n",
    "FN = outputs[(outputs.deep_or_not == \"deeptech\") & (outputs.y_pred == 0)]\n"
   ]
  },
  {
   "cell_type": "code",
   "execution_count": 570,
   "metadata": {
    "ExecuteTime": {
     "end_time": "2020-12-09T19:59:52.337638Z",
     "start_time": "2020-12-09T19:59:44.723107Z"
    },
    "scrolled": true
   },
   "outputs": [
    {
     "data": {
      "text/plain": [
       "<seaborn.axisgrid.PairGrid at 0x1500fb550>"
      ]
     },
     "execution_count": 570,
     "metadata": {},
     "output_type": "execute_result"
    },
    {
     "data": {
      "image/png": "[encoded data removed]",
      "text/plain": [
       "<Figure size 720x720 with 20 Axes>"
      ]
     },
     "metadata": {
      "needs_background": "light"
     },
     "output_type": "display_data"
    }
   ],
   "source": [
    "import seaborn as sns\n",
    "sns.pairplot(FN[features])"
   ]
  },
  {
   "cell_type": "code",
   "execution_count": 566,
   "metadata": {
    "ExecuteTime": {
     "end_time": "2020-12-09T19:55:06.936174Z",
     "start_time": "2020-12-09T19:54:58.604246Z"
    }
   },
   "outputs": [
    {
     "data": {
      "text/plain": [
       "<seaborn.axisgrid.PairGrid at 0x144ba9400>"
      ]
     },
     "execution_count": 566,
     "metadata": {},
     "output_type": "execute_result"
    },
    {
     "data": {
      "image/png": "[encoded data removed]",
      "text/plain": [
       "<Figure size 720x720 with 20 Axes>"
      ]
     },
     "metadata": {
      "needs_background": "light"
     },
     "output_type": "display_data"
    }
   ],
   "source": [
    "sns.pairplot(FP[features])"
   ]
  },
  {
   "cell_type": "code",
   "execution_count": 500,
   "metadata": {
    "ExecuteTime": {
     "end_time": "2020-12-09T18:58:28.257713Z",
     "start_time": "2020-12-09T18:58:24.566631Z"
    }
   },
   "outputs": [
    {
     "data": {
      "text/plain": [
       "<pandasgui.gui.PandasGui at 0x1284363a0>"
      ]
     },
     "execution_count": 500,
     "metadata": {},
     "output_type": "execute_result"
    }
   ],
   "source": [
    "from pandasgui import show\n",
    "show(outputs)"
   ]
  }
 ],
 "metadata": {
  "kernelspec": {
   "display_name": "Python 3",
   "language": "python",
   "name": "python3"
  },
  "language_info": {
   "codemirror_mode": {
    "name": "ipython",
    "version": 3
   },
   "file_extension": ".py",
   "mimetype": "text/x-python",
   "name": "python",
   "nbconvert_exporter": "python",
   "pygments_lexer": "ipython3",
   "version": "3.8.6"
  },
  "toc": {
   "base_numbering": 1,
   "nav_menu": {},
   "number_sections": true,
   "sideBar": true,
   "skip_h1_title": false,
   "title_cell": "Table of Contents",
   "title_sidebar": "Contents",
   "toc_cell": false,
   "toc_position": {},
   "toc_section_display": true,
   "toc_window_display": false
  },
  "varInspector": {
   "cols": {
    "lenName": 16,
    "lenType": 16,
    "lenVar": 40
   },
   "kernels_config": {
    "python": {
     "delete_cmd_postfix": "",
     "delete_cmd_prefix": "del ",
     "library": "var_list.py",
     "varRefreshCmd": "print(var_dic_list())"
    },
    "r": {
     "delete_cmd_postfix": ") ",
     "delete_cmd_prefix": "rm(",
     "library": "var_list.r",
     "varRefreshCmd": "cat(var_dic_list()) "
    }
   },
   "types_to_exclude": [
    "module",
    "function",
    "builtin_function_or_method",
    "instance",
    "_Feature"
   ],
   "window_display": false
  }
 },
 "nbformat": 4,
 "nbformat_minor": 4
}
