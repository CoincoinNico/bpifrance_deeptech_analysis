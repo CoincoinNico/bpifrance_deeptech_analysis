{
 "cells": [
  {
   "cell_type": "code",
   "execution_count": null,
   "metadata": {
    "ExecuteTime": {
     "end_time": "2020-12-09T09:06:24.626559Z",
     "start_time": "2020-12-09T09:06:24.599121Z"
    }
   },
   "outputs": [],
   "source": [
    "%load_ext autoreload\n",
    "%autoreload 2"
   ]
  },
  {
   "cell_type": "code",
   "execution_count": 5,
   "metadata": {
    "ExecuteTime": {
     "end_time": "2020-12-09T09:30:04.743349Z",
     "start_time": "2020-12-09T09:30:02.589088Z"
    }
   },
   "outputs": [],
   "source": [
    "import pandas as pd\n",
    "import numpy as np\n",
    "import json\n",
    "import re\n",
    "from sklearn.impute import SimpleImputer\n",
    "from sklearn.preprocessing import OneHotEncoder, RobustScaler\n",
    "import matplotlib.pyplot as plt"
   ]
  },
  {
   "cell_type": "markdown",
   "metadata": {
    "heading_collapsed": true
   },
   "source": [
    "# Convert the json data in string (transformed by the pd.read_csv) to string "
   ]
  },
  {
   "cell_type": "code",
   "execution_count": null,
   "metadata": {
    "ExecuteTime": {
     "end_time": "2020-12-09T08:02:13.698039Z",
     "start_time": "2020-12-09T08:02:12.972628Z"
    },
    "hidden": true
   },
   "outputs": [],
   "source": [
    "data = pd.read_csv(\"../bpideep/rawdata/data2020-12-03.csv\")"
   ]
  },
  {
   "cell_type": "code",
   "execution_count": null,
   "metadata": {
    "ExecuteTime": {
     "end_time": "2020-12-09T08:02:16.151840Z",
     "start_time": "2020-12-09T08:02:16.070416Z"
    },
    "hidden": true
   },
   "outputs": [],
   "source": [
    "def load_json_field(bad_json):\n",
    "    regex = r\"\\w\\'\\w\"\n",
    "    subst = \"\"\n",
    "    bad_json = re.sub(regex, subst, bad_json)\n",
    "    bad_json = bad_json.replace(\"d' Arrouzat\", \"darrouzat\")\n",
    "    good_json = bad_json.replace(\"\\'\", \"\\\"\").replace(\"None\", \"null\").replace(\"True\", \"true\").replace(\"False\", \"false\")\n",
    "    \n",
    "    return json.loads(good_json)"
   ]
  },
  {
   "cell_type": "code",
   "execution_count": null,
   "metadata": {
    "ExecuteTime": {
     "end_time": "2020-12-09T08:02:20.102353Z",
     "start_time": "2020-12-09T08:02:17.818634Z"
    },
    "hidden": true
   },
   "outputs": [],
   "source": [
    "data[\"team\"] = data[\"team\"].apply(load_json_field)\n",
    "data[\"industries\"] = data[\"industries\"].apply(load_json_field)\n",
    "data[\"investors\"] = data[\"investors\"].apply(load_json_field)\n",
    "data[\"fundings\"] = data[\"fundings\"].apply(load_json_field)"
   ]
  },
  {
   "cell_type": "markdown",
   "metadata": {},
   "source": [
    "# Import data + data cleaning thanks to info retrieved from Linkedin"
   ]
  },
  {
   "cell_type": "markdown",
   "metadata": {},
   "source": [
    "## DATA CLEANING"
   ]
  },
  {
   "cell_type": "code",
   "execution_count": 130,
   "metadata": {
    "ExecuteTime": {
     "end_time": "2020-12-09T10:55:18.658551Z",
     "start_time": "2020-12-09T10:55:18.619215Z"
    }
   },
   "outputs": [],
   "source": [
    "def impute_missing_launch_year(data):\n",
    "\n",
    "    names = ['Amypore',\n",
    "             'Kinnov Therapeutics',\n",
    "             'Lipofabrik',\n",
    "             'Step pharma',\n",
    "             'LiMM Therapeutics',\n",
    "             'Ilek',\n",
    "             'LysPackaging',\n",
    "             'TexiSense',\n",
    "             \"Institut de Prise en Charge de l'Obésité\",\n",
    "             'Izi Family',\n",
    "             'Arthur Dupuy',\n",
    "             'Gen.Orph',\n",
    "             'Uniris',\n",
    "             'NANOZ',\n",
    "             'Akwatyx',\n",
    "             'Black-line',\n",
    "             'Eyye',\n",
    "             \"O'Sol\",\n",
    "             'Treenox',\n",
    "             'Aqualeg',\n",
    "             'Co-assit',\n",
    "             'Wind my roof',\n",
    "             'APPARTOO',\n",
    "             'BimBamJob',\n",
    "             'Buddytherobot.com',\n",
    "             'Bcm',\n",
    "             'CCI Paris Ile de France',\n",
    "             'Datarocks',\n",
    "             'EFFICIENCIA',\n",
    "             'EONEF',\n",
    "             'FEALINX',\n",
    "             'INERIS',\n",
    "             'Marguerite',\n",
    "             'TokTokDoc',\n",
    "             'Novaquark',\n",
    "             'Peopeo',\n",
    "             'Sloclap',\n",
    "             'Swift',\n",
    "             'Sword',\n",
    "             'XT-VISION',\n",
    "             'Ryax',\n",
    "             'Sylha',\n",
    "             'Opta LP']\n",
    "\n",
    "    # inserting missing launch year and month for the 11 companies with fundraising\n",
    "    launch_years = [2018, 2015, 2012, 2014, 2018, 2016, 2015, 2010, 2011, 2016, 2015, \n",
    "                   2012, 2017, 2012, 2015, 2017, 2016, 2016, 2018, 2011, 2016, 2018, 2015, 2015, 2014, 2014, 2013,\n",
    "                   2014, 2012, 2016, 1997, 1990, 2012, 2016, 2014, 2017, 2015, 1973, 2000, 2011, 2017, 2019, 2013]\n",
    "\n",
    "    zipbObj = zip(names, launch_years)\n",
    "    launch_year_dict = dict(zipbObj)\n",
    "\n",
    "    data[\"launch_year_clean\"] = data['launch_year']\n",
    "    \n",
    "    for name, year in launch_year_dict.items() : \n",
    "        data.loc[data.name == name, \"launch_year_clean\"] = year\n",
    "    return data\n",
    "\n",
    "def get_growth_dict(df):\n",
    "    table = df[[\"growth_stage\", \"launch_year_clean\", \"id\"]].groupby(by=[\"launch_year_clean\", \"growth_stage\"]).count()\n",
    "    column = list(table.unstack(level = -1).columns)\n",
    "    growth_dict = table.unstack(level = -1).fillna(0).apply(lambda x: column[x.argmax()][1], axis = 1).to_dict()\n",
    "    \n",
    "    return growth_dict\n",
    "    \n",
    "\n",
    "def fill_missing_growth(growth_dict, growth_stage, launch_year_clean):\n",
    "   \n",
    "    if type(growth_stage) == str:\n",
    "        return growth_stage    \n",
    "    elif launch_year_clean in growth_dict:\n",
    "        return growth_dict[launch_year_clean]\n",
    "    else:\n",
    "        return growth_stage"
   ]
  },
  {
   "cell_type": "markdown",
   "metadata": {
    "heading_collapsed": true
   },
   "source": [
    "## TEST cleaning"
   ]
  },
  {
   "cell_type": "code",
   "execution_count": null,
   "metadata": {
    "ExecuteTime": {
     "end_time": "2020-12-09T08:43:18.537157Z",
     "start_time": "2020-12-09T08:43:18.275249Z"
    },
    "hidden": true
   },
   "outputs": [],
   "source": [
    "\n",
    "tmp = pd.read_csv(\"../bpideep/rawdata/data2020-12-03.csv\")\n",
    "tmp.drop(data[(data.id == 1787891) | (data.id == 1893232)].index, inplace = True)\n",
    "\n",
    "dico = get_growth_dict(tmp)\n"
   ]
  },
  {
   "cell_type": "code",
   "execution_count": null,
   "metadata": {
    "ExecuteTime": {
     "end_time": "2020-12-09T08:43:19.223778Z",
     "start_time": "2020-12-09T08:43:19.110254Z"
    },
    "hidden": true
   },
   "outputs": [],
   "source": [
    "impute_missing_launch_year(tmp)"
   ]
  },
  {
   "cell_type": "code",
   "execution_count": null,
   "metadata": {
    "ExecuteTime": {
     "end_time": "2020-12-09T08:43:21.550976Z",
     "start_time": "2020-12-09T08:43:21.484381Z"
    },
    "hidden": true
   },
   "outputs": [],
   "source": [
    "tmp['growth_stage_imputed'] = tmp.apply(lambda row: fill_missing_growth(dico,\n",
    "                row['growth_stage'], \n",
    "                row['launch_year_clean']), \n",
    "            axis=1\n",
    "        )\n",
    "        \n"
   ]
  },
  {
   "cell_type": "markdown",
   "metadata": {
    "ExecuteTime": {
     "end_time": "2020-12-09T08:09:46.219086Z",
     "start_time": "2020-12-09T08:09:46.172169Z"
    },
    "hidden": true
   },
   "source": [
    "tmp[(tmp.growth_stage_imputed.isna())].to_csv(\"missing_launchyear_growthstage.csv\")"
   ]
  },
  {
   "cell_type": "code",
   "execution_count": null,
   "metadata": {
    "ExecuteTime": {
     "end_time": "2020-12-09T08:43:24.290205Z",
     "start_time": "2020-12-09T08:43:24.257118Z"
    },
    "hidden": true
   },
   "outputs": [],
   "source": [
    "missing_list = list(tmp[(tmp.growth_stage_imputed.isna())][\"name\"])"
   ]
  },
  {
   "cell_type": "code",
   "execution_count": null,
   "metadata": {
    "ExecuteTime": {
     "end_time": "2020-12-09T08:43:25.379392Z",
     "start_time": "2020-12-09T08:43:25.347124Z"
    },
    "hidden": true
   },
   "outputs": [],
   "source": [
    "missing_list"
   ]
  },
  {
   "cell_type": "code",
   "execution_count": null,
   "metadata": {
    "ExecuteTime": {
     "end_time": "2020-12-09T08:43:26.686868Z",
     "start_time": "2020-12-09T08:43:26.658246Z"
    },
    "hidden": true
   },
   "outputs": [],
   "source": [
    "missing_years = [2012, 2017, 2012, 2015, 2017, 2016, 2016, 2018, 2011, 2016, 2018, 2015, 2015, 2014, 2014, 2013]"
   ]
  },
  {
   "cell_type": "code",
   "execution_count": null,
   "metadata": {
    "ExecuteTime": {
     "end_time": "2020-12-09T08:43:29.700942Z",
     "start_time": "2020-12-09T08:43:29.642461Z"
    },
    "hidden": true
   },
   "outputs": [],
   "source": [
    "tmp[(tmp.growth_stage_imputed.isna())]"
   ]
  },
  {
   "cell_type": "code",
   "execution_count": null,
   "metadata": {
    "ExecuteTime": {
     "end_time": "2020-12-09T08:43:40.379571Z",
     "start_time": "2020-12-09T08:43:40.349024Z"
    },
    "hidden": true
   },
   "outputs": [],
   "source": [
    "tmp['growth_stage_imputed']"
   ]
  },
  {
   "cell_type": "markdown",
   "metadata": {},
   "source": [
    "## GET_DATA"
   ]
  },
  {
   "cell_type": "code",
   "execution_count": 131,
   "metadata": {
    "ExecuteTime": {
     "end_time": "2020-12-09T10:55:20.958937Z",
     "start_time": "2020-12-09T10:55:20.948182Z"
    }
   },
   "outputs": [],
   "source": [
    "class GetData():\n",
    "\n",
    "    def get_data():\n",
    "        data = pd.read_csv(\"../bpideep/rawdata/data2020-12-03.csv\")\n",
    "        \n",
    "        #selection of need columns\n",
    "        data = data[[\"id\", \"name\", \"target\", \"deep_or_not\", \"total_funding_source\", \"employees\",\n",
    "                     \"employees_latest\", \"launch_year\", \"growth_stage\", \"linkedin_url\"]]\n",
    "        \n",
    "        \n",
    "    \n",
    "        #imputing the missing launch year (only 33 done manually -> to be automatized if a new source displays it)\n",
    "        #LAUNCH_YEAR_CLEAN\n",
    "        impute_missing_launch_year(data)\n",
    "        \n",
    "        \n",
    "        \n",
    "        # drop 2 duplicated companies Lalilo and Pixyl*\n",
    "        data.drop(data[(data.id == 1787891) | (data.id == 1893232)].index, inplace = True)\n",
    "        \n",
    "        # change the \"not meaningful\" growth stage status of 15789 Insoft to mature\n",
    "        data.loc[data.id == 15789, \"growth_stage\"] = \"mature\"\n",
    "        \n",
    "        \n",
    "        #imputing missing growth_stage (mode of the launch year)\n",
    "        #GROWTH_STAGE_IMPUTED\n",
    "        growth_table = get_growth_dict(data)\n",
    "        \n",
    "#         import ipdb ; ipdb.set_trace()\n",
    "        data['growth_stage_imputed'] = data.apply(lambda row: fill_missing_growth(\n",
    "                growth_table,\n",
    "                row['growth_stage'], \n",
    "                row['launch_year_clean']), \n",
    "            axis=1\n",
    "        )\n",
    "        \n",
    "        \n",
    "        \n",
    "        #imputing missing employees values from LinkedIn scraping\n",
    "        #EMPLOYEES_CLEAN\n",
    "        missing = pd.read_csv(\"../bpideep/data/missing_employee_count.csv\")\n",
    "        data[\"employees_clean\"] = data.employees_latest\n",
    "        data.loc[data.name == \"CCI Paris Ile de France\", \"employees_clean\"] = 1793\n",
    "\n",
    "        for url in missing.linkedin_url:\n",
    "            replace_value = missing[missing.linkedin_url == url][\"check\"].iloc[0]\n",
    "            data.loc[data.linkedin_url == url, \"employees_clean\"] = replace_value\n",
    "        \n",
    "        \n",
    "        \n",
    "        \n",
    "        # get the number of patents\n",
    "        patent = pd.read_csv(\"../bpideep/data/patents.csv\")\n",
    "        data = pd.merge(data, patent, on= [\"id\", \"id\"], how = \"left\")\n",
    "        \n",
    "        return data\n",
    "\n",
    "#         *    \n",
    "#                 + 3 duplicated names but with different id : \n",
    "#                     1/ Lalilo : 926521 (http://www.lalilo.com/) vs. 1787891 (http://lalilo.fr) \n",
    "#             -> same launch date, french website no longer exists + observation  almost filled by NAN + same obs as the .com \n",
    "#             -> drop the french Lalilo (1787891)\n",
    "#                     2/ Pixyl : 892048 vs 1893232 (different websites mentioned but same website page when launched) \n",
    "#             -> kept  892048 because more info + the Dealroom profile was verified by Dealroom team on Sept, 1st 2020 vs. pending verification\n",
    "#                     3/ NANOZ : 1836121 vs 1660543 -> kept both as different companies but the second one is German "
   ]
  },
  {
   "cell_type": "code",
   "execution_count": 133,
   "metadata": {
    "ExecuteTime": {
     "end_time": "2020-12-09T10:56:16.149282Z",
     "start_time": "2020-12-09T10:56:15.749972Z"
    }
   },
   "outputs": [
    {
     "name": "stderr",
     "output_type": "stream",
     "text": [
      "<ipython-input-133-b1529d5bd48a>:4: SettingWithCopyWarning: \n",
      "A value is trying to be set on a copy of a slice from a DataFrame\n",
      "\n",
      "See the caveats in the documentation: https://pandas.pydata.org/pandas-docs/stable/user_guide/indexing.html#returning-a-view-versus-a-copy\n",
      "  y[y ==0.5] = 0\n"
     ]
    },
    {
     "data": {
      "text/html": [
       "<div>\n",
       "<style scoped>\n",
       "    .dataframe tbody tr th:only-of-type {\n",
       "        vertical-align: middle;\n",
       "    }\n",
       "\n",
       "    .dataframe tbody tr th {\n",
       "        vertical-align: top;\n",
       "    }\n",
       "\n",
       "    .dataframe thead th {\n",
       "        text-align: right;\n",
       "    }\n",
       "</style>\n",
       "<table border=\"1\" class=\"dataframe\">\n",
       "  <thead>\n",
       "    <tr style=\"text-align: right;\">\n",
       "      <th></th>\n",
       "      <th>id</th>\n",
       "      <th>name</th>\n",
       "      <th>total_funding_source</th>\n",
       "      <th>employees</th>\n",
       "      <th>employees_latest</th>\n",
       "      <th>launch_year</th>\n",
       "      <th>growth_stage</th>\n",
       "      <th>linkedin_url</th>\n",
       "      <th>launch_year_clean</th>\n",
       "      <th>growth_stage_imputed</th>\n",
       "      <th>employees_clean</th>\n",
       "      <th>nb_patents</th>\n",
       "    </tr>\n",
       "  </thead>\n",
       "  <tbody>\n",
       "    <tr>\n",
       "      <th>1144</th>\n",
       "      <td>15789</td>\n",
       "      <td>Insoft</td>\n",
       "      <td>0</td>\n",
       "      <td>NaN</td>\n",
       "      <td>NaN</td>\n",
       "      <td>NaN</td>\n",
       "      <td>mature</td>\n",
       "      <td>https://www.linkedin.com/company/insoft</td>\n",
       "      <td>NaN</td>\n",
       "      <td>mature</td>\n",
       "      <td>NaN</td>\n",
       "      <td>9.0</td>\n",
       "    </tr>\n",
       "  </tbody>\n",
       "</table>\n",
       "</div>"
      ],
      "text/plain": [
       "         id    name  total_funding_source employees  employees_latest  \\\n",
       "1144  15789  Insoft                     0       NaN               NaN   \n",
       "\n",
       "      launch_year growth_stage                             linkedin_url  \\\n",
       "1144          NaN       mature  https://www.linkedin.com/company/insoft   \n",
       "\n",
       "      launch_year_clean growth_stage_imputed  employees_clean  nb_patents  \n",
       "1144                NaN               mature              NaN         9.0  "
      ]
     },
     "execution_count": 133,
     "metadata": {},
     "output_type": "execute_result"
    }
   ],
   "source": [
    "data = GetData.get_data()\n",
    "X = data.drop(columns = [\"target\", \"deep_or_not\"])\n",
    "y = data.target\n",
    "y[y ==0.5] = 0\n",
    "\n",
    "X[X.id ==15789 ]"
   ]
  },
  {
   "cell_type": "markdown",
   "metadata": {
    "heading_collapsed": true
   },
   "source": [
    "## TEST"
   ]
  },
  {
   "cell_type": "code",
   "execution_count": null,
   "metadata": {
    "ExecuteTime": {
     "end_time": "2020-12-08T18:09:16.269102Z",
     "start_time": "2020-12-08T18:09:15.990652Z"
    },
    "hidden": true
   },
   "outputs": [],
   "source": [
    "data = GetData.get_data()"
   ]
  },
  {
   "cell_type": "code",
   "execution_count": null,
   "metadata": {
    "ExecuteTime": {
     "end_time": "2020-12-08T18:09:16.396444Z",
     "start_time": "2020-12-08T18:09:16.390994Z"
    },
    "hidden": true
   },
   "outputs": [],
   "source": [
    "data.shape"
   ]
  },
  {
   "cell_type": "code",
   "execution_count": null,
   "metadata": {
    "ExecuteTime": {
     "end_time": "2020-12-08T18:58:49.380948Z",
     "start_time": "2020-12-08T18:58:49.359874Z"
    },
    "hidden": true
   },
   "outputs": [],
   "source": [
    "data.columns"
   ]
  },
  {
   "cell_type": "code",
   "execution_count": null,
   "metadata": {
    "ExecuteTime": {
     "end_time": "2020-12-08T18:09:16.608173Z",
     "start_time": "2020-12-08T18:09:16.597872Z"
    },
    "hidden": true
   },
   "outputs": [],
   "source": [
    "data[(data.employees.notna()) & (data.employees_clean.isna())].shape"
   ]
  },
  {
   "cell_type": "markdown",
   "metadata": {
    "hidden": true
   },
   "source": [
    "présence de math.nan ?"
   ]
  },
  {
   "cell_type": "code",
   "execution_count": null,
   "metadata": {
    "ExecuteTime": {
     "end_time": "2020-12-08T18:09:17.468030Z",
     "start_time": "2020-12-08T18:09:17.431165Z"
    },
    "hidden": true
   },
   "outputs": [],
   "source": [
    "data[(data.employees.isna()) & (data.employees_clean.isna())]"
   ]
  },
  {
   "cell_type": "code",
   "execution_count": null,
   "metadata": {
    "ExecuteTime": {
     "end_time": "2020-12-08T18:09:18.006878Z",
     "start_time": "2020-12-08T18:09:17.989069Z"
    },
    "hidden": true
   },
   "outputs": [],
   "source": [
    "res = replace_employees(data)"
   ]
  },
  {
   "cell_type": "code",
   "execution_count": null,
   "metadata": {
    "ExecuteTime": {
     "end_time": "2020-12-08T18:09:18.695489Z",
     "start_time": "2020-12-08T18:09:18.678151Z"
    },
    "hidden": true,
    "scrolled": false
   },
   "outputs": [],
   "source": [
    "res[res.employees_imputed.isna()][[\"name\", \"employees_latest\", \"employees\", \"employees_clean\", \"employees_imputed\", \"launch_year_clean\"]].groupby(by = \"launch_year_clean\").count()"
   ]
  },
  {
   "cell_type": "code",
   "execution_count": null,
   "metadata": {
    "ExecuteTime": {
     "end_time": "2020-12-08T18:09:19.494865Z",
     "start_time": "2020-12-08T18:09:19.478962Z"
    },
    "hidden": true
   },
   "outputs": [],
   "source": [
    "res[(res.employees_imputed.isna()) & (res.launch_year_clean < 2010)][[\"name\", \"employees_latest\", \"employees\", \"employees_clean\", \"employees_imputed\", \"launch_year_clean\"]].groupby(by = \"launch_year_clean\").count()"
   ]
  },
  {
   "cell_type": "code",
   "execution_count": null,
   "metadata": {
    "ExecuteTime": {
     "end_time": "2020-12-08T18:09:20.371593Z",
     "start_time": "2020-12-08T18:09:20.342568Z"
    },
    "hidden": true
   },
   "outputs": [],
   "source": [
    "yg_median = res[[\"employees_imputed\", \"launch_year_clean\"]].groupby(by=[\"launch_year_clean\"]).median()\n",
    "years = data.launch_year_clean.unique()\n",
    "years = [nb for nb in years if nb >= 2010]\n",
    "\n",
    "print(yg_median)\n",
    "\n",
    "\n",
    "for year in years:\n",
    "    replace_value = yg_median.loc[(year)][0]\n",
    "    boolean_condition = ((res.launch_year_clean == year) & (res.employees_imputed.isna()))\n",
    "    res.loc[boolean_condition, \"employees_imputed\"] = replace_value\n"
   ]
  },
  {
   "cell_type": "code",
   "execution_count": null,
   "metadata": {
    "ExecuteTime": {
     "end_time": "2020-12-08T18:09:33.297797Z",
     "start_time": "2020-12-08T18:09:33.280596Z"
    },
    "hidden": true,
    "scrolled": true
   },
   "outputs": [],
   "source": [
    "res[res.employees_imputed.isna()][[\"name\", \"employees_latest\", \"employees\", \"employees_clean\", \"employees_imputed\", \"launch_year_clean\"]].groupby(by = \"launch_year_clean\").count()"
   ]
  },
  {
   "cell_type": "code",
   "execution_count": null,
   "metadata": {
    "ExecuteTime": {
     "end_time": "2020-12-08T18:11:34.782947Z",
     "start_time": "2020-12-08T18:11:34.772323Z"
    },
    "hidden": true
   },
   "outputs": [],
   "source": [
    "#median_bef_2010 \n",
    "res[res.launch_year_clean < 2010][[\"employees_imputed\"]].median()"
   ]
  },
  {
   "cell_type": "code",
   "execution_count": null,
   "metadata": {
    "ExecuteTime": {
     "end_time": "2020-12-08T18:12:05.390451Z",
     "start_time": "2020-12-08T18:12:05.380200Z"
    },
    "hidden": true
   },
   "outputs": [],
   "source": [
    "res[res.launch_year_clean.notna()][[\"employees_imputed\"]].median()"
   ]
  },
  {
   "cell_type": "markdown",
   "metadata": {},
   "source": [
    "# PIPELINE"
   ]
  },
  {
   "cell_type": "markdown",
   "metadata": {},
   "source": [
    "##### employees imputing  : age"
   ]
  },
  {
   "cell_type": "code",
   "execution_count": 148,
   "metadata": {
    "ExecuteTime": {
     "end_time": "2020-12-09T11:11:56.945451Z",
     "start_time": "2020-12-09T11:11:56.928425Z"
    }
   },
   "outputs": [],
   "source": [
    "import re\n",
    "import math\n",
    "from sklearn.base import BaseEstimator, TransformerMixin\n",
    "\n",
    "\n",
    "def average_list(range_list):\n",
    "    return sum(range_list)/len(range_list)\n",
    "\n",
    "def compute_employees_mean(data):\n",
    "    range_list = list(data.employees.unique())\n",
    "    try:\n",
    "        range_list.remove(\"n.a.\")\n",
    "    except:\n",
    "        pass\n",
    "    keys_list = []\n",
    "    means_list = []\n",
    "\n",
    "    for i in range(len(range_list)) :\n",
    "        if type(range_list[i]) == str :\n",
    "            temp = re.findall(r'\\d+', range_list[i]) \n",
    "            res = list(map(int, temp)) \n",
    "            mean = average_list(res)\n",
    "            means_list.append(mean)\n",
    "            keys_list.append(range_list[i])\n",
    "        else:\n",
    "            pass\n",
    "\n",
    "    zip_iterator = zip(keys_list, means_list)\n",
    "    range_dict = dict(zip_iterator)\n",
    "    \n",
    "    return range_dict\n",
    "\n",
    "def replace_employees(df):\n",
    "#     import ipdb ; ipdb.set_trace()\n",
    "    dictionary = compute_employees_mean(df)\n",
    "    for key, value in dictionary.items():\n",
    "        df.loc[(df.employees == key) & (df.employees_latest.isna()), \"employees_clean\"] = value\n",
    "    return df\n",
    "            \n",
    "            \n",
    "class EmployeeImputer(BaseEstimator, TransformerMixin):\n",
    "    \n",
    "    def fit(self, X, y=None):\n",
    "        \n",
    "        # impute according to the range mean\n",
    "#         import ipdb ; ipdb.set_trace()\n",
    "        data = X.copy()\n",
    "        data = replace_employees(data)\n",
    "#         print(data)\n",
    "        \n",
    "        \n",
    "        self.yg_median = data[[\"employees_clean\", \"launch_year_clean\"]].groupby(by=[\"launch_year_clean\"]).median()\n",
    "#         print(self.yg_median)\n",
    "        self.years = data.launch_year_clean.unique()\n",
    "        self.years = [nb for nb in self.years if nb >= 2010]\n",
    "#         print(self.years)\n",
    "        \n",
    "#        print(self.yg_median)\n",
    "        return self\n",
    "    \n",
    "    def transform(self, X, y=None):\n",
    "#         import ipdb ; ipdb.set_trace()\n",
    "        X = replace_employees(X)\n",
    "#         print(X)\n",
    "        \n",
    "        # impute according to the median of the companies launched after 2010\n",
    "        for year in self.years:\n",
    "            replace_value = self.yg_median.loc[(year)][0]\n",
    "            boolean_condition = ((X.launch_year_clean == year) & (X.employees_clean.isna()))\n",
    "            X.loc[boolean_condition, \"employees_clean\"] = replace_value\n",
    "        \n",
    "#         print(\"after loop : \", X)\n",
    "        \n",
    "        median_all_dataset = X[X.launch_year_clean.notna()][[\"employees_clean\"]].median()\n",
    "#         print(X.employees_imputed.isna())\n",
    "        X.loc[X.employees_clean.isna(), \"employees_clean\"] = replace_value\n",
    "\n",
    "        return X\n",
    "    \n",
    "    \n",
    "\n"
   ]
  },
  {
   "cell_type": "markdown",
   "metadata": {
    "ExecuteTime": {
     "end_time": "2020-12-09T09:28:59.862488Z",
     "start_time": "2020-12-09T09:28:59.859593Z"
    },
    "heading_collapsed": true
   },
   "source": [
    "##### TEST"
   ]
  },
  {
   "cell_type": "code",
   "execution_count": 76,
   "metadata": {
    "ExecuteTime": {
     "end_time": "2020-12-09T10:14:13.382905Z",
     "start_time": "2020-12-09T10:14:13.379165Z"
    },
    "hidden": true,
    "scrolled": true
   },
   "outputs": [],
   "source": [
    "e = EmployeeImputer()"
   ]
  },
  {
   "cell_type": "code",
   "execution_count": 77,
   "metadata": {
    "ExecuteTime": {
     "end_time": "2020-12-09T10:14:14.375854Z",
     "start_time": "2020-12-09T10:14:14.354869Z"
    },
    "hidden": true
   },
   "outputs": [
    {
     "data": {
      "text/html": [
       "<div>\n",
       "<style scoped>\n",
       "    .dataframe tbody tr th:only-of-type {\n",
       "        vertical-align: middle;\n",
       "    }\n",
       "\n",
       "    .dataframe tbody tr th {\n",
       "        vertical-align: top;\n",
       "    }\n",
       "\n",
       "    .dataframe thead th {\n",
       "        text-align: right;\n",
       "    }\n",
       "</style>\n",
       "<table border=\"1\" class=\"dataframe\">\n",
       "  <thead>\n",
       "    <tr style=\"text-align: right;\">\n",
       "      <th></th>\n",
       "      <th>id</th>\n",
       "      <th>name</th>\n",
       "      <th>total_funding_source</th>\n",
       "      <th>employees</th>\n",
       "      <th>employees_latest</th>\n",
       "      <th>launch_year</th>\n",
       "      <th>growth_stage</th>\n",
       "      <th>linkedin_url</th>\n",
       "      <th>launch_year_clean</th>\n",
       "      <th>growth_stage_imputed</th>\n",
       "      <th>employees_clean</th>\n",
       "      <th>nb_patents</th>\n",
       "      <th>employees_imputed</th>\n",
       "    </tr>\n",
       "  </thead>\n",
       "  <tbody>\n",
       "    <tr>\n",
       "      <th>0</th>\n",
       "      <td>1742681</td>\n",
       "      <td>Healthcardionexion.com</td>\n",
       "      <td>0</td>\n",
       "      <td>2-10</td>\n",
       "      <td>8.0</td>\n",
       "      <td>2015.0</td>\n",
       "      <td>seed</td>\n",
       "      <td>https://www.linkedin.com/company/--health</td>\n",
       "      <td>2015.0</td>\n",
       "      <td>seed</td>\n",
       "      <td>8.0</td>\n",
       "      <td>NaN</td>\n",
       "      <td>8.0</td>\n",
       "    </tr>\n",
       "    <tr>\n",
       "      <th>1</th>\n",
       "      <td>1743314</td>\n",
       "      <td>4P Pharma</td>\n",
       "      <td>0</td>\n",
       "      <td>11-50</td>\n",
       "      <td>12.0</td>\n",
       "      <td>2014.0</td>\n",
       "      <td>early growth</td>\n",
       "      <td>https://www.linkedin.com/company/4p-pharma</td>\n",
       "      <td>2014.0</td>\n",
       "      <td>early growth</td>\n",
       "      <td>12.0</td>\n",
       "      <td>7.0</td>\n",
       "      <td>12.0</td>\n",
       "    </tr>\n",
       "    <tr>\n",
       "      <th>2</th>\n",
       "      <td>1598607</td>\n",
       "      <td>AFYREN</td>\n",
       "      <td>21000000</td>\n",
       "      <td>11-50</td>\n",
       "      <td>31.0</td>\n",
       "      <td>2012.0</td>\n",
       "      <td>early growth</td>\n",
       "      <td>https://www.linkedin.com/company/9419299</td>\n",
       "      <td>2012.0</td>\n",
       "      <td>early growth</td>\n",
       "      <td>31.0</td>\n",
       "      <td>84.0</td>\n",
       "      <td>31.0</td>\n",
       "    </tr>\n",
       "    <tr>\n",
       "      <th>3</th>\n",
       "      <td>894817</td>\n",
       "      <td>Abbelight</td>\n",
       "      <td>3250000</td>\n",
       "      <td>11-50</td>\n",
       "      <td>20.0</td>\n",
       "      <td>2016.0</td>\n",
       "      <td>early growth</td>\n",
       "      <td>https://www.linkedin.com/company/abbelight</td>\n",
       "      <td>2016.0</td>\n",
       "      <td>early growth</td>\n",
       "      <td>20.0</td>\n",
       "      <td>NaN</td>\n",
       "      <td>20.0</td>\n",
       "    </tr>\n",
       "    <tr>\n",
       "      <th>4</th>\n",
       "      <td>1683057</td>\n",
       "      <td>AblaCare</td>\n",
       "      <td>10000000</td>\n",
       "      <td>2-10</td>\n",
       "      <td>4.0</td>\n",
       "      <td>2017.0</td>\n",
       "      <td>seed</td>\n",
       "      <td>https://www.linkedin.com/company/ablacare</td>\n",
       "      <td>2017.0</td>\n",
       "      <td>seed</td>\n",
       "      <td>4.0</td>\n",
       "      <td>NaN</td>\n",
       "      <td>4.0</td>\n",
       "    </tr>\n",
       "  </tbody>\n",
       "</table>\n",
       "</div>"
      ],
      "text/plain": [
       "        id                    name  total_funding_source employees  \\\n",
       "0  1742681  Healthcardionexion.com                     0      2-10   \n",
       "1  1743314               4P Pharma                     0     11-50   \n",
       "2  1598607                  AFYREN              21000000     11-50   \n",
       "3   894817               Abbelight               3250000     11-50   \n",
       "4  1683057                AblaCare              10000000      2-10   \n",
       "\n",
       "   employees_latest  launch_year  growth_stage  \\\n",
       "0               8.0       2015.0          seed   \n",
       "1              12.0       2014.0  early growth   \n",
       "2              31.0       2012.0  early growth   \n",
       "3              20.0       2016.0  early growth   \n",
       "4               4.0       2017.0          seed   \n",
       "\n",
       "                                 linkedin_url  launch_year_clean  \\\n",
       "0   https://www.linkedin.com/company/--health             2015.0   \n",
       "1  https://www.linkedin.com/company/4p-pharma             2014.0   \n",
       "2    https://www.linkedin.com/company/9419299             2012.0   \n",
       "3  https://www.linkedin.com/company/abbelight             2016.0   \n",
       "4   https://www.linkedin.com/company/ablacare             2017.0   \n",
       "\n",
       "  growth_stage_imputed  employees_clean  nb_patents  employees_imputed  \n",
       "0                 seed              8.0         NaN                8.0  \n",
       "1         early growth             12.0         7.0               12.0  \n",
       "2         early growth             31.0        84.0               31.0  \n",
       "3         early growth             20.0         NaN               20.0  \n",
       "4                 seed              4.0         NaN                4.0  "
      ]
     },
     "execution_count": 77,
     "metadata": {},
     "output_type": "execute_result"
    }
   ],
   "source": [
    "X.head()"
   ]
  },
  {
   "cell_type": "code",
   "execution_count": 78,
   "metadata": {
    "ExecuteTime": {
     "end_time": "2020-12-09T10:14:15.332707Z",
     "start_time": "2020-12-09T10:14:15.248962Z"
    },
    "hidden": true
   },
   "outputs": [
    {
     "data": {
      "text/html": [
       "<div>\n",
       "<style scoped>\n",
       "    .dataframe tbody tr th:only-of-type {\n",
       "        vertical-align: middle;\n",
       "    }\n",
       "\n",
       "    .dataframe tbody tr th {\n",
       "        vertical-align: top;\n",
       "    }\n",
       "\n",
       "    .dataframe thead th {\n",
       "        text-align: right;\n",
       "    }\n",
       "</style>\n",
       "<table border=\"1\" class=\"dataframe\">\n",
       "  <thead>\n",
       "    <tr style=\"text-align: right;\">\n",
       "      <th></th>\n",
       "      <th>id</th>\n",
       "      <th>name</th>\n",
       "      <th>total_funding_source</th>\n",
       "      <th>employees</th>\n",
       "      <th>employees_latest</th>\n",
       "      <th>launch_year</th>\n",
       "      <th>growth_stage</th>\n",
       "      <th>linkedin_url</th>\n",
       "      <th>launch_year_clean</th>\n",
       "      <th>growth_stage_imputed</th>\n",
       "      <th>employees_clean</th>\n",
       "      <th>nb_patents</th>\n",
       "      <th>employees_imputed</th>\n",
       "    </tr>\n",
       "  </thead>\n",
       "  <tbody>\n",
       "    <tr>\n",
       "      <th>0</th>\n",
       "      <td>1742681</td>\n",
       "      <td>Healthcardionexion.com</td>\n",
       "      <td>0</td>\n",
       "      <td>2-10</td>\n",
       "      <td>8.0</td>\n",
       "      <td>2015.0</td>\n",
       "      <td>seed</td>\n",
       "      <td>https://www.linkedin.com/company/--health</td>\n",
       "      <td>2015.0</td>\n",
       "      <td>seed</td>\n",
       "      <td>8.0</td>\n",
       "      <td>NaN</td>\n",
       "      <td>8.0</td>\n",
       "    </tr>\n",
       "    <tr>\n",
       "      <th>1</th>\n",
       "      <td>1743314</td>\n",
       "      <td>4P Pharma</td>\n",
       "      <td>0</td>\n",
       "      <td>11-50</td>\n",
       "      <td>12.0</td>\n",
       "      <td>2014.0</td>\n",
       "      <td>early growth</td>\n",
       "      <td>https://www.linkedin.com/company/4p-pharma</td>\n",
       "      <td>2014.0</td>\n",
       "      <td>early growth</td>\n",
       "      <td>12.0</td>\n",
       "      <td>7.0</td>\n",
       "      <td>12.0</td>\n",
       "    </tr>\n",
       "    <tr>\n",
       "      <th>2</th>\n",
       "      <td>1598607</td>\n",
       "      <td>AFYREN</td>\n",
       "      <td>21000000</td>\n",
       "      <td>11-50</td>\n",
       "      <td>31.0</td>\n",
       "      <td>2012.0</td>\n",
       "      <td>early growth</td>\n",
       "      <td>https://www.linkedin.com/company/9419299</td>\n",
       "      <td>2012.0</td>\n",
       "      <td>early growth</td>\n",
       "      <td>31.0</td>\n",
       "      <td>84.0</td>\n",
       "      <td>31.0</td>\n",
       "    </tr>\n",
       "    <tr>\n",
       "      <th>3</th>\n",
       "      <td>894817</td>\n",
       "      <td>Abbelight</td>\n",
       "      <td>3250000</td>\n",
       "      <td>11-50</td>\n",
       "      <td>20.0</td>\n",
       "      <td>2016.0</td>\n",
       "      <td>early growth</td>\n",
       "      <td>https://www.linkedin.com/company/abbelight</td>\n",
       "      <td>2016.0</td>\n",
       "      <td>early growth</td>\n",
       "      <td>20.0</td>\n",
       "      <td>NaN</td>\n",
       "      <td>20.0</td>\n",
       "    </tr>\n",
       "    <tr>\n",
       "      <th>4</th>\n",
       "      <td>1683057</td>\n",
       "      <td>AblaCare</td>\n",
       "      <td>10000000</td>\n",
       "      <td>2-10</td>\n",
       "      <td>4.0</td>\n",
       "      <td>2017.0</td>\n",
       "      <td>seed</td>\n",
       "      <td>https://www.linkedin.com/company/ablacare</td>\n",
       "      <td>2017.0</td>\n",
       "      <td>seed</td>\n",
       "      <td>4.0</td>\n",
       "      <td>NaN</td>\n",
       "      <td>4.0</td>\n",
       "    </tr>\n",
       "    <tr>\n",
       "      <th>...</th>\n",
       "      <td>...</td>\n",
       "      <td>...</td>\n",
       "      <td>...</td>\n",
       "      <td>...</td>\n",
       "      <td>...</td>\n",
       "      <td>...</td>\n",
       "      <td>...</td>\n",
       "      <td>...</td>\n",
       "      <td>...</td>\n",
       "      <td>...</td>\n",
       "      <td>...</td>\n",
       "      <td>...</td>\n",
       "      <td>...</td>\n",
       "    </tr>\n",
       "    <tr>\n",
       "      <th>1506</th>\n",
       "      <td>1660577</td>\n",
       "      <td>Opta LP</td>\n",
       "      <td>0</td>\n",
       "      <td>NaN</td>\n",
       "      <td>NaN</td>\n",
       "      <td>NaN</td>\n",
       "      <td>NaN</td>\n",
       "      <td>https://fr.linkedin.com/in/opta-lp-9ba2b881</td>\n",
       "      <td>2013.0</td>\n",
       "      <td>early growth</td>\n",
       "      <td>14.0</td>\n",
       "      <td>NaN</td>\n",
       "      <td>14.0</td>\n",
       "    </tr>\n",
       "    <tr>\n",
       "      <th>1507</th>\n",
       "      <td>132854</td>\n",
       "      <td>Ownpage Technology</td>\n",
       "      <td>800000</td>\n",
       "      <td>2-10</td>\n",
       "      <td>6.0</td>\n",
       "      <td>2012.0</td>\n",
       "      <td>seed</td>\n",
       "      <td>https://www.linkedin.com/company/ownpage-techn...</td>\n",
       "      <td>2012.0</td>\n",
       "      <td>seed</td>\n",
       "      <td>6.0</td>\n",
       "      <td>NaN</td>\n",
       "      <td>6.0</td>\n",
       "    </tr>\n",
       "    <tr>\n",
       "      <th>1508</th>\n",
       "      <td>80695</td>\n",
       "      <td>Per Angusta</td>\n",
       "      <td>4454545</td>\n",
       "      <td>11-50</td>\n",
       "      <td>38.0</td>\n",
       "      <td>2012.0</td>\n",
       "      <td>early growth</td>\n",
       "      <td>https://www.linkedin.com/company/per-angusta</td>\n",
       "      <td>2012.0</td>\n",
       "      <td>early growth</td>\n",
       "      <td>38.0</td>\n",
       "      <td>NaN</td>\n",
       "      <td>38.0</td>\n",
       "    </tr>\n",
       "    <tr>\n",
       "      <th>1509</th>\n",
       "      <td>1836415</td>\n",
       "      <td>PowerUp</td>\n",
       "      <td>5000000</td>\n",
       "      <td>11-50</td>\n",
       "      <td>17.0</td>\n",
       "      <td>2017.0</td>\n",
       "      <td>early growth</td>\n",
       "      <td>https://www.linkedin.com/company/powerup-techn...</td>\n",
       "      <td>2017.0</td>\n",
       "      <td>early growth</td>\n",
       "      <td>17.0</td>\n",
       "      <td>3.0</td>\n",
       "      <td>17.0</td>\n",
       "    </tr>\n",
       "    <tr>\n",
       "      <th>1510</th>\n",
       "      <td>1654107</td>\n",
       "      <td>Transaction Connect</td>\n",
       "      <td>1500000</td>\n",
       "      <td>11-50</td>\n",
       "      <td>31.0</td>\n",
       "      <td>2016.0</td>\n",
       "      <td>early growth</td>\n",
       "      <td>https://www.linkedin.com/company/transaction-c...</td>\n",
       "      <td>2016.0</td>\n",
       "      <td>early growth</td>\n",
       "      <td>31.0</td>\n",
       "      <td>NaN</td>\n",
       "      <td>31.0</td>\n",
       "    </tr>\n",
       "  </tbody>\n",
       "</table>\n",
       "<p>1511 rows × 13 columns</p>\n",
       "</div>"
      ],
      "text/plain": [
       "           id                    name  total_funding_source employees  \\\n",
       "0     1742681  Healthcardionexion.com                     0      2-10   \n",
       "1     1743314               4P Pharma                     0     11-50   \n",
       "2     1598607                  AFYREN              21000000     11-50   \n",
       "3      894817               Abbelight               3250000     11-50   \n",
       "4     1683057                AblaCare              10000000      2-10   \n",
       "...       ...                     ...                   ...       ...   \n",
       "1506  1660577                 Opta LP                     0       NaN   \n",
       "1507   132854      Ownpage Technology                800000      2-10   \n",
       "1508    80695             Per Angusta               4454545     11-50   \n",
       "1509  1836415                 PowerUp               5000000     11-50   \n",
       "1510  1654107     Transaction Connect               1500000     11-50   \n",
       "\n",
       "      employees_latest  launch_year  growth_stage  \\\n",
       "0                  8.0       2015.0          seed   \n",
       "1                 12.0       2014.0  early growth   \n",
       "2                 31.0       2012.0  early growth   \n",
       "3                 20.0       2016.0  early growth   \n",
       "4                  4.0       2017.0          seed   \n",
       "...                ...          ...           ...   \n",
       "1506               NaN          NaN           NaN   \n",
       "1507               6.0       2012.0          seed   \n",
       "1508              38.0       2012.0  early growth   \n",
       "1509              17.0       2017.0  early growth   \n",
       "1510              31.0       2016.0  early growth   \n",
       "\n",
       "                                           linkedin_url  launch_year_clean  \\\n",
       "0             https://www.linkedin.com/company/--health             2015.0   \n",
       "1            https://www.linkedin.com/company/4p-pharma             2014.0   \n",
       "2              https://www.linkedin.com/company/9419299             2012.0   \n",
       "3            https://www.linkedin.com/company/abbelight             2016.0   \n",
       "4             https://www.linkedin.com/company/ablacare             2017.0   \n",
       "...                                                 ...                ...   \n",
       "1506        https://fr.linkedin.com/in/opta-lp-9ba2b881             2013.0   \n",
       "1507  https://www.linkedin.com/company/ownpage-techn...             2012.0   \n",
       "1508       https://www.linkedin.com/company/per-angusta             2012.0   \n",
       "1509  https://www.linkedin.com/company/powerup-techn...             2017.0   \n",
       "1510  https://www.linkedin.com/company/transaction-c...             2016.0   \n",
       "\n",
       "     growth_stage_imputed  employees_clean  nb_patents  employees_imputed  \n",
       "0                    seed              8.0         NaN                8.0  \n",
       "1            early growth             12.0         7.0               12.0  \n",
       "2            early growth             31.0        84.0               31.0  \n",
       "3            early growth             20.0         NaN               20.0  \n",
       "4                    seed              4.0         NaN                4.0  \n",
       "...                   ...              ...         ...                ...  \n",
       "1506         early growth             14.0         NaN               14.0  \n",
       "1507                 seed              6.0         NaN                6.0  \n",
       "1508         early growth             38.0         NaN               38.0  \n",
       "1509         early growth             17.0         3.0               17.0  \n",
       "1510         early growth             31.0         NaN               31.0  \n",
       "\n",
       "[1511 rows x 13 columns]"
      ]
     },
     "execution_count": 78,
     "metadata": {},
     "output_type": "execute_result"
    }
   ],
   "source": [
    "e.fit_transform(X)"
   ]
  },
  {
   "cell_type": "markdown",
   "metadata": {},
   "source": [
    "##### Patent imputing"
   ]
  },
  {
   "cell_type": "code",
   "execution_count": 149,
   "metadata": {
    "ExecuteTime": {
     "end_time": "2020-12-09T11:11:59.135722Z",
     "start_time": "2020-12-09T11:11:59.131343Z"
    }
   },
   "outputs": [],
   "source": [
    "from sklearn.pipeline import make_pipeline\n",
    "\n",
    "patent_transformer = make_pipeline(\n",
    "                                SimpleImputer(missing_values=np.nan, strategy='constant', fill_value = 0),\n",
    "                                RobustScaler())\n",
    "    \n",
    "### ROBUSTSCALER or log(1+x) ??"
   ]
  },
  {
   "cell_type": "markdown",
   "metadata": {},
   "source": [
    "##### Feature  : funding / employees ratio"
   ]
  },
  {
   "cell_type": "code",
   "execution_count": 150,
   "metadata": {
    "ExecuteTime": {
     "end_time": "2020-12-09T11:12:00.349600Z",
     "start_time": "2020-12-09T11:12:00.344758Z"
    }
   },
   "outputs": [],
   "source": [
    "from sklearn.pipeline import FeatureUnion\n",
    "from sklearn.preprocessing import FunctionTransformer\n",
    "\n",
    "funding_employees_ratio_constructor = FunctionTransformer(\n",
    "    lambda df: pd.DataFrame(df[\"total_funding_source\"] / df[\"employees_clean\"]))\n"
   ]
  },
  {
   "cell_type": "code",
   "execution_count": 151,
   "metadata": {
    "ExecuteTime": {
     "end_time": "2020-12-09T11:12:01.371436Z",
     "start_time": "2020-12-09T11:12:01.365853Z"
    }
   },
   "outputs": [],
   "source": [
    "from sklearn.pipeline import Pipeline\n",
    "\n",
    "ratio_transformer = Pipeline([\n",
    "    (\"imputer1\", EmployeeImputer()),\n",
    "    (\"ratio\", funding_employees_ratio_constructor),\n",
    "    (\"scaler\",  RobustScaler())\n",
    "])"
   ]
  },
  {
   "cell_type": "markdown",
   "metadata": {},
   "source": [
    "##### Growth stage OneHotEncoding"
   ]
  },
  {
   "cell_type": "code",
   "execution_count": 152,
   "metadata": {
    "ExecuteTime": {
     "end_time": "2020-12-09T11:12:02.351808Z",
     "start_time": "2020-12-09T11:12:02.347440Z"
    }
   },
   "outputs": [],
   "source": [
    "from sklearn.preprocessing import OneHotEncoder\n",
    "\n",
    "cat_growth_stage = OneHotEncoder(handle_unknown='ignore')"
   ]
  },
  {
   "cell_type": "markdown",
   "metadata": {},
   "source": [
    "##### Preprocessor"
   ]
  },
  {
   "cell_type": "code",
   "execution_count": 153,
   "metadata": {
    "ExecuteTime": {
     "end_time": "2020-12-09T11:12:03.752857Z",
     "start_time": "2020-12-09T11:12:03.747465Z"
    }
   },
   "outputs": [],
   "source": [
    "from sklearn.compose import ColumnTransformer\n",
    "\n",
    "preprocessor = ColumnTransformer([\n",
    "    (\"cat_growth_transformer\", cat_growth_stage, [\"growth_stage_imputed\"]),\n",
    "    (\"ratio_transformer\", ratio_transformer, [\"employees_clean\", \"employees\", \"launch_year_clean\", \"employees_latest\", \"total_funding_source\"]),\n",
    "    (\"patent_transformer\", patent_transformer, [\"nb_patents\"])\n",
    "    ])"
   ]
  },
  {
   "cell_type": "code",
   "execution_count": 154,
   "metadata": {
    "ExecuteTime": {
     "end_time": "2020-12-09T11:12:05.215315Z",
     "start_time": "2020-12-09T11:12:04.908349Z"
    }
   },
   "outputs": [
    {
     "data": {
      "text/html": [
       "<style>div.sk-top-container {color: black;background-color: white;}div.sk-toggleable {background-color: white;}label.sk-toggleable__label {cursor: pointer;display: block;width: 100%;margin-bottom: 0;padding: 0.2em 0.3em;box-sizing: border-box;text-align: center;}div.sk-toggleable__content {max-height: 0;max-width: 0;overflow: hidden;text-align: left;background-color: #f0f8ff;}div.sk-toggleable__content pre {margin: 0.2em;color: black;border-radius: 0.25em;background-color: #f0f8ff;}input.sk-toggleable__control:checked~div.sk-toggleable__content {max-height: 200px;max-width: 100%;overflow: auto;}div.sk-estimator input.sk-toggleable__control:checked~label.sk-toggleable__label {background-color: #d4ebff;}div.sk-label input.sk-toggleable__control:checked~label.sk-toggleable__label {background-color: #d4ebff;}input.sk-hidden--visually {border: 0;clip: rect(1px 1px 1px 1px);clip: rect(1px, 1px, 1px, 1px);height: 1px;margin: -1px;overflow: hidden;padding: 0;position: absolute;width: 1px;}div.sk-estimator {font-family: monospace;background-color: #f0f8ff;margin: 0.25em 0.25em;border: 1px dotted black;border-radius: 0.25em;box-sizing: border-box;}div.sk-estimator:hover {background-color: #d4ebff;}div.sk-parallel-item::after {content: \"\";width: 100%;border-bottom: 1px solid gray;flex-grow: 1;}div.sk-label:hover label.sk-toggleable__label {background-color: #d4ebff;}div.sk-serial::before {content: \"\";position: absolute;border-left: 1px solid gray;box-sizing: border-box;top: 2em;bottom: 0;left: 50%;}div.sk-serial {display: flex;flex-direction: column;align-items: center;background-color: white;}div.sk-item {z-index: 1;}div.sk-parallel {display: flex;align-items: stretch;justify-content: center;background-color: white;}div.sk-parallel-item {display: flex;flex-direction: column;position: relative;background-color: white;}div.sk-parallel-item:first-child::after {align-self: flex-end;width: 50%;}div.sk-parallel-item:last-child::after {align-self: flex-start;width: 50%;}div.sk-parallel-item:only-child::after {width: 0;}div.sk-dashed-wrapped {border: 1px dashed gray;margin: 0.2em;box-sizing: border-box;padding-bottom: 0.1em;background-color: white;position: relative;}div.sk-label label {font-family: monospace;font-weight: bold;background-color: white;display: inline-block;line-height: 1.2em;}div.sk-label-container {position: relative;z-index: 2;text-align: center;}div.sk-container {display: inline-block;position: relative;}</style><div class=\"sk-top-container\"><div class=\"sk-container\"><div class=\"sk-item sk-dashed-wrapped\"><div class=\"sk-label-container\"><div class=\"sk-label sk-toggleable\"><input class=\"sk-toggleable__control sk-hidden--visually\" id=\"ca08181c-58ab-41a1-9c2e-8e399abfeec4\" type=\"checkbox\" ><label class=\"sk-toggleable__label\" for=\"ca08181c-58ab-41a1-9c2e-8e399abfeec4\">ColumnTransformer</label><div class=\"sk-toggleable__content\"><pre>ColumnTransformer(transformers=[('cat_growth_transformer',\n",
       "                                 OneHotEncoder(handle_unknown='ignore'),\n",
       "                                 ['growth_stage_imputed']),\n",
       "                                ('ratio_transformer',\n",
       "                                 Pipeline(steps=[('imputer1',\n",
       "                                                  EmployeeImputer()),\n",
       "                                                 ('ratio',\n",
       "                                                  FunctionTransformer(func=<function <lambda> at 0x123bd6dc0>)),\n",
       "                                                 ('scaler', RobustScaler())]),\n",
       "                                 ['employees_clean', 'employees',\n",
       "                                  'launch_year_clean', 'employees_latest',\n",
       "                                  'total_funding_source']),\n",
       "                                ('patent_transformer',\n",
       "                                 Pipeline(steps=[('simpleimputer',\n",
       "                                                  SimpleImputer(fill_value=0,\n",
       "                                                                strategy='constant')),\n",
       "                                                 ('robustscaler',\n",
       "                                                  RobustScaler())]),\n",
       "                                 ['nb_patents'])])</pre></div></div></div><div class=\"sk-parallel\"><div class=\"sk-parallel-item\"><div class=\"sk-item\"><div class=\"sk-label-container\"><div class=\"sk-label sk-toggleable\"><input class=\"sk-toggleable__control sk-hidden--visually\" id=\"636d705f-3cca-47c5-bfe0-91d4932cf7bc\" type=\"checkbox\" ><label class=\"sk-toggleable__label\" for=\"636d705f-3cca-47c5-bfe0-91d4932cf7bc\">cat_growth_transformer</label><div class=\"sk-toggleable__content\"><pre>['growth_stage_imputed']</pre></div></div></div><div class=\"sk-serial\"><div class=\"sk-item\"><div class=\"sk-estimator sk-toggleable\"><input class=\"sk-toggleable__control sk-hidden--visually\" id=\"fe237b5a-b1b4-42c5-b75b-49c0255a126e\" type=\"checkbox\" ><label class=\"sk-toggleable__label\" for=\"fe237b5a-b1b4-42c5-b75b-49c0255a126e\">OneHotEncoder</label><div class=\"sk-toggleable__content\"><pre>OneHotEncoder(handle_unknown='ignore')</pre></div></div></div></div></div></div><div class=\"sk-parallel-item\"><div class=\"sk-item\"><div class=\"sk-label-container\"><div class=\"sk-label sk-toggleable\"><input class=\"sk-toggleable__control sk-hidden--visually\" id=\"039010e0-e88b-4db5-b4e2-5f79df624fe1\" type=\"checkbox\" ><label class=\"sk-toggleable__label\" for=\"039010e0-e88b-4db5-b4e2-5f79df624fe1\">ratio_transformer</label><div class=\"sk-toggleable__content\"><pre>['employees_clean', 'employees', 'launch_year_clean', 'employees_latest', 'total_funding_source']</pre></div></div></div><div class=\"sk-serial\"><div class=\"sk-item\"><div class=\"sk-serial\"><div class=\"sk-item\"><div class=\"sk-estimator sk-toggleable\"><input class=\"sk-toggleable__control sk-hidden--visually\" id=\"19bc7f6f-6a48-4cad-8e5e-e8515964f76b\" type=\"checkbox\" ><label class=\"sk-toggleable__label\" for=\"19bc7f6f-6a48-4cad-8e5e-e8515964f76b\">EmployeeImputer</label><div class=\"sk-toggleable__content\"><pre>EmployeeImputer()</pre></div></div></div><div class=\"sk-item\"><div class=\"sk-estimator sk-toggleable\"><input class=\"sk-toggleable__control sk-hidden--visually\" id=\"e134c6f3-d776-4171-8f48-816d9cad1de0\" type=\"checkbox\" ><label class=\"sk-toggleable__label\" for=\"e134c6f3-d776-4171-8f48-816d9cad1de0\">FunctionTransformer</label><div class=\"sk-toggleable__content\"><pre>FunctionTransformer(func=<function <lambda> at 0x123bd6dc0>)</pre></div></div></div><div class=\"sk-item\"><div class=\"sk-estimator sk-toggleable\"><input class=\"sk-toggleable__control sk-hidden--visually\" id=\"9d1ac0d8-5f6d-46c0-a065-a6fcc116449d\" type=\"checkbox\" ><label class=\"sk-toggleable__label\" for=\"9d1ac0d8-5f6d-46c0-a065-a6fcc116449d\">RobustScaler</label><div class=\"sk-toggleable__content\"><pre>RobustScaler()</pre></div></div></div></div></div></div></div></div><div class=\"sk-parallel-item\"><div class=\"sk-item\"><div class=\"sk-label-container\"><div class=\"sk-label sk-toggleable\"><input class=\"sk-toggleable__control sk-hidden--visually\" id=\"4c9280ab-86d0-49d4-902a-a91407e7eb58\" type=\"checkbox\" ><label class=\"sk-toggleable__label\" for=\"4c9280ab-86d0-49d4-902a-a91407e7eb58\">patent_transformer</label><div class=\"sk-toggleable__content\"><pre>['nb_patents']</pre></div></div></div><div class=\"sk-serial\"><div class=\"sk-item\"><div class=\"sk-serial\"><div class=\"sk-item\"><div class=\"sk-estimator sk-toggleable\"><input class=\"sk-toggleable__control sk-hidden--visually\" id=\"bcbffd8a-c663-4925-9f0b-ce8a1bc5eb00\" type=\"checkbox\" ><label class=\"sk-toggleable__label\" for=\"bcbffd8a-c663-4925-9f0b-ce8a1bc5eb00\">SimpleImputer</label><div class=\"sk-toggleable__content\"><pre>SimpleImputer(fill_value=0, strategy='constant')</pre></div></div></div><div class=\"sk-item\"><div class=\"sk-estimator sk-toggleable\"><input class=\"sk-toggleable__control sk-hidden--visually\" id=\"ce91db45-d101-41bb-afdd-a03f677ffc79\" type=\"checkbox\" ><label class=\"sk-toggleable__label\" for=\"ce91db45-d101-41bb-afdd-a03f677ffc79\">RobustScaler</label><div class=\"sk-toggleable__content\"><pre>RobustScaler()</pre></div></div></div></div></div></div></div></div></div></div></div></div>"
      ],
      "text/plain": [
       "ColumnTransformer(transformers=[('cat_growth_transformer',\n",
       "                                 OneHotEncoder(handle_unknown='ignore'),\n",
       "                                 ['growth_stage_imputed']),\n",
       "                                ('ratio_transformer',\n",
       "                                 Pipeline(steps=[('imputer1',\n",
       "                                                  EmployeeImputer()),\n",
       "                                                 ('ratio',\n",
       "                                                  FunctionTransformer(func=<function <lambda> at 0x123bd6dc0>)),\n",
       "                                                 ('scaler', RobustScaler())]),\n",
       "                                 ['employees_clean', 'employees',\n",
       "                                  'launch_year_clean', 'employees_latest',\n",
       "                                  'total_funding_source']),\n",
       "                                ('patent_transformer',\n",
       "                                 Pipeline(steps=[('simpleimputer',\n",
       "                                                  SimpleImputer(fill_value=0,\n",
       "                                                                strategy='constant')),\n",
       "                                                 ('robustscaler',\n",
       "                                                  RobustScaler())]),\n",
       "                                 ['nb_patents'])])"
      ]
     },
     "execution_count": 154,
     "metadata": {},
     "output_type": "execute_result"
    }
   ],
   "source": [
    "from sklearn import set_config; set_config(display='diagram')\n",
    "preprocessor"
   ]
  },
  {
   "cell_type": "code",
   "execution_count": 155,
   "metadata": {
    "ExecuteTime": {
     "end_time": "2020-12-09T11:12:06.683259Z",
     "start_time": "2020-12-09T11:12:06.677425Z"
    }
   },
   "outputs": [],
   "source": [
    "from sklearn.pipeline import Pipeline\n",
    "from sklearn.linear_model import LogisticRegression\n",
    "\n",
    "pipemodel = Pipeline(steps=[\n",
    "                            ('features', preprocessor),\n",
    "                            ('model', LogisticRegression(C = 1.52, penalty = 'l1', solver= 'liblinear'))\n",
    "                             ])"
   ]
  },
  {
   "cell_type": "code",
   "execution_count": 156,
   "metadata": {
    "ExecuteTime": {
     "end_time": "2020-12-09T11:12:09.826706Z",
     "start_time": "2020-12-09T11:12:08.331498Z"
    }
   },
   "outputs": [
    {
     "data": {
      "text/html": [
       "<style>div.sk-top-container {color: black;background-color: white;}div.sk-toggleable {background-color: white;}label.sk-toggleable__label {cursor: pointer;display: block;width: 100%;margin-bottom: 0;padding: 0.2em 0.3em;box-sizing: border-box;text-align: center;}div.sk-toggleable__content {max-height: 0;max-width: 0;overflow: hidden;text-align: left;background-color: #f0f8ff;}div.sk-toggleable__content pre {margin: 0.2em;color: black;border-radius: 0.25em;background-color: #f0f8ff;}input.sk-toggleable__control:checked~div.sk-toggleable__content {max-height: 200px;max-width: 100%;overflow: auto;}div.sk-estimator input.sk-toggleable__control:checked~label.sk-toggleable__label {background-color: #d4ebff;}div.sk-label input.sk-toggleable__control:checked~label.sk-toggleable__label {background-color: #d4ebff;}input.sk-hidden--visually {border: 0;clip: rect(1px 1px 1px 1px);clip: rect(1px, 1px, 1px, 1px);height: 1px;margin: -1px;overflow: hidden;padding: 0;position: absolute;width: 1px;}div.sk-estimator {font-family: monospace;background-color: #f0f8ff;margin: 0.25em 0.25em;border: 1px dotted black;border-radius: 0.25em;box-sizing: border-box;}div.sk-estimator:hover {background-color: #d4ebff;}div.sk-parallel-item::after {content: \"\";width: 100%;border-bottom: 1px solid gray;flex-grow: 1;}div.sk-label:hover label.sk-toggleable__label {background-color: #d4ebff;}div.sk-serial::before {content: \"\";position: absolute;border-left: 1px solid gray;box-sizing: border-box;top: 2em;bottom: 0;left: 50%;}div.sk-serial {display: flex;flex-direction: column;align-items: center;background-color: white;}div.sk-item {z-index: 1;}div.sk-parallel {display: flex;align-items: stretch;justify-content: center;background-color: white;}div.sk-parallel-item {display: flex;flex-direction: column;position: relative;background-color: white;}div.sk-parallel-item:first-child::after {align-self: flex-end;width: 50%;}div.sk-parallel-item:last-child::after {align-self: flex-start;width: 50%;}div.sk-parallel-item:only-child::after {width: 0;}div.sk-dashed-wrapped {border: 1px dashed gray;margin: 0.2em;box-sizing: border-box;padding-bottom: 0.1em;background-color: white;position: relative;}div.sk-label label {font-family: monospace;font-weight: bold;background-color: white;display: inline-block;line-height: 1.2em;}div.sk-label-container {position: relative;z-index: 2;text-align: center;}div.sk-container {display: inline-block;position: relative;}</style><div class=\"sk-top-container\"><div class=\"sk-container\"><div class=\"sk-item sk-dashed-wrapped\"><div class=\"sk-label-container\"><div class=\"sk-label sk-toggleable\"><input class=\"sk-toggleable__control sk-hidden--visually\" id=\"00551778-9ab1-4564-a7a6-441b30109349\" type=\"checkbox\" ><label class=\"sk-toggleable__label\" for=\"00551778-9ab1-4564-a7a6-441b30109349\">Pipeline</label><div class=\"sk-toggleable__content\"><pre>Pipeline(steps=[('features',\n",
       "                 ColumnTransformer(transformers=[('cat_growth_transformer',\n",
       "                                                  OneHotEncoder(handle_unknown='ignore'),\n",
       "                                                  ['growth_stage_imputed']),\n",
       "                                                 ('ratio_transformer',\n",
       "                                                  Pipeline(steps=[('imputer1',\n",
       "                                                                   EmployeeImputer()),\n",
       "                                                                  ('ratio',\n",
       "                                                                   FunctionTransformer(func=<function <lambda> at 0x123bd6dc0>)),\n",
       "                                                                  ('scaler',\n",
       "                                                                   RobustScaler())]),\n",
       "                                                  ['employees_clean',\n",
       "                                                   'employees',\n",
       "                                                   'launch_year_clean',\n",
       "                                                   'employees_latest',\n",
       "                                                   'total_funding_source']),\n",
       "                                                 ('patent_transformer',\n",
       "                                                  Pipeline(steps=[('simpleimputer',\n",
       "                                                                   SimpleImputer(fill_value=0,\n",
       "                                                                                 strategy='constant')),\n",
       "                                                                  ('robustscaler',\n",
       "                                                                   RobustScaler())]),\n",
       "                                                  ['nb_patents'])])),\n",
       "                ('model',\n",
       "                 LogisticRegression(C=1.52, penalty='l1', solver='liblinear'))])</pre></div></div></div><div class=\"sk-serial\"><div class=\"sk-item sk-dashed-wrapped\"><div class=\"sk-label-container\"><div class=\"sk-label sk-toggleable\"><input class=\"sk-toggleable__control sk-hidden--visually\" id=\"b7a368bb-999d-405b-add0-26845e999e80\" type=\"checkbox\" ><label class=\"sk-toggleable__label\" for=\"b7a368bb-999d-405b-add0-26845e999e80\">features: ColumnTransformer</label><div class=\"sk-toggleable__content\"><pre>ColumnTransformer(transformers=[('cat_growth_transformer',\n",
       "                                 OneHotEncoder(handle_unknown='ignore'),\n",
       "                                 ['growth_stage_imputed']),\n",
       "                                ('ratio_transformer',\n",
       "                                 Pipeline(steps=[('imputer1',\n",
       "                                                  EmployeeImputer()),\n",
       "                                                 ('ratio',\n",
       "                                                  FunctionTransformer(func=<function <lambda> at 0x123bd6dc0>)),\n",
       "                                                 ('scaler', RobustScaler())]),\n",
       "                                 ['employees_clean', 'employees',\n",
       "                                  'launch_year_clean', 'employees_latest',\n",
       "                                  'total_funding_source']),\n",
       "                                ('patent_transformer',\n",
       "                                 Pipeline(steps=[('simpleimputer',\n",
       "                                                  SimpleImputer(fill_value=0,\n",
       "                                                                strategy='constant')),\n",
       "                                                 ('robustscaler',\n",
       "                                                  RobustScaler())]),\n",
       "                                 ['nb_patents'])])</pre></div></div></div><div class=\"sk-parallel\"><div class=\"sk-parallel-item\"><div class=\"sk-item\"><div class=\"sk-label-container\"><div class=\"sk-label sk-toggleable\"><input class=\"sk-toggleable__control sk-hidden--visually\" id=\"b55cefa2-2b10-4490-ab2e-9eed4113000a\" type=\"checkbox\" ><label class=\"sk-toggleable__label\" for=\"b55cefa2-2b10-4490-ab2e-9eed4113000a\">cat_growth_transformer</label><div class=\"sk-toggleable__content\"><pre>['growth_stage_imputed']</pre></div></div></div><div class=\"sk-serial\"><div class=\"sk-item\"><div class=\"sk-estimator sk-toggleable\"><input class=\"sk-toggleable__control sk-hidden--visually\" id=\"215d17c4-a91e-488f-bb76-d9a67828196e\" type=\"checkbox\" ><label class=\"sk-toggleable__label\" for=\"215d17c4-a91e-488f-bb76-d9a67828196e\">OneHotEncoder</label><div class=\"sk-toggleable__content\"><pre>OneHotEncoder(handle_unknown='ignore')</pre></div></div></div></div></div></div><div class=\"sk-parallel-item\"><div class=\"sk-item\"><div class=\"sk-label-container\"><div class=\"sk-label sk-toggleable\"><input class=\"sk-toggleable__control sk-hidden--visually\" id=\"37b6f6b5-94a2-460c-91c9-777809a6c69f\" type=\"checkbox\" ><label class=\"sk-toggleable__label\" for=\"37b6f6b5-94a2-460c-91c9-777809a6c69f\">ratio_transformer</label><div class=\"sk-toggleable__content\"><pre>['employees_clean', 'employees', 'launch_year_clean', 'employees_latest', 'total_funding_source']</pre></div></div></div><div class=\"sk-serial\"><div class=\"sk-item\"><div class=\"sk-serial\"><div class=\"sk-item\"><div class=\"sk-estimator sk-toggleable\"><input class=\"sk-toggleable__control sk-hidden--visually\" id=\"42edbde6-40a2-4a5d-9824-958e661e8fa6\" type=\"checkbox\" ><label class=\"sk-toggleable__label\" for=\"42edbde6-40a2-4a5d-9824-958e661e8fa6\">EmployeeImputer</label><div class=\"sk-toggleable__content\"><pre>EmployeeImputer()</pre></div></div></div><div class=\"sk-item\"><div class=\"sk-estimator sk-toggleable\"><input class=\"sk-toggleable__control sk-hidden--visually\" id=\"643cc505-4847-4c9a-a73a-0e5f9920d5a3\" type=\"checkbox\" ><label class=\"sk-toggleable__label\" for=\"643cc505-4847-4c9a-a73a-0e5f9920d5a3\">FunctionTransformer</label><div class=\"sk-toggleable__content\"><pre>FunctionTransformer(func=<function <lambda> at 0x123bd6dc0>)</pre></div></div></div><div class=\"sk-item\"><div class=\"sk-estimator sk-toggleable\"><input class=\"sk-toggleable__control sk-hidden--visually\" id=\"78d6e9a8-a7d2-4729-aa99-3cd5d9e0a09c\" type=\"checkbox\" ><label class=\"sk-toggleable__label\" for=\"78d6e9a8-a7d2-4729-aa99-3cd5d9e0a09c\">RobustScaler</label><div class=\"sk-toggleable__content\"><pre>RobustScaler()</pre></div></div></div></div></div></div></div></div><div class=\"sk-parallel-item\"><div class=\"sk-item\"><div class=\"sk-label-container\"><div class=\"sk-label sk-toggleable\"><input class=\"sk-toggleable__control sk-hidden--visually\" id=\"cc731259-8cab-4946-b02f-9850ebab765c\" type=\"checkbox\" ><label class=\"sk-toggleable__label\" for=\"cc731259-8cab-4946-b02f-9850ebab765c\">patent_transformer</label><div class=\"sk-toggleable__content\"><pre>['nb_patents']</pre></div></div></div><div class=\"sk-serial\"><div class=\"sk-item\"><div class=\"sk-serial\"><div class=\"sk-item\"><div class=\"sk-estimator sk-toggleable\"><input class=\"sk-toggleable__control sk-hidden--visually\" id=\"219666ac-a326-4e1e-8536-77d0346910b7\" type=\"checkbox\" ><label class=\"sk-toggleable__label\" for=\"219666ac-a326-4e1e-8536-77d0346910b7\">SimpleImputer</label><div class=\"sk-toggleable__content\"><pre>SimpleImputer(fill_value=0, strategy='constant')</pre></div></div></div><div class=\"sk-item\"><div class=\"sk-estimator sk-toggleable\"><input class=\"sk-toggleable__control sk-hidden--visually\" id=\"c2f8d59d-4d8b-41c4-966a-82b2e939726e\" type=\"checkbox\" ><label class=\"sk-toggleable__label\" for=\"c2f8d59d-4d8b-41c4-966a-82b2e939726e\">RobustScaler</label><div class=\"sk-toggleable__content\"><pre>RobustScaler()</pre></div></div></div></div></div></div></div></div></div></div><div class=\"sk-item\"><div class=\"sk-estimator sk-toggleable\"><input class=\"sk-toggleable__control sk-hidden--visually\" id=\"414c29da-80ca-4715-8fe4-95f9381a4fa5\" type=\"checkbox\" ><label class=\"sk-toggleable__label\" for=\"414c29da-80ca-4715-8fe4-95f9381a4fa5\">LogisticRegression</label><div class=\"sk-toggleable__content\"><pre>LogisticRegression(C=1.52, penalty='l1', solver='liblinear')</pre></div></div></div></div></div></div></div>"
      ],
      "text/plain": [
       "Pipeline(steps=[('features',\n",
       "                 ColumnTransformer(transformers=[('cat_growth_transformer',\n",
       "                                                  OneHotEncoder(handle_unknown='ignore'),\n",
       "                                                  ['growth_stage_imputed']),\n",
       "                                                 ('ratio_transformer',\n",
       "                                                  Pipeline(steps=[('imputer1',\n",
       "                                                                   EmployeeImputer()),\n",
       "                                                                  ('ratio',\n",
       "                                                                   FunctionTransformer(func=<function <lambda> at 0x123bd6dc0>)),\n",
       "                                                                  ('scaler',\n",
       "                                                                   RobustScaler())]),\n",
       "                                                  ['employees_clean',\n",
       "                                                   'employees',\n",
       "                                                   'launch_year_clean',\n",
       "                                                   'employees_latest',\n",
       "                                                   'total_funding_source']),\n",
       "                                                 ('patent_transformer',\n",
       "                                                  Pipeline(steps=[('simpleimputer',\n",
       "                                                                   SimpleImputer(fill_value=0,\n",
       "                                                                                 strategy='constant')),\n",
       "                                                                  ('robustscaler',\n",
       "                                                                   RobustScaler())]),\n",
       "                                                  ['nb_patents'])])),\n",
       "                ('model',\n",
       "                 LogisticRegression(C=1.52, penalty='l1', solver='liblinear'))])"
      ]
     },
     "execution_count": 156,
     "metadata": {},
     "output_type": "execute_result"
    }
   ],
   "source": [
    "pipemodel"
   ]
  },
  {
   "cell_type": "code",
   "execution_count": null,
   "metadata": {},
   "outputs": [],
   "source": []
  },
  {
   "cell_type": "code",
   "execution_count": 157,
   "metadata": {
    "ExecuteTime": {
     "end_time": "2020-12-09T11:12:12.483885Z",
     "start_time": "2020-12-09T11:12:12.094579Z"
    }
   },
   "outputs": [
    {
     "name": "stderr",
     "output_type": "stream",
     "text": [
      "<ipython-input-157-7faf0755a962>:4: SettingWithCopyWarning: \n",
      "A value is trying to be set on a copy of a slice from a DataFrame\n",
      "\n",
      "See the caveats in the documentation: https://pandas.pydata.org/pandas-docs/stable/user_guide/indexing.html#returning-a-view-versus-a-copy\n",
      "  y[y ==0.5] = 0\n"
     ]
    }
   ],
   "source": [
    "data = GetData.get_data()\n",
    "X = data.drop(columns = [\"target\", \"deep_or_not\"])\n",
    "y = data.target\n",
    "y[y ==0.5] = 0"
   ]
  },
  {
   "cell_type": "code",
   "execution_count": 158,
   "metadata": {
    "ExecuteTime": {
     "end_time": "2020-12-09T11:12:14.346182Z",
     "start_time": "2020-12-09T11:12:14.335810Z"
    }
   },
   "outputs": [],
   "source": [
    "from sklearn.model_selection import train_test_split\n",
    "\n",
    "#train_test_split\n",
    "X_train, X_test, y_train, y_test = train_test_split(X, y, test_size=0.3, stratify = y)"
   ]
  },
  {
   "cell_type": "code",
   "execution_count": 160,
   "metadata": {
    "ExecuteTime": {
     "end_time": "2020-12-09T11:12:58.449663Z",
     "start_time": "2020-12-09T11:12:57.826264Z"
    }
   },
   "outputs": [
    {
     "data": {
      "text/html": [
       "<style>div.sk-top-container {color: black;background-color: white;}div.sk-toggleable {background-color: white;}label.sk-toggleable__label {cursor: pointer;display: block;width: 100%;margin-bottom: 0;padding: 0.2em 0.3em;box-sizing: border-box;text-align: center;}div.sk-toggleable__content {max-height: 0;max-width: 0;overflow: hidden;text-align: left;background-color: #f0f8ff;}div.sk-toggleable__content pre {margin: 0.2em;color: black;border-radius: 0.25em;background-color: #f0f8ff;}input.sk-toggleable__control:checked~div.sk-toggleable__content {max-height: 200px;max-width: 100%;overflow: auto;}div.sk-estimator input.sk-toggleable__control:checked~label.sk-toggleable__label {background-color: #d4ebff;}div.sk-label input.sk-toggleable__control:checked~label.sk-toggleable__label {background-color: #d4ebff;}input.sk-hidden--visually {border: 0;clip: rect(1px 1px 1px 1px);clip: rect(1px, 1px, 1px, 1px);height: 1px;margin: -1px;overflow: hidden;padding: 0;position: absolute;width: 1px;}div.sk-estimator {font-family: monospace;background-color: #f0f8ff;margin: 0.25em 0.25em;border: 1px dotted black;border-radius: 0.25em;box-sizing: border-box;}div.sk-estimator:hover {background-color: #d4ebff;}div.sk-parallel-item::after {content: \"\";width: 100%;border-bottom: 1px solid gray;flex-grow: 1;}div.sk-label:hover label.sk-toggleable__label {background-color: #d4ebff;}div.sk-serial::before {content: \"\";position: absolute;border-left: 1px solid gray;box-sizing: border-box;top: 2em;bottom: 0;left: 50%;}div.sk-serial {display: flex;flex-direction: column;align-items: center;background-color: white;}div.sk-item {z-index: 1;}div.sk-parallel {display: flex;align-items: stretch;justify-content: center;background-color: white;}div.sk-parallel-item {display: flex;flex-direction: column;position: relative;background-color: white;}div.sk-parallel-item:first-child::after {align-self: flex-end;width: 50%;}div.sk-parallel-item:last-child::after {align-self: flex-start;width: 50%;}div.sk-parallel-item:only-child::after {width: 0;}div.sk-dashed-wrapped {border: 1px dashed gray;margin: 0.2em;box-sizing: border-box;padding-bottom: 0.1em;background-color: white;position: relative;}div.sk-label label {font-family: monospace;font-weight: bold;background-color: white;display: inline-block;line-height: 1.2em;}div.sk-label-container {position: relative;z-index: 2;text-align: center;}div.sk-container {display: inline-block;position: relative;}</style><div class=\"sk-top-container\"><div class=\"sk-container\"><div class=\"sk-item sk-dashed-wrapped\"><div class=\"sk-label-container\"><div class=\"sk-label sk-toggleable\"><input class=\"sk-toggleable__control sk-hidden--visually\" id=\"27b5a4c8-0e3b-4924-b190-f91b938eb106\" type=\"checkbox\" ><label class=\"sk-toggleable__label\" for=\"27b5a4c8-0e3b-4924-b190-f91b938eb106\">Pipeline</label><div class=\"sk-toggleable__content\"><pre>Pipeline(steps=[('features',\n",
       "                 ColumnTransformer(transformers=[('cat_growth_transformer',\n",
       "                                                  OneHotEncoder(handle_unknown='ignore'),\n",
       "                                                  ['growth_stage_imputed']),\n",
       "                                                 ('ratio_transformer',\n",
       "                                                  Pipeline(steps=[('imputer1',\n",
       "                                                                   EmployeeImputer()),\n",
       "                                                                  ('ratio',\n",
       "                                                                   FunctionTransformer(func=<function <lambda> at 0x123bd6dc0>)),\n",
       "                                                                  ('scaler',\n",
       "                                                                   RobustScaler())]),\n",
       "                                                  ['employees_clean',\n",
       "                                                   'employees',\n",
       "                                                   'launch_year_clean',\n",
       "                                                   'employees_latest',\n",
       "                                                   'total_funding_source']),\n",
       "                                                 ('patent_transformer',\n",
       "                                                  Pipeline(steps=[('simpleimputer',\n",
       "                                                                   SimpleImputer(fill_value=0,\n",
       "                                                                                 strategy='constant')),\n",
       "                                                                  ('robustscaler',\n",
       "                                                                   RobustScaler())]),\n",
       "                                                  ['nb_patents'])])),\n",
       "                ('model',\n",
       "                 LogisticRegression(C=1.52, penalty='l1', solver='liblinear'))])</pre></div></div></div><div class=\"sk-serial\"><div class=\"sk-item sk-dashed-wrapped\"><div class=\"sk-label-container\"><div class=\"sk-label sk-toggleable\"><input class=\"sk-toggleable__control sk-hidden--visually\" id=\"727d4e97-1f90-4dc8-94df-c8f5eeec6d4c\" type=\"checkbox\" ><label class=\"sk-toggleable__label\" for=\"727d4e97-1f90-4dc8-94df-c8f5eeec6d4c\">features: ColumnTransformer</label><div class=\"sk-toggleable__content\"><pre>ColumnTransformer(transformers=[('cat_growth_transformer',\n",
       "                                 OneHotEncoder(handle_unknown='ignore'),\n",
       "                                 ['growth_stage_imputed']),\n",
       "                                ('ratio_transformer',\n",
       "                                 Pipeline(steps=[('imputer1',\n",
       "                                                  EmployeeImputer()),\n",
       "                                                 ('ratio',\n",
       "                                                  FunctionTransformer(func=<function <lambda> at 0x123bd6dc0>)),\n",
       "                                                 ('scaler', RobustScaler())]),\n",
       "                                 ['employees_clean', 'employees',\n",
       "                                  'launch_year_clean', 'employees_latest',\n",
       "                                  'total_funding_source']),\n",
       "                                ('patent_transformer',\n",
       "                                 Pipeline(steps=[('simpleimputer',\n",
       "                                                  SimpleImputer(fill_value=0,\n",
       "                                                                strategy='constant')),\n",
       "                                                 ('robustscaler',\n",
       "                                                  RobustScaler())]),\n",
       "                                 ['nb_patents'])])</pre></div></div></div><div class=\"sk-parallel\"><div class=\"sk-parallel-item\"><div class=\"sk-item\"><div class=\"sk-label-container\"><div class=\"sk-label sk-toggleable\"><input class=\"sk-toggleable__control sk-hidden--visually\" id=\"1b8f7871-dc80-4e0f-87cb-19f0e67e7784\" type=\"checkbox\" ><label class=\"sk-toggleable__label\" for=\"1b8f7871-dc80-4e0f-87cb-19f0e67e7784\">cat_growth_transformer</label><div class=\"sk-toggleable__content\"><pre>['growth_stage_imputed']</pre></div></div></div><div class=\"sk-serial\"><div class=\"sk-item\"><div class=\"sk-estimator sk-toggleable\"><input class=\"sk-toggleable__control sk-hidden--visually\" id=\"8d982e25-0d09-4e5c-9113-89f1cffbbde3\" type=\"checkbox\" ><label class=\"sk-toggleable__label\" for=\"8d982e25-0d09-4e5c-9113-89f1cffbbde3\">OneHotEncoder</label><div class=\"sk-toggleable__content\"><pre>OneHotEncoder(handle_unknown='ignore')</pre></div></div></div></div></div></div><div class=\"sk-parallel-item\"><div class=\"sk-item\"><div class=\"sk-label-container\"><div class=\"sk-label sk-toggleable\"><input class=\"sk-toggleable__control sk-hidden--visually\" id=\"34601929-f11d-4fda-a28c-b567f2fa9d42\" type=\"checkbox\" ><label class=\"sk-toggleable__label\" for=\"34601929-f11d-4fda-a28c-b567f2fa9d42\">ratio_transformer</label><div class=\"sk-toggleable__content\"><pre>['employees_clean', 'employees', 'launch_year_clean', 'employees_latest', 'total_funding_source']</pre></div></div></div><div class=\"sk-serial\"><div class=\"sk-item\"><div class=\"sk-serial\"><div class=\"sk-item\"><div class=\"sk-estimator sk-toggleable\"><input class=\"sk-toggleable__control sk-hidden--visually\" id=\"def96777-ed25-4d55-b949-67e16e0397bb\" type=\"checkbox\" ><label class=\"sk-toggleable__label\" for=\"def96777-ed25-4d55-b949-67e16e0397bb\">EmployeeImputer</label><div class=\"sk-toggleable__content\"><pre>EmployeeImputer()</pre></div></div></div><div class=\"sk-item\"><div class=\"sk-estimator sk-toggleable\"><input class=\"sk-toggleable__control sk-hidden--visually\" id=\"8776cc23-6c29-4a76-ac90-15defcc89f6d\" type=\"checkbox\" ><label class=\"sk-toggleable__label\" for=\"8776cc23-6c29-4a76-ac90-15defcc89f6d\">FunctionTransformer</label><div class=\"sk-toggleable__content\"><pre>FunctionTransformer(func=<function <lambda> at 0x123bd6dc0>)</pre></div></div></div><div class=\"sk-item\"><div class=\"sk-estimator sk-toggleable\"><input class=\"sk-toggleable__control sk-hidden--visually\" id=\"25f46cd5-97a7-4e71-9644-b1020bb0ce6d\" type=\"checkbox\" ><label class=\"sk-toggleable__label\" for=\"25f46cd5-97a7-4e71-9644-b1020bb0ce6d\">RobustScaler</label><div class=\"sk-toggleable__content\"><pre>RobustScaler()</pre></div></div></div></div></div></div></div></div><div class=\"sk-parallel-item\"><div class=\"sk-item\"><div class=\"sk-label-container\"><div class=\"sk-label sk-toggleable\"><input class=\"sk-toggleable__control sk-hidden--visually\" id=\"58304e83-3a17-4ee9-8fcd-5d7dc85751e2\" type=\"checkbox\" ><label class=\"sk-toggleable__label\" for=\"58304e83-3a17-4ee9-8fcd-5d7dc85751e2\">patent_transformer</label><div class=\"sk-toggleable__content\"><pre>['nb_patents']</pre></div></div></div><div class=\"sk-serial\"><div class=\"sk-item\"><div class=\"sk-serial\"><div class=\"sk-item\"><div class=\"sk-estimator sk-toggleable\"><input class=\"sk-toggleable__control sk-hidden--visually\" id=\"a9836901-fa92-4dc2-80e6-90f976c4cd3e\" type=\"checkbox\" ><label class=\"sk-toggleable__label\" for=\"a9836901-fa92-4dc2-80e6-90f976c4cd3e\">SimpleImputer</label><div class=\"sk-toggleable__content\"><pre>SimpleImputer(fill_value=0, strategy='constant')</pre></div></div></div><div class=\"sk-item\"><div class=\"sk-estimator sk-toggleable\"><input class=\"sk-toggleable__control sk-hidden--visually\" id=\"11d3a88b-c318-4c4c-9d5e-782dbb2b8168\" type=\"checkbox\" ><label class=\"sk-toggleable__label\" for=\"11d3a88b-c318-4c4c-9d5e-782dbb2b8168\">RobustScaler</label><div class=\"sk-toggleable__content\"><pre>RobustScaler()</pre></div></div></div></div></div></div></div></div></div></div><div class=\"sk-item\"><div class=\"sk-estimator sk-toggleable\"><input class=\"sk-toggleable__control sk-hidden--visually\" id=\"3ba845c8-216a-4bae-bcac-8cc94be41501\" type=\"checkbox\" ><label class=\"sk-toggleable__label\" for=\"3ba845c8-216a-4bae-bcac-8cc94be41501\">LogisticRegression</label><div class=\"sk-toggleable__content\"><pre>LogisticRegression(C=1.52, penalty='l1', solver='liblinear')</pre></div></div></div></div></div></div></div>"
      ],
      "text/plain": [
       "Pipeline(steps=[('features',\n",
       "                 ColumnTransformer(transformers=[('cat_growth_transformer',\n",
       "                                                  OneHotEncoder(handle_unknown='ignore'),\n",
       "                                                  ['growth_stage_imputed']),\n",
       "                                                 ('ratio_transformer',\n",
       "                                                  Pipeline(steps=[('imputer1',\n",
       "                                                                   EmployeeImputer()),\n",
       "                                                                  ('ratio',\n",
       "                                                                   FunctionTransformer(func=<function <lambda> at 0x123bd6dc0>)),\n",
       "                                                                  ('scaler',\n",
       "                                                                   RobustScaler())]),\n",
       "                                                  ['employees_clean',\n",
       "                                                   'employees',\n",
       "                                                   'launch_year_clean',\n",
       "                                                   'employees_latest',\n",
       "                                                   'total_funding_source']),\n",
       "                                                 ('patent_transformer',\n",
       "                                                  Pipeline(steps=[('simpleimputer',\n",
       "                                                                   SimpleImputer(fill_value=0,\n",
       "                                                                                 strategy='constant')),\n",
       "                                                                  ('robustscaler',\n",
       "                                                                   RobustScaler())]),\n",
       "                                                  ['nb_patents'])])),\n",
       "                ('model',\n",
       "                 LogisticRegression(C=1.52, penalty='l1', solver='liblinear'))])"
      ]
     },
     "execution_count": 160,
     "metadata": {},
     "output_type": "execute_result"
    }
   ],
   "source": [
    "pipemodel.fit(X, y)\n"
   ]
  },
  {
   "cell_type": "code",
   "execution_count": 161,
   "metadata": {
    "ExecuteTime": {
     "end_time": "2020-12-09T11:13:00.425139Z",
     "start_time": "2020-12-09T11:12:59.525665Z"
    }
   },
   "outputs": [],
   "source": [
    "from sklearn.model_selection import cross_validate\n",
    "\n",
    "\n",
    "# Cross validate pipeline\n",
    "cv_result = cross_validate(pipemodel, X, y, cv=10, scoring=[\"accuracy\", \"recall\", \"f1\", \"precision\"])"
   ]
  },
  {
   "cell_type": "code",
   "execution_count": 162,
   "metadata": {
    "ExecuteTime": {
     "end_time": "2020-12-09T11:13:15.749131Z",
     "start_time": "2020-12-09T11:13:15.739556Z"
    }
   },
   "outputs": [
    {
     "name": "stdout",
     "output_type": "stream",
     "text": [
      "test_accuracy :  65.06%\n",
      "test_recall :  28.52%\n",
      "test_f1 :  40.50%\n",
      "test_precision :  73.38%\n"
     ]
    }
   ],
   "source": [
    "scoring=[\"test_accuracy\", \"test_recall\", \"test_f1\", \"test_precision\"]\n",
    "\n",
    "for metric in scoring:\n",
    "    print(f\"{metric} : {cv_result[metric].mean() * 100 : .2f}%\")"
   ]
  },
  {
   "cell_type": "code",
   "execution_count": 164,
   "metadata": {
    "ExecuteTime": {
     "end_time": "2020-12-09T11:38:44.473117Z",
     "start_time": "2020-12-09T11:38:44.213311Z"
    }
   },
   "outputs": [
    {
     "data": {
      "text/plain": [
       "Index(['id', 'name', 'path', 'tagline', 'about', 'url', 'website_url',\n",
       "       'twitter_url', 'facebook_url', 'linkedin_url', 'google_url',\n",
       "       'crunchbase_url', 'angellist_url', 'playmarket_app_id',\n",
       "       'appstore_app_id', 'images', 'employees', 'employees_latest',\n",
       "       'industries', 'sub_industries', 'corporate_industries',\n",
       "       'service_industries', 'technologies', 'income_streams', 'growth_stage',\n",
       "       'traffic_summary', 'hq_locations', 'tg_locations', 'client_focus',\n",
       "       'revenues', 'tags', 'ownerships', 'payments', 'achievements',\n",
       "       'delivery_method', 'launch_year', 'launch_month', 'has_strong_founder',\n",
       "       'has_super_founder', 'total_funding', 'total_funding_source',\n",
       "       'last_funding', 'last_funding_source', 'company_status', 'last_updated',\n",
       "       'last_updated_utc', 'facebook_likes_chart', 'alexa_rank_chart',\n",
       "       'twitter_tweets_chart', 'twitter_followers_chart',\n",
       "       'twitter_favorites_chart', 'employees_chart',\n",
       "       'similarweb_3_months_growth_unique',\n",
       "       'similarweb_3_months_growth_percentile',\n",
       "       'similarweb_3_months_growth_relative',\n",
       "       'similarweb_3_months_growth_delta', 'similarweb_6_months_growth_unique',\n",
       "       'similarweb_6_months_growth_percentile',\n",
       "       'similarweb_6_months_growth_relative',\n",
       "       'similarweb_6_months_growth_delta',\n",
       "       'similarweb_12_months_growth_unique',\n",
       "       'similarweb_12_months_growth_percentile',\n",
       "       'similarweb_12_months_growth_relative',\n",
       "       'similarweb_12_months_growth_delta', 'app_3_months_growth_unique',\n",
       "       'app_3_months_growth_percentile', 'app_3_months_growth_relative',\n",
       "       'app_6_months_growth_unique', 'app_6_months_growth_percentile',\n",
       "       'app_6_months_growth_relative', 'app_12_months_growth_unique',\n",
       "       'app_12_months_growth_percentile', 'app_12_months_growth_relative',\n",
       "       'employee_3_months_growth_unique',\n",
       "       'employee_3_months_growth_percentile',\n",
       "       'employee_3_months_growth_relative', 'employee_3_months_growth_delta',\n",
       "       'employee_6_months_growth_unique',\n",
       "       'employee_6_months_growth_percentile',\n",
       "       'employee_6_months_growth_relative', 'employee_6_months_growth_delta',\n",
       "       'employee_12_months_growth_unique',\n",
       "       'employee_12_months_growth_percentile',\n",
       "       'employee_12_months_growth_relative', 'employee_12_months_growth_delta',\n",
       "       'kpi_summary', 'team', 'investors', 'fundings', 'traffic',\n",
       "       'similarweb_chart', 'job_openings', 'deep_or_not', 'target'],\n",
       "      dtype='object')"
      ]
     },
     "execution_count": 164,
     "metadata": {},
     "output_type": "execute_result"
    }
   ],
   "source": [
    "tmp = pd.read_csv(\"../bpideep/rawdata/data2020-12-03.csv\")\n",
    "tmp.columns"
   ]
  },
  {
   "cell_type": "code",
   "execution_count": 168,
   "metadata": {
    "ExecuteTime": {
     "end_time": "2020-12-09T11:39:57.305567Z",
     "start_time": "2020-12-09T11:39:57.294696Z"
    }
   },
   "outputs": [
    {
     "data": {
      "text/plain": [
       "[]                                                                                                                                                                                            431\n",
       "['vivatech2019']                                                                                                                                                                               36\n",
       "['biotechnology']                                                                                                                                                                              35\n",
       "['testing']                                                                                                                                                                                    10\n",
       "['sustainable development goals']                                                                                                                                                               9\n",
       "                                                                                                                                                                                             ... \n",
       "['cardiology', 'vivatech2019']                                                                                                                                                                  1\n",
       "['cardiology', 'pathology', 'trauma', 'biotechnology', 'regenerative medicine']                                                                                                                 1\n",
       "['biodegradable', 'biotechnology', 'molecular']                                                                                                                                                 1\n",
       "['open source', 'risk management']                                                                                                                                                              1\n",
       "['groceries', 'recipes', 'consumer goods', 'cooking', 'ecological', 'ft 1000', 'meal kits', 'direct-to-consumer', 'delivery', 'healthy food', 'shopping', 'sustainable development goals']      1\n",
       "Name: tags, Length: 894, dtype: int64"
      ]
     },
     "execution_count": 168,
     "metadata": {},
     "output_type": "execute_result"
    }
   ],
   "source": [
    "tmp.tags.value_counts()"
   ]
  },
  {
   "cell_type": "code",
   "execution_count": 93,
   "metadata": {
    "ExecuteTime": {
     "end_time": "2020-12-09T10:16:45.962461Z",
     "start_time": "2020-12-09T10:16:45.938307Z"
    }
   },
   "outputs": [
    {
     "data": {
      "text/html": [
       "<div>\n",
       "<style scoped>\n",
       "    .dataframe tbody tr th:only-of-type {\n",
       "        vertical-align: middle;\n",
       "    }\n",
       "\n",
       "    .dataframe tbody tr th {\n",
       "        vertical-align: top;\n",
       "    }\n",
       "\n",
       "    .dataframe thead th {\n",
       "        text-align: right;\n",
       "    }\n",
       "</style>\n",
       "<table border=\"1\" class=\"dataframe\">\n",
       "  <thead>\n",
       "    <tr style=\"text-align: right;\">\n",
       "      <th></th>\n",
       "      <th>id</th>\n",
       "      <th>name</th>\n",
       "      <th>target</th>\n",
       "      <th>deep_or_not</th>\n",
       "      <th>total_funding_source</th>\n",
       "      <th>employees</th>\n",
       "      <th>employees_latest</th>\n",
       "      <th>launch_year</th>\n",
       "      <th>growth_stage</th>\n",
       "      <th>linkedin_url</th>\n",
       "      <th>launch_year_clean</th>\n",
       "      <th>growth_stage_imputed</th>\n",
       "      <th>employees_clean</th>\n",
       "      <th>nb_patents</th>\n",
       "    </tr>\n",
       "  </thead>\n",
       "  <tbody>\n",
       "    <tr>\n",
       "      <th>1144</th>\n",
       "      <td>15789</td>\n",
       "      <td>Insoft</td>\n",
       "      <td>0.0</td>\n",
       "      <td>non_deeptech</td>\n",
       "      <td>0</td>\n",
       "      <td>NaN</td>\n",
       "      <td>NaN</td>\n",
       "      <td>NaN</td>\n",
       "      <td>not meaningful</td>\n",
       "      <td>https://www.linkedin.com/company/insoft</td>\n",
       "      <td>NaN</td>\n",
       "      <td>not meaningful</td>\n",
       "      <td>NaN</td>\n",
       "      <td>9.0</td>\n",
       "    </tr>\n",
       "  </tbody>\n",
       "</table>\n",
       "</div>"
      ],
      "text/plain": [
       "         id    name  target   deep_or_not  total_funding_source employees  \\\n",
       "1144  15789  Insoft     0.0  non_deeptech                     0       NaN   \n",
       "\n",
       "      employees_latest  launch_year    growth_stage  \\\n",
       "1144               NaN          NaN  not meaningful   \n",
       "\n",
       "                                 linkedin_url  launch_year_clean  \\\n",
       "1144  https://www.linkedin.com/company/insoft                NaN   \n",
       "\n",
       "     growth_stage_imputed  employees_clean  nb_patents  \n",
       "1144       not meaningful              NaN         9.0  "
      ]
     },
     "execution_count": 93,
     "metadata": {},
     "output_type": "execute_result"
    }
   ],
   "source": [
    "data[data.id == 15789]"
   ]
  },
  {
   "cell_type": "code",
   "execution_count": 117,
   "metadata": {
    "ExecuteTime": {
     "end_time": "2020-12-09T10:43:50.630546Z",
     "start_time": "2020-12-09T10:43:50.624582Z"
    }
   },
   "outputs": [],
   "source": [
    "X_ratio = X[[\"employees_clean\", \"employees\", \"launch_year_clean\", \"employees_latest\", \"total_funding_source\"]]"
   ]
  }
 ],
 "metadata": {
  "kernelspec": {
   "display_name": "Python 3",
   "language": "python",
   "name": "python3"
  },
  "language_info": {
   "codemirror_mode": {
    "name": "ipython",
    "version": 3
   },
   "file_extension": ".py",
   "mimetype": "text/x-python",
   "name": "python",
   "nbconvert_exporter": "python",
   "pygments_lexer": "ipython3",
   "version": "3.8.6"
  },
  "toc": {
   "base_numbering": 1,
   "nav_menu": {},
   "number_sections": true,
   "sideBar": true,
   "skip_h1_title": false,
   "title_cell": "Table of Contents",
   "title_sidebar": "Contents",
   "toc_cell": false,
   "toc_position": {},
   "toc_section_display": true,
   "toc_window_display": false
  },
  "varInspector": {
   "cols": {
    "lenName": 16,
    "lenType": 16,
    "lenVar": 40
   },
   "kernels_config": {
    "python": {
     "delete_cmd_postfix": "",
     "delete_cmd_prefix": "del ",
     "library": "var_list.py",
     "varRefreshCmd": "print(var_dic_list())"
    },
    "r": {
     "delete_cmd_postfix": ") ",
     "delete_cmd_prefix": "rm(",
     "library": "var_list.r",
     "varRefreshCmd": "cat(var_dic_list()) "
    }
   },
   "types_to_exclude": [
    "module",
    "function",
    "builtin_function_or_method",
    "instance",
    "_Feature"
   ],
   "window_display": false
  }
 },
 "nbformat": 4,
 "nbformat_minor": 4
}
