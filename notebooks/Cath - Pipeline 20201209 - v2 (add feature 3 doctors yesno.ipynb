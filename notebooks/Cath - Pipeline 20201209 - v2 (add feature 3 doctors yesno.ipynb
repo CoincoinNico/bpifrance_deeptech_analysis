{
 "cells": [
  {
   "cell_type": "code",
   "execution_count": null,
   "metadata": {
    "ExecuteTime": {
     "end_time": "2020-12-09T20:01:23.850200Z",
     "start_time": "2020-12-09T20:01:23.818433Z"
    }
   },
   "outputs": [],
   "source": [
    "%load_ext autoreload\n",
    "%autoreload 2"
   ]
  },
  {
   "cell_type": "code",
   "execution_count": 1,
   "metadata": {
    "ExecuteTime": {
     "end_time": "2020-12-09T22:57:17.537038Z",
     "start_time": "2020-12-09T22:57:15.553958Z"
    }
   },
   "outputs": [],
   "source": [
    "import pandas as pd\n",
    "import numpy as np\n",
    "import json\n",
    "import re\n",
    "from sklearn.impute import SimpleImputer\n",
    "from sklearn.preprocessing import OneHotEncoder, RobustScaler\n",
    "import matplotlib.pyplot as plt"
   ]
  },
  {
   "cell_type": "markdown",
   "metadata": {},
   "source": [
    "# Convert the json data in string (transformed by the pd.read_csv) to string "
   ]
  },
  {
   "cell_type": "code",
   "execution_count": 2,
   "metadata": {
    "ExecuteTime": {
     "end_time": "2020-12-09T22:57:17.562530Z",
     "start_time": "2020-12-09T22:57:17.556516Z"
    }
   },
   "outputs": [],
   "source": [
    "def load_json_field(bad_json):\n",
    "    regex = r\"\\w\\'\\w\"\n",
    "    subst = \"\"\n",
    "    bad_json = re.sub(regex, subst, bad_json)\n",
    "    bad_json = bad_json.replace(\"d' Arrouzat\", \"darrouzat\")\n",
    "    good_json = bad_json.replace(\"\\'\", \"\\\"\").replace(\"None\", \"null\").replace(\"True\", \"true\").replace(\"False\", \"false\")\n",
    "    \n",
    "    return json.loads(good_json)"
   ]
  },
  {
   "cell_type": "code",
   "execution_count": 3,
   "metadata": {
    "ExecuteTime": {
     "end_time": "2020-12-09T22:57:18.520768Z",
     "start_time": "2020-12-09T22:57:17.584985Z"
    }
   },
   "outputs": [],
   "source": [
    "data = pd.read_csv(\"../bpideep/rawdata/data2020-12-03.csv\")\n",
    "data[\"team\"] = data[\"team\"].apply(load_json_field)\n",
    "data[\"industries\"] = data[\"industries\"].apply(load_json_field)\n",
    "data[\"investors\"] = data[\"investors\"].apply(load_json_field)\n",
    "data[\"fundings\"] = data[\"fundings\"].apply(load_json_field)"
   ]
  },
  {
   "cell_type": "code",
   "execution_count": null,
   "metadata": {},
   "outputs": [],
   "source": []
  },
  {
   "cell_type": "markdown",
   "metadata": {},
   "source": [
    "# Import data + data cleaning thanks to info retrieved from Linkedin"
   ]
  },
  {
   "cell_type": "markdown",
   "metadata": {},
   "source": [
    "## DATA CLEANING"
   ]
  },
  {
   "cell_type": "code",
   "execution_count": 14,
   "metadata": {
    "ExecuteTime": {
     "end_time": "2020-12-09T23:07:26.706410Z",
     "start_time": "2020-12-09T23:07:26.686547Z"
    }
   },
   "outputs": [],
   "source": [
    "def impute_missing_launch_year(data):\n",
    "\n",
    "    names = ['Amypore',\n",
    "             'Kinnov Therapeutics',\n",
    "             'Lipofabrik',\n",
    "             'Step pharma',\n",
    "             'LiMM Therapeutics',\n",
    "             'Ilek',\n",
    "             'LysPackaging',\n",
    "             'TexiSense',\n",
    "             \"Institut de Prise en Charge de l'Obésité\",\n",
    "             'Izi Family',\n",
    "             'Arthur Dupuy',\n",
    "             'Gen.Orph',\n",
    "             'Uniris',\n",
    "             'NANOZ',\n",
    "             'Akwatyx',\n",
    "             'Black-line',\n",
    "             'Eyye',\n",
    "             \"O'Sol\",\n",
    "             'Treenox',\n",
    "             'Aqualeg',\n",
    "             'Co-assit',\n",
    "             'Wind my roof',\n",
    "             'APPARTOO',\n",
    "             'BimBamJob',\n",
    "             'Buddytherobot.com',\n",
    "             'Bcm',\n",
    "             'CCI Paris Ile de France',\n",
    "             'Datarocks',\n",
    "             'EFFICIENCIA',\n",
    "             'EONEF',\n",
    "             'FEALINX',\n",
    "             'INERIS',\n",
    "             'Marguerite',\n",
    "             'TokTokDoc',\n",
    "             'Novaquark',\n",
    "             'Peopeo',\n",
    "             'Sloclap',\n",
    "             'Swift',\n",
    "             'Sword',\n",
    "             'XT-VISION',\n",
    "             'Ryax',\n",
    "             'Sylha',\n",
    "             'Opta LP']\n",
    "\n",
    "    # inserting missing launch year and month for the 33 companies with fundraising\n",
    "    launch_years = [2018, 2015, 2012, 2014, 2018, 2016, 2015, 2010, 2011, 2016, 2015, \n",
    "                   2012, 2017, 2012, 2015, 2017, 2016, 2016, 2018, 2011, 2016, 2018, 2015, 2015, 2014, 2014, 2013,\n",
    "                   2014, 2012, 2016, 1997, 1990, 2012, 2016, 2014, 2017, 2015, 1973, 2000, 2011, 2017, 2019, 2013]\n",
    "\n",
    "    zipbObj = zip(names, launch_years)\n",
    "    launch_year_dict = dict(zipbObj)\n",
    "\n",
    "    data[\"launch_year_clean\"] = data['launch_year']\n",
    "    \n",
    "    for name, year in launch_year_dict.items() : \n",
    "        data.loc[data.name == name, \"launch_year_clean\"] = year\n",
    "    return data\n",
    "\n",
    "def get_growth_dict(df):\n",
    "    table = df[[\"growth_stage\", \"launch_year_clean\", \"id\"]].groupby(by=[\"launch_year_clean\", \"growth_stage\"]).count()\n",
    "    column = list(table.unstack(level = -1).columns)\n",
    "    growth_dict = table.unstack(level = -1).fillna(0).apply(lambda x: column[x.argmax()][1], axis = 1).to_dict()\n",
    "    \n",
    "    return growth_dict\n",
    "    \n",
    "\n",
    "def fill_missing_growth(growth_dict, growth_stage, launch_year_clean):\n",
    "   \n",
    "    if type(growth_stage) == str:\n",
    "        return growth_stage    \n",
    "    elif launch_year_clean in growth_dict:\n",
    "        return growth_dict[launch_year_clean]\n",
    "    else:\n",
    "        return growth_stage\n",
    "    \n",
    "    \n",
    "def load_json_field(bad_json):\n",
    "    regex = r\"\\w\\'\\w\"\n",
    "    subst = \"\"\n",
    "    bad_json = re.sub(regex, subst, bad_json)\n",
    "    bad_json = bad_json.replace(\"d' Arrouzat\", \"darrouzat\")\n",
    "    good_json = bad_json.replace(\"\\'\", \"\\\"\").replace(\"None\", \"null\").replace(\"True\", \"true\").replace(\"False\", \"false\")\n",
    "    \n",
    "    return json.loads(good_json)\n",
    "\n",
    "\n",
    "def get_industries(x):\n",
    "    '''\n",
    "    function that extracts info from 'industries' column through mapping\n",
    "    data['industries_list'] = data['industries'].map(lambda x: industries(x))\n",
    "    '''\n",
    "    industries_list = []\n",
    "    \n",
    "    industries = x.apply(load_json_field)\n",
    "\n",
    "    for u in range(len(industries)):\n",
    "        if len(industries[u]) > 0:\n",
    "            industries_list.append(industries[u][0]['name'])\n",
    "        else:\n",
    "            industries_list.append(\"\")\n",
    "    return industries_list\n",
    "\n",
    "def get_health(x):\n",
    "    \n",
    "    industries = get_industries(x) # list of industries\n",
    "\n",
    "    health_industry = []\n",
    "    \n",
    "    for element in industries:\n",
    "        if element == 'health':\n",
    "            health_industry.append(1)\n",
    "        else:\n",
    "            health_industry.append(0)\n",
    "    return health_industry\n",
    "\n",
    "def investors_type(x) :\n",
    "    investors_list = []\n",
    "    investors = x\n",
    "    if investors['total'] > 0 :\n",
    "        for y in range(len(investors['items'])):\n",
    "                investors_list.append(investors['items'][y]['type'])\n",
    "    return investors_list\n",
    "\n",
    "def fund_investors(x):\n",
    "\n",
    "    for row in range(len(x)):\n",
    "        if \"fund\" in x[\"investors_type\"][row] or \"investors\" in x[\"investors_type\"][row] :\n",
    "            x[\"investors_type\"][row] = 1\n",
    "\n",
    "        else :\n",
    "            x[\"investors_type\"][row] = 0\n",
    "    return x\n",
    "\n",
    "\n",
    "list_investor_type = ['fund',\n",
    " 'investor',\n",
    " 'corporate',\n",
    " 'government_nonprofit',\n",
    " 'service_provider',\n",
    " 'company',\n",
    " 'crowdfunding',\n",
    " 'workspace']"
   ]
  },
  {
   "cell_type": "code",
   "execution_count": 6,
   "metadata": {
    "ExecuteTime": {
     "end_time": "2020-12-09T23:00:57.856253Z",
     "start_time": "2020-12-09T23:00:57.835944Z"
    }
   },
   "outputs": [
    {
     "data": {
      "text/html": [
       "<div>\n",
       "<style scoped>\n",
       "    .dataframe tbody tr th:only-of-type {\n",
       "        vertical-align: middle;\n",
       "    }\n",
       "\n",
       "    .dataframe tbody tr th {\n",
       "        vertical-align: top;\n",
       "    }\n",
       "\n",
       "    .dataframe thead th {\n",
       "        text-align: right;\n",
       "    }\n",
       "</style>\n",
       "<table border=\"1\" class=\"dataframe\">\n",
       "  <thead>\n",
       "    <tr style=\"text-align: right;\">\n",
       "      <th></th>\n",
       "      <th>id</th>\n",
       "      <th>name</th>\n",
       "      <th>company_has_phd</th>\n",
       "      <th>proportion_technical</th>\n",
       "      <th>founder_from_institute</th>\n",
       "      <th>founder_has_phd</th>\n",
       "      <th>founder_pat_pub</th>\n",
       "      <th>No_people_input</th>\n",
       "    </tr>\n",
       "  </thead>\n",
       "  <tbody>\n",
       "    <tr>\n",
       "      <th>0</th>\n",
       "      <td>1742681</td>\n",
       "      <td>Healthcardionexion.com</td>\n",
       "      <td>0</td>\n",
       "      <td>NaN</td>\n",
       "      <td>NaN</td>\n",
       "      <td>NaN</td>\n",
       "      <td>NaN</td>\n",
       "      <td>1</td>\n",
       "    </tr>\n",
       "    <tr>\n",
       "      <th>1</th>\n",
       "      <td>1743314</td>\n",
       "      <td>4P Pharma</td>\n",
       "      <td>1</td>\n",
       "      <td>0.700000</td>\n",
       "      <td>0.0</td>\n",
       "      <td>1.0</td>\n",
       "      <td>0.0</td>\n",
       "      <td>0</td>\n",
       "    </tr>\n",
       "    <tr>\n",
       "      <th>2</th>\n",
       "      <td>1598607</td>\n",
       "      <td>AFYREN</td>\n",
       "      <td>1</td>\n",
       "      <td>0.300000</td>\n",
       "      <td>0.0</td>\n",
       "      <td>2.0</td>\n",
       "      <td>1.0</td>\n",
       "      <td>0</td>\n",
       "    </tr>\n",
       "    <tr>\n",
       "      <th>3</th>\n",
       "      <td>894817</td>\n",
       "      <td>Abbelight</td>\n",
       "      <td>1</td>\n",
       "      <td>0.764706</td>\n",
       "      <td>1.0</td>\n",
       "      <td>2.0</td>\n",
       "      <td>1.0</td>\n",
       "      <td>0</td>\n",
       "    </tr>\n",
       "    <tr>\n",
       "      <th>4</th>\n",
       "      <td>1683057</td>\n",
       "      <td>AblaCare</td>\n",
       "      <td>0</td>\n",
       "      <td>0.000000</td>\n",
       "      <td>0.0</td>\n",
       "      <td>0.0</td>\n",
       "      <td>0.0</td>\n",
       "      <td>0</td>\n",
       "    </tr>\n",
       "  </tbody>\n",
       "</table>\n",
       "</div>"
      ],
      "text/plain": [
       "        id                    name  company_has_phd  proportion_technical  \\\n",
       "0  1742681  Healthcardionexion.com                0                   NaN   \n",
       "1  1743314               4P Pharma                1              0.700000   \n",
       "2  1598607                  AFYREN                1              0.300000   \n",
       "3   894817               Abbelight                1              0.764706   \n",
       "4  1683057                AblaCare                0              0.000000   \n",
       "\n",
       "   founder_from_institute  founder_has_phd  founder_pat_pub  No_people_input  \n",
       "0                     NaN              NaN              NaN                1  \n",
       "1                     0.0              1.0              0.0                0  \n",
       "2                     0.0              2.0              1.0                0  \n",
       "3                     1.0              2.0              1.0                0  \n",
       "4                     0.0              0.0              0.0                0  "
      ]
     },
     "execution_count": 6,
     "metadata": {},
     "output_type": "execute_result"
    }
   ],
   "source": [
    "doctors = pd.read_csv(\"../bpideep/data/extra_features.csv\").drop(columns = \"Unnamed: 0\")\n",
    "doctors.head()"
   ]
  },
  {
   "cell_type": "code",
   "execution_count": 7,
   "metadata": {
    "ExecuteTime": {
     "end_time": "2020-12-09T23:01:26.492076Z",
     "start_time": "2020-12-09T23:01:26.478843Z"
    }
   },
   "outputs": [
    {
     "data": {
      "text/plain": [
       "company_has_phd\n",
       "0                  1080\n",
       "1                   433\n",
       "dtype: int64"
      ]
     },
     "execution_count": 7,
     "metadata": {},
     "output_type": "execute_result"
    }
   ],
   "source": [
    "doctors[[\"company_has_phd\"]].value_counts()"
   ]
  },
  {
   "cell_type": "code",
   "execution_count": 8,
   "metadata": {
    "ExecuteTime": {
     "end_time": "2020-12-09T23:01:46.828799Z",
     "start_time": "2020-12-09T23:01:46.603566Z"
    }
   },
   "outputs": [],
   "source": [
    "tmp = pd.read_csv(\"../bpideep/rawdata/data2020-12-03.csv\")"
   ]
  },
  {
   "cell_type": "code",
   "execution_count": 10,
   "metadata": {
    "ExecuteTime": {
     "end_time": "2020-12-09T23:04:11.654033Z",
     "start_time": "2020-12-09T23:04:11.602891Z"
    }
   },
   "outputs": [],
   "source": [
    "tmp_doctors = tmp.merge(doctors, left_on= \"id\", right_on= \"id\")"
   ]
  },
  {
   "cell_type": "markdown",
   "metadata": {
    "heading_collapsed": true
   },
   "source": [
    "## TEST cleaning"
   ]
  },
  {
   "cell_type": "code",
   "execution_count": null,
   "metadata": {
    "ExecuteTime": {
     "end_time": "2020-12-09T13:19:38.825848Z",
     "start_time": "2020-12-09T13:19:38.615577Z"
    },
    "hidden": true
   },
   "outputs": [],
   "source": [
    "\n",
    "tmp = pd.read_csv(\"../bpideep/rawdata/data2020-12-03.csv\")\n",
    "tmp.drop(tmp[(tmp.id == 1787891) | (tmp.id == 1893232)].index, inplace = True)\n",
    "\n",
    "tmp[tmp.growth_stage.isna()].shape\n"
   ]
  },
  {
   "cell_type": "code",
   "execution_count": null,
   "metadata": {
    "ExecuteTime": {
     "end_time": "2020-12-09T08:43:19.223778Z",
     "start_time": "2020-12-09T08:43:19.110254Z"
    },
    "hidden": true
   },
   "outputs": [],
   "source": [
    "impute_missing_launch_year(tmp)"
   ]
  },
  {
   "cell_type": "code",
   "execution_count": null,
   "metadata": {
    "ExecuteTime": {
     "end_time": "2020-12-09T08:43:21.550976Z",
     "start_time": "2020-12-09T08:43:21.484381Z"
    },
    "hidden": true
   },
   "outputs": [],
   "source": [
    "tmp['growth_stage_imputed'] = tmp.apply(lambda row: fill_missing_growth(dico,\n",
    "                row['growth_stage'], \n",
    "                row['launch_year_clean']), \n",
    "            axis=1\n",
    "        )\n",
    "        \n"
   ]
  },
  {
   "cell_type": "markdown",
   "metadata": {
    "ExecuteTime": {
     "end_time": "2020-12-09T08:09:46.219086Z",
     "start_time": "2020-12-09T08:09:46.172169Z"
    },
    "hidden": true
   },
   "source": [
    "tmp[(tmp.growth_stage_imputed.isna())].to_csv(\"missing_launchyear_growthstage.csv\")"
   ]
  },
  {
   "cell_type": "code",
   "execution_count": null,
   "metadata": {
    "ExecuteTime": {
     "end_time": "2020-12-09T08:43:24.290205Z",
     "start_time": "2020-12-09T08:43:24.257118Z"
    },
    "hidden": true
   },
   "outputs": [],
   "source": [
    "missing_list = list(tmp[(tmp.growth_stage_imputed.isna())][\"name\"])"
   ]
  },
  {
   "cell_type": "code",
   "execution_count": null,
   "metadata": {
    "ExecuteTime": {
     "end_time": "2020-12-09T08:43:25.379392Z",
     "start_time": "2020-12-09T08:43:25.347124Z"
    },
    "hidden": true
   },
   "outputs": [],
   "source": [
    "missing_list"
   ]
  },
  {
   "cell_type": "code",
   "execution_count": null,
   "metadata": {
    "ExecuteTime": {
     "end_time": "2020-12-09T08:43:26.686868Z",
     "start_time": "2020-12-09T08:43:26.658246Z"
    },
    "hidden": true
   },
   "outputs": [],
   "source": [
    "missing_years = [2012, 2017, 2012, 2015, 2017, 2016, 2016, 2018, 2011, 2016, 2018, 2015, 2015, 2014, 2014, 2013]"
   ]
  },
  {
   "cell_type": "code",
   "execution_count": null,
   "metadata": {
    "ExecuteTime": {
     "end_time": "2020-12-09T08:43:29.700942Z",
     "start_time": "2020-12-09T08:43:29.642461Z"
    },
    "hidden": true
   },
   "outputs": [],
   "source": [
    "tmp[(tmp.growth_stage_imputed.isna())]"
   ]
  },
  {
   "cell_type": "code",
   "execution_count": null,
   "metadata": {
    "ExecuteTime": {
     "end_time": "2020-12-09T08:43:40.379571Z",
     "start_time": "2020-12-09T08:43:40.349024Z"
    },
    "hidden": true
   },
   "outputs": [],
   "source": [
    "tmp['growth_stage_imputed']"
   ]
  },
  {
   "cell_type": "markdown",
   "metadata": {},
   "source": [
    "## GET_DATA"
   ]
  },
  {
   "cell_type": "code",
   "execution_count": 20,
   "metadata": {
    "ExecuteTime": {
     "end_time": "2020-12-09T23:08:38.253041Z",
     "start_time": "2020-12-09T23:08:38.242096Z"
    }
   },
   "outputs": [],
   "source": [
    "class GetData():\n",
    "\n",
    "    def get_data():\n",
    "        data = pd.read_csv(\"../bpideep/rawdata/data2020-12-03.csv\")\n",
    "\n",
    "        \n",
    "        #selection of need columns\n",
    "        data = data[[\"id\", \"name\", \"target\", \"deep_or_not\", \"total_funding_source\", \"employees\",\n",
    "                     \"employees_latest\", \"launch_year\", \"growth_stage\", \"linkedin_url\", \"industries\", \"investors\"]]\n",
    "\n",
    "#         data[\"industries\"] = data[\"industries\"].apply(load_json_field)\n",
    "        data[\"investors\"] = data[\"investors\"].apply(load_json_field)\n",
    "        data[\"investors_type\"] = pd.DataFrame(data[\"investors\"].apply(lambda row: investors_type(row)))\n",
    "        data[\"investors_type\"] = fund_investors(data[[\"investors_type\"]])\n",
    "        \n",
    "        #Health industry detection \n",
    "        data[\"health_industry\"] = pd.DataFrame(get_health(data[\"industries\"]))\n",
    "    \n",
    "        #imputing the missing launch year (only 33 done manually -> to be automatized if a new source displays it)\n",
    "        #LAUNCH_YEAR_CLEAN\n",
    "        impute_missing_launch_year(data)\n",
    "        \n",
    "        \n",
    "        \n",
    "        # drop 2 duplicated companies Lalilo and Pixyl*\n",
    "        data.drop(data[(data.id == 1787891) | (data.id == 1893232)].index, inplace = True)\n",
    "        \n",
    "        # change the \"not meaningful\" growth stage status of 15789 Insoft to mature\n",
    "        data.loc[data.id == 15789, \"growth_stage\"] = \"mature\"\n",
    "        \n",
    "        \n",
    "        #imputing missing growth_stage (mode of the launch year)\n",
    "        #GROWTH_STAGE_IMPUTED\n",
    "        growth_table = get_growth_dict(data)\n",
    "        \n",
    "#         import ipdb ; ipdb.set_trace()\n",
    "        data['growth_stage_imputed'] = data.apply(lambda row: fill_missing_growth(\n",
    "                growth_table,\n",
    "                row['growth_stage'], \n",
    "                row['launch_year_clean']), \n",
    "            axis=1\n",
    "        )\n",
    "        \n",
    "        \n",
    "        \n",
    "        #imputing missing employees values from LinkedIn scraping\n",
    "        #EMPLOYEES_CLEAN\n",
    "        missing = pd.read_csv(\"../bpideep/data/missing_employee_count.csv\")\n",
    "        data[\"employees_clean\"] = data.employees_latest\n",
    "        data.loc[data.name == \"CCI Paris Ile de France\", \"employees_clean\"] = 1793\n",
    "\n",
    "        for url in missing.linkedin_url:\n",
    "            replace_value = missing[missing.linkedin_url == url][\"check\"].iloc[0]\n",
    "            data.loc[data.linkedin_url == url, \"employees_clean\"] = replace_value\n",
    "        \n",
    "        #computing the age of companies\n",
    "        data[\"age\"] = 2020 - data.launch_year_clean\n",
    "        \n",
    "        \n",
    "        # get the number of patents\n",
    "        patent = pd.read_csv(\"../bpideep/data/patents.csv\")\n",
    "        data = pd.merge(data, patent, on= [\"id\", \"id\"], how = \"left\")\n",
    "        \n",
    "        \n",
    "        #get if the compagny has a doctor or no (from Linkedin)\n",
    "        doctors = pd.read_csv(\"../bpideep/data/extra_features.csv\").drop(columns = \"Unnamed: 0\")[[\"id\", \"company_has_phd\"]]\n",
    "        data = data.merge(doctors, left_on= \"id\", right_on= \"id\")\n",
    "        \n",
    "        return data\n",
    "\n",
    "#         *    \n",
    "#                 + 3 duplicated names but with different id : \n",
    "#                     1/ Lalilo : 926521 (http://www.lalilo.com/) vs. 1787891 (http://lalilo.fr) \n",
    "#             -> same launch date, french website no longer exists + observation  almost filled by NAN + same obs as the .com \n",
    "#             -> drop the french Lalilo (1787891)\n",
    "#                     2/ Pixyl : 892048 vs 1893232 (different websites mentioned but same website page when launched) \n",
    "#             -> kept  892048 because more info + the Dealroom profile was verified by Dealroom team on Sept, 1st 2020 vs. pending verification\n",
    "#                     3/ NANOZ : 1836121 vs 1660543 -> kept both as different companies but the second one is German "
   ]
  },
  {
   "cell_type": "code",
   "execution_count": 21,
   "metadata": {
    "ExecuteTime": {
     "end_time": "2020-12-09T23:08:39.786652Z",
     "start_time": "2020-12-09T23:08:39.158306Z"
    }
   },
   "outputs": [
    {
     "name": "stderr",
     "output_type": "stream",
     "text": [
      "<ipython-input-20-917d5a9bb261>:14: SettingWithCopyWarning: \n",
      "A value is trying to be set on a copy of a slice from a DataFrame\n",
      "\n",
      "See the caveats in the documentation: https://pandas.pydata.org/pandas-docs/stable/user_guide/indexing.html#returning-a-view-versus-a-copy\n",
      "  data[\"investors_type\"] = fund_investors(data[[\"investors_type\"]])\n",
      "<ipython-input-21-7faf0755a962>:4: SettingWithCopyWarning: \n",
      "A value is trying to be set on a copy of a slice from a DataFrame\n",
      "\n",
      "See the caveats in the documentation: https://pandas.pydata.org/pandas-docs/stable/user_guide/indexing.html#returning-a-view-versus-a-copy\n",
      "  y[y ==0.5] = 0\n"
     ]
    }
   ],
   "source": [
    "data = GetData.get_data()\n",
    "X = data.drop(columns = [\"target\", \"deep_or_not\"])\n",
    "y = data.target\n",
    "y[y ==0.5] = 0"
   ]
  },
  {
   "cell_type": "code",
   "execution_count": 22,
   "metadata": {
    "ExecuteTime": {
     "end_time": "2020-12-09T23:08:40.220763Z",
     "start_time": "2020-12-09T23:08:40.165829Z"
    }
   },
   "outputs": [
    {
     "data": {
      "text/html": [
       "<div>\n",
       "<style scoped>\n",
       "    .dataframe tbody tr th:only-of-type {\n",
       "        vertical-align: middle;\n",
       "    }\n",
       "\n",
       "    .dataframe tbody tr th {\n",
       "        vertical-align: top;\n",
       "    }\n",
       "\n",
       "    .dataframe thead th {\n",
       "        text-align: right;\n",
       "    }\n",
       "</style>\n",
       "<table border=\"1\" class=\"dataframe\">\n",
       "  <thead>\n",
       "    <tr style=\"text-align: right;\">\n",
       "      <th></th>\n",
       "      <th>id</th>\n",
       "      <th>name</th>\n",
       "      <th>total_funding_source</th>\n",
       "      <th>employees</th>\n",
       "      <th>employees_latest</th>\n",
       "      <th>launch_year</th>\n",
       "      <th>growth_stage</th>\n",
       "      <th>linkedin_url</th>\n",
       "      <th>industries</th>\n",
       "      <th>investors</th>\n",
       "      <th>investors_type</th>\n",
       "      <th>health_industry</th>\n",
       "      <th>launch_year_clean</th>\n",
       "      <th>growth_stage_imputed</th>\n",
       "      <th>employees_clean</th>\n",
       "      <th>age</th>\n",
       "      <th>nb_patents</th>\n",
       "      <th>company_has_phd</th>\n",
       "    </tr>\n",
       "  </thead>\n",
       "  <tbody>\n",
       "    <tr>\n",
       "      <th>0</th>\n",
       "      <td>1742681</td>\n",
       "      <td>Healthcardionexion.com</td>\n",
       "      <td>0</td>\n",
       "      <td>2-10</td>\n",
       "      <td>8.0</td>\n",
       "      <td>2015.0</td>\n",
       "      <td>seed</td>\n",
       "      <td>https://www.linkedin.com/company/--health</td>\n",
       "      <td>[{'id': 1254, 'name': 'health'}]</td>\n",
       "      <td>{'items': [], 'total': 0}</td>\n",
       "      <td>0</td>\n",
       "      <td>1</td>\n",
       "      <td>2015.0</td>\n",
       "      <td>seed</td>\n",
       "      <td>8.0</td>\n",
       "      <td>5.0</td>\n",
       "      <td>NaN</td>\n",
       "      <td>0</td>\n",
       "    </tr>\n",
       "    <tr>\n",
       "      <th>1</th>\n",
       "      <td>1743314</td>\n",
       "      <td>4P Pharma</td>\n",
       "      <td>0</td>\n",
       "      <td>11-50</td>\n",
       "      <td>12.0</td>\n",
       "      <td>2014.0</td>\n",
       "      <td>early growth</td>\n",
       "      <td>https://www.linkedin.com/company/4p-pharma</td>\n",
       "      <td>[{'id': 1254, 'name': 'health'}, {'id': 1264, ...</td>\n",
       "      <td>{'items': [], 'total': 0}</td>\n",
       "      <td>0</td>\n",
       "      <td>1</td>\n",
       "      <td>2014.0</td>\n",
       "      <td>early growth</td>\n",
       "      <td>12.0</td>\n",
       "      <td>6.0</td>\n",
       "      <td>7.0</td>\n",
       "      <td>1</td>\n",
       "    </tr>\n",
       "    <tr>\n",
       "      <th>2</th>\n",
       "      <td>1598607</td>\n",
       "      <td>AFYREN</td>\n",
       "      <td>21000000</td>\n",
       "      <td>11-50</td>\n",
       "      <td>31.0</td>\n",
       "      <td>2012.0</td>\n",
       "      <td>early growth</td>\n",
       "      <td>https://www.linkedin.com/company/9419299</td>\n",
       "      <td>[{'id': 100023, 'name': 'energy'}]</td>\n",
       "      <td>{'items': [{'id': 17581, 'name': 'Sofinnova Pa...</td>\n",
       "      <td>1</td>\n",
       "      <td>0</td>\n",
       "      <td>2012.0</td>\n",
       "      <td>early growth</td>\n",
       "      <td>31.0</td>\n",
       "      <td>8.0</td>\n",
       "      <td>84.0</td>\n",
       "      <td>1</td>\n",
       "    </tr>\n",
       "    <tr>\n",
       "      <th>3</th>\n",
       "      <td>894817</td>\n",
       "      <td>Abbelight</td>\n",
       "      <td>3250000</td>\n",
       "      <td>11-50</td>\n",
       "      <td>20.0</td>\n",
       "      <td>2016.0</td>\n",
       "      <td>early growth</td>\n",
       "      <td>https://www.linkedin.com/company/abbelight</td>\n",
       "      <td>[{'id': 1254, 'name': 'health'}]</td>\n",
       "      <td>{'items': [{'id': 885471, 'name': 'Agoranov', ...</td>\n",
       "      <td>1</td>\n",
       "      <td>1</td>\n",
       "      <td>2016.0</td>\n",
       "      <td>early growth</td>\n",
       "      <td>20.0</td>\n",
       "      <td>4.0</td>\n",
       "      <td>NaN</td>\n",
       "      <td>1</td>\n",
       "    </tr>\n",
       "    <tr>\n",
       "      <th>4</th>\n",
       "      <td>1683057</td>\n",
       "      <td>AblaCare</td>\n",
       "      <td>10000000</td>\n",
       "      <td>2-10</td>\n",
       "      <td>4.0</td>\n",
       "      <td>2017.0</td>\n",
       "      <td>seed</td>\n",
       "      <td>https://www.linkedin.com/company/ablacare</td>\n",
       "      <td>[{'id': 1254, 'name': 'health'}]</td>\n",
       "      <td>{'items': [{'id': 1237998, 'name': 'Sofinnova ...</td>\n",
       "      <td>1</td>\n",
       "      <td>1</td>\n",
       "      <td>2017.0</td>\n",
       "      <td>seed</td>\n",
       "      <td>4.0</td>\n",
       "      <td>3.0</td>\n",
       "      <td>NaN</td>\n",
       "      <td>0</td>\n",
       "    </tr>\n",
       "  </tbody>\n",
       "</table>\n",
       "</div>"
      ],
      "text/plain": [
       "        id                    name  total_funding_source employees  \\\n",
       "0  1742681  Healthcardionexion.com                     0      2-10   \n",
       "1  1743314               4P Pharma                     0     11-50   \n",
       "2  1598607                  AFYREN              21000000     11-50   \n",
       "3   894817               Abbelight               3250000     11-50   \n",
       "4  1683057                AblaCare              10000000      2-10   \n",
       "\n",
       "   employees_latest  launch_year  growth_stage  \\\n",
       "0               8.0       2015.0          seed   \n",
       "1              12.0       2014.0  early growth   \n",
       "2              31.0       2012.0  early growth   \n",
       "3              20.0       2016.0  early growth   \n",
       "4               4.0       2017.0          seed   \n",
       "\n",
       "                                 linkedin_url  \\\n",
       "0   https://www.linkedin.com/company/--health   \n",
       "1  https://www.linkedin.com/company/4p-pharma   \n",
       "2    https://www.linkedin.com/company/9419299   \n",
       "3  https://www.linkedin.com/company/abbelight   \n",
       "4   https://www.linkedin.com/company/ablacare   \n",
       "\n",
       "                                          industries  \\\n",
       "0                   [{'id': 1254, 'name': 'health'}]   \n",
       "1  [{'id': 1254, 'name': 'health'}, {'id': 1264, ...   \n",
       "2                 [{'id': 100023, 'name': 'energy'}]   \n",
       "3                   [{'id': 1254, 'name': 'health'}]   \n",
       "4                   [{'id': 1254, 'name': 'health'}]   \n",
       "\n",
       "                                           investors investors_type  \\\n",
       "0                          {'items': [], 'total': 0}              0   \n",
       "1                          {'items': [], 'total': 0}              0   \n",
       "2  {'items': [{'id': 17581, 'name': 'Sofinnova Pa...              1   \n",
       "3  {'items': [{'id': 885471, 'name': 'Agoranov', ...              1   \n",
       "4  {'items': [{'id': 1237998, 'name': 'Sofinnova ...              1   \n",
       "\n",
       "   health_industry  launch_year_clean growth_stage_imputed  employees_clean  \\\n",
       "0                1             2015.0                 seed              8.0   \n",
       "1                1             2014.0         early growth             12.0   \n",
       "2                0             2012.0         early growth             31.0   \n",
       "3                1             2016.0         early growth             20.0   \n",
       "4                1             2017.0                 seed              4.0   \n",
       "\n",
       "   age  nb_patents  company_has_phd  \n",
       "0  5.0         NaN                0  \n",
       "1  6.0         7.0                1  \n",
       "2  8.0        84.0                1  \n",
       "3  4.0         NaN                1  \n",
       "4  3.0         NaN                0  "
      ]
     },
     "execution_count": 22,
     "metadata": {},
     "output_type": "execute_result"
    }
   ],
   "source": [
    "X.head()"
   ]
  },
  {
   "cell_type": "markdown",
   "metadata": {
    "heading_collapsed": true
   },
   "source": [
    "## TEST"
   ]
  },
  {
   "cell_type": "code",
   "execution_count": null,
   "metadata": {
    "ExecuteTime": {
     "end_time": "2020-12-08T18:09:16.269102Z",
     "start_time": "2020-12-08T18:09:15.990652Z"
    },
    "hidden": true
   },
   "outputs": [],
   "source": [
    "data = GetData.get_data()"
   ]
  },
  {
   "cell_type": "code",
   "execution_count": null,
   "metadata": {
    "ExecuteTime": {
     "end_time": "2020-12-08T18:09:16.396444Z",
     "start_time": "2020-12-08T18:09:16.390994Z"
    },
    "hidden": true
   },
   "outputs": [],
   "source": [
    "data.shape"
   ]
  },
  {
   "cell_type": "code",
   "execution_count": null,
   "metadata": {
    "ExecuteTime": {
     "end_time": "2020-12-08T18:58:49.380948Z",
     "start_time": "2020-12-08T18:58:49.359874Z"
    },
    "hidden": true
   },
   "outputs": [],
   "source": [
    "data.columns"
   ]
  },
  {
   "cell_type": "code",
   "execution_count": null,
   "metadata": {
    "ExecuteTime": {
     "end_time": "2020-12-08T18:09:16.608173Z",
     "start_time": "2020-12-08T18:09:16.597872Z"
    },
    "hidden": true
   },
   "outputs": [],
   "source": [
    "data[(data.employees.notna()) & (data.employees_clean.isna())].shape"
   ]
  },
  {
   "cell_type": "markdown",
   "metadata": {
    "hidden": true
   },
   "source": [
    "présence de math.nan ?"
   ]
  },
  {
   "cell_type": "code",
   "execution_count": null,
   "metadata": {
    "ExecuteTime": {
     "end_time": "2020-12-08T18:09:17.468030Z",
     "start_time": "2020-12-08T18:09:17.431165Z"
    },
    "hidden": true
   },
   "outputs": [],
   "source": [
    "data[(data.employees.isna()) & (data.employees_clean.isna())]"
   ]
  },
  {
   "cell_type": "code",
   "execution_count": null,
   "metadata": {
    "ExecuteTime": {
     "end_time": "2020-12-08T18:09:18.006878Z",
     "start_time": "2020-12-08T18:09:17.989069Z"
    },
    "hidden": true
   },
   "outputs": [],
   "source": [
    "res = replace_employees(data)"
   ]
  },
  {
   "cell_type": "code",
   "execution_count": null,
   "metadata": {
    "ExecuteTime": {
     "end_time": "2020-12-08T18:09:18.695489Z",
     "start_time": "2020-12-08T18:09:18.678151Z"
    },
    "hidden": true,
    "scrolled": false
   },
   "outputs": [],
   "source": [
    "res[res.employees_imputed.isna()][[\"name\", \"employees_latest\", \"employees\", \"employees_clean\", \"employees_imputed\", \"launch_year_clean\"]].groupby(by = \"launch_year_clean\").count()"
   ]
  },
  {
   "cell_type": "code",
   "execution_count": null,
   "metadata": {
    "ExecuteTime": {
     "end_time": "2020-12-08T18:09:19.494865Z",
     "start_time": "2020-12-08T18:09:19.478962Z"
    },
    "hidden": true
   },
   "outputs": [],
   "source": [
    "res[(res.employees_imputed.isna()) & (res.launch_year_clean < 2010)][[\"name\", \"employees_latest\", \"employees\", \"employees_clean\", \"employees_imputed\", \"launch_year_clean\"]].groupby(by = \"launch_year_clean\").count()"
   ]
  },
  {
   "cell_type": "code",
   "execution_count": null,
   "metadata": {
    "ExecuteTime": {
     "end_time": "2020-12-08T18:09:20.371593Z",
     "start_time": "2020-12-08T18:09:20.342568Z"
    },
    "hidden": true
   },
   "outputs": [],
   "source": [
    "yg_median = res[[\"employees_imputed\", \"launch_year_clean\"]].groupby(by=[\"launch_year_clean\"]).median()\n",
    "years = data.launch_year_clean.unique()\n",
    "years = [nb for nb in years if nb >= 2010]\n",
    "\n",
    "print(yg_median)\n",
    "\n",
    "\n",
    "for year in years:\n",
    "    replace_value = yg_median.loc[(year)][0]\n",
    "    boolean_condition = ((res.launch_year_clean == year) & (res.employees_imputed.isna()))\n",
    "    res.loc[boolean_condition, \"employees_imputed\"] = replace_value\n"
   ]
  },
  {
   "cell_type": "code",
   "execution_count": null,
   "metadata": {
    "ExecuteTime": {
     "end_time": "2020-12-08T18:09:33.297797Z",
     "start_time": "2020-12-08T18:09:33.280596Z"
    },
    "hidden": true,
    "scrolled": true
   },
   "outputs": [],
   "source": [
    "res[res.employees_imputed.isna()][[\"name\", \"employees_latest\", \"employees\", \"employees_clean\", \"employees_imputed\", \"launch_year_clean\"]].groupby(by = \"launch_year_clean\").count()"
   ]
  },
  {
   "cell_type": "code",
   "execution_count": null,
   "metadata": {
    "ExecuteTime": {
     "end_time": "2020-12-08T18:11:34.782947Z",
     "start_time": "2020-12-08T18:11:34.772323Z"
    },
    "hidden": true
   },
   "outputs": [],
   "source": [
    "#median_bef_2010 \n",
    "res[res.launch_year_clean < 2010][[\"employees_imputed\"]].median()"
   ]
  },
  {
   "cell_type": "code",
   "execution_count": null,
   "metadata": {
    "ExecuteTime": {
     "end_time": "2020-12-08T18:12:05.390451Z",
     "start_time": "2020-12-08T18:12:05.380200Z"
    },
    "hidden": true
   },
   "outputs": [],
   "source": [
    "res[res.launch_year_clean.notna()][[\"employees_imputed\"]].median()"
   ]
  },
  {
   "cell_type": "markdown",
   "metadata": {},
   "source": [
    "# PIPELINE"
   ]
  },
  {
   "cell_type": "markdown",
   "metadata": {},
   "source": [
    "##### employees imputing  : age"
   ]
  },
  {
   "cell_type": "code",
   "execution_count": 25,
   "metadata": {
    "ExecuteTime": {
     "end_time": "2020-12-09T23:11:09.825794Z",
     "start_time": "2020-12-09T23:11:09.811918Z"
    }
   },
   "outputs": [],
   "source": [
    "import re\n",
    "import math\n",
    "from sklearn.base import BaseEstimator, TransformerMixin\n",
    "\n",
    "\n",
    "def average_list(range_list):\n",
    "    return sum(range_list)/len(range_list)\n",
    "\n",
    "def compute_employees_mean(data):\n",
    "    range_list = list(data.employees.unique())\n",
    "    try:\n",
    "        range_list.remove(\"n.a.\")\n",
    "    except:\n",
    "        pass\n",
    "    keys_list = []\n",
    "    means_list = []\n",
    "\n",
    "    for i in range(len(range_list)) :\n",
    "        if type(range_list[i]) == str :\n",
    "            temp = re.findall(r'\\d+', range_list[i]) \n",
    "            res = list(map(int, temp)) \n",
    "            mean = average_list(res)\n",
    "            means_list.append(mean)\n",
    "            keys_list.append(range_list[i])\n",
    "        else:\n",
    "            pass\n",
    "\n",
    "    zip_iterator = zip(keys_list, means_list)\n",
    "    range_dict = dict(zip_iterator)\n",
    "    \n",
    "    return range_dict\n",
    "\n",
    "def replace_employees(df):\n",
    "\n",
    "    dictionary = compute_employees_mean(df)\n",
    "    for key, value in dictionary.items():\n",
    "        df.loc[(df.employees == key) & (df.employees_latest.isna()), \"employees_clean\"] = value\n",
    "    return df\n",
    "            \n",
    "            \n",
    "class EmployeeImputer(BaseEstimator, TransformerMixin):\n",
    "    \n",
    "    def fit(self, X, y=None):\n",
    "        \n",
    "        # impute according to the range mean\n",
    "        data = X.copy()\n",
    "        data = replace_employees(data)\n",
    "\n",
    "        \n",
    "        \n",
    "        self.yg_median = data[[\"employees_clean\", \"launch_year_clean\"]].groupby(by=[\"launch_year_clean\"]).median()\n",
    "        self.years = data.launch_year_clean.unique()\n",
    "        self.years = [nb for nb in self.years if nb >= 2010]\n",
    "\n",
    "        return self\n",
    "    \n",
    "    def transform(self, X, y=None):\n",
    "        X = replace_employees(X)\n",
    "        \n",
    "        # impute according to the median of the companies launched after 2010\n",
    "        for year in self.years:\n",
    "            replace_value = self.yg_median.loc[(year)][0]\n",
    "            boolean_condition = ((X.launch_year_clean == year) & (X.employees_clean.isna()))\n",
    "            X.loc[boolean_condition, \"employees_clean\"] = replace_value\n",
    "        \n",
    "        \n",
    "        median_all_dataset = X[X.launch_year_clean.notna()][[\"employees_clean\"]].median()\n",
    "        X.loc[X.employees_clean.isna(), \"employees_clean\"] = replace_value\n",
    "\n",
    "        return X\n",
    "    \n",
    "    \n",
    "\n"
   ]
  },
  {
   "cell_type": "markdown",
   "metadata": {},
   "source": [
    "##### Patent_transformer"
   ]
  },
  {
   "cell_type": "code",
   "execution_count": 28,
   "metadata": {
    "ExecuteTime": {
     "end_time": "2020-12-09T23:11:18.407677Z",
     "start_time": "2020-12-09T23:11:18.403553Z"
    }
   },
   "outputs": [],
   "source": [
    "from sklearn.pipeline import make_pipeline\n",
    "\n",
    "patent_transformer = make_pipeline(\n",
    "                                SimpleImputer(missing_values=np.nan, strategy='constant', fill_value = 0),\n",
    "                                RobustScaler())\n",
    "    \n",
    "### ROBUSTSCALER or log(1+x) ??"
   ]
  },
  {
   "cell_type": "markdown",
   "metadata": {},
   "source": [
    "##### Ratio_transformer  : funding / employees ratio"
   ]
  },
  {
   "cell_type": "code",
   "execution_count": 29,
   "metadata": {
    "ExecuteTime": {
     "end_time": "2020-12-09T23:11:19.122417Z",
     "start_time": "2020-12-09T23:11:19.116305Z"
    }
   },
   "outputs": [],
   "source": [
    "from sklearn.pipeline import FeatureUnion\n",
    "from sklearn.preprocessing import FunctionTransformer\n",
    "\n",
    "funding_employees_ratio_constructor = FunctionTransformer(\n",
    "    lambda df: pd.DataFrame(df[\"total_funding_source\"] / df[\"employees_clean\"]))\n"
   ]
  },
  {
   "cell_type": "code",
   "execution_count": 30,
   "metadata": {
    "ExecuteTime": {
     "end_time": "2020-12-09T23:11:19.547141Z",
     "start_time": "2020-12-09T23:11:19.542659Z"
    }
   },
   "outputs": [],
   "source": [
    "from sklearn.pipeline import Pipeline\n",
    "\n",
    "ratio_transformer = Pipeline([\n",
    "    (\"imputer1\", EmployeeImputer()),\n",
    "    (\"ratio\", funding_employees_ratio_constructor),\n",
    "    (\"scaler\",  RobustScaler())\n",
    "])"
   ]
  },
  {
   "cell_type": "markdown",
   "metadata": {},
   "source": [
    "##### Growth_transformer"
   ]
  },
  {
   "cell_type": "markdown",
   "metadata": {},
   "source": [
    "###### Age imputer"
   ]
  },
  {
   "cell_type": "code",
   "execution_count": 31,
   "metadata": {
    "ExecuteTime": {
     "end_time": "2020-12-09T23:11:22.909538Z",
     "start_time": "2020-12-09T23:11:22.905941Z"
    }
   },
   "outputs": [],
   "source": [
    "age_imputer = make_pipeline(SimpleImputer(missing_values=np.nan, strategy='mean'))"
   ]
  },
  {
   "cell_type": "markdown",
   "metadata": {},
   "source": [
    "###### Growth stage Transformer (1-4)"
   ]
  },
  {
   "cell_type": "code",
   "execution_count": 32,
   "metadata": {
    "ExecuteTime": {
     "end_time": "2020-12-09T23:11:23.617306Z",
     "start_time": "2020-12-09T23:11:23.611889Z"
    }
   },
   "outputs": [],
   "source": [
    "dictionary = {'mature' : 4, 'late growth' : 3,'early growth' : 2, 'seed' : 1}\n",
    "\n",
    "\n",
    "growth_stage_transformer = FunctionTransformer(\n",
    "    lambda df: df[['growth_stage_imputed']].applymap(lambda x: dictionary[x]))\n"
   ]
  },
  {
   "cell_type": "code",
   "execution_count": 33,
   "metadata": {
    "ExecuteTime": {
     "end_time": "2020-12-09T23:11:24.168470Z",
     "start_time": "2020-12-09T23:11:24.149414Z"
    }
   },
   "outputs": [],
   "source": [
    "from sklearn.compose import ColumnTransformer\n",
    "\n",
    "growth_stage_age_preparator = ColumnTransformer([\n",
    "    [\"age_imputer\", age_imputer, [\"age\"]],\n",
    "    [\"growth_stage_transformer\", growth_stage_transformer, [\"growth_stage_imputed\"]],\n",
    "])"
   ]
  },
  {
   "cell_type": "markdown",
   "metadata": {},
   "source": [
    "###### Growth_stage_age_ratio"
   ]
  },
  {
   "cell_type": "code",
   "execution_count": 34,
   "metadata": {
    "ExecuteTime": {
     "end_time": "2020-12-09T23:11:25.700244Z",
     "start_time": "2020-12-09T23:11:25.696414Z"
    }
   },
   "outputs": [],
   "source": [
    "def compute_growth_age_ratio(arr):\n",
    "#     import ipdb ; ipdb.set_trace()\n",
    "    arr[arr[:,0]== 0, 0] = 1\n",
    "    return np.expand_dims(arr[:,1]/arr[:,0], -1)\n",
    "\n",
    "growth_stage_age_ratio_constructor = FunctionTransformer(compute_growth_age_ratio)\n"
   ]
  },
  {
   "cell_type": "code",
   "execution_count": 35,
   "metadata": {
    "ExecuteTime": {
     "end_time": "2020-12-09T23:11:26.164897Z",
     "start_time": "2020-12-09T23:11:26.159672Z"
    }
   },
   "outputs": [],
   "source": [
    "growth_transformer = Pipeline([\n",
    "    [\"growth_stage_age_preparator\", growth_stage_age_preparator], \n",
    "    [\"growth_stage_age_ratio_constructor\", growth_stage_age_ratio_constructor],\n",
    "])"
   ]
  },
  {
   "cell_type": "markdown",
   "metadata": {},
   "source": [
    "##### Health industry "
   ]
  },
  {
   "cell_type": "code",
   "execution_count": 36,
   "metadata": {
    "ExecuteTime": {
     "end_time": "2020-12-09T23:11:27.775673Z",
     "start_time": "2020-12-09T23:11:27.770819Z"
    }
   },
   "outputs": [],
   "source": [
    "class NoTransformer(BaseEstimator, TransformerMixin):\n",
    "    def fit(self, X, y=None):\n",
    "        return self\n",
    "\n",
    "    def transform(self, X):\n",
    "        return X\n",
    "\n",
    "NoTransformer = ColumnTransformer([\n",
    "    [\"health_notransformer\", NoTransformer(), [\"health_industry\"]],\n",
    "    [\"fund_investor_notransformer\", NoTransformer(), [\"investors_type\"]],\n",
    "    [\"doctor_notransformer\", NoTransformer(), [\"company_has_phd\"]]\n",
    "])"
   ]
  },
  {
   "cell_type": "markdown",
   "metadata": {
    "ExecuteTime": {
     "end_time": "2020-12-09T17:25:16.381952Z",
     "start_time": "2020-12-09T17:25:16.305644Z"
    }
   },
   "source": [
    "##### Fund in investors type"
   ]
  },
  {
   "cell_type": "code",
   "execution_count": 37,
   "metadata": {
    "ExecuteTime": {
     "end_time": "2020-12-09T23:11:29.846180Z",
     "start_time": "2020-12-09T23:11:29.842537Z"
    }
   },
   "outputs": [],
   "source": [
    "\n",
    "# or \"crowdfunding\" in X[row] or \"corporate\" in X[row] or 'government_nonprofit' in X[row]\n",
    "\n",
    "# def fund_in_investor(arr):\n",
    "# #     import ipdb ; ipdb.set_trace()\n",
    "#     arr[\"fund\" in arr[:,0], 0] = 1\n",
    "#     arr[\"investors\" in arr[:,0], 0] = 1\n",
    "#     arr[arr[:,0] != 1, 0] = 0\n",
    "#     return arr\n",
    "\n",
    "\n",
    "\n",
    "# def fund_in_investor(arr):\n",
    "#     arr[\"fund\" in arr[:,0], 0] = 1\n",
    "#     return arr\n",
    "\n",
    "\n",
    "# NoTransformer2 = ColumnTransformer([\n",
    "#     [\"fund_investor_transformer\"], NoTransformer(), [\"investors_type\"]]\n",
    "# ])\n",
    "\n",
    "# fund_in_type_constructor = FunctionTransformer(\n",
    "#     lambda df: df[[\"investors_type\"]].apply(fund_in_investor)\n",
    "#     )"
   ]
  },
  {
   "cell_type": "markdown",
   "metadata": {},
   "source": [
    "##### company_has_phd"
   ]
  },
  {
   "cell_type": "markdown",
   "metadata": {
    "ExecuteTime": {
     "end_time": "2020-12-09T23:09:29.958191Z",
     "start_time": "2020-12-09T23:09:29.946162Z"
    }
   },
   "source": [
    "NoTransformer (cf. above)"
   ]
  },
  {
   "cell_type": "markdown",
   "metadata": {
    "ExecuteTime": {
     "end_time": "2020-12-09T22:06:46.534152Z",
     "start_time": "2020-12-09T22:06:46.483933Z"
    }
   },
   "source": [
    "old[\"investors_type\"] = pd.DataFrame(old[\"investors\"].apply(lambda row: investors_type(row)))\n",
    "\n",
    "# fund_in_type_constructor.fit_transform(old[[\"investors_type\"]]).value_counts()\n",
    "\n",
    "\n",
    "#output : \n",
    "#1    971\n",
    "#0    543\n",
    "fund_in_type_constructor.fit_transform(old[\"investors_type\"])"
   ]
  },
  {
   "cell_type": "markdown",
   "metadata": {},
   "source": [
    "##### Preprocessor"
   ]
  },
  {
   "cell_type": "code",
   "execution_count": 39,
   "metadata": {
    "ExecuteTime": {
     "end_time": "2020-12-09T23:11:44.568752Z",
     "start_time": "2020-12-09T23:11:44.563426Z"
    }
   },
   "outputs": [],
   "source": [
    "from sklearn import set_config; set_config(display='diagram')\n",
    "from sklearn.compose import ColumnTransformer\n",
    "\n",
    "preprocessor = ColumnTransformer([\n",
    "    (\"growth_transformer\", growth_transformer, [\"growth_stage_imputed\", \"age\"]),\n",
    "    (\"ratio_transformer\", ratio_transformer, [\"employees_clean\", \"employees\", \"launch_year_clean\", \"employees_latest\", \"total_funding_source\"]),\n",
    "    (\"patent_transformer\", patent_transformer, [\"nb_patents\"]),\n",
    "    (\"identity\", NoTransformer, [\"health_industry\", \"investors_type\", \"company_has_phd\"]),\n",
    "    ])"
   ]
  },
  {
   "cell_type": "markdown",
   "metadata": {
    "ExecuteTime": {
     "end_time": "2020-12-09T14:53:55.780855Z",
     "start_time": "2020-12-09T14:53:55.752962Z"
    }
   },
   "source": [
    "##### Pipeline"
   ]
  },
  {
   "cell_type": "code",
   "execution_count": 40,
   "metadata": {
    "ExecuteTime": {
     "end_time": "2020-12-09T23:11:49.672542Z",
     "start_time": "2020-12-09T23:11:46.356508Z"
    }
   },
   "outputs": [
    {
     "data": {
      "text/html": [
       "<style>div.sk-top-container {color: black;background-color: white;}div.sk-toggleable {background-color: white;}label.sk-toggleable__label {cursor: pointer;display: block;width: 100%;margin-bottom: 0;padding: 0.2em 0.3em;box-sizing: border-box;text-align: center;}div.sk-toggleable__content {max-height: 0;max-width: 0;overflow: hidden;text-align: left;background-color: #f0f8ff;}div.sk-toggleable__content pre {margin: 0.2em;color: black;border-radius: 0.25em;background-color: #f0f8ff;}input.sk-toggleable__control:checked~div.sk-toggleable__content {max-height: 200px;max-width: 100%;overflow: auto;}div.sk-estimator input.sk-toggleable__control:checked~label.sk-toggleable__label {background-color: #d4ebff;}div.sk-label input.sk-toggleable__control:checked~label.sk-toggleable__label {background-color: #d4ebff;}input.sk-hidden--visually {border: 0;clip: rect(1px 1px 1px 1px);clip: rect(1px, 1px, 1px, 1px);height: 1px;margin: -1px;overflow: hidden;padding: 0;position: absolute;width: 1px;}div.sk-estimator {font-family: monospace;background-color: #f0f8ff;margin: 0.25em 0.25em;border: 1px dotted black;border-radius: 0.25em;box-sizing: border-box;}div.sk-estimator:hover {background-color: #d4ebff;}div.sk-parallel-item::after {content: \"\";width: 100%;border-bottom: 1px solid gray;flex-grow: 1;}div.sk-label:hover label.sk-toggleable__label {background-color: #d4ebff;}div.sk-serial::before {content: \"\";position: absolute;border-left: 1px solid gray;box-sizing: border-box;top: 2em;bottom: 0;left: 50%;}div.sk-serial {display: flex;flex-direction: column;align-items: center;background-color: white;}div.sk-item {z-index: 1;}div.sk-parallel {display: flex;align-items: stretch;justify-content: center;background-color: white;}div.sk-parallel-item {display: flex;flex-direction: column;position: relative;background-color: white;}div.sk-parallel-item:first-child::after {align-self: flex-end;width: 50%;}div.sk-parallel-item:last-child::after {align-self: flex-start;width: 50%;}div.sk-parallel-item:only-child::after {width: 0;}div.sk-dashed-wrapped {border: 1px dashed gray;margin: 0.2em;box-sizing: border-box;padding-bottom: 0.1em;background-color: white;position: relative;}div.sk-label label {font-family: monospace;font-weight: bold;background-color: white;display: inline-block;line-height: 1.2em;}div.sk-label-container {position: relative;z-index: 2;text-align: center;}div.sk-container {display: inline-block;position: relative;}</style><div class=\"sk-top-container\"><div class=\"sk-container\"><div class=\"sk-item sk-dashed-wrapped\"><div class=\"sk-label-container\"><div class=\"sk-label sk-toggleable\"><input class=\"sk-toggleable__control sk-hidden--visually\" id=\"860d3b73-de4e-40fc-b69d-084b5e40a62e\" type=\"checkbox\" ><label class=\"sk-toggleable__label\" for=\"860d3b73-de4e-40fc-b69d-084b5e40a62e\">Pipeline</label><div class=\"sk-toggleable__content\"><pre>Pipeline(steps=[('features',\n",
       "                 ColumnTransformer(transformers=[('growth_transformer',\n",
       "                                                  Pipeline(steps=[['growth_stage_age_preparator',\n",
       "                                                                   ColumnTransformer(transformers=[['age_imputer',\n",
       "                                                                                                    Pipeline(steps=[('simpleimputer',\n",
       "                                                                                                                     SimpleImputer())]),\n",
       "                                                                                                    ['age']],\n",
       "                                                                                                   ['growth_stage_transformer',\n",
       "                                                                                                    FunctionTransformer(func=<function <lambda> at 0x11acd11f0>),\n",
       "                                                                                                    ['growth_stage_imputed']]])...\n",
       "                                                  ColumnTransformer(transformers=[['health_notransformer',\n",
       "                                                                                   NoTransformer(),\n",
       "                                                                                   ['health_industry']],\n",
       "                                                                                  ['fund_investor_notransformer',\n",
       "                                                                                   NoTransformer(),\n",
       "                                                                                   ['investors_type']],\n",
       "                                                                                  ['doctor_notransformer',\n",
       "                                                                                   NoTransformer(),\n",
       "                                                                                   ['company_has_phd']]]),\n",
       "                                                  ['health_industry',\n",
       "                                                   'investors_type',\n",
       "                                                   'company_has_phd'])])),\n",
       "                ('model',\n",
       "                 LogisticRegression(C=1.52, penalty='l1', solver='liblinear'))])</pre></div></div></div><div class=\"sk-serial\"><div class=\"sk-item sk-dashed-wrapped\"><div class=\"sk-label-container\"><div class=\"sk-label sk-toggleable\"><input class=\"sk-toggleable__control sk-hidden--visually\" id=\"201dd6fc-627f-449a-bc75-944ed13f3320\" type=\"checkbox\" ><label class=\"sk-toggleable__label\" for=\"201dd6fc-627f-449a-bc75-944ed13f3320\">features: ColumnTransformer</label><div class=\"sk-toggleable__content\"><pre>ColumnTransformer(transformers=[('growth_transformer',\n",
       "                                 Pipeline(steps=[['growth_stage_age_preparator',\n",
       "                                                  ColumnTransformer(transformers=[['age_imputer',\n",
       "                                                                                   Pipeline(steps=[('simpleimputer',\n",
       "                                                                                                    SimpleImputer())]),\n",
       "                                                                                   ['age']],\n",
       "                                                                                  ['growth_stage_transformer',\n",
       "                                                                                   FunctionTransformer(func=<function <lambda> at 0x11acd11f0>),\n",
       "                                                                                   ['growth_stage_imputed']]])],\n",
       "                                                 ['growth_stage_age_ratio_c...\n",
       "                                                                strategy='constant')),\n",
       "                                                 ('robustscaler',\n",
       "                                                  RobustScaler())]),\n",
       "                                 ['nb_patents']),\n",
       "                                ('identity',\n",
       "                                 ColumnTransformer(transformers=[['health_notransformer',\n",
       "                                                                  NoTransformer(),\n",
       "                                                                  ['health_industry']],\n",
       "                                                                 ['fund_investor_notransformer',\n",
       "                                                                  NoTransformer(),\n",
       "                                                                  ['investors_type']],\n",
       "                                                                 ['doctor_notransformer',\n",
       "                                                                  NoTransformer(),\n",
       "                                                                  ['company_has_phd']]]),\n",
       "                                 ['health_industry', 'investors_type',\n",
       "                                  'company_has_phd'])])</pre></div></div></div><div class=\"sk-parallel\"><div class=\"sk-parallel-item\"><div class=\"sk-item\"><div class=\"sk-label-container\"><div class=\"sk-label sk-toggleable\"><input class=\"sk-toggleable__control sk-hidden--visually\" id=\"9d7cae52-559f-445e-a766-7878e9a19094\" type=\"checkbox\" ><label class=\"sk-toggleable__label\" for=\"9d7cae52-559f-445e-a766-7878e9a19094\">growth_transformer</label><div class=\"sk-toggleable__content\"><pre>['growth_stage_imputed', 'age']</pre></div></div></div><div class=\"sk-serial\"><div class=\"sk-item\"><div class=\"sk-serial\"><div class=\"sk-item sk-dashed-wrapped\"><div class=\"sk-label-container\"><div class=\"sk-label sk-toggleable\"><input class=\"sk-toggleable__control sk-hidden--visually\" id=\"2a0249c4-8350-40a9-90a8-b6e6b378e257\" type=\"checkbox\" ><label class=\"sk-toggleable__label\" for=\"2a0249c4-8350-40a9-90a8-b6e6b378e257\">growth_stage_age_preparator: ColumnTransformer</label><div class=\"sk-toggleable__content\"><pre>ColumnTransformer(transformers=[['age_imputer',\n",
       "                                 Pipeline(steps=[('simpleimputer',\n",
       "                                                  SimpleImputer())]),\n",
       "                                 ['age']],\n",
       "                                ['growth_stage_transformer',\n",
       "                                 FunctionTransformer(func=<function <lambda> at 0x11acd11f0>),\n",
       "                                 ['growth_stage_imputed']]])</pre></div></div></div><div class=\"sk-parallel\"><div class=\"sk-parallel-item\"><div class=\"sk-item\"><div class=\"sk-label-container\"><div class=\"sk-label sk-toggleable\"><input class=\"sk-toggleable__control sk-hidden--visually\" id=\"ef8c5761-37c9-46ff-be59-5e15687094f9\" type=\"checkbox\" ><label class=\"sk-toggleable__label\" for=\"ef8c5761-37c9-46ff-be59-5e15687094f9\">age_imputer</label><div class=\"sk-toggleable__content\"><pre>['age']</pre></div></div></div><div class=\"sk-serial\"><div class=\"sk-item\"><div class=\"sk-serial\"><div class=\"sk-item\"><div class=\"sk-estimator sk-toggleable\"><input class=\"sk-toggleable__control sk-hidden--visually\" id=\"15e126d1-96ef-4eb1-bf9b-c5b716e3d83e\" type=\"checkbox\" ><label class=\"sk-toggleable__label\" for=\"15e126d1-96ef-4eb1-bf9b-c5b716e3d83e\">SimpleImputer</label><div class=\"sk-toggleable__content\"><pre>SimpleImputer()</pre></div></div></div></div></div></div></div></div><div class=\"sk-parallel-item\"><div class=\"sk-item\"><div class=\"sk-label-container\"><div class=\"sk-label sk-toggleable\"><input class=\"sk-toggleable__control sk-hidden--visually\" id=\"0a880574-65c3-45ab-adf0-2615f847aa8b\" type=\"checkbox\" ><label class=\"sk-toggleable__label\" for=\"0a880574-65c3-45ab-adf0-2615f847aa8b\">growth_stage_transformer</label><div class=\"sk-toggleable__content\"><pre>['growth_stage_imputed']</pre></div></div></div><div class=\"sk-serial\"><div class=\"sk-item\"><div class=\"sk-estimator sk-toggleable\"><input class=\"sk-toggleable__control sk-hidden--visually\" id=\"cc854075-a018-4f29-81d3-afb33bff70e1\" type=\"checkbox\" ><label class=\"sk-toggleable__label\" for=\"cc854075-a018-4f29-81d3-afb33bff70e1\">FunctionTransformer</label><div class=\"sk-toggleable__content\"><pre>FunctionTransformer(func=<function <lambda> at 0x11acd11f0>)</pre></div></div></div></div></div></div></div></div><div class=\"sk-item\"><div class=\"sk-estimator sk-toggleable\"><input class=\"sk-toggleable__control sk-hidden--visually\" id=\"b14dd1e5-25cc-4b49-ba8a-bb357ca18c8b\" type=\"checkbox\" ><label class=\"sk-toggleable__label\" for=\"b14dd1e5-25cc-4b49-ba8a-bb357ca18c8b\">FunctionTransformer</label><div class=\"sk-toggleable__content\"><pre>FunctionTransformer(func=<function compute_growth_age_ratio at 0x1185401f0>)</pre></div></div></div></div></div></div></div></div><div class=\"sk-parallel-item\"><div class=\"sk-item\"><div class=\"sk-label-container\"><div class=\"sk-label sk-toggleable\"><input class=\"sk-toggleable__control sk-hidden--visually\" id=\"bc82bbe1-b911-4058-b61e-c1081b4d9bd2\" type=\"checkbox\" ><label class=\"sk-toggleable__label\" for=\"bc82bbe1-b911-4058-b61e-c1081b4d9bd2\">ratio_transformer</label><div class=\"sk-toggleable__content\"><pre>['employees_clean', 'employees', 'launch_year_clean', 'employees_latest', 'total_funding_source']</pre></div></div></div><div class=\"sk-serial\"><div class=\"sk-item\"><div class=\"sk-serial\"><div class=\"sk-item\"><div class=\"sk-estimator sk-toggleable\"><input class=\"sk-toggleable__control sk-hidden--visually\" id=\"1ae908a4-f0ec-4076-b2be-3c4a2abd0290\" type=\"checkbox\" ><label class=\"sk-toggleable__label\" for=\"1ae908a4-f0ec-4076-b2be-3c4a2abd0290\">EmployeeImputer</label><div class=\"sk-toggleable__content\"><pre>EmployeeImputer()</pre></div></div></div><div class=\"sk-item\"><div class=\"sk-estimator sk-toggleable\"><input class=\"sk-toggleable__control sk-hidden--visually\" id=\"1e730ff7-3158-429b-887e-6b417e446a6d\" type=\"checkbox\" ><label class=\"sk-toggleable__label\" for=\"1e730ff7-3158-429b-887e-6b417e446a6d\">FunctionTransformer</label><div class=\"sk-toggleable__content\"><pre>FunctionTransformer(func=<function <lambda> at 0x11906d9d0>)</pre></div></div></div><div class=\"sk-item\"><div class=\"sk-estimator sk-toggleable\"><input class=\"sk-toggleable__control sk-hidden--visually\" id=\"c0279d35-b6fe-41fa-8dbf-9971cc8e2352\" type=\"checkbox\" ><label class=\"sk-toggleable__label\" for=\"c0279d35-b6fe-41fa-8dbf-9971cc8e2352\">RobustScaler</label><div class=\"sk-toggleable__content\"><pre>RobustScaler()</pre></div></div></div></div></div></div></div></div><div class=\"sk-parallel-item\"><div class=\"sk-item\"><div class=\"sk-label-container\"><div class=\"sk-label sk-toggleable\"><input class=\"sk-toggleable__control sk-hidden--visually\" id=\"7c5cd82a-7279-4916-a420-ee0d003e845c\" type=\"checkbox\" ><label class=\"sk-toggleable__label\" for=\"7c5cd82a-7279-4916-a420-ee0d003e845c\">patent_transformer</label><div class=\"sk-toggleable__content\"><pre>['nb_patents']</pre></div></div></div><div class=\"sk-serial\"><div class=\"sk-item\"><div class=\"sk-serial\"><div class=\"sk-item\"><div class=\"sk-estimator sk-toggleable\"><input class=\"sk-toggleable__control sk-hidden--visually\" id=\"867f9247-7b3d-4870-bc70-f1e5b7cddd1e\" type=\"checkbox\" ><label class=\"sk-toggleable__label\" for=\"867f9247-7b3d-4870-bc70-f1e5b7cddd1e\">SimpleImputer</label><div class=\"sk-toggleable__content\"><pre>SimpleImputer(fill_value=0, strategy='constant')</pre></div></div></div><div class=\"sk-item\"><div class=\"sk-estimator sk-toggleable\"><input class=\"sk-toggleable__control sk-hidden--visually\" id=\"b1996b39-7ce0-468a-9b01-62477757a9f2\" type=\"checkbox\" ><label class=\"sk-toggleable__label\" for=\"b1996b39-7ce0-468a-9b01-62477757a9f2\">RobustScaler</label><div class=\"sk-toggleable__content\"><pre>RobustScaler()</pre></div></div></div></div></div></div></div></div><div class=\"sk-parallel-item\"><div class=\"sk-item\"><div class=\"sk-label-container\"><div class=\"sk-label sk-toggleable\"><input class=\"sk-toggleable__control sk-hidden--visually\" id=\"c0697cb6-8fe6-4917-b994-4bdaecd880ee\" type=\"checkbox\" ><label class=\"sk-toggleable__label\" for=\"c0697cb6-8fe6-4917-b994-4bdaecd880ee\">identity</label><div class=\"sk-toggleable__content\"><pre>['health_industry', 'investors_type', 'company_has_phd']</pre></div></div></div><div class=\"sk-serial\"><div class=\"sk-item sk-dashed-wrapped\"><div class=\"sk-parallel\"><div class=\"sk-parallel-item\"><div class=\"sk-item\"><div class=\"sk-label-container\"><div class=\"sk-label sk-toggleable\"><input class=\"sk-toggleable__control sk-hidden--visually\" id=\"9b1f953f-c1b8-42c7-b7a9-cbdfc028a805\" type=\"checkbox\" ><label class=\"sk-toggleable__label\" for=\"9b1f953f-c1b8-42c7-b7a9-cbdfc028a805\">health_notransformer</label><div class=\"sk-toggleable__content\"><pre>['health_industry']</pre></div></div></div><div class=\"sk-serial\"><div class=\"sk-item\"><div class=\"sk-estimator sk-toggleable\"><input class=\"sk-toggleable__control sk-hidden--visually\" id=\"0a4b70af-98f2-413e-b1e3-30e7213e840d\" type=\"checkbox\" ><label class=\"sk-toggleable__label\" for=\"0a4b70af-98f2-413e-b1e3-30e7213e840d\">NoTransformer</label><div class=\"sk-toggleable__content\"><pre>NoTransformer()</pre></div></div></div></div></div></div><div class=\"sk-parallel-item\"><div class=\"sk-item\"><div class=\"sk-label-container\"><div class=\"sk-label sk-toggleable\"><input class=\"sk-toggleable__control sk-hidden--visually\" id=\"d20a8be7-6ca8-4af2-b059-0af077fd512a\" type=\"checkbox\" ><label class=\"sk-toggleable__label\" for=\"d20a8be7-6ca8-4af2-b059-0af077fd512a\">fund_investor_notransformer</label><div class=\"sk-toggleable__content\"><pre>['investors_type']</pre></div></div></div><div class=\"sk-serial\"><div class=\"sk-item\"><div class=\"sk-estimator sk-toggleable\"><input class=\"sk-toggleable__control sk-hidden--visually\" id=\"c4242cae-5eef-454f-b60b-abd84bcbc0a4\" type=\"checkbox\" ><label class=\"sk-toggleable__label\" for=\"c4242cae-5eef-454f-b60b-abd84bcbc0a4\">NoTransformer</label><div class=\"sk-toggleable__content\"><pre>NoTransformer()</pre></div></div></div></div></div></div><div class=\"sk-parallel-item\"><div class=\"sk-item\"><div class=\"sk-label-container\"><div class=\"sk-label sk-toggleable\"><input class=\"sk-toggleable__control sk-hidden--visually\" id=\"f2003594-ca12-46ff-a77e-994d1c62865d\" type=\"checkbox\" ><label class=\"sk-toggleable__label\" for=\"f2003594-ca12-46ff-a77e-994d1c62865d\">doctor_notransformer</label><div class=\"sk-toggleable__content\"><pre>['company_has_phd']</pre></div></div></div><div class=\"sk-serial\"><div class=\"sk-item\"><div class=\"sk-estimator sk-toggleable\"><input class=\"sk-toggleable__control sk-hidden--visually\" id=\"1ec73854-b7d3-46dc-99d3-c7ea10caaf60\" type=\"checkbox\" ><label class=\"sk-toggleable__label\" for=\"1ec73854-b7d3-46dc-99d3-c7ea10caaf60\">NoTransformer</label><div class=\"sk-toggleable__content\"><pre>NoTransformer()</pre></div></div></div></div></div></div></div></div></div></div></div></div></div><div class=\"sk-item\"><div class=\"sk-estimator sk-toggleable\"><input class=\"sk-toggleable__control sk-hidden--visually\" id=\"08329dca-56b8-474e-a330-b1aa094493df\" type=\"checkbox\" ><label class=\"sk-toggleable__label\" for=\"08329dca-56b8-474e-a330-b1aa094493df\">LogisticRegression</label><div class=\"sk-toggleable__content\"><pre>LogisticRegression(C=1.52, penalty='l1', solver='liblinear')</pre></div></div></div></div></div></div></div>"
      ],
      "text/plain": [
       "Pipeline(steps=[('features',\n",
       "                 ColumnTransformer(transformers=[('growth_transformer',\n",
       "                                                  Pipeline(steps=[['growth_stage_age_preparator',\n",
       "                                                                   ColumnTransformer(transformers=[['age_imputer',\n",
       "                                                                                                    Pipeline(steps=[('simpleimputer',\n",
       "                                                                                                                     SimpleImputer())]),\n",
       "                                                                                                    ['age']],\n",
       "                                                                                                   ['growth_stage_transformer',\n",
       "                                                                                                    FunctionTransformer(func=<function <lambda> at 0x11acd11f0>),\n",
       "                                                                                                    ['growth_stage_imputed']]])...\n",
       "                                                  ColumnTransformer(transformers=[['health_notransformer',\n",
       "                                                                                   NoTransformer(),\n",
       "                                                                                   ['health_industry']],\n",
       "                                                                                  ['fund_investor_notransformer',\n",
       "                                                                                   NoTransformer(),\n",
       "                                                                                   ['investors_type']],\n",
       "                                                                                  ['doctor_notransformer',\n",
       "                                                                                   NoTransformer(),\n",
       "                                                                                   ['company_has_phd']]]),\n",
       "                                                  ['health_industry',\n",
       "                                                   'investors_type',\n",
       "                                                   'company_has_phd'])])),\n",
       "                ('model',\n",
       "                 LogisticRegression(C=1.52, penalty='l1', solver='liblinear'))])"
      ]
     },
     "execution_count": 40,
     "metadata": {},
     "output_type": "execute_result"
    }
   ],
   "source": [
    "from sklearn.pipeline import Pipeline\n",
    "from sklearn.linear_model import LogisticRegression\n",
    "\n",
    "pipemodel = Pipeline(steps=[\n",
    "                            ('features', preprocessor),\n",
    "                            ('model', LogisticRegression(C = 1.52, penalty = 'l1', solver= 'liblinear'))\n",
    "                             ])\n",
    "pipemodel"
   ]
  },
  {
   "cell_type": "markdown",
   "metadata": {
    "ExecuteTime": {
     "end_time": "2020-12-09T14:55:57.928507Z",
     "start_time": "2020-12-09T14:55:57.896635Z"
    }
   },
   "source": [
    "##### RUN MODEL"
   ]
  },
  {
   "cell_type": "code",
   "execution_count": 41,
   "metadata": {
    "ExecuteTime": {
     "end_time": "2020-12-09T23:11:54.529750Z",
     "start_time": "2020-12-09T23:11:53.898027Z"
    }
   },
   "outputs": [
    {
     "name": "stderr",
     "output_type": "stream",
     "text": [
      "<ipython-input-20-917d5a9bb261>:14: SettingWithCopyWarning: \n",
      "A value is trying to be set on a copy of a slice from a DataFrame\n",
      "\n",
      "See the caveats in the documentation: https://pandas.pydata.org/pandas-docs/stable/user_guide/indexing.html#returning-a-view-versus-a-copy\n",
      "  data[\"investors_type\"] = fund_investors(data[[\"investors_type\"]])\n",
      "<ipython-input-41-7faf0755a962>:4: SettingWithCopyWarning: \n",
      "A value is trying to be set on a copy of a slice from a DataFrame\n",
      "\n",
      "See the caveats in the documentation: https://pandas.pydata.org/pandas-docs/stable/user_guide/indexing.html#returning-a-view-versus-a-copy\n",
      "  y[y ==0.5] = 0\n"
     ]
    }
   ],
   "source": [
    "data = GetData.get_data()\n",
    "X = data.drop(columns = [\"target\", \"deep_or_not\"])\n",
    "y = data.target\n",
    "y[y ==0.5] = 0"
   ]
  },
  {
   "cell_type": "code",
   "execution_count": 42,
   "metadata": {
    "ExecuteTime": {
     "end_time": "2020-12-09T23:12:02.590014Z",
     "start_time": "2020-12-09T23:11:58.605080Z"
    }
   },
   "outputs": [
    {
     "data": {
      "text/html": [
       "<style>div.sk-top-container {color: black;background-color: white;}div.sk-toggleable {background-color: white;}label.sk-toggleable__label {cursor: pointer;display: block;width: 100%;margin-bottom: 0;padding: 0.2em 0.3em;box-sizing: border-box;text-align: center;}div.sk-toggleable__content {max-height: 0;max-width: 0;overflow: hidden;text-align: left;background-color: #f0f8ff;}div.sk-toggleable__content pre {margin: 0.2em;color: black;border-radius: 0.25em;background-color: #f0f8ff;}input.sk-toggleable__control:checked~div.sk-toggleable__content {max-height: 200px;max-width: 100%;overflow: auto;}div.sk-estimator input.sk-toggleable__control:checked~label.sk-toggleable__label {background-color: #d4ebff;}div.sk-label input.sk-toggleable__control:checked~label.sk-toggleable__label {background-color: #d4ebff;}input.sk-hidden--visually {border: 0;clip: rect(1px 1px 1px 1px);clip: rect(1px, 1px, 1px, 1px);height: 1px;margin: -1px;overflow: hidden;padding: 0;position: absolute;width: 1px;}div.sk-estimator {font-family: monospace;background-color: #f0f8ff;margin: 0.25em 0.25em;border: 1px dotted black;border-radius: 0.25em;box-sizing: border-box;}div.sk-estimator:hover {background-color: #d4ebff;}div.sk-parallel-item::after {content: \"\";width: 100%;border-bottom: 1px solid gray;flex-grow: 1;}div.sk-label:hover label.sk-toggleable__label {background-color: #d4ebff;}div.sk-serial::before {content: \"\";position: absolute;border-left: 1px solid gray;box-sizing: border-box;top: 2em;bottom: 0;left: 50%;}div.sk-serial {display: flex;flex-direction: column;align-items: center;background-color: white;}div.sk-item {z-index: 1;}div.sk-parallel {display: flex;align-items: stretch;justify-content: center;background-color: white;}div.sk-parallel-item {display: flex;flex-direction: column;position: relative;background-color: white;}div.sk-parallel-item:first-child::after {align-self: flex-end;width: 50%;}div.sk-parallel-item:last-child::after {align-self: flex-start;width: 50%;}div.sk-parallel-item:only-child::after {width: 0;}div.sk-dashed-wrapped {border: 1px dashed gray;margin: 0.2em;box-sizing: border-box;padding-bottom: 0.1em;background-color: white;position: relative;}div.sk-label label {font-family: monospace;font-weight: bold;background-color: white;display: inline-block;line-height: 1.2em;}div.sk-label-container {position: relative;z-index: 2;text-align: center;}div.sk-container {display: inline-block;position: relative;}</style><div class=\"sk-top-container\"><div class=\"sk-container\"><div class=\"sk-item sk-dashed-wrapped\"><div class=\"sk-label-container\"><div class=\"sk-label sk-toggleable\"><input class=\"sk-toggleable__control sk-hidden--visually\" id=\"96d250c3-7438-400a-919a-7dd8669da413\" type=\"checkbox\" ><label class=\"sk-toggleable__label\" for=\"96d250c3-7438-400a-919a-7dd8669da413\">Pipeline</label><div class=\"sk-toggleable__content\"><pre>Pipeline(steps=[('features',\n",
       "                 ColumnTransformer(transformers=[('growth_transformer',\n",
       "                                                  Pipeline(steps=[['growth_stage_age_preparator',\n",
       "                                                                   ColumnTransformer(transformers=[['age_imputer',\n",
       "                                                                                                    Pipeline(steps=[('simpleimputer',\n",
       "                                                                                                                     SimpleImputer())]),\n",
       "                                                                                                    ['age']],\n",
       "                                                                                                   ['growth_stage_transformer',\n",
       "                                                                                                    FunctionTransformer(func=<function <lambda> at 0x11acd11f0>),\n",
       "                                                                                                    ['growth_stage_imputed']]])...\n",
       "                                                  ColumnTransformer(transformers=[['health_notransformer',\n",
       "                                                                                   NoTransformer(),\n",
       "                                                                                   ['health_industry']],\n",
       "                                                                                  ['fund_investor_notransformer',\n",
       "                                                                                   NoTransformer(),\n",
       "                                                                                   ['investors_type']],\n",
       "                                                                                  ['doctor_notransformer',\n",
       "                                                                                   NoTransformer(),\n",
       "                                                                                   ['company_has_phd']]]),\n",
       "                                                  ['health_industry',\n",
       "                                                   'investors_type',\n",
       "                                                   'company_has_phd'])])),\n",
       "                ('model',\n",
       "                 LogisticRegression(C=1.52, penalty='l1', solver='liblinear'))])</pre></div></div></div><div class=\"sk-serial\"><div class=\"sk-item sk-dashed-wrapped\"><div class=\"sk-label-container\"><div class=\"sk-label sk-toggleable\"><input class=\"sk-toggleable__control sk-hidden--visually\" id=\"eb220168-a7cc-403a-9a9f-22ebd21849ce\" type=\"checkbox\" ><label class=\"sk-toggleable__label\" for=\"eb220168-a7cc-403a-9a9f-22ebd21849ce\">features: ColumnTransformer</label><div class=\"sk-toggleable__content\"><pre>ColumnTransformer(transformers=[('growth_transformer',\n",
       "                                 Pipeline(steps=[['growth_stage_age_preparator',\n",
       "                                                  ColumnTransformer(transformers=[['age_imputer',\n",
       "                                                                                   Pipeline(steps=[('simpleimputer',\n",
       "                                                                                                    SimpleImputer())]),\n",
       "                                                                                   ['age']],\n",
       "                                                                                  ['growth_stage_transformer',\n",
       "                                                                                   FunctionTransformer(func=<function <lambda> at 0x11acd11f0>),\n",
       "                                                                                   ['growth_stage_imputed']]])],\n",
       "                                                 ['growth_stage_age_ratio_c...\n",
       "                                                                strategy='constant')),\n",
       "                                                 ('robustscaler',\n",
       "                                                  RobustScaler())]),\n",
       "                                 ['nb_patents']),\n",
       "                                ('identity',\n",
       "                                 ColumnTransformer(transformers=[['health_notransformer',\n",
       "                                                                  NoTransformer(),\n",
       "                                                                  ['health_industry']],\n",
       "                                                                 ['fund_investor_notransformer',\n",
       "                                                                  NoTransformer(),\n",
       "                                                                  ['investors_type']],\n",
       "                                                                 ['doctor_notransformer',\n",
       "                                                                  NoTransformer(),\n",
       "                                                                  ['company_has_phd']]]),\n",
       "                                 ['health_industry', 'investors_type',\n",
       "                                  'company_has_phd'])])</pre></div></div></div><div class=\"sk-parallel\"><div class=\"sk-parallel-item\"><div class=\"sk-item\"><div class=\"sk-label-container\"><div class=\"sk-label sk-toggleable\"><input class=\"sk-toggleable__control sk-hidden--visually\" id=\"e007d8a5-10dc-4d12-b718-e59f422e6ada\" type=\"checkbox\" ><label class=\"sk-toggleable__label\" for=\"e007d8a5-10dc-4d12-b718-e59f422e6ada\">growth_transformer</label><div class=\"sk-toggleable__content\"><pre>['growth_stage_imputed', 'age']</pre></div></div></div><div class=\"sk-serial\"><div class=\"sk-item\"><div class=\"sk-serial\"><div class=\"sk-item sk-dashed-wrapped\"><div class=\"sk-label-container\"><div class=\"sk-label sk-toggleable\"><input class=\"sk-toggleable__control sk-hidden--visually\" id=\"78c0252e-d74f-4c6b-8214-929230f2bead\" type=\"checkbox\" ><label class=\"sk-toggleable__label\" for=\"78c0252e-d74f-4c6b-8214-929230f2bead\">growth_stage_age_preparator: ColumnTransformer</label><div class=\"sk-toggleable__content\"><pre>ColumnTransformer(transformers=[['age_imputer',\n",
       "                                 Pipeline(steps=[('simpleimputer',\n",
       "                                                  SimpleImputer())]),\n",
       "                                 ['age']],\n",
       "                                ['growth_stage_transformer',\n",
       "                                 FunctionTransformer(func=<function <lambda> at 0x11acd11f0>),\n",
       "                                 ['growth_stage_imputed']]])</pre></div></div></div><div class=\"sk-parallel\"><div class=\"sk-parallel-item\"><div class=\"sk-item\"><div class=\"sk-label-container\"><div class=\"sk-label sk-toggleable\"><input class=\"sk-toggleable__control sk-hidden--visually\" id=\"5723ec00-c9f6-470b-952b-f9d38172b83c\" type=\"checkbox\" ><label class=\"sk-toggleable__label\" for=\"5723ec00-c9f6-470b-952b-f9d38172b83c\">age_imputer</label><div class=\"sk-toggleable__content\"><pre>['age']</pre></div></div></div><div class=\"sk-serial\"><div class=\"sk-item\"><div class=\"sk-serial\"><div class=\"sk-item\"><div class=\"sk-estimator sk-toggleable\"><input class=\"sk-toggleable__control sk-hidden--visually\" id=\"03c0d6d1-ac44-4937-a20f-3b39dd679d29\" type=\"checkbox\" ><label class=\"sk-toggleable__label\" for=\"03c0d6d1-ac44-4937-a20f-3b39dd679d29\">SimpleImputer</label><div class=\"sk-toggleable__content\"><pre>SimpleImputer()</pre></div></div></div></div></div></div></div></div><div class=\"sk-parallel-item\"><div class=\"sk-item\"><div class=\"sk-label-container\"><div class=\"sk-label sk-toggleable\"><input class=\"sk-toggleable__control sk-hidden--visually\" id=\"dbbd88b4-d4e8-4455-8dd0-201a0a1fb446\" type=\"checkbox\" ><label class=\"sk-toggleable__label\" for=\"dbbd88b4-d4e8-4455-8dd0-201a0a1fb446\">growth_stage_transformer</label><div class=\"sk-toggleable__content\"><pre>['growth_stage_imputed']</pre></div></div></div><div class=\"sk-serial\"><div class=\"sk-item\"><div class=\"sk-estimator sk-toggleable\"><input class=\"sk-toggleable__control sk-hidden--visually\" id=\"29482650-2010-485d-8a11-6d0841c37661\" type=\"checkbox\" ><label class=\"sk-toggleable__label\" for=\"29482650-2010-485d-8a11-6d0841c37661\">FunctionTransformer</label><div class=\"sk-toggleable__content\"><pre>FunctionTransformer(func=<function <lambda> at 0x11acd11f0>)</pre></div></div></div></div></div></div></div></div><div class=\"sk-item\"><div class=\"sk-estimator sk-toggleable\"><input class=\"sk-toggleable__control sk-hidden--visually\" id=\"30cb4dc2-b84d-4ecb-a9dd-618d50962f1b\" type=\"checkbox\" ><label class=\"sk-toggleable__label\" for=\"30cb4dc2-b84d-4ecb-a9dd-618d50962f1b\">FunctionTransformer</label><div class=\"sk-toggleable__content\"><pre>FunctionTransformer(func=<function compute_growth_age_ratio at 0x1185401f0>)</pre></div></div></div></div></div></div></div></div><div class=\"sk-parallel-item\"><div class=\"sk-item\"><div class=\"sk-label-container\"><div class=\"sk-label sk-toggleable\"><input class=\"sk-toggleable__control sk-hidden--visually\" id=\"37b20328-2ee3-4a76-ad52-fa5eef34a378\" type=\"checkbox\" ><label class=\"sk-toggleable__label\" for=\"37b20328-2ee3-4a76-ad52-fa5eef34a378\">ratio_transformer</label><div class=\"sk-toggleable__content\"><pre>['employees_clean', 'employees', 'launch_year_clean', 'employees_latest', 'total_funding_source']</pre></div></div></div><div class=\"sk-serial\"><div class=\"sk-item\"><div class=\"sk-serial\"><div class=\"sk-item\"><div class=\"sk-estimator sk-toggleable\"><input class=\"sk-toggleable__control sk-hidden--visually\" id=\"5db1d99e-122b-47ec-b01c-e56949a6e059\" type=\"checkbox\" ><label class=\"sk-toggleable__label\" for=\"5db1d99e-122b-47ec-b01c-e56949a6e059\">EmployeeImputer</label><div class=\"sk-toggleable__content\"><pre>EmployeeImputer()</pre></div></div></div><div class=\"sk-item\"><div class=\"sk-estimator sk-toggleable\"><input class=\"sk-toggleable__control sk-hidden--visually\" id=\"ab1596a8-3d9b-4bbd-a62e-d53e4f8a2c18\" type=\"checkbox\" ><label class=\"sk-toggleable__label\" for=\"ab1596a8-3d9b-4bbd-a62e-d53e4f8a2c18\">FunctionTransformer</label><div class=\"sk-toggleable__content\"><pre>FunctionTransformer(func=<function <lambda> at 0x11906d9d0>)</pre></div></div></div><div class=\"sk-item\"><div class=\"sk-estimator sk-toggleable\"><input class=\"sk-toggleable__control sk-hidden--visually\" id=\"98b9378b-964d-4fec-bde0-c247dfe33c36\" type=\"checkbox\" ><label class=\"sk-toggleable__label\" for=\"98b9378b-964d-4fec-bde0-c247dfe33c36\">RobustScaler</label><div class=\"sk-toggleable__content\"><pre>RobustScaler()</pre></div></div></div></div></div></div></div></div><div class=\"sk-parallel-item\"><div class=\"sk-item\"><div class=\"sk-label-container\"><div class=\"sk-label sk-toggleable\"><input class=\"sk-toggleable__control sk-hidden--visually\" id=\"f1e8937e-c753-4dbc-95d6-29aeb88073e3\" type=\"checkbox\" ><label class=\"sk-toggleable__label\" for=\"f1e8937e-c753-4dbc-95d6-29aeb88073e3\">patent_transformer</label><div class=\"sk-toggleable__content\"><pre>['nb_patents']</pre></div></div></div><div class=\"sk-serial\"><div class=\"sk-item\"><div class=\"sk-serial\"><div class=\"sk-item\"><div class=\"sk-estimator sk-toggleable\"><input class=\"sk-toggleable__control sk-hidden--visually\" id=\"5754e229-52dc-4b40-b1e7-e9ba29812014\" type=\"checkbox\" ><label class=\"sk-toggleable__label\" for=\"5754e229-52dc-4b40-b1e7-e9ba29812014\">SimpleImputer</label><div class=\"sk-toggleable__content\"><pre>SimpleImputer(fill_value=0, strategy='constant')</pre></div></div></div><div class=\"sk-item\"><div class=\"sk-estimator sk-toggleable\"><input class=\"sk-toggleable__control sk-hidden--visually\" id=\"9206d739-3ab7-4d3f-9ac5-33f5c0925204\" type=\"checkbox\" ><label class=\"sk-toggleable__label\" for=\"9206d739-3ab7-4d3f-9ac5-33f5c0925204\">RobustScaler</label><div class=\"sk-toggleable__content\"><pre>RobustScaler()</pre></div></div></div></div></div></div></div></div><div class=\"sk-parallel-item\"><div class=\"sk-item\"><div class=\"sk-label-container\"><div class=\"sk-label sk-toggleable\"><input class=\"sk-toggleable__control sk-hidden--visually\" id=\"07c22255-b2c7-4da9-bdbf-2ae3d5f15815\" type=\"checkbox\" ><label class=\"sk-toggleable__label\" for=\"07c22255-b2c7-4da9-bdbf-2ae3d5f15815\">identity</label><div class=\"sk-toggleable__content\"><pre>['health_industry', 'investors_type', 'company_has_phd']</pre></div></div></div><div class=\"sk-serial\"><div class=\"sk-item sk-dashed-wrapped\"><div class=\"sk-parallel\"><div class=\"sk-parallel-item\"><div class=\"sk-item\"><div class=\"sk-label-container\"><div class=\"sk-label sk-toggleable\"><input class=\"sk-toggleable__control sk-hidden--visually\" id=\"087fdc6b-802d-40c4-9d8b-beddf534c1ee\" type=\"checkbox\" ><label class=\"sk-toggleable__label\" for=\"087fdc6b-802d-40c4-9d8b-beddf534c1ee\">health_notransformer</label><div class=\"sk-toggleable__content\"><pre>['health_industry']</pre></div></div></div><div class=\"sk-serial\"><div class=\"sk-item\"><div class=\"sk-estimator sk-toggleable\"><input class=\"sk-toggleable__control sk-hidden--visually\" id=\"59feec7b-d771-46d8-b74c-c8459ff7bbc2\" type=\"checkbox\" ><label class=\"sk-toggleable__label\" for=\"59feec7b-d771-46d8-b74c-c8459ff7bbc2\">NoTransformer</label><div class=\"sk-toggleable__content\"><pre>NoTransformer()</pre></div></div></div></div></div></div><div class=\"sk-parallel-item\"><div class=\"sk-item\"><div class=\"sk-label-container\"><div class=\"sk-label sk-toggleable\"><input class=\"sk-toggleable__control sk-hidden--visually\" id=\"bc781cd6-1ef9-45f3-9873-9725b0849a83\" type=\"checkbox\" ><label class=\"sk-toggleable__label\" for=\"bc781cd6-1ef9-45f3-9873-9725b0849a83\">fund_investor_notransformer</label><div class=\"sk-toggleable__content\"><pre>['investors_type']</pre></div></div></div><div class=\"sk-serial\"><div class=\"sk-item\"><div class=\"sk-estimator sk-toggleable\"><input class=\"sk-toggleable__control sk-hidden--visually\" id=\"e9c1ecb4-e026-4ddc-9da2-235c2eb70b64\" type=\"checkbox\" ><label class=\"sk-toggleable__label\" for=\"e9c1ecb4-e026-4ddc-9da2-235c2eb70b64\">NoTransformer</label><div class=\"sk-toggleable__content\"><pre>NoTransformer()</pre></div></div></div></div></div></div><div class=\"sk-parallel-item\"><div class=\"sk-item\"><div class=\"sk-label-container\"><div class=\"sk-label sk-toggleable\"><input class=\"sk-toggleable__control sk-hidden--visually\" id=\"15776206-a04f-4bfc-8eae-e75689eb2d2f\" type=\"checkbox\" ><label class=\"sk-toggleable__label\" for=\"15776206-a04f-4bfc-8eae-e75689eb2d2f\">doctor_notransformer</label><div class=\"sk-toggleable__content\"><pre>['company_has_phd']</pre></div></div></div><div class=\"sk-serial\"><div class=\"sk-item\"><div class=\"sk-estimator sk-toggleable\"><input class=\"sk-toggleable__control sk-hidden--visually\" id=\"42ecb6a0-d9cc-47ad-af49-8c3dc00441c2\" type=\"checkbox\" ><label class=\"sk-toggleable__label\" for=\"42ecb6a0-d9cc-47ad-af49-8c3dc00441c2\">NoTransformer</label><div class=\"sk-toggleable__content\"><pre>NoTransformer()</pre></div></div></div></div></div></div></div></div></div></div></div></div></div><div class=\"sk-item\"><div class=\"sk-estimator sk-toggleable\"><input class=\"sk-toggleable__control sk-hidden--visually\" id=\"ca914175-07d9-4133-bf1a-cbcb1a5b9e0c\" type=\"checkbox\" ><label class=\"sk-toggleable__label\" for=\"ca914175-07d9-4133-bf1a-cbcb1a5b9e0c\">LogisticRegression</label><div class=\"sk-toggleable__content\"><pre>LogisticRegression(C=1.52, penalty='l1', solver='liblinear')</pre></div></div></div></div></div></div></div>"
      ],
      "text/plain": [
       "Pipeline(steps=[('features',\n",
       "                 ColumnTransformer(transformers=[('growth_transformer',\n",
       "                                                  Pipeline(steps=[['growth_stage_age_preparator',\n",
       "                                                                   ColumnTransformer(transformers=[['age_imputer',\n",
       "                                                                                                    Pipeline(steps=[('simpleimputer',\n",
       "                                                                                                                     SimpleImputer())]),\n",
       "                                                                                                    ['age']],\n",
       "                                                                                                   ['growth_stage_transformer',\n",
       "                                                                                                    FunctionTransformer(func=<function <lambda> at 0x11acd11f0>),\n",
       "                                                                                                    ['growth_stage_imputed']]])...\n",
       "                                                  ColumnTransformer(transformers=[['health_notransformer',\n",
       "                                                                                   NoTransformer(),\n",
       "                                                                                   ['health_industry']],\n",
       "                                                                                  ['fund_investor_notransformer',\n",
       "                                                                                   NoTransformer(),\n",
       "                                                                                   ['investors_type']],\n",
       "                                                                                  ['doctor_notransformer',\n",
       "                                                                                   NoTransformer(),\n",
       "                                                                                   ['company_has_phd']]]),\n",
       "                                                  ['health_industry',\n",
       "                                                   'investors_type',\n",
       "                                                   'company_has_phd'])])),\n",
       "                ('model',\n",
       "                 LogisticRegression(C=1.52, penalty='l1', solver='liblinear'))])"
      ]
     },
     "execution_count": 42,
     "metadata": {},
     "output_type": "execute_result"
    }
   ],
   "source": [
    "pipemodel.fit(X, y)"
   ]
  },
  {
   "cell_type": "code",
   "execution_count": 43,
   "metadata": {
    "ExecuteTime": {
     "end_time": "2020-12-09T23:12:09.677592Z",
     "start_time": "2020-12-09T23:12:08.693046Z"
    }
   },
   "outputs": [],
   "source": [
    "from sklearn.model_selection import cross_validate\n",
    "\n",
    "# Cross validate pipeline\n",
    "cv_result = cross_validate(pipemodel, X, y, cv=10, scoring=[\"accuracy\", \"recall\", \"f1\", \"precision\"])"
   ]
  },
  {
   "cell_type": "code",
   "execution_count": 44,
   "metadata": {
    "ExecuteTime": {
     "end_time": "2020-12-09T23:12:13.952940Z",
     "start_time": "2020-12-09T23:12:13.948375Z"
    }
   },
   "outputs": [
    {
     "name": "stdout",
     "output_type": "stream",
     "text": [
      "test_accuracy :  71.08%\n",
      "test_recall :  56.42%\n",
      "test_f1 :  62.08%\n",
      "test_precision :  70.53%\n"
     ]
    }
   ],
   "source": [
    "scoring=[\"test_accuracy\", \"test_recall\", \"test_f1\", \"test_precision\"]\n",
    "\n",
    "for metric in scoring:\n",
    "    print(f\"{metric} : {cv_result[metric].mean() * 100 : .2f}%\")"
   ]
  },
  {
   "cell_type": "markdown",
   "metadata": {},
   "source": [
    "1st run with 3 features only : test_accuracy :  65.12%\n",
    "test_recall :  32.10%\n",
    "test_f1 :  43.24%\n",
    "test_precision :  69.23%\n",
    "\n",
    "\n",
    "2nd run with \"health_industry\" : test_accuracy :  69.82%\n",
    "test_recall :  51.40%\n",
    "test_f1 :  58.98%\n",
    "test_precision :  69.88%\n",
    "\n",
    "3rd run with \"fund/investors\" : test_accuracy :  69.95%\n",
    "test_recall :  50.17%\n",
    "test_f1 :  58.51%\n",
    "test_precision :  71.17%\n",
    "\n",
    "\n",
    "4th run with \"company_has_phd\": test_accuracy :  71.08%\n",
    "test_recall :  56.42%\n",
    "test_f1 :  62.08%\n",
    "test_precision :  70.53%"
   ]
  },
  {
   "cell_type": "code",
   "execution_count": 45,
   "metadata": {
    "ExecuteTime": {
     "end_time": "2020-12-09T23:13:48.288504Z",
     "start_time": "2020-12-09T23:13:48.276825Z"
    }
   },
   "outputs": [],
   "source": [
    "pd.set_option('display.max_rows', 500)\n",
    "features = [\"growth_stage_age_ratio\", \"funding_employees_ratio\", \"nb_patents\", \"health_industry\", \"investors_type\", \"company_has_phd\"]"
   ]
  },
  {
   "cell_type": "code",
   "execution_count": 46,
   "metadata": {
    "ExecuteTime": {
     "end_time": "2020-12-09T23:13:52.686194Z",
     "start_time": "2020-12-09T23:13:52.216603Z"
    }
   },
   "outputs": [],
   "source": [
    "y_pred = pipemodel.predict(X)\n",
    "xp = preprocessor.fit_transform(X)\n",
    "y_pred = pd.DataFrame(y_pred, columns = [\"y_pred\"])\n",
    "x_prepro = pd.DataFrame(xp, columns = features)"
   ]
  },
  {
   "cell_type": "code",
   "execution_count": 47,
   "metadata": {
    "ExecuteTime": {
     "end_time": "2020-12-09T23:13:58.523604Z",
     "start_time": "2020-12-09T23:13:58.512480Z"
    }
   },
   "outputs": [],
   "source": [
    "outputs = data[[\"id\", \"name\", \"deep_or_not\", \"target\"]].join(x_prepro).join(y_pred)"
   ]
  },
  {
   "cell_type": "code",
   "execution_count": 48,
   "metadata": {
    "ExecuteTime": {
     "end_time": "2020-12-09T23:14:02.190900Z",
     "start_time": "2020-12-09T23:14:02.179483Z"
    }
   },
   "outputs": [],
   "source": [
    "FN = outputs[(outputs.deep_or_not == \"deeptech\") & (outputs.y_pred == 0)]\n",
    "FP = outputs[(outputs.deep_or_not == \"non_deeptech\") | (outputs.deep_or_not == \"almost_deeptech\") & (outputs.y_pred == 1)]\n"
   ]
  },
  {
   "cell_type": "code",
   "execution_count": null,
   "metadata": {
    "ExecuteTime": {
     "end_time": "2020-12-09T19:59:52.337638Z",
     "start_time": "2020-12-09T19:59:44.723107Z"
    },
    "scrolled": true
   },
   "outputs": [],
   "source": [
    "import seaborn as sns\n",
    "sns.pairplot(FN[features])"
   ]
  },
  {
   "cell_type": "code",
   "execution_count": null,
   "metadata": {
    "ExecuteTime": {
     "end_time": "2020-12-09T19:55:06.936174Z",
     "start_time": "2020-12-09T19:54:58.604246Z"
    }
   },
   "outputs": [],
   "source": [
    "sns.pairplot(FP[features])"
   ]
  },
  {
   "cell_type": "code",
   "execution_count": null,
   "metadata": {
    "ExecuteTime": {
     "end_time": "2020-12-09T18:58:28.257713Z",
     "start_time": "2020-12-09T18:58:24.566631Z"
    }
   },
   "outputs": [],
   "source": [
    "from pandasgui import show\n",
    "show(outputs)"
   ]
  }
 ],
 "metadata": {
  "kernelspec": {
   "display_name": "Python 3",
   "language": "python",
   "name": "python3"
  },
  "language_info": {
   "codemirror_mode": {
    "name": "ipython",
    "version": 3
   },
   "file_extension": ".py",
   "mimetype": "text/x-python",
   "name": "python",
   "nbconvert_exporter": "python",
   "pygments_lexer": "ipython3",
   "version": "3.8.6"
  },
  "toc": {
   "base_numbering": 1,
   "nav_menu": {},
   "number_sections": true,
   "sideBar": true,
   "skip_h1_title": false,
   "title_cell": "Table of Contents",
   "title_sidebar": "Contents",
   "toc_cell": false,
   "toc_position": {},
   "toc_section_display": true,
   "toc_window_display": false
  },
  "varInspector": {
   "cols": {
    "lenName": 16,
    "lenType": 16,
    "lenVar": 40
   },
   "kernels_config": {
    "python": {
     "delete_cmd_postfix": "",
     "delete_cmd_prefix": "del ",
     "library": "var_list.py",
     "varRefreshCmd": "print(var_dic_list())"
    },
    "r": {
     "delete_cmd_postfix": ") ",
     "delete_cmd_prefix": "rm(",
     "library": "var_list.r",
     "varRefreshCmd": "cat(var_dic_list()) "
    }
   },
   "types_to_exclude": [
    "module",
    "function",
    "builtin_function_or_method",
    "instance",
    "_Feature"
   ],
   "window_display": false
  }
 },
 "nbformat": 4,
 "nbformat_minor": 4
}
