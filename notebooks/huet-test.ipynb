{
 "cells": [
  {
   "cell_type": "code",
   "execution_count": 1,
   "metadata": {
    "ExecuteTime": {
     "end_time": "2020-09-09T14:34:41.277288Z",
     "start_time": "2020-09-09T14:34:41.238411Z"
    }
   },
   "outputs": [],
   "source": [
    "%load_ext autoreload\n",
    "%autoreload 2"
   ]
  },
  {
   "cell_type": "markdown",
   "metadata": {},
   "source": [
    "# Explore\n"
   ]
  },
  {
   "cell_type": "markdown",
   "metadata": {
    "ExecuteTime": {
     "end_time": "2020-09-09T12:41:18.524505Z",
     "start_time": "2020-09-09T12:41:18.468530Z"
    },
    "heading_collapsed": true
   },
   "source": [
    "## Data clean"
   ]
  },
  {
   "cell_type": "code",
   "execution_count": 2,
   "metadata": {
    "ExecuteTime": {
     "end_time": "2020-09-09T14:34:49.102019Z",
     "start_time": "2020-09-09T14:34:46.868587Z"
    },
    "hidden": true
   },
   "outputs": [],
   "source": [
    "from bpideep.cleaning import clean_data"
   ]
  },
  {
   "cell_type": "code",
   "execution_count": 3,
   "metadata": {
    "ExecuteTime": {
     "end_time": "2020-09-09T14:34:49.187442Z",
     "start_time": "2020-09-09T14:34:49.147097Z"
    },
    "hidden": true
   },
   "outputs": [],
   "source": [
    "from bpideep.cleaning import get_data,clean_data"
   ]
  },
  {
   "cell_type": "code",
   "execution_count": 5,
   "metadata": {
    "ExecuteTime": {
     "end_time": "2020-09-09T14:35:22.723970Z",
     "start_time": "2020-09-09T14:35:22.488655Z"
    },
    "hidden": true
   },
   "outputs": [],
   "source": [
    "data = get_data()"
   ]
  },
  {
   "cell_type": "code",
   "execution_count": 4,
   "metadata": {
    "ExecuteTime": {
     "end_time": "2020-09-09T14:34:52.379062Z",
     "start_time": "2020-09-09T14:34:52.275468Z"
    },
    "hidden": true
   },
   "outputs": [
    {
     "ename": "NameError",
     "evalue": "name 'data' is not defined",
     "output_type": "error",
     "traceback": [
      "\u001b[1;31m---------------------------------------------------------------------------\u001b[0m",
      "\u001b[1;31mNameError\u001b[0m                                 Traceback (most recent call last)",
      "\u001b[1;32m<ipython-input-4-8b8277afa703>\u001b[0m in \u001b[0;36m<module>\u001b[1;34m\u001b[0m\n\u001b[1;32m----> 1\u001b[1;33m \u001b[0mdata_clean\u001b[0m \u001b[1;33m=\u001b[0m \u001b[0mclean_data\u001b[0m\u001b[1;33m(\u001b[0m\u001b[0mdata\u001b[0m\u001b[1;33m)\u001b[0m\u001b[1;33m\u001b[0m\u001b[1;33m\u001b[0m\u001b[0m\n\u001b[0m",
      "\u001b[1;31mNameError\u001b[0m: name 'data' is not defined"
     ]
    }
   ],
   "source": [
    "data_clean = clean_data(data)"
   ]
  },
  {
   "cell_type": "markdown",
   "metadata": {
    "heading_collapsed": true
   },
   "source": [
    "## Explore Industries"
   ]
  },
  {
   "cell_type": "code",
   "execution_count": 269,
   "metadata": {
    "ExecuteTime": {
     "end_time": "2020-09-09T12:43:53.333667Z",
     "start_time": "2020-09-09T12:43:53.277250Z"
    },
    "hidden": true
   },
   "outputs": [
    {
     "data": {
      "text/html": [
       "<div>\n",
       "<style scoped>\n",
       "    .dataframe tbody tr th:only-of-type {\n",
       "        vertical-align: middle;\n",
       "    }\n",
       "\n",
       "    .dataframe tbody tr th {\n",
       "        vertical-align: top;\n",
       "    }\n",
       "\n",
       "    .dataframe thead th {\n",
       "        text-align: right;\n",
       "    }\n",
       "</style>\n",
       "<table border=\"1\" class=\"dataframe\">\n",
       "  <thead>\n",
       "    <tr style=\"text-align: right;\">\n",
       "      <th></th>\n",
       "    </tr>\n",
       "  </thead>\n",
       "  <tbody>\n",
       "  </tbody>\n",
       "</table>\n",
       "</div>"
      ],
      "text/plain": [
       "Empty DataFrame\n",
       "Columns: []\n",
       "Index: []"
      ]
     },
     "execution_count": 269,
     "metadata": {},
     "output_type": "execute_result"
    }
   ],
   "source": [
    "extract_json(data.industries).head()"
   ]
  },
  {
   "cell_type": "code",
   "execution_count": 275,
   "metadata": {
    "ExecuteTime": {
     "end_time": "2020-09-09T12:47:13.500223Z",
     "start_time": "2020-09-09T12:47:13.445211Z"
    },
    "hidden": true
   },
   "outputs": [
    {
     "data": {
      "text/plain": [
       "\"[{'id': 1254, 'name': 'health'}, {'id': 1264, 'name': 'fintech'}]\""
      ]
     },
     "execution_count": 275,
     "metadata": {},
     "output_type": "execute_result"
    }
   ],
   "source": [
    "data.industries[0]"
   ]
  },
  {
   "cell_type": "markdown",
   "metadata": {
    "heading_collapsed": true
   },
   "source": [
    "## Explore kpi_summary"
   ]
  },
  {
   "cell_type": "code",
   "execution_count": 316,
   "metadata": {
    "ExecuteTime": {
     "end_time": "2020-09-09T13:22:50.908926Z",
     "start_time": "2020-09-09T13:22:50.857032Z"
    },
    "hidden": true
   },
   "outputs": [
    {
     "data": {
      "text/plain": [
       "True"
      ]
     },
     "execution_count": 316,
     "metadata": {},
     "output_type": "execute_result"
    }
   ],
   "source": [
    "type(data.kpi_summary[0]) is str"
   ]
  },
  {
   "cell_type": "code",
   "execution_count": 318,
   "metadata": {
    "ExecuteTime": {
     "end_time": "2020-09-09T13:25:01.945162Z",
     "start_time": "2020-09-09T13:25:01.893182Z"
    },
    "hidden": true
   },
   "outputs": [
    {
     "data": {
      "text/plain": [
       "True"
      ]
     },
     "execution_count": 318,
     "metadata": {},
     "output_type": "execute_result"
    }
   ],
   "source": [
    "s = ast.literal_eval(data.kpi_summary[0])\n",
    "type(s) is dict"
   ]
  },
  {
   "cell_type": "code",
   "execution_count": 325,
   "metadata": {
    "ExecuteTime": {
     "end_time": "2020-09-09T13:25:52.842729Z",
     "start_time": "2020-09-09T13:25:52.741833Z"
    },
    "collapsed": true,
    "hidden": true
   },
   "outputs": [
    {
     "data": {
      "text/html": [
       "<div>\n",
       "<style scoped>\n",
       "    .dataframe tbody tr th:only-of-type {\n",
       "        vertical-align: middle;\n",
       "    }\n",
       "\n",
       "    .dataframe tbody tr th {\n",
       "        vertical-align: top;\n",
       "    }\n",
       "\n",
       "    .dataframe thead th {\n",
       "        text-align: right;\n",
       "    }\n",
       "</style>\n",
       "<table border=\"1\" class=\"dataframe\">\n",
       "  <thead>\n",
       "    <tr style=\"text-align: right;\">\n",
       "      <th></th>\n",
       "      <th>currency</th>\n",
       "      <th>last_update_date</th>\n",
       "      <th>last_update_date_utc</th>\n",
       "      <th>valuations</th>\n",
       "      <th>values</th>\n",
       "      <th>values_sources</th>\n",
       "    </tr>\n",
       "    <tr>\n",
       "      <th>id</th>\n",
       "      <th></th>\n",
       "      <th></th>\n",
       "      <th></th>\n",
       "      <th></th>\n",
       "      <th></th>\n",
       "      <th></th>\n",
       "    </tr>\n",
       "  </thead>\n",
       "  <tbody>\n",
       "    <tr>\n",
       "      <th>1782186</th>\n",
       "      <td>None</td>\n",
       "      <td>2019-09-17T02:29:55+0100</td>\n",
       "      <td>2019-09-17 01:29:55</td>\n",
       "      <td>[]</td>\n",
       "      <td>[]</td>\n",
       "      <td>[]</td>\n",
       "    </tr>\n",
       "    <tr>\n",
       "      <th>125243</th>\n",
       "      <td>EUR</td>\n",
       "      <td>2020-07-31T10:34:23+0100</td>\n",
       "      <td>2020-07-31 09:34:23</td>\n",
       "      <td>[{'id': 352523, 'year': 2019, 'month': 2, 'sou...</td>\n",
       "      <td>[]</td>\n",
       "      <td>[]</td>\n",
       "    </tr>\n",
       "    <tr>\n",
       "      <th>322106</th>\n",
       "      <td>None</td>\n",
       "      <td>2020-07-31T10:29:51+0100</td>\n",
       "      <td>2020-07-31 09:29:51</td>\n",
       "      <td>[{'id': 1006235, 'year': 2019, 'month': 10, 's...</td>\n",
       "      <td>[]</td>\n",
       "      <td>[]</td>\n",
       "    </tr>\n",
       "    <tr>\n",
       "      <th>7092</th>\n",
       "      <td>None</td>\n",
       "      <td>2020-07-31T10:29:51+0100</td>\n",
       "      <td>2020-07-31 09:29:51</td>\n",
       "      <td>[{'id': 167170, 'year': 2016, 'month': 7, 'sou...</td>\n",
       "      <td>[]</td>\n",
       "      <td>[]</td>\n",
       "    </tr>\n",
       "    <tr>\n",
       "      <th>98420</th>\n",
       "      <td>None</td>\n",
       "      <td>2020-07-31T10:29:23+0100</td>\n",
       "      <td>2020-07-31 09:29:23</td>\n",
       "      <td>[{'id': 151215, 'year': 2016, 'month': 4, 'sou...</td>\n",
       "      <td>[]</td>\n",
       "      <td>[]</td>\n",
       "    </tr>\n",
       "  </tbody>\n",
       "</table>\n",
       "</div>"
      ],
      "text/plain": [
       "        currency          last_update_date last_update_date_utc  \\\n",
       "id                                                                \n",
       "1782186     None  2019-09-17T02:29:55+0100  2019-09-17 01:29:55   \n",
       "125243       EUR  2020-07-31T10:34:23+0100  2020-07-31 09:34:23   \n",
       "322106      None  2020-07-31T10:29:51+0100  2020-07-31 09:29:51   \n",
       "7092        None  2020-07-31T10:29:51+0100  2020-07-31 09:29:51   \n",
       "98420       None  2020-07-31T10:29:23+0100  2020-07-31 09:29:23   \n",
       "\n",
       "                                                valuations values  \\\n",
       "id                                                                  \n",
       "1782186                                                 []     []   \n",
       "125243   [{'id': 352523, 'year': 2019, 'month': 2, 'sou...     []   \n",
       "322106   [{'id': 1006235, 'year': 2019, 'month': 10, 's...     []   \n",
       "7092     [{'id': 167170, 'year': 2016, 'month': 7, 'sou...     []   \n",
       "98420    [{'id': 151215, 'year': 2016, 'month': 4, 'sou...     []   \n",
       "\n",
       "        values_sources  \n",
       "id                      \n",
       "1782186             []  \n",
       "125243              []  \n",
       "322106              []  \n",
       "7092                []  \n",
       "98420               []  "
      ]
     },
     "execution_count": 325,
     "metadata": {},
     "output_type": "execute_result"
    }
   ],
   "source": [
    "kpi_df = extract_json(data.kpi_summary)"
   ]
  },
  {
   "cell_type": "code",
   "execution_count": 329,
   "metadata": {
    "ExecuteTime": {
     "end_time": "2020-09-09T13:29:17.003893Z",
     "start_time": "2020-09-09T13:29:16.929889Z"
    },
    "hidden": true,
    "scrolled": true
   },
   "outputs": [
    {
     "data": {
      "text/html": [
       "<div>\n",
       "<style scoped>\n",
       "    .dataframe tbody tr th:only-of-type {\n",
       "        vertical-align: middle;\n",
       "    }\n",
       "\n",
       "    .dataframe tbody tr th {\n",
       "        vertical-align: top;\n",
       "    }\n",
       "\n",
       "    .dataframe thead th {\n",
       "        text-align: right;\n",
       "    }\n",
       "</style>\n",
       "<table border=\"1\" class=\"dataframe\">\n",
       "  <thead>\n",
       "    <tr style=\"text-align: right;\">\n",
       "      <th></th>\n",
       "      <th>market_cap</th>\n",
       "      <th>market_cap_currency</th>\n",
       "      <th>month</th>\n",
       "      <th>source</th>\n",
       "      <th>source_round</th>\n",
       "      <th>valuation</th>\n",
       "      <th>valuation_currency</th>\n",
       "      <th>valuation_max</th>\n",
       "      <th>valuation_min</th>\n",
       "      <th>year</th>\n",
       "    </tr>\n",
       "    <tr>\n",
       "      <th>id</th>\n",
       "      <th></th>\n",
       "      <th></th>\n",
       "      <th></th>\n",
       "      <th></th>\n",
       "      <th></th>\n",
       "      <th></th>\n",
       "      <th></th>\n",
       "      <th></th>\n",
       "      <th></th>\n",
       "      <th></th>\n",
       "    </tr>\n",
       "  </thead>\n",
       "  <tbody>\n",
       "    <tr>\n",
       "      <th>201747</th>\n",
       "      <td>None</td>\n",
       "      <td>None</td>\n",
       "      <td>7.0</td>\n",
       "      <td>funding</td>\n",
       "      <td>SERIES A</td>\n",
       "      <td>NaN</td>\n",
       "      <td>EUR</td>\n",
       "      <td>282000000.0</td>\n",
       "      <td>188000000.0</td>\n",
       "      <td>2018</td>\n",
       "    </tr>\n",
       "    <tr>\n",
       "      <th>197727</th>\n",
       "      <td>None</td>\n",
       "      <td>None</td>\n",
       "      <td>5.0</td>\n",
       "      <td>funding</td>\n",
       "      <td>SERIES B</td>\n",
       "      <td>NaN</td>\n",
       "      <td>USD</td>\n",
       "      <td>225000000.0</td>\n",
       "      <td>150000000.0</td>\n",
       "      <td>2018</td>\n",
       "    </tr>\n",
       "    <tr>\n",
       "      <th>144332</th>\n",
       "      <td>None</td>\n",
       "      <td>None</td>\n",
       "      <td>9.0</td>\n",
       "      <td>funding</td>\n",
       "      <td>SERIES A</td>\n",
       "      <td>NaN</td>\n",
       "      <td>USD</td>\n",
       "      <td>210000000.0</td>\n",
       "      <td>140000000.0</td>\n",
       "      <td>2015</td>\n",
       "    </tr>\n",
       "    <tr>\n",
       "      <th>142781</th>\n",
       "      <td>None</td>\n",
       "      <td>None</td>\n",
       "      <td>4.0</td>\n",
       "      <td>funding</td>\n",
       "      <td>SERIES A</td>\n",
       "      <td>NaN</td>\n",
       "      <td>EUR</td>\n",
       "      <td>192000000.0</td>\n",
       "      <td>128000000.0</td>\n",
       "      <td>2013</td>\n",
       "    </tr>\n",
       "    <tr>\n",
       "      <th>167415</th>\n",
       "      <td>None</td>\n",
       "      <td>None</td>\n",
       "      <td>1.0</td>\n",
       "      <td>funding</td>\n",
       "      <td>SERIES B</td>\n",
       "      <td>NaN</td>\n",
       "      <td>USD</td>\n",
       "      <td>180000000.0</td>\n",
       "      <td>120000000.0</td>\n",
       "      <td>2008</td>\n",
       "    </tr>\n",
       "  </tbody>\n",
       "</table>\n",
       "</div>"
      ],
      "text/plain": [
       "       market_cap market_cap_currency  month   source source_round  valuation  \\\n",
       "id                                                                              \n",
       "201747       None                None    7.0  funding     SERIES A        NaN   \n",
       "197727       None                None    5.0  funding     SERIES B        NaN   \n",
       "144332       None                None    9.0  funding     SERIES A        NaN   \n",
       "142781       None                None    4.0  funding     SERIES A        NaN   \n",
       "167415       None                None    1.0  funding     SERIES B        NaN   \n",
       "\n",
       "       valuation_currency  valuation_max  valuation_min  year  \n",
       "id                                                             \n",
       "201747                EUR    282000000.0    188000000.0  2018  \n",
       "197727                USD    225000000.0    150000000.0  2018  \n",
       "144332                USD    210000000.0    140000000.0  2015  \n",
       "142781                EUR    192000000.0    128000000.0  2013  \n",
       "167415                USD    180000000.0    120000000.0  2008  "
      ]
     },
     "execution_count": 329,
     "metadata": {},
     "output_type": "execute_result"
    }
   ],
   "source": [
    "extract_json(kpi_df['valuations']).sort_values('valuation_max', ascending = False).head()"
   ]
  },
  {
   "cell_type": "code",
   "execution_count": 332,
   "metadata": {
    "ExecuteTime": {
     "end_time": "2020-09-09T13:32:05.451528Z",
     "start_time": "2020-09-09T13:32:05.397969Z"
    },
    "hidden": true,
    "scrolled": true
   },
   "outputs": [
    {
     "data": {
      "text/plain": [
       "0      False\n",
       "1      False\n",
       "2      False\n",
       "3      False\n",
       "4      False\n",
       "5      False\n",
       "6      False\n",
       "7      False\n",
       "8      False\n",
       "9      False\n",
       "10     False\n",
       "11     False\n",
       "12     False\n",
       "13     False\n",
       "14     False\n",
       "15     False\n",
       "16     False\n",
       "17     False\n",
       "18     False\n",
       "19     False\n",
       "20     False\n",
       "21     False\n",
       "22     False\n",
       "23     False\n",
       "24     False\n",
       "25     False\n",
       "26     False\n",
       "27     False\n",
       "28     False\n",
       "29     False\n",
       "       ...  \n",
       "425    False\n",
       "426    False\n",
       "427    False\n",
       "428    False\n",
       "429    False\n",
       "430    False\n",
       "431    False\n",
       "432    False\n",
       "433    False\n",
       "434    False\n",
       "435    False\n",
       "436    False\n",
       "437    False\n",
       "438    False\n",
       "439    False\n",
       "440    False\n",
       "441    False\n",
       "442    False\n",
       "443    False\n",
       "444    False\n",
       "445    False\n",
       "446    False\n",
       "447    False\n",
       "448    False\n",
       "449    False\n",
       "450    False\n",
       "451    False\n",
       "452    False\n",
       "453    False\n",
       "454    False\n",
       "Name: id, Length: 455, dtype: bool"
      ]
     },
     "execution_count": 332,
     "metadata": {},
     "output_type": "execute_result"
    }
   ],
   "source": [
    "data.id == 201747"
   ]
  },
  {
   "cell_type": "code",
   "execution_count": 333,
   "metadata": {
    "ExecuteTime": {
     "end_time": "2020-09-09T13:32:18.527893Z",
     "start_time": "2020-09-09T13:32:18.463455Z"
    },
    "hidden": true
   },
   "outputs": [
    {
     "data": {
      "text/html": [
       "<div>\n",
       "<style scoped>\n",
       "    .dataframe tbody tr th:only-of-type {\n",
       "        vertical-align: middle;\n",
       "    }\n",
       "\n",
       "    .dataframe tbody tr th {\n",
       "        vertical-align: top;\n",
       "    }\n",
       "\n",
       "    .dataframe thead th {\n",
       "        text-align: right;\n",
       "    }\n",
       "</style>\n",
       "<table border=\"1\" class=\"dataframe\">\n",
       "  <thead>\n",
       "    <tr style=\"text-align: right;\">\n",
       "      <th></th>\n",
       "      <th>Unnamed: 0</th>\n",
       "      <th>about</th>\n",
       "      <th>achievements</th>\n",
       "      <th>alexa_rank_chart</th>\n",
       "      <th>angellist_url</th>\n",
       "      <th>app_12_months_growth_percentile</th>\n",
       "      <th>app_12_months_growth_relative</th>\n",
       "      <th>app_12_months_growth_unique</th>\n",
       "      <th>app_3_months_growth_percentile</th>\n",
       "      <th>app_3_months_growth_relative</th>\n",
       "      <th>...</th>\n",
       "      <th>total_funding</th>\n",
       "      <th>total_funding_source</th>\n",
       "      <th>traffic</th>\n",
       "      <th>traffic_summary</th>\n",
       "      <th>twitter_favorites_chart</th>\n",
       "      <th>twitter_followers_chart</th>\n",
       "      <th>twitter_tweets_chart</th>\n",
       "      <th>twitter_url</th>\n",
       "      <th>url</th>\n",
       "      <th>website_url</th>\n",
       "    </tr>\n",
       "  </thead>\n",
       "  <tbody>\n",
       "  </tbody>\n",
       "</table>\n",
       "<p>0 rows × 93 columns</p>\n",
       "</div>"
      ],
      "text/plain": [
       "Empty DataFrame\n",
       "Columns: [Unnamed: 0, about, achievements, alexa_rank_chart, angellist_url, app_12_months_growth_percentile, app_12_months_growth_relative, app_12_months_growth_unique, app_3_months_growth_percentile, app_3_months_growth_relative, app_3_months_growth_unique, app_6_months_growth_percentile, app_6_months_growth_relative, app_6_months_growth_unique, appstore_app_id, client_focus, company_status, corporate_industries, crunchbase_url, delivery_method, employee_12_months_growth_delta, employee_12_months_growth_percentile, employee_12_months_growth_relative, employee_12_months_growth_unique, employee_3_months_growth_delta, employee_3_months_growth_percentile, employee_3_months_growth_relative, employee_3_months_growth_unique, employee_6_months_growth_delta, employee_6_months_growth_percentile, employee_6_months_growth_relative, employee_6_months_growth_unique, employees, employees_chart, employees_latest, facebook_likes_chart, facebook_url, fundings, google_url, growth_stage, has_strong_founder, has_super_founder, hq_locations, id, images, income_streams, industries, investors, job_openings, kpi_summary, last_funding, last_funding_source, last_updated, last_updated_utc, launch_month, launch_year, linkedin_url, name, ownerships, path, payments, playmarket_app_id, revenues, service_industries, similarweb_12_months_growth_delta, similarweb_12_months_growth_percentile, similarweb_12_months_growth_relative, similarweb_12_months_growth_unique, similarweb_3_months_growth_delta, similarweb_3_months_growth_percentile, similarweb_3_months_growth_relative, similarweb_3_months_growth_unique, similarweb_6_months_growth_delta, similarweb_6_months_growth_percentile, similarweb_6_months_growth_relative, similarweb_6_months_growth_unique, similarweb_chart, sub_industries, tagline, tags, team, technologies, tg_locations, total_funding, total_funding_source, traffic, traffic_summary, twitter_favorites_chart, twitter_followers_chart, twitter_tweets_chart, twitter_url, url, website_url]\n",
       "Index: []\n",
       "\n",
       "[0 rows x 93 columns]"
      ]
     },
     "execution_count": 333,
     "metadata": {},
     "output_type": "execute_result"
    }
   ],
   "source": [
    "data.loc[data.id == 201747, :]"
   ]
  },
  {
   "cell_type": "markdown",
   "metadata": {},
   "source": [
    "# Data Cleaning"
   ]
  },
  {
   "cell_type": "markdown",
   "metadata": {
    "ExecuteTime": {
     "end_time": "2020-09-09T11:48:50.168569Z",
     "start_time": "2020-09-09T11:48:50.119549Z"
    }
   },
   "source": [
    "## extract_json fonction"
   ]
  },
  {
   "cell_type": "code",
   "execution_count": 16,
   "metadata": {
    "ExecuteTime": {
     "end_time": "2020-09-09T14:38:51.293025Z",
     "start_time": "2020-09-09T14:38:51.239950Z"
    }
   },
   "outputs": [],
   "source": [
    "import ast\n",
    "import pandas as pd\n",
    "import numpy as np\n",
    "\n",
    "def extract_json(column):  \n",
    "    '''Extract a json form a column, return a data frame'''\n",
    "    \n",
    "    def to_dic(string):\n",
    "        if type(string) is str:\n",
    "            string = ast.literal_eval(string)\n",
    "            if type(string) is dict:\n",
    "                return string\n",
    "            else : \n",
    "                try : \n",
    "                    return string[0]\n",
    "                except:\n",
    "                    return np.nan\n",
    "      \n",
    "        elif type(string) is list and string:\n",
    "            return string[0]\n",
    "        else: \n",
    "            return np.nan\n",
    "        \n",
    "    column = column.map(lambda x : to_dic(x))\n",
    "\n",
    "    df = pd.DataFrame(column.dropna().to_list())\n",
    "    \n",
    "    if 'id' in df.columns:\n",
    "        df.set_index('id', inplace = True)\n",
    "    \n",
    "    return df "
   ]
  },
  {
   "cell_type": "markdown",
   "metadata": {},
   "source": [
    "## Encode hq_locations"
   ]
  },
  {
   "cell_type": "code",
   "execution_count": 35,
   "metadata": {
    "ExecuteTime": {
     "end_time": "2020-09-09T14:47:37.507868Z",
     "start_time": "2020-09-09T14:47:37.461824Z"
    }
   },
   "outputs": [
    {
     "data": {
      "text/plain": [
       "141"
      ]
     },
     "execution_count": 35,
     "metadata": {},
     "output_type": "execute_result"
    }
   ],
   "source": [
    "zip_code.isna().sum()"
   ]
  },
  {
   "cell_type": "code",
   "execution_count": 22,
   "metadata": {
    "ExecuteTime": {
     "end_time": "2020-09-09T14:40:05.848890Z",
     "start_time": "2020-09-09T14:40:05.761888Z"
    }
   },
   "outputs": [],
   "source": [
    "\n",
    "def \n",
    "hq_locations_df = extract_json(data.hq_locations)\n",
    "zip_code = hq_locations_df.iloc[:,-1]\n",
    "zip_cut= zip_code.dropna().apply(lambda x : x[0:2])"
   ]
  },
  {
   "cell_type": "markdown",
   "metadata": {
    "heading_collapsed": true
   },
   "source": [
    "# Bulk Search"
   ]
  },
  {
   "cell_type": "code",
   "execution_count": 69,
   "metadata": {
    "ExecuteTime": {
     "end_time": "2020-09-09T08:58:30.652276Z",
     "start_time": "2020-09-09T08:58:30.537985Z"
    },
    "hidden": true
   },
   "outputs": [],
   "source": [
    "from bpideep.getdata import bulk_search"
   ]
  },
  {
   "cell_type": "code",
   "execution_count": 78,
   "metadata": {
    "ExecuteTime": {
     "end_time": "2020-09-09T09:02:56.571728Z",
     "start_time": "2020-09-09T09:02:56.305979Z"
    },
    "hidden": true
   },
   "outputs": [],
   "source": [
    "df = bulk_search( form_data =  {\n",
    "                            \"must\": {\"last_round_year\": \"2019\",\"hq_locations\": \"France\"},\n",
    "                            \"must_not\": {},\n",
    "                            \"should\": {}\n",
    "                            })"
   ]
  },
  {
   "cell_type": "code",
   "execution_count": null,
   "metadata": {
    "hidden": true
   },
   "outputs": [],
   "source": [
    "df = bulk_search( form_data = {\"must\": {\"last_round_year\": \"2019\",\"hq_locations\": \"France\"} } )"
   ]
  },
  {
   "cell_type": "code",
   "execution_count": 79,
   "metadata": {
    "ExecuteTime": {
     "end_time": "2020-09-09T09:03:00.268784Z",
     "start_time": "2020-09-09T09:03:00.153556Z"
    },
    "hidden": true
   },
   "outputs": [
    {
     "data": {
      "text/plain": [
       "{'error': True, 'code': 17, 'message': 'Invalid form data format'}"
      ]
     },
     "execution_count": 79,
     "metadata": {},
     "output_type": "execute_result"
    }
   ],
   "source": [
    "df"
   ]
  },
  {
   "cell_type": "code",
   "execution_count": 104,
   "metadata": {
    "ExecuteTime": {
     "end_time": "2020-09-09T09:19:10.222968Z",
     "start_time": "2020-09-09T09:19:09.895160Z"
    },
    "hidden": true
   },
   "outputs": [
    {
     "data": {
      "text/plain": [
       "{'error': True, 'code': 17, 'message': 'Invalid form data format'}"
      ]
     },
     "execution_count": 104,
     "metadata": {},
     "output_type": "execute_result"
    }
   ],
   "source": [
    "bulk_search(keyword = \"Dealroom\", form_data = {\n",
    "      \"must\": {\n",
    "        \"last_updated\": \"2016-12-10 00:00:00\",\n",
    "        \"industries\": [\"fintech\"],\n",
    "        \"tags\": [\"banking\", \"investing\"],\n",
    "        \"hq_locations\": [\"Europe\", \"United States\"]\n",
    "      },\n",
    "      \"should\": {\n",
    "        \"fundings\": [\"1-10M\"]\n",
    "      },\n",
    "      \"must_not\": {\n",
    "        \"client_focus\": [\"consumer\"]\n",
    "      }\n",
    "  })"
   ]
  },
  {
   "cell_type": "code",
   "execution_count": null,
   "metadata": {
    "hidden": true
   },
   "outputs": [],
   "source": []
  }
 ],
 "metadata": {
  "kernelspec": {
   "display_name": "Python 3",
   "language": "python",
   "name": "python3"
  },
  "language_info": {
   "codemirror_mode": {
    "name": "ipython",
    "version": 3
   },
   "file_extension": ".py",
   "mimetype": "text/x-python",
   "name": "python",
   "nbconvert_exporter": "python",
   "pygments_lexer": "ipython3",
   "version": "3.7.7"
  },
  "toc": {
   "base_numbering": 1,
   "nav_menu": {},
   "number_sections": false,
   "sideBar": true,
   "skip_h1_title": false,
   "title_cell": "Table of Contents",
   "title_sidebar": "Contents",
   "toc_cell": false,
   "toc_position": {
    "height": "542.4px",
    "left": "29px",
    "top": "110.8px",
    "width": "231.2px"
   },
   "toc_section_display": true,
   "toc_window_display": true
  },
  "varInspector": {
   "cols": {
    "lenName": 16,
    "lenType": 16,
    "lenVar": 40
   },
   "kernels_config": {
    "python": {
     "delete_cmd_postfix": "",
     "delete_cmd_prefix": "del ",
     "library": "var_list.py",
     "varRefreshCmd": "print(var_dic_list())"
    },
    "r": {
     "delete_cmd_postfix": ") ",
     "delete_cmd_prefix": "rm(",
     "library": "var_list.r",
     "varRefreshCmd": "cat(var_dic_list()) "
    }
   },
   "types_to_exclude": [
    "module",
    "function",
    "builtin_function_or_method",
    "instance",
    "_Feature"
   ],
   "window_display": false
  }
 },
 "nbformat": 4,
 "nbformat_minor": 4
}
