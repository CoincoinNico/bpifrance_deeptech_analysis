{
 "cells": [
  {
   "cell_type": "code",
   "execution_count": null,
   "metadata": {
    "ExecuteTime": {
     "end_time": "2020-12-09T20:01:23.850200Z",
     "start_time": "2020-12-09T20:01:23.818433Z"
    }
   },
   "outputs": [],
   "source": [
    "%load_ext autoreload\n",
    "%autoreload 2"
   ]
  },
  {
   "cell_type": "code",
   "execution_count": 1,
   "metadata": {
    "ExecuteTime": {
     "end_time": "2020-12-09T22:37:05.198467Z",
     "start_time": "2020-12-09T22:37:03.268137Z"
    }
   },
   "outputs": [],
   "source": [
    "import pandas as pd\n",
    "import numpy as np\n",
    "import json\n",
    "import re\n",
    "from sklearn.impute import SimpleImputer\n",
    "from sklearn.preprocessing import OneHotEncoder, RobustScaler\n",
    "import matplotlib.pyplot as plt"
   ]
  },
  {
   "cell_type": "markdown",
   "metadata": {},
   "source": [
    "# Convert the json data in string (transformed by the pd.read_csv) to string "
   ]
  },
  {
   "cell_type": "code",
   "execution_count": 2,
   "metadata": {
    "ExecuteTime": {
     "end_time": "2020-12-09T22:37:05.407516Z",
     "start_time": "2020-12-09T22:37:05.397737Z"
    }
   },
   "outputs": [],
   "source": [
    "def load_json_field(bad_json):\n",
    "    regex = r\"\\w\\'\\w\"\n",
    "    subst = \"\"\n",
    "    bad_json = re.sub(regex, subst, bad_json)\n",
    "    bad_json = bad_json.replace(\"d' Arrouzat\", \"darrouzat\")\n",
    "    good_json = bad_json.replace(\"\\'\", \"\\\"\").replace(\"None\", \"null\").replace(\"True\", \"true\").replace(\"False\", \"false\")\n",
    "    \n",
    "    return json.loads(good_json)"
   ]
  },
  {
   "cell_type": "code",
   "execution_count": 3,
   "metadata": {
    "ExecuteTime": {
     "end_time": "2020-12-09T22:37:07.141721Z",
     "start_time": "2020-12-09T22:37:05.526958Z"
    }
   },
   "outputs": [],
   "source": [
    "data = pd.read_csv(\"../bpideep/rawdata/data2020-12-03.csv\")\n",
    "data[\"team\"] = data[\"team\"].apply(load_json_field)\n",
    "data[\"industries\"] = data[\"industries\"].apply(load_json_field)\n",
    "data[\"investors\"] = data[\"investors\"].apply(load_json_field)\n",
    "data[\"fundings\"] = data[\"fundings\"].apply(load_json_field)"
   ]
  },
  {
   "cell_type": "code",
   "execution_count": null,
   "metadata": {},
   "outputs": [],
   "source": []
  },
  {
   "cell_type": "markdown",
   "metadata": {},
   "source": [
    "# Import data + data cleaning thanks to info retrieved from Linkedin"
   ]
  },
  {
   "cell_type": "markdown",
   "metadata": {},
   "source": [
    "## DATA CLEANING"
   ]
  },
  {
   "cell_type": "code",
   "execution_count": 23,
   "metadata": {
    "ExecuteTime": {
     "end_time": "2020-12-09T22:45:18.978968Z",
     "start_time": "2020-12-09T22:45:18.962553Z"
    }
   },
   "outputs": [],
   "source": [
    "def impute_missing_launch_year(data):\n",
    "\n",
    "    names = ['Amypore',\n",
    "             'Kinnov Therapeutics',\n",
    "             'Lipofabrik',\n",
    "             'Step pharma',\n",
    "             'LiMM Therapeutics',\n",
    "             'Ilek',\n",
    "             'LysPackaging',\n",
    "             'TexiSense',\n",
    "             \"Institut de Prise en Charge de l'Obésité\",\n",
    "             'Izi Family',\n",
    "             'Arthur Dupuy',\n",
    "             'Gen.Orph',\n",
    "             'Uniris',\n",
    "             'NANOZ',\n",
    "             'Akwatyx',\n",
    "             'Black-line',\n",
    "             'Eyye',\n",
    "             \"O'Sol\",\n",
    "             'Treenox',\n",
    "             'Aqualeg',\n",
    "             'Co-assit',\n",
    "             'Wind my roof',\n",
    "             'APPARTOO',\n",
    "             'BimBamJob',\n",
    "             'Buddytherobot.com',\n",
    "             'Bcm',\n",
    "             'CCI Paris Ile de France',\n",
    "             'Datarocks',\n",
    "             'EFFICIENCIA',\n",
    "             'EONEF',\n",
    "             'FEALINX',\n",
    "             'INERIS',\n",
    "             'Marguerite',\n",
    "             'TokTokDoc',\n",
    "             'Novaquark',\n",
    "             'Peopeo',\n",
    "             'Sloclap',\n",
    "             'Swift',\n",
    "             'Sword',\n",
    "             'XT-VISION',\n",
    "             'Ryax',\n",
    "             'Sylha',\n",
    "             'Opta LP']\n",
    "\n",
    "    # inserting missing launch year and month for the 33 companies with fundraising\n",
    "    launch_years = [2018, 2015, 2012, 2014, 2018, 2016, 2015, 2010, 2011, 2016, 2015, \n",
    "                   2012, 2017, 2012, 2015, 2017, 2016, 2016, 2018, 2011, 2016, 2018, 2015, 2015, 2014, 2014, 2013,\n",
    "                   2014, 2012, 2016, 1997, 1990, 2012, 2016, 2014, 2017, 2015, 1973, 2000, 2011, 2017, 2019, 2013]\n",
    "\n",
    "    zipbObj = zip(names, launch_years)\n",
    "    launch_year_dict = dict(zipbObj)\n",
    "\n",
    "    data[\"launch_year_clean\"] = data['launch_year']\n",
    "    \n",
    "    for name, year in launch_year_dict.items() : \n",
    "        data.loc[data.name == name, \"launch_year_clean\"] = year\n",
    "    return data\n",
    "\n",
    "def get_growth_dict(df):\n",
    "    table = df[[\"growth_stage\", \"launch_year_clean\", \"id\"]].groupby(by=[\"launch_year_clean\", \"growth_stage\"]).count()\n",
    "    column = list(table.unstack(level = -1).columns)\n",
    "    growth_dict = table.unstack(level = -1).fillna(0).apply(lambda x: column[x.argmax()][1], axis = 1).to_dict()\n",
    "    \n",
    "    return growth_dict\n",
    "    \n",
    "\n",
    "def fill_missing_growth(growth_dict, growth_stage, launch_year_clean):\n",
    "   \n",
    "    if type(growth_stage) == str:\n",
    "        return growth_stage    \n",
    "    elif launch_year_clean in growth_dict:\n",
    "        return growth_dict[launch_year_clean]\n",
    "    else:\n",
    "        return growth_stage\n",
    "    \n",
    "    \n",
    "def load_json_field(bad_json):\n",
    "    regex = r\"\\w\\'\\w\"\n",
    "    subst = \"\"\n",
    "    bad_json = re.sub(regex, subst, bad_json)\n",
    "    bad_json = bad_json.replace(\"d' Arrouzat\", \"darrouzat\")\n",
    "    good_json = bad_json.replace(\"\\'\", \"\\\"\").replace(\"None\", \"null\").replace(\"True\", \"true\").replace(\"False\", \"false\")\n",
    "    \n",
    "    return json.loads(good_json)\n",
    "\n",
    "\n",
    "def get_industries(x):\n",
    "    '''\n",
    "    function that extracts info from 'industries' column through mapping\n",
    "    data['industries_list'] = data['industries'].map(lambda x: industries(x))\n",
    "    '''\n",
    "    industries_list = []\n",
    "    \n",
    "    industries = x.apply(load_json_field)\n",
    "\n",
    "    for u in range(len(industries)):\n",
    "        if len(industries[u]) > 0:\n",
    "            industries_list.append(industries[u][0]['name'])\n",
    "        else:\n",
    "            industries_list.append(\"\")\n",
    "    return industries_list\n",
    "\n",
    "def get_health(x):\n",
    "    \n",
    "    industries = get_industries(x) # list of industries\n",
    "\n",
    "    health_industry = []\n",
    "    \n",
    "    for element in industries:\n",
    "        if element == 'health':\n",
    "            health_industry.append(1)\n",
    "        else:\n",
    "            health_industry.append(0)\n",
    "    return health_industry\n"
   ]
  },
  {
   "cell_type": "code",
   "execution_count": 24,
   "metadata": {
    "ExecuteTime": {
     "end_time": "2020-12-09T22:45:19.901857Z",
     "start_time": "2020-12-09T22:45:19.895807Z"
    }
   },
   "outputs": [],
   "source": [
    "def investors_type(x) :\n",
    "    investors_list = []\n",
    "    investors = x\n",
    "    if investors['total'] > 0 :\n",
    "        for y in range(len(investors['items'])):\n",
    "                investors_list.append(investors['items'][y]['type'])\n",
    "    return investors_list\n",
    "\n",
    "def fund_investors(x):\n",
    "\n",
    "    for row in range(len(x)):\n",
    "        if \"fund\" in x[\"investors_type\"][row] or \"investors\" in x[\"investors_type\"][row] :\n",
    "            x[\"investors_type\"][row] = 1\n",
    "\n",
    "        else :\n",
    "            x[\"investors_type\"][row] = 0\n",
    "    return x\n",
    "\n",
    "\n",
    "list_investor_type = ['fund',\n",
    " 'investor',\n",
    " 'corporate',\n",
    " 'government_nonprofit',\n",
    " 'service_provider',\n",
    " 'company',\n",
    " 'crowdfunding',\n",
    " 'workspace']\n"
   ]
  },
  {
   "cell_type": "code",
   "execution_count": 6,
   "metadata": {
    "ExecuteTime": {
     "end_time": "2020-12-09T22:37:12.065867Z",
     "start_time": "2020-12-09T22:37:11.858812Z"
    }
   },
   "outputs": [],
   "source": [
    "tmp = pd.read_csv(\"../bpideep/rawdata/data2020-12-03.csv\")"
   ]
  },
  {
   "cell_type": "code",
   "execution_count": 7,
   "metadata": {
    "ExecuteTime": {
     "end_time": "2020-12-09T22:37:12.846544Z",
     "start_time": "2020-12-09T22:37:12.633626Z"
    }
   },
   "outputs": [],
   "source": [
    "tmp[\"investors\"] = tmp[\"investors\"].apply(load_json_field)"
   ]
  },
  {
   "cell_type": "code",
   "execution_count": 8,
   "metadata": {
    "ExecuteTime": {
     "end_time": "2020-12-09T22:37:13.471893Z",
     "start_time": "2020-12-09T22:37:13.463401Z"
    }
   },
   "outputs": [],
   "source": [
    "tmp[\"investors_type\"] = pd.DataFrame(tmp[\"investors\"].apply(lambda row: investors_type(row)))"
   ]
  },
  {
   "cell_type": "code",
   "execution_count": 9,
   "metadata": {
    "ExecuteTime": {
     "end_time": "2020-12-09T22:37:16.424016Z",
     "start_time": "2020-12-09T22:37:14.117277Z"
    },
    "scrolled": true
   },
   "outputs": [
    {
     "name": "stdout",
     "output_type": "stream",
     "text": [
      "> \u001b[0;32m<ipython-input-5-67bfdc6060c2>\u001b[0m(11)\u001b[0;36mfund_investors\u001b[0;34m()\u001b[0m\n",
      "\u001b[0;32m     10 \u001b[0;31m    \u001b[0;32mimport\u001b[0m \u001b[0mipdb\u001b[0m \u001b[0;34m;\u001b[0m \u001b[0mipdb\u001b[0m\u001b[0;34m.\u001b[0m\u001b[0mset_trace\u001b[0m\u001b[0;34m(\u001b[0m\u001b[0;34m)\u001b[0m\u001b[0;34m\u001b[0m\u001b[0;34m\u001b[0m\u001b[0m\n",
      "\u001b[0m\u001b[0;32m---> 11 \u001b[0;31m    \u001b[0;32mfor\u001b[0m \u001b[0mrow\u001b[0m \u001b[0;32min\u001b[0m \u001b[0mrange\u001b[0m\u001b[0;34m(\u001b[0m\u001b[0mlen\u001b[0m\u001b[0;34m(\u001b[0m\u001b[0mx\u001b[0m\u001b[0;34m)\u001b[0m\u001b[0;34m)\u001b[0m\u001b[0;34m:\u001b[0m\u001b[0;34m\u001b[0m\u001b[0;34m\u001b[0m\u001b[0m\n",
      "\u001b[0m\u001b[0;32m     12 \u001b[0;31m        \u001b[0;32mif\u001b[0m \u001b[0;34m\"fund\"\u001b[0m \u001b[0;32min\u001b[0m \u001b[0mx\u001b[0m\u001b[0;34m[\u001b[0m\u001b[0;34m\"investors_type\"\u001b[0m\u001b[0;34m]\u001b[0m\u001b[0;34m[\u001b[0m\u001b[0mrow\u001b[0m\u001b[0;34m]\u001b[0m \u001b[0;32mor\u001b[0m \u001b[0;34m\"investors\"\u001b[0m \u001b[0;32min\u001b[0m \u001b[0mx\u001b[0m\u001b[0;34m[\u001b[0m\u001b[0;34m\"investors_type\"\u001b[0m\u001b[0;34m]\u001b[0m\u001b[0;34m[\u001b[0m\u001b[0mrow\u001b[0m\u001b[0;34m]\u001b[0m \u001b[0;34m:\u001b[0m\u001b[0;34m\u001b[0m\u001b[0;34m\u001b[0m\u001b[0m\n",
      "\u001b[0m\n",
      "ipdb> c\n"
     ]
    },
    {
     "name": "stderr",
     "output_type": "stream",
     "text": [
      "<ipython-input-9-9c3dd32ce580>:1: SettingWithCopyWarning: \n",
      "A value is trying to be set on a copy of a slice from a DataFrame\n",
      "\n",
      "See the caveats in the documentation: https://pandas.pydata.org/pandas-docs/stable/user_guide/indexing.html#returning-a-view-versus-a-copy\n",
      "  fund_investors(tmp[[\"investors_type\"]])\n"
     ]
    },
    {
     "data": {
      "text/html": [
       "<div>\n",
       "<style scoped>\n",
       "    .dataframe tbody tr th:only-of-type {\n",
       "        vertical-align: middle;\n",
       "    }\n",
       "\n",
       "    .dataframe tbody tr th {\n",
       "        vertical-align: top;\n",
       "    }\n",
       "\n",
       "    .dataframe thead th {\n",
       "        text-align: right;\n",
       "    }\n",
       "</style>\n",
       "<table border=\"1\" class=\"dataframe\">\n",
       "  <thead>\n",
       "    <tr style=\"text-align: right;\">\n",
       "      <th></th>\n",
       "      <th>investors_type</th>\n",
       "    </tr>\n",
       "  </thead>\n",
       "  <tbody>\n",
       "    <tr>\n",
       "      <th>0</th>\n",
       "      <td>0</td>\n",
       "    </tr>\n",
       "    <tr>\n",
       "      <th>1</th>\n",
       "      <td>0</td>\n",
       "    </tr>\n",
       "    <tr>\n",
       "      <th>2</th>\n",
       "      <td>1</td>\n",
       "    </tr>\n",
       "    <tr>\n",
       "      <th>3</th>\n",
       "      <td>1</td>\n",
       "    </tr>\n",
       "    <tr>\n",
       "      <th>4</th>\n",
       "      <td>1</td>\n",
       "    </tr>\n",
       "    <tr>\n",
       "      <th>...</th>\n",
       "      <td>...</td>\n",
       "    </tr>\n",
       "    <tr>\n",
       "      <th>1508</th>\n",
       "      <td>0</td>\n",
       "    </tr>\n",
       "    <tr>\n",
       "      <th>1509</th>\n",
       "      <td>1</td>\n",
       "    </tr>\n",
       "    <tr>\n",
       "      <th>1510</th>\n",
       "      <td>1</td>\n",
       "    </tr>\n",
       "    <tr>\n",
       "      <th>1511</th>\n",
       "      <td>1</td>\n",
       "    </tr>\n",
       "    <tr>\n",
       "      <th>1512</th>\n",
       "      <td>1</td>\n",
       "    </tr>\n",
       "  </tbody>\n",
       "</table>\n",
       "<p>1513 rows × 1 columns</p>\n",
       "</div>"
      ],
      "text/plain": [
       "     investors_type\n",
       "0                 0\n",
       "1                 0\n",
       "2                 1\n",
       "3                 1\n",
       "4                 1\n",
       "...             ...\n",
       "1508              0\n",
       "1509              1\n",
       "1510              1\n",
       "1511              1\n",
       "1512              1\n",
       "\n",
       "[1513 rows x 1 columns]"
      ]
     },
     "execution_count": 9,
     "metadata": {},
     "output_type": "execute_result"
    }
   ],
   "source": [
    "fund_investors(tmp[[\"investors_type\"]])"
   ]
  },
  {
   "cell_type": "code",
   "execution_count": null,
   "metadata": {
    "ExecuteTime": {
     "end_time": "2020-12-09T20:27:18.673584Z",
     "start_time": "2020-12-09T20:27:18.645074Z"
    }
   },
   "outputs": [],
   "source": [
    "def investors_type(x) :\n",
    "    investors_list = []\n",
    "    investors = x\n",
    "    if investors['total'] > 0 :\n",
    "        for y in range(len(investors['items'])):\n",
    "                investors_list.append(investors['items'][y]['type'])\n",
    "    return investors_list"
   ]
  },
  {
   "cell_type": "code",
   "execution_count": null,
   "metadata": {
    "ExecuteTime": {
     "end_time": "2020-12-09T21:12:12.953420Z",
     "start_time": "2020-12-09T21:12:12.919075Z"
    }
   },
   "outputs": [],
   "source": [
    "res_investors_type = pd.DataFrame(tmp[\"investors\"].apply(lambda row: investors_type(row)))\n",
    "len(res_investors_type[\"investors\"][2])\n",
    "res_investors_type[\"investors\"][2]"
   ]
  },
  {
   "cell_type": "code",
   "execution_count": null,
   "metadata": {
    "ExecuteTime": {
     "end_time": "2020-12-09T21:21:00.999778Z",
     "start_time": "2020-12-09T21:21:00.965546Z"
    }
   },
   "outputs": [],
   "source": [
    "tmp[\"investors_type\"] = pd.DataFrame(tmp[\"investors\"].apply(lambda row: investors_type(row)))\n",
    "tmp.investors_type.unique"
   ]
  },
  {
   "cell_type": "code",
   "execution_count": null,
   "metadata": {
    "ExecuteTime": {
     "end_time": "2020-12-09T20:45:05.973444Z",
     "start_time": "2020-12-09T20:45:05.938926Z"
    }
   },
   "outputs": [],
   "source": [
    "def investors_yn(x) :\n",
    "    investors_list = []\n",
    "    investors = x\n",
    "    if investors['total'] > 0 :\n",
    "        investors_list.append(1)\n",
    "    else:\n",
    "        investors_list.append(0)\n",
    "    return investors_list"
   ]
  },
  {
   "cell_type": "markdown",
   "metadata": {},
   "source": [
    "NEW DATA"
   ]
  },
  {
   "cell_type": "code",
   "execution_count": null,
   "metadata": {
    "ExecuteTime": {
     "end_time": "2020-12-09T20:46:31.449953Z",
     "start_time": "2020-12-09T20:46:31.414285Z"
    }
   },
   "outputs": [],
   "source": [
    "res_investors_yn = tmp[\"investors\"].apply(lambda row: investors_yn(row))"
   ]
  },
  {
   "cell_type": "code",
   "execution_count": null,
   "metadata": {
    "ExecuteTime": {
     "end_time": "2020-12-09T20:50:04.329862Z",
     "start_time": "2020-12-09T20:50:04.281983Z"
    }
   },
   "outputs": [],
   "source": [
    "def count_un(x):\n",
    "    res = []\n",
    "    for element in x:\n",
    "        if element == [0]:\n",
    "            res.append(0)\n",
    "        else:\n",
    "            res.append(1)\n",
    "    return res\n",
    "\n",
    "count_un(res_investors_yn)"
   ]
  },
  {
   "cell_type": "code",
   "execution_count": null,
   "metadata": {
    "ExecuteTime": {
     "end_time": "2020-12-09T20:51:29.810744Z",
     "start_time": "2020-12-09T20:51:29.717372Z"
    }
   },
   "outputs": [],
   "source": [
    "yn_df = pd.DataFrame(count_un(res_investors_yn), columns = [\"investor_type\"])"
   ]
  },
  {
   "cell_type": "code",
   "execution_count": null,
   "metadata": {
    "ExecuteTime": {
     "end_time": "2020-12-09T20:51:50.048211Z",
     "start_time": "2020-12-09T20:51:50.009742Z"
    }
   },
   "outputs": [],
   "source": [
    "yn_df.value_counts()"
   ]
  },
  {
   "cell_type": "markdown",
   "metadata": {},
   "source": [
    "OLD DATA"
   ]
  },
  {
   "cell_type": "code",
   "execution_count": null,
   "metadata": {
    "ExecuteTime": {
     "end_time": "2020-12-09T20:52:50.898094Z",
     "start_time": "2020-12-09T20:52:50.570736Z"
    }
   },
   "outputs": [],
   "source": [
    "old = pd.read_csv(\"../bpideep/rawdata/data.csv\")"
   ]
  },
  {
   "cell_type": "code",
   "execution_count": null,
   "metadata": {
    "ExecuteTime": {
     "end_time": "2020-12-09T20:55:25.649661Z",
     "start_time": "2020-12-09T20:55:25.092643Z"
    }
   },
   "outputs": [],
   "source": [
    "old[\"investors\"] = old[\"investors\"].apply(load_json_field)\n",
    "res_investors_t = pd.DataFrame(old[\"investors\"].apply(lambda row: investors_type(row)))"
   ]
  },
  {
   "cell_type": "code",
   "execution_count": null,
   "metadata": {
    "ExecuteTime": {
     "end_time": "2020-12-09T20:55:32.697104Z",
     "start_time": "2020-12-09T20:55:32.668100Z"
    }
   },
   "outputs": [],
   "source": [
    "res_investors_yn2 = old[\"investors\"].apply(lambda row: investors_yn(row))"
   ]
  },
  {
   "cell_type": "code",
   "execution_count": null,
   "metadata": {
    "ExecuteTime": {
     "end_time": "2020-12-09T20:56:18.249294Z",
     "start_time": "2020-12-09T20:56:18.214879Z"
    }
   },
   "outputs": [],
   "source": [
    "\n",
    "yn_df2 = pd.DataFrame(count_un(res_investors_yn2), columns = [\"investor_type\"])\n",
    "yn_df2.value_counts()"
   ]
  },
  {
   "cell_type": "code",
   "execution_count": null,
   "metadata": {
    "ExecuteTime": {
     "end_time": "2020-12-09T20:42:53.048898Z",
     "start_time": "2020-12-09T20:42:52.532190Z"
    }
   },
   "outputs": [],
   "source": [
    "out = pd.read_excel(\"../bpideep/data/output.xlsx\").drop(columns = \"Unnamed: 0\")"
   ]
  },
  {
   "cell_type": "code",
   "execution_count": null,
   "metadata": {
    "ExecuteTime": {
     "end_time": "2020-12-09T20:43:25.199128Z",
     "start_time": "2020-12-09T20:43:25.168742Z"
    }
   },
   "outputs": [],
   "source": [
    "out[\"fund_investors_type\"].value_counts()"
   ]
  },
  {
   "cell_type": "markdown",
   "metadata": {
    "heading_collapsed": true
   },
   "source": [
    "## TEST cleaning"
   ]
  },
  {
   "cell_type": "code",
   "execution_count": null,
   "metadata": {
    "ExecuteTime": {
     "end_time": "2020-12-09T13:19:38.825848Z",
     "start_time": "2020-12-09T13:19:38.615577Z"
    },
    "hidden": true
   },
   "outputs": [],
   "source": [
    "\n",
    "tmp = pd.read_csv(\"../bpideep/rawdata/data2020-12-03.csv\")\n",
    "tmp.drop(tmp[(tmp.id == 1787891) | (tmp.id == 1893232)].index, inplace = True)\n",
    "\n",
    "tmp[tmp.growth_stage.isna()].shape\n"
   ]
  },
  {
   "cell_type": "code",
   "execution_count": null,
   "metadata": {
    "ExecuteTime": {
     "end_time": "2020-12-09T08:43:19.223778Z",
     "start_time": "2020-12-09T08:43:19.110254Z"
    },
    "hidden": true
   },
   "outputs": [],
   "source": [
    "impute_missing_launch_year(tmp)"
   ]
  },
  {
   "cell_type": "code",
   "execution_count": null,
   "metadata": {
    "ExecuteTime": {
     "end_time": "2020-12-09T08:43:21.550976Z",
     "start_time": "2020-12-09T08:43:21.484381Z"
    },
    "hidden": true
   },
   "outputs": [],
   "source": [
    "tmp['growth_stage_imputed'] = tmp.apply(lambda row: fill_missing_growth(dico,\n",
    "                row['growth_stage'], \n",
    "                row['launch_year_clean']), \n",
    "            axis=1\n",
    "        )\n",
    "        \n"
   ]
  },
  {
   "cell_type": "markdown",
   "metadata": {
    "ExecuteTime": {
     "end_time": "2020-12-09T08:09:46.219086Z",
     "start_time": "2020-12-09T08:09:46.172169Z"
    },
    "hidden": true
   },
   "source": [
    "tmp[(tmp.growth_stage_imputed.isna())].to_csv(\"missing_launchyear_growthstage.csv\")"
   ]
  },
  {
   "cell_type": "code",
   "execution_count": null,
   "metadata": {
    "ExecuteTime": {
     "end_time": "2020-12-09T08:43:24.290205Z",
     "start_time": "2020-12-09T08:43:24.257118Z"
    },
    "hidden": true
   },
   "outputs": [],
   "source": [
    "missing_list = list(tmp[(tmp.growth_stage_imputed.isna())][\"name\"])"
   ]
  },
  {
   "cell_type": "code",
   "execution_count": null,
   "metadata": {
    "ExecuteTime": {
     "end_time": "2020-12-09T08:43:25.379392Z",
     "start_time": "2020-12-09T08:43:25.347124Z"
    },
    "hidden": true
   },
   "outputs": [],
   "source": [
    "missing_list"
   ]
  },
  {
   "cell_type": "code",
   "execution_count": null,
   "metadata": {
    "ExecuteTime": {
     "end_time": "2020-12-09T08:43:26.686868Z",
     "start_time": "2020-12-09T08:43:26.658246Z"
    },
    "hidden": true
   },
   "outputs": [],
   "source": [
    "missing_years = [2012, 2017, 2012, 2015, 2017, 2016, 2016, 2018, 2011, 2016, 2018, 2015, 2015, 2014, 2014, 2013]"
   ]
  },
  {
   "cell_type": "code",
   "execution_count": null,
   "metadata": {
    "ExecuteTime": {
     "end_time": "2020-12-09T08:43:29.700942Z",
     "start_time": "2020-12-09T08:43:29.642461Z"
    },
    "hidden": true
   },
   "outputs": [],
   "source": [
    "tmp[(tmp.growth_stage_imputed.isna())]"
   ]
  },
  {
   "cell_type": "code",
   "execution_count": null,
   "metadata": {
    "ExecuteTime": {
     "end_time": "2020-12-09T08:43:40.379571Z",
     "start_time": "2020-12-09T08:43:40.349024Z"
    },
    "hidden": true
   },
   "outputs": [],
   "source": [
    "tmp['growth_stage_imputed']"
   ]
  },
  {
   "cell_type": "markdown",
   "metadata": {},
   "source": [
    "## GET_DATA"
   ]
  },
  {
   "cell_type": "code",
   "execution_count": 25,
   "metadata": {
    "ExecuteTime": {
     "end_time": "2020-12-09T22:45:28.676335Z",
     "start_time": "2020-12-09T22:45:28.666276Z"
    }
   },
   "outputs": [],
   "source": [
    "class GetData():\n",
    "\n",
    "    def get_data():\n",
    "        data = pd.read_csv(\"../bpideep/rawdata/data2020-12-03.csv\")\n",
    "\n",
    "        \n",
    "        #selection of need columns\n",
    "        data = data[[\"id\", \"name\", \"target\", \"deep_or_not\", \"total_funding_source\", \"employees\",\n",
    "                     \"employees_latest\", \"launch_year\", \"growth_stage\", \"linkedin_url\", \"industries\", \"investors\"]]\n",
    "\n",
    "#         data[\"industries\"] = data[\"industries\"].apply(load_json_field)\n",
    "        data[\"investors\"] = data[\"investors\"].apply(load_json_field)\n",
    "        data[\"investors_type\"] = pd.DataFrame(data[\"investors\"].apply(lambda row: investors_type(row)))\n",
    "        data[\"investors_type\"] = fund_investors(tmp[[\"investors_type\"]])\n",
    "        \n",
    "        #Health industry detection \n",
    "        data[\"health_industry\"] = pd.DataFrame(get_health(data[\"industries\"]))\n",
    "    \n",
    "        #imputing the missing launch year (only 33 done manually -> to be automatized if a new source displays it)\n",
    "        #LAUNCH_YEAR_CLEAN\n",
    "        impute_missing_launch_year(data)\n",
    "        \n",
    "        \n",
    "        \n",
    "        # drop 2 duplicated companies Lalilo and Pixyl*\n",
    "        data.drop(data[(data.id == 1787891) | (data.id == 1893232)].index, inplace = True)\n",
    "        \n",
    "        # change the \"not meaningful\" growth stage status of 15789 Insoft to mature\n",
    "        data.loc[data.id == 15789, \"growth_stage\"] = \"mature\"\n",
    "        \n",
    "        \n",
    "        #imputing missing growth_stage (mode of the launch year)\n",
    "        #GROWTH_STAGE_IMPUTED\n",
    "        growth_table = get_growth_dict(data)\n",
    "        \n",
    "#         import ipdb ; ipdb.set_trace()\n",
    "        data['growth_stage_imputed'] = data.apply(lambda row: fill_missing_growth(\n",
    "                growth_table,\n",
    "                row['growth_stage'], \n",
    "                row['launch_year_clean']), \n",
    "            axis=1\n",
    "        )\n",
    "        \n",
    "        \n",
    "        \n",
    "        #imputing missing employees values from LinkedIn scraping\n",
    "        #EMPLOYEES_CLEAN\n",
    "        missing = pd.read_csv(\"../bpideep/data/missing_employee_count.csv\")\n",
    "        data[\"employees_clean\"] = data.employees_latest\n",
    "        data.loc[data.name == \"CCI Paris Ile de France\", \"employees_clean\"] = 1793\n",
    "\n",
    "        for url in missing.linkedin_url:\n",
    "            replace_value = missing[missing.linkedin_url == url][\"check\"].iloc[0]\n",
    "            data.loc[data.linkedin_url == url, \"employees_clean\"] = replace_value\n",
    "        \n",
    "        #computing the age of companies\n",
    "        data[\"age\"] = 2020 - data.launch_year_clean\n",
    "        \n",
    "        \n",
    "        # get the number of patents\n",
    "        patent = pd.read_csv(\"../bpideep/data/patents.csv\")\n",
    "        data = pd.merge(data, patent, on= [\"id\", \"id\"], how = \"left\")\n",
    "        \n",
    "        return data\n",
    "\n",
    "#         *    \n",
    "#                 + 3 duplicated names but with different id : \n",
    "#                     1/ Lalilo : 926521 (http://www.lalilo.com/) vs. 1787891 (http://lalilo.fr) \n",
    "#             -> same launch date, french website no longer exists + observation  almost filled by NAN + same obs as the .com \n",
    "#             -> drop the french Lalilo (1787891)\n",
    "#                     2/ Pixyl : 892048 vs 1893232 (different websites mentioned but same website page when launched) \n",
    "#             -> kept  892048 because more info + the Dealroom profile was verified by Dealroom team on Sept, 1st 2020 vs. pending verification\n",
    "#                     3/ NANOZ : 1836121 vs 1660543 -> kept both as different companies but the second one is German "
   ]
  },
  {
   "cell_type": "code",
   "execution_count": 14,
   "metadata": {
    "ExecuteTime": {
     "end_time": "2020-12-09T22:39:09.388609Z",
     "start_time": "2020-12-09T22:39:08.630537Z"
    }
   },
   "outputs": [
    {
     "name": "stderr",
     "output_type": "stream",
     "text": [
      "<ipython-input-13-e22b808fede3>:14: SettingWithCopyWarning: \n",
      "A value is trying to be set on a copy of a slice from a DataFrame\n",
      "\n",
      "See the caveats in the documentation: https://pandas.pydata.org/pandas-docs/stable/user_guide/indexing.html#returning-a-view-versus-a-copy\n",
      "  data[\"investors_type\"] = fund_investors(tmp[[\"investors_type\"]])\n",
      "<ipython-input-14-7faf0755a962>:4: SettingWithCopyWarning: \n",
      "A value is trying to be set on a copy of a slice from a DataFrame\n",
      "\n",
      "See the caveats in the documentation: https://pandas.pydata.org/pandas-docs/stable/user_guide/indexing.html#returning-a-view-versus-a-copy\n",
      "  y[y ==0.5] = 0\n"
     ]
    }
   ],
   "source": [
    "data = GetData.get_data()\n",
    "X = data.drop(columns = [\"target\", \"deep_or_not\"])\n",
    "y = data.target\n",
    "y[y ==0.5] = 0"
   ]
  },
  {
   "cell_type": "markdown",
   "metadata": {
    "heading_collapsed": true
   },
   "source": [
    "## TEST"
   ]
  },
  {
   "cell_type": "code",
   "execution_count": null,
   "metadata": {
    "ExecuteTime": {
     "end_time": "2020-12-08T18:09:16.269102Z",
     "start_time": "2020-12-08T18:09:15.990652Z"
    },
    "hidden": true
   },
   "outputs": [],
   "source": [
    "data = GetData.get_data()"
   ]
  },
  {
   "cell_type": "code",
   "execution_count": null,
   "metadata": {
    "ExecuteTime": {
     "end_time": "2020-12-08T18:09:16.396444Z",
     "start_time": "2020-12-08T18:09:16.390994Z"
    },
    "hidden": true
   },
   "outputs": [],
   "source": [
    "data.shape"
   ]
  },
  {
   "cell_type": "code",
   "execution_count": null,
   "metadata": {
    "ExecuteTime": {
     "end_time": "2020-12-08T18:58:49.380948Z",
     "start_time": "2020-12-08T18:58:49.359874Z"
    },
    "hidden": true
   },
   "outputs": [],
   "source": [
    "data.columns"
   ]
  },
  {
   "cell_type": "code",
   "execution_count": null,
   "metadata": {
    "ExecuteTime": {
     "end_time": "2020-12-08T18:09:16.608173Z",
     "start_time": "2020-12-08T18:09:16.597872Z"
    },
    "hidden": true
   },
   "outputs": [],
   "source": [
    "data[(data.employees.notna()) & (data.employees_clean.isna())].shape"
   ]
  },
  {
   "cell_type": "markdown",
   "metadata": {
    "hidden": true
   },
   "source": [
    "présence de math.nan ?"
   ]
  },
  {
   "cell_type": "code",
   "execution_count": null,
   "metadata": {
    "ExecuteTime": {
     "end_time": "2020-12-08T18:09:17.468030Z",
     "start_time": "2020-12-08T18:09:17.431165Z"
    },
    "hidden": true
   },
   "outputs": [],
   "source": [
    "data[(data.employees.isna()) & (data.employees_clean.isna())]"
   ]
  },
  {
   "cell_type": "code",
   "execution_count": null,
   "metadata": {
    "ExecuteTime": {
     "end_time": "2020-12-08T18:09:18.006878Z",
     "start_time": "2020-12-08T18:09:17.989069Z"
    },
    "hidden": true
   },
   "outputs": [],
   "source": [
    "res = replace_employees(data)"
   ]
  },
  {
   "cell_type": "code",
   "execution_count": null,
   "metadata": {
    "ExecuteTime": {
     "end_time": "2020-12-08T18:09:18.695489Z",
     "start_time": "2020-12-08T18:09:18.678151Z"
    },
    "hidden": true,
    "scrolled": false
   },
   "outputs": [],
   "source": [
    "res[res.employees_imputed.isna()][[\"name\", \"employees_latest\", \"employees\", \"employees_clean\", \"employees_imputed\", \"launch_year_clean\"]].groupby(by = \"launch_year_clean\").count()"
   ]
  },
  {
   "cell_type": "code",
   "execution_count": null,
   "metadata": {
    "ExecuteTime": {
     "end_time": "2020-12-08T18:09:19.494865Z",
     "start_time": "2020-12-08T18:09:19.478962Z"
    },
    "hidden": true
   },
   "outputs": [],
   "source": [
    "res[(res.employees_imputed.isna()) & (res.launch_year_clean < 2010)][[\"name\", \"employees_latest\", \"employees\", \"employees_clean\", \"employees_imputed\", \"launch_year_clean\"]].groupby(by = \"launch_year_clean\").count()"
   ]
  },
  {
   "cell_type": "code",
   "execution_count": null,
   "metadata": {
    "ExecuteTime": {
     "end_time": "2020-12-08T18:09:20.371593Z",
     "start_time": "2020-12-08T18:09:20.342568Z"
    },
    "hidden": true
   },
   "outputs": [],
   "source": [
    "yg_median = res[[\"employees_imputed\", \"launch_year_clean\"]].groupby(by=[\"launch_year_clean\"]).median()\n",
    "years = data.launch_year_clean.unique()\n",
    "years = [nb for nb in years if nb >= 2010]\n",
    "\n",
    "print(yg_median)\n",
    "\n",
    "\n",
    "for year in years:\n",
    "    replace_value = yg_median.loc[(year)][0]\n",
    "    boolean_condition = ((res.launch_year_clean == year) & (res.employees_imputed.isna()))\n",
    "    res.loc[boolean_condition, \"employees_imputed\"] = replace_value\n"
   ]
  },
  {
   "cell_type": "code",
   "execution_count": null,
   "metadata": {
    "ExecuteTime": {
     "end_time": "2020-12-08T18:09:33.297797Z",
     "start_time": "2020-12-08T18:09:33.280596Z"
    },
    "hidden": true,
    "scrolled": true
   },
   "outputs": [],
   "source": [
    "res[res.employees_imputed.isna()][[\"name\", \"employees_latest\", \"employees\", \"employees_clean\", \"employees_imputed\", \"launch_year_clean\"]].groupby(by = \"launch_year_clean\").count()"
   ]
  },
  {
   "cell_type": "code",
   "execution_count": null,
   "metadata": {
    "ExecuteTime": {
     "end_time": "2020-12-08T18:11:34.782947Z",
     "start_time": "2020-12-08T18:11:34.772323Z"
    },
    "hidden": true
   },
   "outputs": [],
   "source": [
    "#median_bef_2010 \n",
    "res[res.launch_year_clean < 2010][[\"employees_imputed\"]].median()"
   ]
  },
  {
   "cell_type": "code",
   "execution_count": null,
   "metadata": {
    "ExecuteTime": {
     "end_time": "2020-12-08T18:12:05.390451Z",
     "start_time": "2020-12-08T18:12:05.380200Z"
    },
    "hidden": true
   },
   "outputs": [],
   "source": [
    "res[res.launch_year_clean.notna()][[\"employees_imputed\"]].median()"
   ]
  },
  {
   "cell_type": "markdown",
   "metadata": {},
   "source": [
    "# PIPELINE"
   ]
  },
  {
   "cell_type": "markdown",
   "metadata": {},
   "source": [
    "##### employees imputing  : age"
   ]
  },
  {
   "cell_type": "code",
   "execution_count": 26,
   "metadata": {
    "ExecuteTime": {
     "end_time": "2020-12-09T22:45:32.519939Z",
     "start_time": "2020-12-09T22:45:32.505803Z"
    }
   },
   "outputs": [],
   "source": [
    "import re\n",
    "import math\n",
    "from sklearn.base import BaseEstimator, TransformerMixin\n",
    "\n",
    "\n",
    "def average_list(range_list):\n",
    "    return sum(range_list)/len(range_list)\n",
    "\n",
    "def compute_employees_mean(data):\n",
    "    range_list = list(data.employees.unique())\n",
    "    try:\n",
    "        range_list.remove(\"n.a.\")\n",
    "    except:\n",
    "        pass\n",
    "    keys_list = []\n",
    "    means_list = []\n",
    "\n",
    "    for i in range(len(range_list)) :\n",
    "        if type(range_list[i]) == str :\n",
    "            temp = re.findall(r'\\d+', range_list[i]) \n",
    "            res = list(map(int, temp)) \n",
    "            mean = average_list(res)\n",
    "            means_list.append(mean)\n",
    "            keys_list.append(range_list[i])\n",
    "        else:\n",
    "            pass\n",
    "\n",
    "    zip_iterator = zip(keys_list, means_list)\n",
    "    range_dict = dict(zip_iterator)\n",
    "    \n",
    "    return range_dict\n",
    "\n",
    "def replace_employees(df):\n",
    "\n",
    "    dictionary = compute_employees_mean(df)\n",
    "    for key, value in dictionary.items():\n",
    "        df.loc[(df.employees == key) & (df.employees_latest.isna()), \"employees_clean\"] = value\n",
    "    return df\n",
    "            \n",
    "            \n",
    "class EmployeeImputer(BaseEstimator, TransformerMixin):\n",
    "    \n",
    "    def fit(self, X, y=None):\n",
    "        \n",
    "        # impute according to the range mean\n",
    "        data = X.copy()\n",
    "        data = replace_employees(data)\n",
    "\n",
    "        \n",
    "        \n",
    "        self.yg_median = data[[\"employees_clean\", \"launch_year_clean\"]].groupby(by=[\"launch_year_clean\"]).median()\n",
    "        self.years = data.launch_year_clean.unique()\n",
    "        self.years = [nb for nb in self.years if nb >= 2010]\n",
    "\n",
    "        return self\n",
    "    \n",
    "    def transform(self, X, y=None):\n",
    "        X = replace_employees(X)\n",
    "        \n",
    "        # impute according to the median of the companies launched after 2010\n",
    "        for year in self.years:\n",
    "            replace_value = self.yg_median.loc[(year)][0]\n",
    "            boolean_condition = ((X.launch_year_clean == year) & (X.employees_clean.isna()))\n",
    "            X.loc[boolean_condition, \"employees_clean\"] = replace_value\n",
    "        \n",
    "        \n",
    "        median_all_dataset = X[X.launch_year_clean.notna()][[\"employees_clean\"]].median()\n",
    "        X.loc[X.employees_clean.isna(), \"employees_clean\"] = replace_value\n",
    "\n",
    "        return X\n",
    "    \n",
    "    \n",
    "\n"
   ]
  },
  {
   "cell_type": "markdown",
   "metadata": {
    "ExecuteTime": {
     "end_time": "2020-12-09T09:28:59.862488Z",
     "start_time": "2020-12-09T09:28:59.859593Z"
    }
   },
   "source": [
    "##### TEST"
   ]
  },
  {
   "cell_type": "code",
   "execution_count": null,
   "metadata": {
    "ExecuteTime": {
     "end_time": "2020-12-09T19:11:14.150333Z",
     "start_time": "2020-12-09T19:11:14.111759Z"
    },
    "scrolled": true
   },
   "outputs": [],
   "source": [
    "e = EmployeeImputer()"
   ]
  },
  {
   "cell_type": "markdown",
   "metadata": {},
   "source": [
    "##### Patent_transformer"
   ]
  },
  {
   "cell_type": "code",
   "execution_count": 27,
   "metadata": {
    "ExecuteTime": {
     "end_time": "2020-12-09T22:45:35.176424Z",
     "start_time": "2020-12-09T22:45:35.161751Z"
    }
   },
   "outputs": [],
   "source": [
    "from sklearn.pipeline import make_pipeline\n",
    "\n",
    "patent_transformer = make_pipeline(\n",
    "                                SimpleImputer(missing_values=np.nan, strategy='constant', fill_value = 0),\n",
    "                                RobustScaler())\n",
    "    \n",
    "### ROBUSTSCALER or log(1+x) ??"
   ]
  },
  {
   "cell_type": "markdown",
   "metadata": {},
   "source": [
    "##### Ratio_transformer  : funding / employees ratio"
   ]
  },
  {
   "cell_type": "code",
   "execution_count": 28,
   "metadata": {
    "ExecuteTime": {
     "end_time": "2020-12-09T22:45:36.044736Z",
     "start_time": "2020-12-09T22:45:36.039888Z"
    }
   },
   "outputs": [],
   "source": [
    "from sklearn.pipeline import FeatureUnion\n",
    "from sklearn.preprocessing import FunctionTransformer\n",
    "\n",
    "funding_employees_ratio_constructor = FunctionTransformer(\n",
    "    lambda df: pd.DataFrame(df[\"total_funding_source\"] / df[\"employees_clean\"]))\n"
   ]
  },
  {
   "cell_type": "code",
   "execution_count": 29,
   "metadata": {
    "ExecuteTime": {
     "end_time": "2020-12-09T22:45:36.878452Z",
     "start_time": "2020-12-09T22:45:36.874229Z"
    }
   },
   "outputs": [],
   "source": [
    "from sklearn.pipeline import Pipeline\n",
    "\n",
    "ratio_transformer = Pipeline([\n",
    "    (\"imputer1\", EmployeeImputer()),\n",
    "    (\"ratio\", funding_employees_ratio_constructor),\n",
    "    (\"scaler\",  RobustScaler())\n",
    "])"
   ]
  },
  {
   "cell_type": "markdown",
   "metadata": {},
   "source": [
    "##### Growth_transformer"
   ]
  },
  {
   "cell_type": "markdown",
   "metadata": {},
   "source": [
    "###### Age imputer"
   ]
  },
  {
   "cell_type": "code",
   "execution_count": 30,
   "metadata": {
    "ExecuteTime": {
     "end_time": "2020-12-09T22:45:39.675793Z",
     "start_time": "2020-12-09T22:45:39.672229Z"
    }
   },
   "outputs": [],
   "source": [
    "age_imputer = make_pipeline(SimpleImputer(missing_values=np.nan, strategy='mean'))"
   ]
  },
  {
   "cell_type": "markdown",
   "metadata": {},
   "source": [
    "###### Growth stage Transformer (1-4)"
   ]
  },
  {
   "cell_type": "code",
   "execution_count": 31,
   "metadata": {
    "ExecuteTime": {
     "end_time": "2020-12-09T22:45:40.499756Z",
     "start_time": "2020-12-09T22:45:40.495923Z"
    }
   },
   "outputs": [],
   "source": [
    "dictionary = {'mature' : 4, 'late growth' : 3,'early growth' : 2, 'seed' : 1}\n",
    "\n",
    "\n",
    "growth_stage_transformer = FunctionTransformer(\n",
    "    lambda df: df[['growth_stage_imputed']].applymap(lambda x: dictionary[x]))\n"
   ]
  },
  {
   "cell_type": "code",
   "execution_count": 32,
   "metadata": {
    "ExecuteTime": {
     "end_time": "2020-12-09T22:45:41.395615Z",
     "start_time": "2020-12-09T22:45:41.378027Z"
    }
   },
   "outputs": [],
   "source": [
    "from sklearn.compose import ColumnTransformer\n",
    "\n",
    "growth_stage_age_preparator = ColumnTransformer([\n",
    "    [\"age_imputer\", age_imputer, [\"age\"]],\n",
    "    [\"growth_stage_transformer\", growth_stage_transformer, [\"growth_stage_imputed\"]],\n",
    "])"
   ]
  },
  {
   "cell_type": "markdown",
   "metadata": {},
   "source": [
    "###### Growth_stage_age_ratio"
   ]
  },
  {
   "cell_type": "code",
   "execution_count": 33,
   "metadata": {
    "ExecuteTime": {
     "end_time": "2020-12-09T22:45:42.423712Z",
     "start_time": "2020-12-09T22:45:42.419670Z"
    }
   },
   "outputs": [],
   "source": [
    "def compute_growth_age_ratio(arr):\n",
    "#     import ipdb ; ipdb.set_trace()\n",
    "    arr[arr[:,0]== 0, 0] = 1\n",
    "    return np.expand_dims(arr[:,1]/arr[:,0], -1)\n",
    "\n",
    "growth_stage_age_ratio_constructor = FunctionTransformer(compute_growth_age_ratio)\n"
   ]
  },
  {
   "cell_type": "code",
   "execution_count": 34,
   "metadata": {
    "ExecuteTime": {
     "end_time": "2020-12-09T22:45:43.779531Z",
     "start_time": "2020-12-09T22:45:43.776163Z"
    }
   },
   "outputs": [],
   "source": [
    "growth_transformer = Pipeline([\n",
    "    [\"growth_stage_age_preparator\", growth_stage_age_preparator], \n",
    "    [\"growth_stage_age_ratio_constructor\", growth_stage_age_ratio_constructor],\n",
    "])"
   ]
  },
  {
   "cell_type": "markdown",
   "metadata": {},
   "source": [
    "##### Health industry "
   ]
  },
  {
   "cell_type": "code",
   "execution_count": 43,
   "metadata": {
    "ExecuteTime": {
     "end_time": "2020-12-09T22:50:05.904348Z",
     "start_time": "2020-12-09T22:50:05.897492Z"
    }
   },
   "outputs": [],
   "source": [
    "class NoTransformer(BaseEstimator, TransformerMixin):\n",
    "    def fit(self, X, y=None):\n",
    "        return self\n",
    "\n",
    "    def transform(self, X):\n",
    "        return X\n",
    "\n",
    "NoTransformer = ColumnTransformer([\n",
    "    [\"health_transformer\", NoTransformer(), [\"health_industry\"]],\n",
    "    [\"fund_investor_transformer\", NoTransformer(), [\"investors_type\"]]\n",
    "])"
   ]
  },
  {
   "cell_type": "markdown",
   "metadata": {
    "ExecuteTime": {
     "end_time": "2020-12-09T17:25:16.381952Z",
     "start_time": "2020-12-09T17:25:16.305644Z"
    }
   },
   "source": [
    "##### Fund in investors type"
   ]
  },
  {
   "cell_type": "code",
   "execution_count": 44,
   "metadata": {
    "ExecuteTime": {
     "end_time": "2020-12-09T22:50:17.198606Z",
     "start_time": "2020-12-09T22:50:17.191496Z"
    }
   },
   "outputs": [],
   "source": [
    "\n",
    "# or \"crowdfunding\" in X[row] or \"corporate\" in X[row] or 'government_nonprofit' in X[row]\n",
    "\n",
    "# def fund_in_investor(arr):\n",
    "# #     import ipdb ; ipdb.set_trace()\n",
    "#     arr[\"fund\" in arr[:,0], 0] = 1\n",
    "#     arr[\"investors\" in arr[:,0], 0] = 1\n",
    "#     arr[arr[:,0] != 1, 0] = 0\n",
    "#     return arr\n",
    "\n",
    "\n",
    "\n",
    "# def fund_in_investor(arr):\n",
    "#     arr[\"fund\" in arr[:,0], 0] = 1\n",
    "#     return arr\n",
    "\n",
    "\n",
    "# NoTransformer2 = ColumnTransformer([\n",
    "#     [\"fund_investor_transformer\"], NoTransformer(), [\"investors_type\"]]\n",
    "# ])\n",
    "\n",
    "# fund_in_type_constructor = FunctionTransformer(\n",
    "#     lambda df: df[[\"investors_type\"]].apply(fund_in_investor)\n",
    "#     )"
   ]
  },
  {
   "cell_type": "markdown",
   "metadata": {
    "ExecuteTime": {
     "end_time": "2020-12-09T22:06:46.534152Z",
     "start_time": "2020-12-09T22:06:46.483933Z"
    }
   },
   "source": [
    "old[\"investors_type\"] = pd.DataFrame(old[\"investors\"].apply(lambda row: investors_type(row)))\n",
    "\n",
    "# fund_in_type_constructor.fit_transform(old[[\"investors_type\"]]).value_counts()\n",
    "\n",
    "\n",
    "#output : \n",
    "#1    971\n",
    "#0    543\n",
    "fund_in_type_constructor.fit_transform(old[\"investors_type\"])"
   ]
  },
  {
   "cell_type": "markdown",
   "metadata": {},
   "source": [
    "##### Preprocessor"
   ]
  },
  {
   "cell_type": "code",
   "execution_count": 45,
   "metadata": {
    "ExecuteTime": {
     "end_time": "2020-12-09T22:50:27.817669Z",
     "start_time": "2020-12-09T22:50:27.811989Z"
    }
   },
   "outputs": [],
   "source": [
    "from sklearn import set_config; set_config(display='diagram')\n",
    "from sklearn.compose import ColumnTransformer\n",
    "\n",
    "preprocessor = ColumnTransformer([\n",
    "    (\"growth_transformer\", growth_transformer, [\"growth_stage_imputed\", \"age\"]),\n",
    "    (\"ratio_transformer\", ratio_transformer, [\"employees_clean\", \"employees\", \"launch_year_clean\", \"employees_latest\", \"total_funding_source\"]),\n",
    "    (\"patent_transformer\", patent_transformer, [\"nb_patents\"]),\n",
    "    (\"identity\", NoTransformer, [\"health_industry\", \"investors_type\"]),\n",
    "    ])"
   ]
  },
  {
   "cell_type": "markdown",
   "metadata": {
    "ExecuteTime": {
     "end_time": "2020-12-09T14:53:55.780855Z",
     "start_time": "2020-12-09T14:53:55.752962Z"
    }
   },
   "source": [
    "##### Pipeline"
   ]
  },
  {
   "cell_type": "code",
   "execution_count": 46,
   "metadata": {
    "ExecuteTime": {
     "end_time": "2020-12-09T22:50:40.645703Z",
     "start_time": "2020-12-09T22:50:37.936299Z"
    }
   },
   "outputs": [
    {
     "data": {
      "text/html": [
       "<style>div.sk-top-container {color: black;background-color: white;}div.sk-toggleable {background-color: white;}label.sk-toggleable__label {cursor: pointer;display: block;width: 100%;margin-bottom: 0;padding: 0.2em 0.3em;box-sizing: border-box;text-align: center;}div.sk-toggleable__content {max-height: 0;max-width: 0;overflow: hidden;text-align: left;background-color: #f0f8ff;}div.sk-toggleable__content pre {margin: 0.2em;color: black;border-radius: 0.25em;background-color: #f0f8ff;}input.sk-toggleable__control:checked~div.sk-toggleable__content {max-height: 200px;max-width: 100%;overflow: auto;}div.sk-estimator input.sk-toggleable__control:checked~label.sk-toggleable__label {background-color: #d4ebff;}div.sk-label input.sk-toggleable__control:checked~label.sk-toggleable__label {background-color: #d4ebff;}input.sk-hidden--visually {border: 0;clip: rect(1px 1px 1px 1px);clip: rect(1px, 1px, 1px, 1px);height: 1px;margin: -1px;overflow: hidden;padding: 0;position: absolute;width: 1px;}div.sk-estimator {font-family: monospace;background-color: #f0f8ff;margin: 0.25em 0.25em;border: 1px dotted black;border-radius: 0.25em;box-sizing: border-box;}div.sk-estimator:hover {background-color: #d4ebff;}div.sk-parallel-item::after {content: \"\";width: 100%;border-bottom: 1px solid gray;flex-grow: 1;}div.sk-label:hover label.sk-toggleable__label {background-color: #d4ebff;}div.sk-serial::before {content: \"\";position: absolute;border-left: 1px solid gray;box-sizing: border-box;top: 2em;bottom: 0;left: 50%;}div.sk-serial {display: flex;flex-direction: column;align-items: center;background-color: white;}div.sk-item {z-index: 1;}div.sk-parallel {display: flex;align-items: stretch;justify-content: center;background-color: white;}div.sk-parallel-item {display: flex;flex-direction: column;position: relative;background-color: white;}div.sk-parallel-item:first-child::after {align-self: flex-end;width: 50%;}div.sk-parallel-item:last-child::after {align-self: flex-start;width: 50%;}div.sk-parallel-item:only-child::after {width: 0;}div.sk-dashed-wrapped {border: 1px dashed gray;margin: 0.2em;box-sizing: border-box;padding-bottom: 0.1em;background-color: white;position: relative;}div.sk-label label {font-family: monospace;font-weight: bold;background-color: white;display: inline-block;line-height: 1.2em;}div.sk-label-container {position: relative;z-index: 2;text-align: center;}div.sk-container {display: inline-block;position: relative;}</style><div class=\"sk-top-container\"><div class=\"sk-container\"><div class=\"sk-item sk-dashed-wrapped\"><div class=\"sk-label-container\"><div class=\"sk-label sk-toggleable\"><input class=\"sk-toggleable__control sk-hidden--visually\" id=\"1903a5bb-be09-49e7-a145-bd08670e428f\" type=\"checkbox\" ><label class=\"sk-toggleable__label\" for=\"1903a5bb-be09-49e7-a145-bd08670e428f\">Pipeline</label><div class=\"sk-toggleable__content\"><pre>Pipeline(steps=[('features',\n",
       "                 ColumnTransformer(transformers=[('growth_transformer',\n",
       "                                                  Pipeline(steps=[['growth_stage_age_preparator',\n",
       "                                                                   ColumnTransformer(transformers=[['age_imputer',\n",
       "                                                                                                    Pipeline(steps=[('simpleimputer',\n",
       "                                                                                                                     SimpleImputer())]),\n",
       "                                                                                                    ['age']],\n",
       "                                                                                                   ['growth_stage_transformer',\n",
       "                                                                                                    FunctionTransformer(func=<function <lambda> at 0x117d53550>),\n",
       "                                                                                                    ['growth_stage_imputed']]])...\n",
       "                                                                                 strategy='constant')),\n",
       "                                                                  ('robustscaler',\n",
       "                                                                   RobustScaler())]),\n",
       "                                                  ['nb_patents']),\n",
       "                                                 ('identity',\n",
       "                                                  ColumnTransformer(transformers=[['health_transformer',\n",
       "                                                                                   NoTransformer(),\n",
       "                                                                                   ['health_industry']],\n",
       "                                                                                  ['fund_investor_transformer',\n",
       "                                                                                   NoTransformer(),\n",
       "                                                                                   ['investors_type']]]),\n",
       "                                                  ['health_industry',\n",
       "                                                   'investors_type'])])),\n",
       "                ('model',\n",
       "                 LogisticRegression(C=1.52, penalty='l1', solver='liblinear'))])</pre></div></div></div><div class=\"sk-serial\"><div class=\"sk-item sk-dashed-wrapped\"><div class=\"sk-label-container\"><div class=\"sk-label sk-toggleable\"><input class=\"sk-toggleable__control sk-hidden--visually\" id=\"bba4abba-137f-40a4-8a90-7586ae8998bb\" type=\"checkbox\" ><label class=\"sk-toggleable__label\" for=\"bba4abba-137f-40a4-8a90-7586ae8998bb\">features: ColumnTransformer</label><div class=\"sk-toggleable__content\"><pre>ColumnTransformer(transformers=[('growth_transformer',\n",
       "                                 Pipeline(steps=[['growth_stage_age_preparator',\n",
       "                                                  ColumnTransformer(transformers=[['age_imputer',\n",
       "                                                                                   Pipeline(steps=[('simpleimputer',\n",
       "                                                                                                    SimpleImputer())]),\n",
       "                                                                                   ['age']],\n",
       "                                                                                  ['growth_stage_transformer',\n",
       "                                                                                   FunctionTransformer(func=<function <lambda> at 0x117d53550>),\n",
       "                                                                                   ['growth_stage_imputed']]])],\n",
       "                                                 ['growth_stage_age_ratio_c...\n",
       "                                ('patent_transformer',\n",
       "                                 Pipeline(steps=[('simpleimputer',\n",
       "                                                  SimpleImputer(fill_value=0,\n",
       "                                                                strategy='constant')),\n",
       "                                                 ('robustscaler',\n",
       "                                                  RobustScaler())]),\n",
       "                                 ['nb_patents']),\n",
       "                                ('identity',\n",
       "                                 ColumnTransformer(transformers=[['health_transformer',\n",
       "                                                                  NoTransformer(),\n",
       "                                                                  ['health_industry']],\n",
       "                                                                 ['fund_investor_transformer',\n",
       "                                                                  NoTransformer(),\n",
       "                                                                  ['investors_type']]]),\n",
       "                                 ['health_industry', 'investors_type'])])</pre></div></div></div><div class=\"sk-parallel\"><div class=\"sk-parallel-item\"><div class=\"sk-item\"><div class=\"sk-label-container\"><div class=\"sk-label sk-toggleable\"><input class=\"sk-toggleable__control sk-hidden--visually\" id=\"550a39e2-2ae7-4354-bb5e-170102f1ba02\" type=\"checkbox\" ><label class=\"sk-toggleable__label\" for=\"550a39e2-2ae7-4354-bb5e-170102f1ba02\">growth_transformer</label><div class=\"sk-toggleable__content\"><pre>['growth_stage_imputed', 'age']</pre></div></div></div><div class=\"sk-serial\"><div class=\"sk-item\"><div class=\"sk-serial\"><div class=\"sk-item sk-dashed-wrapped\"><div class=\"sk-label-container\"><div class=\"sk-label sk-toggleable\"><input class=\"sk-toggleable__control sk-hidden--visually\" id=\"67da3666-b9d0-4355-8a5f-1a989895a32e\" type=\"checkbox\" ><label class=\"sk-toggleable__label\" for=\"67da3666-b9d0-4355-8a5f-1a989895a32e\">growth_stage_age_preparator: ColumnTransformer</label><div class=\"sk-toggleable__content\"><pre>ColumnTransformer(transformers=[['age_imputer',\n",
       "                                 Pipeline(steps=[('simpleimputer',\n",
       "                                                  SimpleImputer())]),\n",
       "                                 ['age']],\n",
       "                                ['growth_stage_transformer',\n",
       "                                 FunctionTransformer(func=<function <lambda> at 0x117d53550>),\n",
       "                                 ['growth_stage_imputed']]])</pre></div></div></div><div class=\"sk-parallel\"><div class=\"sk-parallel-item\"><div class=\"sk-item\"><div class=\"sk-label-container\"><div class=\"sk-label sk-toggleable\"><input class=\"sk-toggleable__control sk-hidden--visually\" id=\"50401291-be43-4827-84a1-519197a3ac94\" type=\"checkbox\" ><label class=\"sk-toggleable__label\" for=\"50401291-be43-4827-84a1-519197a3ac94\">age_imputer</label><div class=\"sk-toggleable__content\"><pre>['age']</pre></div></div></div><div class=\"sk-serial\"><div class=\"sk-item\"><div class=\"sk-serial\"><div class=\"sk-item\"><div class=\"sk-estimator sk-toggleable\"><input class=\"sk-toggleable__control sk-hidden--visually\" id=\"c36932a3-07b2-49c2-b6f0-cd58e9256d62\" type=\"checkbox\" ><label class=\"sk-toggleable__label\" for=\"c36932a3-07b2-49c2-b6f0-cd58e9256d62\">SimpleImputer</label><div class=\"sk-toggleable__content\"><pre>SimpleImputer()</pre></div></div></div></div></div></div></div></div><div class=\"sk-parallel-item\"><div class=\"sk-item\"><div class=\"sk-label-container\"><div class=\"sk-label sk-toggleable\"><input class=\"sk-toggleable__control sk-hidden--visually\" id=\"2c3a7ff2-eeae-4567-be1f-6b70085ff1fe\" type=\"checkbox\" ><label class=\"sk-toggleable__label\" for=\"2c3a7ff2-eeae-4567-be1f-6b70085ff1fe\">growth_stage_transformer</label><div class=\"sk-toggleable__content\"><pre>['growth_stage_imputed']</pre></div></div></div><div class=\"sk-serial\"><div class=\"sk-item\"><div class=\"sk-estimator sk-toggleable\"><input class=\"sk-toggleable__control sk-hidden--visually\" id=\"6f66788f-e89c-4bdd-8e94-23156fc1d6f2\" type=\"checkbox\" ><label class=\"sk-toggleable__label\" for=\"6f66788f-e89c-4bdd-8e94-23156fc1d6f2\">FunctionTransformer</label><div class=\"sk-toggleable__content\"><pre>FunctionTransformer(func=<function <lambda> at 0x117d53550>)</pre></div></div></div></div></div></div></div></div><div class=\"sk-item\"><div class=\"sk-estimator sk-toggleable\"><input class=\"sk-toggleable__control sk-hidden--visually\" id=\"7ea57c8b-6bdd-4290-90bf-62085398ccc9\" type=\"checkbox\" ><label class=\"sk-toggleable__label\" for=\"7ea57c8b-6bdd-4290-90bf-62085398ccc9\">FunctionTransformer</label><div class=\"sk-toggleable__content\"><pre>FunctionTransformer(func=<function compute_growth_age_ratio at 0x117d6cf70>)</pre></div></div></div></div></div></div></div></div><div class=\"sk-parallel-item\"><div class=\"sk-item\"><div class=\"sk-label-container\"><div class=\"sk-label sk-toggleable\"><input class=\"sk-toggleable__control sk-hidden--visually\" id=\"5c17e74b-cbc1-42e7-9e32-765fea76392b\" type=\"checkbox\" ><label class=\"sk-toggleable__label\" for=\"5c17e74b-cbc1-42e7-9e32-765fea76392b\">ratio_transformer</label><div class=\"sk-toggleable__content\"><pre>['employees_clean', 'employees', 'launch_year_clean', 'employees_latest', 'total_funding_source']</pre></div></div></div><div class=\"sk-serial\"><div class=\"sk-item\"><div class=\"sk-serial\"><div class=\"sk-item\"><div class=\"sk-estimator sk-toggleable\"><input class=\"sk-toggleable__control sk-hidden--visually\" id=\"43280154-b09a-4408-9875-8613b68dc21c\" type=\"checkbox\" ><label class=\"sk-toggleable__label\" for=\"43280154-b09a-4408-9875-8613b68dc21c\">EmployeeImputer</label><div class=\"sk-toggleable__content\"><pre>EmployeeImputer()</pre></div></div></div><div class=\"sk-item\"><div class=\"sk-estimator sk-toggleable\"><input class=\"sk-toggleable__control sk-hidden--visually\" id=\"94815d77-e1be-40c1-b3a8-500c358417e9\" type=\"checkbox\" ><label class=\"sk-toggleable__label\" for=\"94815d77-e1be-40c1-b3a8-500c358417e9\">FunctionTransformer</label><div class=\"sk-toggleable__content\"><pre>FunctionTransformer(func=<function <lambda> at 0x119173a60>)</pre></div></div></div><div class=\"sk-item\"><div class=\"sk-estimator sk-toggleable\"><input class=\"sk-toggleable__control sk-hidden--visually\" id=\"6f1e2ded-5d63-4574-9e7e-4e60f26d2ca1\" type=\"checkbox\" ><label class=\"sk-toggleable__label\" for=\"6f1e2ded-5d63-4574-9e7e-4e60f26d2ca1\">RobustScaler</label><div class=\"sk-toggleable__content\"><pre>RobustScaler()</pre></div></div></div></div></div></div></div></div><div class=\"sk-parallel-item\"><div class=\"sk-item\"><div class=\"sk-label-container\"><div class=\"sk-label sk-toggleable\"><input class=\"sk-toggleable__control sk-hidden--visually\" id=\"57170965-87a3-41d4-a653-75161aee67a0\" type=\"checkbox\" ><label class=\"sk-toggleable__label\" for=\"57170965-87a3-41d4-a653-75161aee67a0\">patent_transformer</label><div class=\"sk-toggleable__content\"><pre>['nb_patents']</pre></div></div></div><div class=\"sk-serial\"><div class=\"sk-item\"><div class=\"sk-serial\"><div class=\"sk-item\"><div class=\"sk-estimator sk-toggleable\"><input class=\"sk-toggleable__control sk-hidden--visually\" id=\"fe3ba23a-8904-48ce-ac30-e3040643087a\" type=\"checkbox\" ><label class=\"sk-toggleable__label\" for=\"fe3ba23a-8904-48ce-ac30-e3040643087a\">SimpleImputer</label><div class=\"sk-toggleable__content\"><pre>SimpleImputer(fill_value=0, strategy='constant')</pre></div></div></div><div class=\"sk-item\"><div class=\"sk-estimator sk-toggleable\"><input class=\"sk-toggleable__control sk-hidden--visually\" id=\"f921769c-11a0-4f79-a006-57a693095aab\" type=\"checkbox\" ><label class=\"sk-toggleable__label\" for=\"f921769c-11a0-4f79-a006-57a693095aab\">RobustScaler</label><div class=\"sk-toggleable__content\"><pre>RobustScaler()</pre></div></div></div></div></div></div></div></div><div class=\"sk-parallel-item\"><div class=\"sk-item\"><div class=\"sk-label-container\"><div class=\"sk-label sk-toggleable\"><input class=\"sk-toggleable__control sk-hidden--visually\" id=\"28fbc005-ab10-48e7-833c-f3dec6903f20\" type=\"checkbox\" ><label class=\"sk-toggleable__label\" for=\"28fbc005-ab10-48e7-833c-f3dec6903f20\">identity</label><div class=\"sk-toggleable__content\"><pre>['health_industry', 'investors_type']</pre></div></div></div><div class=\"sk-serial\"><div class=\"sk-item sk-dashed-wrapped\"><div class=\"sk-parallel\"><div class=\"sk-parallel-item\"><div class=\"sk-item\"><div class=\"sk-label-container\"><div class=\"sk-label sk-toggleable\"><input class=\"sk-toggleable__control sk-hidden--visually\" id=\"61dfbeb4-8393-443f-892d-16cc82f3c6bc\" type=\"checkbox\" ><label class=\"sk-toggleable__label\" for=\"61dfbeb4-8393-443f-892d-16cc82f3c6bc\">health_transformer</label><div class=\"sk-toggleable__content\"><pre>['health_industry']</pre></div></div></div><div class=\"sk-serial\"><div class=\"sk-item\"><div class=\"sk-estimator sk-toggleable\"><input class=\"sk-toggleable__control sk-hidden--visually\" id=\"05050cc3-1548-4141-9b5c-4bfe0ff312e9\" type=\"checkbox\" ><label class=\"sk-toggleable__label\" for=\"05050cc3-1548-4141-9b5c-4bfe0ff312e9\">NoTransformer</label><div class=\"sk-toggleable__content\"><pre>NoTransformer()</pre></div></div></div></div></div></div><div class=\"sk-parallel-item\"><div class=\"sk-item\"><div class=\"sk-label-container\"><div class=\"sk-label sk-toggleable\"><input class=\"sk-toggleable__control sk-hidden--visually\" id=\"238635a4-b7cb-464b-9a0b-01c3c78fd92a\" type=\"checkbox\" ><label class=\"sk-toggleable__label\" for=\"238635a4-b7cb-464b-9a0b-01c3c78fd92a\">fund_investor_transformer</label><div class=\"sk-toggleable__content\"><pre>['investors_type']</pre></div></div></div><div class=\"sk-serial\"><div class=\"sk-item\"><div class=\"sk-estimator sk-toggleable\"><input class=\"sk-toggleable__control sk-hidden--visually\" id=\"8aab4780-68c7-4186-8da5-1e5417ac634d\" type=\"checkbox\" ><label class=\"sk-toggleable__label\" for=\"8aab4780-68c7-4186-8da5-1e5417ac634d\">NoTransformer</label><div class=\"sk-toggleable__content\"><pre>NoTransformer()</pre></div></div></div></div></div></div></div></div></div></div></div></div></div><div class=\"sk-item\"><div class=\"sk-estimator sk-toggleable\"><input class=\"sk-toggleable__control sk-hidden--visually\" id=\"68ac3d7a-830e-4874-9f71-074a07df12d3\" type=\"checkbox\" ><label class=\"sk-toggleable__label\" for=\"68ac3d7a-830e-4874-9f71-074a07df12d3\">LogisticRegression</label><div class=\"sk-toggleable__content\"><pre>LogisticRegression(C=1.52, penalty='l1', solver='liblinear')</pre></div></div></div></div></div></div></div>"
      ],
      "text/plain": [
       "Pipeline(steps=[('features',\n",
       "                 ColumnTransformer(transformers=[('growth_transformer',\n",
       "                                                  Pipeline(steps=[['growth_stage_age_preparator',\n",
       "                                                                   ColumnTransformer(transformers=[['age_imputer',\n",
       "                                                                                                    Pipeline(steps=[('simpleimputer',\n",
       "                                                                                                                     SimpleImputer())]),\n",
       "                                                                                                    ['age']],\n",
       "                                                                                                   ['growth_stage_transformer',\n",
       "                                                                                                    FunctionTransformer(func=<function <lambda> at 0x117d53550>),\n",
       "                                                                                                    ['growth_stage_imputed']]])...\n",
       "                                                                                 strategy='constant')),\n",
       "                                                                  ('robustscaler',\n",
       "                                                                   RobustScaler())]),\n",
       "                                                  ['nb_patents']),\n",
       "                                                 ('identity',\n",
       "                                                  ColumnTransformer(transformers=[['health_transformer',\n",
       "                                                                                   NoTransformer(),\n",
       "                                                                                   ['health_industry']],\n",
       "                                                                                  ['fund_investor_transformer',\n",
       "                                                                                   NoTransformer(),\n",
       "                                                                                   ['investors_type']]]),\n",
       "                                                  ['health_industry',\n",
       "                                                   'investors_type'])])),\n",
       "                ('model',\n",
       "                 LogisticRegression(C=1.52, penalty='l1', solver='liblinear'))])"
      ]
     },
     "execution_count": 46,
     "metadata": {},
     "output_type": "execute_result"
    }
   ],
   "source": [
    "from sklearn.pipeline import Pipeline\n",
    "from sklearn.linear_model import LogisticRegression\n",
    "\n",
    "pipemodel = Pipeline(steps=[\n",
    "                            ('features', preprocessor),\n",
    "                            ('model', LogisticRegression(C = 1.52, penalty = 'l1', solver= 'liblinear'))\n",
    "                             ])\n",
    "pipemodel"
   ]
  },
  {
   "cell_type": "markdown",
   "metadata": {
    "ExecuteTime": {
     "end_time": "2020-12-09T14:55:57.928507Z",
     "start_time": "2020-12-09T14:55:57.896635Z"
    }
   },
   "source": [
    "##### RUN MODEL"
   ]
  },
  {
   "cell_type": "code",
   "execution_count": 47,
   "metadata": {
    "ExecuteTime": {
     "end_time": "2020-12-09T22:50:52.181839Z",
     "start_time": "2020-12-09T22:50:51.527336Z"
    }
   },
   "outputs": [
    {
     "name": "stderr",
     "output_type": "stream",
     "text": [
      "<ipython-input-25-e22b808fede3>:14: SettingWithCopyWarning: \n",
      "A value is trying to be set on a copy of a slice from a DataFrame\n",
      "\n",
      "See the caveats in the documentation: https://pandas.pydata.org/pandas-docs/stable/user_guide/indexing.html#returning-a-view-versus-a-copy\n",
      "  data[\"investors_type\"] = fund_investors(tmp[[\"investors_type\"]])\n",
      "<ipython-input-47-7faf0755a962>:4: SettingWithCopyWarning: \n",
      "A value is trying to be set on a copy of a slice from a DataFrame\n",
      "\n",
      "See the caveats in the documentation: https://pandas.pydata.org/pandas-docs/stable/user_guide/indexing.html#returning-a-view-versus-a-copy\n",
      "  y[y ==0.5] = 0\n"
     ]
    }
   ],
   "source": [
    "data = GetData.get_data()\n",
    "X = data.drop(columns = [\"target\", \"deep_or_not\"])\n",
    "y = data.target\n",
    "y[y ==0.5] = 0"
   ]
  },
  {
   "cell_type": "code",
   "execution_count": 48,
   "metadata": {
    "ExecuteTime": {
     "end_time": "2020-12-09T22:51:10.735149Z",
     "start_time": "2020-12-09T22:51:03.938173Z"
    }
   },
   "outputs": [
    {
     "data": {
      "text/html": [
       "<style>div.sk-top-container {color: black;background-color: white;}div.sk-toggleable {background-color: white;}label.sk-toggleable__label {cursor: pointer;display: block;width: 100%;margin-bottom: 0;padding: 0.2em 0.3em;box-sizing: border-box;text-align: center;}div.sk-toggleable__content {max-height: 0;max-width: 0;overflow: hidden;text-align: left;background-color: #f0f8ff;}div.sk-toggleable__content pre {margin: 0.2em;color: black;border-radius: 0.25em;background-color: #f0f8ff;}input.sk-toggleable__control:checked~div.sk-toggleable__content {max-height: 200px;max-width: 100%;overflow: auto;}div.sk-estimator input.sk-toggleable__control:checked~label.sk-toggleable__label {background-color: #d4ebff;}div.sk-label input.sk-toggleable__control:checked~label.sk-toggleable__label {background-color: #d4ebff;}input.sk-hidden--visually {border: 0;clip: rect(1px 1px 1px 1px);clip: rect(1px, 1px, 1px, 1px);height: 1px;margin: -1px;overflow: hidden;padding: 0;position: absolute;width: 1px;}div.sk-estimator {font-family: monospace;background-color: #f0f8ff;margin: 0.25em 0.25em;border: 1px dotted black;border-radius: 0.25em;box-sizing: border-box;}div.sk-estimator:hover {background-color: #d4ebff;}div.sk-parallel-item::after {content: \"\";width: 100%;border-bottom: 1px solid gray;flex-grow: 1;}div.sk-label:hover label.sk-toggleable__label {background-color: #d4ebff;}div.sk-serial::before {content: \"\";position: absolute;border-left: 1px solid gray;box-sizing: border-box;top: 2em;bottom: 0;left: 50%;}div.sk-serial {display: flex;flex-direction: column;align-items: center;background-color: white;}div.sk-item {z-index: 1;}div.sk-parallel {display: flex;align-items: stretch;justify-content: center;background-color: white;}div.sk-parallel-item {display: flex;flex-direction: column;position: relative;background-color: white;}div.sk-parallel-item:first-child::after {align-self: flex-end;width: 50%;}div.sk-parallel-item:last-child::after {align-self: flex-start;width: 50%;}div.sk-parallel-item:only-child::after {width: 0;}div.sk-dashed-wrapped {border: 1px dashed gray;margin: 0.2em;box-sizing: border-box;padding-bottom: 0.1em;background-color: white;position: relative;}div.sk-label label {font-family: monospace;font-weight: bold;background-color: white;display: inline-block;line-height: 1.2em;}div.sk-label-container {position: relative;z-index: 2;text-align: center;}div.sk-container {display: inline-block;position: relative;}</style><div class=\"sk-top-container\"><div class=\"sk-container\"><div class=\"sk-item sk-dashed-wrapped\"><div class=\"sk-label-container\"><div class=\"sk-label sk-toggleable\"><input class=\"sk-toggleable__control sk-hidden--visually\" id=\"e7424def-c69a-4cd8-811e-59b715614dfc\" type=\"checkbox\" ><label class=\"sk-toggleable__label\" for=\"e7424def-c69a-4cd8-811e-59b715614dfc\">Pipeline</label><div class=\"sk-toggleable__content\"><pre>Pipeline(steps=[('features',\n",
       "                 ColumnTransformer(transformers=[('growth_transformer',\n",
       "                                                  Pipeline(steps=[['growth_stage_age_preparator',\n",
       "                                                                   ColumnTransformer(transformers=[['age_imputer',\n",
       "                                                                                                    Pipeline(steps=[('simpleimputer',\n",
       "                                                                                                                     SimpleImputer())]),\n",
       "                                                                                                    ['age']],\n",
       "                                                                                                   ['growth_stage_transformer',\n",
       "                                                                                                    FunctionTransformer(func=<function <lambda> at 0x117d53550>),\n",
       "                                                                                                    ['growth_stage_imputed']]])...\n",
       "                                                                                 strategy='constant')),\n",
       "                                                                  ('robustscaler',\n",
       "                                                                   RobustScaler())]),\n",
       "                                                  ['nb_patents']),\n",
       "                                                 ('identity',\n",
       "                                                  ColumnTransformer(transformers=[['health_transformer',\n",
       "                                                                                   NoTransformer(),\n",
       "                                                                                   ['health_industry']],\n",
       "                                                                                  ['fund_investor_transformer',\n",
       "                                                                                   NoTransformer(),\n",
       "                                                                                   ['investors_type']]]),\n",
       "                                                  ['health_industry',\n",
       "                                                   'investors_type'])])),\n",
       "                ('model',\n",
       "                 LogisticRegression(C=1.52, penalty='l1', solver='liblinear'))])</pre></div></div></div><div class=\"sk-serial\"><div class=\"sk-item sk-dashed-wrapped\"><div class=\"sk-label-container\"><div class=\"sk-label sk-toggleable\"><input class=\"sk-toggleable__control sk-hidden--visually\" id=\"e050cc57-73a2-41c0-8df8-f767cb5ca219\" type=\"checkbox\" ><label class=\"sk-toggleable__label\" for=\"e050cc57-73a2-41c0-8df8-f767cb5ca219\">features: ColumnTransformer</label><div class=\"sk-toggleable__content\"><pre>ColumnTransformer(transformers=[('growth_transformer',\n",
       "                                 Pipeline(steps=[['growth_stage_age_preparator',\n",
       "                                                  ColumnTransformer(transformers=[['age_imputer',\n",
       "                                                                                   Pipeline(steps=[('simpleimputer',\n",
       "                                                                                                    SimpleImputer())]),\n",
       "                                                                                   ['age']],\n",
       "                                                                                  ['growth_stage_transformer',\n",
       "                                                                                   FunctionTransformer(func=<function <lambda> at 0x117d53550>),\n",
       "                                                                                   ['growth_stage_imputed']]])],\n",
       "                                                 ['growth_stage_age_ratio_c...\n",
       "                                ('patent_transformer',\n",
       "                                 Pipeline(steps=[('simpleimputer',\n",
       "                                                  SimpleImputer(fill_value=0,\n",
       "                                                                strategy='constant')),\n",
       "                                                 ('robustscaler',\n",
       "                                                  RobustScaler())]),\n",
       "                                 ['nb_patents']),\n",
       "                                ('identity',\n",
       "                                 ColumnTransformer(transformers=[['health_transformer',\n",
       "                                                                  NoTransformer(),\n",
       "                                                                  ['health_industry']],\n",
       "                                                                 ['fund_investor_transformer',\n",
       "                                                                  NoTransformer(),\n",
       "                                                                  ['investors_type']]]),\n",
       "                                 ['health_industry', 'investors_type'])])</pre></div></div></div><div class=\"sk-parallel\"><div class=\"sk-parallel-item\"><div class=\"sk-item\"><div class=\"sk-label-container\"><div class=\"sk-label sk-toggleable\"><input class=\"sk-toggleable__control sk-hidden--visually\" id=\"8d6e663d-3d54-4f19-ac94-8dcb5e4bb64c\" type=\"checkbox\" ><label class=\"sk-toggleable__label\" for=\"8d6e663d-3d54-4f19-ac94-8dcb5e4bb64c\">growth_transformer</label><div class=\"sk-toggleable__content\"><pre>['growth_stage_imputed', 'age']</pre></div></div></div><div class=\"sk-serial\"><div class=\"sk-item\"><div class=\"sk-serial\"><div class=\"sk-item sk-dashed-wrapped\"><div class=\"sk-label-container\"><div class=\"sk-label sk-toggleable\"><input class=\"sk-toggleable__control sk-hidden--visually\" id=\"9a26052e-7d15-419d-b1a2-205ff9507463\" type=\"checkbox\" ><label class=\"sk-toggleable__label\" for=\"9a26052e-7d15-419d-b1a2-205ff9507463\">growth_stage_age_preparator: ColumnTransformer</label><div class=\"sk-toggleable__content\"><pre>ColumnTransformer(transformers=[['age_imputer',\n",
       "                                 Pipeline(steps=[('simpleimputer',\n",
       "                                                  SimpleImputer())]),\n",
       "                                 ['age']],\n",
       "                                ['growth_stage_transformer',\n",
       "                                 FunctionTransformer(func=<function <lambda> at 0x117d53550>),\n",
       "                                 ['growth_stage_imputed']]])</pre></div></div></div><div class=\"sk-parallel\"><div class=\"sk-parallel-item\"><div class=\"sk-item\"><div class=\"sk-label-container\"><div class=\"sk-label sk-toggleable\"><input class=\"sk-toggleable__control sk-hidden--visually\" id=\"175f4572-c621-4b14-bbc7-1cf889057818\" type=\"checkbox\" ><label class=\"sk-toggleable__label\" for=\"175f4572-c621-4b14-bbc7-1cf889057818\">age_imputer</label><div class=\"sk-toggleable__content\"><pre>['age']</pre></div></div></div><div class=\"sk-serial\"><div class=\"sk-item\"><div class=\"sk-serial\"><div class=\"sk-item\"><div class=\"sk-estimator sk-toggleable\"><input class=\"sk-toggleable__control sk-hidden--visually\" id=\"c7e560f3-e492-47cf-83cf-60c1857d6112\" type=\"checkbox\" ><label class=\"sk-toggleable__label\" for=\"c7e560f3-e492-47cf-83cf-60c1857d6112\">SimpleImputer</label><div class=\"sk-toggleable__content\"><pre>SimpleImputer()</pre></div></div></div></div></div></div></div></div><div class=\"sk-parallel-item\"><div class=\"sk-item\"><div class=\"sk-label-container\"><div class=\"sk-label sk-toggleable\"><input class=\"sk-toggleable__control sk-hidden--visually\" id=\"7ac8ecb2-7b78-497f-a41e-a3044baf12c5\" type=\"checkbox\" ><label class=\"sk-toggleable__label\" for=\"7ac8ecb2-7b78-497f-a41e-a3044baf12c5\">growth_stage_transformer</label><div class=\"sk-toggleable__content\"><pre>['growth_stage_imputed']</pre></div></div></div><div class=\"sk-serial\"><div class=\"sk-item\"><div class=\"sk-estimator sk-toggleable\"><input class=\"sk-toggleable__control sk-hidden--visually\" id=\"ac98190b-d317-4d91-bab4-d364af0c19e5\" type=\"checkbox\" ><label class=\"sk-toggleable__label\" for=\"ac98190b-d317-4d91-bab4-d364af0c19e5\">FunctionTransformer</label><div class=\"sk-toggleable__content\"><pre>FunctionTransformer(func=<function <lambda> at 0x117d53550>)</pre></div></div></div></div></div></div></div></div><div class=\"sk-item\"><div class=\"sk-estimator sk-toggleable\"><input class=\"sk-toggleable__control sk-hidden--visually\" id=\"29e33aba-c543-4da8-a2dc-ba03ced412d8\" type=\"checkbox\" ><label class=\"sk-toggleable__label\" for=\"29e33aba-c543-4da8-a2dc-ba03ced412d8\">FunctionTransformer</label><div class=\"sk-toggleable__content\"><pre>FunctionTransformer(func=<function compute_growth_age_ratio at 0x117d6cf70>)</pre></div></div></div></div></div></div></div></div><div class=\"sk-parallel-item\"><div class=\"sk-item\"><div class=\"sk-label-container\"><div class=\"sk-label sk-toggleable\"><input class=\"sk-toggleable__control sk-hidden--visually\" id=\"3c8e6049-66a4-432b-b0bf-5f82925061f7\" type=\"checkbox\" ><label class=\"sk-toggleable__label\" for=\"3c8e6049-66a4-432b-b0bf-5f82925061f7\">ratio_transformer</label><div class=\"sk-toggleable__content\"><pre>['employees_clean', 'employees', 'launch_year_clean', 'employees_latest', 'total_funding_source']</pre></div></div></div><div class=\"sk-serial\"><div class=\"sk-item\"><div class=\"sk-serial\"><div class=\"sk-item\"><div class=\"sk-estimator sk-toggleable\"><input class=\"sk-toggleable__control sk-hidden--visually\" id=\"0bb01c3e-e695-4acb-8dc4-cb0a2b2921c2\" type=\"checkbox\" ><label class=\"sk-toggleable__label\" for=\"0bb01c3e-e695-4acb-8dc4-cb0a2b2921c2\">EmployeeImputer</label><div class=\"sk-toggleable__content\"><pre>EmployeeImputer()</pre></div></div></div><div class=\"sk-item\"><div class=\"sk-estimator sk-toggleable\"><input class=\"sk-toggleable__control sk-hidden--visually\" id=\"146df2ae-b06b-4f7c-bf4d-de895af24484\" type=\"checkbox\" ><label class=\"sk-toggleable__label\" for=\"146df2ae-b06b-4f7c-bf4d-de895af24484\">FunctionTransformer</label><div class=\"sk-toggleable__content\"><pre>FunctionTransformer(func=<function <lambda> at 0x119173a60>)</pre></div></div></div><div class=\"sk-item\"><div class=\"sk-estimator sk-toggleable\"><input class=\"sk-toggleable__control sk-hidden--visually\" id=\"8a6660d7-778f-445e-966d-245bc5dddcdf\" type=\"checkbox\" ><label class=\"sk-toggleable__label\" for=\"8a6660d7-778f-445e-966d-245bc5dddcdf\">RobustScaler</label><div class=\"sk-toggleable__content\"><pre>RobustScaler()</pre></div></div></div></div></div></div></div></div><div class=\"sk-parallel-item\"><div class=\"sk-item\"><div class=\"sk-label-container\"><div class=\"sk-label sk-toggleable\"><input class=\"sk-toggleable__control sk-hidden--visually\" id=\"20fa27a3-c744-41af-99b1-6197f74471a5\" type=\"checkbox\" ><label class=\"sk-toggleable__label\" for=\"20fa27a3-c744-41af-99b1-6197f74471a5\">patent_transformer</label><div class=\"sk-toggleable__content\"><pre>['nb_patents']</pre></div></div></div><div class=\"sk-serial\"><div class=\"sk-item\"><div class=\"sk-serial\"><div class=\"sk-item\"><div class=\"sk-estimator sk-toggleable\"><input class=\"sk-toggleable__control sk-hidden--visually\" id=\"680387bf-06eb-4033-b4e9-eec31fc93035\" type=\"checkbox\" ><label class=\"sk-toggleable__label\" for=\"680387bf-06eb-4033-b4e9-eec31fc93035\">SimpleImputer</label><div class=\"sk-toggleable__content\"><pre>SimpleImputer(fill_value=0, strategy='constant')</pre></div></div></div><div class=\"sk-item\"><div class=\"sk-estimator sk-toggleable\"><input class=\"sk-toggleable__control sk-hidden--visually\" id=\"9df911e5-c906-4957-b82f-7374d14f7778\" type=\"checkbox\" ><label class=\"sk-toggleable__label\" for=\"9df911e5-c906-4957-b82f-7374d14f7778\">RobustScaler</label><div class=\"sk-toggleable__content\"><pre>RobustScaler()</pre></div></div></div></div></div></div></div></div><div class=\"sk-parallel-item\"><div class=\"sk-item\"><div class=\"sk-label-container\"><div class=\"sk-label sk-toggleable\"><input class=\"sk-toggleable__control sk-hidden--visually\" id=\"c03032e0-3fc9-4171-8154-717602704072\" type=\"checkbox\" ><label class=\"sk-toggleable__label\" for=\"c03032e0-3fc9-4171-8154-717602704072\">identity</label><div class=\"sk-toggleable__content\"><pre>['health_industry', 'investors_type']</pre></div></div></div><div class=\"sk-serial\"><div class=\"sk-item sk-dashed-wrapped\"><div class=\"sk-parallel\"><div class=\"sk-parallel-item\"><div class=\"sk-item\"><div class=\"sk-label-container\"><div class=\"sk-label sk-toggleable\"><input class=\"sk-toggleable__control sk-hidden--visually\" id=\"57b2a2d5-f466-4264-ae3f-6f5d72e23537\" type=\"checkbox\" ><label class=\"sk-toggleable__label\" for=\"57b2a2d5-f466-4264-ae3f-6f5d72e23537\">health_transformer</label><div class=\"sk-toggleable__content\"><pre>['health_industry']</pre></div></div></div><div class=\"sk-serial\"><div class=\"sk-item\"><div class=\"sk-estimator sk-toggleable\"><input class=\"sk-toggleable__control sk-hidden--visually\" id=\"735edf8d-f1c2-4289-808c-f23b7d550d10\" type=\"checkbox\" ><label class=\"sk-toggleable__label\" for=\"735edf8d-f1c2-4289-808c-f23b7d550d10\">NoTransformer</label><div class=\"sk-toggleable__content\"><pre>NoTransformer()</pre></div></div></div></div></div></div><div class=\"sk-parallel-item\"><div class=\"sk-item\"><div class=\"sk-label-container\"><div class=\"sk-label sk-toggleable\"><input class=\"sk-toggleable__control sk-hidden--visually\" id=\"4d1cf70e-86e7-4cf9-83a7-483104d88cb9\" type=\"checkbox\" ><label class=\"sk-toggleable__label\" for=\"4d1cf70e-86e7-4cf9-83a7-483104d88cb9\">fund_investor_transformer</label><div class=\"sk-toggleable__content\"><pre>['investors_type']</pre></div></div></div><div class=\"sk-serial\"><div class=\"sk-item\"><div class=\"sk-estimator sk-toggleable\"><input class=\"sk-toggleable__control sk-hidden--visually\" id=\"08e3ebe6-696f-411d-a97e-00fe7a4d4431\" type=\"checkbox\" ><label class=\"sk-toggleable__label\" for=\"08e3ebe6-696f-411d-a97e-00fe7a4d4431\">NoTransformer</label><div class=\"sk-toggleable__content\"><pre>NoTransformer()</pre></div></div></div></div></div></div></div></div></div></div></div></div></div><div class=\"sk-item\"><div class=\"sk-estimator sk-toggleable\"><input class=\"sk-toggleable__control sk-hidden--visually\" id=\"eaed48f8-792b-4b3d-89cd-a9aada8e399e\" type=\"checkbox\" ><label class=\"sk-toggleable__label\" for=\"eaed48f8-792b-4b3d-89cd-a9aada8e399e\">LogisticRegression</label><div class=\"sk-toggleable__content\"><pre>LogisticRegression(C=1.52, penalty='l1', solver='liblinear')</pre></div></div></div></div></div></div></div>"
      ],
      "text/plain": [
       "Pipeline(steps=[('features',\n",
       "                 ColumnTransformer(transformers=[('growth_transformer',\n",
       "                                                  Pipeline(steps=[['growth_stage_age_preparator',\n",
       "                                                                   ColumnTransformer(transformers=[['age_imputer',\n",
       "                                                                                                    Pipeline(steps=[('simpleimputer',\n",
       "                                                                                                                     SimpleImputer())]),\n",
       "                                                                                                    ['age']],\n",
       "                                                                                                   ['growth_stage_transformer',\n",
       "                                                                                                    FunctionTransformer(func=<function <lambda> at 0x117d53550>),\n",
       "                                                                                                    ['growth_stage_imputed']]])...\n",
       "                                                                                 strategy='constant')),\n",
       "                                                                  ('robustscaler',\n",
       "                                                                   RobustScaler())]),\n",
       "                                                  ['nb_patents']),\n",
       "                                                 ('identity',\n",
       "                                                  ColumnTransformer(transformers=[['health_transformer',\n",
       "                                                                                   NoTransformer(),\n",
       "                                                                                   ['health_industry']],\n",
       "                                                                                  ['fund_investor_transformer',\n",
       "                                                                                   NoTransformer(),\n",
       "                                                                                   ['investors_type']]]),\n",
       "                                                  ['health_industry',\n",
       "                                                   'investors_type'])])),\n",
       "                ('model',\n",
       "                 LogisticRegression(C=1.52, penalty='l1', solver='liblinear'))])"
      ]
     },
     "execution_count": 48,
     "metadata": {},
     "output_type": "execute_result"
    }
   ],
   "source": [
    "pipemodel.fit(X, y)"
   ]
  },
  {
   "cell_type": "code",
   "execution_count": 49,
   "metadata": {
    "ExecuteTime": {
     "end_time": "2020-12-09T22:51:32.967562Z",
     "start_time": "2020-12-09T22:51:31.485616Z"
    }
   },
   "outputs": [],
   "source": [
    "from sklearn.model_selection import cross_validate\n",
    "\n",
    "# Cross validate pipeline\n",
    "cv_result = cross_validate(pipemodel, X, y, cv=10, scoring=[\"accuracy\", \"recall\", \"f1\", \"precision\"])"
   ]
  },
  {
   "cell_type": "code",
   "execution_count": 50,
   "metadata": {
    "ExecuteTime": {
     "end_time": "2020-12-09T22:51:50.238531Z",
     "start_time": "2020-12-09T22:51:50.226448Z"
    }
   },
   "outputs": [
    {
     "name": "stdout",
     "output_type": "stream",
     "text": [
      "test_accuracy :  69.95%\n",
      "test_recall :  50.17%\n",
      "test_f1 :  58.51%\n",
      "test_precision :  71.17%\n"
     ]
    }
   ],
   "source": [
    "scoring=[\"test_accuracy\", \"test_recall\", \"test_f1\", \"test_precision\"]\n",
    "\n",
    "for metric in scoring:\n",
    "    print(f\"{metric} : {cv_result[metric].mean() * 100 : .2f}%\")"
   ]
  },
  {
   "cell_type": "markdown",
   "metadata": {},
   "source": [
    "1st run with 3 features only : test_accuracy :  65.12%\n",
    "test_recall :  32.10%\n",
    "test_f1 :  43.24%\n",
    "test_precision :  69.23%\n",
    "\n",
    "\n",
    "2nd run with \"health_industry\" : test_accuracy :  69.82%\n",
    "test_recall :  51.40%\n",
    "test_f1 :  58.98%\n",
    "test_precision :  69.88%\n",
    "\n",
    "3rd run with \"fund/investors\" : test_accuracy :  69.95%\n",
    "test_recall :  50.17%\n",
    "test_f1 :  58.51%\n",
    "test_precision :  71.17%"
   ]
  },
  {
   "cell_type": "code",
   "execution_count": 51,
   "metadata": {
    "ExecuteTime": {
     "end_time": "2020-12-09T22:55:59.383728Z",
     "start_time": "2020-12-09T22:55:59.370610Z"
    }
   },
   "outputs": [],
   "source": [
    "pd.set_option('display.max_rows', 500)\n",
    "features = [\"growth_stage_age_ratio\", \"funding_employees_ratio\", \"nb_patents\", \"health_industry\", \"investors_type\"]"
   ]
  },
  {
   "cell_type": "code",
   "execution_count": 52,
   "metadata": {
    "ExecuteTime": {
     "end_time": "2020-12-09T22:56:10.084683Z",
     "start_time": "2020-12-09T22:56:09.954137Z"
    }
   },
   "outputs": [],
   "source": [
    "y_pred = pipemodel.predict(X)\n",
    "xp = preprocessor.fit_transform(X)\n",
    "y_pred = pd.DataFrame(y_pred, columns = [\"y_pred\"])\n",
    "x_prepro = pd.DataFrame(xp, columns = features)"
   ]
  },
  {
   "cell_type": "code",
   "execution_count": 53,
   "metadata": {
    "ExecuteTime": {
     "end_time": "2020-12-09T22:56:20.919294Z",
     "start_time": "2020-12-09T22:56:20.908668Z"
    }
   },
   "outputs": [],
   "source": [
    "outputs = data[[\"id\", \"name\", \"deep_or_not\", \"target\"]].join(x_prepro).join(y_pred)"
   ]
  },
  {
   "cell_type": "code",
   "execution_count": 54,
   "metadata": {
    "ExecuteTime": {
     "end_time": "2020-12-09T22:56:31.745069Z",
     "start_time": "2020-12-09T22:56:31.732288Z"
    }
   },
   "outputs": [],
   "source": [
    "FN = outputs[(outputs.deep_or_not == \"deeptech\") & (outputs.y_pred == 0)]\n",
    "FP = outputs[(outputs.deep_or_not == \"non_deeptech\") | (outputs.deep_or_not == \"almost_deeptech\") & (outputs.y_pred == 1)]\n"
   ]
  },
  {
   "cell_type": "code",
   "execution_count": null,
   "metadata": {
    "ExecuteTime": {
     "end_time": "2020-12-09T19:59:52.337638Z",
     "start_time": "2020-12-09T19:59:44.723107Z"
    },
    "scrolled": true
   },
   "outputs": [],
   "source": [
    "import seaborn as sns\n",
    "sns.pairplot(FN[features])"
   ]
  },
  {
   "cell_type": "code",
   "execution_count": null,
   "metadata": {
    "ExecuteTime": {
     "end_time": "2020-12-09T19:55:06.936174Z",
     "start_time": "2020-12-09T19:54:58.604246Z"
    }
   },
   "outputs": [],
   "source": [
    "sns.pairplot(FP[features])"
   ]
  },
  {
   "cell_type": "code",
   "execution_count": null,
   "metadata": {
    "ExecuteTime": {
     "end_time": "2020-12-09T18:58:28.257713Z",
     "start_time": "2020-12-09T18:58:24.566631Z"
    }
   },
   "outputs": [],
   "source": [
    "from pandasgui import show\n",
    "show(outputs)"
   ]
  }
 ],
 "metadata": {
  "kernelspec": {
   "display_name": "Python 3",
   "language": "python",
   "name": "python3"
  },
  "language_info": {
   "codemirror_mode": {
    "name": "ipython",
    "version": 3
   },
   "file_extension": ".py",
   "mimetype": "text/x-python",
   "name": "python",
   "nbconvert_exporter": "python",
   "pygments_lexer": "ipython3",
   "version": "3.8.6"
  },
  "toc": {
   "base_numbering": 1,
   "nav_menu": {},
   "number_sections": true,
   "sideBar": true,
   "skip_h1_title": false,
   "title_cell": "Table of Contents",
   "title_sidebar": "Contents",
   "toc_cell": false,
   "toc_position": {},
   "toc_section_display": true,
   "toc_window_display": false
  },
  "varInspector": {
   "cols": {
    "lenName": 16,
    "lenType": 16,
    "lenVar": 40
   },
   "kernels_config": {
    "python": {
     "delete_cmd_postfix": "",
     "delete_cmd_prefix": "del ",
     "library": "var_list.py",
     "varRefreshCmd": "print(var_dic_list())"
    },
    "r": {
     "delete_cmd_postfix": ") ",
     "delete_cmd_prefix": "rm(",
     "library": "var_list.r",
     "varRefreshCmd": "cat(var_dic_list()) "
    }
   },
   "types_to_exclude": [
    "module",
    "function",
    "builtin_function_or_method",
    "instance",
    "_Feature"
   ],
   "window_display": false
  }
 },
 "nbformat": 4,
 "nbformat_minor": 4
}
