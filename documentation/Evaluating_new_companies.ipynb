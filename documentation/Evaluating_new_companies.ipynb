{
 "cells": [
  {
   "cell_type": "markdown",
   "metadata": {},
   "source": [
    "(To do once per environment)\n",
    "Clone the package from https://github.com/ClemenceK/bpifrance_deeptech_analysis\n"
   ]
  },
  {
   "cell_type": "code",
   "execution_count": 3,
   "metadata": {
    "ExecuteTime": {
     "end_time": "2020-12-16T09:38:57.116087Z",
     "start_time": "2020-12-16T09:38:49.476633Z"
    },
    "collapsed": true
   },
   "outputs": [
    {
     "name": "stdout",
     "output_type": "stream",
     "text": [
      "Processing /Users/admin/code/ClemenceK/bpifrance_deeptech_analysis\n",
      "Requirement already satisfied: setuptools in /Users/admin/.pyenv/versions/3.8.5/envs/data/envs/NLP/lib/python3.8/site-packages (from bpideep==1.0) (47.1.0)\n",
      "Requirement already satisfied: pandas in /Users/admin/.pyenv/versions/3.8.5/envs/data/envs/NLP/lib/python3.8/site-packages (from bpideep==1.0) (1.1.4)\n",
      "Requirement already satisfied: Flask in /Users/admin/.pyenv/versions/3.8.5/envs/data/envs/NLP/lib/python3.8/site-packages (from bpideep==1.0) (1.1.2)\n",
      "Requirement already satisfied: Flask-Cors in /Users/admin/.pyenv/versions/3.8.5/envs/data/envs/NLP/lib/python3.8/site-packages (from bpideep==1.0) (3.0.9)\n",
      "Requirement already satisfied: gunicorn in /Users/admin/.pyenv/versions/3.8.5/envs/data/envs/NLP/lib/python3.8/site-packages (from bpideep==1.0) (20.0.4)\n",
      "Requirement already satisfied: numpy in /Users/admin/.pyenv/versions/3.8.5/envs/data/envs/NLP/lib/python3.8/site-packages (from bpideep==1.0) (1.18.5)\n",
      "Requirement already satisfied: matplotlib in /Users/admin/.pyenv/versions/3.8.5/envs/data/envs/NLP/lib/python3.8/site-packages (from bpideep==1.0) (3.3.3)\n",
      "Requirement already satisfied: requests in /Users/admin/.pyenv/versions/3.8.5/envs/data/envs/NLP/lib/python3.8/site-packages (from bpideep==1.0) (2.25.0)\n",
      "Requirement already satisfied: google-cloud-bigquery in /Users/admin/.pyenv/versions/3.8.5/envs/data/envs/NLP/lib/python3.8/site-packages (from bpideep==1.0) (2.4.0)\n",
      "Requirement already satisfied: datetime in /Users/admin/.pyenv/versions/3.8.5/envs/data/envs/NLP/lib/python3.8/site-packages (from bpideep==1.0) (4.3)\n",
      "Requirement already satisfied: scikit-learn in /Users/admin/.pyenv/versions/3.8.5/envs/data/envs/NLP/lib/python3.8/site-packages (from bpideep==1.0) (0.23.2)\n",
      "Requirement already satisfied: joblib in /Users/admin/.pyenv/versions/3.8.5/envs/data/envs/NLP/lib/python3.8/site-packages (from bpideep==1.0) (0.17.0)\n",
      "Requirement already satisfied: python-dotenv in /Users/admin/.pyenv/versions/3.8.5/envs/data/envs/NLP/lib/python3.8/site-packages (from bpideep==1.0) (0.15.0)\n",
      "Requirement already satisfied: typed-ast in /Users/admin/.pyenv/versions/3.8.5/envs/data/envs/NLP/lib/python3.8/site-packages (from bpideep==1.0) (1.4.1)\n",
      "Requirement already satisfied: ipdb in /Users/admin/.pyenv/versions/3.8.5/envs/data/envs/NLP/lib/python3.8/site-packages (from bpideep==1.0) (0.13.4)\n",
      "Requirement already satisfied: zope.interface in /Users/admin/.pyenv/versions/3.8.5/envs/data/envs/NLP/lib/python3.8/site-packages (from datetime->bpideep==1.0) (5.2.0)\n",
      "Requirement already satisfied: pytz in /Users/admin/.pyenv/versions/3.8.5/envs/data/envs/NLP/lib/python3.8/site-packages (from datetime->bpideep==1.0) (2020.4)\n",
      "Requirement already satisfied: Jinja2>=2.10.1 in /Users/admin/.pyenv/versions/3.8.5/envs/data/envs/NLP/lib/python3.8/site-packages (from Flask->bpideep==1.0) (2.11.2)\n",
      "Requirement already satisfied: Werkzeug>=0.15 in /Users/admin/.pyenv/versions/3.8.5/envs/data/envs/NLP/lib/python3.8/site-packages (from Flask->bpideep==1.0) (1.0.1)\n",
      "Requirement already satisfied: click>=5.1 in /Users/admin/.pyenv/versions/3.8.5/envs/data/envs/NLP/lib/python3.8/site-packages (from Flask->bpideep==1.0) (7.1.2)\n",
      "Requirement already satisfied: itsdangerous>=0.24 in /Users/admin/.pyenv/versions/3.8.5/envs/data/envs/NLP/lib/python3.8/site-packages (from Flask->bpideep==1.0) (1.1.0)\n",
      "Requirement already satisfied: Flask in /Users/admin/.pyenv/versions/3.8.5/envs/data/envs/NLP/lib/python3.8/site-packages (from bpideep==1.0) (1.1.2)\n",
      "Requirement already satisfied: Six in /Users/admin/.pyenv/versions/3.8.5/envs/data/envs/NLP/lib/python3.8/site-packages (from Flask-Cors->bpideep==1.0) (1.15.0)\n",
      "Requirement already satisfied: Six in /Users/admin/.pyenv/versions/3.8.5/envs/data/envs/NLP/lib/python3.8/site-packages (from Flask-Cors->bpideep==1.0) (1.15.0)\n",
      "Requirement already satisfied: google-resumable-media<2.0dev,>=0.6.0 in /Users/admin/.pyenv/versions/3.8.5/envs/data/envs/NLP/lib/python3.8/site-packages (from google-cloud-bigquery->bpideep==1.0) (1.1.0)\n",
      "Requirement already satisfied: google-api-core[grpc]<2.0.0dev,>=1.23.0 in /Users/admin/.pyenv/versions/3.8.5/envs/data/envs/NLP/lib/python3.8/site-packages (from google-cloud-bigquery->bpideep==1.0) (1.23.0)\n",
      "Requirement already satisfied: protobuf>=3.12.0 in /Users/admin/.pyenv/versions/3.8.5/envs/data/envs/NLP/lib/python3.8/site-packages (from google-cloud-bigquery->bpideep==1.0) (3.14.0)\n",
      "Requirement already satisfied: proto-plus>=1.10.0 in /Users/admin/.pyenv/versions/3.8.5/envs/data/envs/NLP/lib/python3.8/site-packages (from google-cloud-bigquery->bpideep==1.0) (1.11.0)\n",
      "Requirement already satisfied: google-cloud-core<2.0dev,>=1.4.1 in /Users/admin/.pyenv/versions/3.8.5/envs/data/envs/NLP/lib/python3.8/site-packages (from google-cloud-bigquery->bpideep==1.0) (1.4.3)\n",
      "Requirement already satisfied: pytz in /Users/admin/.pyenv/versions/3.8.5/envs/data/envs/NLP/lib/python3.8/site-packages (from datetime->bpideep==1.0) (2020.4)\n",
      "Requirement already satisfied: setuptools in /Users/admin/.pyenv/versions/3.8.5/envs/data/envs/NLP/lib/python3.8/site-packages (from bpideep==1.0) (47.1.0)\n",
      "Requirement already satisfied: googleapis-common-protos<2.0dev,>=1.6.0 in /Users/admin/.pyenv/versions/3.8.5/envs/data/envs/NLP/lib/python3.8/site-packages (from google-api-core[grpc]<2.0.0dev,>=1.23.0->google-cloud-bigquery->bpideep==1.0) (1.52.0)\n",
      "Requirement already satisfied: requests in /Users/admin/.pyenv/versions/3.8.5/envs/data/envs/NLP/lib/python3.8/site-packages (from bpideep==1.0) (2.25.0)\n",
      "Requirement already satisfied: Six in /Users/admin/.pyenv/versions/3.8.5/envs/data/envs/NLP/lib/python3.8/site-packages (from Flask-Cors->bpideep==1.0) (1.15.0)\n",
      "Requirement already satisfied: protobuf>=3.12.0 in /Users/admin/.pyenv/versions/3.8.5/envs/data/envs/NLP/lib/python3.8/site-packages (from google-cloud-bigquery->bpideep==1.0) (3.14.0)\n",
      "Requirement already satisfied: google-auth<2.0dev,>=1.21.1 in /Users/admin/.pyenv/versions/3.8.5/envs/data/envs/NLP/lib/python3.8/site-packages (from google-api-core[grpc]<2.0.0dev,>=1.23.0->google-cloud-bigquery->bpideep==1.0) (1.23.0)\n",
      "Requirement already satisfied: grpcio<2.0dev,>=1.29.0 in /Users/admin/.pyenv/versions/3.8.5/envs/data/envs/NLP/lib/python3.8/site-packages (from google-api-core[grpc]<2.0.0dev,>=1.23.0->google-cloud-bigquery->bpideep==1.0) (1.33.2)\n",
      "Requirement already satisfied: pytz in /Users/admin/.pyenv/versions/3.8.5/envs/data/envs/NLP/lib/python3.8/site-packages (from datetime->bpideep==1.0) (2020.4)\n",
      "Requirement already satisfied: setuptools in /Users/admin/.pyenv/versions/3.8.5/envs/data/envs/NLP/lib/python3.8/site-packages (from bpideep==1.0) (47.1.0)\n",
      "Requirement already satisfied: googleapis-common-protos<2.0dev,>=1.6.0 in /Users/admin/.pyenv/versions/3.8.5/envs/data/envs/NLP/lib/python3.8/site-packages (from google-api-core[grpc]<2.0.0dev,>=1.23.0->google-cloud-bigquery->bpideep==1.0) (1.52.0)\n",
      "Requirement already satisfied: requests in /Users/admin/.pyenv/versions/3.8.5/envs/data/envs/NLP/lib/python3.8/site-packages (from bpideep==1.0) (2.25.0)\n",
      "Requirement already satisfied: Six in /Users/admin/.pyenv/versions/3.8.5/envs/data/envs/NLP/lib/python3.8/site-packages (from Flask-Cors->bpideep==1.0) (1.15.0)\n",
      "Requirement already satisfied: protobuf>=3.12.0 in /Users/admin/.pyenv/versions/3.8.5/envs/data/envs/NLP/lib/python3.8/site-packages (from google-cloud-bigquery->bpideep==1.0) (3.14.0)\n",
      "Requirement already satisfied: google-auth<2.0dev,>=1.21.1 in /Users/admin/.pyenv/versions/3.8.5/envs/data/envs/NLP/lib/python3.8/site-packages (from google-api-core[grpc]<2.0.0dev,>=1.23.0->google-cloud-bigquery->bpideep==1.0) (1.23.0)\n",
      "Requirement already satisfied: cachetools<5.0,>=2.0.0 in /Users/admin/.pyenv/versions/3.8.5/envs/data/envs/NLP/lib/python3.8/site-packages (from google-auth<2.0dev,>=1.21.1->google-api-core[grpc]<2.0.0dev,>=1.23.0->google-cloud-bigquery->bpideep==1.0) (4.1.1)\n",
      "Requirement already satisfied: pyasn1-modules>=0.2.1 in /Users/admin/.pyenv/versions/3.8.5/envs/data/envs/NLP/lib/python3.8/site-packages (from google-auth<2.0dev,>=1.21.1->google-api-core[grpc]<2.0.0dev,>=1.23.0->google-cloud-bigquery->bpideep==1.0) (0.2.8)\n",
      "Requirement already satisfied: Six in /Users/admin/.pyenv/versions/3.8.5/envs/data/envs/NLP/lib/python3.8/site-packages (from Flask-Cors->bpideep==1.0) (1.15.0)\n",
      "Requirement already satisfied: setuptools in /Users/admin/.pyenv/versions/3.8.5/envs/data/envs/NLP/lib/python3.8/site-packages (from bpideep==1.0) (47.1.0)\n",
      "Requirement already satisfied: rsa<5,>=3.1.4 in /Users/admin/.pyenv/versions/3.8.5/envs/data/envs/NLP/lib/python3.8/site-packages (from google-auth<2.0dev,>=1.21.1->google-api-core[grpc]<2.0.0dev,>=1.23.0->google-cloud-bigquery->bpideep==1.0) (4.6)\n",
      "Requirement already satisfied: google-crc32c<2.0dev,>=1.0 in /Users/admin/.pyenv/versions/3.8.5/envs/data/envs/NLP/lib/python3.8/site-packages (from google-resumable-media<2.0dev,>=0.6.0->google-cloud-bigquery->bpideep==1.0) (1.0.0)\n",
      "Requirement already satisfied: Six in /Users/admin/.pyenv/versions/3.8.5/envs/data/envs/NLP/lib/python3.8/site-packages (from Flask-Cors->bpideep==1.0) (1.15.0)\n"
     ]
    },
    {
     "name": "stdout",
     "output_type": "stream",
     "text": [
      "Requirement already satisfied: protobuf>=3.12.0 in /Users/admin/.pyenv/versions/3.8.5/envs/data/envs/NLP/lib/python3.8/site-packages (from google-cloud-bigquery->bpideep==1.0) (3.14.0)\n",
      "Requirement already satisfied: Six in /Users/admin/.pyenv/versions/3.8.5/envs/data/envs/NLP/lib/python3.8/site-packages (from Flask-Cors->bpideep==1.0) (1.15.0)\n",
      "Requirement already satisfied: setuptools in /Users/admin/.pyenv/versions/3.8.5/envs/data/envs/NLP/lib/python3.8/site-packages (from bpideep==1.0) (47.1.0)\n",
      "Requirement already satisfied: setuptools in /Users/admin/.pyenv/versions/3.8.5/envs/data/envs/NLP/lib/python3.8/site-packages (from bpideep==1.0) (47.1.0)\n",
      "Requirement already satisfied: ipython>=5.1.0 in /Users/admin/.pyenv/versions/3.8.5/envs/data/envs/NLP/lib/python3.8/site-packages (from ipdb->bpideep==1.0) (7.19.0)\n",
      "Requirement already satisfied: traitlets>=4.2 in /Users/admin/.pyenv/versions/3.8.5/envs/data/envs/NLP/lib/python3.8/site-packages (from ipython>=5.1.0->ipdb->bpideep==1.0) (5.0.5)\n",
      "Requirement already satisfied: pickleshare in /Users/admin/.pyenv/versions/3.8.5/envs/data/envs/NLP/lib/python3.8/site-packages (from ipython>=5.1.0->ipdb->bpideep==1.0) (0.7.5)\n",
      "Requirement already satisfied: jedi>=0.10 in /Users/admin/.pyenv/versions/3.8.5/envs/data/envs/NLP/lib/python3.8/site-packages (from ipython>=5.1.0->ipdb->bpideep==1.0) (0.17.2)\n",
      "Requirement already satisfied: pygments in /Users/admin/.pyenv/versions/3.8.5/envs/data/envs/NLP/lib/python3.8/site-packages (from ipython>=5.1.0->ipdb->bpideep==1.0) (2.7.2)\n",
      "Requirement already satisfied: pexpect>4.3 in /Users/admin/.pyenv/versions/3.8.5/envs/data/envs/NLP/lib/python3.8/site-packages (from ipython>=5.1.0->ipdb->bpideep==1.0) (4.8.0)\n",
      "Requirement already satisfied: appnope in /Users/admin/.pyenv/versions/3.8.5/envs/data/envs/NLP/lib/python3.8/site-packages (from ipython>=5.1.0->ipdb->bpideep==1.0) (0.1.0)\n",
      "Requirement already satisfied: decorator in /Users/admin/.pyenv/versions/3.8.5/envs/data/envs/NLP/lib/python3.8/site-packages (from ipython>=5.1.0->ipdb->bpideep==1.0) (4.4.2)\n",
      "Requirement already satisfied: prompt-toolkit!=3.0.0,!=3.0.1,<3.1.0,>=2.0.0 in /Users/admin/.pyenv/versions/3.8.5/envs/data/envs/NLP/lib/python3.8/site-packages (from ipython>=5.1.0->ipdb->bpideep==1.0) (3.0.8)\n",
      "Requirement already satisfied: setuptools in /Users/admin/.pyenv/versions/3.8.5/envs/data/envs/NLP/lib/python3.8/site-packages (from bpideep==1.0) (47.1.0)\n",
      "Requirement already satisfied: backcall in /Users/admin/.pyenv/versions/3.8.5/envs/data/envs/NLP/lib/python3.8/site-packages (from ipython>=5.1.0->ipdb->bpideep==1.0) (0.2.0)\n",
      "Requirement already satisfied: parso<0.8.0,>=0.7.0 in /Users/admin/.pyenv/versions/3.8.5/envs/data/envs/NLP/lib/python3.8/site-packages (from jedi>=0.10->ipython>=5.1.0->ipdb->bpideep==1.0) (0.7.1)\n",
      "Requirement already satisfied: MarkupSafe>=0.23 in /Users/admin/.pyenv/versions/3.8.5/envs/data/envs/NLP/lib/python3.8/site-packages (from Jinja2>=2.10.1->Flask->bpideep==1.0) (1.1.1)\n",
      "Requirement already satisfied: pillow>=6.2.0 in /Users/admin/.pyenv/versions/3.8.5/envs/data/envs/NLP/lib/python3.8/site-packages (from matplotlib->bpideep==1.0) (8.0.1)\n",
      "Requirement already satisfied: cycler>=0.10 in /Users/admin/.pyenv/versions/3.8.5/envs/data/envs/NLP/lib/python3.8/site-packages (from matplotlib->bpideep==1.0) (0.10.0)\n",
      "Requirement already satisfied: kiwisolver>=1.0.1 in /Users/admin/.pyenv/versions/3.8.5/envs/data/envs/NLP/lib/python3.8/site-packages (from matplotlib->bpideep==1.0) (1.3.1)\n",
      "Requirement already satisfied: python-dateutil>=2.1 in /Users/admin/.pyenv/versions/3.8.5/envs/data/envs/NLP/lib/python3.8/site-packages (from matplotlib->bpideep==1.0) (2.8.1)\n",
      "Requirement already satisfied: numpy in /Users/admin/.pyenv/versions/3.8.5/envs/data/envs/NLP/lib/python3.8/site-packages (from bpideep==1.0) (1.18.5)\n",
      "Requirement already satisfied: pyparsing!=2.0.4,!=2.1.2,!=2.1.6,>=2.0.3 in /Users/admin/.pyenv/versions/3.8.5/envs/data/envs/NLP/lib/python3.8/site-packages (from matplotlib->bpideep==1.0) (2.4.7)\n",
      "Requirement already satisfied: Six in /Users/admin/.pyenv/versions/3.8.5/envs/data/envs/NLP/lib/python3.8/site-packages (from Flask-Cors->bpideep==1.0) (1.15.0)\n",
      "Requirement already satisfied: python-dateutil>=2.1 in /Users/admin/.pyenv/versions/3.8.5/envs/data/envs/NLP/lib/python3.8/site-packages (from matplotlib->bpideep==1.0) (2.8.1)\n",
      "Requirement already satisfied: numpy in /Users/admin/.pyenv/versions/3.8.5/envs/data/envs/NLP/lib/python3.8/site-packages (from bpideep==1.0) (1.18.5)\n",
      "Requirement already satisfied: pytz in /Users/admin/.pyenv/versions/3.8.5/envs/data/envs/NLP/lib/python3.8/site-packages (from datetime->bpideep==1.0) (2020.4)\n",
      "Requirement already satisfied: ptyprocess>=0.5 in /Users/admin/.pyenv/versions/3.8.5/envs/data/envs/NLP/lib/python3.8/site-packages (from pexpect>4.3->ipython>=5.1.0->ipdb->bpideep==1.0) (0.6.0)\n",
      "Requirement already satisfied: wcwidth in /Users/admin/.pyenv/versions/3.8.5/envs/data/envs/NLP/lib/python3.8/site-packages (from prompt-toolkit!=3.0.0,!=3.0.1,<3.1.0,>=2.0.0->ipython>=5.1.0->ipdb->bpideep==1.0) (0.2.5)\n",
      "Requirement already satisfied: protobuf>=3.12.0 in /Users/admin/.pyenv/versions/3.8.5/envs/data/envs/NLP/lib/python3.8/site-packages (from google-cloud-bigquery->bpideep==1.0) (3.14.0)\n",
      "Requirement already satisfied: Six in /Users/admin/.pyenv/versions/3.8.5/envs/data/envs/NLP/lib/python3.8/site-packages (from Flask-Cors->bpideep==1.0) (1.15.0)\n",
      "Requirement already satisfied: pyasn1<0.5.0,>=0.4.6 in /Users/admin/.pyenv/versions/3.8.5/envs/data/envs/NLP/lib/python3.8/site-packages (from pyasn1-modules>=0.2.1->google-auth<2.0dev,>=1.21.1->google-api-core[grpc]<2.0.0dev,>=1.23.0->google-cloud-bigquery->bpideep==1.0) (0.4.8)\n",
      "Requirement already satisfied: Six in /Users/admin/.pyenv/versions/3.8.5/envs/data/envs/NLP/lib/python3.8/site-packages (from Flask-Cors->bpideep==1.0) (1.15.0)\n",
      "Requirement already satisfied: chardet<4,>=3.0.2 in /Users/admin/.pyenv/versions/3.8.5/envs/data/envs/NLP/lib/python3.8/site-packages (from requests->bpideep==1.0) (3.0.4)\n",
      "Requirement already satisfied: certifi>=2017.4.17 in /Users/admin/.pyenv/versions/3.8.5/envs/data/envs/NLP/lib/python3.8/site-packages (from requests->bpideep==1.0) (2020.11.8)\n",
      "Requirement already satisfied: urllib3<1.27,>=1.21.1 in /Users/admin/.pyenv/versions/3.8.5/envs/data/envs/NLP/lib/python3.8/site-packages (from requests->bpideep==1.0) (1.25.11)\n",
      "Requirement already satisfied: idna<3,>=2.5 in /Users/admin/.pyenv/versions/3.8.5/envs/data/envs/NLP/lib/python3.8/site-packages (from requests->bpideep==1.0) (2.10)\n",
      "Requirement already satisfied: pyasn1<0.5.0,>=0.4.6 in /Users/admin/.pyenv/versions/3.8.5/envs/data/envs/NLP/lib/python3.8/site-packages (from pyasn1-modules>=0.2.1->google-auth<2.0dev,>=1.21.1->google-api-core[grpc]<2.0.0dev,>=1.23.0->google-cloud-bigquery->bpideep==1.0) (0.4.8)\n",
      "Requirement already satisfied: joblib in /Users/admin/.pyenv/versions/3.8.5/envs/data/envs/NLP/lib/python3.8/site-packages (from bpideep==1.0) (0.17.0)\n",
      "Requirement already satisfied: scipy>=0.19.1 in /Users/admin/.pyenv/versions/3.8.5/envs/data/envs/NLP/lib/python3.8/site-packages (from scikit-learn->bpideep==1.0) (1.5.4)\n",
      "Requirement already satisfied: threadpoolctl>=2.0.0 in /Users/admin/.pyenv/versions/3.8.5/envs/data/envs/NLP/lib/python3.8/site-packages (from scikit-learn->bpideep==1.0) (2.1.0)\n",
      "Requirement already satisfied: numpy in /Users/admin/.pyenv/versions/3.8.5/envs/data/envs/NLP/lib/python3.8/site-packages (from bpideep==1.0) (1.18.5)\n",
      "Requirement already satisfied: numpy in /Users/admin/.pyenv/versions/3.8.5/envs/data/envs/NLP/lib/python3.8/site-packages (from bpideep==1.0) (1.18.5)\n",
      "Requirement already satisfied: ipython-genutils in /Users/admin/.pyenv/versions/3.8.5/envs/data/envs/NLP/lib/python3.8/site-packages (from traitlets>=4.2->ipython>=5.1.0->ipdb->bpideep==1.0) (0.2.0)\n",
      "Requirement already satisfied: setuptools in /Users/admin/.pyenv/versions/3.8.5/envs/data/envs/NLP/lib/python3.8/site-packages (from bpideep==1.0) (47.1.0)\n",
      "Building wheels for collected packages: bpideep\n",
      "  Building wheel for bpideep (setup.py) ... \u001b[?25ldone\n",
      "\u001b[?25h  Created wheel for bpideep: filename=bpideep-1.0-py3-none-any.whl size=3213102 sha256=55368f24c984c7d71790b1b8a0c2a7d420c437216eeeee6cce22c5ef04c2ff88\n",
      "  Stored in directory: /private/var/folders/63/jgrvs5g554j3k8z2rpggymy80000gn/T/pip-ephem-wheel-cache-b0edc1o2/wheels/3c/a8/6c/083ace2ed1bd0b270918b5638c589be45a698c36a794d9b15d\n",
      "Successfully built bpideep\n"
     ]
    },
    {
     "name": "stdout",
     "output_type": "stream",
     "text": [
      "Installing collected packages: bpideep\n",
      "  Attempting uninstall: bpideep\n",
      "    Found existing installation: bpideep 1.0\n",
      "    Uninstalling bpideep-1.0:\n",
      "      Successfully uninstalled bpideep-1.0\n",
      "Successfully installed bpideep-1.0\n",
      "\u001b[33mWARNING: You are using pip version 20.3.1; however, version 20.3.3 is available.\n",
      "You should consider upgrading via the '/Users/admin/.pyenv/versions/NLP/bin/python -m pip install --upgrade pip' command.\u001b[0m\n"
     ]
    }
   ],
   "source": [
    "! pip install ..\n",
    "# or if you prefer move to that project folder (where the setup.py is) in your terminal \n",
    "# and install from there using pip install ."
   ]
  },
  {
   "cell_type": "markdown",
   "metadata": {},
   "source": [
    "Clone in the same place the package from: https://github.com/ClemenceK/deep4deep"
   ]
  },
  {
   "cell_type": "code",
   "execution_count": 5,
   "metadata": {
    "ExecuteTime": {
     "end_time": "2020-12-16T10:35:49.924200Z",
     "start_time": "2020-12-16T10:35:47.187261Z"
    },
    "collapsed": true
   },
   "outputs": [
    {
     "name": "stdout",
     "output_type": "stream",
     "text": [
      "Processing /Users/admin/code/ClemenceK/deep4deep\n",
      "Requirement already satisfied: pip>=9 in /Users/admin/.pyenv/versions/3.8.5/envs/data/envs/NLP/lib/python3.8/site-packages (from deep4deep==1.0) (20.3.1)\n",
      "Requirement already satisfied: setuptools>=26 in /Users/admin/.pyenv/versions/3.8.5/envs/data/envs/NLP/lib/python3.8/site-packages (from deep4deep==1.0) (47.1.0)\n",
      "Requirement already satisfied: twine in /Users/admin/.pyenv/versions/3.8.5/envs/data/envs/NLP/lib/python3.8/site-packages (from deep4deep==1.0) (3.2.0)\n",
      "Requirement already satisfied: wheel>=0.29 in /Users/admin/.pyenv/versions/3.8.5/envs/data/envs/NLP/lib/python3.8/site-packages (from deep4deep==1.0) (0.36.0)\n",
      "Requirement already satisfied: numpy in /Users/admin/.pyenv/versions/3.8.5/envs/data/envs/NLP/lib/python3.8/site-packages (from deep4deep==1.0) (1.18.5)\n",
      "Requirement already satisfied: pandas in /Users/admin/.pyenv/versions/3.8.5/envs/data/envs/NLP/lib/python3.8/site-packages (from deep4deep==1.0) (1.1.4)\n",
      "Requirement already satisfied: scikit-learn in /Users/admin/.pyenv/versions/3.8.5/envs/data/envs/NLP/lib/python3.8/site-packages (from deep4deep==1.0) (0.23.2)\n",
      "Requirement already satisfied: jupyter in /Users/admin/.pyenv/versions/3.8.5/envs/data/envs/NLP/lib/python3.8/site-packages (from deep4deep==1.0) (1.0.0)\n",
      "Requirement already satisfied: matplotlib in /Users/admin/.pyenv/versions/3.8.5/envs/data/envs/NLP/lib/python3.8/site-packages (from deep4deep==1.0) (3.3.3)\n",
      "Requirement already satisfied: seaborn in /Users/admin/.pyenv/versions/3.8.5/envs/data/envs/NLP/lib/python3.8/site-packages (from deep4deep==1.0) (0.11.0)\n",
      "Requirement already satisfied: black in /Users/admin/.pyenv/versions/3.8.5/envs/data/envs/NLP/lib/python3.8/site-packages (from deep4deep==1.0) (20.8b1)\n",
      "Requirement already satisfied: coverage in /Users/admin/.pyenv/versions/3.8.5/envs/data/envs/NLP/lib/python3.8/site-packages (from deep4deep==1.0) (5.3)\n",
      "Requirement already satisfied: flake8 in /Users/admin/.pyenv/versions/3.8.5/envs/data/envs/NLP/lib/python3.8/site-packages (from deep4deep==1.0) (3.8.4)\n",
      "Requirement already satisfied: pytest in /Users/admin/.pyenv/versions/3.8.5/envs/data/envs/NLP/lib/python3.8/site-packages (from deep4deep==1.0) (6.1.2)\n",
      "Requirement already satisfied: yapf in /Users/admin/.pyenv/versions/3.8.5/envs/data/envs/NLP/lib/python3.8/site-packages (from deep4deep==1.0) (0.30.0)\n",
      "Requirement already satisfied: gcsfs in /Users/admin/.pyenv/versions/3.8.5/envs/data/envs/NLP/lib/python3.8/site-packages (from deep4deep==1.0) (0.7.1)\n",
      "Requirement already satisfied: google-cloud-storage in /Users/admin/.pyenv/versions/3.8.5/envs/data/envs/NLP/lib/python3.8/site-packages (from deep4deep==1.0) (1.33.0)\n",
      "Requirement already satisfied: mlflow in /Users/admin/.pyenv/versions/3.8.5/envs/data/envs/NLP/lib/python3.8/site-packages (from deep4deep==1.0) (1.12.1)\n",
      "Requirement already satisfied: s3fs in /Users/admin/.pyenv/versions/3.8.5/envs/data/envs/NLP/lib/python3.8/site-packages (from deep4deep==1.0) (0.5.1)\n",
      "Requirement already satisfied: pdfminer in /Users/admin/.pyenv/versions/3.8.5/envs/data/envs/NLP/lib/python3.8/site-packages (from deep4deep==1.0) (20191125)\n",
      "\u001b[31mERROR: Could not find a version that satisfies the requirement csv (from deep4deep)\u001b[0m\n",
      "\u001b[31mERROR: No matching distribution found for csv\u001b[0m\n",
      "\u001b[33mWARNING: You are using pip version 20.3.1; however, version 20.3.3 is available.\n",
      "You should consider upgrading via the '/Users/admin/.pyenv/versions/NLP/bin/python -m pip install --upgrade pip' command.\u001b[0m\n"
     ]
    }
   ],
   "source": [
    "# install the bpifrance_deeptech_analysis package from here…\n",
    "! pip install ../../deep4deep/\n",
    "# or if you prefer move to that project folder (where the setup.py is) in your terminal \n",
    "# and install from there using pip install ."
   ]
  },
  {
   "cell_type": "code",
   "execution_count": 8,
   "metadata": {
    "ExecuteTime": {
     "end_time": "2020-12-16T10:42:13.876028Z",
     "start_time": "2020-12-16T10:42:13.868848Z"
    }
   },
   "outputs": [
    {
     "name": "stdout",
     "output_type": "stream",
     "text": [
      "It works if below is printed something like: test 0.0, or another figure\n",
      "test 0.0\n"
     ]
    }
   ],
   "source": [
    "#this can be used to test if the import worked\n",
    "from deep4deep.utils import simple_time_tracker\n",
    "\n",
    "@simple_time_tracker\n",
    "def test():\n",
    "    print(\"It works if below is printed something like: test 0.0, or another figure\")\n",
    "    \n",
    "test()"
   ]
  },
  {
   "cell_type": "code",
   "execution_count": null,
   "metadata": {},
   "outputs": [],
   "source": []
  },
  {
   "cell_type": "markdown",
   "metadata": {},
   "source": [
    "## Building the base data from dealroom"
   ]
  },
  {
   "cell_type": "markdown",
   "metadata": {},
   "source": [
    "Input must be of the form:\n",
    "[TODO Cath] liste de noms d'entreprises ou d'id dealroom…\n",
    "\n",
    "Then use functions:\n",
    "[TODO Cath]"
   ]
  },
  {
   "cell_type": "markdown",
   "metadata": {},
   "source": [
    "At this point the data should be like this:\n",
    "[TODO Cath/check Flo]"
   ]
  },
  {
   "cell_type": "markdown",
   "metadata": {},
   "source": [
    "## Scraping and adding the LinkedIn data"
   ]
  },
  {
   "cell_type": "markdown",
   "metadata": {},
   "source": [
    "[TODO Flo]"
   ]
  },
  {
   "cell_type": "markdown",
   "metadata": {
    "ExecuteTime": {
     "end_time": "2020-12-16T09:48:56.126287Z",
     "start_time": "2020-12-16T09:48:56.119249Z"
    }
   },
   "source": [
    "At this point the data should be like this:\n",
    "[TODO Flo/Cath]"
   ]
  },
  {
   "cell_type": "markdown",
   "metadata": {},
   "source": [
    "## Checking the NaNs"
   ]
  },
  {
   "cell_type": "markdown",
   "metadata": {},
   "source": [
    "It is always best to have real data, even approximated and filled manually. \n",
    "However, for some cells, the pipeline will be able to fill in the missing data, using the average or most frequent data in the training set. It is allowed to have empty or NaN cells for the following fields:\n",
    " \n",
    "+ \n",
    "+ \n",
    "+ \n",
    "\n",
    "If you have empty cells in any other fields, the model will throw an error, so make sure to fill them."
   ]
  },
  {
   "cell_type": "markdown",
   "metadata": {},
   "source": [
    "## Using the main model to predict whether the company is deeptech"
   ]
  },
  {
   "cell_type": "markdown",
   "metadata": {
    "ExecuteTime": {
     "end_time": "2020-12-16T09:48:56.126287Z",
     "start_time": "2020-12-16T09:48:56.119249Z"
    }
   },
   "source": [
    "Then use the following functions:\n",
    "[TODO Cath]"
   ]
  },
  {
   "cell_type": "markdown",
   "metadata": {},
   "source": [
    "## Scraping and using text data"
   ]
  },
  {
   "cell_type": "markdown",
   "metadata": {},
   "source": [
    "The input needs to have the following fields:\n",
    "[TODO]"
   ]
  },
  {
   "cell_type": "markdown",
   "metadata": {},
   "source": [
    "Then use the following functions:"
   ]
  },
  {
   "cell_type": "code",
   "execution_count": null,
   "metadata": {},
   "outputs": [],
   "source": []
  },
  {
   "cell_type": "markdown",
   "metadata": {},
   "source": [
    "## Using the NLP model to predict whether the company is deeptech"
   ]
  },
  {
   "cell_type": "markdown",
   "metadata": {},
   "source": [
    "## Making the two predictions \"vote\" for final prediction"
   ]
  },
  {
   "cell_type": "code",
   "execution_count": null,
   "metadata": {},
   "outputs": [],
   "source": []
  }
 ],
 "metadata": {
  "kernelspec": {
   "display_name": "Python 3",
   "language": "python",
   "name": "python3"
  },
  "language_info": {
   "codemirror_mode": {
    "name": "ipython",
    "version": 3
   },
   "file_extension": ".py",
   "mimetype": "text/x-python",
   "name": "python",
   "nbconvert_exporter": "python",
   "pygments_lexer": "ipython3",
   "version": "3.8.5"
  },
  "toc": {
   "base_numbering": 1,
   "nav_menu": {},
   "number_sections": true,
   "sideBar": true,
   "skip_h1_title": false,
   "title_cell": "Table of Contents",
   "title_sidebar": "Contents",
   "toc_cell": false,
   "toc_position": {},
   "toc_section_display": true,
   "toc_window_display": false
  }
 },
 "nbformat": 4,
 "nbformat_minor": 4
}
